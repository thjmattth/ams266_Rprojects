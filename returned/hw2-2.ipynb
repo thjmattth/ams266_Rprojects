{
 "cells": [
  {
   "cell_type": "markdown",
   "metadata": {},
   "source": [
    "Before you turn this problem set in, make sure everything runs as expected. First, **restart the kernel** (in the menubar, select Kernel$\\rightarrow$Restart) and then **run all cells** (in the menubar, select Cell$\\rightarrow$Run All). Note that in code sections, you must replace `stop(\"Not Implemented\")` with your code. Otherwise, you will have points automatically deducted in the grading process.\n",
    "\n",
    "**Please do not rename this file.**\n",
    "\n",
    "Make sure you fill in any place that says `YOUR CODE HERE` or \"YOUR ANSWER/EXPLANATION HERE\", as well as your name below:"
   ]
  },
  {
   "cell_type": "code",
   "execution_count": 2,
   "metadata": {
    "collapsed": true
   },
   "outputs": [],
   "source": [
    "NAME = \"Reihaneh TorkzadehMahani\""
   ]
  },
  {
   "cell_type": "markdown",
   "metadata": {},
   "source": [
    "Reihaneh TorkzadehMahani"
   ]
  },
  {
   "cell_type": "markdown",
   "metadata": {
    "deletable": false,
    "editable": false,
    "nbgrader": {
     "checksum": "ba411a1e5d2344c75a0e0ec7dfc192e6",
     "grade": false,
     "grade_id": "problem_1",
     "locked": true,
     "schema_version": 1,
     "solution": false
    }
   },
   "source": [
    "# Problem 1\n",
    "\n",
    "The data frame `iris` is built into base R. Write code to create two data frames:\n",
    "\n",
    "- One data frame with only the setosa and virginica species. Give this data frame the name `SV`. Remove the `Petal.Width` variable from the data frame.\n",
    "- One data frame with only the versicolor and virginica species. Give this data frame the name `VV`. Remove the `Sepal.Length` variable from this data frame. \n",
    "\n",
    "Hint: This is easiest using the `subset` function."
   ]
  },
  {
   "cell_type": "code",
   "execution_count": 3,
   "metadata": {
    "deletable": false,
    "nbgrader": {
     "checksum": "bfea71d7a91219d07b35184c5adb958b",
     "grade": true,
     "grade_id": "problem_1_code",
     "locked": false,
     "points": 1,
     "schema_version": 1,
     "solution": true
    }
   },
   "outputs": [
    {
     "data": {
      "text/html": [
       "<table>\n",
       "<thead><tr><th></th><th scope=col>Sepal.Length</th><th scope=col>Sepal.Width</th><th scope=col>Petal.Length</th><th scope=col>Species</th></tr></thead>\n",
       "<tbody>\n",
       "\t<tr><th scope=row>1</th><td>5.1   </td><td>3.5   </td><td>1.4   </td><td>setosa</td></tr>\n",
       "\t<tr><th scope=row>2</th><td>4.9   </td><td>3.0   </td><td>1.4   </td><td>setosa</td></tr>\n",
       "\t<tr><th scope=row>3</th><td>4.7   </td><td>3.2   </td><td>1.3   </td><td>setosa</td></tr>\n",
       "\t<tr><th scope=row>4</th><td>4.6   </td><td>3.1   </td><td>1.5   </td><td>setosa</td></tr>\n",
       "\t<tr><th scope=row>5</th><td>5.0   </td><td>3.6   </td><td>1.4   </td><td>setosa</td></tr>\n",
       "\t<tr><th scope=row>6</th><td>5.4   </td><td>3.9   </td><td>1.7   </td><td>setosa</td></tr>\n",
       "\t<tr><th scope=row>7</th><td>4.6   </td><td>3.4   </td><td>1.4   </td><td>setosa</td></tr>\n",
       "\t<tr><th scope=row>8</th><td>5.0   </td><td>3.4   </td><td>1.5   </td><td>setosa</td></tr>\n",
       "\t<tr><th scope=row>9</th><td>4.4   </td><td>2.9   </td><td>1.4   </td><td>setosa</td></tr>\n",
       "\t<tr><th scope=row>10</th><td>4.9   </td><td>3.1   </td><td>1.5   </td><td>setosa</td></tr>\n",
       "\t<tr><th scope=row>11</th><td>5.4   </td><td>3.7   </td><td>1.5   </td><td>setosa</td></tr>\n",
       "\t<tr><th scope=row>12</th><td>4.8   </td><td>3.4   </td><td>1.6   </td><td>setosa</td></tr>\n",
       "\t<tr><th scope=row>13</th><td>4.8   </td><td>3.0   </td><td>1.4   </td><td>setosa</td></tr>\n",
       "\t<tr><th scope=row>14</th><td>4.3   </td><td>3.0   </td><td>1.1   </td><td>setosa</td></tr>\n",
       "\t<tr><th scope=row>15</th><td>5.8   </td><td>4.0   </td><td>1.2   </td><td>setosa</td></tr>\n",
       "\t<tr><th scope=row>16</th><td>5.7   </td><td>4.4   </td><td>1.5   </td><td>setosa</td></tr>\n",
       "\t<tr><th scope=row>17</th><td>5.4   </td><td>3.9   </td><td>1.3   </td><td>setosa</td></tr>\n",
       "\t<tr><th scope=row>18</th><td>5.1   </td><td>3.5   </td><td>1.4   </td><td>setosa</td></tr>\n",
       "\t<tr><th scope=row>19</th><td>5.7   </td><td>3.8   </td><td>1.7   </td><td>setosa</td></tr>\n",
       "\t<tr><th scope=row>20</th><td>5.1   </td><td>3.8   </td><td>1.5   </td><td>setosa</td></tr>\n",
       "\t<tr><th scope=row>21</th><td>5.4   </td><td>3.4   </td><td>1.7   </td><td>setosa</td></tr>\n",
       "\t<tr><th scope=row>22</th><td>5.1   </td><td>3.7   </td><td>1.5   </td><td>setosa</td></tr>\n",
       "\t<tr><th scope=row>23</th><td>4.6   </td><td>3.6   </td><td>1.0   </td><td>setosa</td></tr>\n",
       "\t<tr><th scope=row>24</th><td>5.1   </td><td>3.3   </td><td>1.7   </td><td>setosa</td></tr>\n",
       "\t<tr><th scope=row>25</th><td>4.8   </td><td>3.4   </td><td>1.9   </td><td>setosa</td></tr>\n",
       "\t<tr><th scope=row>26</th><td>5.0   </td><td>3.0   </td><td>1.6   </td><td>setosa</td></tr>\n",
       "\t<tr><th scope=row>27</th><td>5.0   </td><td>3.4   </td><td>1.6   </td><td>setosa</td></tr>\n",
       "\t<tr><th scope=row>28</th><td>5.2   </td><td>3.5   </td><td>1.5   </td><td>setosa</td></tr>\n",
       "\t<tr><th scope=row>29</th><td>5.2   </td><td>3.4   </td><td>1.4   </td><td>setosa</td></tr>\n",
       "\t<tr><th scope=row>30</th><td>4.7   </td><td>3.2   </td><td>1.6   </td><td>setosa</td></tr>\n",
       "\t<tr><th scope=row>⋮</th><td>⋮</td><td>⋮</td><td>⋮</td><td>⋮</td></tr>\n",
       "\t<tr><th scope=row>121</th><td>6.9      </td><td>3.2      </td><td>5.7      </td><td>virginica</td></tr>\n",
       "\t<tr><th scope=row>122</th><td>5.6      </td><td>2.8      </td><td>4.9      </td><td>virginica</td></tr>\n",
       "\t<tr><th scope=row>123</th><td>7.7      </td><td>2.8      </td><td>6.7      </td><td>virginica</td></tr>\n",
       "\t<tr><th scope=row>124</th><td>6.3      </td><td>2.7      </td><td>4.9      </td><td>virginica</td></tr>\n",
       "\t<tr><th scope=row>125</th><td>6.7      </td><td>3.3      </td><td>5.7      </td><td>virginica</td></tr>\n",
       "\t<tr><th scope=row>126</th><td>7.2      </td><td>3.2      </td><td>6.0      </td><td>virginica</td></tr>\n",
       "\t<tr><th scope=row>127</th><td>6.2      </td><td>2.8      </td><td>4.8      </td><td>virginica</td></tr>\n",
       "\t<tr><th scope=row>128</th><td>6.1      </td><td>3.0      </td><td>4.9      </td><td>virginica</td></tr>\n",
       "\t<tr><th scope=row>129</th><td>6.4      </td><td>2.8      </td><td>5.6      </td><td>virginica</td></tr>\n",
       "\t<tr><th scope=row>130</th><td>7.2      </td><td>3.0      </td><td>5.8      </td><td>virginica</td></tr>\n",
       "\t<tr><th scope=row>131</th><td>7.4      </td><td>2.8      </td><td>6.1      </td><td>virginica</td></tr>\n",
       "\t<tr><th scope=row>132</th><td>7.9      </td><td>3.8      </td><td>6.4      </td><td>virginica</td></tr>\n",
       "\t<tr><th scope=row>133</th><td>6.4      </td><td>2.8      </td><td>5.6      </td><td>virginica</td></tr>\n",
       "\t<tr><th scope=row>134</th><td>6.3      </td><td>2.8      </td><td>5.1      </td><td>virginica</td></tr>\n",
       "\t<tr><th scope=row>135</th><td>6.1      </td><td>2.6      </td><td>5.6      </td><td>virginica</td></tr>\n",
       "\t<tr><th scope=row>136</th><td>7.7      </td><td>3.0      </td><td>6.1      </td><td>virginica</td></tr>\n",
       "\t<tr><th scope=row>137</th><td>6.3      </td><td>3.4      </td><td>5.6      </td><td>virginica</td></tr>\n",
       "\t<tr><th scope=row>138</th><td>6.4      </td><td>3.1      </td><td>5.5      </td><td>virginica</td></tr>\n",
       "\t<tr><th scope=row>139</th><td>6.0      </td><td>3.0      </td><td>4.8      </td><td>virginica</td></tr>\n",
       "\t<tr><th scope=row>140</th><td>6.9      </td><td>3.1      </td><td>5.4      </td><td>virginica</td></tr>\n",
       "\t<tr><th scope=row>141</th><td>6.7      </td><td>3.1      </td><td>5.6      </td><td>virginica</td></tr>\n",
       "\t<tr><th scope=row>142</th><td>6.9      </td><td>3.1      </td><td>5.1      </td><td>virginica</td></tr>\n",
       "\t<tr><th scope=row>143</th><td>5.8      </td><td>2.7      </td><td>5.1      </td><td>virginica</td></tr>\n",
       "\t<tr><th scope=row>144</th><td>6.8      </td><td>3.2      </td><td>5.9      </td><td>virginica</td></tr>\n",
       "\t<tr><th scope=row>145</th><td>6.7      </td><td>3.3      </td><td>5.7      </td><td>virginica</td></tr>\n",
       "\t<tr><th scope=row>146</th><td>6.7      </td><td>3.0      </td><td>5.2      </td><td>virginica</td></tr>\n",
       "\t<tr><th scope=row>147</th><td>6.3      </td><td>2.5      </td><td>5.0      </td><td>virginica</td></tr>\n",
       "\t<tr><th scope=row>148</th><td>6.5      </td><td>3.0      </td><td>5.2      </td><td>virginica</td></tr>\n",
       "\t<tr><th scope=row>149</th><td>6.2      </td><td>3.4      </td><td>5.4      </td><td>virginica</td></tr>\n",
       "\t<tr><th scope=row>150</th><td>5.9      </td><td>3.0      </td><td>5.1      </td><td>virginica</td></tr>\n",
       "</tbody>\n",
       "</table>\n"
      ],
      "text/latex": [
       "\\begin{tabular}{r|llll}\n",
       "  & Sepal.Length & Sepal.Width & Petal.Length & Species\\\\\n",
       "\\hline\n",
       "\t1 & 5.1    & 3.5    & 1.4    & setosa\\\\\n",
       "\t2 & 4.9    & 3.0    & 1.4    & setosa\\\\\n",
       "\t3 & 4.7    & 3.2    & 1.3    & setosa\\\\\n",
       "\t4 & 4.6    & 3.1    & 1.5    & setosa\\\\\n",
       "\t5 & 5.0    & 3.6    & 1.4    & setosa\\\\\n",
       "\t6 & 5.4    & 3.9    & 1.7    & setosa\\\\\n",
       "\t7 & 4.6    & 3.4    & 1.4    & setosa\\\\\n",
       "\t8 & 5.0    & 3.4    & 1.5    & setosa\\\\\n",
       "\t9 & 4.4    & 2.9    & 1.4    & setosa\\\\\n",
       "\t10 & 4.9    & 3.1    & 1.5    & setosa\\\\\n",
       "\t11 & 5.4    & 3.7    & 1.5    & setosa\\\\\n",
       "\t12 & 4.8    & 3.4    & 1.6    & setosa\\\\\n",
       "\t13 & 4.8    & 3.0    & 1.4    & setosa\\\\\n",
       "\t14 & 4.3    & 3.0    & 1.1    & setosa\\\\\n",
       "\t15 & 5.8    & 4.0    & 1.2    & setosa\\\\\n",
       "\t16 & 5.7    & 4.4    & 1.5    & setosa\\\\\n",
       "\t17 & 5.4    & 3.9    & 1.3    & setosa\\\\\n",
       "\t18 & 5.1    & 3.5    & 1.4    & setosa\\\\\n",
       "\t19 & 5.7    & 3.8    & 1.7    & setosa\\\\\n",
       "\t20 & 5.1    & 3.8    & 1.5    & setosa\\\\\n",
       "\t21 & 5.4    & 3.4    & 1.7    & setosa\\\\\n",
       "\t22 & 5.1    & 3.7    & 1.5    & setosa\\\\\n",
       "\t23 & 4.6    & 3.6    & 1.0    & setosa\\\\\n",
       "\t24 & 5.1    & 3.3    & 1.7    & setosa\\\\\n",
       "\t25 & 4.8    & 3.4    & 1.9    & setosa\\\\\n",
       "\t26 & 5.0    & 3.0    & 1.6    & setosa\\\\\n",
       "\t27 & 5.0    & 3.4    & 1.6    & setosa\\\\\n",
       "\t28 & 5.2    & 3.5    & 1.5    & setosa\\\\\n",
       "\t29 & 5.2    & 3.4    & 1.4    & setosa\\\\\n",
       "\t30 & 4.7    & 3.2    & 1.6    & setosa\\\\\n",
       "\t⋮ & ⋮ & ⋮ & ⋮ & ⋮\\\\\n",
       "\t121 & 6.9       & 3.2       & 5.7       & virginica\\\\\n",
       "\t122 & 5.6       & 2.8       & 4.9       & virginica\\\\\n",
       "\t123 & 7.7       & 2.8       & 6.7       & virginica\\\\\n",
       "\t124 & 6.3       & 2.7       & 4.9       & virginica\\\\\n",
       "\t125 & 6.7       & 3.3       & 5.7       & virginica\\\\\n",
       "\t126 & 7.2       & 3.2       & 6.0       & virginica\\\\\n",
       "\t127 & 6.2       & 2.8       & 4.8       & virginica\\\\\n",
       "\t128 & 6.1       & 3.0       & 4.9       & virginica\\\\\n",
       "\t129 & 6.4       & 2.8       & 5.6       & virginica\\\\\n",
       "\t130 & 7.2       & 3.0       & 5.8       & virginica\\\\\n",
       "\t131 & 7.4       & 2.8       & 6.1       & virginica\\\\\n",
       "\t132 & 7.9       & 3.8       & 6.4       & virginica\\\\\n",
       "\t133 & 6.4       & 2.8       & 5.6       & virginica\\\\\n",
       "\t134 & 6.3       & 2.8       & 5.1       & virginica\\\\\n",
       "\t135 & 6.1       & 2.6       & 5.6       & virginica\\\\\n",
       "\t136 & 7.7       & 3.0       & 6.1       & virginica\\\\\n",
       "\t137 & 6.3       & 3.4       & 5.6       & virginica\\\\\n",
       "\t138 & 6.4       & 3.1       & 5.5       & virginica\\\\\n",
       "\t139 & 6.0       & 3.0       & 4.8       & virginica\\\\\n",
       "\t140 & 6.9       & 3.1       & 5.4       & virginica\\\\\n",
       "\t141 & 6.7       & 3.1       & 5.6       & virginica\\\\\n",
       "\t142 & 6.9       & 3.1       & 5.1       & virginica\\\\\n",
       "\t143 & 5.8       & 2.7       & 5.1       & virginica\\\\\n",
       "\t144 & 6.8       & 3.2       & 5.9       & virginica\\\\\n",
       "\t145 & 6.7       & 3.3       & 5.7       & virginica\\\\\n",
       "\t146 & 6.7       & 3.0       & 5.2       & virginica\\\\\n",
       "\t147 & 6.3       & 2.5       & 5.0       & virginica\\\\\n",
       "\t148 & 6.5       & 3.0       & 5.2       & virginica\\\\\n",
       "\t149 & 6.2       & 3.4       & 5.4       & virginica\\\\\n",
       "\t150 & 5.9       & 3.0       & 5.1       & virginica\\\\\n",
       "\\end{tabular}\n"
      ],
      "text/markdown": [
       "\n",
       "| <!--/--> | Sepal.Length | Sepal.Width | Petal.Length | Species | \n",
       "|---|---|---|---|---|---|---|---|---|---|---|---|---|---|---|---|---|---|---|---|---|---|---|---|---|---|---|---|---|---|---|---|---|---|---|---|---|---|---|---|---|---|---|---|---|---|---|---|---|---|---|---|---|---|---|---|---|---|---|---|---|\n",
       "| 1 | 5.1    | 3.5    | 1.4    | setosa | \n",
       "| 2 | 4.9    | 3.0    | 1.4    | setosa | \n",
       "| 3 | 4.7    | 3.2    | 1.3    | setosa | \n",
       "| 4 | 4.6    | 3.1    | 1.5    | setosa | \n",
       "| 5 | 5.0    | 3.6    | 1.4    | setosa | \n",
       "| 6 | 5.4    | 3.9    | 1.7    | setosa | \n",
       "| 7 | 4.6    | 3.4    | 1.4    | setosa | \n",
       "| 8 | 5.0    | 3.4    | 1.5    | setosa | \n",
       "| 9 | 4.4    | 2.9    | 1.4    | setosa | \n",
       "| 10 | 4.9    | 3.1    | 1.5    | setosa | \n",
       "| 11 | 5.4    | 3.7    | 1.5    | setosa | \n",
       "| 12 | 4.8    | 3.4    | 1.6    | setosa | \n",
       "| 13 | 4.8    | 3.0    | 1.4    | setosa | \n",
       "| 14 | 4.3    | 3.0    | 1.1    | setosa | \n",
       "| 15 | 5.8    | 4.0    | 1.2    | setosa | \n",
       "| 16 | 5.7    | 4.4    | 1.5    | setosa | \n",
       "| 17 | 5.4    | 3.9    | 1.3    | setosa | \n",
       "| 18 | 5.1    | 3.5    | 1.4    | setosa | \n",
       "| 19 | 5.7    | 3.8    | 1.7    | setosa | \n",
       "| 20 | 5.1    | 3.8    | 1.5    | setosa | \n",
       "| 21 | 5.4    | 3.4    | 1.7    | setosa | \n",
       "| 22 | 5.1    | 3.7    | 1.5    | setosa | \n",
       "| 23 | 4.6    | 3.6    | 1.0    | setosa | \n",
       "| 24 | 5.1    | 3.3    | 1.7    | setosa | \n",
       "| 25 | 4.8    | 3.4    | 1.9    | setosa | \n",
       "| 26 | 5.0    | 3.0    | 1.6    | setosa | \n",
       "| 27 | 5.0    | 3.4    | 1.6    | setosa | \n",
       "| 28 | 5.2    | 3.5    | 1.5    | setosa | \n",
       "| 29 | 5.2    | 3.4    | 1.4    | setosa | \n",
       "| 30 | 4.7    | 3.2    | 1.6    | setosa | \n",
       "| ⋮ | ⋮ | ⋮ | ⋮ | ⋮ | \n",
       "| 121 | 6.9       | 3.2       | 5.7       | virginica | \n",
       "| 122 | 5.6       | 2.8       | 4.9       | virginica | \n",
       "| 123 | 7.7       | 2.8       | 6.7       | virginica | \n",
       "| 124 | 6.3       | 2.7       | 4.9       | virginica | \n",
       "| 125 | 6.7       | 3.3       | 5.7       | virginica | \n",
       "| 126 | 7.2       | 3.2       | 6.0       | virginica | \n",
       "| 127 | 6.2       | 2.8       | 4.8       | virginica | \n",
       "| 128 | 6.1       | 3.0       | 4.9       | virginica | \n",
       "| 129 | 6.4       | 2.8       | 5.6       | virginica | \n",
       "| 130 | 7.2       | 3.0       | 5.8       | virginica | \n",
       "| 131 | 7.4       | 2.8       | 6.1       | virginica | \n",
       "| 132 | 7.9       | 3.8       | 6.4       | virginica | \n",
       "| 133 | 6.4       | 2.8       | 5.6       | virginica | \n",
       "| 134 | 6.3       | 2.8       | 5.1       | virginica | \n",
       "| 135 | 6.1       | 2.6       | 5.6       | virginica | \n",
       "| 136 | 7.7       | 3.0       | 6.1       | virginica | \n",
       "| 137 | 6.3       | 3.4       | 5.6       | virginica | \n",
       "| 138 | 6.4       | 3.1       | 5.5       | virginica | \n",
       "| 139 | 6.0       | 3.0       | 4.8       | virginica | \n",
       "| 140 | 6.9       | 3.1       | 5.4       | virginica | \n",
       "| 141 | 6.7       | 3.1       | 5.6       | virginica | \n",
       "| 142 | 6.9       | 3.1       | 5.1       | virginica | \n",
       "| 143 | 5.8       | 2.7       | 5.1       | virginica | \n",
       "| 144 | 6.8       | 3.2       | 5.9       | virginica | \n",
       "| 145 | 6.7       | 3.3       | 5.7       | virginica | \n",
       "| 146 | 6.7       | 3.0       | 5.2       | virginica | \n",
       "| 147 | 6.3       | 2.5       | 5.0       | virginica | \n",
       "| 148 | 6.5       | 3.0       | 5.2       | virginica | \n",
       "| 149 | 6.2       | 3.4       | 5.4       | virginica | \n",
       "| 150 | 5.9       | 3.0       | 5.1       | virginica | \n",
       "\n",
       "\n"
      ],
      "text/plain": [
       "    Sepal.Length Sepal.Width Petal.Length Species  \n",
       "1   5.1          3.5         1.4          setosa   \n",
       "2   4.9          3.0         1.4          setosa   \n",
       "3   4.7          3.2         1.3          setosa   \n",
       "4   4.6          3.1         1.5          setosa   \n",
       "5   5.0          3.6         1.4          setosa   \n",
       "6   5.4          3.9         1.7          setosa   \n",
       "7   4.6          3.4         1.4          setosa   \n",
       "8   5.0          3.4         1.5          setosa   \n",
       "9   4.4          2.9         1.4          setosa   \n",
       "10  4.9          3.1         1.5          setosa   \n",
       "11  5.4          3.7         1.5          setosa   \n",
       "12  4.8          3.4         1.6          setosa   \n",
       "13  4.8          3.0         1.4          setosa   \n",
       "14  4.3          3.0         1.1          setosa   \n",
       "15  5.8          4.0         1.2          setosa   \n",
       "16  5.7          4.4         1.5          setosa   \n",
       "17  5.4          3.9         1.3          setosa   \n",
       "18  5.1          3.5         1.4          setosa   \n",
       "19  5.7          3.8         1.7          setosa   \n",
       "20  5.1          3.8         1.5          setosa   \n",
       "21  5.4          3.4         1.7          setosa   \n",
       "22  5.1          3.7         1.5          setosa   \n",
       "23  4.6          3.6         1.0          setosa   \n",
       "24  5.1          3.3         1.7          setosa   \n",
       "25  4.8          3.4         1.9          setosa   \n",
       "26  5.0          3.0         1.6          setosa   \n",
       "27  5.0          3.4         1.6          setosa   \n",
       "28  5.2          3.5         1.5          setosa   \n",
       "29  5.2          3.4         1.4          setosa   \n",
       "30  4.7          3.2         1.6          setosa   \n",
       "⋮   ⋮            ⋮           ⋮            ⋮        \n",
       "121 6.9          3.2         5.7          virginica\n",
       "122 5.6          2.8         4.9          virginica\n",
       "123 7.7          2.8         6.7          virginica\n",
       "124 6.3          2.7         4.9          virginica\n",
       "125 6.7          3.3         5.7          virginica\n",
       "126 7.2          3.2         6.0          virginica\n",
       "127 6.2          2.8         4.8          virginica\n",
       "128 6.1          3.0         4.9          virginica\n",
       "129 6.4          2.8         5.6          virginica\n",
       "130 7.2          3.0         5.8          virginica\n",
       "131 7.4          2.8         6.1          virginica\n",
       "132 7.9          3.8         6.4          virginica\n",
       "133 6.4          2.8         5.6          virginica\n",
       "134 6.3          2.8         5.1          virginica\n",
       "135 6.1          2.6         5.6          virginica\n",
       "136 7.7          3.0         6.1          virginica\n",
       "137 6.3          3.4         5.6          virginica\n",
       "138 6.4          3.1         5.5          virginica\n",
       "139 6.0          3.0         4.8          virginica\n",
       "140 6.9          3.1         5.4          virginica\n",
       "141 6.7          3.1         5.6          virginica\n",
       "142 6.9          3.1         5.1          virginica\n",
       "143 5.8          2.7         5.1          virginica\n",
       "144 6.8          3.2         5.9          virginica\n",
       "145 6.7          3.3         5.7          virginica\n",
       "146 6.7          3.0         5.2          virginica\n",
       "147 6.3          2.5         5.0          virginica\n",
       "148 6.5          3.0         5.2          virginica\n",
       "149 6.2          3.4         5.4          virginica\n",
       "150 5.9          3.0         5.1          virginica"
      ]
     },
     "metadata": {},
     "output_type": "display_data"
    },
    {
     "data": {
      "text/html": [
       "<table>\n",
       "<thead><tr><th></th><th scope=col>Sepal.Width</th><th scope=col>Petal.Length</th><th scope=col>Petal.Width</th><th scope=col>Species</th></tr></thead>\n",
       "<tbody>\n",
       "\t<tr><th scope=row>51</th><td>3.2       </td><td>4.7       </td><td>1.4       </td><td>versicolor</td></tr>\n",
       "\t<tr><th scope=row>52</th><td>3.2       </td><td>4.5       </td><td>1.5       </td><td>versicolor</td></tr>\n",
       "\t<tr><th scope=row>53</th><td>3.1       </td><td>4.9       </td><td>1.5       </td><td>versicolor</td></tr>\n",
       "\t<tr><th scope=row>54</th><td>2.3       </td><td>4.0       </td><td>1.3       </td><td>versicolor</td></tr>\n",
       "\t<tr><th scope=row>55</th><td>2.8       </td><td>4.6       </td><td>1.5       </td><td>versicolor</td></tr>\n",
       "\t<tr><th scope=row>56</th><td>2.8       </td><td>4.5       </td><td>1.3       </td><td>versicolor</td></tr>\n",
       "\t<tr><th scope=row>57</th><td>3.3       </td><td>4.7       </td><td>1.6       </td><td>versicolor</td></tr>\n",
       "\t<tr><th scope=row>58</th><td>2.4       </td><td>3.3       </td><td>1.0       </td><td>versicolor</td></tr>\n",
       "\t<tr><th scope=row>59</th><td>2.9       </td><td>4.6       </td><td>1.3       </td><td>versicolor</td></tr>\n",
       "\t<tr><th scope=row>60</th><td>2.7       </td><td>3.9       </td><td>1.4       </td><td>versicolor</td></tr>\n",
       "\t<tr><th scope=row>61</th><td>2.0       </td><td>3.5       </td><td>1.0       </td><td>versicolor</td></tr>\n",
       "\t<tr><th scope=row>62</th><td>3.0       </td><td>4.2       </td><td>1.5       </td><td>versicolor</td></tr>\n",
       "\t<tr><th scope=row>63</th><td>2.2       </td><td>4.0       </td><td>1.0       </td><td>versicolor</td></tr>\n",
       "\t<tr><th scope=row>64</th><td>2.9       </td><td>4.7       </td><td>1.4       </td><td>versicolor</td></tr>\n",
       "\t<tr><th scope=row>65</th><td>2.9       </td><td>3.6       </td><td>1.3       </td><td>versicolor</td></tr>\n",
       "\t<tr><th scope=row>66</th><td>3.1       </td><td>4.4       </td><td>1.4       </td><td>versicolor</td></tr>\n",
       "\t<tr><th scope=row>67</th><td>3.0       </td><td>4.5       </td><td>1.5       </td><td>versicolor</td></tr>\n",
       "\t<tr><th scope=row>68</th><td>2.7       </td><td>4.1       </td><td>1.0       </td><td>versicolor</td></tr>\n",
       "\t<tr><th scope=row>69</th><td>2.2       </td><td>4.5       </td><td>1.5       </td><td>versicolor</td></tr>\n",
       "\t<tr><th scope=row>70</th><td>2.5       </td><td>3.9       </td><td>1.1       </td><td>versicolor</td></tr>\n",
       "\t<tr><th scope=row>71</th><td>3.2       </td><td>4.8       </td><td>1.8       </td><td>versicolor</td></tr>\n",
       "\t<tr><th scope=row>72</th><td>2.8       </td><td>4.0       </td><td>1.3       </td><td>versicolor</td></tr>\n",
       "\t<tr><th scope=row>73</th><td>2.5       </td><td>4.9       </td><td>1.5       </td><td>versicolor</td></tr>\n",
       "\t<tr><th scope=row>74</th><td>2.8       </td><td>4.7       </td><td>1.2       </td><td>versicolor</td></tr>\n",
       "\t<tr><th scope=row>75</th><td>2.9       </td><td>4.3       </td><td>1.3       </td><td>versicolor</td></tr>\n",
       "\t<tr><th scope=row>76</th><td>3.0       </td><td>4.4       </td><td>1.4       </td><td>versicolor</td></tr>\n",
       "\t<tr><th scope=row>77</th><td>2.8       </td><td>4.8       </td><td>1.4       </td><td>versicolor</td></tr>\n",
       "\t<tr><th scope=row>78</th><td>3.0       </td><td>5.0       </td><td>1.7       </td><td>versicolor</td></tr>\n",
       "\t<tr><th scope=row>79</th><td>2.9       </td><td>4.5       </td><td>1.5       </td><td>versicolor</td></tr>\n",
       "\t<tr><th scope=row>80</th><td>2.6       </td><td>3.5       </td><td>1.0       </td><td>versicolor</td></tr>\n",
       "\t<tr><th scope=row>⋮</th><td>⋮</td><td>⋮</td><td>⋮</td><td>⋮</td></tr>\n",
       "\t<tr><th scope=row>121</th><td>3.2      </td><td>5.7      </td><td>2.3      </td><td>virginica</td></tr>\n",
       "\t<tr><th scope=row>122</th><td>2.8      </td><td>4.9      </td><td>2.0      </td><td>virginica</td></tr>\n",
       "\t<tr><th scope=row>123</th><td>2.8      </td><td>6.7      </td><td>2.0      </td><td>virginica</td></tr>\n",
       "\t<tr><th scope=row>124</th><td>2.7      </td><td>4.9      </td><td>1.8      </td><td>virginica</td></tr>\n",
       "\t<tr><th scope=row>125</th><td>3.3      </td><td>5.7      </td><td>2.1      </td><td>virginica</td></tr>\n",
       "\t<tr><th scope=row>126</th><td>3.2      </td><td>6.0      </td><td>1.8      </td><td>virginica</td></tr>\n",
       "\t<tr><th scope=row>127</th><td>2.8      </td><td>4.8      </td><td>1.8      </td><td>virginica</td></tr>\n",
       "\t<tr><th scope=row>128</th><td>3.0      </td><td>4.9      </td><td>1.8      </td><td>virginica</td></tr>\n",
       "\t<tr><th scope=row>129</th><td>2.8      </td><td>5.6      </td><td>2.1      </td><td>virginica</td></tr>\n",
       "\t<tr><th scope=row>130</th><td>3.0      </td><td>5.8      </td><td>1.6      </td><td>virginica</td></tr>\n",
       "\t<tr><th scope=row>131</th><td>2.8      </td><td>6.1      </td><td>1.9      </td><td>virginica</td></tr>\n",
       "\t<tr><th scope=row>132</th><td>3.8      </td><td>6.4      </td><td>2.0      </td><td>virginica</td></tr>\n",
       "\t<tr><th scope=row>133</th><td>2.8      </td><td>5.6      </td><td>2.2      </td><td>virginica</td></tr>\n",
       "\t<tr><th scope=row>134</th><td>2.8      </td><td>5.1      </td><td>1.5      </td><td>virginica</td></tr>\n",
       "\t<tr><th scope=row>135</th><td>2.6      </td><td>5.6      </td><td>1.4      </td><td>virginica</td></tr>\n",
       "\t<tr><th scope=row>136</th><td>3.0      </td><td>6.1      </td><td>2.3      </td><td>virginica</td></tr>\n",
       "\t<tr><th scope=row>137</th><td>3.4      </td><td>5.6      </td><td>2.4      </td><td>virginica</td></tr>\n",
       "\t<tr><th scope=row>138</th><td>3.1      </td><td>5.5      </td><td>1.8      </td><td>virginica</td></tr>\n",
       "\t<tr><th scope=row>139</th><td>3.0      </td><td>4.8      </td><td>1.8      </td><td>virginica</td></tr>\n",
       "\t<tr><th scope=row>140</th><td>3.1      </td><td>5.4      </td><td>2.1      </td><td>virginica</td></tr>\n",
       "\t<tr><th scope=row>141</th><td>3.1      </td><td>5.6      </td><td>2.4      </td><td>virginica</td></tr>\n",
       "\t<tr><th scope=row>142</th><td>3.1      </td><td>5.1      </td><td>2.3      </td><td>virginica</td></tr>\n",
       "\t<tr><th scope=row>143</th><td>2.7      </td><td>5.1      </td><td>1.9      </td><td>virginica</td></tr>\n",
       "\t<tr><th scope=row>144</th><td>3.2      </td><td>5.9      </td><td>2.3      </td><td>virginica</td></tr>\n",
       "\t<tr><th scope=row>145</th><td>3.3      </td><td>5.7      </td><td>2.5      </td><td>virginica</td></tr>\n",
       "\t<tr><th scope=row>146</th><td>3.0      </td><td>5.2      </td><td>2.3      </td><td>virginica</td></tr>\n",
       "\t<tr><th scope=row>147</th><td>2.5      </td><td>5.0      </td><td>1.9      </td><td>virginica</td></tr>\n",
       "\t<tr><th scope=row>148</th><td>3.0      </td><td>5.2      </td><td>2.0      </td><td>virginica</td></tr>\n",
       "\t<tr><th scope=row>149</th><td>3.4      </td><td>5.4      </td><td>2.3      </td><td>virginica</td></tr>\n",
       "\t<tr><th scope=row>150</th><td>3.0      </td><td>5.1      </td><td>1.8      </td><td>virginica</td></tr>\n",
       "</tbody>\n",
       "</table>\n"
      ],
      "text/latex": [
       "\\begin{tabular}{r|llll}\n",
       "  & Sepal.Width & Petal.Length & Petal.Width & Species\\\\\n",
       "\\hline\n",
       "\t51 & 3.2        & 4.7        & 1.4        & versicolor\\\\\n",
       "\t52 & 3.2        & 4.5        & 1.5        & versicolor\\\\\n",
       "\t53 & 3.1        & 4.9        & 1.5        & versicolor\\\\\n",
       "\t54 & 2.3        & 4.0        & 1.3        & versicolor\\\\\n",
       "\t55 & 2.8        & 4.6        & 1.5        & versicolor\\\\\n",
       "\t56 & 2.8        & 4.5        & 1.3        & versicolor\\\\\n",
       "\t57 & 3.3        & 4.7        & 1.6        & versicolor\\\\\n",
       "\t58 & 2.4        & 3.3        & 1.0        & versicolor\\\\\n",
       "\t59 & 2.9        & 4.6        & 1.3        & versicolor\\\\\n",
       "\t60 & 2.7        & 3.9        & 1.4        & versicolor\\\\\n",
       "\t61 & 2.0        & 3.5        & 1.0        & versicolor\\\\\n",
       "\t62 & 3.0        & 4.2        & 1.5        & versicolor\\\\\n",
       "\t63 & 2.2        & 4.0        & 1.0        & versicolor\\\\\n",
       "\t64 & 2.9        & 4.7        & 1.4        & versicolor\\\\\n",
       "\t65 & 2.9        & 3.6        & 1.3        & versicolor\\\\\n",
       "\t66 & 3.1        & 4.4        & 1.4        & versicolor\\\\\n",
       "\t67 & 3.0        & 4.5        & 1.5        & versicolor\\\\\n",
       "\t68 & 2.7        & 4.1        & 1.0        & versicolor\\\\\n",
       "\t69 & 2.2        & 4.5        & 1.5        & versicolor\\\\\n",
       "\t70 & 2.5        & 3.9        & 1.1        & versicolor\\\\\n",
       "\t71 & 3.2        & 4.8        & 1.8        & versicolor\\\\\n",
       "\t72 & 2.8        & 4.0        & 1.3        & versicolor\\\\\n",
       "\t73 & 2.5        & 4.9        & 1.5        & versicolor\\\\\n",
       "\t74 & 2.8        & 4.7        & 1.2        & versicolor\\\\\n",
       "\t75 & 2.9        & 4.3        & 1.3        & versicolor\\\\\n",
       "\t76 & 3.0        & 4.4        & 1.4        & versicolor\\\\\n",
       "\t77 & 2.8        & 4.8        & 1.4        & versicolor\\\\\n",
       "\t78 & 3.0        & 5.0        & 1.7        & versicolor\\\\\n",
       "\t79 & 2.9        & 4.5        & 1.5        & versicolor\\\\\n",
       "\t80 & 2.6        & 3.5        & 1.0        & versicolor\\\\\n",
       "\t⋮ & ⋮ & ⋮ & ⋮ & ⋮\\\\\n",
       "\t121 & 3.2       & 5.7       & 2.3       & virginica\\\\\n",
       "\t122 & 2.8       & 4.9       & 2.0       & virginica\\\\\n",
       "\t123 & 2.8       & 6.7       & 2.0       & virginica\\\\\n",
       "\t124 & 2.7       & 4.9       & 1.8       & virginica\\\\\n",
       "\t125 & 3.3       & 5.7       & 2.1       & virginica\\\\\n",
       "\t126 & 3.2       & 6.0       & 1.8       & virginica\\\\\n",
       "\t127 & 2.8       & 4.8       & 1.8       & virginica\\\\\n",
       "\t128 & 3.0       & 4.9       & 1.8       & virginica\\\\\n",
       "\t129 & 2.8       & 5.6       & 2.1       & virginica\\\\\n",
       "\t130 & 3.0       & 5.8       & 1.6       & virginica\\\\\n",
       "\t131 & 2.8       & 6.1       & 1.9       & virginica\\\\\n",
       "\t132 & 3.8       & 6.4       & 2.0       & virginica\\\\\n",
       "\t133 & 2.8       & 5.6       & 2.2       & virginica\\\\\n",
       "\t134 & 2.8       & 5.1       & 1.5       & virginica\\\\\n",
       "\t135 & 2.6       & 5.6       & 1.4       & virginica\\\\\n",
       "\t136 & 3.0       & 6.1       & 2.3       & virginica\\\\\n",
       "\t137 & 3.4       & 5.6       & 2.4       & virginica\\\\\n",
       "\t138 & 3.1       & 5.5       & 1.8       & virginica\\\\\n",
       "\t139 & 3.0       & 4.8       & 1.8       & virginica\\\\\n",
       "\t140 & 3.1       & 5.4       & 2.1       & virginica\\\\\n",
       "\t141 & 3.1       & 5.6       & 2.4       & virginica\\\\\n",
       "\t142 & 3.1       & 5.1       & 2.3       & virginica\\\\\n",
       "\t143 & 2.7       & 5.1       & 1.9       & virginica\\\\\n",
       "\t144 & 3.2       & 5.9       & 2.3       & virginica\\\\\n",
       "\t145 & 3.3       & 5.7       & 2.5       & virginica\\\\\n",
       "\t146 & 3.0       & 5.2       & 2.3       & virginica\\\\\n",
       "\t147 & 2.5       & 5.0       & 1.9       & virginica\\\\\n",
       "\t148 & 3.0       & 5.2       & 2.0       & virginica\\\\\n",
       "\t149 & 3.4       & 5.4       & 2.3       & virginica\\\\\n",
       "\t150 & 3.0       & 5.1       & 1.8       & virginica\\\\\n",
       "\\end{tabular}\n"
      ],
      "text/markdown": [
       "\n",
       "| <!--/--> | Sepal.Width | Petal.Length | Petal.Width | Species | \n",
       "|---|---|---|---|---|---|---|---|---|---|---|---|---|---|---|---|---|---|---|---|---|---|---|---|---|---|---|---|---|---|---|---|---|---|---|---|---|---|---|---|---|---|---|---|---|---|---|---|---|---|---|---|---|---|---|---|---|---|---|---|---|\n",
       "| 51 | 3.2        | 4.7        | 1.4        | versicolor | \n",
       "| 52 | 3.2        | 4.5        | 1.5        | versicolor | \n",
       "| 53 | 3.1        | 4.9        | 1.5        | versicolor | \n",
       "| 54 | 2.3        | 4.0        | 1.3        | versicolor | \n",
       "| 55 | 2.8        | 4.6        | 1.5        | versicolor | \n",
       "| 56 | 2.8        | 4.5        | 1.3        | versicolor | \n",
       "| 57 | 3.3        | 4.7        | 1.6        | versicolor | \n",
       "| 58 | 2.4        | 3.3        | 1.0        | versicolor | \n",
       "| 59 | 2.9        | 4.6        | 1.3        | versicolor | \n",
       "| 60 | 2.7        | 3.9        | 1.4        | versicolor | \n",
       "| 61 | 2.0        | 3.5        | 1.0        | versicolor | \n",
       "| 62 | 3.0        | 4.2        | 1.5        | versicolor | \n",
       "| 63 | 2.2        | 4.0        | 1.0        | versicolor | \n",
       "| 64 | 2.9        | 4.7        | 1.4        | versicolor | \n",
       "| 65 | 2.9        | 3.6        | 1.3        | versicolor | \n",
       "| 66 | 3.1        | 4.4        | 1.4        | versicolor | \n",
       "| 67 | 3.0        | 4.5        | 1.5        | versicolor | \n",
       "| 68 | 2.7        | 4.1        | 1.0        | versicolor | \n",
       "| 69 | 2.2        | 4.5        | 1.5        | versicolor | \n",
       "| 70 | 2.5        | 3.9        | 1.1        | versicolor | \n",
       "| 71 | 3.2        | 4.8        | 1.8        | versicolor | \n",
       "| 72 | 2.8        | 4.0        | 1.3        | versicolor | \n",
       "| 73 | 2.5        | 4.9        | 1.5        | versicolor | \n",
       "| 74 | 2.8        | 4.7        | 1.2        | versicolor | \n",
       "| 75 | 2.9        | 4.3        | 1.3        | versicolor | \n",
       "| 76 | 3.0        | 4.4        | 1.4        | versicolor | \n",
       "| 77 | 2.8        | 4.8        | 1.4        | versicolor | \n",
       "| 78 | 3.0        | 5.0        | 1.7        | versicolor | \n",
       "| 79 | 2.9        | 4.5        | 1.5        | versicolor | \n",
       "| 80 | 2.6        | 3.5        | 1.0        | versicolor | \n",
       "| ⋮ | ⋮ | ⋮ | ⋮ | ⋮ | \n",
       "| 121 | 3.2       | 5.7       | 2.3       | virginica | \n",
       "| 122 | 2.8       | 4.9       | 2.0       | virginica | \n",
       "| 123 | 2.8       | 6.7       | 2.0       | virginica | \n",
       "| 124 | 2.7       | 4.9       | 1.8       | virginica | \n",
       "| 125 | 3.3       | 5.7       | 2.1       | virginica | \n",
       "| 126 | 3.2       | 6.0       | 1.8       | virginica | \n",
       "| 127 | 2.8       | 4.8       | 1.8       | virginica | \n",
       "| 128 | 3.0       | 4.9       | 1.8       | virginica | \n",
       "| 129 | 2.8       | 5.6       | 2.1       | virginica | \n",
       "| 130 | 3.0       | 5.8       | 1.6       | virginica | \n",
       "| 131 | 2.8       | 6.1       | 1.9       | virginica | \n",
       "| 132 | 3.8       | 6.4       | 2.0       | virginica | \n",
       "| 133 | 2.8       | 5.6       | 2.2       | virginica | \n",
       "| 134 | 2.8       | 5.1       | 1.5       | virginica | \n",
       "| 135 | 2.6       | 5.6       | 1.4       | virginica | \n",
       "| 136 | 3.0       | 6.1       | 2.3       | virginica | \n",
       "| 137 | 3.4       | 5.6       | 2.4       | virginica | \n",
       "| 138 | 3.1       | 5.5       | 1.8       | virginica | \n",
       "| 139 | 3.0       | 4.8       | 1.8       | virginica | \n",
       "| 140 | 3.1       | 5.4       | 2.1       | virginica | \n",
       "| 141 | 3.1       | 5.6       | 2.4       | virginica | \n",
       "| 142 | 3.1       | 5.1       | 2.3       | virginica | \n",
       "| 143 | 2.7       | 5.1       | 1.9       | virginica | \n",
       "| 144 | 3.2       | 5.9       | 2.3       | virginica | \n",
       "| 145 | 3.3       | 5.7       | 2.5       | virginica | \n",
       "| 146 | 3.0       | 5.2       | 2.3       | virginica | \n",
       "| 147 | 2.5       | 5.0       | 1.9       | virginica | \n",
       "| 148 | 3.0       | 5.2       | 2.0       | virginica | \n",
       "| 149 | 3.4       | 5.4       | 2.3       | virginica | \n",
       "| 150 | 3.0       | 5.1       | 1.8       | virginica | \n",
       "\n",
       "\n"
      ],
      "text/plain": [
       "    Sepal.Width Petal.Length Petal.Width Species   \n",
       "51  3.2         4.7          1.4         versicolor\n",
       "52  3.2         4.5          1.5         versicolor\n",
       "53  3.1         4.9          1.5         versicolor\n",
       "54  2.3         4.0          1.3         versicolor\n",
       "55  2.8         4.6          1.5         versicolor\n",
       "56  2.8         4.5          1.3         versicolor\n",
       "57  3.3         4.7          1.6         versicolor\n",
       "58  2.4         3.3          1.0         versicolor\n",
       "59  2.9         4.6          1.3         versicolor\n",
       "60  2.7         3.9          1.4         versicolor\n",
       "61  2.0         3.5          1.0         versicolor\n",
       "62  3.0         4.2          1.5         versicolor\n",
       "63  2.2         4.0          1.0         versicolor\n",
       "64  2.9         4.7          1.4         versicolor\n",
       "65  2.9         3.6          1.3         versicolor\n",
       "66  3.1         4.4          1.4         versicolor\n",
       "67  3.0         4.5          1.5         versicolor\n",
       "68  2.7         4.1          1.0         versicolor\n",
       "69  2.2         4.5          1.5         versicolor\n",
       "70  2.5         3.9          1.1         versicolor\n",
       "71  3.2         4.8          1.8         versicolor\n",
       "72  2.8         4.0          1.3         versicolor\n",
       "73  2.5         4.9          1.5         versicolor\n",
       "74  2.8         4.7          1.2         versicolor\n",
       "75  2.9         4.3          1.3         versicolor\n",
       "76  3.0         4.4          1.4         versicolor\n",
       "77  2.8         4.8          1.4         versicolor\n",
       "78  3.0         5.0          1.7         versicolor\n",
       "79  2.9         4.5          1.5         versicolor\n",
       "80  2.6         3.5          1.0         versicolor\n",
       "⋮   ⋮           ⋮            ⋮           ⋮         \n",
       "121 3.2         5.7          2.3         virginica \n",
       "122 2.8         4.9          2.0         virginica \n",
       "123 2.8         6.7          2.0         virginica \n",
       "124 2.7         4.9          1.8         virginica \n",
       "125 3.3         5.7          2.1         virginica \n",
       "126 3.2         6.0          1.8         virginica \n",
       "127 2.8         4.8          1.8         virginica \n",
       "128 3.0         4.9          1.8         virginica \n",
       "129 2.8         5.6          2.1         virginica \n",
       "130 3.0         5.8          1.6         virginica \n",
       "131 2.8         6.1          1.9         virginica \n",
       "132 3.8         6.4          2.0         virginica \n",
       "133 2.8         5.6          2.2         virginica \n",
       "134 2.8         5.1          1.5         virginica \n",
       "135 2.6         5.6          1.4         virginica \n",
       "136 3.0         6.1          2.3         virginica \n",
       "137 3.4         5.6          2.4         virginica \n",
       "138 3.1         5.5          1.8         virginica \n",
       "139 3.0         4.8          1.8         virginica \n",
       "140 3.1         5.4          2.1         virginica \n",
       "141 3.1         5.6          2.4         virginica \n",
       "142 3.1         5.1          2.3         virginica \n",
       "143 2.7         5.1          1.9         virginica \n",
       "144 3.2         5.9          2.3         virginica \n",
       "145 3.3         5.7          2.5         virginica \n",
       "146 3.0         5.2          2.3         virginica \n",
       "147 2.5         5.0          1.9         virginica \n",
       "148 3.0         5.2          2.0         virginica \n",
       "149 3.4         5.4          2.3         virginica \n",
       "150 3.0         5.1          1.8         virginica "
      ]
     },
     "metadata": {},
     "output_type": "display_data"
    }
   ],
   "source": [
    "# Load the data into the R workspace\n",
    "data(\"iris\") # Note that the data frame name must be in quotes\n",
    "# YOUR CODE HERE\n",
    "SV <- subset(iris ,iris[,5]==\"virginica\"|iris[,5]==\"setosa\", select =c(Sepal.Length,Sepal.Width,Petal.Length,Species) )\n",
    "SV\n",
    "#table(SV$Species)\n",
    "VV <- subset(iris ,iris[,5]==\"virginica\"|iris[,5]==\"versicolor\", select =c(Sepal.Width,Petal.Length,Petal.Width,Species ))\n",
    "VV\n",
    "#table(VV$Species)\n",
    "\n",
    "#stop(\"Not Implemented\")"
   ]
  },
  {
   "cell_type": "markdown",
   "metadata": {
    "deletable": false,
    "editable": false,
    "nbgrader": {
     "checksum": "d122e16eee46ad0383e725f903f44806",
     "grade": false,
     "grade_id": "problem_1_part_2",
     "locked": true,
     "schema_version": 1,
     "solution": false
    }
   },
   "source": [
    "Note that the `iris` dataset includes 50 observations from each of the three species."
   ]
  },
  {
   "cell_type": "code",
   "execution_count": 4,
   "metadata": {
    "deletable": false,
    "editable": false,
    "nbgrader": {
     "checksum": "e61ec7d21678615433ad5d7b12bc4318",
     "grade": false,
     "grade_id": "problem_1_iris_species_table",
     "locked": true,
     "schema_version": 1,
     "solution": false
    }
   },
   "outputs": [
    {
     "data": {
      "text/plain": [
       "\n",
       "    setosa versicolor  virginica \n",
       "        50         50         50 "
      ]
     },
     "metadata": {},
     "output_type": "display_data"
    }
   ],
   "source": [
    "table(iris$Species)"
   ]
  },
  {
   "cell_type": "markdown",
   "metadata": {
    "deletable": false,
    "editable": false,
    "nbgrader": {
     "checksum": "5211380de8b7176bbadc99ae4fe1c94b",
     "grade": false,
     "grade_id": "problem_1_part_3",
     "locked": true,
     "schema_version": 1,
     "solution": false
    }
   },
   "source": [
    "Explain why the following merge has 66 observations for the virginica species."
   ]
  },
  {
   "cell_type": "code",
   "execution_count": 5,
   "metadata": {
    "deletable": false,
    "editable": false,
    "nbgrader": {
     "checksum": "06263eb60373a5a1e2befe1d4e17bd92",
     "grade": false,
     "grade_id": "problem_1_merge_species_table",
     "locked": true,
     "schema_version": 1,
     "solution": false
    }
   },
   "outputs": [
    {
     "data": {
      "text/plain": [
       "\n",
       "    setosa versicolor  virginica \n",
       "        50         50         66 "
      ]
     },
     "metadata": {},
     "output_type": "display_data"
    }
   ],
   "source": [
    "SV_VV_merge <- merge(SV,VV,all=TRUE)\n",
    "table(SV_VV_merge$Species)"
   ]
  },
  {
   "cell_type": "markdown",
   "metadata": {
    "collapsed": true,
    "deletable": false,
    "nbgrader": {
     "checksum": "48118c945930f2ff576c8b8b230ea5b1",
     "grade": true,
     "grade_id": "problem_1_outer_join",
     "locked": false,
     "points": 1,
     "schema_version": 1,
     "solution": true
    }
   },
   "source": [
    "YOUR ANSWER/EXPLANATION HERE\n",
    "\n",
    "This code merges SV and VV based on common columns in these two data frames which are \"Sepal.Width\",\"Petal.Length\" and \"Species\". In fact, the code acts the same as the following code :\n",
    "\n",
    "SV_VV_merge <- merge(SV,VV,by=c(\"Sepal.Width\",\"Petal.Length\", \"Species\"),all = TRUE)\n",
    "\n",
    "So, it doesn't consider \"row.names\" feature, which is also a unique common feature in VV and SV data frames and if we change the code to the following code, the result frame work will have 50 observations of each species: \n",
    "\n",
    "SV_VV_merge <- merge(SV,VV,by=c(\"Sepal.Width\",\"Petal.Length\", \"Species\",\"row.names\"),all = TRUE)"
   ]
  },
  {
   "cell_type": "markdown",
   "metadata": {
    "deletable": false,
    "editable": false,
    "nbgrader": {
     "checksum": "4e5afc3f8d3bc1a7bb02dddb80fa869a",
     "grade": false,
     "grade_id": "problem_2_part_1",
     "locked": true,
     "schema_version": 1,
     "solution": false
    }
   },
   "source": [
    "---\n",
    "\n",
    "# Problem 2\n",
    "\n",
    "Create a new environment named `giga`, and within this environment, create the following objects:\n",
    "\n",
    "- A numeric vector of all of the numbers between 1 and 5 named `a`\n",
    "- A logical (TRUE/FALSE) vector with 5 elements. Name this vector `b`.\n",
    "- A $3 \\times 2$ character matrix of your favorite colors (Pro tip: Base R recognizes 657 colors and hues by name, including `cornflowerblue`. You can see all of these names by running the command `colors()`.). Name this character matrix `my_cols`.\n",
    "- An environment named `mega`, which contains a numeric vector of all of the numbers between 6 and 9 named `a`."
   ]
  },
  {
   "cell_type": "code",
   "execution_count": 6,
   "metadata": {
    "collapsed": true,
    "deletable": false,
    "nbgrader": {
     "checksum": "9ae9c43ca04a040b2ea596474185b92d",
     "grade": true,
     "grade_id": "problem_2_part_1_code",
     "locked": false,
     "points": 1,
     "schema_version": 1,
     "solution": true
    }
   },
   "outputs": [],
   "source": [
    "# YOUR CODE HERE\n",
    "giga <- new.env()\n",
    "#----------------------------------------------------\n",
    "giga$a <-  as.numeric(c(1:5))\n",
    "#----------------------------------------------------\n",
    "giga$b <-  as.logical(c(0,1,0,2,0))\n",
    "#----------------------------------------------------\n",
    "cols <- colors()[c(5, 25, 70, 125, 376, 437)]\n",
    "giga$my_cols <- matrix(as.character(cols), nrow = 3, ncol = 2)\n",
    "#----------------------------------------------------\n",
    "giga$mega <- new.env()\n",
    "giga$mega$a <- as.numeric(c(6:9))\n",
    "#stop(\"Not Implemented\")"
   ]
  },
  {
   "cell_type": "markdown",
   "metadata": {
    "deletable": false,
    "editable": false,
    "nbgrader": {
     "checksum": "0fae0d3e40ace18a9ce7efa65e766492",
     "grade": false,
     "grade_id": "problem_2_part_2",
     "locked": true,
     "schema_version": 1,
     "solution": false
    }
   },
   "source": [
    "What does the message following this code mean?"
   ]
  },
  {
   "cell_type": "code",
   "execution_count": 7,
   "metadata": {
    "deletable": false,
    "editable": false,
    "nbgrader": {
     "checksum": "52a906aecd49b0cfb76ece238ddf035f",
     "grade": false,
     "grade_id": "problem_2_part_2_code",
     "locked": true,
     "schema_version": 1,
     "solution": false
    }
   },
   "outputs": [
    {
     "name": "stderr",
     "output_type": "stream",
     "text": [
      "The following object is masked from giga:\n",
      "\n",
      "    a\n",
      "\n"
     ]
    }
   ],
   "source": [
    "attach(giga)\n",
    "attach(mega)"
   ]
  },
  {
   "cell_type": "markdown",
   "metadata": {
    "deletable": false,
    "nbgrader": {
     "checksum": "2c805c358470741b21a427c75a1a4145",
     "grade": true,
     "grade_id": "problem_2_part_2_explain",
     "locked": false,
     "points": 1,
     "schema_version": 1,
     "solution": true
    }
   },
   "source": [
    "YOUR ANSWER/EXPLANATION HERE\n",
    "\n",
    "This means that the value of object \"a\" in environment \"giga\" has been replaced by the value of \"a\" in environment \"mega\" because it is a common object in both of these environments and object \"a\" in environment \"mega\" has masked object \"a\" in environment \"giga\".\n",
    "In summary, if you use object \"a\" in any of these two environments, its value will be [6,7,8,9]."
   ]
  },
  {
   "cell_type": "markdown",
   "metadata": {
    "deletable": false,
    "editable": false,
    "nbgrader": {
     "checksum": "e8c877ae83199a23615e7041d4b8d784",
     "grade": false,
     "grade_id": "problem_2_part_3_detaching",
     "locked": true,
     "schema_version": 1,
     "solution": false
    }
   },
   "source": [
    "Let's detach the environments again."
   ]
  },
  {
   "cell_type": "code",
   "execution_count": 8,
   "metadata": {
    "collapsed": true,
    "deletable": false,
    "editable": false,
    "nbgrader": {
     "checksum": "e4264c64b79f34dab861e65e4bf330c8",
     "grade": false,
     "grade_id": "problem_2_part_3_detaching_code",
     "locked": true,
     "schema_version": 1,
     "solution": false
    }
   },
   "outputs": [],
   "source": [
    "detach(mega)\n",
    "detach(giga)"
   ]
  },
  {
   "cell_type": "markdown",
   "metadata": {
    "deletable": false,
    "editable": false,
    "nbgrader": {
     "checksum": "56bea8ae89035a1cf182cc90fb50dfc5",
     "grade": false,
     "grade_id": "problem_2_part_3",
     "locked": true,
     "schema_version": 1,
     "solution": false
    }
   },
   "source": [
    "Why doesn't this work?"
   ]
  },
  {
   "cell_type": "code",
   "execution_count": 9,
   "metadata": {
    "deletable": false,
    "editable": false,
    "nbgrader": {
     "checksum": "fe5f6c3633bd9dca8866a9c30d2f70b8",
     "grade": false,
     "grade_id": "problem_2_part_3_code",
     "locked": true,
     "schema_version": 1,
     "solution": false
    }
   },
   "outputs": [
    {
     "ename": "ERROR",
     "evalue": "Error in attach(mega): object 'mega' not found\n",
     "output_type": "error",
     "traceback": [
      "Error in attach(mega): object 'mega' not found\nTraceback:\n",
      "1. attach(mega)"
     ]
    }
   ],
   "source": [
    "attach(mega)\n",
    "attach(giga)"
   ]
  },
  {
   "cell_type": "markdown",
   "metadata": {
    "deletable": false,
    "nbgrader": {
     "checksum": "cb4b9fdad4d895c6e211d39a1e08c65f",
     "grade": true,
     "grade_id": "problem_2_part_3_explain",
     "locked": false,
     "points": 1,
     "schema_version": 1,
     "solution": true
    }
   },
   "source": [
    "YOUR ANSWER/EXPLANATION HERE\n",
    "\n",
    "This doesn't work because object \"mega\" has been defined in environment \"giga\" and it can only be attached to the R search path after environment \"giga\" is attached.\n",
    "In fact, \"mega\" is dependent to \"giga\" because it is defined in that environment. "
   ]
  },
  {
   "cell_type": "markdown",
   "metadata": {
    "deletable": false,
    "editable": false,
    "nbgrader": {
     "checksum": "35c98b02d2347b620d3a67933eb1d226",
     "grade": false,
     "grade_id": "problem_3",
     "locked": true,
     "schema_version": 1,
     "solution": false
    }
   },
   "source": [
    "---\n",
    "\n",
    "# Problem 3\n",
    "\n",
    "For this problem, you will need the `Grade_Example.xlsx` file, which will be posted on Canvas. This Excel workbook contains three sheets, `Worksheets_and_Quizzes`, `Labs`, and `Exams`. Make the appropriate adjustments to the Excel spreadsheet and read each of the three sheets into three data frames, named `quiz`, `lab`, and `exam`, respectively. Note that there is a header for all of these sheets in Excel. The data in this workbook includes a student's unique ID and their grades on assignments and exams in an elementary statistics class. "
   ]
  },
  {
   "cell_type": "code",
   "execution_count": 80,
   "metadata": {
    "deletable": false,
    "nbgrader": {
     "checksum": "2c79fe36995f49b1eefec6bdfe5043e0",
     "grade": true,
     "grade_id": "problem_3_part_1_code",
     "locked": false,
     "points": 1,
     "schema_version": 1,
     "solution": true
    }
   },
   "outputs": [
    {
     "data": {
      "text/html": [
       "<table>\n",
       "<thead><tr><th scope=col>ID</th><th scope=col>Worksheets</th><th scope=col>Quiz_1</th><th scope=col>Quiz_2</th><th scope=col>Quiz_3</th><th scope=col>Quiz_4</th><th scope=col>Quiz_5</th><th scope=col>Quiz_6</th><th scope=col>Quiz_7</th><th scope=col>Quiz_8</th><th scope=col>Quiz_9</th><th scope=col>Quiz_10</th><th scope=col>Quiz_11</th></tr></thead>\n",
       "<tbody>\n",
       "\t<tr><td>6799408 </td><td> 94     </td><td>15.00   </td><td>13.5    </td><td>14.07   </td><td>15.0    </td><td>11.5    </td><td>14.0    </td><td> 8.0    </td><td>12.50   </td><td>14.50   </td><td>14.0    </td><td>6.000000</td></tr>\n",
       "\t<tr><td>6816645 </td><td> 41     </td><td>14.50   </td><td>15.0    </td><td>14.00   </td><td>14.0    </td><td>  NA    </td><td>14.0    </td><td>11.8    </td><td>12.50   </td><td>11.00   </td><td>14.0    </td><td>6.000000</td></tr>\n",
       "\t<tr><td>6699758 </td><td> 92     </td><td>12.33   </td><td>15.0    </td><td>13.00   </td><td>13.0    </td><td>12.5    </td><td>13.0    </td><td>14.0    </td><td>12.00   </td><td>13.25   </td><td>14.0    </td><td>6.500000</td></tr>\n",
       "\t<tr><td>6729771 </td><td> 14     </td><td>14.00   </td><td> 9.0    </td><td>12.07   </td><td> 7.0    </td><td>11.5    </td><td> 7.0    </td><td>10.0    </td><td> 7.00   </td><td> 8.75   </td><td> 9.0    </td><td>2.833333</td></tr>\n",
       "\t<tr><td>6770735 </td><td> 97     </td><td>15.00   </td><td>13.0    </td><td>12.00   </td><td>15.0    </td><td>13.0    </td><td>13.0    </td><td>14.0    </td><td>12.00   </td><td>13.50   </td><td>13.0    </td><td>6.500000</td></tr>\n",
       "\t<tr><td>6779412 </td><td> 99     </td><td>15.00   </td><td>15.0    </td><td>14.67   </td><td>14.0    </td><td>15.0    </td><td>14.0    </td><td>15.0    </td><td>14.00   </td><td>15.00   </td><td>15.0    </td><td>7.000000</td></tr>\n",
       "\t<tr><td>6789875 </td><td> 92     </td><td>14.50   </td><td>14.0    </td><td>15.00   </td><td>13.0    </td><td>13.0    </td><td>14.0    </td><td>12.0    </td><td>12.50   </td><td>11.00   </td><td>13.0    </td><td>6.500000</td></tr>\n",
       "\t<tr><td>6818670 </td><td>104     </td><td>15.00   </td><td>14.0    </td><td>14.50   </td><td>12.0    </td><td>14.0    </td><td>14.0    </td><td>12.0    </td><td>14.00   </td><td>15.00   </td><td>14.0    </td><td>7.000000</td></tr>\n",
       "\t<tr><td>6773741 </td><td> 58     </td><td>13.67   </td><td>14.0    </td><td>13.57   </td><td>14.0    </td><td> 9.0    </td><td>11.0    </td><td> 5.0    </td><td>10.50   </td><td>15.00   </td><td>15.0    </td><td>7.000000</td></tr>\n",
       "\t<tr><td>6755585 </td><td> 94     </td><td>15.00   </td><td>15.0    </td><td>13.50   </td><td>14.0    </td><td>15.0    </td><td>15.0    </td><td>12.5    </td><td>13.50   </td><td>15.00   </td><td>15.0    </td><td>7.000000</td></tr>\n",
       "\t<tr><td>6699725 </td><td> 78     </td><td>14.67   </td><td>14.0    </td><td>15.00   </td><td>12.0    </td><td>13.0    </td><td>15.0    </td><td>12.0    </td><td>10.50   </td><td>14.00   </td><td>14.0    </td><td>4.400000</td></tr>\n",
       "\t<tr><td>6768777 </td><td>100     </td><td>15.00   </td><td>15.0    </td><td>15.00   </td><td>15.0    </td><td>15.0    </td><td>15.0    </td><td>14.0    </td><td>15.00   </td><td>14.25   </td><td>15.0    </td><td>7.000000</td></tr>\n",
       "\t<tr><td>6770058 </td><td> 91     </td><td>14.50   </td><td>14.0    </td><td>13.67   </td><td>14.0    </td><td>14.0    </td><td>14.0    </td><td>12.0    </td><td>13.00   </td><td>15.00   </td><td>14.0    </td><td>5.400000</td></tr>\n",
       "\t<tr><td>6826957 </td><td> 42     </td><td>13.00   </td><td>10.3    </td><td>10.57   </td><td> 6.0    </td><td>10.5    </td><td>12.0    </td><td> 1.0    </td><td> 8.00   </td><td> 8.50   </td><td>  NA    </td><td>      NA</td></tr>\n",
       "\t<tr><td>6778100 </td><td>101     </td><td>15.00   </td><td>15.0    </td><td>14.50   </td><td>13.5    </td><td>14.0    </td><td>14.0    </td><td>14.5    </td><td>14.00   </td><td>15.00   </td><td>15.0    </td><td>      NA</td></tr>\n",
       "\t<tr><td>6644366 </td><td>100     </td><td>15.00   </td><td>15.0    </td><td>15.00   </td><td>15.0    </td><td>15.0    </td><td>15.0    </td><td>14.0    </td><td>14.80   </td><td>14.00   </td><td>14.0    </td><td>7.000000</td></tr>\n",
       "\t<tr><td>6745337 </td><td> 69     </td><td>13.00   </td><td> 8.0    </td><td>13.00   </td><td> 9.0    </td><td> 7.5    </td><td>10.0    </td><td> 9.0    </td><td> 8.00   </td><td>11.50   </td><td> 6.0    </td><td>      NA</td></tr>\n",
       "\t<tr><td>6700770 </td><td>100     </td><td>14.50   </td><td>14.0    </td><td>11.64   </td><td>12.0    </td><td>14.0    </td><td>14.0    </td><td>14.0    </td><td>12.00   </td><td>15.00   </td><td>14.0    </td><td>5.500000</td></tr>\n",
       "\t<tr><td>6769043 </td><td> 88     </td><td>14.67   </td><td>13.0    </td><td>14.50   </td><td>13.0    </td><td>10.0    </td><td>13.0    </td><td>13.0    </td><td>14.80   </td><td>12.00   </td><td>14.0    </td><td>4.000000</td></tr>\n",
       "\t<tr><td>6768852 </td><td> 93     </td><td>13.25   </td><td>15.0    </td><td>14.00   </td><td>13.0    </td><td> 8.0    </td><td>15.0    </td><td>13.5    </td><td>14.00   </td><td>12.25   </td><td> 9.5    </td><td>6.500000</td></tr>\n",
       "\t<tr><td>6780574 </td><td> 94     </td><td>15.00   </td><td>14.0    </td><td>15.00   </td><td>15.0    </td><td>13.5    </td><td>15.0    </td><td>11.5    </td><td>13.00   </td><td>14.50   </td><td>15.0    </td><td>6.500000</td></tr>\n",
       "\t<tr><td>6529563 </td><td> 29     </td><td>13.00   </td><td>14.0    </td><td>14.14   </td><td>12.0    </td><td> 5.0    </td><td>13.0    </td><td> 7.0    </td><td>11.97   </td><td>   NA   </td><td>15.0    </td><td>      NA</td></tr>\n",
       "\t<tr><td>6753554 </td><td>100     </td><td>15.00   </td><td>13.0    </td><td>14.50   </td><td>13.0    </td><td>12.5    </td><td>15.0    </td><td>14.5    </td><td>14.00   </td><td>15.00   </td><td>14.0    </td><td>6.300000</td></tr>\n",
       "\t<tr><td>6776072 </td><td> 23     </td><td>   NA   </td><td>  NA    </td><td>   NA   </td><td>10.0    </td><td>12.0    </td><td>  NA    </td><td>  NA    </td><td>   NA   </td><td>   NA   </td><td>13.0    </td><td>4.000000</td></tr>\n",
       "\t<tr><td>6657312 </td><td> 47     </td><td>15.00   </td><td>13.5    </td><td>14.67   </td><td>14.5    </td><td>13.0    </td><td> 9.0    </td><td> 8.0    </td><td>   NA   </td><td>10.50   </td><td>  NA    </td><td>7.000000</td></tr>\n",
       "\t<tr><td>6815495 </td><td> 79     </td><td>13.83   </td><td> 9.5    </td><td>13.57   </td><td> 9.0    </td><td>11.0    </td><td>13.0    </td><td> 4.5    </td><td>10.50   </td><td>12.00   </td><td> 8.5    </td><td>7.000000</td></tr>\n",
       "\t<tr><td>6783198 </td><td>100     </td><td>15.00   </td><td>15.0    </td><td>14.24   </td><td>15.0    </td><td>15.0    </td><td>15.0    </td><td>15.0    </td><td>14.00   </td><td>14.00   </td><td>15.0    </td><td>7.000000</td></tr>\n",
       "\t<tr><td>6784719 </td><td> 90     </td><td>15.00   </td><td>14.0    </td><td>13.00   </td><td>13.0    </td><td>10.5    </td><td>13.0    </td><td> 9.0    </td><td>12.30   </td><td>13.50   </td><td> 9.5    </td><td>      NA</td></tr>\n",
       "\t<tr><td>6703608 </td><td>100     </td><td>15.00   </td><td>15.0    </td><td>14.50   </td><td>15.0    </td><td>14.0    </td><td>13.5    </td><td> 9.8    </td><td>14.80   </td><td>15.00   </td><td>14.0    </td><td>6.500000</td></tr>\n",
       "</tbody>\n",
       "</table>\n"
      ],
      "text/latex": [
       "\\begin{tabular}{r|lllllllllllll}\n",
       " ID & Worksheets & Quiz\\_1 & Quiz\\_2 & Quiz\\_3 & Quiz\\_4 & Quiz\\_5 & Quiz\\_6 & Quiz\\_7 & Quiz\\_8 & Quiz\\_9 & Quiz\\_10 & Quiz\\_11\\\\\n",
       "\\hline\n",
       "\t 6799408  &  94      & 15.00    & 13.5     & 14.07    & 15.0     & 11.5     & 14.0     &  8.0     & 12.50    & 14.50    & 14.0     & 6.000000\\\\\n",
       "\t 6816645  &  41      & 14.50    & 15.0     & 14.00    & 14.0     &   NA     & 14.0     & 11.8     & 12.50    & 11.00    & 14.0     & 6.000000\\\\\n",
       "\t 6699758  &  92      & 12.33    & 15.0     & 13.00    & 13.0     & 12.5     & 13.0     & 14.0     & 12.00    & 13.25    & 14.0     & 6.500000\\\\\n",
       "\t 6729771  &  14      & 14.00    &  9.0     & 12.07    &  7.0     & 11.5     &  7.0     & 10.0     &  7.00    &  8.75    &  9.0     & 2.833333\\\\\n",
       "\t 6770735  &  97      & 15.00    & 13.0     & 12.00    & 15.0     & 13.0     & 13.0     & 14.0     & 12.00    & 13.50    & 13.0     & 6.500000\\\\\n",
       "\t 6779412  &  99      & 15.00    & 15.0     & 14.67    & 14.0     & 15.0     & 14.0     & 15.0     & 14.00    & 15.00    & 15.0     & 7.000000\\\\\n",
       "\t 6789875  &  92      & 14.50    & 14.0     & 15.00    & 13.0     & 13.0     & 14.0     & 12.0     & 12.50    & 11.00    & 13.0     & 6.500000\\\\\n",
       "\t 6818670  & 104      & 15.00    & 14.0     & 14.50    & 12.0     & 14.0     & 14.0     & 12.0     & 14.00    & 15.00    & 14.0     & 7.000000\\\\\n",
       "\t 6773741  &  58      & 13.67    & 14.0     & 13.57    & 14.0     &  9.0     & 11.0     &  5.0     & 10.50    & 15.00    & 15.0     & 7.000000\\\\\n",
       "\t 6755585  &  94      & 15.00    & 15.0     & 13.50    & 14.0     & 15.0     & 15.0     & 12.5     & 13.50    & 15.00    & 15.0     & 7.000000\\\\\n",
       "\t 6699725  &  78      & 14.67    & 14.0     & 15.00    & 12.0     & 13.0     & 15.0     & 12.0     & 10.50    & 14.00    & 14.0     & 4.400000\\\\\n",
       "\t 6768777  & 100      & 15.00    & 15.0     & 15.00    & 15.0     & 15.0     & 15.0     & 14.0     & 15.00    & 14.25    & 15.0     & 7.000000\\\\\n",
       "\t 6770058  &  91      & 14.50    & 14.0     & 13.67    & 14.0     & 14.0     & 14.0     & 12.0     & 13.00    & 15.00    & 14.0     & 5.400000\\\\\n",
       "\t 6826957  &  42      & 13.00    & 10.3     & 10.57    &  6.0     & 10.5     & 12.0     &  1.0     &  8.00    &  8.50    &   NA     &       NA\\\\\n",
       "\t 6778100  & 101      & 15.00    & 15.0     & 14.50    & 13.5     & 14.0     & 14.0     & 14.5     & 14.00    & 15.00    & 15.0     &       NA\\\\\n",
       "\t 6644366  & 100      & 15.00    & 15.0     & 15.00    & 15.0     & 15.0     & 15.0     & 14.0     & 14.80    & 14.00    & 14.0     & 7.000000\\\\\n",
       "\t 6745337  &  69      & 13.00    &  8.0     & 13.00    &  9.0     &  7.5     & 10.0     &  9.0     &  8.00    & 11.50    &  6.0     &       NA\\\\\n",
       "\t 6700770  & 100      & 14.50    & 14.0     & 11.64    & 12.0     & 14.0     & 14.0     & 14.0     & 12.00    & 15.00    & 14.0     & 5.500000\\\\\n",
       "\t 6769043  &  88      & 14.67    & 13.0     & 14.50    & 13.0     & 10.0     & 13.0     & 13.0     & 14.80    & 12.00    & 14.0     & 4.000000\\\\\n",
       "\t 6768852  &  93      & 13.25    & 15.0     & 14.00    & 13.0     &  8.0     & 15.0     & 13.5     & 14.00    & 12.25    &  9.5     & 6.500000\\\\\n",
       "\t 6780574  &  94      & 15.00    & 14.0     & 15.00    & 15.0     & 13.5     & 15.0     & 11.5     & 13.00    & 14.50    & 15.0     & 6.500000\\\\\n",
       "\t 6529563  &  29      & 13.00    & 14.0     & 14.14    & 12.0     &  5.0     & 13.0     &  7.0     & 11.97    &    NA    & 15.0     &       NA\\\\\n",
       "\t 6753554  & 100      & 15.00    & 13.0     & 14.50    & 13.0     & 12.5     & 15.0     & 14.5     & 14.00    & 15.00    & 14.0     & 6.300000\\\\\n",
       "\t 6776072  &  23      &    NA    &   NA     &    NA    & 10.0     & 12.0     &   NA     &   NA     &    NA    &    NA    & 13.0     & 4.000000\\\\\n",
       "\t 6657312  &  47      & 15.00    & 13.5     & 14.67    & 14.5     & 13.0     &  9.0     &  8.0     &    NA    & 10.50    &   NA     & 7.000000\\\\\n",
       "\t 6815495  &  79      & 13.83    &  9.5     & 13.57    &  9.0     & 11.0     & 13.0     &  4.5     & 10.50    & 12.00    &  8.5     & 7.000000\\\\\n",
       "\t 6783198  & 100      & 15.00    & 15.0     & 14.24    & 15.0     & 15.0     & 15.0     & 15.0     & 14.00    & 14.00    & 15.0     & 7.000000\\\\\n",
       "\t 6784719  &  90      & 15.00    & 14.0     & 13.00    & 13.0     & 10.5     & 13.0     &  9.0     & 12.30    & 13.50    &  9.5     &       NA\\\\\n",
       "\t 6703608  & 100      & 15.00    & 15.0     & 14.50    & 15.0     & 14.0     & 13.5     &  9.8     & 14.80    & 15.00    & 14.0     & 6.500000\\\\\n",
       "\\end{tabular}\n"
      ],
      "text/markdown": [
       "\n",
       "ID | Worksheets | Quiz_1 | Quiz_2 | Quiz_3 | Quiz_4 | Quiz_5 | Quiz_6 | Quiz_7 | Quiz_8 | Quiz_9 | Quiz_10 | Quiz_11 | \n",
       "|---|---|---|---|---|---|---|---|---|---|---|---|---|---|---|---|---|---|---|---|---|---|---|---|---|---|---|---|---|\n",
       "| 6799408  |  94      | 15.00    | 13.5     | 14.07    | 15.0     | 11.5     | 14.0     |  8.0     | 12.50    | 14.50    | 14.0     | 6.000000 | \n",
       "| 6816645  |  41      | 14.50    | 15.0     | 14.00    | 14.0     |   NA     | 14.0     | 11.8     | 12.50    | 11.00    | 14.0     | 6.000000 | \n",
       "| 6699758  |  92      | 12.33    | 15.0     | 13.00    | 13.0     | 12.5     | 13.0     | 14.0     | 12.00    | 13.25    | 14.0     | 6.500000 | \n",
       "| 6729771  |  14      | 14.00    |  9.0     | 12.07    |  7.0     | 11.5     |  7.0     | 10.0     |  7.00    |  8.75    |  9.0     | 2.833333 | \n",
       "| 6770735  |  97      | 15.00    | 13.0     | 12.00    | 15.0     | 13.0     | 13.0     | 14.0     | 12.00    | 13.50    | 13.0     | 6.500000 | \n",
       "| 6779412  |  99      | 15.00    | 15.0     | 14.67    | 14.0     | 15.0     | 14.0     | 15.0     | 14.00    | 15.00    | 15.0     | 7.000000 | \n",
       "| 6789875  |  92      | 14.50    | 14.0     | 15.00    | 13.0     | 13.0     | 14.0     | 12.0     | 12.50    | 11.00    | 13.0     | 6.500000 | \n",
       "| 6818670  | 104      | 15.00    | 14.0     | 14.50    | 12.0     | 14.0     | 14.0     | 12.0     | 14.00    | 15.00    | 14.0     | 7.000000 | \n",
       "| 6773741  |  58      | 13.67    | 14.0     | 13.57    | 14.0     |  9.0     | 11.0     |  5.0     | 10.50    | 15.00    | 15.0     | 7.000000 | \n",
       "| 6755585  |  94      | 15.00    | 15.0     | 13.50    | 14.0     | 15.0     | 15.0     | 12.5     | 13.50    | 15.00    | 15.0     | 7.000000 | \n",
       "| 6699725  |  78      | 14.67    | 14.0     | 15.00    | 12.0     | 13.0     | 15.0     | 12.0     | 10.50    | 14.00    | 14.0     | 4.400000 | \n",
       "| 6768777  | 100      | 15.00    | 15.0     | 15.00    | 15.0     | 15.0     | 15.0     | 14.0     | 15.00    | 14.25    | 15.0     | 7.000000 | \n",
       "| 6770058  |  91      | 14.50    | 14.0     | 13.67    | 14.0     | 14.0     | 14.0     | 12.0     | 13.00    | 15.00    | 14.0     | 5.400000 | \n",
       "| 6826957  |  42      | 13.00    | 10.3     | 10.57    |  6.0     | 10.5     | 12.0     |  1.0     |  8.00    |  8.50    |   NA     |       NA | \n",
       "| 6778100  | 101      | 15.00    | 15.0     | 14.50    | 13.5     | 14.0     | 14.0     | 14.5     | 14.00    | 15.00    | 15.0     |       NA | \n",
       "| 6644366  | 100      | 15.00    | 15.0     | 15.00    | 15.0     | 15.0     | 15.0     | 14.0     | 14.80    | 14.00    | 14.0     | 7.000000 | \n",
       "| 6745337  |  69      | 13.00    |  8.0     | 13.00    |  9.0     |  7.5     | 10.0     |  9.0     |  8.00    | 11.50    |  6.0     |       NA | \n",
       "| 6700770  | 100      | 14.50    | 14.0     | 11.64    | 12.0     | 14.0     | 14.0     | 14.0     | 12.00    | 15.00    | 14.0     | 5.500000 | \n",
       "| 6769043  |  88      | 14.67    | 13.0     | 14.50    | 13.0     | 10.0     | 13.0     | 13.0     | 14.80    | 12.00    | 14.0     | 4.000000 | \n",
       "| 6768852  |  93      | 13.25    | 15.0     | 14.00    | 13.0     |  8.0     | 15.0     | 13.5     | 14.00    | 12.25    |  9.5     | 6.500000 | \n",
       "| 6780574  |  94      | 15.00    | 14.0     | 15.00    | 15.0     | 13.5     | 15.0     | 11.5     | 13.00    | 14.50    | 15.0     | 6.500000 | \n",
       "| 6529563  |  29      | 13.00    | 14.0     | 14.14    | 12.0     |  5.0     | 13.0     |  7.0     | 11.97    |    NA    | 15.0     |       NA | \n",
       "| 6753554  | 100      | 15.00    | 13.0     | 14.50    | 13.0     | 12.5     | 15.0     | 14.5     | 14.00    | 15.00    | 14.0     | 6.300000 | \n",
       "| 6776072  |  23      |    NA    |   NA     |    NA    | 10.0     | 12.0     |   NA     |   NA     |    NA    |    NA    | 13.0     | 4.000000 | \n",
       "| 6657312  |  47      | 15.00    | 13.5     | 14.67    | 14.5     | 13.0     |  9.0     |  8.0     |    NA    | 10.50    |   NA     | 7.000000 | \n",
       "| 6815495  |  79      | 13.83    |  9.5     | 13.57    |  9.0     | 11.0     | 13.0     |  4.5     | 10.50    | 12.00    |  8.5     | 7.000000 | \n",
       "| 6783198  | 100      | 15.00    | 15.0     | 14.24    | 15.0     | 15.0     | 15.0     | 15.0     | 14.00    | 14.00    | 15.0     | 7.000000 | \n",
       "| 6784719  |  90      | 15.00    | 14.0     | 13.00    | 13.0     | 10.5     | 13.0     |  9.0     | 12.30    | 13.50    |  9.5     |       NA | \n",
       "| 6703608  | 100      | 15.00    | 15.0     | 14.50    | 15.0     | 14.0     | 13.5     |  9.8     | 14.80    | 15.00    | 14.0     | 6.500000 | \n",
       "\n",
       "\n"
      ],
      "text/plain": [
       "   ID      Worksheets Quiz_1 Quiz_2 Quiz_3 Quiz_4 Quiz_5 Quiz_6 Quiz_7 Quiz_8\n",
       "1  6799408  94        15.00  13.5   14.07  15.0   11.5   14.0    8.0   12.50 \n",
       "2  6816645  41        14.50  15.0   14.00  14.0     NA   14.0   11.8   12.50 \n",
       "3  6699758  92        12.33  15.0   13.00  13.0   12.5   13.0   14.0   12.00 \n",
       "4  6729771  14        14.00   9.0   12.07   7.0   11.5    7.0   10.0    7.00 \n",
       "5  6770735  97        15.00  13.0   12.00  15.0   13.0   13.0   14.0   12.00 \n",
       "6  6779412  99        15.00  15.0   14.67  14.0   15.0   14.0   15.0   14.00 \n",
       "7  6789875  92        14.50  14.0   15.00  13.0   13.0   14.0   12.0   12.50 \n",
       "8  6818670 104        15.00  14.0   14.50  12.0   14.0   14.0   12.0   14.00 \n",
       "9  6773741  58        13.67  14.0   13.57  14.0    9.0   11.0    5.0   10.50 \n",
       "10 6755585  94        15.00  15.0   13.50  14.0   15.0   15.0   12.5   13.50 \n",
       "11 6699725  78        14.67  14.0   15.00  12.0   13.0   15.0   12.0   10.50 \n",
       "12 6768777 100        15.00  15.0   15.00  15.0   15.0   15.0   14.0   15.00 \n",
       "13 6770058  91        14.50  14.0   13.67  14.0   14.0   14.0   12.0   13.00 \n",
       "14 6826957  42        13.00  10.3   10.57   6.0   10.5   12.0    1.0    8.00 \n",
       "15 6778100 101        15.00  15.0   14.50  13.5   14.0   14.0   14.5   14.00 \n",
       "16 6644366 100        15.00  15.0   15.00  15.0   15.0   15.0   14.0   14.80 \n",
       "17 6745337  69        13.00   8.0   13.00   9.0    7.5   10.0    9.0    8.00 \n",
       "18 6700770 100        14.50  14.0   11.64  12.0   14.0   14.0   14.0   12.00 \n",
       "19 6769043  88        14.67  13.0   14.50  13.0   10.0   13.0   13.0   14.80 \n",
       "20 6768852  93        13.25  15.0   14.00  13.0    8.0   15.0   13.5   14.00 \n",
       "21 6780574  94        15.00  14.0   15.00  15.0   13.5   15.0   11.5   13.00 \n",
       "22 6529563  29        13.00  14.0   14.14  12.0    5.0   13.0    7.0   11.97 \n",
       "23 6753554 100        15.00  13.0   14.50  13.0   12.5   15.0   14.5   14.00 \n",
       "24 6776072  23           NA    NA      NA  10.0   12.0     NA     NA      NA \n",
       "25 6657312  47        15.00  13.5   14.67  14.5   13.0    9.0    8.0      NA \n",
       "26 6815495  79        13.83   9.5   13.57   9.0   11.0   13.0    4.5   10.50 \n",
       "27 6783198 100        15.00  15.0   14.24  15.0   15.0   15.0   15.0   14.00 \n",
       "28 6784719  90        15.00  14.0   13.00  13.0   10.5   13.0    9.0   12.30 \n",
       "29 6703608 100        15.00  15.0   14.50  15.0   14.0   13.5    9.8   14.80 \n",
       "   Quiz_9 Quiz_10 Quiz_11 \n",
       "1  14.50  14.0    6.000000\n",
       "2  11.00  14.0    6.000000\n",
       "3  13.25  14.0    6.500000\n",
       "4   8.75   9.0    2.833333\n",
       "5  13.50  13.0    6.500000\n",
       "6  15.00  15.0    7.000000\n",
       "7  11.00  13.0    6.500000\n",
       "8  15.00  14.0    7.000000\n",
       "9  15.00  15.0    7.000000\n",
       "10 15.00  15.0    7.000000\n",
       "11 14.00  14.0    4.400000\n",
       "12 14.25  15.0    7.000000\n",
       "13 15.00  14.0    5.400000\n",
       "14  8.50    NA          NA\n",
       "15 15.00  15.0          NA\n",
       "16 14.00  14.0    7.000000\n",
       "17 11.50   6.0          NA\n",
       "18 15.00  14.0    5.500000\n",
       "19 12.00  14.0    4.000000\n",
       "20 12.25   9.5    6.500000\n",
       "21 14.50  15.0    6.500000\n",
       "22    NA  15.0          NA\n",
       "23 15.00  14.0    6.300000\n",
       "24    NA  13.0    4.000000\n",
       "25 10.50    NA    7.000000\n",
       "26 12.00   8.5    7.000000\n",
       "27 14.00  15.0    7.000000\n",
       "28 13.50   9.5          NA\n",
       "29 15.00  14.0    6.500000"
      ]
     },
     "metadata": {},
     "output_type": "display_data"
    },
    {
     "data": {
      "text/html": [
       "<table>\n",
       "<thead><tr><th scope=col>ID</th><th scope=col>Lab_1</th><th scope=col>Lab_2</th><th scope=col>Lab_3</th><th scope=col>Lab_4</th><th scope=col>Lab_5</th><th scope=col>Lab_6</th><th scope=col>Lab_7</th><th scope=col>Lab_8</th><th scope=col>Lab_9</th><th scope=col>Lab_10</th></tr></thead>\n",
       "<tbody>\n",
       "\t<tr><td>6799408</td><td>100    </td><td>105    </td><td>100    </td><td> 96    </td><td> NA    </td><td> 78    </td><td> 97    </td><td>105    </td><td> 62    </td><td>100    </td></tr>\n",
       "\t<tr><td>6816645</td><td>100    </td><td>105    </td><td>100    </td><td>100    </td><td> 80    </td><td> 95    </td><td>100    </td><td> NA    </td><td> 95    </td><td> 90    </td></tr>\n",
       "\t<tr><td>6699758</td><td> 96    </td><td>105    </td><td> 95    </td><td> 95    </td><td> 90    </td><td> 97    </td><td> 88    </td><td>100    </td><td> 90    </td><td> 86    </td></tr>\n",
       "\t<tr><td>6729771</td><td> 96    </td><td> 63    </td><td> 76    </td><td> 85    </td><td> 80    </td><td> 87    </td><td> NA    </td><td> NA    </td><td> NA    </td><td> NA    </td></tr>\n",
       "\t<tr><td>6770735</td><td> 96    </td><td> 90    </td><td> 93    </td><td> 98    </td><td>100    </td><td> 97    </td><td> 98    </td><td>104    </td><td>100    </td><td> 95    </td></tr>\n",
       "\t<tr><td>6779412</td><td>100    </td><td>105    </td><td>100    </td><td> 96    </td><td>100    </td><td>100    </td><td>100    </td><td>105    </td><td> 95    </td><td> 95    </td></tr>\n",
       "\t<tr><td>6789875</td><td>100    </td><td>100    </td><td> 98    </td><td>100    </td><td> 90    </td><td> 94    </td><td> 97    </td><td> 80    </td><td> 97    </td><td> 97    </td></tr>\n",
       "\t<tr><td>6818670</td><td>100    </td><td>101    </td><td> 96    </td><td> 96    </td><td> 90    </td><td>100    </td><td>100    </td><td>100    </td><td>100    </td><td>100    </td></tr>\n",
       "\t<tr><td>6773741</td><td> 97    </td><td> 90    </td><td> 95    </td><td> 60    </td><td> 66    </td><td> 88    </td><td> 75    </td><td> 70    </td><td> 84    </td><td> 83    </td></tr>\n",
       "\t<tr><td>6755585</td><td>100    </td><td>105    </td><td> 80    </td><td> 98    </td><td> 95    </td><td> 90    </td><td>100    </td><td>104    </td><td>100    </td><td>100    </td></tr>\n",
       "\t<tr><td>6699725</td><td>100    </td><td> 97    </td><td> 96    </td><td>100    </td><td> 91    </td><td> 97    </td><td> 88    </td><td> 99    </td><td> 92    </td><td> 88    </td></tr>\n",
       "\t<tr><td>6768777</td><td>100    </td><td>105    </td><td> 98    </td><td> 96    </td><td>100    </td><td>100    </td><td>100    </td><td>100    </td><td>100    </td><td> 95    </td></tr>\n",
       "\t<tr><td>6770058</td><td>100    </td><td>105    </td><td> 98    </td><td>100    </td><td> 94    </td><td> 97    </td><td> 90    </td><td> 90    </td><td>100    </td><td> 91    </td></tr>\n",
       "\t<tr><td>6826957</td><td>100    </td><td> 81    </td><td> 94    </td><td> NA    </td><td> 80    </td><td> 81    </td><td> NA    </td><td> NA    </td><td> NA    </td><td> NA    </td></tr>\n",
       "\t<tr><td>6778100</td><td>100    </td><td>105    </td><td>100    </td><td>100    </td><td>100    </td><td>100    </td><td>100    </td><td>100    </td><td>100    </td><td>100    </td></tr>\n",
       "\t<tr><td>6644366</td><td>100    </td><td>105    </td><td>100    </td><td> 96    </td><td>100    </td><td>100    </td><td>100    </td><td>100    </td><td>100    </td><td>100    </td></tr>\n",
       "\t<tr><td>6745337</td><td> 96    </td><td> 75    </td><td> 92    </td><td> 36    </td><td> 30    </td><td> 67    </td><td> 39    </td><td> 67    </td><td> 79    </td><td> NA    </td></tr>\n",
       "\t<tr><td>6700770</td><td>100    </td><td>104    </td><td>100    </td><td>100    </td><td> 90    </td><td> 89    </td><td> 86    </td><td> 81    </td><td> 92    </td><td> 82    </td></tr>\n",
       "\t<tr><td>6769043</td><td> 95    </td><td>105    </td><td>100    </td><td> 97    </td><td> 95    </td><td> 97    </td><td>100    </td><td> 97    </td><td>100    </td><td>100    </td></tr>\n",
       "\t<tr><td>6768852</td><td> 96    </td><td>102    </td><td> 98    </td><td> 95    </td><td> 85    </td><td> 89    </td><td> 87    </td><td> 97    </td><td> 93    </td><td>100    </td></tr>\n",
       "\t<tr><td>6780574</td><td>100    </td><td> 98    </td><td> 92    </td><td> 98    </td><td> 85    </td><td> 97    </td><td>100    </td><td>104    </td><td> 93    </td><td> 89    </td></tr>\n",
       "\t<tr><td>6529563</td><td> 52    </td><td>100    </td><td>100    </td><td>100    </td><td> 85    </td><td> 96    </td><td> NA    </td><td> 60    </td><td> 50    </td><td> 90    </td></tr>\n",
       "\t<tr><td>6753554</td><td>100    </td><td>101    </td><td> 95    </td><td>100    </td><td> 95    </td><td> 84    </td><td>100    </td><td> 87    </td><td> 87    </td><td> 83    </td></tr>\n",
       "\t<tr><td>6657312</td><td> 96    </td><td> 92    </td><td> 95    </td><td> 90    </td><td> 75    </td><td>100    </td><td> NA    </td><td> 77    </td><td> 82    </td><td> NA    </td></tr>\n",
       "\t<tr><td>6815495</td><td> 95    </td><td> NA    </td><td> 97    </td><td> 50    </td><td> 75    </td><td> 87    </td><td> 58    </td><td> 59    </td><td> 87    </td><td> 80    </td></tr>\n",
       "\t<tr><td>6783198</td><td>100    </td><td>105    </td><td>100    </td><td> 96    </td><td>100    </td><td>100    </td><td>100    </td><td> 96    </td><td>100    </td><td> 99    </td></tr>\n",
       "\t<tr><td>6784719</td><td> 98    </td><td> 96    </td><td> 97    </td><td> 96    </td><td> 95    </td><td> 78    </td><td> 92    </td><td> 83    </td><td> 87    </td><td> NA    </td></tr>\n",
       "\t<tr><td>6703608</td><td> 97    </td><td> 98    </td><td>100    </td><td> 95    </td><td> 85    </td><td> 98    </td><td> 89    </td><td> 96    </td><td>100    </td><td> 93    </td></tr>\n",
       "</tbody>\n",
       "</table>\n"
      ],
      "text/latex": [
       "\\begin{tabular}{r|lllllllllll}\n",
       " ID & Lab\\_1 & Lab\\_2 & Lab\\_3 & Lab\\_4 & Lab\\_5 & Lab\\_6 & Lab\\_7 & Lab\\_8 & Lab\\_9 & Lab\\_10\\\\\n",
       "\\hline\n",
       "\t 6799408 & 100     & 105     & 100     &  96     &  NA     &  78     &  97     & 105     &  62     & 100    \\\\\n",
       "\t 6816645 & 100     & 105     & 100     & 100     &  80     &  95     & 100     &  NA     &  95     &  90    \\\\\n",
       "\t 6699758 &  96     & 105     &  95     &  95     &  90     &  97     &  88     & 100     &  90     &  86    \\\\\n",
       "\t 6729771 &  96     &  63     &  76     &  85     &  80     &  87     &  NA     &  NA     &  NA     &  NA    \\\\\n",
       "\t 6770735 &  96     &  90     &  93     &  98     & 100     &  97     &  98     & 104     & 100     &  95    \\\\\n",
       "\t 6779412 & 100     & 105     & 100     &  96     & 100     & 100     & 100     & 105     &  95     &  95    \\\\\n",
       "\t 6789875 & 100     & 100     &  98     & 100     &  90     &  94     &  97     &  80     &  97     &  97    \\\\\n",
       "\t 6818670 & 100     & 101     &  96     &  96     &  90     & 100     & 100     & 100     & 100     & 100    \\\\\n",
       "\t 6773741 &  97     &  90     &  95     &  60     &  66     &  88     &  75     &  70     &  84     &  83    \\\\\n",
       "\t 6755585 & 100     & 105     &  80     &  98     &  95     &  90     & 100     & 104     & 100     & 100    \\\\\n",
       "\t 6699725 & 100     &  97     &  96     & 100     &  91     &  97     &  88     &  99     &  92     &  88    \\\\\n",
       "\t 6768777 & 100     & 105     &  98     &  96     & 100     & 100     & 100     & 100     & 100     &  95    \\\\\n",
       "\t 6770058 & 100     & 105     &  98     & 100     &  94     &  97     &  90     &  90     & 100     &  91    \\\\\n",
       "\t 6826957 & 100     &  81     &  94     &  NA     &  80     &  81     &  NA     &  NA     &  NA     &  NA    \\\\\n",
       "\t 6778100 & 100     & 105     & 100     & 100     & 100     & 100     & 100     & 100     & 100     & 100    \\\\\n",
       "\t 6644366 & 100     & 105     & 100     &  96     & 100     & 100     & 100     & 100     & 100     & 100    \\\\\n",
       "\t 6745337 &  96     &  75     &  92     &  36     &  30     &  67     &  39     &  67     &  79     &  NA    \\\\\n",
       "\t 6700770 & 100     & 104     & 100     & 100     &  90     &  89     &  86     &  81     &  92     &  82    \\\\\n",
       "\t 6769043 &  95     & 105     & 100     &  97     &  95     &  97     & 100     &  97     & 100     & 100    \\\\\n",
       "\t 6768852 &  96     & 102     &  98     &  95     &  85     &  89     &  87     &  97     &  93     & 100    \\\\\n",
       "\t 6780574 & 100     &  98     &  92     &  98     &  85     &  97     & 100     & 104     &  93     &  89    \\\\\n",
       "\t 6529563 &  52     & 100     & 100     & 100     &  85     &  96     &  NA     &  60     &  50     &  90    \\\\\n",
       "\t 6753554 & 100     & 101     &  95     & 100     &  95     &  84     & 100     &  87     &  87     &  83    \\\\\n",
       "\t 6657312 &  96     &  92     &  95     &  90     &  75     & 100     &  NA     &  77     &  82     &  NA    \\\\\n",
       "\t 6815495 &  95     &  NA     &  97     &  50     &  75     &  87     &  58     &  59     &  87     &  80    \\\\\n",
       "\t 6783198 & 100     & 105     & 100     &  96     & 100     & 100     & 100     &  96     & 100     &  99    \\\\\n",
       "\t 6784719 &  98     &  96     &  97     &  96     &  95     &  78     &  92     &  83     &  87     &  NA    \\\\\n",
       "\t 6703608 &  97     &  98     & 100     &  95     &  85     &  98     &  89     &  96     & 100     &  93    \\\\\n",
       "\\end{tabular}\n"
      ],
      "text/markdown": [
       "\n",
       "ID | Lab_1 | Lab_2 | Lab_3 | Lab_4 | Lab_5 | Lab_6 | Lab_7 | Lab_8 | Lab_9 | Lab_10 | \n",
       "|---|---|---|---|---|---|---|---|---|---|---|---|---|---|---|---|---|---|---|---|---|---|---|---|---|---|---|---|\n",
       "| 6799408 | 100     | 105     | 100     |  96     |  NA     |  78     |  97     | 105     |  62     | 100     | \n",
       "| 6816645 | 100     | 105     | 100     | 100     |  80     |  95     | 100     |  NA     |  95     |  90     | \n",
       "| 6699758 |  96     | 105     |  95     |  95     |  90     |  97     |  88     | 100     |  90     |  86     | \n",
       "| 6729771 |  96     |  63     |  76     |  85     |  80     |  87     |  NA     |  NA     |  NA     |  NA     | \n",
       "| 6770735 |  96     |  90     |  93     |  98     | 100     |  97     |  98     | 104     | 100     |  95     | \n",
       "| 6779412 | 100     | 105     | 100     |  96     | 100     | 100     | 100     | 105     |  95     |  95     | \n",
       "| 6789875 | 100     | 100     |  98     | 100     |  90     |  94     |  97     |  80     |  97     |  97     | \n",
       "| 6818670 | 100     | 101     |  96     |  96     |  90     | 100     | 100     | 100     | 100     | 100     | \n",
       "| 6773741 |  97     |  90     |  95     |  60     |  66     |  88     |  75     |  70     |  84     |  83     | \n",
       "| 6755585 | 100     | 105     |  80     |  98     |  95     |  90     | 100     | 104     | 100     | 100     | \n",
       "| 6699725 | 100     |  97     |  96     | 100     |  91     |  97     |  88     |  99     |  92     |  88     | \n",
       "| 6768777 | 100     | 105     |  98     |  96     | 100     | 100     | 100     | 100     | 100     |  95     | \n",
       "| 6770058 | 100     | 105     |  98     | 100     |  94     |  97     |  90     |  90     | 100     |  91     | \n",
       "| 6826957 | 100     |  81     |  94     |  NA     |  80     |  81     |  NA     |  NA     |  NA     |  NA     | \n",
       "| 6778100 | 100     | 105     | 100     | 100     | 100     | 100     | 100     | 100     | 100     | 100     | \n",
       "| 6644366 | 100     | 105     | 100     |  96     | 100     | 100     | 100     | 100     | 100     | 100     | \n",
       "| 6745337 |  96     |  75     |  92     |  36     |  30     |  67     |  39     |  67     |  79     |  NA     | \n",
       "| 6700770 | 100     | 104     | 100     | 100     |  90     |  89     |  86     |  81     |  92     |  82     | \n",
       "| 6769043 |  95     | 105     | 100     |  97     |  95     |  97     | 100     |  97     | 100     | 100     | \n",
       "| 6768852 |  96     | 102     |  98     |  95     |  85     |  89     |  87     |  97     |  93     | 100     | \n",
       "| 6780574 | 100     |  98     |  92     |  98     |  85     |  97     | 100     | 104     |  93     |  89     | \n",
       "| 6529563 |  52     | 100     | 100     | 100     |  85     |  96     |  NA     |  60     |  50     |  90     | \n",
       "| 6753554 | 100     | 101     |  95     | 100     |  95     |  84     | 100     |  87     |  87     |  83     | \n",
       "| 6657312 |  96     |  92     |  95     |  90     |  75     | 100     |  NA     |  77     |  82     |  NA     | \n",
       "| 6815495 |  95     |  NA     |  97     |  50     |  75     |  87     |  58     |  59     |  87     |  80     | \n",
       "| 6783198 | 100     | 105     | 100     |  96     | 100     | 100     | 100     |  96     | 100     |  99     | \n",
       "| 6784719 |  98     |  96     |  97     |  96     |  95     |  78     |  92     |  83     |  87     |  NA     | \n",
       "| 6703608 |  97     |  98     | 100     |  95     |  85     |  98     |  89     |  96     | 100     |  93     | \n",
       "\n",
       "\n"
      ],
      "text/plain": [
       "   ID      Lab_1 Lab_2 Lab_3 Lab_4 Lab_5 Lab_6 Lab_7 Lab_8 Lab_9 Lab_10\n",
       "1  6799408 100   105   100    96    NA    78    97   105    62   100   \n",
       "2  6816645 100   105   100   100    80    95   100    NA    95    90   \n",
       "3  6699758  96   105    95    95    90    97    88   100    90    86   \n",
       "4  6729771  96    63    76    85    80    87    NA    NA    NA    NA   \n",
       "5  6770735  96    90    93    98   100    97    98   104   100    95   \n",
       "6  6779412 100   105   100    96   100   100   100   105    95    95   \n",
       "7  6789875 100   100    98   100    90    94    97    80    97    97   \n",
       "8  6818670 100   101    96    96    90   100   100   100   100   100   \n",
       "9  6773741  97    90    95    60    66    88    75    70    84    83   \n",
       "10 6755585 100   105    80    98    95    90   100   104   100   100   \n",
       "11 6699725 100    97    96   100    91    97    88    99    92    88   \n",
       "12 6768777 100   105    98    96   100   100   100   100   100    95   \n",
       "13 6770058 100   105    98   100    94    97    90    90   100    91   \n",
       "14 6826957 100    81    94    NA    80    81    NA    NA    NA    NA   \n",
       "15 6778100 100   105   100   100   100   100   100   100   100   100   \n",
       "16 6644366 100   105   100    96   100   100   100   100   100   100   \n",
       "17 6745337  96    75    92    36    30    67    39    67    79    NA   \n",
       "18 6700770 100   104   100   100    90    89    86    81    92    82   \n",
       "19 6769043  95   105   100    97    95    97   100    97   100   100   \n",
       "20 6768852  96   102    98    95    85    89    87    97    93   100   \n",
       "21 6780574 100    98    92    98    85    97   100   104    93    89   \n",
       "22 6529563  52   100   100   100    85    96    NA    60    50    90   \n",
       "23 6753554 100   101    95   100    95    84   100    87    87    83   \n",
       "24 6657312  96    92    95    90    75   100    NA    77    82    NA   \n",
       "25 6815495  95    NA    97    50    75    87    58    59    87    80   \n",
       "26 6783198 100   105   100    96   100   100   100    96   100    99   \n",
       "27 6784719  98    96    97    96    95    78    92    83    87    NA   \n",
       "28 6703608  97    98   100    95    85    98    89    96   100    93   "
      ]
     },
     "metadata": {},
     "output_type": "display_data"
    },
    {
     "data": {
      "text/html": [
       "<table>\n",
       "<thead><tr><th scope=col>ID</th><th scope=col>Midterm</th><th scope=col>Final</th></tr></thead>\n",
       "<tbody>\n",
       "\t<tr><td>6799408</td><td>47.0   </td><td>43.0   </td></tr>\n",
       "\t<tr><td>6816645</td><td>47.5   </td><td>42.0   </td></tr>\n",
       "\t<tr><td>6699758</td><td>41.3   </td><td>32.0   </td></tr>\n",
       "\t<tr><td>6729771</td><td>30.0   </td><td>  NA   </td></tr>\n",
       "\t<tr><td>6770735</td><td>47.5   </td><td>44.0   </td></tr>\n",
       "\t<tr><td>6779412</td><td>49.8   </td><td>47.5   </td></tr>\n",
       "\t<tr><td>6789875</td><td>41.0   </td><td>41.5   </td></tr>\n",
       "\t<tr><td>6818670</td><td>36.8   </td><td>40.5   </td></tr>\n",
       "\t<tr><td>6773741</td><td>36.4   </td><td>29.5   </td></tr>\n",
       "\t<tr><td>6755585</td><td>48.0   </td><td>41.5   </td></tr>\n",
       "\t<tr><td>6699725</td><td>40.0   </td><td>42.5   </td></tr>\n",
       "\t<tr><td>6768777</td><td>49.0   </td><td>48.0   </td></tr>\n",
       "\t<tr><td>6770058</td><td>40.0   </td><td>37.5   </td></tr>\n",
       "\t<tr><td>6826957</td><td>32.9   </td><td>26.5   </td></tr>\n",
       "\t<tr><td>6778100</td><td>49.5   </td><td>48.0   </td></tr>\n",
       "\t<tr><td>6644366</td><td>49.0   </td><td>47.0   </td></tr>\n",
       "\t<tr><td>6745337</td><td>36.5   </td><td>37.0   </td></tr>\n",
       "\t<tr><td>6700770</td><td>41.0   </td><td>45.0   </td></tr>\n",
       "\t<tr><td>6769043</td><td>43.4   </td><td>46.5   </td></tr>\n",
       "\t<tr><td>6768852</td><td>39.9   </td><td>39.0   </td></tr>\n",
       "\t<tr><td>6780574</td><td>41.3   </td><td>41.5   </td></tr>\n",
       "\t<tr><td>6529563</td><td>45.9   </td><td>44.5   </td></tr>\n",
       "\t<tr><td>6753554</td><td>49.0   </td><td>48.0   </td></tr>\n",
       "\t<tr><td>6776072</td><td>34.5   </td><td>  NA   </td></tr>\n",
       "\t<tr><td>6657312</td><td>39.9   </td><td>38.0   </td></tr>\n",
       "\t<tr><td>6815495</td><td>36.5   </td><td>35.5   </td></tr>\n",
       "\t<tr><td>6783198</td><td>49.5   </td><td>48.5   </td></tr>\n",
       "\t<tr><td>6784719</td><td>42.0   </td><td>36.5   </td></tr>\n",
       "\t<tr><td>6703608</td><td>47.0   </td><td>49.0   </td></tr>\n",
       "</tbody>\n",
       "</table>\n"
      ],
      "text/latex": [
       "\\begin{tabular}{r|lll}\n",
       " ID & Midterm & Final\\\\\n",
       "\\hline\n",
       "\t 6799408 & 47.0    & 43.0   \\\\\n",
       "\t 6816645 & 47.5    & 42.0   \\\\\n",
       "\t 6699758 & 41.3    & 32.0   \\\\\n",
       "\t 6729771 & 30.0    &   NA   \\\\\n",
       "\t 6770735 & 47.5    & 44.0   \\\\\n",
       "\t 6779412 & 49.8    & 47.5   \\\\\n",
       "\t 6789875 & 41.0    & 41.5   \\\\\n",
       "\t 6818670 & 36.8    & 40.5   \\\\\n",
       "\t 6773741 & 36.4    & 29.5   \\\\\n",
       "\t 6755585 & 48.0    & 41.5   \\\\\n",
       "\t 6699725 & 40.0    & 42.5   \\\\\n",
       "\t 6768777 & 49.0    & 48.0   \\\\\n",
       "\t 6770058 & 40.0    & 37.5   \\\\\n",
       "\t 6826957 & 32.9    & 26.5   \\\\\n",
       "\t 6778100 & 49.5    & 48.0   \\\\\n",
       "\t 6644366 & 49.0    & 47.0   \\\\\n",
       "\t 6745337 & 36.5    & 37.0   \\\\\n",
       "\t 6700770 & 41.0    & 45.0   \\\\\n",
       "\t 6769043 & 43.4    & 46.5   \\\\\n",
       "\t 6768852 & 39.9    & 39.0   \\\\\n",
       "\t 6780574 & 41.3    & 41.5   \\\\\n",
       "\t 6529563 & 45.9    & 44.5   \\\\\n",
       "\t 6753554 & 49.0    & 48.0   \\\\\n",
       "\t 6776072 & 34.5    &   NA   \\\\\n",
       "\t 6657312 & 39.9    & 38.0   \\\\\n",
       "\t 6815495 & 36.5    & 35.5   \\\\\n",
       "\t 6783198 & 49.5    & 48.5   \\\\\n",
       "\t 6784719 & 42.0    & 36.5   \\\\\n",
       "\t 6703608 & 47.0    & 49.0   \\\\\n",
       "\\end{tabular}\n"
      ],
      "text/markdown": [
       "\n",
       "ID | Midterm | Final | \n",
       "|---|---|---|---|---|---|---|---|---|---|---|---|---|---|---|---|---|---|---|---|---|---|---|---|---|---|---|---|---|\n",
       "| 6799408 | 47.0    | 43.0    | \n",
       "| 6816645 | 47.5    | 42.0    | \n",
       "| 6699758 | 41.3    | 32.0    | \n",
       "| 6729771 | 30.0    |   NA    | \n",
       "| 6770735 | 47.5    | 44.0    | \n",
       "| 6779412 | 49.8    | 47.5    | \n",
       "| 6789875 | 41.0    | 41.5    | \n",
       "| 6818670 | 36.8    | 40.5    | \n",
       "| 6773741 | 36.4    | 29.5    | \n",
       "| 6755585 | 48.0    | 41.5    | \n",
       "| 6699725 | 40.0    | 42.5    | \n",
       "| 6768777 | 49.0    | 48.0    | \n",
       "| 6770058 | 40.0    | 37.5    | \n",
       "| 6826957 | 32.9    | 26.5    | \n",
       "| 6778100 | 49.5    | 48.0    | \n",
       "| 6644366 | 49.0    | 47.0    | \n",
       "| 6745337 | 36.5    | 37.0    | \n",
       "| 6700770 | 41.0    | 45.0    | \n",
       "| 6769043 | 43.4    | 46.5    | \n",
       "| 6768852 | 39.9    | 39.0    | \n",
       "| 6780574 | 41.3    | 41.5    | \n",
       "| 6529563 | 45.9    | 44.5    | \n",
       "| 6753554 | 49.0    | 48.0    | \n",
       "| 6776072 | 34.5    |   NA    | \n",
       "| 6657312 | 39.9    | 38.0    | \n",
       "| 6815495 | 36.5    | 35.5    | \n",
       "| 6783198 | 49.5    | 48.5    | \n",
       "| 6784719 | 42.0    | 36.5    | \n",
       "| 6703608 | 47.0    | 49.0    | \n",
       "\n",
       "\n"
      ],
      "text/plain": [
       "   ID      Midterm Final\n",
       "1  6799408 47.0    43.0 \n",
       "2  6816645 47.5    42.0 \n",
       "3  6699758 41.3    32.0 \n",
       "4  6729771 30.0      NA \n",
       "5  6770735 47.5    44.0 \n",
       "6  6779412 49.8    47.5 \n",
       "7  6789875 41.0    41.5 \n",
       "8  6818670 36.8    40.5 \n",
       "9  6773741 36.4    29.5 \n",
       "10 6755585 48.0    41.5 \n",
       "11 6699725 40.0    42.5 \n",
       "12 6768777 49.0    48.0 \n",
       "13 6770058 40.0    37.5 \n",
       "14 6826957 32.9    26.5 \n",
       "15 6778100 49.5    48.0 \n",
       "16 6644366 49.0    47.0 \n",
       "17 6745337 36.5    37.0 \n",
       "18 6700770 41.0    45.0 \n",
       "19 6769043 43.4    46.5 \n",
       "20 6768852 39.9    39.0 \n",
       "21 6780574 41.3    41.5 \n",
       "22 6529563 45.9    44.5 \n",
       "23 6753554 49.0    48.0 \n",
       "24 6776072 34.5      NA \n",
       "25 6657312 39.9    38.0 \n",
       "26 6815495 36.5    35.5 \n",
       "27 6783198 49.5    48.5 \n",
       "28 6784719 42.0    36.5 \n",
       "29 6703608 47.0    49.0 "
      ]
     },
     "metadata": {},
     "output_type": "display_data"
    }
   ],
   "source": [
    "# YOUR CODE HERE\n",
    "setwd(\"/Users/cbseuser/Desktop/quarter1/CMPS266-R/\")\n",
    "quiz <- read.table(file=\"Worksheets_and_Quizzes.csv\", header = TRUE, sep = \",\")\n",
    "quiz\n",
    "lab <- read.table(file=\"Labs.csv\", header = TRUE, sep = \",\")\n",
    "lab\n",
    "exam <- read.table(file=\"Exams.csv\", header = TRUE, sep = \",\")\n",
    "exam\n",
    "#stop(\"Not Implemented\")"
   ]
  },
  {
   "cell_type": "markdown",
   "metadata": {
    "deletable": false,
    "editable": false,
    "nbgrader": {
     "checksum": "f42c7a12961ddc60f7ac9498fd558375",
     "grade": false,
     "grade_id": "problem_3_part_2",
     "locked": true,
     "schema_version": 1,
     "solution": false
    }
   },
   "source": [
    "The following code performs a left join and a right join on the lab and quiz data frames. Why does the left join have fewer rows than the right join?"
   ]
  },
  {
   "cell_type": "code",
   "execution_count": 81,
   "metadata": {
    "deletable": false,
    "editable": false,
    "nbgrader": {
     "checksum": "491438d5fc110b31a9d1ffd9a2465709",
     "grade": false,
     "grade_id": "problem_3_part_2_code",
     "locked": true,
     "schema_version": 1,
     "solution": false
    }
   },
   "outputs": [
    {
     "data": {
      "text/html": [
       "<ol class=list-inline>\n",
       "\t<li>28</li>\n",
       "\t<li>23</li>\n",
       "</ol>\n"
      ],
      "text/latex": [
       "\\begin{enumerate*}\n",
       "\\item 28\n",
       "\\item 23\n",
       "\\end{enumerate*}\n"
      ],
      "text/markdown": [
       "1. 28\n",
       "2. 23\n",
       "\n",
       "\n"
      ],
      "text/plain": [
       "[1] 28 23"
      ]
     },
     "metadata": {},
     "output_type": "display_data"
    },
    {
     "data": {
      "text/html": [
       "<ol class=list-inline>\n",
       "\t<li>29</li>\n",
       "\t<li>23</li>\n",
       "</ol>\n"
      ],
      "text/latex": [
       "\\begin{enumerate*}\n",
       "\\item 29\n",
       "\\item 23\n",
       "\\end{enumerate*}\n"
      ],
      "text/markdown": [
       "1. 29\n",
       "2. 23\n",
       "\n",
       "\n"
      ],
      "text/plain": [
       "[1] 29 23"
      ]
     },
     "metadata": {},
     "output_type": "display_data"
    }
   ],
   "source": [
    "left <- merge(lab,quiz,all.x=TRUE)\n",
    "right <- merge(lab,quiz,all.y=TRUE)\n",
    "dim(left)\n",
    "dim(right)"
   ]
  },
  {
   "cell_type": "markdown",
   "metadata": {
    "deletable": false,
    "nbgrader": {
     "checksum": "8276347447b3e7d5402185a6e49f9bbc",
     "grade": true,
     "grade_id": "problem_3_part_2_explain",
     "locked": false,
     "points": 1,
     "schema_version": 1,
     "solution": true
    }
   },
   "source": [
    "YOUR ANSWER/EXPLANATION HERE\n",
    "\n",
    "In code $left <- merge(lab,quiz,all.x=TRUE)$, 'lab' is considers as 'x' and it has 28 rows and the IDs in this data frame are also available in 'quiz' data frame. As we have set $all.x=TRUE$ which means left outer join for 'lab' and 'quiz', the 'left' data frame also has 28 rows.\n",
    "\n",
    "However, in code $right <- merge(lab,quiz,all.y=TRUE)$, 'quiz' is considers as 'y' and it has 29 rows and it has 29 rows which means that there is one 'ID' in this data frame that is not available in 'lab' data frame. As we have set $all.y=TRUE$ which means right outer join for 'lab' and 'quiz', the 'right' data frame will have 29 rows. \n",
    "\n",
    "Its worthy to notice that when we set $all.y=TRUE$, we will have one row in the output for each row that exists in y but it doesn't match with any rows in x.  "
   ]
  },
  {
   "cell_type": "markdown",
   "metadata": {
    "deletable": false,
    "editable": false,
    "nbgrader": {
     "checksum": "6f72d8bb37e0b10ceca1c7908b89cab0",
     "grade": false,
     "grade_id": "problem_3_part_3",
     "locked": true,
     "schema_version": 1,
     "solution": false
    }
   },
   "source": [
    "Join all three data frames together into one data frame names `grades`. Be sure that all of the students are included in the `grades` data frame!"
   ]
  },
  {
   "cell_type": "code",
   "execution_count": 83,
   "metadata": {
    "deletable": false,
    "nbgrader": {
     "checksum": "247f33ae08dd130d7448ed54c220f405",
     "grade": false,
     "grade_id": "problem_3_part_3_code",
     "locked": false,
     "schema_version": 1,
     "solution": true
    }
   },
   "outputs": [
    {
     "data": {
      "text/html": [
       "<table>\n",
       "<thead><tr><th scope=col>ID</th><th scope=col>Lab_1</th><th scope=col>Lab_2</th><th scope=col>Lab_3</th><th scope=col>Lab_4</th><th scope=col>Lab_5</th><th scope=col>Lab_6</th><th scope=col>Lab_7</th><th scope=col>Lab_8</th><th scope=col>Lab_9</th><th scope=col>⋯</th><th scope=col>Quiz_4</th><th scope=col>Quiz_5</th><th scope=col>Quiz_6</th><th scope=col>Quiz_7</th><th scope=col>Quiz_8</th><th scope=col>Quiz_9</th><th scope=col>Quiz_10</th><th scope=col>Quiz_11</th><th scope=col>Midterm</th><th scope=col>Final</th></tr></thead>\n",
       "<tbody>\n",
       "\t<tr><td>6529563 </td><td> 52     </td><td>100     </td><td>100     </td><td>100     </td><td> 85     </td><td> 96     </td><td>  0     </td><td> 60     </td><td> 50     </td><td>⋯       </td><td>12.0    </td><td> 5.0    </td><td>13.0    </td><td> 7.0    </td><td>11.97   </td><td> 0.00   </td><td>15.0    </td><td>0.000000</td><td>45.9    </td><td>44.5    </td></tr>\n",
       "\t<tr><td>6644366 </td><td>100     </td><td>105     </td><td>100     </td><td> 96     </td><td>100     </td><td>100     </td><td>100     </td><td>100     </td><td>100     </td><td>⋯       </td><td>15.0    </td><td>15.0    </td><td>15.0    </td><td>14.0    </td><td>14.80   </td><td>14.00   </td><td>14.0    </td><td>7.000000</td><td>49.0    </td><td>47.0    </td></tr>\n",
       "\t<tr><td>6657312 </td><td> 96     </td><td> 92     </td><td> 95     </td><td> 90     </td><td> 75     </td><td>100     </td><td>  0     </td><td> 77     </td><td> 82     </td><td>⋯       </td><td>14.5    </td><td>13.0    </td><td> 9.0    </td><td> 8.0    </td><td> 0.00   </td><td>10.50   </td><td> 0.0    </td><td>7.000000</td><td>39.9    </td><td>38.0    </td></tr>\n",
       "\t<tr><td>6699725 </td><td>100     </td><td> 97     </td><td> 96     </td><td>100     </td><td> 91     </td><td> 97     </td><td> 88     </td><td> 99     </td><td> 92     </td><td>⋯       </td><td>12.0    </td><td>13.0    </td><td>15.0    </td><td>12.0    </td><td>10.50   </td><td>14.00   </td><td>14.0    </td><td>4.400000</td><td>40.0    </td><td>42.5    </td></tr>\n",
       "\t<tr><td>6699758 </td><td> 96     </td><td>105     </td><td> 95     </td><td> 95     </td><td> 90     </td><td> 97     </td><td> 88     </td><td>100     </td><td> 90     </td><td>⋯       </td><td>13.0    </td><td>12.5    </td><td>13.0    </td><td>14.0    </td><td>12.00   </td><td>13.25   </td><td>14.0    </td><td>6.500000</td><td>41.3    </td><td>32.0    </td></tr>\n",
       "\t<tr><td>6700770 </td><td>100     </td><td>104     </td><td>100     </td><td>100     </td><td> 90     </td><td> 89     </td><td> 86     </td><td> 81     </td><td> 92     </td><td>⋯       </td><td>12.0    </td><td>14.0    </td><td>14.0    </td><td>14.0    </td><td>12.00   </td><td>15.00   </td><td>14.0    </td><td>5.500000</td><td>41.0    </td><td>45.0    </td></tr>\n",
       "\t<tr><td>6703608 </td><td> 97     </td><td> 98     </td><td>100     </td><td> 95     </td><td> 85     </td><td> 98     </td><td> 89     </td><td> 96     </td><td>100     </td><td>⋯       </td><td>15.0    </td><td>14.0    </td><td>13.5    </td><td> 9.8    </td><td>14.80   </td><td>15.00   </td><td>14.0    </td><td>6.500000</td><td>47.0    </td><td>49.0    </td></tr>\n",
       "\t<tr><td>6729771 </td><td> 96     </td><td> 63     </td><td> 76     </td><td> 85     </td><td> 80     </td><td> 87     </td><td>  0     </td><td>  0     </td><td>  0     </td><td>⋯       </td><td> 7.0    </td><td>11.5    </td><td> 7.0    </td><td>10.0    </td><td> 7.00   </td><td> 8.75   </td><td> 9.0    </td><td>2.833333</td><td>30.0    </td><td> 0.0    </td></tr>\n",
       "\t<tr><td>6745337 </td><td> 96     </td><td> 75     </td><td> 92     </td><td> 36     </td><td> 30     </td><td> 67     </td><td> 39     </td><td> 67     </td><td> 79     </td><td>⋯       </td><td> 9.0    </td><td> 7.5    </td><td>10.0    </td><td> 9.0    </td><td> 8.00   </td><td>11.50   </td><td> 6.0    </td><td>0.000000</td><td>36.5    </td><td>37.0    </td></tr>\n",
       "\t<tr><td>6753554 </td><td>100     </td><td>101     </td><td> 95     </td><td>100     </td><td> 95     </td><td> 84     </td><td>100     </td><td> 87     </td><td> 87     </td><td>⋯       </td><td>13.0    </td><td>12.5    </td><td>15.0    </td><td>14.5    </td><td>14.00   </td><td>15.00   </td><td>14.0    </td><td>6.300000</td><td>49.0    </td><td>48.0    </td></tr>\n",
       "\t<tr><td>6755585 </td><td>100     </td><td>105     </td><td> 80     </td><td> 98     </td><td> 95     </td><td> 90     </td><td>100     </td><td>104     </td><td>100     </td><td>⋯       </td><td>14.0    </td><td>15.0    </td><td>15.0    </td><td>12.5    </td><td>13.50   </td><td>15.00   </td><td>15.0    </td><td>7.000000</td><td>48.0    </td><td>41.5    </td></tr>\n",
       "\t<tr><td>6768777 </td><td>100     </td><td>105     </td><td> 98     </td><td> 96     </td><td>100     </td><td>100     </td><td>100     </td><td>100     </td><td>100     </td><td>⋯       </td><td>15.0    </td><td>15.0    </td><td>15.0    </td><td>14.0    </td><td>15.00   </td><td>14.25   </td><td>15.0    </td><td>7.000000</td><td>49.0    </td><td>48.0    </td></tr>\n",
       "\t<tr><td>6768852 </td><td> 96     </td><td>102     </td><td> 98     </td><td> 95     </td><td> 85     </td><td> 89     </td><td> 87     </td><td> 97     </td><td> 93     </td><td>⋯       </td><td>13.0    </td><td> 8.0    </td><td>15.0    </td><td>13.5    </td><td>14.00   </td><td>12.25   </td><td> 9.5    </td><td>6.500000</td><td>39.9    </td><td>39.0    </td></tr>\n",
       "\t<tr><td>6769043 </td><td> 95     </td><td>105     </td><td>100     </td><td> 97     </td><td> 95     </td><td> 97     </td><td>100     </td><td> 97     </td><td>100     </td><td>⋯       </td><td>13.0    </td><td>10.0    </td><td>13.0    </td><td>13.0    </td><td>14.80   </td><td>12.00   </td><td>14.0    </td><td>4.000000</td><td>43.4    </td><td>46.5    </td></tr>\n",
       "\t<tr><td>6770058 </td><td>100     </td><td>105     </td><td> 98     </td><td>100     </td><td> 94     </td><td> 97     </td><td> 90     </td><td> 90     </td><td>100     </td><td>⋯       </td><td>14.0    </td><td>14.0    </td><td>14.0    </td><td>12.0    </td><td>13.00   </td><td>15.00   </td><td>14.0    </td><td>5.400000</td><td>40.0    </td><td>37.5    </td></tr>\n",
       "\t<tr><td>6770735 </td><td> 96     </td><td> 90     </td><td> 93     </td><td> 98     </td><td>100     </td><td> 97     </td><td> 98     </td><td>104     </td><td>100     </td><td>⋯       </td><td>15.0    </td><td>13.0    </td><td>13.0    </td><td>14.0    </td><td>12.00   </td><td>13.50   </td><td>13.0    </td><td>6.500000</td><td>47.5    </td><td>44.0    </td></tr>\n",
       "\t<tr><td>6773741 </td><td> 97     </td><td> 90     </td><td> 95     </td><td> 60     </td><td> 66     </td><td> 88     </td><td> 75     </td><td> 70     </td><td> 84     </td><td>⋯       </td><td>14.0    </td><td> 9.0    </td><td>11.0    </td><td> 5.0    </td><td>10.50   </td><td>15.00   </td><td>15.0    </td><td>7.000000</td><td>36.4    </td><td>29.5    </td></tr>\n",
       "\t<tr><td>6776072 </td><td>  0     </td><td>  0     </td><td>  0     </td><td>  0     </td><td>  0     </td><td>  0     </td><td>  0     </td><td>  0     </td><td>  0     </td><td>⋯       </td><td>10.0    </td><td>12.0    </td><td> 0.0    </td><td> 0.0    </td><td> 0.00   </td><td> 0.00   </td><td>13.0    </td><td>4.000000</td><td>34.5    </td><td> 0.0    </td></tr>\n",
       "\t<tr><td>6778100 </td><td>100     </td><td>105     </td><td>100     </td><td>100     </td><td>100     </td><td>100     </td><td>100     </td><td>100     </td><td>100     </td><td>⋯       </td><td>13.5    </td><td>14.0    </td><td>14.0    </td><td>14.5    </td><td>14.00   </td><td>15.00   </td><td>15.0    </td><td>0.000000</td><td>49.5    </td><td>48.0    </td></tr>\n",
       "\t<tr><td>6779412 </td><td>100     </td><td>105     </td><td>100     </td><td> 96     </td><td>100     </td><td>100     </td><td>100     </td><td>105     </td><td> 95     </td><td>⋯       </td><td>14.0    </td><td>15.0    </td><td>14.0    </td><td>15.0    </td><td>14.00   </td><td>15.00   </td><td>15.0    </td><td>7.000000</td><td>49.8    </td><td>47.5    </td></tr>\n",
       "\t<tr><td>6780574 </td><td>100     </td><td> 98     </td><td> 92     </td><td> 98     </td><td> 85     </td><td> 97     </td><td>100     </td><td>104     </td><td> 93     </td><td>⋯       </td><td>15.0    </td><td>13.5    </td><td>15.0    </td><td>11.5    </td><td>13.00   </td><td>14.50   </td><td>15.0    </td><td>6.500000</td><td>41.3    </td><td>41.5    </td></tr>\n",
       "\t<tr><td>6783198 </td><td>100     </td><td>105     </td><td>100     </td><td> 96     </td><td>100     </td><td>100     </td><td>100     </td><td> 96     </td><td>100     </td><td>⋯       </td><td>15.0    </td><td>15.0    </td><td>15.0    </td><td>15.0    </td><td>14.00   </td><td>14.00   </td><td>15.0    </td><td>7.000000</td><td>49.5    </td><td>48.5    </td></tr>\n",
       "\t<tr><td>6784719 </td><td> 98     </td><td> 96     </td><td> 97     </td><td> 96     </td><td> 95     </td><td> 78     </td><td> 92     </td><td> 83     </td><td> 87     </td><td>⋯       </td><td>13.0    </td><td>10.5    </td><td>13.0    </td><td> 9.0    </td><td>12.30   </td><td>13.50   </td><td> 9.5    </td><td>0.000000</td><td>42.0    </td><td>36.5    </td></tr>\n",
       "\t<tr><td>6789875 </td><td>100     </td><td>100     </td><td> 98     </td><td>100     </td><td> 90     </td><td> 94     </td><td> 97     </td><td> 80     </td><td> 97     </td><td>⋯       </td><td>13.0    </td><td>13.0    </td><td>14.0    </td><td>12.0    </td><td>12.50   </td><td>11.00   </td><td>13.0    </td><td>6.500000</td><td>41.0    </td><td>41.5    </td></tr>\n",
       "\t<tr><td>6799408 </td><td>100     </td><td>105     </td><td>100     </td><td> 96     </td><td>  0     </td><td> 78     </td><td> 97     </td><td>105     </td><td> 62     </td><td>⋯       </td><td>15.0    </td><td>11.5    </td><td>14.0    </td><td> 8.0    </td><td>12.50   </td><td>14.50   </td><td>14.0    </td><td>6.000000</td><td>47.0    </td><td>43.0    </td></tr>\n",
       "\t<tr><td>6815495 </td><td> 95     </td><td>  0     </td><td> 97     </td><td> 50     </td><td> 75     </td><td> 87     </td><td> 58     </td><td> 59     </td><td> 87     </td><td>⋯       </td><td> 9.0    </td><td>11.0    </td><td>13.0    </td><td> 4.5    </td><td>10.50   </td><td>12.00   </td><td> 8.5    </td><td>7.000000</td><td>36.5    </td><td>35.5    </td></tr>\n",
       "\t<tr><td>6816645 </td><td>100     </td><td>105     </td><td>100     </td><td>100     </td><td> 80     </td><td> 95     </td><td>100     </td><td>  0     </td><td> 95     </td><td>⋯       </td><td>14.0    </td><td> 0.0    </td><td>14.0    </td><td>11.8    </td><td>12.50   </td><td>11.00   </td><td>14.0    </td><td>6.000000</td><td>47.5    </td><td>42.0    </td></tr>\n",
       "\t<tr><td>6818670 </td><td>100     </td><td>101     </td><td> 96     </td><td> 96     </td><td> 90     </td><td>100     </td><td>100     </td><td>100     </td><td>100     </td><td>⋯       </td><td>12.0    </td><td>14.0    </td><td>14.0    </td><td>12.0    </td><td>14.00   </td><td>15.00   </td><td>14.0    </td><td>7.000000</td><td>36.8    </td><td>40.5    </td></tr>\n",
       "\t<tr><td>6826957 </td><td>100     </td><td> 81     </td><td> 94     </td><td>  0     </td><td> 80     </td><td> 81     </td><td>  0     </td><td>  0     </td><td>  0     </td><td>⋯       </td><td> 6.0    </td><td>10.5    </td><td>12.0    </td><td> 1.0    </td><td> 8.00   </td><td> 8.50   </td><td> 0.0    </td><td>0.000000</td><td>32.9    </td><td>26.5    </td></tr>\n",
       "</tbody>\n",
       "</table>\n"
      ],
      "text/latex": [
       "\\begin{tabular}{r|lllllllllllllllllllllllll}\n",
       " ID & Lab\\_1 & Lab\\_2 & Lab\\_3 & Lab\\_4 & Lab\\_5 & Lab\\_6 & Lab\\_7 & Lab\\_8 & Lab\\_9 & ⋯ & Quiz\\_4 & Quiz\\_5 & Quiz\\_6 & Quiz\\_7 & Quiz\\_8 & Quiz\\_9 & Quiz\\_10 & Quiz\\_11 & Midterm & Final\\\\\n",
       "\\hline\n",
       "\t 6529563  &  52      & 100      & 100      & 100      &  85      &  96      &   0      &  60      &  50      & ⋯        & 12.0     &  5.0     & 13.0     &  7.0     & 11.97    &  0.00    & 15.0     & 0.000000 & 45.9     & 44.5    \\\\\n",
       "\t 6644366  & 100      & 105      & 100      &  96      & 100      & 100      & 100      & 100      & 100      & ⋯        & 15.0     & 15.0     & 15.0     & 14.0     & 14.80    & 14.00    & 14.0     & 7.000000 & 49.0     & 47.0    \\\\\n",
       "\t 6657312  &  96      &  92      &  95      &  90      &  75      & 100      &   0      &  77      &  82      & ⋯        & 14.5     & 13.0     &  9.0     &  8.0     &  0.00    & 10.50    &  0.0     & 7.000000 & 39.9     & 38.0    \\\\\n",
       "\t 6699725  & 100      &  97      &  96      & 100      &  91      &  97      &  88      &  99      &  92      & ⋯        & 12.0     & 13.0     & 15.0     & 12.0     & 10.50    & 14.00    & 14.0     & 4.400000 & 40.0     & 42.5    \\\\\n",
       "\t 6699758  &  96      & 105      &  95      &  95      &  90      &  97      &  88      & 100      &  90      & ⋯        & 13.0     & 12.5     & 13.0     & 14.0     & 12.00    & 13.25    & 14.0     & 6.500000 & 41.3     & 32.0    \\\\\n",
       "\t 6700770  & 100      & 104      & 100      & 100      &  90      &  89      &  86      &  81      &  92      & ⋯        & 12.0     & 14.0     & 14.0     & 14.0     & 12.00    & 15.00    & 14.0     & 5.500000 & 41.0     & 45.0    \\\\\n",
       "\t 6703608  &  97      &  98      & 100      &  95      &  85      &  98      &  89      &  96      & 100      & ⋯        & 15.0     & 14.0     & 13.5     &  9.8     & 14.80    & 15.00    & 14.0     & 6.500000 & 47.0     & 49.0    \\\\\n",
       "\t 6729771  &  96      &  63      &  76      &  85      &  80      &  87      &   0      &   0      &   0      & ⋯        &  7.0     & 11.5     &  7.0     & 10.0     &  7.00    &  8.75    &  9.0     & 2.833333 & 30.0     &  0.0    \\\\\n",
       "\t 6745337  &  96      &  75      &  92      &  36      &  30      &  67      &  39      &  67      &  79      & ⋯        &  9.0     &  7.5     & 10.0     &  9.0     &  8.00    & 11.50    &  6.0     & 0.000000 & 36.5     & 37.0    \\\\\n",
       "\t 6753554  & 100      & 101      &  95      & 100      &  95      &  84      & 100      &  87      &  87      & ⋯        & 13.0     & 12.5     & 15.0     & 14.5     & 14.00    & 15.00    & 14.0     & 6.300000 & 49.0     & 48.0    \\\\\n",
       "\t 6755585  & 100      & 105      &  80      &  98      &  95      &  90      & 100      & 104      & 100      & ⋯        & 14.0     & 15.0     & 15.0     & 12.5     & 13.50    & 15.00    & 15.0     & 7.000000 & 48.0     & 41.5    \\\\\n",
       "\t 6768777  & 100      & 105      &  98      &  96      & 100      & 100      & 100      & 100      & 100      & ⋯        & 15.0     & 15.0     & 15.0     & 14.0     & 15.00    & 14.25    & 15.0     & 7.000000 & 49.0     & 48.0    \\\\\n",
       "\t 6768852  &  96      & 102      &  98      &  95      &  85      &  89      &  87      &  97      &  93      & ⋯        & 13.0     &  8.0     & 15.0     & 13.5     & 14.00    & 12.25    &  9.5     & 6.500000 & 39.9     & 39.0    \\\\\n",
       "\t 6769043  &  95      & 105      & 100      &  97      &  95      &  97      & 100      &  97      & 100      & ⋯        & 13.0     & 10.0     & 13.0     & 13.0     & 14.80    & 12.00    & 14.0     & 4.000000 & 43.4     & 46.5    \\\\\n",
       "\t 6770058  & 100      & 105      &  98      & 100      &  94      &  97      &  90      &  90      & 100      & ⋯        & 14.0     & 14.0     & 14.0     & 12.0     & 13.00    & 15.00    & 14.0     & 5.400000 & 40.0     & 37.5    \\\\\n",
       "\t 6770735  &  96      &  90      &  93      &  98      & 100      &  97      &  98      & 104      & 100      & ⋯        & 15.0     & 13.0     & 13.0     & 14.0     & 12.00    & 13.50    & 13.0     & 6.500000 & 47.5     & 44.0    \\\\\n",
       "\t 6773741  &  97      &  90      &  95      &  60      &  66      &  88      &  75      &  70      &  84      & ⋯        & 14.0     &  9.0     & 11.0     &  5.0     & 10.50    & 15.00    & 15.0     & 7.000000 & 36.4     & 29.5    \\\\\n",
       "\t 6776072  &   0      &   0      &   0      &   0      &   0      &   0      &   0      &   0      &   0      & ⋯        & 10.0     & 12.0     &  0.0     &  0.0     &  0.00    &  0.00    & 13.0     & 4.000000 & 34.5     &  0.0    \\\\\n",
       "\t 6778100  & 100      & 105      & 100      & 100      & 100      & 100      & 100      & 100      & 100      & ⋯        & 13.5     & 14.0     & 14.0     & 14.5     & 14.00    & 15.00    & 15.0     & 0.000000 & 49.5     & 48.0    \\\\\n",
       "\t 6779412  & 100      & 105      & 100      &  96      & 100      & 100      & 100      & 105      &  95      & ⋯        & 14.0     & 15.0     & 14.0     & 15.0     & 14.00    & 15.00    & 15.0     & 7.000000 & 49.8     & 47.5    \\\\\n",
       "\t 6780574  & 100      &  98      &  92      &  98      &  85      &  97      & 100      & 104      &  93      & ⋯        & 15.0     & 13.5     & 15.0     & 11.5     & 13.00    & 14.50    & 15.0     & 6.500000 & 41.3     & 41.5    \\\\\n",
       "\t 6783198  & 100      & 105      & 100      &  96      & 100      & 100      & 100      &  96      & 100      & ⋯        & 15.0     & 15.0     & 15.0     & 15.0     & 14.00    & 14.00    & 15.0     & 7.000000 & 49.5     & 48.5    \\\\\n",
       "\t 6784719  &  98      &  96      &  97      &  96      &  95      &  78      &  92      &  83      &  87      & ⋯        & 13.0     & 10.5     & 13.0     &  9.0     & 12.30    & 13.50    &  9.5     & 0.000000 & 42.0     & 36.5    \\\\\n",
       "\t 6789875  & 100      & 100      &  98      & 100      &  90      &  94      &  97      &  80      &  97      & ⋯        & 13.0     & 13.0     & 14.0     & 12.0     & 12.50    & 11.00    & 13.0     & 6.500000 & 41.0     & 41.5    \\\\\n",
       "\t 6799408  & 100      & 105      & 100      &  96      &   0      &  78      &  97      & 105      &  62      & ⋯        & 15.0     & 11.5     & 14.0     &  8.0     & 12.50    & 14.50    & 14.0     & 6.000000 & 47.0     & 43.0    \\\\\n",
       "\t 6815495  &  95      &   0      &  97      &  50      &  75      &  87      &  58      &  59      &  87      & ⋯        &  9.0     & 11.0     & 13.0     &  4.5     & 10.50    & 12.00    &  8.5     & 7.000000 & 36.5     & 35.5    \\\\\n",
       "\t 6816645  & 100      & 105      & 100      & 100      &  80      &  95      & 100      &   0      &  95      & ⋯        & 14.0     &  0.0     & 14.0     & 11.8     & 12.50    & 11.00    & 14.0     & 6.000000 & 47.5     & 42.0    \\\\\n",
       "\t 6818670  & 100      & 101      &  96      &  96      &  90      & 100      & 100      & 100      & 100      & ⋯        & 12.0     & 14.0     & 14.0     & 12.0     & 14.00    & 15.00    & 14.0     & 7.000000 & 36.8     & 40.5    \\\\\n",
       "\t 6826957  & 100      &  81      &  94      &   0      &  80      &  81      &   0      &   0      &   0      & ⋯        &  6.0     & 10.5     & 12.0     &  1.0     &  8.00    &  8.50    &  0.0     & 0.000000 & 32.9     & 26.5    \\\\\n",
       "\\end{tabular}\n"
      ],
      "text/markdown": [
       "\n",
       "ID | Lab_1 | Lab_2 | Lab_3 | Lab_4 | Lab_5 | Lab_6 | Lab_7 | Lab_8 | Lab_9 | ⋯ | Quiz_4 | Quiz_5 | Quiz_6 | Quiz_7 | Quiz_8 | Quiz_9 | Quiz_10 | Quiz_11 | Midterm | Final | \n",
       "|---|---|---|---|---|---|---|---|---|---|---|---|---|---|---|---|---|---|---|---|---|---|---|---|---|---|---|---|---|\n",
       "| 6529563  |  52      | 100      | 100      | 100      |  85      |  96      |   0      |  60      |  50      | ⋯        | 12.0     |  5.0     | 13.0     |  7.0     | 11.97    |  0.00    | 15.0     | 0.000000 | 45.9     | 44.5     | \n",
       "| 6644366  | 100      | 105      | 100      |  96      | 100      | 100      | 100      | 100      | 100      | ⋯        | 15.0     | 15.0     | 15.0     | 14.0     | 14.80    | 14.00    | 14.0     | 7.000000 | 49.0     | 47.0     | \n",
       "| 6657312  |  96      |  92      |  95      |  90      |  75      | 100      |   0      |  77      |  82      | ⋯        | 14.5     | 13.0     |  9.0     |  8.0     |  0.00    | 10.50    |  0.0     | 7.000000 | 39.9     | 38.0     | \n",
       "| 6699725  | 100      |  97      |  96      | 100      |  91      |  97      |  88      |  99      |  92      | ⋯        | 12.0     | 13.0     | 15.0     | 12.0     | 10.50    | 14.00    | 14.0     | 4.400000 | 40.0     | 42.5     | \n",
       "| 6699758  |  96      | 105      |  95      |  95      |  90      |  97      |  88      | 100      |  90      | ⋯        | 13.0     | 12.5     | 13.0     | 14.0     | 12.00    | 13.25    | 14.0     | 6.500000 | 41.3     | 32.0     | \n",
       "| 6700770  | 100      | 104      | 100      | 100      |  90      |  89      |  86      |  81      |  92      | ⋯        | 12.0     | 14.0     | 14.0     | 14.0     | 12.00    | 15.00    | 14.0     | 5.500000 | 41.0     | 45.0     | \n",
       "| 6703608  |  97      |  98      | 100      |  95      |  85      |  98      |  89      |  96      | 100      | ⋯        | 15.0     | 14.0     | 13.5     |  9.8     | 14.80    | 15.00    | 14.0     | 6.500000 | 47.0     | 49.0     | \n",
       "| 6729771  |  96      |  63      |  76      |  85      |  80      |  87      |   0      |   0      |   0      | ⋯        |  7.0     | 11.5     |  7.0     | 10.0     |  7.00    |  8.75    |  9.0     | 2.833333 | 30.0     |  0.0     | \n",
       "| 6745337  |  96      |  75      |  92      |  36      |  30      |  67      |  39      |  67      |  79      | ⋯        |  9.0     |  7.5     | 10.0     |  9.0     |  8.00    | 11.50    |  6.0     | 0.000000 | 36.5     | 37.0     | \n",
       "| 6753554  | 100      | 101      |  95      | 100      |  95      |  84      | 100      |  87      |  87      | ⋯        | 13.0     | 12.5     | 15.0     | 14.5     | 14.00    | 15.00    | 14.0     | 6.300000 | 49.0     | 48.0     | \n",
       "| 6755585  | 100      | 105      |  80      |  98      |  95      |  90      | 100      | 104      | 100      | ⋯        | 14.0     | 15.0     | 15.0     | 12.5     | 13.50    | 15.00    | 15.0     | 7.000000 | 48.0     | 41.5     | \n",
       "| 6768777  | 100      | 105      |  98      |  96      | 100      | 100      | 100      | 100      | 100      | ⋯        | 15.0     | 15.0     | 15.0     | 14.0     | 15.00    | 14.25    | 15.0     | 7.000000 | 49.0     | 48.0     | \n",
       "| 6768852  |  96      | 102      |  98      |  95      |  85      |  89      |  87      |  97      |  93      | ⋯        | 13.0     |  8.0     | 15.0     | 13.5     | 14.00    | 12.25    |  9.5     | 6.500000 | 39.9     | 39.0     | \n",
       "| 6769043  |  95      | 105      | 100      |  97      |  95      |  97      | 100      |  97      | 100      | ⋯        | 13.0     | 10.0     | 13.0     | 13.0     | 14.80    | 12.00    | 14.0     | 4.000000 | 43.4     | 46.5     | \n",
       "| 6770058  | 100      | 105      |  98      | 100      |  94      |  97      |  90      |  90      | 100      | ⋯        | 14.0     | 14.0     | 14.0     | 12.0     | 13.00    | 15.00    | 14.0     | 5.400000 | 40.0     | 37.5     | \n",
       "| 6770735  |  96      |  90      |  93      |  98      | 100      |  97      |  98      | 104      | 100      | ⋯        | 15.0     | 13.0     | 13.0     | 14.0     | 12.00    | 13.50    | 13.0     | 6.500000 | 47.5     | 44.0     | \n",
       "| 6773741  |  97      |  90      |  95      |  60      |  66      |  88      |  75      |  70      |  84      | ⋯        | 14.0     |  9.0     | 11.0     |  5.0     | 10.50    | 15.00    | 15.0     | 7.000000 | 36.4     | 29.5     | \n",
       "| 6776072  |   0      |   0      |   0      |   0      |   0      |   0      |   0      |   0      |   0      | ⋯        | 10.0     | 12.0     |  0.0     |  0.0     |  0.00    |  0.00    | 13.0     | 4.000000 | 34.5     |  0.0     | \n",
       "| 6778100  | 100      | 105      | 100      | 100      | 100      | 100      | 100      | 100      | 100      | ⋯        | 13.5     | 14.0     | 14.0     | 14.5     | 14.00    | 15.00    | 15.0     | 0.000000 | 49.5     | 48.0     | \n",
       "| 6779412  | 100      | 105      | 100      |  96      | 100      | 100      | 100      | 105      |  95      | ⋯        | 14.0     | 15.0     | 14.0     | 15.0     | 14.00    | 15.00    | 15.0     | 7.000000 | 49.8     | 47.5     | \n",
       "| 6780574  | 100      |  98      |  92      |  98      |  85      |  97      | 100      | 104      |  93      | ⋯        | 15.0     | 13.5     | 15.0     | 11.5     | 13.00    | 14.50    | 15.0     | 6.500000 | 41.3     | 41.5     | \n",
       "| 6783198  | 100      | 105      | 100      |  96      | 100      | 100      | 100      |  96      | 100      | ⋯        | 15.0     | 15.0     | 15.0     | 15.0     | 14.00    | 14.00    | 15.0     | 7.000000 | 49.5     | 48.5     | \n",
       "| 6784719  |  98      |  96      |  97      |  96      |  95      |  78      |  92      |  83      |  87      | ⋯        | 13.0     | 10.5     | 13.0     |  9.0     | 12.30    | 13.50    |  9.5     | 0.000000 | 42.0     | 36.5     | \n",
       "| 6789875  | 100      | 100      |  98      | 100      |  90      |  94      |  97      |  80      |  97      | ⋯        | 13.0     | 13.0     | 14.0     | 12.0     | 12.50    | 11.00    | 13.0     | 6.500000 | 41.0     | 41.5     | \n",
       "| 6799408  | 100      | 105      | 100      |  96      |   0      |  78      |  97      | 105      |  62      | ⋯        | 15.0     | 11.5     | 14.0     |  8.0     | 12.50    | 14.50    | 14.0     | 6.000000 | 47.0     | 43.0     | \n",
       "| 6815495  |  95      |   0      |  97      |  50      |  75      |  87      |  58      |  59      |  87      | ⋯        |  9.0     | 11.0     | 13.0     |  4.5     | 10.50    | 12.00    |  8.5     | 7.000000 | 36.5     | 35.5     | \n",
       "| 6816645  | 100      | 105      | 100      | 100      |  80      |  95      | 100      |   0      |  95      | ⋯        | 14.0     |  0.0     | 14.0     | 11.8     | 12.50    | 11.00    | 14.0     | 6.000000 | 47.5     | 42.0     | \n",
       "| 6818670  | 100      | 101      |  96      |  96      |  90      | 100      | 100      | 100      | 100      | ⋯        | 12.0     | 14.0     | 14.0     | 12.0     | 14.00    | 15.00    | 14.0     | 7.000000 | 36.8     | 40.5     | \n",
       "| 6826957  | 100      |  81      |  94      |   0      |  80      |  81      |   0      |   0      |   0      | ⋯        |  6.0     | 10.5     | 12.0     |  1.0     |  8.00    |  8.50    |  0.0     | 0.000000 | 32.9     | 26.5     | \n",
       "\n",
       "\n"
      ],
      "text/plain": [
       "   ID      Lab_1 Lab_2 Lab_3 Lab_4 Lab_5 Lab_6 Lab_7 Lab_8 Lab_9 ⋯ Quiz_4\n",
       "1  6529563  52   100   100   100    85    96     0    60    50   ⋯ 12.0  \n",
       "2  6644366 100   105   100    96   100   100   100   100   100   ⋯ 15.0  \n",
       "3  6657312  96    92    95    90    75   100     0    77    82   ⋯ 14.5  \n",
       "4  6699725 100    97    96   100    91    97    88    99    92   ⋯ 12.0  \n",
       "5  6699758  96   105    95    95    90    97    88   100    90   ⋯ 13.0  \n",
       "6  6700770 100   104   100   100    90    89    86    81    92   ⋯ 12.0  \n",
       "7  6703608  97    98   100    95    85    98    89    96   100   ⋯ 15.0  \n",
       "8  6729771  96    63    76    85    80    87     0     0     0   ⋯  7.0  \n",
       "9  6745337  96    75    92    36    30    67    39    67    79   ⋯  9.0  \n",
       "10 6753554 100   101    95   100    95    84   100    87    87   ⋯ 13.0  \n",
       "11 6755585 100   105    80    98    95    90   100   104   100   ⋯ 14.0  \n",
       "12 6768777 100   105    98    96   100   100   100   100   100   ⋯ 15.0  \n",
       "13 6768852  96   102    98    95    85    89    87    97    93   ⋯ 13.0  \n",
       "14 6769043  95   105   100    97    95    97   100    97   100   ⋯ 13.0  \n",
       "15 6770058 100   105    98   100    94    97    90    90   100   ⋯ 14.0  \n",
       "16 6770735  96    90    93    98   100    97    98   104   100   ⋯ 15.0  \n",
       "17 6773741  97    90    95    60    66    88    75    70    84   ⋯ 14.0  \n",
       "18 6776072   0     0     0     0     0     0     0     0     0   ⋯ 10.0  \n",
       "19 6778100 100   105   100   100   100   100   100   100   100   ⋯ 13.5  \n",
       "20 6779412 100   105   100    96   100   100   100   105    95   ⋯ 14.0  \n",
       "21 6780574 100    98    92    98    85    97   100   104    93   ⋯ 15.0  \n",
       "22 6783198 100   105   100    96   100   100   100    96   100   ⋯ 15.0  \n",
       "23 6784719  98    96    97    96    95    78    92    83    87   ⋯ 13.0  \n",
       "24 6789875 100   100    98   100    90    94    97    80    97   ⋯ 13.0  \n",
       "25 6799408 100   105   100    96     0    78    97   105    62   ⋯ 15.0  \n",
       "26 6815495  95     0    97    50    75    87    58    59    87   ⋯  9.0  \n",
       "27 6816645 100   105   100   100    80    95   100     0    95   ⋯ 14.0  \n",
       "28 6818670 100   101    96    96    90   100   100   100   100   ⋯ 12.0  \n",
       "29 6826957 100    81    94     0    80    81     0     0     0   ⋯  6.0  \n",
       "   Quiz_5 Quiz_6 Quiz_7 Quiz_8 Quiz_9 Quiz_10 Quiz_11  Midterm Final\n",
       "1   5.0   13.0    7.0   11.97   0.00  15.0    0.000000 45.9    44.5 \n",
       "2  15.0   15.0   14.0   14.80  14.00  14.0    7.000000 49.0    47.0 \n",
       "3  13.0    9.0    8.0    0.00  10.50   0.0    7.000000 39.9    38.0 \n",
       "4  13.0   15.0   12.0   10.50  14.00  14.0    4.400000 40.0    42.5 \n",
       "5  12.5   13.0   14.0   12.00  13.25  14.0    6.500000 41.3    32.0 \n",
       "6  14.0   14.0   14.0   12.00  15.00  14.0    5.500000 41.0    45.0 \n",
       "7  14.0   13.5    9.8   14.80  15.00  14.0    6.500000 47.0    49.0 \n",
       "8  11.5    7.0   10.0    7.00   8.75   9.0    2.833333 30.0     0.0 \n",
       "9   7.5   10.0    9.0    8.00  11.50   6.0    0.000000 36.5    37.0 \n",
       "10 12.5   15.0   14.5   14.00  15.00  14.0    6.300000 49.0    48.0 \n",
       "11 15.0   15.0   12.5   13.50  15.00  15.0    7.000000 48.0    41.5 \n",
       "12 15.0   15.0   14.0   15.00  14.25  15.0    7.000000 49.0    48.0 \n",
       "13  8.0   15.0   13.5   14.00  12.25   9.5    6.500000 39.9    39.0 \n",
       "14 10.0   13.0   13.0   14.80  12.00  14.0    4.000000 43.4    46.5 \n",
       "15 14.0   14.0   12.0   13.00  15.00  14.0    5.400000 40.0    37.5 \n",
       "16 13.0   13.0   14.0   12.00  13.50  13.0    6.500000 47.5    44.0 \n",
       "17  9.0   11.0    5.0   10.50  15.00  15.0    7.000000 36.4    29.5 \n",
       "18 12.0    0.0    0.0    0.00   0.00  13.0    4.000000 34.5     0.0 \n",
       "19 14.0   14.0   14.5   14.00  15.00  15.0    0.000000 49.5    48.0 \n",
       "20 15.0   14.0   15.0   14.00  15.00  15.0    7.000000 49.8    47.5 \n",
       "21 13.5   15.0   11.5   13.00  14.50  15.0    6.500000 41.3    41.5 \n",
       "22 15.0   15.0   15.0   14.00  14.00  15.0    7.000000 49.5    48.5 \n",
       "23 10.5   13.0    9.0   12.30  13.50   9.5    0.000000 42.0    36.5 \n",
       "24 13.0   14.0   12.0   12.50  11.00  13.0    6.500000 41.0    41.5 \n",
       "25 11.5   14.0    8.0   12.50  14.50  14.0    6.000000 47.0    43.0 \n",
       "26 11.0   13.0    4.5   10.50  12.00   8.5    7.000000 36.5    35.5 \n",
       "27  0.0   14.0   11.8   12.50  11.00  14.0    6.000000 47.5    42.0 \n",
       "28 14.0   14.0   12.0   14.00  15.00  14.0    7.000000 36.8    40.5 \n",
       "29 10.5   12.0    1.0    8.00   8.50   0.0    0.000000 32.9    26.5 "
      ]
     },
     "metadata": {},
     "output_type": "display_data"
    },
    {
     "data": {
      "text/html": [
       "29"
      ],
      "text/latex": [
       "29"
      ],
      "text/markdown": [
       "29"
      ],
      "text/plain": [
       "[1] 29"
      ]
     },
     "metadata": {},
     "output_type": "display_data"
    }
   ],
   "source": [
    "# YOUR CODE HERE\n",
    "full <- merge(lab,quiz,all=TRUE)\n",
    "grades <- merge(full, exam,all=TRUE)\n",
    "#dim(grades)\n",
    "grades <- replace(grades,is.na(grades),0)\n",
    "grades\n",
    "dim(grades)[1]\n",
    "#stop(\"Not Implemented\")"
   ]
  },
  {
   "cell_type": "markdown",
   "metadata": {
    "deletable": false,
    "editable": false,
    "nbgrader": {
     "checksum": "c9af218a1317aeaecd9e7555dbc1220c",
     "grade": false,
     "grade_id": "problem_3_part_4",
     "locked": true,
     "schema_version": 1,
     "solution": false
    }
   },
   "source": [
    "Change the `grades` data frame so that the missing data (`NA`) are all zeros.\n",
    "\n",
    "Hint: Use the `is.na` function in R to identify which cells in the data frame are missing data."
   ]
  },
  {
   "cell_type": "code",
   "execution_count": null,
   "metadata": {
    "collapsed": true,
    "deletable": false,
    "editable": false,
    "nbgrader": {
     "checksum": "a334878bfe420f8b97ae2098ffb6e4c8",
     "grade": true,
     "grade_id": "problem_3_part_4_test",
     "locked": true,
     "points": 1,
     "schema_version": 1,
     "solution": false
    }
   },
   "outputs": [],
   "source": [
    "# This will test to see that you have the correct number of students\n",
    "stopifnot(dim(grades)[1] == 29)"
   ]
  },
  {
   "cell_type": "markdown",
   "metadata": {
    "deletable": false,
    "editable": false,
    "nbgrader": {
     "checksum": "844fd00affc9157faf6e93e247a8cc0e",
     "grade": false,
     "grade_id": "problem_4",
     "locked": true,
     "schema_version": 1,
     "solution": false
    }
   },
   "source": [
    "---\n",
    "\n",
    "# Problem 4\n",
    "\n",
    "If `b <- list(one = c(\"Santa\",\"Cruz\",\"California\",\"UCSC\",\"Go Slugs!\"), two = 1:5, three=c(FALSE,FALSE,TRUE))`, write an R expression that will give all elements, except the second, of `b`."
   ]
  },
  {
   "cell_type": "code",
   "execution_count": null,
   "metadata": {
    "collapsed": true,
    "deletable": false,
    "nbgrader": {
     "checksum": "0ec1f76e4e28585f195f3f8db9456b83",
     "grade": true,
     "grade_id": "problem_4_code",
     "locked": false,
     "points": 1,
     "schema_version": 1,
     "solution": true
    }
   },
   "outputs": [],
   "source": [
    "b <- list(one = c(\"Santa\",\"Cruz\",\"California\",\"UCSC\",\"Go Slugs!\"), two = 1:5, three=c(FALSE,FALSE,TRUE))\n",
    "# YOUR CODE HERE\n",
    "b <- b[-2]\n",
    "b\n",
    "#stop(\"Not Implemented\")"
   ]
  },
  {
   "cell_type": "markdown",
   "metadata": {
    "deletable": false,
    "editable": false,
    "nbgrader": {
     "checksum": "e831ec9a6ea8976ce67c567e602a408d",
     "grade": false,
     "grade_id": "problem_5",
     "locked": true,
     "schema_version": 1,
     "solution": false
    }
   },
   "source": [
    "---\n",
    "\n",
    "# Problem 5\n",
    "\n",
    "Let `my_text <- \"University of California, Santa Cruz\"`. Write code to split this string and return the following output:\n",
    "\n",
    "```\n",
    "[[1]]\n",
    "[1] \"University of California\"\n",
    "\n",
    "[[2]]\n",
    "[1] \"Santa Cruz\"\n",
    "```"
   ]
  },
  {
   "cell_type": "code",
   "execution_count": null,
   "metadata": {
    "collapsed": true,
    "deletable": false,
    "nbgrader": {
     "checksum": "54a70f5229b90558915893d66ea18725",
     "grade": true,
     "grade_id": "problem_5_code",
     "locked": false,
     "points": 1,
     "schema_version": 1,
     "solution": true
    }
   },
   "outputs": [],
   "source": [
    "my_text <- \"University of California, Santa Cruz\"\n",
    "a <- as.list(strsplit(my_text, \",\")[[1]])\n",
    "a\n",
    "# YOUR CODE HERE\n",
    "#stop(\"Not Implemented\")"
   ]
  },
  {
   "cell_type": "markdown",
   "metadata": {
    "deletable": false,
    "editable": false,
    "nbgrader": {
     "checksum": "1ae645597fa4579ae42ca5ab5f130270",
     "grade": false,
     "grade_id": "problem_6",
     "locked": true,
     "schema_version": 1,
     "solution": false
    }
   },
   "source": [
    "---\n",
    "\n",
    "# Problem 6\n",
    "\n",
    "For the following code, matrix-multiply the second and fourth list elements together. Name the matrix product `bayes`."
   ]
  },
  {
   "cell_type": "code",
   "execution_count": null,
   "metadata": {
    "collapsed": true,
    "deletable": false,
    "nbgrader": {
     "checksum": "4729f9ab1680213e97037b483e404b0c",
     "grade": false,
     "grade_id": "problem_6_code",
     "locked": false,
     "schema_version": 1,
     "solution": true
    }
   },
   "outputs": [],
   "source": [
    "set.seed(8675309) # This ensures that the random numbers generated are the same for everyone\n",
    "the_list <- list(\n",
    "    abel = \"bayesian\",\n",
    "    abc = matrix(rnorm(6),3,2),\n",
    "    tommy = \"jenny\",\n",
    "    def = matrix(rnorm(6),2,3))\n",
    "# YOUR CODE HERE\n",
    "the_list[2][[1]]\n",
    "the_list[4][[1]] \n",
    "bayes <- the_list[2][[1]]%*%the_list[4][[1]] \n",
    "bayes\n",
    "#stop(\"Not Implemented\")"
   ]
  },
  {
   "cell_type": "markdown",
   "metadata": {},
   "source": [
    "Now test to see that `bayes` has the correct dimensions."
   ]
  },
  {
   "cell_type": "code",
   "execution_count": null,
   "metadata": {
    "collapsed": true,
    "deletable": false,
    "editable": false,
    "nbgrader": {
     "checksum": "d7c6d76d6bbba45b7fd7c0a82ae03b1f",
     "grade": true,
     "grade_id": "problem_6_test",
     "locked": true,
     "points": 1,
     "schema_version": 1,
     "solution": false
    }
   },
   "outputs": [],
   "source": [
    "set.seed(8675309)\n",
    "stopifnot(dim(bayes) == c(3,3))"
   ]
  },
  {
   "cell_type": "markdown",
   "metadata": {
    "deletable": false,
    "editable": false,
    "nbgrader": {
     "checksum": "2cadb190a8ebbae71b17dc5bad5ba074",
     "grade": false,
     "grade_id": "problem_7",
     "locked": true,
     "schema_version": 1,
     "solution": false
    }
   },
   "source": [
    "---\n",
    "\n",
    "# Problem 7\n",
    "\n",
    "The list `x` appears in R as"
   ]
  },
  {
   "cell_type": "code",
   "execution_count": null,
   "metadata": {
    "collapsed": true,
    "deletable": false,
    "editable": false,
    "nbgrader": {
     "checksum": "4ed914bebf88b4c66bee07cec054289f",
     "grade": false,
     "grade_id": "problem_7_code",
     "locked": true,
     "schema_version": 1,
     "solution": false
    }
   },
   "outputs": [],
   "source": [
    "x <- list(do = c(1,9,6,5),\n",
    "         re = c(\"me\",\"fa\",\"so\"),\n",
    "         la = c(\"ti\",\"do\"))\n",
    "x"
   ]
  },
  {
   "cell_type": "markdown",
   "metadata": {},
   "source": [
    "Replace the character string 'me' with the string 'mi'."
   ]
  },
  {
   "cell_type": "code",
   "execution_count": null,
   "metadata": {
    "collapsed": true,
    "deletable": false,
    "nbgrader": {
     "checksum": "432262a4622582d7a278ac173819b80a",
     "grade": false,
     "grade_id": "problem_7_code_II",
     "locked": false,
     "schema_version": 1,
     "solution": true
    }
   },
   "outputs": [],
   "source": [
    "#YOUR CODE HERE\n",
    "x <- list(do = c(1,9,6,5),\n",
    "         re = c(\"me\",\"fa\",\"so\"),\n",
    "         la = c(\"ti\",\"do\"))\n",
    "\n",
    "x[[2]][1] =\"mi\"\n",
    "x\n",
    "#stop(\"Not Implemented\")"
   ]
  },
  {
   "cell_type": "code",
   "execution_count": null,
   "metadata": {
    "collapsed": true,
    "deletable": false,
    "editable": false,
    "nbgrader": {
     "checksum": "82e4572af3afea344c278e5e1846000d",
     "grade": true,
     "grade_id": "problem_7_test",
     "locked": true,
     "points": 1,
     "schema_version": 1,
     "solution": false
    }
   },
   "outputs": [],
   "source": [
    "# This chunk tests that the replacement worked"
   ]
  },
  {
   "cell_type": "markdown",
   "metadata": {
    "deletable": false,
    "editable": false,
    "nbgrader": {
     "checksum": "96fb481c2fe997ee2b0b743465be0019",
     "grade": false,
     "grade_id": "problem_8",
     "locked": true,
     "schema_version": 1,
     "solution": false
    }
   },
   "source": [
    "---\n",
    "\n",
    "# Problem 8\n",
    "\n",
    "Why does the following code produce an error?"
   ]
  },
  {
   "cell_type": "code",
   "execution_count": null,
   "metadata": {
    "collapsed": true,
    "deletable": false,
    "editable": false,
    "nbgrader": {
     "checksum": "36345deab3cb891946f623956d248638",
     "grade": false,
     "grade_id": "problem_8_error",
     "locked": true,
     "schema_version": 1,
     "solution": false
    }
   },
   "outputs": [],
   "source": [
    "santa_cruz <- new.env(\n",
    "    pizza = \"pizza my heart\",\n",
    "    thai = \"sabieng\",\n",
    "    beach = \"its\",\n",
    "    school = \"ucsc\",\n",
    "    park = \"wilder\")"
   ]
  },
  {
   "cell_type": "markdown",
   "metadata": {},
   "source": [
    "Change something in the first line to have the code assign the correct character strings to each name within an R object. "
   ]
  },
  {
   "cell_type": "code",
   "execution_count": null,
   "metadata": {
    "collapsed": true,
    "deletable": false,
    "nbgrader": {
     "checksum": "73d0c75f978467db4ffba9c7d4629520",
     "grade": false,
     "grade_id": "problem_8_code",
     "locked": false,
     "schema_version": 1,
     "solution": true
    }
   },
   "outputs": [],
   "source": [
    "# YOUR CODE HERE\n",
    "santa_cruz <- list2env(list(\n",
    "    pizza = \"pizza my heart\",\n",
    "    thai = \"sabieng\",\n",
    "    beach = \"its\",\n",
    "    school = \"ucsc\",\n",
    "    park = \"wilder\"))\n",
    "#ls(santa_cruz)\n",
    "#santa_cruz$beach == 'its'\n",
    "#stop(\"Not Implemented\")"
   ]
  },
  {
   "cell_type": "markdown",
   "metadata": {},
   "source": [
    "Now test to see if it worked."
   ]
  },
  {
   "cell_type": "code",
   "execution_count": null,
   "metadata": {
    "collapsed": true,
    "deletable": false,
    "editable": false,
    "nbgrader": {
     "checksum": "449ec7ccdebbb35a7e37c19d94c6b2cf",
     "grade": true,
     "grade_id": "problem_8_test",
     "locked": true,
     "points": 1,
     "schema_version": 1,
     "solution": false
    }
   },
   "outputs": [],
   "source": [
    "stopifnot(santa_cruz$beach == 'its')"
   ]
  },
  {
   "cell_type": "markdown",
   "metadata": {
    "deletable": false,
    "editable": false,
    "nbgrader": {
     "checksum": "3391d794683e42120e49ccd784529784",
     "grade": false,
     "grade_id": "problem_9_part_1",
     "locked": true,
     "schema_version": 1,
     "solution": false
    }
   },
   "source": [
    "---\n",
    "\n",
    " # Problem 9\n",
    " \n",
    " The `Titanic` data set is available in base R. It contains class, sex, and age information, as well as the number of people in each group that survived and died. Groups are defined by their class, sex, and age. Use this data to answer the following questions. First, find the total number of passengers in each group using the `aggregate` function. Name the aggregated data frame `total`."
   ]
  },
  {
   "cell_type": "code",
   "execution_count": null,
   "metadata": {
    "collapsed": true,
    "deletable": false,
    "nbgrader": {
     "checksum": "9b38768d9fdf9eadc69247d4dd7d67ec",
     "grade": true,
     "grade_id": "problem_9_part_1_code",
     "locked": false,
     "points": 1,
     "schema_version": 1,
     "solution": true
    }
   },
   "outputs": [],
   "source": [
    "data(\"Titanic\")\n",
    "Titanic_df <- as.data.frame(Titanic)\n",
    "# YOUR CODE HERE\n",
    "total <- aggregate(Titanic_df$Freq,by=list(\"Class\"=Titanic_df$Class, \"Sex\"=Titanic_df$Sex, \"Age\"=Titanic_df$Age), FUN=sum)\n",
    "total\n",
    "#stop(\"Not Implemented\")"
   ]
  },
  {
   "cell_type": "markdown",
   "metadata": {
    "deletable": false,
    "editable": false,
    "nbgrader": {
     "checksum": "1b90d61c0b903cec17aba60492807aa4",
     "grade": false,
     "grade_id": "problem_9_part_2",
     "locked": true,
     "schema_version": 1,
     "solution": false
    }
   },
   "source": [
    "Now `merge` this aggregated data frame with the original data frame, effectively adding another column to the data frame. You should change the name of `Freq` column in `total` to `Total` before the merge so your merged data frame has interpretable column names. Name your merged data frame `merged_df`."
   ]
  },
  {
   "cell_type": "code",
   "execution_count": null,
   "metadata": {
    "collapsed": true,
    "deletable": false,
    "nbgrader": {
     "checksum": "f10cd17d1a0f39cc6aa84e4742df354e",
     "grade": true,
     "grade_id": "problem_9_part_2_code",
     "locked": false,
     "points": 1,
     "schema_version": 1,
     "solution": true
    }
   },
   "outputs": [],
   "source": [
    "# YOUR CODE HERE\n",
    "colnames(total)[4] <- \"Total\"\n",
    "merged_df <- merge(total,Titanic_df, all=TRUE)\n",
    "merged_df\n",
    "#dim(merged_df)\n",
    "#stop(\"Not Implemented\")"
   ]
  },
  {
   "cell_type": "markdown",
   "metadata": {
    "deletable": false,
    "editable": false,
    "nbgrader": {
     "checksum": "a7fb39de04ea8b20bcc407ef4777f265",
     "grade": false,
     "grade_id": "problem_9_part_3",
     "locked": true,
     "schema_version": 1,
     "solution": false
    }
   },
   "source": [
    "You may notice that there are no children in the crew. Remove the rows of your data frame with a `Total` value of 0."
   ]
  },
  {
   "cell_type": "code",
   "execution_count": null,
   "metadata": {
    "collapsed": true,
    "deletable": false,
    "nbgrader": {
     "checksum": "0deddfb9cd7c63af94a0e13dda4b22cf",
     "grade": true,
     "grade_id": "problem_9_part_3_code",
     "locked": false,
     "points": 1,
     "schema_version": 1,
     "solution": true
    }
   },
   "outputs": [],
   "source": [
    "# YOUR CODE HERE\n",
    "merged_df <- subset(merged_df , Total>0)\n",
    "merged_df\n",
    "#dim(merged_df)\n",
    "#stop(\"Not Implemented\")"
   ]
  },
  {
   "cell_type": "markdown",
   "metadata": {
    "deletable": false,
    "editable": false,
    "nbgrader": {
     "checksum": "5f36dcacbf241302246492353d70b5c4",
     "grade": false,
     "grade_id": "problem_9_part_4",
     "locked": true,
     "schema_version": 1,
     "solution": false
    }
   },
   "source": [
    "Now use the `transform` function to find the porportion of each group that survived and died."
   ]
  },
  {
   "cell_type": "code",
   "execution_count": null,
   "metadata": {
    "collapsed": true,
    "deletable": false,
    "nbgrader": {
     "checksum": "15deedc108e6a453b703d82e51cd72a6",
     "grade": true,
     "grade_id": "problem_9_part_4_code",
     "locked": false,
     "points": 1,
     "schema_version": 1,
     "solution": true
    }
   },
   "outputs": [],
   "source": [
    "# YOUR CODE HERE\n",
    "transform(merged_df, Proportion = Freq/Total)\n",
    "\n",
    "#stop(\"Not Implemented\")"
   ]
  },
  {
   "cell_type": "markdown",
   "metadata": {
    "deletable": false,
    "editable": false,
    "nbgrader": {
     "checksum": "1070529bb7c12105f92d8839fa680c81",
     "grade": false,
     "grade_id": "problem_9_part_5",
     "locked": true,
     "schema_version": 1,
     "solution": false
    }
   },
   "source": [
    "Did females have higher survival rates than males in all class and age groupings? In which grouping was the difference in proportions the largest?"
   ]
  },
  {
   "cell_type": "markdown",
   "metadata": {
    "deletable": false,
    "nbgrader": {
     "checksum": "44d3435a74563d6567dd097db86da6b1",
     "grade": true,
     "grade_id": "problem_9_part_5_explain",
     "locked": false,
     "points": 1,
     "schema_version": 1,
     "solution": true
    }
   },
   "source": [
    "YOUR ANSWER/EXPLANATION HERE\n",
    "\n",
    "- No, the females and males survival rate is the same in two cases :\n",
    "( class=\"1st\" and age=\"child\" ) AND ( class=\"2nd\" and age=\"child\" )\n",
    "\n",
    "- In class \"2nd\" and age \"Adult\" the difference in survival proportion for females and males is the highest (row \"10\" and row (\"14\")) and that equals (0.86021505 - 0.08333333 =0.7768817) \n",
    "\n"
   ]
  },
  {
   "cell_type": "markdown",
   "metadata": {
    "deletable": false,
    "editable": false,
    "nbgrader": {
     "checksum": "28e48323b2907952f5e0484032a4f5d5",
     "grade": false,
     "grade_id": "problem_10",
     "locked": true,
     "schema_version": 1,
     "solution": false
    }
   },
   "source": [
    "---\n",
    "\n",
    "# Problem 10\n",
    "\n",
    "The following data set is made up to represent some experiment that tracks a control and a treatment through time. "
   ]
  },
  {
   "cell_type": "code",
   "execution_count": null,
   "metadata": {
    "collapsed": true,
    "deletable": false,
    "editable": false,
    "nbgrader": {
     "checksum": "994e8475b654d3d34e10a8e5fbe93557",
     "grade": false,
     "grade_id": "problem_10_data",
     "locked": true,
     "schema_version": 1,
     "solution": false
    }
   },
   "outputs": [],
   "source": [
    "set.seed(95064)\n",
    "time <- 1:25\n",
    "made_up <- data.frame(time = time,\n",
    "                      control = 0.45 + 0.1*time + rnorm(25,sd=0.2),\n",
    "                      treatment = 0.47 + 0.15*time + rnorm(25,sd=0.2))\n",
    "made_up"
   ]
  },
  {
   "cell_type": "markdown",
   "metadata": {
    "deletable": false,
    "editable": false,
    "nbgrader": {
     "checksum": "b3c5a63c9506540734558991be743e84",
     "grade": false,
     "grade_id": "problem_10_part_1",
     "locked": true,
     "schema_version": 1,
     "solution": false
    }
   },
   "source": [
    "However, each row of the data frame does not correspond to a single observation, but two observations: one for the control and one for the treatment. Create a new data frame called `outcome` that has 50 rows where each row corresponds to a single observation. This new data frame should have two columns, one named `values` and another named `ind`."
   ]
  },
  {
   "cell_type": "code",
   "execution_count": null,
   "metadata": {
    "collapsed": true,
    "deletable": false,
    "nbgrader": {
     "checksum": "b692e6a8e3730c8f3883be4fac94bb5f",
     "grade": true,
     "grade_id": "problem_10_part_1_code",
     "locked": false,
     "points": 1,
     "schema_version": 1,
     "solution": true
    }
   },
   "outputs": [],
   "source": [
    "# YOUR CODE HERE\n",
    "outcome <- stack(made_up[,c(2,3)])\n",
    "outcome\n",
    "#stop(\"Not Implemented\")"
   ]
  },
  {
   "cell_type": "markdown",
   "metadata": {
    "deletable": false,
    "editable": false,
    "nbgrader": {
     "checksum": "85482e2daae419fb65270c79e0c153cb",
     "grade": false,
     "grade_id": "problem_10_part_2",
     "locked": true,
     "schema_version": 1,
     "solution": false
    }
   },
   "source": [
    "Now bind the time values and the `outcome` data frame together to create a $50 \\times 3$ data frame with columns `time`, `values`, and `ind`. Name this new data frame `complete`. "
   ]
  },
  {
   "cell_type": "code",
   "execution_count": null,
   "metadata": {
    "collapsed": true,
    "deletable": false,
    "nbgrader": {
     "checksum": "2c0f978967858ccacbdeeac5ddb27eb6",
     "grade": true,
     "grade_id": "problem_10_part_2_code",
     "locked": false,
     "points": 1,
     "schema_version": 1,
     "solution": true
    }
   },
   "outputs": [],
   "source": [
    "# YOUR CODE HERE\n",
    "complete <- cbind(\"time\"=made_up[,1] , outcome)\n",
    "complete\n",
    "#stop(\"Not Implemented\")"
   ]
  },
  {
   "cell_type": "markdown",
   "metadata": {
    "deletable": false,
    "editable": false,
    "nbgrader": {
     "checksum": "20f357a912efe2f98127429bf6a74db5",
     "grade": false,
     "grade_id": "problem_10_part_3",
     "locked": true,
     "schema_version": 1,
     "solution": false
    }
   },
   "source": [
    "If you completed the previous steps correctly, you should easily be able to plot with colors corresponding to the `ind` group. Make sure that the following code produces such a plot. There will be (much) more on plotting later in the course."
   ]
  },
  {
   "cell_type": "code",
   "execution_count": null,
   "metadata": {
    "collapsed": true,
    "deletable": false,
    "editable": false,
    "nbgrader": {
     "checksum": "337bd39748e77a1f03a972d24c0a955f",
     "grade": true,
     "grade_id": "problem_10_part_3_test",
     "locked": true,
     "points": 1,
     "schema_version": 1,
     "solution": false
    }
   },
   "outputs": [],
   "source": [
    "plot(complete$time,complete$values,col=complete$ind,xlab = \"Time\",ylab = \"Values\",pch=19)\n",
    "legend(\"topleft\",legend = c(\"Control\",\"Treatment\"),col = 1:2,pch=19)"
   ]
  }
 ],
 "metadata": {
  "anaconda-cloud": {},
  "kernelspec": {
   "display_name": "R",
   "language": "R",
   "name": "ir"
  },
  "language_info": {
   "codemirror_mode": "r",
   "file_extension": ".r",
   "mimetype": "text/x-r-source",
   "name": "R",
   "pygments_lexer": "r",
   "version": "3.4.1"
  }
 },
 "nbformat": 4,
 "nbformat_minor": 2
}
