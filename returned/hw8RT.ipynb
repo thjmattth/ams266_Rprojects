{
 "cells": [
  {
   "cell_type": "markdown",
   "metadata": {},
   "source": [
    "Before you turn this problem set in, make sure everything runs as expected. First, **restart the kernel** (in the menubar, select Kernel$\\rightarrow$Restart) and then **run all cells** (in the menubar, select Cell$\\rightarrow$Run All). Note that in code sections, you must replace `stop(\"Not Implemented\")` with your code. Otherwise, you will have points automatically deducted in the grading process.\n",
    "\n",
    "**Please do not rename this file.**\n",
    "\n",
    "Make sure you fill in any place that says `YOUR CODE HERE` or \"YOUR ANSWER/EXPLANATION HERE\". In addition, please do not include your name on this assignment to ensure anonymity for the peer reviews."
   ]
  },
  {
   "cell_type": "markdown",
   "metadata": {},
   "source": [
    "---"
   ]
  },
  {
   "cell_type": "markdown",
   "metadata": {
    "deletable": false,
    "editable": false,
    "nbgrader": {
     "checksum": "ccd50ee542bb121cc3f224b9e1ac9587",
     "grade": false,
     "grade_id": "cell-2cc2955a1de14a42",
     "locked": true,
     "schema_version": 1,
     "solution": false
    }
   },
   "source": [
    "# Problem 1\n",
    "\n",
    "This homework will require the use of a few datasets in a package written by the TA, Dan. Before beginning, please be sure to download and install the package. Example code for doing this is below:"
   ]
  },
  {
   "cell_type": "code",
   "execution_count": 1,
   "metadata": {},
   "outputs": [
    {
     "name": "stderr",
     "output_type": "stream",
     "text": [
      "Warning message:\n",
      "\"running command '\"C:/PROGRA~1/ANACON~1/R/bin/x64/R\" CMD INSTALL -l \"C:\\Program Files\\Anaconda3\\R\\library\" \"C:\\Users\\test\\Documents/Downloads/AMSdata_0.1.0.tar.gz\"' had status 1\"Warning message in install.packages(\"~/Downloads/AMSdata_0.1.0.tar.gz\", repos = NULL, :\n",
      "\"installation of package 'C:\\Users\\test\\Documents/Downloads/AMSdata_0.1.0.tar.gz' had non-zero exit status\""
     ]
    }
   ],
   "source": [
    "# Un-comment the line below to install the package by deleting the # symbol\n",
    "install.packages(\"~/Downloads/AMSdata_0.1.0.tar.gz\",repos = NULL, type = \"source\") # Change the first character string to the path of the source package \n",
    "library(AMSdata)"
   ]
  },
  {
   "cell_type": "markdown",
   "metadata": {
    "deletable": false,
    "editable": false,
    "nbgrader": {
     "checksum": "1c494848d1052b021108fc8af0707f2f",
     "grade": false,
     "grade_id": "cell-42257716a5c2442d",
     "locked": true,
     "schema_version": 1,
     "solution": false
    }
   },
   "source": [
    "The `election_2016` dataset contains county-level information about the porportion of votes received in the presidential primaries for each candidate in 2016. Begin by subsetting the data to just the information concerning then-candidate Donald Trump. Name this subsetted data set `trump_2016`."
   ]
  },
  {
   "cell_type": "code",
   "execution_count": 2,
   "metadata": {
    "collapsed": true,
    "deletable": false,
    "nbgrader": {
     "checksum": "cfac4542410b0038304361f08f398754",
     "grade": false,
     "grade_id": "cell-f47d4c5a63f96f94",
     "locked": false,
     "schema_version": 1,
     "solution": true
    }
   },
   "outputs": [],
   "source": [
    "data(\"election_2016\")\n",
    "\n",
    "trump_2016 <- subset(election_2016, candidate==\"Donald Trump\")\n",
    "\n",
    "# YOUR CODE HERE\n",
    "#stop(\"Not Implemented\")"
   ]
  },
  {
   "cell_type": "markdown",
   "metadata": {
    "deletable": false,
    "editable": false,
    "nbgrader": {
     "checksum": "71b6224f8315cad8cccdfacc0dad53dd",
     "grade": false,
     "grade_id": "cell-5cca8ea680a09caa",
     "locked": true,
     "schema_version": 1,
     "solution": false
    }
   },
   "source": [
    "Now quickly check to make sure the subset was done correctly before moving on."
   ]
  },
  {
   "cell_type": "code",
   "execution_count": 3,
   "metadata": {
    "collapsed": true,
    "deletable": false,
    "editable": false,
    "nbgrader": {
     "checksum": "8e784cd3395164c2d284b41f90ee3a39",
     "grade": true,
     "grade_id": "cell-f0ae50cb4bb6c918",
     "locked": true,
     "points": 1,
     "schema_version": 1,
     "solution": false
    }
   },
   "outputs": [],
   "source": [
    "stopifnot(round(mean(trump_2016$votes),digits=6) == 3709.576408)"
   ]
  },
  {
   "cell_type": "markdown",
   "metadata": {
    "deletable": false,
    "editable": false,
    "nbgrader": {
     "checksum": "0cf3a9aa825ee0e7f87d771faf24f484",
     "grade": false,
     "grade_id": "cell-6b18587005e60c29",
     "locked": true,
     "schema_version": 1,
     "solution": false
    }
   },
   "source": [
    "Create a chloropleth map that shows the porportion of registered Republican voters that voted for Trump in each county. The variable from the `trump_2016` data set that you should use is `fraction_votes`. Use the `cut` function to create seven interval groups: 0% - 15%, 15% - 30%, 30% - 45%, 45% - 60%, 60% - 75%, 75% - 90%, and above 90%. This will be necessary when creating the color buckets for plotting. Remember to include all of the necessary plot elements like a title, legend, context information, etc."
   ]
  },
  {
   "cell_type": "code",
   "execution_count": 9,
   "metadata": {
    "deletable": false,
    "nbgrader": {
     "checksum": "68709c175f70ae641ccc1887e6cc6f1f",
     "grade": true,
     "grade_id": "cell-b4664018f9ceb5e2",
     "locked": false,
     "points": 4,
     "schema_version": 1,
     "solution": true
    }
   },
   "outputs": [
    {
     "ename": "ERROR",
     "evalue": "Error in contrib.url(repos, \"source\"): trying to use CRAN without setting a mirror\n",
     "output_type": "error",
     "traceback": [
      "Error in contrib.url(repos, \"source\"): trying to use CRAN without setting a mirror\nTraceback:\n",
      "1. install.packages(\"maps\", source = \"https://cran.cnr.berkeley.edu/\")",
      "2. contrib.url(repos, \"source\")",
      "3. stop(\"trying to use CRAN without setting a mirror\")"
     ]
    }
   ],
   "source": [
    "# YOUR CODE HERE\n",
    "install.packages(\"maps\", source=\"https://cran.cnr.berkeley.edu/\")\n",
    "install.packages(\"mapproj\", source=\"https://cran.cnr.berkeley.edu/\")\n",
    "\n",
    "library(RColorBrewer)\n",
    "library(maps)\n",
    "\n",
    "data(county.fips) \n",
    "\n",
    "par(mar=c(8,4,8,3)+0.2)\n",
    "colors= brewer.pal(7, \"Reds\") \n",
    "trump_2016$colorBuckets <- as.numeric(cut(trump_2016$fraction_votes, c(0, 0.15, 0.30, 0.45, 0.60, 0.75, 90, 100),include.lowest = TRUE))\n",
    "#table(cut(trump_2016$fraction_votes, c(0, 0.15, 0.30, 0.45, 0.60, 0.75, 90, 100),include.lowest = TRUE))\n",
    "leg.txt<- c(\"0% - 15%\", \"15% - 30%\", \"30% - 45%\", \"45% - 60%\",\" 60% - 75%\", \"75% - 90%\",\"above 90%\") \n",
    "colorsmatched <- trump_2016$colorBuckets[match(county.fips$fips, trump_2016$fips)] \n",
    "\n",
    "map(\"county\", col= colors[colorsmatched], fill= TRUE, resolution= 0, lty= 0, projection= \"polyconic\") \n",
    "map(\"state\", col= \"black\", fill= FALSE, add= TRUE, lty= 1, lwd= 0.2, projection=\"polyconic\") \n",
    "\n",
    "title(\"Porportion of Registered Republican Voters for Trump By County(2016)\") \n",
    "legend(\"topright\", leg.txt, horiz= TRUE, fill= colors, bty=\"n\" , cex=0.6) \n",
    "mtext(\"Source: https://www.kaggle.com/benhamner/2016-us-election/data\",side=1,cex=0.7)\n",
    "#stop(\"Not Implemented\")"
   ]
  },
  {
   "cell_type": "markdown",
   "metadata": {
    "deletable": false,
    "editable": false,
    "nbgrader": {
     "checksum": "20f2d790ecea3bd587afb5b49b26e90b",
     "grade": false,
     "grade_id": "cell-6f0208720b3ae6fa",
     "locked": true,
     "schema_version": 1,
     "solution": false
    }
   },
   "source": [
    "---\n",
    "\n",
    "# Problem 2\n",
    "\n",
    "Next, the `air_qual` data set includes information on the median levels of the pollutant measure PM2.5 at 142 outdoor monitoring stations in California in 2017. Use these data to create an isopleth map of the median PM2.5 levels in 2017. Include all necessary plot elements."
   ]
  },
  {
   "cell_type": "code",
   "execution_count": null,
   "metadata": {
    "deletable": false,
    "nbgrader": {
     "checksum": "6bd03748c2bea88c2643b741bd0e65ea",
     "grade": true,
     "grade_id": "cell-58d74438d8783027",
     "locked": false,
     "points": 5,
     "schema_version": 1,
     "solution": true
    },
    "scrolled": true
   },
   "outputs": [],
   "source": [
    "install.packages(\"akima\")\n",
    "library(akima) \n",
    "library(RColorBrewer)\n",
    "library(maps)\n",
    "\n",
    "data(\"air_qual\")\n",
    "\n",
    "colorscale = brewer.pal(9, \"Oranges\") \n",
    "map(database='state',regions=c(\"California\"), lwd=2, fill=T, col=\"white\", boundary=TRUE) \n",
    "air_qual.int= interp(x=air_qual$SITE_LONGITUDE, y=air_qual$SITE_LATITUDE, z=(air_qual$pm2.5), xo=seq(min(air_qual$SITE_LONGITUDE), max(air_qual$SITE_LONGITUDE), length= 200), yo=seq(min(air_qual$SITE_LATITUDE), max(air_qual$SITE_LATITUDE), length= 200), linear= F) \n",
    "\n",
    "image(air_qual.int, col=colorscale, axes=F, add=T) \n",
    "\n",
    "contour(air_qual.int, add=T, col=\"black\") \n",
    "points(air_qual$SITE_LONGITUDE, air_qual$SITE_LATITUDE, cex=0.75, pch=20) \n",
    "#leg.txt<- c(\"0% - 15%\", \"15% - 30%\", \"30% - 45%\", \"45% - 60%\",\" 60% - 75%\", \"75% - 90%\",\"above 90%\", \"fefe\", \"fefefrf\") \n",
    "for(i in c(0.1,0.2,0.3,0.4,0.5,.6,.7,.8,.9)){ \n",
    "rect(xleft=-115.5, ybottom=(((3*i)+38.6)), xright=-115, ytop=(((3*i)+38.9)), col=colorscale[i*10], border=colorscale[i*10])\n",
    "} \n",
    "\n",
    "mtext(text=round(seq(min(air_qual$pm2.5),max(air_qual$pm2.5),length=10),0), side=4, at=seq(38.9,41.6,length=10), las=2, line=-1.8, cex=.6) \n",
    "title(\"Median Levels of pollutant Measure PM2.5 in California in 2017\") \n",
    "mtext(\"Source: https://www.epa.gov/outdoor-air-quality-data/download-daily-data\",side=1,cex=0.7)\n",
    "mtext(\"Median Daily-level PM2.5\", side=4 ,at=40.3 , line=-4.4, cex=0.7)\n",
    "# YOUR CODE HERE\n",
    "#stop(\"Not Implemented\")"
   ]
  },
  {
   "cell_type": "markdown",
   "metadata": {
    "deletable": false,
    "editable": false,
    "nbgrader": {
     "checksum": "cb0b1dc12af23f5fb185dde8f3441930",
     "grade": false,
     "grade_id": "cell-18ab137b29ef086f",
     "locked": true,
     "schema_version": 1,
     "solution": false
    }
   },
   "source": [
    "---\n",
    "\n",
    "# Problem 3\n",
    "\n",
    "The `lesson_8` data set contains mostly-cleaned text data from the lecture 8 slides. Use this information to produce two plots: a word cloud of the most common words used in the lecture, and a bar plot of the 8 most common words. In order to prevent too many words from appearing in the word cloud, set the minimum number of occurrances for each word to be 5. Include plot elements on the bar plot, but exclude the title, labels, and context information on the word cloud, as including it may be confusing."
   ]
  },
  {
   "cell_type": "code",
   "execution_count": null,
   "metadata": {
    "deletable": false,
    "nbgrader": {
     "checksum": "33fd825de59e67af6e8d7571290c73cb",
     "grade": true,
     "grade_id": "cell-d74f7f7527480243",
     "locked": false,
     "points": 5,
     "schema_version": 1,
     "solution": true
    }
   },
   "outputs": [],
   "source": [
    "data(\"lesson_8\")\n",
    "# YOUR CODE HERE\n",
    "install.packages(\"xml2\")\n",
    "install.packages(\"tm\")\n",
    "install.packages(\"wordcloud\")\n",
    "require(xml2) \n",
    "require(tm) \n",
    "require(wordcloud)\n",
    "require(RColorBrewer) \n",
    "par(mar=c(8,4,4,4)+0.2)\n",
    "\n",
    "MyPal <- brewer.pal(8, \"Dark2\")\n",
    "\n",
    "docs <- Corpus(VectorSource(lesson_8))\n",
    "inspect(docs)\n",
    "\n",
    "toSpace <- content_transformer(function (x , pattern ) gsub(pattern, \" \", x))\n",
    "docs <- tm_map(docs, toSpace, \"–\")\n",
    "docs <- tm_map(docs, toSpace, \"−\")  \n",
    "docs <- tm_map(docs, toSpace, \"●\")\n",
    "\n",
    "\n",
    "docs <- tm_map(docs, content_transformer(tolower))\n",
    "docs <- tm_map(docs, removeNumbers)\n",
    "docs <- tm_map(docs, removeWords, stopwords(\"english\"))\n",
    "docs <- tm_map(docs, removePunctuation)\n",
    "docs <- tm_map(docs, stripWhitespace)\n",
    "docs <- tm_map(docs, tolower)   \n",
    "    \n",
    "dtm <- TermDocumentMatrix(docs)\n",
    "m <- as.matrix(dtm)\n",
    "v <- sort(rowSums(m),decreasing=TRUE)\n",
    "d <- data.frame(word = names(v),freq=v)\n",
    "freq_words <- head(d, 8)\n",
    "wordcloud(words = d$word, freq = d$freq, min.freq = 5,\n",
    "          max.words=300, random.order=FALSE, rot.per=0.35, \n",
    "          colors=MyPal)\n",
    "    \n",
    "# BAR PLOT\n",
    "MyPal2 <- c(MyPal[8],rep(MyPal[6],4),MyPal[5],rep(MyPal[4],2))\n",
    "\n",
    "barplot(height=((freq_words$freq)/sum(d$freq)), names.arg=NULL, ,horiz=T,las=1, xlim=c(0,.005), col=MyPal2, border=MyPal2,  width =rep(.5,8), xlab=\"Relative Frequency of Word\") \n",
    "mtext(side= 2, line = 1, text = freq_words$word, at= seq(0.4,length=8,by=.6), las=2, col=MyPal2,cex=0.95)\n",
    " \n",
    "title(\"Comparison of Frequency of 8 Most Common Words in Lecture 8 Slides\") \n",
    "mtext(\"Source: lesson_8 Data from Package AMSdata version 0.1.0 (By: Abel Rodriguez)\",side=1,cex=0.7, line=4.5)\n",
    "    \n",
    "#stop(\"Not Implemented\")"
   ]
  },
  {
   "cell_type": "markdown",
   "metadata": {
    "deletable": false,
    "editable": false,
    "nbgrader": {
     "checksum": "e812256f86a4273b9940d5c65273d8d4",
     "grade": false,
     "grade_id": "cell-0c1607fc9fbdec8c",
     "locked": true,
     "schema_version": 1,
     "solution": false
    }
   },
   "source": [
    "---\n",
    "\n",
    "# Problem 4\n",
    "\n",
    "The `new_quakes` data set includes data on earthquakes that registered over a magnitude of 4.5 between October 23, 2017 and November 23, 2017 all over the world. Use this data frame to make a point process map in which the color of each point describes its magnitude. Be sure to include a title, legend, and context information!"
   ]
  },
  {
   "cell_type": "code",
   "execution_count": null,
   "metadata": {
    "deletable": false,
    "nbgrader": {
     "checksum": "c322632b654c1e52699d6ee2f744310f",
     "grade": true,
     "grade_id": "cell-5898eba9a491508c",
     "locked": false,
     "points": 4,
     "schema_version": 1,
     "solution": true
    }
   },
   "outputs": [],
   "source": [
    "library(AMSdata)\n",
    "data(\"new_quakes\")\n",
    "\n",
    "colorscale = brewer.pal(9, \"Reds\")\n",
    "new_quakes$colorBuckets <- as.numeric(cut(new_quakes$mag, seq(min(new_quakes$mag),max(new_quakes$mag),length=10),include.lowest = TRUE))\n",
    "\n",
    "map(\"world\",  col=\"darkgray\")\n",
    "symbols(x=new_quakes$longitude, y=new_quakes$latitude, circles=rep(5, dim(new_quakes)[1]), inches=F, add=T, fg=\"white\", bg=colorscale[new_quakes$colorBuckets])\n",
    "map(\"world\", col=\"darkgray\", add=T,interior = TRUE) \n",
    "points(x=new_quakes$longitude, y=new_quakes$latitude,pch=20, cex=0.3) \n",
    "\n",
    "for(i in c(1,2,3,4,5,6,7,8,9)){ \n",
    "rect(xleft=185, ybottom=(((i-5))*(15)), xright=200, ytop=((i+2)*(7)), col=colorscale[i], border=colorscale[i])\n",
    "} \n",
    "\n",
    "mtext(text=round(seq(min(new_quakes$mag),max(new_quakes$mag),length=10), digits=1), side=4, at=seq(-57,75,length=10), las=1, line=.3, cex=.6) \n",
    "mtext(\"Source: https://earthquake.usgs.gov/earthquakes/feed/v1.0/csv.php\",side=1,cex=0.7, line=3)\n",
    "\n",
    "title(\"Earthquakes with Magnitudes Over 4.5 (Oct23,2017-Nov23,2017)\", line =3) \n",
    "\n",
    "mtext(\"Earthquake's Magnitude\",side=4,cex=0.7, line=1)\n",
    "# YOUR CODE HERE\n",
    "#stop(\"Not Implemented\")"
   ]
  },
  {
   "cell_type": "code",
   "execution_count": null,
   "metadata": {
    "collapsed": true
   },
   "outputs": [],
   "source": []
  }
 ],
 "metadata": {
  "kernelspec": {
   "display_name": "R",
   "language": "R",
   "name": "ir"
  },
  "language_info": {
   "codemirror_mode": "r",
   "file_extension": ".r",
   "mimetype": "text/x-r-source",
   "name": "R",
   "pygments_lexer": "r",
   "version": "3.4.1"
  }
 },
 "nbformat": 4,
 "nbformat_minor": 2
}
