{
 "cells": [
  {
   "cell_type": "markdown",
   "metadata": {},
   "source": [
    "Before you turn this problem set in, make sure everything runs as expected. First, **restart the kernel** (in the menubar, select Kernel$\\rightarrow$Restart) and then **run all cells** (in the menubar, select Cell$\\rightarrow$Run All). Note that in code sections, you must replace `stop(\"Not Implemented\")` with your code. Otherwise, you will have points automatically deducted in the grading process.\n",
    "\n",
    "**Please do not rename this file.**\n",
    "\n",
    "Make sure you fill in any place that says `YOUR CODE HERE` or \"YOUR ANSWER/EXPLANATION HERE\". In addition, please do not include your name on this assignment to ensure anonymity for the peer reviews."
   ]
  },
  {
   "cell_type": "markdown",
   "metadata": {},
   "source": [
    "---"
   ]
  },
  {
   "cell_type": "markdown",
   "metadata": {
    "deletable": false,
    "editable": false,
    "nbgrader": {
     "checksum": "b9b32071e44c92eb8fa4045ed8bb4eba",
     "grade": false,
     "grade_id": "cell-9d62810bc34de577",
     "locked": true,
     "schema_version": 1,
     "solution": false
    }
   },
   "source": [
    "# Problem 1\n",
    "\n",
    "The broadcast network NBC releases medal counts for the Olympic Games. For the 2016 Summer Olympics in Rio de Janeiro, Brazil, NBC released the following image:\n",
    "\n",
    "![](medal_count_NBC.png)\n",
    "\n",
    "Discuss the positive and negative aspects of the chosen visual cues, coordinate system, and scale. If  you  find  any  negative  issues \n",
    "with  this  visualization,  how  could  you  improve  it? This should require at least 3 (complete) sentences to answer."
   ]
  },
  {
   "cell_type": "markdown",
   "metadata": {
    "deletable": false,
    "nbgrader": {
     "checksum": "424aa15e9f1d3189968b5749b06c37c1",
     "grade": true,
     "grade_id": "problem_1_answer",
     "locked": false,
     "points": 3,
     "schema_version": 1,
     "solution": true
    }
   },
   "source": [
    "A positive aspect is that it is very easy to read this graph and immediately see which country won the most medals. However if you were interested in comparing individual medals (USA silver count vs. URS silver count, for example) that is difficult to do visually without looking at the numbers. One reason for this is that the bars are not to scal (the URS bronze and silver look about the same size as the USA bronze and silver even though the counts are about half as much as USA). Additionally, the only legend appears to be for gold; there is no legend for the silver and bronze bars. "
   ]
  },
  {
   "cell_type": "markdown",
   "metadata": {
    "deletable": false,
    "editable": false,
    "nbgrader": {
     "checksum": "e38195efb126e72752e24f3c25916b33",
     "grade": false,
     "grade_id": "cell-9e2fdc82d2d49f4e",
     "locked": true,
     "schema_version": 1,
     "solution": false
    }
   },
   "source": [
    "---\n",
    "\n",
    "# Problem 2\n",
    "\n",
    "Answer true or false to each of the following statements. Include a short justification of your answer (one or two complete sentences)."
   ]
  },
  {
   "cell_type": "markdown",
   "metadata": {
    "deletable": false,
    "editable": false,
    "nbgrader": {
     "checksum": "bae633bee64f69d2c68f000720a84d18",
     "grade": false,
     "grade_id": "cell-400780d3ba3f7fe5",
     "locked": true,
     "schema_version": 1,
     "solution": false
    }
   },
   "source": [
    "### Part A\n",
    "\n",
    "When  representing  quantitative  variables,  you  should  illustrate differences with a  scale  that  uses  a  single  hue  and  represents  changes  in  the values of  the variable  through  the  saturation  level. "
   ]
  },
  {
   "cell_type": "markdown",
   "metadata": {
    "deletable": false,
    "nbgrader": {
     "checksum": "88b74cc05082842cc56d677aebc46edb",
     "grade": true,
     "grade_id": "problem_2_part_a",
     "locked": false,
     "points": 1,
     "schema_version": 1,
     "solution": true
    }
   },
   "source": [
    "True. This is an effective way of illustrating differences in quantitative variables."
   ]
  },
  {
   "cell_type": "markdown",
   "metadata": {
    "deletable": false,
    "editable": false,
    "nbgrader": {
     "checksum": "eb7ee20a195099fb05d164c35b105469",
     "grade": false,
     "grade_id": "cell-07ac75819ffb57e7",
     "locked": true,
     "schema_version": 1,
     "solution": false
    }
   },
   "source": [
    "### Part B\n",
    "\n",
    "Pie  charts  are  always  an  excellent  alternative  to  bar  plots  for representing proportions. "
   ]
  },
  {
   "cell_type": "markdown",
   "metadata": {
    "deletable": false,
    "nbgrader": {
     "checksum": "a41c01a702bda9284a4a81c8ab5cfdc8",
     "grade": true,
     "grade_id": "problem_2_part_b",
     "locked": false,
     "points": 1,
     "schema_version": 1,
     "solution": true
    }
   },
   "source": [
    "False. It is much more difficult to visually compare pie chart slices than bars in bar charts."
   ]
  },
  {
   "cell_type": "markdown",
   "metadata": {
    "deletable": false,
    "editable": false,
    "nbgrader": {
     "checksum": "cf87d1770523360a4b9a3b4360aebd04",
     "grade": false,
     "grade_id": "cell-cfa552540c32e75f",
     "locked": true,
     "schema_version": 1,
     "solution": false
    }
   },
   "source": [
    "### Part C\n",
    "\n",
    "If comparisons are important, tables are always a better tool to use than graphs."
   ]
  },
  {
   "cell_type": "markdown",
   "metadata": {
    "deletable": false,
    "nbgrader": {
     "checksum": "49bc811144eb003dc1ff273334e9b777",
     "grade": true,
     "grade_id": "problem_2_part_c",
     "locked": false,
     "points": 1,
     "schema_version": 1,
     "solution": true
    }
   },
   "source": [
    "False. The human eye is better at comparing visual representations than numbers in a table. Graphs are better than a table in most cases, especially for comparisons."
   ]
  },
  {
   "cell_type": "markdown",
   "metadata": {
    "deletable": false,
    "editable": false,
    "nbgrader": {
     "checksum": "b0d0c33cf26e6eb159e3bdba350a44d9",
     "grade": false,
     "grade_id": "cell-580b0e4053bd2617",
     "locked": true,
     "schema_version": 1,
     "solution": false
    }
   },
   "source": [
    "---\n",
    "\n",
    "# Problem 3\n",
    "\n",
    "The following plots come from simulated data based on a real problem.\n",
    "\n",
    "A bank is looking at the closure rates of its business accounts by date and account age. The data has dates ranging from February 2005 to December 2016, and the account age in months ranges from 1 to 181. All accounts over 15 years (180 months) old are placed together in the 181-month-old category. The following three plots all use the same data. \n",
    "\n",
    "#### Plot A\n",
    "\n",
    "![A](tile_plot_greys.png) \n",
    "\n",
    "#### Plot B\n",
    "\n",
    "![B](tile_plot_blues.png) \n",
    "\n",
    "#### Plot C\n",
    "\n",
    "![C](tile_plot_spectral.png)\n",
    "\n",
    "Using what you have learned about data visualization, answer the following questions in complete sentences:\n",
    "\n",
    "1. Which plot(s) use diverging palettes, and which plot(s) use sequential palettes? \n",
    "2. Which plot is the best for accurately comparing different combinations of date and age? \n",
    "3. Which plot is the best for quickly finding the high values? \n",
    "4. Which plot would you choose to display if you wanted to find patterns in the data? \n",
    "\n",
    "Note: In order to easily reference the plots, you may call them plot A, plot B, and plot C, respectively."
   ]
  },
  {
   "cell_type": "markdown",
   "metadata": {
    "deletable": false,
    "nbgrader": {
     "checksum": "2092324aad76557e99f6355b9aa7ce96",
     "grade": true,
     "grade_id": "problem_3",
     "locked": false,
     "points": 4,
     "schema_version": 1,
     "solution": true
    }
   },
   "source": [
    "1. Plots A & B use sequential palettes. Plot C uses a divergent palette.\n",
    "2. Either Plot A or Plot B would be best for accurately comparing different combinations of date and age.\n",
    "3. Plot C is the best for quickly finding the high values.\n",
    "4. Plot C would be best for finding patterns in the data."
   ]
  },
  {
   "cell_type": "markdown",
   "metadata": {
    "deletable": false,
    "editable": false,
    "nbgrader": {
     "checksum": "f3377b082299f79f9f6d4055dbde16f6",
     "grade": false,
     "grade_id": "cell-b165556966259595",
     "locked": true,
     "schema_version": 1,
     "solution": false
    }
   },
   "source": [
    "---\n",
    "\n",
    "# Problem 4\n",
    "\n",
    "For each of the following, evaluate  the  effectiveness  of  the  visualization.   In  particular,  discuss  the  positive  and negative  aspects  of  the  chosen visual  cues,  coordinate  systems,  scale,  and  context  material.   If  you  find  any \n",
    "negative  issues  with  a  visualization,  how  could  you  improve  it?  Please write your answers in complete sentences."
   ]
  },
  {
   "cell_type": "markdown",
   "metadata": {
    "deletable": false,
    "editable": false,
    "nbgrader": {
     "checksum": "df269645a92a66322be9397ac4765d22",
     "grade": false,
     "grade_id": "cell-92460f794c8e0fc8",
     "locked": true,
     "schema_version": 1,
     "solution": false
    }
   },
   "source": [
    "### Part A\n",
    "\n",
    "![](vis_1.jpg)"
   ]
  },
  {
   "cell_type": "markdown",
   "metadata": {
    "deletable": false,
    "nbgrader": {
     "checksum": "a746292a1eef8759edd14d06fd3493fe",
     "grade": true,
     "grade_id": "problem_4_part_a",
     "locked": false,
     "points": 1,
     "schema_version": 1,
     "solution": true
    }
   },
   "source": [
    "The visualization is not adding any information. The slices in the pie graph are not marked, and pie graphs are generally not a good choice of visualization. "
   ]
  },
  {
   "cell_type": "markdown",
   "metadata": {
    "deletable": false,
    "editable": false,
    "nbgrader": {
     "checksum": "857fc0ecba668603729d011c2df957eb",
     "grade": false,
     "grade_id": "cell-1e16cafe295a8484",
     "locked": true,
     "schema_version": 1,
     "solution": false
    }
   },
   "source": [
    "### Part B\n",
    "\n",
    "(Yes, this one is not in English, but data are universal!)\n",
    "\n",
    "![](vis_2.jpg)"
   ]
  },
  {
   "cell_type": "markdown",
   "metadata": {
    "deletable": false,
    "nbgrader": {
     "checksum": "232e38fb4c9d91176f20fb63e2d2dc11",
     "grade": true,
     "grade_id": "problem_4_part_b",
     "locked": false,
     "points": 1,
     "schema_version": 1,
     "solution": true
    }
   },
   "source": [
    "The visualization is effective and the choice to highlight their own bar in red helps make their point. However, the red bar is only 0.1 percent larger than the largest grey bar, so making it so much larger can be misleading."
   ]
  },
  {
   "cell_type": "markdown",
   "metadata": {
    "deletable": false,
    "editable": false,
    "nbgrader": {
     "checksum": "da1c7d3706ebd4c095c8d98b3ab0ced2",
     "grade": false,
     "grade_id": "cell-5b0396a5f73bd1a4",
     "locked": true,
     "schema_version": 1,
     "solution": false
    }
   },
   "source": [
    "### Part C\n",
    "\n",
    "![](vis_3.jpg)"
   ]
  },
  {
   "cell_type": "markdown",
   "metadata": {
    "deletable": false,
    "nbgrader": {
     "checksum": "c4cef18c43d149b6ed26a782ec18103f",
     "grade": true,
     "grade_id": "problem_4_part_c",
     "locked": false,
     "points": 1,
     "schema_version": 1,
     "solution": true
    }
   },
   "source": [
    "The visualization is effective, but is a bit strange to look at. The bars appear to be standing on ascending steps but the two 10% bars are still the same height. Additionally, it is confusing not to have the bars arranged in order of ascending or descending height. Lastly, the bars are not to scale which can be misleading."
   ]
  },
  {
   "cell_type": "markdown",
   "metadata": {
    "deletable": false,
    "editable": false,
    "nbgrader": {
     "checksum": "ea45e57e473b7cfe49fb10004952ba25",
     "grade": false,
     "grade_id": "cell-2d426b0a2068fb78",
     "locked": true,
     "schema_version": 1,
     "solution": false
    }
   },
   "source": [
    "### Part D\n",
    "\n",
    "![](vis_4.jpg)"
   ]
  },
  {
   "cell_type": "markdown",
   "metadata": {
    "deletable": false,
    "nbgrader": {
     "checksum": "25f841f7f35f2132334749784ff21357",
     "grade": true,
     "grade_id": "problem_4_part_d",
     "locked": false,
     "points": 1,
     "schema_version": 1,
     "solution": true
    }
   },
   "source": [
    "This figure is extremely difficult to understand. It is impossible to discover the parts of the pie graph to which the various labels are referring. The parts of the pie chart with only dollar figures are not to scale or labeled. There does not seem to be anything positive about this graph."
   ]
  },
  {
   "cell_type": "markdown",
   "metadata": {},
   "source": [
    "Note: These images were found at the following URLs:\n",
    "\n",
    "[http://andrewgelman.com/2011/04/26/worst_statistic/](http://andrewgelman.com/2011/04/26/worst_statistic/)\n",
    "\n",
    "[https://www.undullify.com/data-visualization-102-common-mistakes-visualizing-data/](https://www.undullify.com/data-visualization-102-common-mistakes-visualizing-data/)"
   ]
  }
 ],
 "metadata": {
  "anaconda-cloud": {},
  "kernelspec": {
   "display_name": "R",
   "language": "R",
   "name": "ir"
  },
  "language_info": {
   "codemirror_mode": "r",
   "file_extension": ".r",
   "mimetype": "text/x-r-source",
   "name": "R",
   "pygments_lexer": "r",
   "version": "3.4.1"
  }
 },
 "nbformat": 4,
 "nbformat_minor": 1
}
