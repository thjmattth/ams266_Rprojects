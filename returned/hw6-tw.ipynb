{
 "cells": [
  {
   "cell_type": "markdown",
   "metadata": {},
   "source": [
    "Before you turn this problem set in, make sure everything runs as expected. First, **restart the kernel** (in the menubar, select Kernel$\\rightarrow$Restart) and then **run all cells** (in the menubar, select Cell$\\rightarrow$Run All). Note that in code sections, you must replace `stop(\"Not Implemented\")` with your code. Otherwise, you will have points automatically deducted in the grading process.\n",
    "\n",
    "**Please do not rename this file.**\n",
    "\n",
    "Make sure you fill in any place that says `YOUR CODE HERE` or \"YOUR ANSWER/EXPLANATION HERE\". In addition, please do not include your name on this assignment to ensure anonymity for the peer reviews."
   ]
  },
  {
   "cell_type": "markdown",
   "metadata": {},
   "source": [
    "---"
   ]
  },
  {
   "cell_type": "markdown",
   "metadata": {
    "deletable": false,
    "editable": false,
    "nbgrader": {
     "checksum": "844e0c0971333937c7e5303036ef88dc",
     "grade": false,
     "grade_id": "cell-095b40b97053f150",
     "locked": true,
     "schema_version": 1,
     "solution": false
    }
   },
   "source": [
    "# Problem 1\n",
    "\n",
    "This assignment will focus on visualization techniques and plotting. In order to access the datasets used, please run the following code:"
   ]
  },
  {
   "cell_type": "code",
   "execution_count": 2,
   "metadata": {},
   "outputs": [],
   "source": [
    "# This will install the package\n",
    "# Remember: you may need to specify the repository (repo) used\n",
    "# depending on your computer's configuration.\n",
    "# Type `?install.packages` in R to learn more.\n",
    "# install.packages(\"Lock5Data\")\n",
    "# Now load the package\n",
    "library(Lock5Data)"
   ]
  },
  {
   "cell_type": "markdown",
   "metadata": {
    "deletable": false,
    "editable": false,
    "nbgrader": {
     "checksum": "a39fdfd77a3c6681626cd532c1b945b2",
     "grade": false,
     "grade_id": "cell-252cdea351ee31f6",
     "locked": true,
     "schema_version": 1,
     "solution": false
    }
   },
   "source": [
    "First, look at the `AllCountries` dataset (not `AllCountries1e`). For more information on this dataset and the variables in it, type `?AllCountries` into R after the `Lock5Data` package has been loaded. Follow the best practices from lesson 6 to make a plot that demonstrates the relationship between the percent of the country that has access to the Internet (`Internet` variable) and HIV infection rate (`HIV` variable). In particular, remember to\n",
    "\n",
    "- Choose an appropriate plot type\n",
    "- Label axes properly\n",
    "- Ensure the proper use of a scale\n",
    "- Make the plot aesthetically pleasing\n",
    "- Label points that represent extreme or unexpected combinations of values\n",
    "- Include source information\n",
    "- Most importantly, make sure the code to produce the plot works\n",
    "\n",
    "Extra credit may be given to plots that have additional useful information that is effectively communicated."
   ]
  },
  {
   "cell_type": "code",
   "execution_count": 3,
   "metadata": {
    "deletable": false,
    "nbgrader": {
     "checksum": "a07a1b7d623f1a0943d6d7b68a1426fd",
     "grade": true,
     "grade_id": "cell-9098b06bfe6002b5",
     "locked": false,
     "points": 6,
     "schema_version": 1,
     "solution": true
    },
    "scrolled": false
   },
   "outputs": [
    {
     "data": {
      "image/png": "[encoded data removed]",
      "text/plain": [
       "plot without title"
      ]
     },
     "metadata": {},
     "output_type": "display_data"
    }
   ],
   "source": [
    "##### data(\"AllCountries\")\n",
    "# YOUR CODE HERE\n",
    "CountryData = cbind(AllCountries$Internet, AllCountries$HIV)\n",
    "colnames(CountryData) = c(\"Internet\", \"HIV\")\n",
    "rownames(CountryData) = AllCountries$Country\n",
    "CountryData[is.na(CountryData)] = 0\n",
    "\n",
    "x11()\n",
    "par(mar=c(7,5,3,1.5)+0.5)\n",
    "library(RColorBrewer)\n",
    "color.gradient = function(x, colors = brewer.pal(9,\"YlOrRd\"), colsteps = 217){\n",
    "    return( colorRampPalette(colors, bias=1.2) (colsteps) [findInterval((x+1)^2.15, seq(min(x),max(x),length.out=colsteps))])\n",
    "}\n",
    "plot(CountryData[,1], CountryData[,2], type=\"p\", pch = 19, col = color.gradient(CountryData[,2]), xlab = \"Population with access to the internet (%)\", ylab = \"Population with HIV (%)\", axes=F)\n",
    "box()\n",
    "axis(1, las=1)\n",
    "axis(2, las=2)\n",
    "abline(h=median(CountryData[,2]),lty=2)\n",
    "abline(v=median(CountryData[,1]),lty=2)\n",
    "#Corner_text = function(text, location=\"topright\"){\n",
    "#    legend(location, legend=text, bty=\"n\", pch=NA, cex=0.7)\n",
    "#}\n",
    "#Corner_text(text=\"Source: AllCountries in Lock5Data package   \")\n",
    "mtext(\"Source: AllCountries in Lock5Data package\", side=1, line=4, adj=1, cex=0.6)\n",
    "text(CountryData[175,1], CountryData[175,2], label=rownames(CountryData)[175], pos=4)\n",
    "text(CountryData[ which.max(CountryData[,2]), 1], CountryData[ which.max(CountryData[,2]), 2], label=rownames(CountryData)[which.max(CountryData[,2])], pos=1)\n",
    "#text(CountryData[109,1], CountryData[109,2], label = rownames(CountryData)[109], pos=3)\n",
    "#text(CountryData[26,1], CountryData[26,2], label=rownames(CountryData)[26], pos=4)\n",
    "text(CountryData[14,1], CountryData[14,2], label = rownames(CountryData)[14], pos=3)"
   ]
  },
  {
   "cell_type": "markdown",
   "metadata": {
    "deletable": false,
    "editable": false,
    "nbgrader": {
     "checksum": "b86036b63ede295b944f877fa9e59538",
     "grade": false,
     "grade_id": "cell-e306ce669e1b5dfe",
     "locked": true,
     "schema_version": 1,
     "solution": false
    }
   },
   "source": [
    "---\n",
    "\n",
    "\n",
    "# Problem 2\n",
    "\n",
    "Next, examine the `BikeCommute` data set. These data describe a six-month experiment by Dr. Jeremy Groves. In his experiment, two bicycles were randomly selected for the doctor's 27-mile round trip commute on a given day. The experiment was designed to test the differences in using a steel-frame versus a carbon-frame bike, with everything else on the two bicycles being held equal. Using the data in the data frame, create a **single** visualization that illustrates the change in average speed (`AvgSpeed`) over time. As in the last problem, remember to\n",
    "\n",
    "- Choose an appropriate plot type\n",
    "- Label axes properly\n",
    "- Ensure the proper use of a scale\n",
    "- Make the plot aesthetically pleasing\n",
    "- Label points that represent extreme or unexpected combinations of values\n",
    "- Include source information\n",
    "- Most importantly, make sure the code to produce the plot works\n",
    "\n",
    "In order to simplify your plotting, the `Date` variable is changed from a factor to an object of class `Date` in R. Extra credit may be given to plots that have additional useful information that is effectively communicated."
   ]
  },
  {
   "cell_type": "code",
   "execution_count": null,
   "metadata": {
    "collapsed": true
   },
   "outputs": [],
   "source": []
  },
  {
   "cell_type": "code",
   "execution_count": 4,
   "metadata": {
    "deletable": false,
    "nbgrader": {
     "checksum": "273a4e6c32e36bfc02ec4828500fe73b",
     "grade": true,
     "grade_id": "cell-8cca00e5a2ee064a",
     "locked": false,
     "points": 6,
     "schema_version": 1,
     "solution": true
    },
    "scrolled": true
   },
   "outputs": [
    {
     "data": {
      "image/png": "[encoded data removed]",
      "text/plain": [
       "plot without title"
      ]
     },
     "metadata": {},
     "output_type": "display_data"
    }
   ],
   "source": [
    "## library(Lock5Data)\n",
    "data(\"BikeCommute\")\n",
    "\n",
    "BikeCommute$Date <- as.Date(BikeCommute$Date,format = \"%d/%m/%y\")\n",
    "\n",
    "# YOUR CODE HERE\n",
    "x11()\n",
    "par(mar=c(3,3,3,1.5)+0.5, pin=c(5,1))\n",
    "\n",
    "plot(c(1:56), BikeCommute$AvgSpeed, xlab=\"\", ylab=\"Average Speed\", asp=1.5, type=\"n\", xaxt=\"n\", yaxt=\"n\", ylim=c(min(BikeCommute$AvgSpeed),max(BikeCommute$AvgSpeed)))\n",
    "lines(c(1:56), BikeCommute$AvgSpeed, type=\"l\")\n",
    "\n",
    "NewDate = BikeCommute$Date[1]\n",
    "for (k in c(1:27)){\n",
    "    NewDate[k+1] = BikeCommute$Date[2*k]\n",
    "}\n",
    "\n",
    "axis(1, at=seq(1,56,by=2), labels=NewDate, cex.axis=0.75, las=2)\n",
    "axis(2, at=seq(13,max(BikeCommute$AvgSpeed),by=0.5), cex.axis=0.5, las=1)\n",
    "box()\n",
    "mtext(\"Source: AllCountries in Lock5Data package\", side=1, line=5, adj=1, cex=0.6)\n",
    "\n",
    "BikeCommute$Counts = c(1:56)\n",
    "reg = lm(AvgSpeed ~ Counts, data = BikeCommute)\n",
    "abline(reg, lty=2, col=\"blue\")\n",
    "points(BikeCommute$Counts[34], max(BikeCommute$AvgSpeed), col=\"red\")\n",
    "points(BikeCommute$Counts[8], min(BikeCommute$AvgSpeed), col=\"red\")\n",
    "\n",
    "# I had a hard time adjusting the spacing between ticks on the y-axis.\n",
    "# Ideally, I wanted to have 13 be the value on the very bottom of the box\n",
    "# and 17 be the value at the very top, with intervals of 0.5. If you know how\n",
    "# to do this please let me know. \n"
   ]
  }
 ],
 "metadata": {
  "kernelspec": {
   "display_name": "R",
   "language": "R",
   "name": "ir"
  },
  "language_info": {
   "codemirror_mode": "r",
   "file_extension": ".r",
   "mimetype": "text/x-r-source",
   "name": "R",
   "pygments_lexer": "r",
   "version": "3.4.1"
  }
 },
 "nbformat": 4,
 "nbformat_minor": 1
}
