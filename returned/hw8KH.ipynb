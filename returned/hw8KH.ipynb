{
 "cells": [
  {
   "cell_type": "markdown",
   "metadata": {},
   "source": [
    "Before you turn this problem set in, make sure everything runs as expected. First, **restart the kernel** (in the menubar, select Kernel$\\rightarrow$Restart) and then **run all cells** (in the menubar, select Cell$\\rightarrow$Run All). Note that in code sections, you must replace `stop(\"Not Implemented\")` with your code. Otherwise, you will have points automatically deducted in the grading process.\n",
    "\n",
    "**Please do not rename this file.**\n",
    "\n",
    "Make sure you fill in any place that says `YOUR CODE HERE` or \"YOUR ANSWER/EXPLANATION HERE\". In addition, please do not include your name on this assignment to ensure anonymity for the peer reviews."
   ]
  },
  {
   "cell_type": "markdown",
   "metadata": {},
   "source": [
    "---"
   ]
  },
  {
   "cell_type": "markdown",
   "metadata": {
    "deletable": false,
    "editable": false,
    "nbgrader": {
     "checksum": "ccd50ee542bb121cc3f224b9e1ac9587",
     "grade": false,
     "grade_id": "cell-2cc2955a1de14a42",
     "locked": true,
     "schema_version": 1,
     "solution": false
    }
   },
   "source": [
    "# Problem 1\n",
    "\n",
    "This homework will require the use of a few datasets in a package written by the TA, Dan. Before beginning, please be sure to download and install the package. Example code for doing this is below:"
   ]
  },
  {
   "cell_type": "code",
   "execution_count": 1,
   "metadata": {},
   "outputs": [
    {
     "data": {
      "text/html": [
       "'C:/Users/Katie/Downloads'"
      ],
      "text/latex": [
       "'C:/Users/Katie/Downloads'"
      ],
      "text/markdown": [
       "'C:/Users/Katie/Downloads'"
      ],
      "text/plain": [
       "[1] \"C:/Users/Katie/Downloads\""
      ]
     },
     "metadata": {},
     "output_type": "display_data"
    },
    {
     "name": "stderr",
     "output_type": "stream",
     "text": [
      "Installing package into 'C:/Users/Katie/Documents/R/win-library/3.4'\n",
      "(as 'lib' is unspecified)\n"
     ]
    }
   ],
   "source": [
    "# Un-comment the line below to install the package by deleting the # symbol\n",
    "getwd()\n",
    "#setwd(dir)\n",
    "install.packages(\"C:/Users/Katie/Documents/R/win-library/3.4/AMSdata_0.1.0.tar.gz\",repos = NULL, type = \"source\") # Change the first character string to the path of the source package \n",
    "\n",
    "library(AMSdata)\n",
    "#untar(\"C:/Users/Katie/Downloads/AMSdata_0.1.0.tar.gz\")\n",
    "#library(AMSdata)"
   ]
  },
  {
   "cell_type": "markdown",
   "metadata": {
    "deletable": false,
    "editable": false,
    "nbgrader": {
     "checksum": "1c494848d1052b021108fc8af0707f2f",
     "grade": false,
     "grade_id": "cell-42257716a5c2442d",
     "locked": true,
     "schema_version": 1,
     "solution": false
    }
   },
   "source": [
    "The `election_2016` dataset contains county-level information about the porportion of votes received in the presidential primaries for each candidate in 2016. Begin by subsetting the data to just the information concerning then-candidate Donald Trump. Name this subsetted data set `trump_2016`."
   ]
  },
  {
   "cell_type": "code",
   "execution_count": 2,
   "metadata": {
    "deletable": false,
    "nbgrader": {
     "checksum": "cfac4542410b0038304361f08f398754",
     "grade": false,
     "grade_id": "cell-f47d4c5a63f96f94",
     "locked": false,
     "schema_version": 1,
     "solution": true
    }
   },
   "outputs": [
    {
     "data": {
      "text/html": [
       "<table>\n",
       "<thead><tr><th scope=col>state</th><th scope=col>state_abbreviation</th><th scope=col>county</th><th scope=col>fips</th><th scope=col>party</th><th scope=col>candidate</th><th scope=col>votes</th><th scope=col>fraction_votes</th></tr></thead>\n",
       "<tbody>\n",
       "\t<tr><td>Alabama        </td><td>AL             </td><td>Autauga        </td><td>1001           </td><td>Democrat       </td><td>Bernie Sanders </td><td> 544           </td><td>0.182          </td></tr>\n",
       "\t<tr><td>Alabama        </td><td>AL             </td><td>Autauga        </td><td>1001           </td><td>Democrat       </td><td>Hillary Clinton</td><td>2387           </td><td>0.800          </td></tr>\n",
       "\t<tr><td>Alabama        </td><td>AL             </td><td>Baldwin        </td><td>1003           </td><td>Democrat       </td><td>Bernie Sanders </td><td>2694           </td><td>0.329          </td></tr>\n",
       "\t<tr><td>Alabama        </td><td>AL             </td><td>Baldwin        </td><td>1003           </td><td>Democrat       </td><td>Hillary Clinton</td><td>5290           </td><td>0.647          </td></tr>\n",
       "\t<tr><td>Alabama        </td><td>AL             </td><td>Barbour        </td><td>1005           </td><td>Democrat       </td><td>Bernie Sanders </td><td> 222           </td><td>0.078          </td></tr>\n",
       "\t<tr><td>Alabama        </td><td>AL             </td><td>Barbour        </td><td>1005           </td><td>Democrat       </td><td>Hillary Clinton</td><td>2567           </td><td>0.906          </td></tr>\n",
       "</tbody>\n",
       "</table>\n"
      ],
      "text/latex": [
       "\\begin{tabular}{r|llllllll}\n",
       " state & state\\_abbreviation & county & fips & party & candidate & votes & fraction\\_votes\\\\\n",
       "\\hline\n",
       "\t Alabama         & AL              & Autauga         & 1001            & Democrat        & Bernie Sanders  &  544            & 0.182          \\\\\n",
       "\t Alabama         & AL              & Autauga         & 1001            & Democrat        & Hillary Clinton & 2387            & 0.800          \\\\\n",
       "\t Alabama         & AL              & Baldwin         & 1003            & Democrat        & Bernie Sanders  & 2694            & 0.329          \\\\\n",
       "\t Alabama         & AL              & Baldwin         & 1003            & Democrat        & Hillary Clinton & 5290            & 0.647          \\\\\n",
       "\t Alabama         & AL              & Barbour         & 1005            & Democrat        & Bernie Sanders  &  222            & 0.078          \\\\\n",
       "\t Alabama         & AL              & Barbour         & 1005            & Democrat        & Hillary Clinton & 2567            & 0.906          \\\\\n",
       "\\end{tabular}\n"
      ],
      "text/markdown": [
       "\n",
       "state | state_abbreviation | county | fips | party | candidate | votes | fraction_votes | \n",
       "|---|---|---|---|---|---|\n",
       "| Alabama         | AL              | Autauga         | 1001            | Democrat        | Bernie Sanders  |  544            | 0.182           | \n",
       "| Alabama         | AL              | Autauga         | 1001            | Democrat        | Hillary Clinton | 2387            | 0.800           | \n",
       "| Alabama         | AL              | Baldwin         | 1003            | Democrat        | Bernie Sanders  | 2694            | 0.329           | \n",
       "| Alabama         | AL              | Baldwin         | 1003            | Democrat        | Hillary Clinton | 5290            | 0.647           | \n",
       "| Alabama         | AL              | Barbour         | 1005            | Democrat        | Bernie Sanders  |  222            | 0.078           | \n",
       "| Alabama         | AL              | Barbour         | 1005            | Democrat        | Hillary Clinton | 2567            | 0.906           | \n",
       "\n",
       "\n"
      ],
      "text/plain": [
       "  state   state_abbreviation county  fips party    candidate       votes\n",
       "1 Alabama AL                 Autauga 1001 Democrat Bernie Sanders   544 \n",
       "2 Alabama AL                 Autauga 1001 Democrat Hillary Clinton 2387 \n",
       "3 Alabama AL                 Baldwin 1003 Democrat Bernie Sanders  2694 \n",
       "4 Alabama AL                 Baldwin 1003 Democrat Hillary Clinton 5290 \n",
       "5 Alabama AL                 Barbour 1005 Democrat Bernie Sanders   222 \n",
       "6 Alabama AL                 Barbour 1005 Democrat Hillary Clinton 2567 \n",
       "  fraction_votes\n",
       "1 0.182         \n",
       "2 0.800         \n",
       "3 0.329         \n",
       "4 0.647         \n",
       "5 0.078         \n",
       "6 0.906         "
      ]
     },
     "metadata": {},
     "output_type": "display_data"
    },
    {
     "data": {
      "text/html": [
       "<table>\n",
       "<thead><tr><th></th><th scope=col>state</th><th scope=col>state_abbreviation</th><th scope=col>county</th><th scope=col>fips</th><th scope=col>party</th><th scope=col>candidate</th><th scope=col>votes</th><th scope=col>fraction_votes</th></tr></thead>\n",
       "<tbody>\n",
       "\t<tr><th scope=row>136</th><td>Alabama     </td><td>AL          </td><td>Autauga     </td><td>1001        </td><td>Republican  </td><td>Donald Trump</td><td> 5387       </td><td>0.445       </td></tr>\n",
       "\t<tr><th scope=row>141</th><td>Alabama     </td><td>AL          </td><td>Baldwin     </td><td>1003        </td><td>Republican  </td><td>Donald Trump</td><td>23618       </td><td>0.469       </td></tr>\n",
       "\t<tr><th scope=row>146</th><td>Alabama     </td><td>AL          </td><td>Barbour     </td><td>1005        </td><td>Republican  </td><td>Donald Trump</td><td> 1710       </td><td>0.501       </td></tr>\n",
       "\t<tr><th scope=row>151</th><td>Alabama     </td><td>AL          </td><td>Bibb        </td><td>1007        </td><td>Republican  </td><td>Donald Trump</td><td> 1959       </td><td>0.494       </td></tr>\n",
       "\t<tr><th scope=row>156</th><td>Alabama     </td><td>AL          </td><td>Blount      </td><td>1009        </td><td>Republican  </td><td>Donald Trump</td><td> 7390       </td><td>0.487       </td></tr>\n",
       "\t<tr><th scope=row>161</th><td>Alabama     </td><td>AL          </td><td>Bullock     </td><td>1011        </td><td>Republican  </td><td>Donald Trump</td><td>  313       </td><td>0.565       </td></tr>\n",
       "</tbody>\n",
       "</table>\n"
      ],
      "text/latex": [
       "\\begin{tabular}{r|llllllll}\n",
       "  & state & state\\_abbreviation & county & fips & party & candidate & votes & fraction\\_votes\\\\\n",
       "\\hline\n",
       "\t136 & Alabama      & AL           & Autauga      & 1001         & Republican   & Donald Trump &  5387        & 0.445       \\\\\n",
       "\t141 & Alabama      & AL           & Baldwin      & 1003         & Republican   & Donald Trump & 23618        & 0.469       \\\\\n",
       "\t146 & Alabama      & AL           & Barbour      & 1005         & Republican   & Donald Trump &  1710        & 0.501       \\\\\n",
       "\t151 & Alabama      & AL           & Bibb         & 1007         & Republican   & Donald Trump &  1959        & 0.494       \\\\\n",
       "\t156 & Alabama      & AL           & Blount       & 1009         & Republican   & Donald Trump &  7390        & 0.487       \\\\\n",
       "\t161 & Alabama      & AL           & Bullock      & 1011         & Republican   & Donald Trump &   313        & 0.565       \\\\\n",
       "\\end{tabular}\n"
      ],
      "text/markdown": [
       "\n",
       "| <!--/--> | state | state_abbreviation | county | fips | party | candidate | votes | fraction_votes | \n",
       "|---|---|---|---|---|---|\n",
       "| 136 | Alabama      | AL           | Autauga      | 1001         | Republican   | Donald Trump |  5387        | 0.445        | \n",
       "| 141 | Alabama      | AL           | Baldwin      | 1003         | Republican   | Donald Trump | 23618        | 0.469        | \n",
       "| 146 | Alabama      | AL           | Barbour      | 1005         | Republican   | Donald Trump |  1710        | 0.501        | \n",
       "| 151 | Alabama      | AL           | Bibb         | 1007         | Republican   | Donald Trump |  1959        | 0.494        | \n",
       "| 156 | Alabama      | AL           | Blount       | 1009         | Republican   | Donald Trump |  7390        | 0.487        | \n",
       "| 161 | Alabama      | AL           | Bullock      | 1011         | Republican   | Donald Trump |   313        | 0.565        | \n",
       "\n",
       "\n"
      ],
      "text/plain": [
       "    state   state_abbreviation county  fips party      candidate    votes\n",
       "136 Alabama AL                 Autauga 1001 Republican Donald Trump  5387\n",
       "141 Alabama AL                 Baldwin 1003 Republican Donald Trump 23618\n",
       "146 Alabama AL                 Barbour 1005 Republican Donald Trump  1710\n",
       "151 Alabama AL                 Bibb    1007 Republican Donald Trump  1959\n",
       "156 Alabama AL                 Blount  1009 Republican Donald Trump  7390\n",
       "161 Alabama AL                 Bullock 1011 Republican Donald Trump   313\n",
       "    fraction_votes\n",
       "136 0.445         \n",
       "141 0.469         \n",
       "146 0.501         \n",
       "151 0.494         \n",
       "156 0.487         \n",
       "161 0.565         "
      ]
     },
     "metadata": {},
     "output_type": "display_data"
    }
   ],
   "source": [
    "#load(file = \"C:/Users/Katie/Documents/R/win-library/3.4/AMSdata/data/election_2016.rda\")\n",
    "data(election_2016)\n",
    "head(election_2016)\n",
    "trump_2016 = subset(election_2016, candidate == \"Donald Trump\")\n",
    "head(trump_2016)"
   ]
  },
  {
   "cell_type": "markdown",
   "metadata": {
    "deletable": false,
    "editable": false,
    "nbgrader": {
     "checksum": "71b6224f8315cad8cccdfacc0dad53dd",
     "grade": false,
     "grade_id": "cell-5cca8ea680a09caa",
     "locked": true,
     "schema_version": 1,
     "solution": false
    }
   },
   "source": [
    "Now quickly check to make sure the subset was done correctly before moving on."
   ]
  },
  {
   "cell_type": "code",
   "execution_count": 3,
   "metadata": {
    "collapsed": true,
    "deletable": false,
    "editable": false,
    "nbgrader": {
     "checksum": "8e784cd3395164c2d284b41f90ee3a39",
     "grade": true,
     "grade_id": "cell-f0ae50cb4bb6c918",
     "locked": true,
     "points": 1,
     "schema_version": 1,
     "solution": false
    }
   },
   "outputs": [],
   "source": [
    "stopifnot(round(mean(trump_2016$votes),digits=6) == 3709.576408)"
   ]
  },
  {
   "cell_type": "markdown",
   "metadata": {
    "deletable": false,
    "editable": false,
    "nbgrader": {
     "checksum": "0cf3a9aa825ee0e7f87d771faf24f484",
     "grade": false,
     "grade_id": "cell-6b18587005e60c29",
     "locked": true,
     "schema_version": 1,
     "solution": false
    }
   },
   "source": [
    "Create a chloropleth map that shows the porportion of registered Republican voters that voted for Trump in each county. The variable from the `trump_2016` data set that you should use is `fraction_votes`. Use the `cut` function to create seven interval groups: 0% - 15%, 15% - 30%, 30% - 45%, 45% - 60%, 60% - 75%, 75% - 90%, and above 90%. This will be necessary when creating the color buckets for plotting. Remember to include all of the necessary plot elements like a title, legend, context information, etc."
   ]
  },
  {
   "cell_type": "code",
   "execution_count": 4,
   "metadata": {
    "deletable": false,
    "nbgrader": {
     "checksum": "68709c175f70ae641ccc1887e6cc6f1f",
     "grade": true,
     "grade_id": "cell-b4664018f9ceb5e2",
     "locked": false,
     "points": 4,
     "schema_version": 1,
     "solution": true
    }
   },
   "outputs": [
    {
     "name": "stderr",
     "output_type": "stream",
     "text": [
      "Installing package into 'C:/Users/Katie/Documents/R/win-library/3.4'\n",
      "(as 'lib' is unspecified)\n"
     ]
    },
    {
     "name": "stdout",
     "output_type": "stream",
     "text": [
      "package 'mapproj' successfully unpacked and MD5 sums checked\n",
      "\n",
      "The downloaded binary packages are in\n",
      "\tC:\\Users\\Katie\\AppData\\Local\\Temp\\RtmpWSLR4p\\downloaded_packages\n"
     ]
    },
    {
     "name": "stderr",
     "output_type": "stream",
     "text": [
      "Loading required package: RColorBrewer\n"
     ]
    },
    {
     "data": {
      "image/png": "[encoded data removed]",
      "text/plain": [
       "Plot with title \"Fraction of Republican voters that voted for Trump by county (2016)\""
      ]
     },
     "metadata": {},
     "output_type": "display_data"
    }
   ],
   "source": [
    "# YOUR CODE HERE\n",
    "# Define color buckets\n",
    "library(maps)\n",
    "#map(\"usa\", col=\"darkgrey\")\n",
    "install.packages(\"mapproj\", repos = \"http://cran.us.r-project.org\")\n",
    "\n",
    "\n",
    "if (!require(\"RColorBrewer\")) {\n",
    "install.packages(\"RColorBrewer\")\n",
    "library(RColorBrewer)\n",
    "}\n",
    "#display.brewer.all()\n",
    "\n",
    "colors = brewer.pal(6, \"Reds\")\n",
    "\n",
    "trump_2016$colorBuckets <- as.numeric(cut(trump_2016$fraction_votes, c(0, .15,\n",
    ".30, .45, .60, .75, .90)))\n",
    "\n",
    "\n",
    "leg.txt <- c(\"<0%\", \"0-15%\", \"15-30%\", \"30-45%\", \"45-60%\", \"60-75%\", \"75-90%\",\">90%\")\n",
    "# Align data with map definitions by matching FIPS codes\n",
    "# Works much better than trying to match the state,county names\n",
    "# Which also include multiple polygons for some counties\n",
    "\n",
    "data(county.fips)\n",
    "\n",
    "colorsmatched <- trump_2016$colorBuckets[match(county.fips$fips, trump_2016$fips)]\n",
    "# Draw map\n",
    "map(\"county\", col = colors[colorsmatched], fill = TRUE,\n",
    "resolution = 0, lty = 0, projection = \"polyconic\")\n",
    "\n",
    "map(\"state\", col = \"white\", fill = FALSE, add = TRUE, lty\n",
    "= 1, lwd = 0.2, projection=\"polyconic\")\n",
    "\n",
    "title(\"Fraction of Republican voters that voted for Trump by county (2016)\")\n",
    "legend(\"top\", leg.txt, horiz = TRUE, fill = colors,\n",
    "bty=\"n\", cex = 0.7 )\n"
   ]
  },
  {
   "cell_type": "markdown",
   "metadata": {
    "deletable": false,
    "editable": false,
    "nbgrader": {
     "checksum": "20f2d790ecea3bd587afb5b49b26e90b",
     "grade": false,
     "grade_id": "cell-6f0208720b3ae6fa",
     "locked": true,
     "schema_version": 1,
     "solution": false
    }
   },
   "source": [
    "---\n",
    "\n",
    "# Problem 2\n",
    "\n",
    "Next, the `air_qual` data set includes information on the median levels of the pollutant measure PM2.5 at 142 outdoor monitoring stations in California in 2017. Use these data to create an isopleth map of the median PM2.5 levels in 2017. Include all necessary plot elements."
   ]
  },
  {
   "cell_type": "code",
   "execution_count": 5,
   "metadata": {
    "deletable": false,
    "nbgrader": {
     "checksum": "6bd03748c2bea88c2643b741bd0e65ea",
     "grade": true,
     "grade_id": "cell-58d74438d8783027",
     "locked": false,
     "points": 5,
     "schema_version": 1,
     "solution": true
    }
   },
   "outputs": [
    {
     "data": {
      "text/html": [
       "<table>\n",
       "<thead><tr><th scope=col>AQS_SITE_ID</th><th scope=col>STATE</th><th scope=col>COUNTY</th><th scope=col>SITE_LATITUDE</th><th scope=col>SITE_LONGITUDE</th><th scope=col>pm2.5</th></tr></thead>\n",
       "<tbody>\n",
       "\t<tr><td>60010007  </td><td>California</td><td>Alameda   </td><td>37.68753  </td><td>-121.7842 </td><td> 5.7      </td></tr>\n",
       "\t<tr><td>60010009  </td><td>California</td><td>Alameda   </td><td>37.74307  </td><td>-122.1699 </td><td> 6.6      </td></tr>\n",
       "\t<tr><td>60010011  </td><td>California</td><td>Alameda   </td><td>37.81478  </td><td>-122.2823 </td><td>10.1      </td></tr>\n",
       "\t<tr><td>60010012  </td><td>California</td><td>Alameda   </td><td>37.79362  </td><td>-122.2634 </td><td> 7.5      </td></tr>\n",
       "\t<tr><td>60010013  </td><td>California</td><td>Alameda   </td><td>37.86477  </td><td>-122.3027 </td><td> 6.0      </td></tr>\n",
       "\t<tr><td>60070008  </td><td>California</td><td>Butte     </td><td>39.76154  </td><td>-121.8416 </td><td> 5.2      </td></tr>\n",
       "</tbody>\n",
       "</table>\n"
      ],
      "text/latex": [
       "\\begin{tabular}{r|llllll}\n",
       " AQS\\_SITE\\_ID & STATE & COUNTY & SITE\\_LATITUDE & SITE\\_LONGITUDE & pm2.5\\\\\n",
       "\\hline\n",
       "\t 60010007   & California & Alameda    & 37.68753   & -121.7842  &  5.7      \\\\\n",
       "\t 60010009   & California & Alameda    & 37.74307   & -122.1699  &  6.6      \\\\\n",
       "\t 60010011   & California & Alameda    & 37.81478   & -122.2823  & 10.1      \\\\\n",
       "\t 60010012   & California & Alameda    & 37.79362   & -122.2634  &  7.5      \\\\\n",
       "\t 60010013   & California & Alameda    & 37.86477   & -122.3027  &  6.0      \\\\\n",
       "\t 60070008   & California & Butte      & 39.76154   & -121.8416  &  5.2      \\\\\n",
       "\\end{tabular}\n"
      ],
      "text/markdown": [
       "\n",
       "AQS_SITE_ID | STATE | COUNTY | SITE_LATITUDE | SITE_LONGITUDE | pm2.5 | \n",
       "|---|---|---|---|---|---|\n",
       "| 60010007   | California | Alameda    | 37.68753   | -121.7842  |  5.7       | \n",
       "| 60010009   | California | Alameda    | 37.74307   | -122.1699  |  6.6       | \n",
       "| 60010011   | California | Alameda    | 37.81478   | -122.2823  | 10.1       | \n",
       "| 60010012   | California | Alameda    | 37.79362   | -122.2634  |  7.5       | \n",
       "| 60010013   | California | Alameda    | 37.86477   | -122.3027  |  6.0       | \n",
       "| 60070008   | California | Butte      | 39.76154   | -121.8416  |  5.2       | \n",
       "\n",
       "\n"
      ],
      "text/plain": [
       "  AQS_SITE_ID STATE      COUNTY  SITE_LATITUDE SITE_LONGITUDE pm2.5\n",
       "1 60010007    California Alameda 37.68753      -121.7842       5.7 \n",
       "2 60010009    California Alameda 37.74307      -122.1699       6.6 \n",
       "3 60010011    California Alameda 37.81478      -122.2823      10.1 \n",
       "4 60010012    California Alameda 37.79362      -122.2634       7.5 \n",
       "5 60010013    California Alameda 37.86477      -122.3027       6.0 \n",
       "6 60070008    California Butte   39.76154      -121.8416       5.2 "
      ]
     },
     "metadata": {},
     "output_type": "display_data"
    },
    {
     "name": "stderr",
     "output_type": "stream",
     "text": [
      "Installing package into 'C:/Users/Katie/Documents/R/win-library/3.4'\n",
      "(as 'lib' is unspecified)\n"
     ]
    },
    {
     "name": "stdout",
     "output_type": "stream",
     "text": [
      "package 'akima' successfully unpacked and MD5 sums checked\n",
      "\n",
      "The downloaded binary packages are in\n",
      "\tC:\\Users\\Katie\\AppData\\Local\\Temp\\RtmpWSLR4p\\downloaded_packages\n"
     ]
    },
    {
     "name": "stderr",
     "output_type": "stream",
     "text": [
      "Warning message:\n",
      "\"package 'akima' was built under R version 3.4.2\""
     ]
    },
    {
     "data": {
      "image/png": "[encoded data removed]",
      "text/plain": [
       "Plot with title \"Pollutant Measures in California (2017)\""
      ]
     },
     "metadata": {},
     "output_type": "display_data"
    }
   ],
   "source": [
    "data(\"air_qual\")\n",
    "head(air_qual)\n",
    "#map(\"county\", region=\"california\", interior=F, col=\"darkgrey\")\n",
    "#map(\"county\", region=\"california\", boundary=F, lty=2, add=T, col=\"darkgrey\")\n",
    "install.packages(\"akima\", repos = \"http://cran.us.r-project.org\")\n",
    "library(akima)\n",
    "\n",
    "colorscale = brewer.pal(8, \"PuRd\")\n",
    "\n",
    "#display.brewer.all()\n",
    "\n",
    "windows()\n",
    "\n",
    "map(\"county\", region=\"california\", #xlim=c(-74,-71), ylim=c(38.2, 41.5)\n",
    "    lwd=2, fill=T, col=\"grey\",\n",
    "boundary=FALSE, mar=c(1,1,1,1))\n",
    "\n",
    "pm25.int = interp(x=air_qual$SITE_LONGITUDE, y=air_qual$SITE_LATITUDE, z=air_qual$pm2.5,\n",
    "xo=seq(min(air_qual$SITE_LONGITUDE), max(air_qual$SITE_LONGITUDE), length = 80),\n",
    "yo=seq(min(air_qual$SITE_LATITUDE), max(air_qual$SITE_LATITUDE), length = 80), linear = F)\n",
    "image(pm25.int, col=colorscale, axes=F, add=T)\n",
    "contour(pm25.int, add=T, col=\"black\")\n",
    "points(air_qual$SITE_LONGITUDE, air_qual$SITE_LATITUDE, cex=0.75, pch=20)\n",
    "\n",
    "\n",
    "\n",
    "title(\"Pollutant Measures in California (2017)\")\n",
    "legend(\"bottom\", legend=c(\"Low\", \"high\"),\n",
    "       col=c(\"ghostwhite\", \"firebrick4\"), bg = \"gray\", lty=1:1, cex=0.8)\n"
   ]
  },
  {
   "cell_type": "markdown",
   "metadata": {
    "deletable": false,
    "editable": false,
    "nbgrader": {
     "checksum": "cb0b1dc12af23f5fb185dde8f3441930",
     "grade": false,
     "grade_id": "cell-18ab137b29ef086f",
     "locked": true,
     "schema_version": 1,
     "solution": false
    }
   },
   "source": [
    "---\n",
    "\n",
    "# Problem 3\n",
    "\n",
    "The `lesson_8` data set contains mostly-cleaned text data from the lecture 8 slides. Use this information to produce two plots: a word cloud of the most common words used in the lecture, and a bar plot of the 8 most common words. In order to prevent too many words from appearing in the word cloud, set the minimum number of occurrances for each word to be 5. Include plot elements on the bar plot, but exclude the title, labels, and context information on the word cloud, as including it may be confusing."
   ]
  },
  {
   "cell_type": "code",
   "execution_count": 23,
   "metadata": {
    "deletable": false,
    "nbgrader": {
     "checksum": "33fd825de59e67af6e8d7571290c73cb",
     "grade": true,
     "grade_id": "cell-d74f7f7527480243",
     "locked": false,
     "points": 5,
     "schema_version": 1,
     "solution": true
    }
   },
   "outputs": [
    {
     "data": {
      "text/html": [
       "'character'"
      ],
      "text/latex": [
       "'character'"
      ],
      "text/markdown": [
       "'character'"
      ],
      "text/plain": [
       "[1] \"character\""
      ]
     },
     "metadata": {},
     "output_type": "display_data"
    },
    {
     "data": {
      "text/html": [
       "<table>\n",
       "<thead><tr><th></th><th scope=col>0000</th><th scope=col>0005</th><th scope=col>0010</th><th scope=col>0015</th><th scope=col>0020</th><th scope=col>0025</th><th scope=col>0030</th><th scope=col>0080</th><th scope=col>0081</th><th scope=col>0088</th><th scope=col>...</th><th scope=col>ylimc382</th><th scope=col>york</th><th scope=col>yoseqminscallopstilat</th><th scope=col>you</th><th scope=col>ypointestimateford</th><th scope=col>yscallopstilat</th><th scope=col>zealand</th><th scope=col>zelig</th><th scope=col>zero</th><th scope=col>zscallopstilgcatch</th></tr></thead>\n",
       "<tbody>\n",
       "\t<tr><th scope=row>1</th><td>2  </td><td>2  </td><td>2  </td><td>2  </td><td>2  </td><td>2  </td><td>2  </td><td>40 </td><td>10 </td><td>192</td><td>...</td><td>1  </td><td>3  </td><td>1  </td><td>9  </td><td>1  </td><td>1  </td><td>1  </td><td>2  </td><td>2  </td><td>1  </td></tr>\n",
       "\t<tr><th scope=row>2</th><td>0  </td><td>0  </td><td>0  </td><td>0  </td><td>0  </td><td>0  </td><td>0  </td><td> 0 </td><td> 0 </td><td>  0</td><td>...</td><td>0  </td><td>0  </td><td>0  </td><td>0  </td><td>0  </td><td>0  </td><td>0  </td><td>0  </td><td>0  </td><td>0  </td></tr>\n",
       "\t<tr><th scope=row>3</th><td>0  </td><td>0  </td><td>0  </td><td>0  </td><td>0  </td><td>0  </td><td>0  </td><td> 0 </td><td> 0 </td><td>  0</td><td>...</td><td>0  </td><td>0  </td><td>0  </td><td>0  </td><td>0  </td><td>0  </td><td>0  </td><td>0  </td><td>0  </td><td>0  </td></tr>\n",
       "</tbody>\n",
       "</table>\n"
      ],
      "text/latex": [
       "\\begin{tabular}{r|llllllllllllllllllllllllllllllllllllllllllllllllllllllllllllllllllllllllllllllllllllllllllllllllllllllllllllllllllllllllllllllllllllllllllllllllllllllllllllllllllllllllllllllllllllllllllllllllllllllllllllllllllllllllllllllllllllllllllllllllllllllllllllllllllllllllllllllllllllllllllllllllllllllllllllllllllllllllllllllllllllllllllllllllllllllllllllllllllllllllllllllllllllllllllllllllllllllllllllllllllllllllllllllllllllllllllllllllllllllllllllllllllllllllllllllllllllllllllllllllllllllllllllllllllllllllllllllllllllllllllllllllllllllllllllllllllllllllllllllllllllllllllllllllllllllllllllllllllllllllllllllllllllllllllllllllllllllllllllllllllllllllllllllllllllllllllllllllllllllllllllllllllllllllllllllllllllllllllllllllllllllllllllllllllllllllllllllllllllllllllllllllllllllllllllllllllllllllllllllllllllllllllllllllllllllllllllllllllllllllllllllllllllllllllllllllllllllllllllllllllllllllllllllllllllllllllllllllllllllllllllllllllllllllllllllllllllllllllllllllllllllllllllllllllllllllllllllllllllllllllllllllllllllllllllllllllllllllllllllllllllllllllllllllllllllllllllllllllllllllllllllllllllllllllllllllllllllllllllllllllllllllllllllllllllllllllllllllllllllllllllllllllllllllllllllllllllllllllllllllllllllllllllllllllllllllllllllllllllllllllllllllllllllllllllllllllllllllllllllllllllllllllllllllllllllllllllllllllllllllllllllllllllllllllllllllllllllllllllllllllllllllllllllllllllllllllllllllllllllllllllllllllllllllllllllllllllllllllllllllllllllllllllllllllllllllllllllllllllllllllllllllllllllllllllllllllllllllllllllllllllllllllllllllllllllllllllllllllllllllllllllllllllllllllllllllllllllllllllllllllllllllllllllllllllllllllllllllllllllllllllllllllllllllllllllllllllllllllllllllllllllllllllllllllllllllllllllllllllllllllllllllllllllllllllllllllllllllllllllllllllllllllllllllllllllllllllllllllllllllllllllllllllllllllllllllllllllllllllllllllllllllllllllllllllllllllllllllllllllllllllllllllllllllllllllllllllllllllllllllllllllllllllllllllllllllllllllllllllllllllllllllllllllllllllllllllllllllllllllllllllllllllllllllllllllllllllllllllllllllllllllllllllllllllllllllllllllllllllllllllllllllllllllllllllllllllllllllllllllllllllllllllllllllllllllllllllllllllllllllllllllllllllllllllllllllllllllllllllllllllllllllllllllllllllllllllllllll}\n",
       "  & 0000 & 0005 & 0010 & 0015 & 0020 & 0025 & 0030 & 0080 & 0081 & 0088 & ... & ylimc382 & york & yoseqminscallopstilat & you & ypointestimateford & yscallopstilat & zealand & zelig & zero & zscallopstilgcatch\\\\\n",
       "\\hline\n",
       "\t1 & 2   & 2   & 2   & 2   & 2   & 2   & 2   & 40  & 10  & 192 & ... & 1   & 3   & 1   & 9   & 1   & 1   & 1   & 2   & 2   & 1  \\\\\n",
       "\t2 & 0   & 0   & 0   & 0   & 0   & 0   & 0   &  0  &  0  &   0 & ... & 0   & 0   & 0   & 0   & 0   & 0   & 0   & 0   & 0   & 0  \\\\\n",
       "\t3 & 0   & 0   & 0   & 0   & 0   & 0   & 0   &  0  &  0  &   0 & ... & 0   & 0   & 0   & 0   & 0   & 0   & 0   & 0   & 0   & 0  \\\\\n",
       "\\end{tabular}\n"
      ],
      "text/markdown": [
       "\n",
       "| <!--/--> | 0000 | 0005 | 0010 | 0015 | 0020 | 0025 | 0030 | 0080 | 0081 | 0088 | ... | ylimc382 | york | yoseqminscallopstilat | you | ypointestimateford | yscallopstilat | zealand | zelig | zero | zscallopstilgcatch | \n",
       "|---|---|---|\n",
       "| 1 | 2   | 2   | 2   | 2   | 2   | 2   | 2   | 40  | 10  | 192 | ... | 1   | 3   | 1   | 9   | 1   | 1   | 1   | 2   | 2   | 1   | \n",
       "| 2 | 0   | 0   | 0   | 0   | 0   | 0   | 0   |  0  |  0  |   0 | ... | 0   | 0   | 0   | 0   | 0   | 0   | 0   | 0   | 0   | 0   | \n",
       "| 3 | 0   | 0   | 0   | 0   | 0   | 0   | 0   |  0  |  0  |   0 | ... | 0   | 0   | 0   | 0   | 0   | 0   | 0   | 0   | 0   | 0   | \n",
       "\n",
       "\n"
      ],
      "text/plain": [
       "  0000 0005 0010 0015 0020 0025 0030 0080 0081 0088 ... ylimc382 york\n",
       "1 2    2    2    2    2    2    2    40   10   192  ... 1        3   \n",
       "2 0    0    0    0    0    0    0     0    0     0  ... 0        0   \n",
       "3 0    0    0    0    0    0    0     0    0     0  ... 0        0   \n",
       "  yoseqminscallopstilat you ypointestimateford yscallopstilat zealand zelig\n",
       "1 1                     9   1                  1              1       2    \n",
       "2 0                     0   0                  0              0       0    \n",
       "3 0                     0   0                  0              0       0    \n",
       "  zero zscallopstilgcatch\n",
       "1 2    1                 \n",
       "2 0    0                 \n",
       "3 0    0                 "
      ]
     },
     "metadata": {},
     "output_type": "display_data"
    },
    {
     "data": {
      "text/html": [
       "<table>\n",
       "<thead><tr><th scope=col>word</th><th scope=col>freq</th></tr></thead>\n",
       "<tbody>\n",
       "\t<tr><td>1   </td><td>8683</td></tr>\n",
       "\t<tr><td>2   </td><td>   2</td></tr>\n",
       "\t<tr><td>3   </td><td>   1</td></tr>\n",
       "</tbody>\n",
       "</table>\n"
      ],
      "text/latex": [
       "\\begin{tabular}{r|ll}\n",
       " word & freq\\\\\n",
       "\\hline\n",
       "\t 1    & 8683\\\\\n",
       "\t 2    &    2\\\\\n",
       "\t 3    &    1\\\\\n",
       "\\end{tabular}\n"
      ],
      "text/markdown": [
       "\n",
       "word | freq | \n",
       "|---|---|---|\n",
       "| 1    | 8683 | \n",
       "| 2    |    2 | \n",
       "| 3    |    1 | \n",
       "\n",
       "\n"
      ],
      "text/plain": [
       "  word freq\n",
       "1 1    8683\n",
       "2 2       2\n",
       "3 3       1"
      ]
     },
     "metadata": {},
     "output_type": "display_data"
    },
    {
     "data": {
      "image/png": "[encoded data removed]",
      "text/plain": [
       "plot without title"
      ]
     },
     "metadata": {},
     "output_type": "display_data"
    },
    {
     "data": {
      "image/png": "[encoded data removed]",
      "text/plain": [
       "plot without title"
      ]
     },
     "metadata": {},
     "output_type": "display_data"
    },
    {
     "data": {
      "image/png": "[encoded data removed]",
      "text/plain": [
       "plot without title"
      ]
     },
     "metadata": {},
     "output_type": "display_data"
    }
   ],
   "source": [
    "data(\"lesson_8\")\n",
    "class(lesson_8)\n",
    "#head(lesson_8)\n",
    "if (!require(\"XML\")) {\n",
    "install.packages(\"XML\", repos = \"http://cran.us.r-project.org\")\n",
    "library(XML)\n",
    "}\n",
    "#install.packages(\"SnowballC\", repos = \"http://cran.us.r-project.org\")\n",
    "library(SnowballC)\n",
    "#install.packages(\"tm\", repos = \"http://cran.us.r-project.org\")\n",
    "library(tm)\n",
    "#install.packages(\"wordcloud\", repos = \"http://cran.us.r-project.org\")\n",
    "library(wordcloud)\n",
    "if (!require(\"RColorBrewer\")) {\n",
    "#install.packages(\"RColorBrewer\")\n",
    "library(RColorBrewer)\n",
    "}\n",
    "\n",
    "\n",
    "t = lesson_8\n",
    "#head(t)\n",
    "ap.corpus = Corpus(VectorSource(t))\n",
    "ap.corpus = tm_map(ap.corpus, content_transformer(tolower))\n",
    "ap.corpus = tm_map(ap.corpus, removePunctuation)\n",
    "ap.corpus = tm_map(ap.corpus, PlainTextDocument)\n",
    "#ap.corpus = tm_map(ap.corpus, removeWords, stopwords(\"english\"))\n",
    "ap.corpus <- tm_map(ap.corpus, stemDocument) \n",
    "\n",
    "\n",
    "ap.corpus <- Corpus(VectorSource(ap.corpus)) # change class \n",
    "matrix_term <- DocumentTermMatrix(ap.corpus)\n",
    "\n",
    "\n",
    "ap.m = as.matrix(matrix_term)\n",
    "ap.m\n",
    "ap.v = sort(rowSums(ap.m),decreasing=TRUE)\n",
    "ap.d = data.frame(word = names(ap.v),freq=ap.v)\n",
    "head(ap.d,10)\n",
    "pal2 = brewer.pal(8,\"Dark2\")\n",
    "\n",
    "\n",
    "wordcloud(words = ap.d$word, freq = ap.d$freq, min.freq = 1,\n",
    "          max.words=200, random.order=FALSE, rot.per=0.35, \n",
    "          colors=brewer.pal(8, \"Dark2\"))\n",
    "\n",
    "\n",
    "kk = 10\n",
    "ord = order(ap.d$freq, decreasing=T)\n",
    "pal2 = brewer.pal(8,\"Dark2\")\n",
    "colscale = c(pal2[8], pal2[7],\n",
    "pal2[5], rep(pal2[4],2),\n",
    "rep(pal2[3],5))\n",
    "\n",
    "windows()\n",
    "par(mar=c(3,5,1,1)+0.2)\n",
    "barplot(height=round(ap.d$freq[ord[1\n",
    ":kk]]/sum(ap.d$freq), 4),\n",
    "names.arg=NULL, horiz=T, las=1,\n",
    "xlim=c(0,0.03), col=colscale,\n",
    "border=colscale)\n",
    "\n",
    "mtext(side = 2, line = 1, text = ap.d$word[ord[1:kk]], at =\n",
    "seq(0.7,length=10,by=1.2), las=2,\n",
    "col=colscale)   "
   ]
  },
  {
   "cell_type": "markdown",
   "metadata": {
    "deletable": false,
    "editable": false,
    "nbgrader": {
     "checksum": "e812256f86a4273b9940d5c65273d8d4",
     "grade": false,
     "grade_id": "cell-0c1607fc9fbdec8c",
     "locked": true,
     "schema_version": 1,
     "solution": false
    }
   },
   "source": [
    "---\n",
    "\n",
    "# Problem 4\n",
    "\n",
    "The `new_quakes` data set includes data on earthquakes that registered over a magnitude of 4.5 between October 23, 2017 and November 23, 2017 all over the world. Use this data frame to make a point process map in which the color of each point describes its magnitude. Be sure to include a title, legend, and context information!"
   ]
  },
  {
   "cell_type": "code",
   "execution_count": 65,
   "metadata": {
    "deletable": false,
    "nbgrader": {
     "checksum": "c322632b654c1e52699d6ee2f744310f",
     "grade": true,
     "grade_id": "cell-5898eba9a491508c",
     "locked": false,
     "points": 4,
     "schema_version": 1,
     "solution": true
    }
   },
   "outputs": [
    {
     "data": {
      "image/png": "[encoded data removed]",
      "text/plain": [
       "Plot with title \"Point Process make of earthquakes over 4.5 magnitude in 2017\""
      ]
     },
     "metadata": {},
     "output_type": "display_data"
    }
   ],
   "source": [
    "library(AMSdata)\n",
    "data(\"new_quakes\")\n",
    "#head(new_quakes)\n",
    "\n",
    "###points process\n",
    "quakes = data.frame(new_quakes)\n",
    "#head(quakes)\n",
    "\n",
    "colors = brewer.pal(6, \"Reds\")\n",
    "\n",
    "quakes$colors <- as.numeric(cut(quakes$mag, c(0, 4,\n",
    "5, 6, 7, 8, 9)))\n",
    "\n",
    "#points(mappts,col=mappts$z,pch=19)\n",
    "\n",
    "map(col=\"darkgrey\")\n",
    "palette(c(\"yellow\",\"green\", \"blue\",\"orange\",\"pink\", \"red\" ))\n",
    "points(quakes$longitude, quakes$latitude, col = quakes$colors, cex=0.75, pch=20)\n",
    "#points(quakes[,3], quakes[ ,2], pch=20, cex=0.5)\n",
    "title(main = \"Point Process make of earthquakes over 4.5 magnitude in 2017\", sub = \"data from new_quakes data\")\n",
    "\n",
    "leg.txt <- c(\"<4%\", \"<5\", \"<6\", \"<7\", \"<8\", \"<9\")\n",
    "\n",
    "legend(\"bottom\", leg.txt, horiz = TRUE, col=c(\"yellow\",\"green\", \"blue\",\"orange\",\"pink\", \"red\" ),bty=\"n\", cex=.7, pch = 16)\n",
    "\n"
   ]
  }
 ],
 "metadata": {
  "kernelspec": {
   "display_name": "R",
   "language": "R",
   "name": "ir"
  },
  "language_info": {
   "codemirror_mode": "r",
   "file_extension": ".r",
   "mimetype": "text/x-r-source",
   "name": "R",
   "pygments_lexer": "r",
   "version": "3.4.1"
  }
 },
 "nbformat": 4,
 "nbformat_minor": 2
}
