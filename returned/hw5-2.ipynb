{
 "cells": [
  {
   "cell_type": "markdown",
   "metadata": {},
   "source": [
    "Before you turn this problem set in, make sure everything runs as expected. First, **restart the kernel** (in the menubar, select Kernel$\\rightarrow$Restart) and then **run all cells** (in the menubar, select Cell$\\rightarrow$Run All). Note that in code sections, you must replace `stop(\"Not Implemented\")` with your code. Otherwise, you will have points automatically deducted in the grading process.\n",
    "\n",
    "**Please do not rename this file.**\n",
    "\n",
    "Make sure you fill in any place that says `YOUR CODE HERE` or \"YOUR ANSWER/EXPLANATION HERE\". In addition, please do not include your name on this assignment to ensure anonymity for the peer reviews."
   ]
  },
  {
   "cell_type": "markdown",
   "metadata": {},
   "source": [
    "---"
   ]
  },
  {
   "cell_type": "markdown",
   "metadata": {
    "deletable": false,
    "editable": false,
    "nbgrader": {
     "checksum": "b9b32071e44c92eb8fa4045ed8bb4eba",
     "grade": false,
     "grade_id": "cell-9d62810bc34de577",
     "locked": true,
     "schema_version": 1,
     "solution": false
    }
   },
   "source": [
    "# Problem 1\n",
    "\n",
    "The broadcast network NBC releases medal counts for the Olympic Games. For the 2016 Summer Olympics in Rio de Janeiro, Brazil, NBC released the following image:\n",
    "\n",
    "![](medal_count_NBC.png)\n",
    "\n",
    "Discuss the positive and negative aspects of the chosen visual cues, coordinate system, and scale. If  you  find  any  negative  issues \n",
    "with  this  visualization,  how  could  you  improve  it? This should require at least 3 (complete) sentences to answer."
   ]
  },
  {
   "cell_type": "markdown",
   "metadata": {
    "deletable": false,
    "nbgrader": {
     "checksum": "424aa15e9f1d3189968b5749b06c37c1",
     "grade": true,
     "grade_id": "problem_1_answer",
     "locked": false,
     "points": 3,
     "schema_version": 1,
     "solution": true
    }
   },
   "source": [
    "This graph excells in its visual cues in that it uses the expected colors(bronze, silver, and gold) to represent the different medals, which eliminates the need for a legend to explain the colors. It's main issue is with the scale of the visualizations. While USA has over double the amount of medals than the Soviet Union, the scale of the bar makes it seems like it only has slightly more. In fact, each of the sections of USA should be about double the size they are now. The scale between Great Britain and Russia is about correct however. To change this visualition, I would correct the scale for the USA bar to represent the actual number of the medals won, effectively doubling the size of the chart. "
   ]
  },
  {
   "cell_type": "markdown",
   "metadata": {
    "deletable": false,
    "editable": false,
    "nbgrader": {
     "checksum": "e38195efb126e72752e24f3c25916b33",
     "grade": false,
     "grade_id": "cell-9e2fdc82d2d49f4e",
     "locked": true,
     "schema_version": 1,
     "solution": false
    }
   },
   "source": [
    "---\n",
    "\n",
    "# Problem 2\n",
    "\n",
    "Answer true or false to each of the following statements. Include a short justification of your answer (one or two complete sentences)."
   ]
  },
  {
   "cell_type": "markdown",
   "metadata": {
    "deletable": false,
    "editable": false,
    "nbgrader": {
     "checksum": "bae633bee64f69d2c68f000720a84d18",
     "grade": false,
     "grade_id": "cell-400780d3ba3f7fe5",
     "locked": true,
     "schema_version": 1,
     "solution": false
    }
   },
   "source": [
    "### Part A\n",
    "\n",
    "When  representing  quantitative  variables,  you  should  illustrate differences with a  scale  that  uses  a  single  hue  and  represents  changes  in  the values of  the variable  through  the  saturation  level. "
   ]
  },
  {
   "cell_type": "markdown",
   "metadata": {
    "deletable": false,
    "nbgrader": {
     "checksum": "88b74cc05082842cc56d677aebc46edb",
     "grade": true,
     "grade_id": "problem_2_part_a",
     "locked": false,
     "points": 1,
     "schema_version": 1,
     "solution": true
    }
   },
   "source": [
    "False. Changes in saturation level allows for very innacurate comparisons in quantitative variables. "
   ]
  },
  {
   "cell_type": "markdown",
   "metadata": {
    "deletable": false,
    "editable": false,
    "nbgrader": {
     "checksum": "eb7ee20a195099fb05d164c35b105469",
     "grade": false,
     "grade_id": "cell-07ac75819ffb57e7",
     "locked": true,
     "schema_version": 1,
     "solution": false
    }
   },
   "source": [
    "### Part B\n",
    "\n",
    "Pie  charts  are  always  an  excellent  alternative  to  bar  plots  for representing proportions. "
   ]
  },
  {
   "cell_type": "markdown",
   "metadata": {
    "deletable": false,
    "nbgrader": {
     "checksum": "a41c01a702bda9284a4a81c8ab5cfdc8",
     "grade": true,
     "grade_id": "problem_2_part_b",
     "locked": false,
     "points": 1,
     "schema_version": 1,
     "solution": true
    }
   },
   "source": [
    "False. Pie charts are often hard to compare proportions to compared to bar plots because estimating area is much harder than observing the height of bar plots. "
   ]
  },
  {
   "cell_type": "markdown",
   "metadata": {
    "deletable": false,
    "editable": false,
    "nbgrader": {
     "checksum": "cf87d1770523360a4b9a3b4360aebd04",
     "grade": false,
     "grade_id": "cell-cfa552540c32e75f",
     "locked": true,
     "schema_version": 1,
     "solution": false
    }
   },
   "source": [
    "### Part C\n",
    "\n",
    "If comparisons are important, tables are always a better tool to use than graphs."
   ]
  },
  {
   "cell_type": "markdown",
   "metadata": {
    "deletable": false,
    "nbgrader": {
     "checksum": "49bc811144eb003dc1ff273334e9b777",
     "grade": true,
     "grade_id": "problem_2_part_c",
     "locked": false,
     "points": 1,
     "schema_version": 1,
     "solution": true
    }
   },
   "source": [
    "False. Typically, graphs will be a better tool than graphs to use. Sometimes tables can be helpful for specific cases, such as when there is only a small amount of data to display. "
   ]
  },
  {
   "cell_type": "markdown",
   "metadata": {
    "deletable": false,
    "editable": false,
    "nbgrader": {
     "checksum": "b0d0c33cf26e6eb159e3bdba350a44d9",
     "grade": false,
     "grade_id": "cell-580b0e4053bd2617",
     "locked": true,
     "schema_version": 1,
     "solution": false
    }
   },
   "source": [
    "---\n",
    "\n",
    "# Problem 3\n",
    "\n",
    "The following plots come from simulated data based on a real problem.\n",
    "\n",
    "A bank is looking at the closure rates of its business accounts by date and account age. The data has dates ranging from February 2005 to December 2016, and the account age in months ranges from 1 to 181. All accounts over 15 years (180 months) old are placed together in the 181-month-old category. The following three plots all use the same data. \n",
    "\n",
    "#### Plot A\n",
    "\n",
    "![A](tile_plot_greys.png) \n",
    "\n",
    "#### Plot B\n",
    "\n",
    "![B](tile_plot_blues.png) \n",
    "\n",
    "#### Plot C\n",
    "\n",
    "![C](tile_plot_spectral.png)\n",
    "\n",
    "Using what you have learned about data visualization, answer the following questions in complete sentences:\n",
    "\n",
    "1. Which plot(s) use diverging palettes, and which plot(s) use sequential palettes? \n",
    "2. Which plot is the best for accurately comparing different combinations of date and age? \n",
    "3. Which plot is the best for quickly finding the high values? \n",
    "4. Which plot would you choose to display if you wanted to find patterns in the data? \n",
    "\n",
    "Note: In order to easily reference the plots, you may call them plot A, plot B, and plot C, respectively."
   ]
  },
  {
   "cell_type": "markdown",
   "metadata": {
    "deletable": false,
    "nbgrader": {
     "checksum": "2092324aad76557e99f6355b9aa7ce96",
     "grade": true,
     "grade_id": "problem_3",
     "locked": false,
     "points": 4,
     "schema_version": 1,
     "solution": true
    }
   },
   "source": [
    "1. Plot A and Plot B use sequential palettes, with Plot A using a grey sequential palette and Plot B using a blue sequential palette. Plot C uses a diverging color palette.\n",
    "2. Plot C is the best of accurately comparing different combinations of date and age because the color palette shows different values more clearly than the plots that use a sequential palette. \n",
    "3. Plot C is the best for quickly finding the high values because they are a different hue(red) so they stand out more than the changes in saturation that Plot A and Plot B use. \n",
    "4. I would use Plot C, because the difference in values are represented more clearly because is uses a diverging color palette, and therefore the high and low values are easier to see and therefore you can find patterns easier. "
   ]
  },
  {
   "cell_type": "markdown",
   "metadata": {
    "deletable": false,
    "editable": false,
    "nbgrader": {
     "checksum": "f3377b082299f79f9f6d4055dbde16f6",
     "grade": false,
     "grade_id": "cell-b165556966259595",
     "locked": true,
     "schema_version": 1,
     "solution": false
    }
   },
   "source": [
    "---\n",
    "\n",
    "# Problem 4\n",
    "\n",
    "For each of the following, evaluate  the  effectiveness  of  the  visualization.   In  particular,  discuss  the  positive  and negative  aspects  of  the  chosen visual  cues,  coordinate  systems,  scale,  and  context  material.   If  you  find  any \n",
    "negative  issues  with  a  visualization,  how  could  you  improve  it?  Please write your answers in complete sentences."
   ]
  },
  {
   "cell_type": "markdown",
   "metadata": {
    "deletable": false,
    "editable": false,
    "nbgrader": {
     "checksum": "df269645a92a66322be9397ac4765d22",
     "grade": false,
     "grade_id": "cell-92460f794c8e0fc8",
     "locked": true,
     "schema_version": 1,
     "solution": false
    }
   },
   "source": [
    "### Part A\n",
    "\n",
    "![](vis_1.jpg)"
   ]
  },
  {
   "cell_type": "markdown",
   "metadata": {
    "deletable": false,
    "nbgrader": {
     "checksum": "a746292a1eef8759edd14d06fd3493fe",
     "grade": true,
     "grade_id": "problem_4_part_a",
     "locked": false,
     "points": 1,
     "schema_version": 1,
     "solution": true
    }
   },
   "source": [
    "The top half of this visualization is quite effective. The question on the top gives context, and the large 89% shows the main piece of information that is trying to be conveyed, in that protecting libraries is crucial. However the pie chart seems largely unneccessary and if anything confusing the message that's attempting to be conveyed. Since it doesn't have any context it's not clear what it's being used for. In an attempt to improve this visualization, I would probably completely remove the pie chart. While this might not be the most accurate way to present the data, I believe that in this case since the message that is trying to be conveyed is that people like libraries, the most important aspect is to stress the overwhelming majority. If I were to leave in the pie chart, I would probably just make it a pie chart that has 89% in green and then the other 11% just in gray. "
   ]
  },
  {
   "cell_type": "markdown",
   "metadata": {
    "deletable": false,
    "editable": false,
    "nbgrader": {
     "checksum": "857fc0ecba668603729d011c2df957eb",
     "grade": false,
     "grade_id": "cell-1e16cafe295a8484",
     "locked": true,
     "schema_version": 1,
     "solution": false
    }
   },
   "source": [
    "### Part B\n",
    "\n",
    "(Yes, this one is not in English, but data are universal!)\n",
    "\n",
    "![](vis_2.jpg)"
   ]
  },
  {
   "cell_type": "markdown",
   "metadata": {
    "deletable": false,
    "nbgrader": {
     "checksum": "232e38fb4c9d91176f20fb63e2d2dc11",
     "grade": true,
     "grade_id": "problem_4_part_b",
     "locked": false,
     "points": 1,
     "schema_version": 1,
     "solution": true
    }
   },
   "source": [
    "The scale of this graph is almost propogandic in its innacuracy. 12.4% is not only in a different hue, but also made larger and with an arrow on top. This is not an accurate representation fo the data clearly, since 12.4% is barely larger than 12.3%. To improve this visualition to make it more accurate, I would correct the scale fo the chart, and put them all in the same color, probably red to math the palette of the piece. However, I do believe this is an effective advertisement and way to manipulate the data to make it work in your favor, which I'm sure was their intention. If these people wanted to make their 12.4% seem more impressive, they should have left out their closest competitior to make their scale seem slightly less comic. "
   ]
  },
  {
   "cell_type": "markdown",
   "metadata": {
    "deletable": false,
    "editable": false,
    "nbgrader": {
     "checksum": "da1c7d3706ebd4c095c8d98b3ab0ced2",
     "grade": false,
     "grade_id": "cell-5b0396a5f73bd1a4",
     "locked": true,
     "schema_version": 1,
     "solution": false
    }
   },
   "source": [
    "### Part C\n",
    "\n",
    "![](vis_3.jpg)"
   ]
  },
  {
   "cell_type": "markdown",
   "metadata": {
    "deletable": false,
    "nbgrader": {
     "checksum": "c4cef18c43d149b6ed26a782ec18103f",
     "grade": true,
     "grade_id": "problem_4_part_c",
     "locked": false,
     "points": 1,
     "schema_version": 1,
     "solution": true
    }
   },
   "source": [
    "The size of the rectangular prisms in this visualition are innaccurate, in that the 52% value is shown as only slightly larger than the 13% value. The use of rectangular prisms instead of just rectangles makes this visualization slightly more harder to read, and since the names are printed sideways, it's harder to tell what bank each prism is assigned to at a quick glance. To fix this visualization for accuracy, a simple bar chart would have been sufficient. Chase and Wells fargo should also be different hues to differentiate them. There's also no context supplied in this graph, although perhaps in the original visualtion there was some. However, based on what is shown the context is completely missing. "
   ]
  },
  {
   "cell_type": "markdown",
   "metadata": {
    "deletable": false,
    "editable": false,
    "nbgrader": {
     "checksum": "ea45e57e473b7cfe49fb10004952ba25",
     "grade": false,
     "grade_id": "cell-2d426b0a2068fb78",
     "locked": true,
     "schema_version": 1,
     "solution": false
    }
   },
   "source": [
    "### Part D\n",
    "\n",
    "![](vis_4.jpg)"
   ]
  },
  {
   "cell_type": "markdown",
   "metadata": {
    "deletable": false,
    "nbgrader": {
     "checksum": "25f841f7f35f2132334749784ff21357",
     "grade": true,
     "grade_id": "problem_4_part_d",
     "locked": false,
     "points": 1,
     "schema_version": 1,
     "solution": true
    }
   },
   "source": [
    "This visualation is very confusing, to the point where I'm not exactly sure what the different sections of the graph are referring to. A major issue with this graph is that it's using area of semicircles to represent values, which is hard to compare the different numbers. Another issue is that each of the different semicircles have a gradient of color instead of a single color, so it's even harder to see where the seperations are. It seems as though sometimes the semicircles use all the area from the center to the end, but some only use where the previous semicircle lets out. To make this more clear, there would be several options. I think this could be effective slightly if more context was used, especially what some of the numbers on the inside mean. You could set all the colors to be pure colors instead of gradients and make the coordinate systems the same for each quandrant. However, a more accurate representation could be stacked bar graphs that convey the same information, and would also compare the sizes of the different subsidies. The issue with this would be that some would be really small and some would be very large, but the data would actually be presented more accurately."
   ]
  },
  {
   "cell_type": "markdown",
   "metadata": {},
   "source": [
    "Note: These images were found at the following URLs:\n",
    "\n",
    "[http://andrewgelman.com/2011/04/26/worst_statistic/](http://andrewgelman.com/2011/04/26/worst_statistic/)\n",
    "\n",
    "[https://www.undullify.com/data-visualization-102-common-mistakes-visualizing-data/](https://www.undullify.com/data-visualization-102-common-mistakes-visualizing-data/)"
   ]
  }
 ],
 "metadata": {
  "anaconda-cloud": {},
  "kernelspec": {
   "display_name": "R",
   "language": "R",
   "name": "ir"
  },
  "language_info": {
   "codemirror_mode": "r",
   "file_extension": ".r",
   "mimetype": "text/x-r-source",
   "name": "R",
   "pygments_lexer": "r",
   "version": "3.4.1"
  }
 },
 "nbformat": 4,
 "nbformat_minor": 1
}
