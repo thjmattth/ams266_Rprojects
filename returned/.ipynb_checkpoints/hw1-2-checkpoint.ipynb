{
 "cells": [
  {
   "cell_type": "markdown",
   "metadata": {},
   "source": [
    "Before you turn this problem set in, make sure everything runs as expected. First, **restart the kernel** (in the menubar, select Kernel$\\rightarrow$Restart) and then **run all cells** (in the menubar, select Cell$\\rightarrow$Run All). Note that in code sections, you must replace `stop(\"Not Implemented\")` with your code. Otherwise, you will have points automatically deducted in the grading process.\n",
    "\n",
    "**Please do not rename this file.**\n",
    "\n",
    "Make sure you fill in any place that says `YOUR CODE HERE` or \"YOUR ANSWER/EXPLANATION HERE\", as well as your name below:"
   ]
  },
  {
   "cell_type": "code",
   "execution_count": 1,
   "metadata": {
    "collapsed": true
   },
   "outputs": [],
   "source": [
    "NAME = \"Thomas J Matthew\""
   ]
  },
  {
   "cell_type": "markdown",
   "metadata": {},
   "source": [
    "---"
   ]
  },
  {
   "cell_type": "markdown",
   "metadata": {
    "deletable": false,
    "editable": false,
    "nbgrader": {
     "checksum": "c02820992586541ffbb459b90008ee6f",
     "grade": false,
     "grade_id": "problem_1",
     "locked": true,
     "schema_version": 1,
     "solution": false
    }
   },
   "source": [
    "# Problem 1\n",
    "\n",
    "Can you fix the mistake in the following code? Explain."
   ]
  },
  {
   "cell_type": "code",
   "execution_count": 2,
   "metadata": {
    "deletable": false,
    "editable": false,
    "nbgrader": {
     "checksum": "903b061aa3dbd2caa335706e3716cdc0",
     "grade": false,
     "grade_id": "problem_1_error",
     "locked": true,
     "schema_version": 1,
     "solution": false
    },
    "scrolled": true
   },
   "outputs": [
    {
     "ename": "ERROR",
     "evalue": "Error in eval(expr, envir, enclos): object 'longIJ' not found\n",
     "output_type": "error",
     "traceback": [
      "Error in eval(expr, envir, enclos): object 'longIJ' not found\nTraceback:\n"
     ]
    }
   ],
   "source": [
    "# This code produces an error\n",
    "longIj <- rnorm(50)\n",
    "yui <- rep(seq(1,5),10)\n",
    "tra <- longIJ*yui"
   ]
  },
  {
   "cell_type": "code",
   "execution_count": 3,
   "metadata": {
    "collapsed": true,
    "deletable": false,
    "nbgrader": {
     "checksum": "03e2074abeee7953c5891235b1a45f46",
     "grade": true,
     "grade_id": "problem_1_code",
     "locked": false,
     "points": 1,
     "schema_version": 1,
     "solution": true
    }
   },
   "outputs": [],
   "source": [
    "# Write code here that does not produce an error\n",
    "longIj <- rnorm(50)\n",
    "yui <- rep(seq(1,5),10)\n",
    "tra <- longIj*yui"
   ]
  },
  {
   "cell_type": "markdown",
   "metadata": {
    "deletable": false,
    "nbgrader": {
     "checksum": "5d8d8d5972d4e52dacc127f20bffede5",
     "grade": true,
     "grade_id": "problem_1_explain",
     "locked": false,
     "points": 1,
     "schema_version": 1,
     "solution": true
    }
   },
   "source": [
    "EXPLANATION: typo in last line longIJ to longIj"
   ]
  },
  {
   "cell_type": "markdown",
   "metadata": {
    "deletable": false,
    "editable": false,
    "nbgrader": {
     "checksum": "fcc95bb5d09e367bd12b7c5edabb2310",
     "grade": false,
     "grade_id": "problem_2",
     "locked": true,
     "schema_version": 1,
     "solution": false
    }
   },
   "source": [
    "---\n",
    "\n",
    "# Problem 2\n",
    "\n",
    "Define a $15 \\times 18$ matrix $A$ composed of independent random numbers generated from a normal distribution with mean 5 and variance 2. Provide code to:\n",
    "\n",
    "- Create a vector $x$ containing the elements of $A$ that are lower then 4. Now, count the number of elements in the vector and compute the median value in $x$.\n",
    "    \n",
    "- Create a matrix $B$ that is a submatrix of $A$ such that only rows whose mean is greater than 4 but less than 7, and columns whose mean is lower than 6 are retained."
   ]
  },
  {
   "cell_type": "code",
   "execution_count": 222,
   "metadata": {
    "deletable": false,
    "nbgrader": {
     "checksum": "013df91b6a93459445d1c6d3dcc1d31c",
     "grade": false,
     "grade_id": "problem_2_code_a",
     "locked": false,
     "schema_version": 1,
     "solution": true
    }
   },
   "outputs": [
    {
     "data": {
      "text/html": [
       "96"
      ],
      "text/latex": [
       "96"
      ],
      "text/markdown": [
       "96"
      ],
      "text/plain": [
       "[1] 96"
      ]
     },
     "metadata": {},
     "output_type": "display_data"
    },
    {
     "data": {
      "text/html": [
       "1.87080863144962"
      ],
      "text/latex": [
       "1.87080863144962"
      ],
      "text/markdown": [
       "1.87080863144962"
      ],
      "text/plain": [
       "[1] 1.870809"
      ]
     },
     "metadata": {},
     "output_type": "display_data"
    }
   ],
   "source": [
    "# Create the x vector, count the number of elements in x, and find the median.\n",
    "# Make sure the vector is named `x`.\n",
    "A <- matrix(rnorm(15*18,5,2^2),15,18)\n",
    "\n",
    "# YOUR CODE HERE\n",
    "x <- A[which(A < 4)]\n",
    "length(x)\n",
    "median(x)"
   ]
  },
  {
   "cell_type": "code",
   "execution_count": null,
   "metadata": {
    "collapsed": true,
    "deletable": false,
    "editable": false,
    "nbgrader": {
     "checksum": "1b0be411d18c37fe7e31c709ea19f147",
     "grade": true,
     "grade_id": "problem_2_hidden_a",
     "locked": true,
     "points": 1,
     "schema_version": 1,
     "solution": false
    }
   },
   "outputs": [],
   "source": [
    "# This cell will test your answers. You will not be able to edit this."
   ]
  },
  {
   "cell_type": "code",
   "execution_count": 244,
   "metadata": {
    "collapsed": true,
    "deletable": false,
    "nbgrader": {
     "checksum": "2dd68151a1a58da9f8b65cf41bb9c92e",
     "grade": false,
     "grade_id": "problem_2_code_b",
     "locked": false,
     "schema_version": 1,
     "solution": true
    }
   },
   "outputs": [],
   "source": [
    "# Create your B matrix. Be sure to name the matrix `B`.\n",
    "# use booleans to find columns and rows that meet criteria\n",
    "# use true indexes above to slice A\n",
    "B <- A[rowMeans(A) > 4 & rowMeans(A) < 7, colMeans(A) < 6, drop = FALSE]"
   ]
  },
  {
   "cell_type": "code",
   "execution_count": null,
   "metadata": {
    "collapsed": true,
    "deletable": false,
    "editable": false,
    "nbgrader": {
     "checksum": "40c86459c8f17a9a387b4db80b4e588f",
     "grade": true,
     "grade_id": "problem_2_hidden_b",
     "locked": true,
     "points": 1,
     "schema_version": 1,
     "solution": false
    }
   },
   "outputs": [],
   "source": [
    "# This cell will test your answers. You will not be able to edit this."
   ]
  },
  {
   "cell_type": "markdown",
   "metadata": {
    "deletable": false,
    "editable": false,
    "nbgrader": {
     "checksum": "bf6afdabb610abd373994b8ec6429403",
     "grade": false,
     "grade_id": "problem_3",
     "locked": true,
     "schema_version": 1,
     "solution": false
    }
   },
   "source": [
    "---\n",
    "\n",
    "# Problem 3\n",
    "\n",
    "Define the matrix $A$ as \n",
    "\n",
    "| A <- matrix(rnorm(30),15,2)\n",
    "\n",
    "Write code to sort the rows of $A$ so that the elements of the first column appear in decreasing order."
   ]
  },
  {
   "cell_type": "code",
   "execution_count": 2,
   "metadata": {
    "deletable": false,
    "nbgrader": {
     "checksum": "a76e7e23a2f805769bef4e29d5bd39d4",
     "grade": true,
     "grade_id": "problem_3_code",
     "locked": false,
     "points": 1,
     "schema_version": 1,
     "solution": true
    }
   },
   "outputs": [],
   "source": [
    "A <- matrix(rnorm(30),15,2)\n",
    "A[ order(-A[,1]), ]"
   ]
  },
  {
   "cell_type": "code",
   "execution_count": 3,
   "metadata": {},
   "outputs": [
    {
     "data": {
      "text/html": [
       "<table>\n",
       "<tbody>\n",
       "\t<tr><td> 0.4723148</td><td>-0.7747365</td></tr>\n",
       "\t<tr><td>-0.2575955</td><td> 0.5974117</td></tr>\n",
       "\t<tr><td>-0.9794934</td><td> 0.1142071</td></tr>\n",
       "\t<tr><td>-0.1984177</td><td>-1.7264726</td></tr>\n",
       "\t<tr><td>-1.2405605</td><td>-1.6654422</td></tr>\n",
       "\t<tr><td> 0.7217474</td><td>-0.5287907</td></tr>\n",
       "\t<tr><td>-0.9726285</td><td>-0.4761597</td></tr>\n",
       "\t<tr><td> 0.8377329</td><td> 1.6441129</td></tr>\n",
       "\t<tr><td> 0.4076830</td><td> 0.8521251</td></tr>\n",
       "\t<tr><td> 0.1600811</td><td>-0.6843078</td></tr>\n",
       "\t<tr><td>-1.5440085</td><td>-0.6443215</td></tr>\n",
       "\t<tr><td>-0.6395278</td><td> 2.1709199</td></tr>\n",
       "\t<tr><td>-1.0237706</td><td>-1.4282165</td></tr>\n",
       "\t<tr><td> 0.6367243</td><td> 0.3161378</td></tr>\n",
       "\t<tr><td>-1.3284236</td><td> 0.9582189</td></tr>\n",
       "</tbody>\n",
       "</table>\n"
      ],
      "text/latex": [
       "\\begin{tabular}{ll}\n",
       "\t  0.4723148 & -0.7747365\\\\\n",
       "\t -0.2575955 &  0.5974117\\\\\n",
       "\t -0.9794934 &  0.1142071\\\\\n",
       "\t -0.1984177 & -1.7264726\\\\\n",
       "\t -1.2405605 & -1.6654422\\\\\n",
       "\t  0.7217474 & -0.5287907\\\\\n",
       "\t -0.9726285 & -0.4761597\\\\\n",
       "\t  0.8377329 &  1.6441129\\\\\n",
       "\t  0.4076830 &  0.8521251\\\\\n",
       "\t  0.1600811 & -0.6843078\\\\\n",
       "\t -1.5440085 & -0.6443215\\\\\n",
       "\t -0.6395278 &  2.1709199\\\\\n",
       "\t -1.0237706 & -1.4282165\\\\\n",
       "\t  0.6367243 &  0.3161378\\\\\n",
       "\t -1.3284236 &  0.9582189\\\\\n",
       "\\end{tabular}\n"
      ],
      "text/markdown": [
       "\n",
       "|  0.4723148 | -0.7747365 | \n",
       "| -0.2575955 |  0.5974117 | \n",
       "| -0.9794934 |  0.1142071 | \n",
       "| -0.1984177 | -1.7264726 | \n",
       "| -1.2405605 | -1.6654422 | \n",
       "|  0.7217474 | -0.5287907 | \n",
       "| -0.9726285 | -0.4761597 | \n",
       "|  0.8377329 |  1.6441129 | \n",
       "|  0.4076830 |  0.8521251 | \n",
       "|  0.1600811 | -0.6843078 | \n",
       "| -1.5440085 | -0.6443215 | \n",
       "| -0.6395278 |  2.1709199 | \n",
       "| -1.0237706 | -1.4282165 | \n",
       "|  0.6367243 |  0.3161378 | \n",
       "| -1.3284236 |  0.9582189 | \n",
       "\n",
       "\n"
      ],
      "text/plain": [
       "      [,1]       [,2]      \n",
       " [1,]  0.4723148 -0.7747365\n",
       " [2,] -0.2575955  0.5974117\n",
       " [3,] -0.9794934  0.1142071\n",
       " [4,] -0.1984177 -1.7264726\n",
       " [5,] -1.2405605 -1.6654422\n",
       " [6,]  0.7217474 -0.5287907\n",
       " [7,] -0.9726285 -0.4761597\n",
       " [8,]  0.8377329  1.6441129\n",
       " [9,]  0.4076830  0.8521251\n",
       "[10,]  0.1600811 -0.6843078\n",
       "[11,] -1.5440085 -0.6443215\n",
       "[12,] -0.6395278  2.1709199\n",
       "[13,] -1.0237706 -1.4282165\n",
       "[14,]  0.6367243  0.3161378\n",
       "[15,] -1.3284236  0.9582189"
      ]
     },
     "metadata": {},
     "output_type": "display_data"
    }
   ],
   "source": [
    "A"
   ]
  },
  {
   "cell_type": "code",
   "execution_count": 4,
   "metadata": {},
   "outputs": [
    {
     "data": {
      "text/html": [
       "<table>\n",
       "<tbody>\n",
       "\t<tr><td> 0.8377329</td><td> 1.6441129</td></tr>\n",
       "\t<tr><td> 0.7217474</td><td>-0.5287907</td></tr>\n",
       "\t<tr><td> 0.6367243</td><td> 0.3161378</td></tr>\n",
       "\t<tr><td> 0.4723148</td><td>-0.7747365</td></tr>\n",
       "\t<tr><td> 0.4076830</td><td> 0.8521251</td></tr>\n",
       "\t<tr><td> 0.1600811</td><td>-0.6843078</td></tr>\n",
       "\t<tr><td>-0.1984177</td><td>-1.7264726</td></tr>\n",
       "\t<tr><td>-0.2575955</td><td> 0.5974117</td></tr>\n",
       "\t<tr><td>-0.6395278</td><td> 2.1709199</td></tr>\n",
       "\t<tr><td>-0.9726285</td><td>-0.4761597</td></tr>\n",
       "\t<tr><td>-0.9794934</td><td> 0.1142071</td></tr>\n",
       "\t<tr><td>-1.0237706</td><td>-1.4282165</td></tr>\n",
       "\t<tr><td>-1.2405605</td><td>-1.6654422</td></tr>\n",
       "\t<tr><td>-1.3284236</td><td> 0.9582189</td></tr>\n",
       "\t<tr><td>-1.5440085</td><td>-0.6443215</td></tr>\n",
       "</tbody>\n",
       "</table>\n"
      ],
      "text/latex": [
       "\\begin{tabular}{ll}\n",
       "\t  0.8377329 &  1.6441129\\\\\n",
       "\t  0.7217474 & -0.5287907\\\\\n",
       "\t  0.6367243 &  0.3161378\\\\\n",
       "\t  0.4723148 & -0.7747365\\\\\n",
       "\t  0.4076830 &  0.8521251\\\\\n",
       "\t  0.1600811 & -0.6843078\\\\\n",
       "\t -0.1984177 & -1.7264726\\\\\n",
       "\t -0.2575955 &  0.5974117\\\\\n",
       "\t -0.6395278 &  2.1709199\\\\\n",
       "\t -0.9726285 & -0.4761597\\\\\n",
       "\t -0.9794934 &  0.1142071\\\\\n",
       "\t -1.0237706 & -1.4282165\\\\\n",
       "\t -1.2405605 & -1.6654422\\\\\n",
       "\t -1.3284236 &  0.9582189\\\\\n",
       "\t -1.5440085 & -0.6443215\\\\\n",
       "\\end{tabular}\n"
      ],
      "text/markdown": [
       "\n",
       "|  0.8377329 |  1.6441129 | \n",
       "|  0.7217474 | -0.5287907 | \n",
       "|  0.6367243 |  0.3161378 | \n",
       "|  0.4723148 | -0.7747365 | \n",
       "|  0.4076830 |  0.8521251 | \n",
       "|  0.1600811 | -0.6843078 | \n",
       "| -0.1984177 | -1.7264726 | \n",
       "| -0.2575955 |  0.5974117 | \n",
       "| -0.6395278 |  2.1709199 | \n",
       "| -0.9726285 | -0.4761597 | \n",
       "| -0.9794934 |  0.1142071 | \n",
       "| -1.0237706 | -1.4282165 | \n",
       "| -1.2405605 | -1.6654422 | \n",
       "| -1.3284236 |  0.9582189 | \n",
       "| -1.5440085 | -0.6443215 | \n",
       "\n",
       "\n"
      ],
      "text/plain": [
       "      [,1]       [,2]      \n",
       " [1,]  0.8377329  1.6441129\n",
       " [2,]  0.7217474 -0.5287907\n",
       " [3,]  0.6367243  0.3161378\n",
       " [4,]  0.4723148 -0.7747365\n",
       " [5,]  0.4076830  0.8521251\n",
       " [6,]  0.1600811 -0.6843078\n",
       " [7,] -0.1984177 -1.7264726\n",
       " [8,] -0.2575955  0.5974117\n",
       " [9,] -0.6395278  2.1709199\n",
       "[10,] -0.9726285 -0.4761597\n",
       "[11,] -0.9794934  0.1142071\n",
       "[12,] -1.0237706 -1.4282165\n",
       "[13,] -1.2405605 -1.6654422\n",
       "[14,] -1.3284236  0.9582189\n",
       "[15,] -1.5440085 -0.6443215"
      ]
     },
     "metadata": {},
     "output_type": "display_data"
    }
   ],
   "source": [
    "A[ order(-A[,1]), ]"
   ]
  },
  {
   "cell_type": "markdown",
   "metadata": {
    "deletable": false,
    "editable": false,
    "nbgrader": {
     "checksum": "b046757405c71b866613eb1f93a9ee9f",
     "grade": false,
     "grade_id": "problem_4",
     "locked": true,
     "schema_version": 1,
     "solution": false
    }
   },
   "source": [
    "---\n",
    "\n",
    "# Problem 4\n",
    "\n",
    "Create a vector of 100,000 simulated coin tosses (with elements \"Head\" and \"Tail\") using two different methods:\n",
    "- The function `sample`.\n",
    "- The function `rbinom`.\n",
    "\n",
    "In each case, use the `table` function to show the numbers of `Head` and `Tail` in your sample."
   ]
  },
  {
   "cell_type": "code",
   "execution_count": 29,
   "metadata": {
    "deletable": false,
    "nbgrader": {
     "checksum": "a80f0c25d361886afd60761a2b6831da",
     "grade": true,
     "grade_id": "problem_4_code_a",
     "locked": false,
     "points": 1,
     "schema_version": 1,
     "solution": true
    },
    "scrolled": true
   },
   "outputs": [
    {
     "data": {
      "text/html": [
       "<ol class=list-inline>\n",
       "\t<li>'Tail'</li>\n",
       "\t<li>'Tail'</li>\n",
       "\t<li>'Tail'</li>\n",
       "\t<li>'Head'</li>\n",
       "\t<li>'Head'</li>\n",
       "\t<li>'Tail'</li>\n",
       "\t<li>'Tail'</li>\n",
       "\t<li>'Tail'</li>\n",
       "\t<li>'Head'</li>\n",
       "\t<li>'Head'</li>\n",
       "</ol>\n"
      ],
      "text/latex": [
       "\\begin{enumerate*}\n",
       "\\item 'Tail'\n",
       "\\item 'Tail'\n",
       "\\item 'Tail'\n",
       "\\item 'Head'\n",
       "\\item 'Head'\n",
       "\\item 'Tail'\n",
       "\\item 'Tail'\n",
       "\\item 'Tail'\n",
       "\\item 'Head'\n",
       "\\item 'Head'\n",
       "\\end{enumerate*}\n"
      ],
      "text/markdown": [
       "1. 'Tail'\n",
       "2. 'Tail'\n",
       "3. 'Tail'\n",
       "4. 'Head'\n",
       "5. 'Head'\n",
       "6. 'Tail'\n",
       "7. 'Tail'\n",
       "8. 'Tail'\n",
       "9. 'Head'\n",
       "10. 'Head'\n",
       "\n",
       "\n"
      ],
      "text/plain": [
       " [1] \"Tail\" \"Tail\" \"Tail\" \"Head\" \"Head\" \"Tail\" \"Tail\" \"Tail\" \"Head\" \"Head\""
      ]
     },
     "metadata": {},
     "output_type": "display_data"
    }
   ],
   "source": [
    "# Use the sample function to create the vector. \n",
    "# Name the vector containing the samples `sample_method`.\n",
    "\n",
    "X1 <- rep('Head', 10)\n",
    "Y <- rbinom(10, 1, 1/2)\n",
    "#Since they the probability is 1/2 for both cases, I assigned \"a\" when Y=1 and \"-a\" otherwise.\n",
    "X1[Y == 1] = 'Head'\n",
    "X1[Y == 0] = 'Tail'\n",
    "X1"
   ]
  },
  {
   "cell_type": "code",
   "execution_count": 30,
   "metadata": {
    "deletable": false,
    "nbgrader": {
     "checksum": "88a7d0deff7bbeb569b779b92b9a0758",
     "grade": true,
     "grade_id": "problem_4_code_b",
     "locked": false,
     "points": 1,
     "schema_version": 1,
     "solution": true
    }
   },
   "outputs": [
    {
     "data": {
      "text/html": [
       "<ol class=list-inline>\n",
       "\t<li>'Head'</li>\n",
       "\t<li>'Head'</li>\n",
       "\t<li>'Head'</li>\n",
       "\t<li>'Tail'</li>\n",
       "\t<li>'Tail'</li>\n",
       "\t<li>'Head'</li>\n",
       "\t<li>'Tail'</li>\n",
       "\t<li>'Tail'</li>\n",
       "\t<li>'Tail'</li>\n",
       "\t<li>'Tail'</li>\n",
       "</ol>\n"
      ],
      "text/latex": [
       "\\begin{enumerate*}\n",
       "\\item 'Head'\n",
       "\\item 'Head'\n",
       "\\item 'Head'\n",
       "\\item 'Tail'\n",
       "\\item 'Tail'\n",
       "\\item 'Head'\n",
       "\\item 'Tail'\n",
       "\\item 'Tail'\n",
       "\\item 'Tail'\n",
       "\\item 'Tail'\n",
       "\\end{enumerate*}\n"
      ],
      "text/markdown": [
       "1. 'Head'\n",
       "2. 'Head'\n",
       "3. 'Head'\n",
       "4. 'Tail'\n",
       "5. 'Tail'\n",
       "6. 'Head'\n",
       "7. 'Tail'\n",
       "8. 'Tail'\n",
       "9. 'Tail'\n",
       "10. 'Tail'\n",
       "\n",
       "\n"
      ],
      "text/plain": [
       " [1] \"Head\" \"Head\" \"Head\" \"Tail\" \"Tail\" \"Head\" \"Tail\" \"Tail\" \"Tail\" \"Tail\""
      ]
     },
     "metadata": {},
     "output_type": "display_data"
    }
   ],
   "source": [
    "# Use the rbinom function to create the vector. \n",
    "X2 <- sample(c('Head','Tail'), 10, replace=TRUE)\n",
    "X2"
   ]
  },
  {
   "cell_type": "markdown",
   "metadata": {
    "deletable": false,
    "editable": false,
    "nbgrader": {
     "checksum": "e0b59ab2945d65f4cf2c6f6c04f44201",
     "grade": false,
     "grade_id": "problem_5",
     "locked": true,
     "schema_version": 1,
     "solution": false
    }
   },
   "source": [
    "---\n",
    "\n",
    "# Problem 5\n",
    "\n",
    "How can you modify the following code to avoid `NaN` and obtain the right results?"
   ]
  },
  {
   "cell_type": "code",
   "execution_count": 31,
   "metadata": {
    "deletable": false,
    "editable": false,
    "nbgrader": {
     "checksum": "83bd68ea25e462d311535740bd9dbb62",
     "grade": false,
     "grade_id": "problem_5_NaN",
     "locked": true,
     "schema_version": 1,
     "solution": false
    }
   },
   "outputs": [
    {
     "data": {
      "text/html": [
       "<ol class=list-inline>\n",
       "\t<li>NaN</li>\n",
       "\t<li>NaN</li>\n",
       "</ol>\n"
      ],
      "text/latex": [
       "\\begin{enumerate*}\n",
       "\\item NaN\n",
       "\\item NaN\n",
       "\\end{enumerate*}\n"
      ],
      "text/markdown": [
       "1. NaN\n",
       "2. NaN\n",
       "\n",
       "\n"
      ],
      "text/plain": [
       "[1] NaN NaN"
      ]
     },
     "metadata": {},
     "output_type": "display_data"
    }
   ],
   "source": [
    "# Running this chunk will produce two NaNs\n",
    "x <- c(-50,-50.1)\n",
    "y <- dnorm(x)\n",
    "y/sum(y)"
   ]
  },
  {
   "cell_type": "code",
   "execution_count": 212,
   "metadata": {
    "deletable": false,
    "nbgrader": {
     "checksum": "c0d1287451aa2c7976ee883495c0893e",
     "grade": false,
     "grade_id": "problem_5_code",
     "locked": false,
     "schema_version": 1,
     "solution": true
    }
   },
   "outputs": [
    {
     "data": {
      "text/html": [
       "1"
      ],
      "text/latex": [
       "1"
      ],
      "text/markdown": [
       "1"
      ],
      "text/plain": [
       "[1] 1"
      ]
     },
     "metadata": {},
     "output_type": "display_data"
    }
   ],
   "source": [
    "# Rewrite the code above to obtain two proportions that sum to 1\n",
    "x <- 0\n",
    "y <- dnorm(x)\n",
    "y/sum(y)"
   ]
  },
  {
   "cell_type": "markdown",
   "metadata": {
    "deletable": false,
    "editable": false,
    "nbgrader": {
     "checksum": "7175fec22ff0e929238e467087718475",
     "grade": false,
     "grade_id": "problem_5_test_text",
     "locked": true,
     "schema_version": 1,
     "solution": false
    }
   },
   "source": [
    "Test to make sure that the `y/sum(y)` vector sums to 1:"
   ]
  },
  {
   "cell_type": "code",
   "execution_count": 213,
   "metadata": {
    "collapsed": true,
    "deletable": false,
    "editable": false,
    "nbgrader": {
     "checksum": "f557f21055b7bc6c9b468131273dd992",
     "grade": true,
     "grade_id": "problem_5_test",
     "locked": true,
     "points": 1,
     "schema_version": 1,
     "solution": false
    }
   },
   "outputs": [],
   "source": [
    "stopifnot(sum(y/sum(y)) == 1)"
   ]
  },
  {
   "cell_type": "markdown",
   "metadata": {
    "deletable": false,
    "editable": false,
    "nbgrader": {
     "checksum": "1de200ec1a084451a385f4f3ddeb36ef",
     "grade": false,
     "grade_id": "problem_6",
     "locked": true,
     "schema_version": 1,
     "solution": false
    }
   },
   "source": [
    "---\n",
    "\n",
    "# Problem 6\n",
    "\n",
    "For a disease known to have a postoperative complication frequency of 20%, a surgeon suggests a new procedure. He tests it on 50 patients and there are 3 complications.\n",
    "\n",
    "- What is the probability of this event (3 complications in 50 procedures) in the traditional method?\n",
    "- What number of complications would you expect 90% of samples of size 50 to fall below, assuming that the proportion of complications using the new method in the surgeon's sample is the same as in the population?"
   ]
  },
  {
   "cell_type": "code",
   "execution_count": 245,
   "metadata": {
    "collapsed": true,
    "deletable": false,
    "nbgrader": {
     "checksum": "1371687efb35974d2ada0730c6334e7a",
     "grade": false,
     "grade_id": "problem_6_code_a",
     "locked": false,
     "schema_version": 1,
     "solution": true
    }
   },
   "outputs": [],
   "source": [
    "# Find the probability of 3 complications in 50 procedures \n",
    "# in the traditional method. Assign this to an object `a`.\n",
    "a <- dbinom(3, size=50, prob=0.2) "
   ]
  },
  {
   "cell_type": "code",
   "execution_count": null,
   "metadata": {
    "collapsed": true,
    "deletable": false,
    "editable": false,
    "nbgrader": {
     "checksum": "613448b9f30f5bd52f1a5681ef46df73",
     "grade": true,
     "grade_id": "problem_6_test_a",
     "locked": true,
     "points": 1,
     "schema_version": 1,
     "solution": false
    }
   },
   "outputs": [],
   "source": [
    "# This cell will test your answers. You will not be able to edit this."
   ]
  },
  {
   "cell_type": "code",
   "execution_count": 248,
   "metadata": {
    "collapsed": true,
    "deletable": false,
    "nbgrader": {
     "checksum": "47f6419a1547a14456a2f198ddf8b85b",
     "grade": false,
     "grade_id": "problem_6_code_b",
     "locked": false,
     "schema_version": 1,
     "solution": true
    }
   },
   "outputs": [],
   "source": [
    "# Find the value, and assign it to an object `b`\n",
    "b <- qbinom(0.9, 50, prob=0.2)"
   ]
  },
  {
   "cell_type": "code",
   "execution_count": null,
   "metadata": {
    "collapsed": true,
    "deletable": false,
    "editable": false,
    "nbgrader": {
     "checksum": "7ac6104e66aa6f1a5924d3a26854d795",
     "grade": true,
     "grade_id": "problem_6_test_b",
     "locked": true,
     "points": 1,
     "schema_version": 1,
     "solution": false
    }
   },
   "outputs": [],
   "source": [
    "# This cell will test your answers. You will not be able to edit this."
   ]
  },
  {
   "cell_type": "markdown",
   "metadata": {
    "deletable": false,
    "editable": false,
    "nbgrader": {
     "checksum": "16123167420e7b865331ea3c3b1e5684",
     "grade": false,
     "grade_id": "problem_7",
     "locked": true,
     "schema_version": 1,
     "solution": false
    }
   },
   "source": [
    "---\n",
    "\n",
    "# Problem 7\n",
    "\n",
    "The `cut` function can be used to create a factor from a numeric vector (look up the details in the help page).\n",
    "- Create a vector with 100 random numbers from an exponential distribution with a mean of 2. Use the `summary` function to show summary statistics of the vector.\n",
    "- Create a factor vector of length 100 in which the data are divided into the intervals (0,0.6], (0.6,1.65],(1.65,2.8] and (2.8,\\infty). Use the `table` function to show the number of observations in each group.\n",
    "- Change the level names to \"low\", \"intermediate\", \"high\", and \"very high\". Use the `table` function to show the number of observations in each group."
   ]
  },
  {
   "cell_type": "code",
   "execution_count": 50,
   "metadata": {
    "deletable": false,
    "nbgrader": {
     "checksum": "89a4ed8e31ceeaede5d63fdb0294887c",
     "grade": true,
     "grade_id": "problem_7_code_a",
     "locked": false,
     "points": 1,
     "schema_version": 1,
     "solution": true
    },
    "scrolled": true
   },
   "outputs": [
    {
     "data": {
      "text/plain": [
       "   Min. 1st Qu.  Median    Mean 3rd Qu.    Max. \n",
       "0.06355 0.57678 1.49959 1.93388 3.13210 9.09055 "
      ]
     },
     "metadata": {},
     "output_type": "display_data"
    }
   ],
   "source": [
    "# Create a vector with 100 random numbers from \n",
    "# an exponential distribution with a mean of 2.\n",
    "# Use the `summary` function to show summary \n",
    "# statistics of the vector.\n",
    "\n",
    "ev <- rexp(100, 1/2)\n",
    "summary(ev)"
   ]
  },
  {
   "cell_type": "code",
   "execution_count": 59,
   "metadata": {
    "deletable": false,
    "nbgrader": {
     "checksum": "99aa69be6d20be483a7d0c460bba88ca",
     "grade": true,
     "grade_id": "problem_7_code_b",
     "locked": false,
     "points": 1,
     "schema_version": 1,
     "solution": true
    }
   },
   "outputs": [
    {
     "data": {
      "text/plain": [
       "evf\n",
       "   (0,0.6] (0.6,1.65] (1.65,2.8]  (2.8,Inf] \n",
       "        26         30         18         26 "
      ]
     },
     "metadata": {},
     "output_type": "display_data"
    }
   ],
   "source": [
    "# Create a factor vector of length 100 in which\n",
    "# the data are divided into the intervals\n",
    "# (0,0.6], (0.6,1.65],(1.65,2.8] and (2.8,\\infty). \n",
    "# Use the `table` function to show the number of \n",
    "# observations in each group.\n",
    "evf = cut(ev,c(0,0.6,1.65,2.8,Inf))\n",
    "table(evf)"
   ]
  },
  {
   "cell_type": "code",
   "execution_count": 61,
   "metadata": {
    "deletable": false,
    "nbgrader": {
     "checksum": "5b06eba18ad89a14d392215b4c52d0fb",
     "grade": true,
     "grade_id": "problem_7_code_c",
     "locked": false,
     "points": 1,
     "schema_version": 1,
     "solution": true
    }
   },
   "outputs": [
    {
     "data": {
      "text/plain": [
       "evf\n",
       "         Low Intermediate         High    Very High \n",
       "          26           30           18           26 "
      ]
     },
     "metadata": {},
     "output_type": "display_data"
    }
   ],
   "source": [
    "# Change the level names to \"low\", \"intermediate\",\n",
    "# \"high\", and \"very high\". Use the `table` function \n",
    "# to show the number of observations in each group.\n",
    "evf = cut(ev,c(0,0.6,1.65,2.8,Inf),labels=c('Low','Intermediate','High','Very High'))\n",
    "table(evf)\n"
   ]
  },
  {
   "cell_type": "markdown",
   "metadata": {
    "deletable": false,
    "editable": false,
    "nbgrader": {
     "checksum": "e2cd2494addc24178b7529122eebe811",
     "grade": false,
     "grade_id": "problem_8",
     "locked": true,
     "schema_version": 1,
     "solution": false
    }
   },
   "source": [
    "---\n",
    "\n",
    "# Problem 8\n",
    "\n",
    "Write code to test what happens if you change the levels of a factor (with `levels`) and give the same value to two or more levels. Provide a one-sentence description of what happens."
   ]
  },
  {
   "cell_type": "code",
   "execution_count": 62,
   "metadata": {
    "deletable": false,
    "nbgrader": {
     "checksum": "79306222431902e475d001fe152a63d8",
     "grade": true,
     "grade_id": "problem_8_code",
     "locked": false,
     "points": 1,
     "schema_version": 1,
     "solution": true
    }
   },
   "outputs": [
    {
     "ename": "ERROR",
     "evalue": "Error in `levels<-`(`*tmp*`, value = if (nl == nL) as.character(labels) else paste0(labels, : factor level [2] is duplicated\n",
     "output_type": "error",
     "traceback": [
      "Error in `levels<-`(`*tmp*`, value = if (nl == nL) as.character(labels) else paste0(labels, : factor level [2] is duplicated\nTraceback:\n",
      "1. factor(x = vc, levels = c(\"A\", \"A\", \"B\", \"C\"))"
     ]
    }
   ],
   "source": [
    "vc <- c('A','B','B','C','C','C')\n",
    "factor(x = vc, levels = c('A','A','B','C'))"
   ]
  },
  {
   "cell_type": "markdown",
   "metadata": {
    "deletable": false,
    "nbgrader": {
     "checksum": "4b595c60511324ad76b8cef7cb4f2676",
     "grade": true,
     "grade_id": "problem_8_explain",
     "locked": false,
     "points": 1,
     "schema_version": 1,
     "solution": true
    }
   },
   "source": [
    "Throws error if level argument is duplicated: \"labels, : factor level [2] is duplicated\""
   ]
  },
  {
   "cell_type": "markdown",
   "metadata": {
    "deletable": false,
    "editable": false,
    "nbgrader": {
     "checksum": "6d1fb791e8348540dfd3bd710a8099de",
     "grade": false,
     "grade_id": "problem_9",
     "locked": true,
     "schema_version": 1,
     "solution": false
    }
   },
   "source": [
    "---\n",
    "\n",
    "# Problem 9\n",
    "\n",
    "You want to multiply the matrix $A$ by the transpose of the submatrix of $B$ that contains only the first, fourth, and sixth row. What is the problem with the following code?"
   ]
  },
  {
   "cell_type": "code",
   "execution_count": 63,
   "metadata": {
    "deletable": false,
    "editable": false,
    "nbgrader": {
     "checksum": "8937b739ff0635c65fd92e276a586a6c",
     "grade": false,
     "grade_id": "problem_9_error",
     "locked": true,
     "schema_version": 1,
     "solution": false
    }
   },
   "outputs": [
    {
     "ename": "ERROR",
     "evalue": "Error in A %*% t(B[c(1, 4, 6)]): non-conformable arguments\n",
     "output_type": "error",
     "traceback": [
      "Error in A %*% t(B[c(1, 4, 6)]): non-conformable arguments\nTraceback:\n"
     ]
    }
   ],
   "source": [
    "# The following code produces an error\n",
    "A <- matrix(rnorm(4),2,2)\n",
    "B <- matrix(rnorm(16),8,2)\n",
    "A%*%t(B[c(1,4,6)])"
   ]
  },
  {
   "cell_type": "markdown",
   "metadata": {
    "deletable": false,
    "nbgrader": {
     "checksum": "2ec739e9f3b3a245318cfc30c73106ed",
     "grade": true,
     "grade_id": "problem_9_explain",
     "locked": false,
     "points": 1,
     "schema_version": 1,
     "solution": true
    }
   },
   "source": [
    "The problem is A and t(B[c(1,4,6)]) are non-conformable, meaning matrix A has a number of columns (2) that is unequal to the number of rows (1) in t(B[c(1,4,6)])"
   ]
  },
  {
   "cell_type": "markdown",
   "metadata": {
    "deletable": false,
    "editable": false,
    "nbgrader": {
     "checksum": "303e689c2378fe3c2a7235aaa6b86109",
     "grade": false,
     "grade_id": "problem_9_part_2",
     "locked": true,
     "schema_version": 1,
     "solution": false
    }
   },
   "source": [
    "Rewrite the code so that it fixes the error."
   ]
  },
  {
   "cell_type": "code",
   "execution_count": 162,
   "metadata": {
    "deletable": false,
    "nbgrader": {
     "checksum": "2a7ea0655fff318fd51bfdf95cf6fa4d",
     "grade": true,
     "grade_id": "problem_9_code",
     "locked": false,
     "points": 1,
     "schema_version": 1,
     "solution": true
    }
   },
   "outputs": [
    {
     "data": {
      "text/html": [
       "<table>\n",
       "<tbody>\n",
       "\t<tr><td> 0.05737460</td><td>0.06209615 </td></tr>\n",
       "\t<tr><td> 0.09674189</td><td>0.13553929 </td></tr>\n",
       "\t<tr><td>-0.91307782</td><td>1.23733540 </td></tr>\n",
       "</tbody>\n",
       "</table>\n"
      ],
      "text/latex": [
       "\\begin{tabular}{ll}\n",
       "\t  0.05737460 & 0.06209615 \\\\\n",
       "\t  0.09674189 & 0.13553929 \\\\\n",
       "\t -0.91307782 & 1.23733540 \\\\\n",
       "\\end{tabular}\n"
      ],
      "text/markdown": [
       "\n",
       "|  0.05737460 | 0.06209615  | \n",
       "|  0.09674189 | 0.13553929  | \n",
       "| -0.91307782 | 1.23733540  | \n",
       "\n",
       "\n"
      ],
      "text/plain": [
       "     [,1]        [,2]      \n",
       "[1,]  0.05737460 0.06209615\n",
       "[2,]  0.09674189 0.13553929\n",
       "[3,] -0.91307782 1.23733540"
      ]
     },
     "metadata": {},
     "output_type": "display_data"
    }
   ],
   "source": [
    "# Rewrite the code above so that no error is produced.\n",
    "\n",
    "A <- matrix(rnorm(6),3,2)  # since matrix values are random anyway, just add a column\n",
    "B <- matrix(rnorm(24),8,3) # since matrix values are random anyway, just add a row\n",
    "Bt <- c(t(B[c(1,4,6)]))\n",
    "A*Bt\n"
   ]
  },
  {
   "cell_type": "markdown",
   "metadata": {
    "deletable": false,
    "editable": false,
    "nbgrader": {
     "checksum": "7bddfdca6dcc8ed2d7de84541947b699",
     "grade": false,
     "grade_id": "problem_10",
     "locked": true,
     "schema_version": 1,
     "solution": false
    }
   },
   "source": [
    "---\n",
    "\n",
    "# Problem 10\n",
    "\n",
    "In the following code, why does the last line produce an error? "
   ]
  },
  {
   "cell_type": "code",
   "execution_count": 165,
   "metadata": {
    "deletable": false,
    "editable": false,
    "nbgrader": {
     "checksum": "fc91a3052a669eed030251e5942d0f27",
     "grade": false,
     "grade_id": "problem_10_error",
     "locked": true,
     "schema_version": 1,
     "solution": false
    }
   },
   "outputs": [
    {
     "data": {
      "text/html": [
       "<table>\n",
       "<tbody>\n",
       "\t<tr><td>0.1126708 </td><td> 0.9700236</td><td>-0.6559913</td><td> 1.0080449</td><td>-4.005780 </td></tr>\n",
       "\t<tr><td>0.4538142 </td><td>-0.5625937</td><td> 0.4801473</td><td>-0.6516928</td><td> 3.420068 </td></tr>\n",
       "</tbody>\n",
       "</table>\n"
      ],
      "text/latex": [
       "\\begin{tabular}{lllll}\n",
       "\t 0.1126708  &  0.9700236 & -0.6559913 &  1.0080449 & -4.005780 \\\\\n",
       "\t 0.4538142  & -0.5625937 &  0.4801473 & -0.6516928 &  3.420068 \\\\\n",
       "\\end{tabular}\n"
      ],
      "text/markdown": [
       "\n",
       "| 0.1126708  |  0.9700236 | -0.6559913 |  1.0080449 | -4.005780  | \n",
       "| 0.4538142  | -0.5625937 |  0.4801473 | -0.6516928 |  3.420068  | \n",
       "\n",
       "\n"
      ],
      "text/plain": [
       "     [,1]      [,2]       [,3]       [,4]       [,5]     \n",
       "[1,] 0.1126708  0.9700236 -0.6559913  1.0080449 -4.005780\n",
       "[2,] 0.4538142 -0.5625937  0.4801473 -0.6516928  3.420068"
      ]
     },
     "metadata": {},
     "output_type": "display_data"
    },
    {
     "data": {
      "text/html": [
       "<table>\n",
       "<tbody>\n",
       "\t<tr><td>-1.0045398  </td><td>-0.474142075</td></tr>\n",
       "\t<tr><td> 0.6688612  </td><td>-0.006465168</td></tr>\n",
       "</tbody>\n",
       "</table>\n"
      ],
      "text/latex": [
       "\\begin{tabular}{ll}\n",
       "\t -1.0045398   & -0.474142075\\\\\n",
       "\t  0.6688612   & -0.006465168\\\\\n",
       "\\end{tabular}\n"
      ],
      "text/markdown": [
       "\n",
       "| -1.0045398   | -0.474142075 | \n",
       "|  0.6688612   | -0.006465168 | \n",
       "\n",
       "\n"
      ],
      "text/plain": [
       "     [,1]       [,2]        \n",
       "[1,] -1.0045398 -0.474142075\n",
       "[2,]  0.6688612 -0.006465168"
      ]
     },
     "metadata": {},
     "output_type": "display_data"
    },
    {
     "ename": "ERROR",
     "evalue": "Error in A %*% t(B[ind == 3, ]): non-conformable arguments\n",
     "output_type": "error",
     "traceback": [
      "Error in A %*% t(B[ind == 3, ]): non-conformable arguments\nTraceback:\n"
     ]
    }
   ],
   "source": [
    "A <- matrix(rnorm(4),2,2)\n",
    "B <- matrix(rnorm(16),8,2)\n",
    "ind <- c(1,1,2,1,2,3,1,1)\n",
    "A%*%t(B[ind==1,])\n",
    "A%*%t(B[ind==2,])\n",
    "A%*%t(B[ind==3,])"
   ]
  },
  {
   "cell_type": "markdown",
   "metadata": {
    "deletable": false,
    "nbgrader": {
     "checksum": "89752c5f678f7589edc42ac93c8dcd20",
     "grade": true,
     "grade_id": "problem_10_explain",
     "locked": false,
     "points": 1,
     "schema_version": 1,
     "solution": true
    }
   },
   "source": [
    "The problem is A and t(B[ind==3,]) are non-conformable, meaning matrix A has a number of columns (2) that is unequal to the number of rows (1) in t(B[ind==3,])"
   ]
  },
  {
   "cell_type": "markdown",
   "metadata": {
    "deletable": false,
    "editable": false,
    "nbgrader": {
     "checksum": "7809ca5236d8b190c04bcb1d89d2d0ac",
     "grade": false,
     "grade_id": "problem_10_part_2",
     "locked": true,
     "schema_version": 1,
     "solution": false
    }
   },
   "source": [
    "Make the same change on the last three lines that will make them all produce the correct result."
   ]
  },
  {
   "cell_type": "code",
   "execution_count": 217,
   "metadata": {
    "deletable": false,
    "nbgrader": {
     "checksum": "67e1e4fb0ded2bb635e60778967da71b",
     "grade": true,
     "grade_id": "problem_10_code",
     "locked": false,
     "points": 1,
     "schema_version": 1,
     "solution": true
    }
   },
   "outputs": [
    {
     "data": {
      "text/html": [
       "<table>\n",
       "<tbody>\n",
       "\t<tr><td>-1.388643 </td><td> 0.8222344</td><td>0.03293609</td><td> 3.203246 </td><td>0.1927843 </td></tr>\n",
       "\t<tr><td>-1.574652 </td><td>-0.1192440</td><td>0.05305511</td><td>-1.472328 </td><td>0.4969778 </td></tr>\n",
       "</tbody>\n",
       "</table>\n"
      ],
      "text/latex": [
       "\\begin{tabular}{lllll}\n",
       "\t -1.388643  &  0.8222344 & 0.03293609 &  3.203246  & 0.1927843 \\\\\n",
       "\t -1.574652  & -0.1192440 & 0.05305511 & -1.472328  & 0.4969778 \\\\\n",
       "\\end{tabular}\n"
      ],
      "text/markdown": [
       "\n",
       "| -1.388643  |  0.8222344 | 0.03293609 |  3.203246  | 0.1927843  | \n",
       "| -1.574652  | -0.1192440 | 0.05305511 | -1.472328  | 0.4969778  | \n",
       "\n",
       "\n"
      ],
      "text/plain": [
       "     [,1]      [,2]       [,3]       [,4]      [,5]     \n",
       "[1,] -1.388643  0.8222344 0.03293609  3.203246 0.1927843\n",
       "[2,] -1.574652 -0.1192440 0.05305511 -1.472328 0.4969778"
      ]
     },
     "metadata": {},
     "output_type": "display_data"
    },
    {
     "data": {
      "text/html": [
       "<table>\n",
       "<tbody>\n",
       "\t<tr><td>-2.3300111</td><td>2.46554121</td></tr>\n",
       "\t<tr><td> 0.7124702</td><td>0.07416891</td></tr>\n",
       "</tbody>\n",
       "</table>\n"
      ],
      "text/latex": [
       "\\begin{tabular}{ll}\n",
       "\t -2.3300111 & 2.46554121\\\\\n",
       "\t  0.7124702 & 0.07416891\\\\\n",
       "\\end{tabular}\n"
      ],
      "text/markdown": [
       "\n",
       "| -2.3300111 | 2.46554121 | \n",
       "|  0.7124702 | 0.07416891 | \n",
       "\n",
       "\n"
      ],
      "text/plain": [
       "     [,1]       [,2]      \n",
       "[1,] -2.3300111 2.46554121\n",
       "[2,]  0.7124702 0.07416891"
      ]
     },
     "metadata": {},
     "output_type": "display_data"
    },
    {
     "data": {
      "text/html": [
       "<table>\n",
       "<tbody>\n",
       "\t<tr><td>1.1363456</td></tr>\n",
       "\t<tr><td>0.5923262</td></tr>\n",
       "</tbody>\n",
       "</table>\n"
      ],
      "text/latex": [
       "\\begin{tabular}{l}\n",
       "\t 1.1363456\\\\\n",
       "\t 0.5923262\\\\\n",
       "\\end{tabular}\n"
      ],
      "text/markdown": [
       "\n",
       "| 1.1363456 | \n",
       "| 0.5923262 | \n",
       "\n",
       "\n"
      ],
      "text/plain": [
       "     [,1]     \n",
       "[1,] 1.1363456\n",
       "[2,] 0.5923262"
      ]
     },
     "metadata": {},
     "output_type": "display_data"
    }
   ],
   "source": [
    "A <- matrix(rnorm(4),2,2)\n",
    "B <- matrix(rnorm(16),8,2)\n",
    "ind <- c(1,1,2,1,2,3,1,1)\n",
    "A%*%t(B[ind==1,])\n",
    "A%*%t(B[ind==2,])\n",
    "A%*%c(t(B[ind==3,]))"
   ]
  },
  {
   "cell_type": "markdown",
   "metadata": {
    "deletable": false,
    "editable": false,
    "nbgrader": {
     "checksum": "bc4ed700ba8206c9ce6d975073389723",
     "grade": false,
     "grade_id": "problem_11",
     "locked": true,
     "schema_version": 1,
     "solution": false
    }
   },
   "source": [
    "---\n",
    "\n",
    "# Problem 11\n",
    "\n",
    "Construct a matrix $A$ of size $10 \\times 7$ filled with values sampled independently from a standard normal distribution. Use vector recycling to write code that will create a matrix $B$ by dividing the elements of each row of $A$ by the 75% quantile of that row."
   ]
  },
  {
   "cell_type": "code",
   "execution_count": 182,
   "metadata": {
    "collapsed": true,
    "deletable": false,
    "nbgrader": {
     "checksum": "4b5a032135f97b21829b434b6984c733",
     "grade": false,
     "grade_id": "problem_11_code",
     "locked": false,
     "schema_version": 1,
     "solution": true
    }
   },
   "outputs": [],
   "source": [
    "# Construct A\n",
    "A <- matrix(rnorm(10 * 7), 10, 7)\n",
    "q <- apply(A, 1, quantile, probs = c(0.75),  na.rm = TRUE)\n",
    "B <- A/q"
   ]
  },
  {
   "cell_type": "code",
   "execution_count": 183,
   "metadata": {
    "collapsed": true,
    "deletable": false,
    "editable": false,
    "nbgrader": {
     "checksum": "153bb7961d9fd66e7971c10f10c943b6",
     "grade": true,
     "grade_id": "problem_11_test",
     "locked": true,
     "points": 1,
     "schema_version": 1,
     "solution": false
    }
   },
   "outputs": [],
   "source": [
    "stopifnot(all.equal(B[1,] * quantile(A[1,],probs=.75), A[1,]))"
   ]
  },
  {
   "cell_type": "markdown",
   "metadata": {
    "deletable": false,
    "editable": false,
    "nbgrader": {
     "checksum": "35ec2da7b73c217f088e197d0e148763",
     "grade": false,
     "grade_id": "problem_12",
     "locked": true,
     "schema_version": 1,
     "solution": false
    }
   },
   "source": [
    "---\n",
    "\n",
    "# Problem 12\n",
    "\n",
    "Explain why the fifth expression gives a different result from the first four. What does that tell you in terms of using <- vs. = as the assignment operator?"
   ]
  },
  {
   "cell_type": "code",
   "execution_count": null,
   "metadata": {
    "collapsed": true,
    "deletable": false,
    "editable": false,
    "nbgrader": {
     "checksum": "15862dedf871819fc3c16b2199017ed7",
     "grade": false,
     "grade_id": "problem_12_code",
     "locked": true,
     "schema_version": 1,
     "solution": false
    }
   },
   "outputs": [],
   "source": [
    "x <- 3\n",
    "x<-3\n",
    "x<- 3\n",
    "x <-3\n",
    "x< -3"
   ]
  },
  {
   "cell_type": "markdown",
   "metadata": {
    "deletable": false,
    "nbgrader": {
     "checksum": "3b5727eed44b2c8186e67059283324c4",
     "grade": true,
     "grade_id": "problem_12_explain",
     "locked": false,
     "points": 1,
     "schema_version": 1,
     "solution": true
    }
   },
   "source": [
    "The first four expressions use the '<-' assignment operator.  The fifth expression has a space in the middle, as in '< -', which  turns these into two operators less than '<' and negative '-'."
   ]
  },
  {
   "cell_type": "markdown",
   "metadata": {
    "deletable": false,
    "editable": false,
    "nbgrader": {
     "checksum": "2f574bbfe5592ad0375e36e15771aa21",
     "grade": false,
     "grade_id": "problem_13",
     "locked": true,
     "schema_version": 1,
     "solution": false
    }
   },
   "source": [
    "---\n",
    "\n",
    "# Problem 13\n",
    "\n",
    "The matrix object `state.x77` is built into the base R and contains information about the US states.\n",
    "\n",
    "- Extract the names of the states from the matrix and shorten them to the first five characters.\n",
    "- Rank the states according to their illiteracy rate.\n",
    "- Use the function `paste` to create a vector with one element per state, where each element reads \"STATE NAME has population of STATE POP, and a murder rate of MURDER\", where the values of STATE NAME, STATE POP, and MURDER are taken from `state.x77`.\n",
    "- Again, use the function `paste` to create a single string that reads \"STATE1 has an income level of INCOME1, while STATE2 has an income of INCOME2\", where STATE1 and STATE2 are two states that you randomly select each time you run your code, and INCOME1 and INCOME2 are the corresponding incomes."
   ]
  },
  {
   "cell_type": "code",
   "execution_count": 122,
   "metadata": {
    "deletable": false,
    "nbgrader": {
     "checksum": "799d6a1449e3dc404a5e4182051d80d6",
     "grade": true,
     "grade_id": "problem_13_code_a",
     "locked": false,
     "points": 1,
     "schema_version": 1,
     "solution": true
    }
   },
   "outputs": [
    {
     "data": {
      "text/html": [
       "<ol class=list-inline>\n",
       "\t<li>'Alaba'</li>\n",
       "\t<li>'Alask'</li>\n",
       "\t<li>'Arizo'</li>\n",
       "\t<li>'Arkan'</li>\n",
       "\t<li>'Calif'</li>\n",
       "\t<li>'Color'</li>\n",
       "\t<li>'Conne'</li>\n",
       "\t<li>'Delaw'</li>\n",
       "\t<li>'Flori'</li>\n",
       "\t<li>'Georg'</li>\n",
       "\t<li>'Hawai'</li>\n",
       "\t<li>'Idaho'</li>\n",
       "\t<li>'Illin'</li>\n",
       "\t<li>'India'</li>\n",
       "\t<li>'Iowa'</li>\n",
       "\t<li>'Kansa'</li>\n",
       "\t<li>'Kentu'</li>\n",
       "\t<li>'Louis'</li>\n",
       "\t<li>'Maine'</li>\n",
       "\t<li>'Maryl'</li>\n",
       "\t<li>'Massa'</li>\n",
       "\t<li>'Michi'</li>\n",
       "\t<li>'Minne'</li>\n",
       "\t<li>'Missi'</li>\n",
       "\t<li>'Misso'</li>\n",
       "\t<li>'Monta'</li>\n",
       "\t<li>'Nebra'</li>\n",
       "\t<li>'Nevad'</li>\n",
       "\t<li>'New H'</li>\n",
       "\t<li>'New J'</li>\n",
       "\t<li>'New M'</li>\n",
       "\t<li>'New Y'</li>\n",
       "\t<li>'North'</li>\n",
       "\t<li>'North'</li>\n",
       "\t<li>'Ohio'</li>\n",
       "\t<li>'Oklah'</li>\n",
       "\t<li>'Orego'</li>\n",
       "\t<li>'Penns'</li>\n",
       "\t<li>'Rhode'</li>\n",
       "\t<li>'South'</li>\n",
       "\t<li>'South'</li>\n",
       "\t<li>'Tenne'</li>\n",
       "\t<li>'Texas'</li>\n",
       "\t<li>'Utah'</li>\n",
       "\t<li>'Vermo'</li>\n",
       "\t<li>'Virgi'</li>\n",
       "\t<li>'Washi'</li>\n",
       "\t<li>'West '</li>\n",
       "\t<li>'Wisco'</li>\n",
       "\t<li>'Wyomi'</li>\n",
       "</ol>\n"
      ],
      "text/latex": [
       "\\begin{enumerate*}\n",
       "\\item 'Alaba'\n",
       "\\item 'Alask'\n",
       "\\item 'Arizo'\n",
       "\\item 'Arkan'\n",
       "\\item 'Calif'\n",
       "\\item 'Color'\n",
       "\\item 'Conne'\n",
       "\\item 'Delaw'\n",
       "\\item 'Flori'\n",
       "\\item 'Georg'\n",
       "\\item 'Hawai'\n",
       "\\item 'Idaho'\n",
       "\\item 'Illin'\n",
       "\\item 'India'\n",
       "\\item 'Iowa'\n",
       "\\item 'Kansa'\n",
       "\\item 'Kentu'\n",
       "\\item 'Louis'\n",
       "\\item 'Maine'\n",
       "\\item 'Maryl'\n",
       "\\item 'Massa'\n",
       "\\item 'Michi'\n",
       "\\item 'Minne'\n",
       "\\item 'Missi'\n",
       "\\item 'Misso'\n",
       "\\item 'Monta'\n",
       "\\item 'Nebra'\n",
       "\\item 'Nevad'\n",
       "\\item 'New H'\n",
       "\\item 'New J'\n",
       "\\item 'New M'\n",
       "\\item 'New Y'\n",
       "\\item 'North'\n",
       "\\item 'North'\n",
       "\\item 'Ohio'\n",
       "\\item 'Oklah'\n",
       "\\item 'Orego'\n",
       "\\item 'Penns'\n",
       "\\item 'Rhode'\n",
       "\\item 'South'\n",
       "\\item 'South'\n",
       "\\item 'Tenne'\n",
       "\\item 'Texas'\n",
       "\\item 'Utah'\n",
       "\\item 'Vermo'\n",
       "\\item 'Virgi'\n",
       "\\item 'Washi'\n",
       "\\item 'West '\n",
       "\\item 'Wisco'\n",
       "\\item 'Wyomi'\n",
       "\\end{enumerate*}\n"
      ],
      "text/markdown": [
       "1. 'Alaba'\n",
       "2. 'Alask'\n",
       "3. 'Arizo'\n",
       "4. 'Arkan'\n",
       "5. 'Calif'\n",
       "6. 'Color'\n",
       "7. 'Conne'\n",
       "8. 'Delaw'\n",
       "9. 'Flori'\n",
       "10. 'Georg'\n",
       "11. 'Hawai'\n",
       "12. 'Idaho'\n",
       "13. 'Illin'\n",
       "14. 'India'\n",
       "15. 'Iowa'\n",
       "16. 'Kansa'\n",
       "17. 'Kentu'\n",
       "18. 'Louis'\n",
       "19. 'Maine'\n",
       "20. 'Maryl'\n",
       "21. 'Massa'\n",
       "22. 'Michi'\n",
       "23. 'Minne'\n",
       "24. 'Missi'\n",
       "25. 'Misso'\n",
       "26. 'Monta'\n",
       "27. 'Nebra'\n",
       "28. 'Nevad'\n",
       "29. 'New H'\n",
       "30. 'New J'\n",
       "31. 'New M'\n",
       "32. 'New Y'\n",
       "33. 'North'\n",
       "34. 'North'\n",
       "35. 'Ohio'\n",
       "36. 'Oklah'\n",
       "37. 'Orego'\n",
       "38. 'Penns'\n",
       "39. 'Rhode'\n",
       "40. 'South'\n",
       "41. 'South'\n",
       "42. 'Tenne'\n",
       "43. 'Texas'\n",
       "44. 'Utah'\n",
       "45. 'Vermo'\n",
       "46. 'Virgi'\n",
       "47. 'Washi'\n",
       "48. 'West '\n",
       "49. 'Wisco'\n",
       "50. 'Wyomi'\n",
       "\n",
       "\n"
      ],
      "text/plain": [
       " [1] \"Alaba\" \"Alask\" \"Arizo\" \"Arkan\" \"Calif\" \"Color\" \"Conne\" \"Delaw\" \"Flori\"\n",
       "[10] \"Georg\" \"Hawai\" \"Idaho\" \"Illin\" \"India\" \"Iowa\"  \"Kansa\" \"Kentu\" \"Louis\"\n",
       "[19] \"Maine\" \"Maryl\" \"Massa\" \"Michi\" \"Minne\" \"Missi\" \"Misso\" \"Monta\" \"Nebra\"\n",
       "[28] \"Nevad\" \"New H\" \"New J\" \"New M\" \"New Y\" \"North\" \"North\" \"Ohio\"  \"Oklah\"\n",
       "[37] \"Orego\" \"Penns\" \"Rhode\" \"South\" \"South\" \"Tenne\" \"Texas\" \"Utah\"  \"Vermo\"\n",
       "[46] \"Virgi\" \"Washi\" \"West \" \"Wisco\" \"Wyomi\""
      ]
     },
     "metadata": {},
     "output_type": "display_data"
    }
   ],
   "source": [
    "# Extract the names of the states from the matrix \n",
    "# and shorten them to the first five characters.\n",
    "substr( state.name , start = 1 , stop = 5 )"
   ]
  },
  {
   "cell_type": "code",
   "execution_count": 129,
   "metadata": {
    "deletable": false,
    "nbgrader": {
     "checksum": "b7be4b9c29d0f9716e5ff7812e2952a7",
     "grade": true,
     "grade_id": "problem_13_code_b",
     "locked": false,
     "points": 1,
     "schema_version": 1,
     "solution": true
    }
   },
   "outputs": [
    {
     "data": {
      "text/html": [
       "<table>\n",
       "<thead><tr><th></th><th scope=col>Population</th><th scope=col>Income</th><th scope=col>Illiteracy</th><th scope=col>Life Exp</th><th scope=col>Murder</th><th scope=col>HS Grad</th><th scope=col>Frost</th><th scope=col>Area</th></tr></thead>\n",
       "<tbody>\n",
       "\t<tr><th scope=row>Louisiana</th><td> 3806 </td><td>3545  </td><td>2.8   </td><td>68.76 </td><td>13.2  </td><td>42.2  </td><td> 12   </td><td> 44930</td></tr>\n",
       "\t<tr><th scope=row>Mississippi</th><td> 2341 </td><td>3098  </td><td>2.4   </td><td>68.09 </td><td>12.5  </td><td>41.0  </td><td> 50   </td><td> 47296</td></tr>\n",
       "\t<tr><th scope=row>South Carolina</th><td> 2816 </td><td>3635  </td><td>2.3   </td><td>67.96 </td><td>11.6  </td><td>37.8  </td><td> 65   </td><td> 30225</td></tr>\n",
       "\t<tr><th scope=row>New Mexico</th><td> 1144 </td><td>3601  </td><td>2.2   </td><td>70.32 </td><td> 9.7  </td><td>55.2  </td><td>120   </td><td>121412</td></tr>\n",
       "\t<tr><th scope=row>Texas</th><td>12237 </td><td>4188  </td><td>2.2   </td><td>70.90 </td><td>12.2  </td><td>47.4  </td><td> 35   </td><td>262134</td></tr>\n",
       "\t<tr><th scope=row>Alabama</th><td> 3615 </td><td>3624  </td><td>2.1   </td><td>69.05 </td><td>15.1  </td><td>41.3  </td><td> 20   </td><td> 50708</td></tr>\n",
       "\t<tr><th scope=row>Georgia</th><td> 4931 </td><td>4091  </td><td>2.0   </td><td>68.54 </td><td>13.9  </td><td>40.6  </td><td> 60   </td><td> 58073</td></tr>\n",
       "\t<tr><th scope=row>Arkansas</th><td> 2110 </td><td>3378  </td><td>1.9   </td><td>70.66 </td><td>10.1  </td><td>39.9  </td><td> 65   </td><td> 51945</td></tr>\n",
       "\t<tr><th scope=row>Hawaii</th><td>  868 </td><td>4963  </td><td>1.9   </td><td>73.60 </td><td> 6.2  </td><td>61.9  </td><td>  0   </td><td>  6425</td></tr>\n",
       "\t<tr><th scope=row>Arizona</th><td> 2212 </td><td>4530  </td><td>1.8   </td><td>70.55 </td><td> 7.8  </td><td>58.1  </td><td> 15   </td><td>113417</td></tr>\n",
       "\t<tr><th scope=row>North Carolina</th><td> 5441 </td><td>3875  </td><td>1.8   </td><td>69.21 </td><td>11.1  </td><td>38.5  </td><td> 80   </td><td> 48798</td></tr>\n",
       "\t<tr><th scope=row>Tennessee</th><td> 4173 </td><td>3821  </td><td>1.7   </td><td>70.11 </td><td>11.0  </td><td>41.8  </td><td> 70   </td><td> 41328</td></tr>\n",
       "\t<tr><th scope=row>Kentucky</th><td> 3387 </td><td>3712  </td><td>1.6   </td><td>70.10 </td><td>10.6  </td><td>38.5  </td><td> 95   </td><td> 39650</td></tr>\n",
       "\t<tr><th scope=row>Alaska</th><td>  365 </td><td>6315  </td><td>1.5   </td><td>69.31 </td><td>11.3  </td><td>66.7  </td><td>152   </td><td>566432</td></tr>\n",
       "\t<tr><th scope=row>New York</th><td>18076 </td><td>4903  </td><td>1.4   </td><td>70.55 </td><td>10.9  </td><td>52.7  </td><td> 82   </td><td> 47831</td></tr>\n",
       "\t<tr><th scope=row>Virginia</th><td> 4981 </td><td>4701  </td><td>1.4   </td><td>70.08 </td><td> 9.5  </td><td>47.8  </td><td> 85   </td><td> 39780</td></tr>\n",
       "\t<tr><th scope=row>West Virginia</th><td> 1799 </td><td>3617  </td><td>1.4   </td><td>69.48 </td><td> 6.7  </td><td>41.6  </td><td>100   </td><td> 24070</td></tr>\n",
       "\t<tr><th scope=row>Florida</th><td> 8277 </td><td>4815  </td><td>1.3   </td><td>70.66 </td><td>10.7  </td><td>52.6  </td><td> 11   </td><td> 54090</td></tr>\n",
       "\t<tr><th scope=row>Rhode Island</th><td>  931 </td><td>4558  </td><td>1.3   </td><td>71.90 </td><td> 2.4  </td><td>46.4  </td><td>127   </td><td>  1049</td></tr>\n",
       "\t<tr><th scope=row>California</th><td>21198 </td><td>5114  </td><td>1.1   </td><td>71.71 </td><td>10.3  </td><td>62.6  </td><td> 20   </td><td>156361</td></tr>\n",
       "\t<tr><th scope=row>Connecticut</th><td> 3100 </td><td>5348  </td><td>1.1   </td><td>72.48 </td><td> 3.1  </td><td>56.0  </td><td>139   </td><td>  4862</td></tr>\n",
       "\t<tr><th scope=row>Massachusetts</th><td> 5814 </td><td>4755  </td><td>1.1   </td><td>71.83 </td><td> 3.3  </td><td>58.5  </td><td>103   </td><td>  7826</td></tr>\n",
       "\t<tr><th scope=row>New Jersey</th><td> 7333 </td><td>5237  </td><td>1.1   </td><td>70.93 </td><td> 5.2  </td><td>52.5  </td><td>115   </td><td>  7521</td></tr>\n",
       "\t<tr><th scope=row>Oklahoma</th><td> 2715 </td><td>3983  </td><td>1.1   </td><td>71.42 </td><td> 6.4  </td><td>51.6  </td><td> 82   </td><td> 68782</td></tr>\n",
       "\t<tr><th scope=row>Pennsylvania</th><td>11860 </td><td>4449  </td><td>1.0   </td><td>70.43 </td><td> 6.1  </td><td>50.2  </td><td>126   </td><td> 44966</td></tr>\n",
       "\t<tr><th scope=row>Delaware</th><td>  579 </td><td>4809  </td><td>0.9   </td><td>70.06 </td><td> 6.2  </td><td>54.6  </td><td>103   </td><td>  1982</td></tr>\n",
       "\t<tr><th scope=row>Illinois</th><td>11197 </td><td>5107  </td><td>0.9   </td><td>70.14 </td><td>10.3  </td><td>52.6  </td><td>127   </td><td> 55748</td></tr>\n",
       "\t<tr><th scope=row>Maryland</th><td> 4122 </td><td>5299  </td><td>0.9   </td><td>70.22 </td><td> 8.5  </td><td>52.3  </td><td>101   </td><td>  9891</td></tr>\n",
       "\t<tr><th scope=row>Michigan</th><td> 9111 </td><td>4751  </td><td>0.9   </td><td>70.63 </td><td>11.1  </td><td>52.8  </td><td>125   </td><td> 56817</td></tr>\n",
       "\t<tr><th scope=row>Missouri</th><td> 4767 </td><td>4254  </td><td>0.8   </td><td>70.69 </td><td> 9.3  </td><td>48.8  </td><td>108   </td><td> 68995</td></tr>\n",
       "\t<tr><th scope=row>North Dakota</th><td>  637 </td><td>5087  </td><td>0.8   </td><td>72.78 </td><td> 1.4  </td><td>50.3  </td><td>186   </td><td> 69273</td></tr>\n",
       "\t<tr><th scope=row>Ohio</th><td>10735 </td><td>4561  </td><td>0.8   </td><td>70.82 </td><td> 7.4  </td><td>53.2  </td><td>124   </td><td> 40975</td></tr>\n",
       "\t<tr><th scope=row>Colorado</th><td> 2541 </td><td>4884  </td><td>0.7   </td><td>72.06 </td><td> 6.8  </td><td>63.9  </td><td>166   </td><td>103766</td></tr>\n",
       "\t<tr><th scope=row>Indiana</th><td> 5313 </td><td>4458  </td><td>0.7   </td><td>70.88 </td><td> 7.1  </td><td>52.9  </td><td>122   </td><td> 36097</td></tr>\n",
       "\t<tr><th scope=row>Maine</th><td> 1058 </td><td>3694  </td><td>0.7   </td><td>70.39 </td><td> 2.7  </td><td>54.7  </td><td>161   </td><td> 30920</td></tr>\n",
       "\t<tr><th scope=row>New Hampshire</th><td>  812 </td><td>4281  </td><td>0.7   </td><td>71.23 </td><td> 3.3  </td><td>57.6  </td><td>174   </td><td>  9027</td></tr>\n",
       "\t<tr><th scope=row>Wisconsin</th><td> 4589 </td><td>4468  </td><td>0.7   </td><td>72.48 </td><td> 3.0  </td><td>54.5  </td><td>149   </td><td> 54464</td></tr>\n",
       "\t<tr><th scope=row>Idaho</th><td>  813 </td><td>4119  </td><td>0.6   </td><td>71.87 </td><td> 5.3  </td><td>59.5  </td><td>126   </td><td> 82677</td></tr>\n",
       "\t<tr><th scope=row>Kansas</th><td> 2280 </td><td>4669  </td><td>0.6   </td><td>72.58 </td><td> 4.5  </td><td>59.9  </td><td>114   </td><td> 81787</td></tr>\n",
       "\t<tr><th scope=row>Minnesota</th><td> 3921 </td><td>4675  </td><td>0.6   </td><td>72.96 </td><td> 2.3  </td><td>57.6  </td><td>160   </td><td> 79289</td></tr>\n",
       "\t<tr><th scope=row>Montana</th><td>  746 </td><td>4347  </td><td>0.6   </td><td>70.56 </td><td> 5.0  </td><td>59.2  </td><td>155   </td><td>145587</td></tr>\n",
       "\t<tr><th scope=row>Nebraska</th><td> 1544 </td><td>4508  </td><td>0.6   </td><td>72.60 </td><td> 2.9  </td><td>59.3  </td><td>139   </td><td> 76483</td></tr>\n",
       "\t<tr><th scope=row>Oregon</th><td> 2284 </td><td>4660  </td><td>0.6   </td><td>72.13 </td><td> 4.2  </td><td>60.0  </td><td> 44   </td><td> 96184</td></tr>\n",
       "\t<tr><th scope=row>Utah</th><td> 1203 </td><td>4022  </td><td>0.6   </td><td>72.90 </td><td> 4.5  </td><td>67.3  </td><td>137   </td><td> 82096</td></tr>\n",
       "\t<tr><th scope=row>Vermont</th><td>  472 </td><td>3907  </td><td>0.6   </td><td>71.64 </td><td> 5.5  </td><td>57.1  </td><td>168   </td><td>  9267</td></tr>\n",
       "\t<tr><th scope=row>Washington</th><td> 3559 </td><td>4864  </td><td>0.6   </td><td>71.72 </td><td> 4.3  </td><td>63.5  </td><td> 32   </td><td> 66570</td></tr>\n",
       "\t<tr><th scope=row>Wyoming</th><td>  376 </td><td>4566  </td><td>0.6   </td><td>70.29 </td><td> 6.9  </td><td>62.9  </td><td>173   </td><td> 97203</td></tr>\n",
       "\t<tr><th scope=row>Iowa</th><td> 2861 </td><td>4628  </td><td>0.5   </td><td>72.56 </td><td> 2.3  </td><td>59.0  </td><td>140   </td><td> 55941</td></tr>\n",
       "\t<tr><th scope=row>Nevada</th><td>  590 </td><td>5149  </td><td>0.5   </td><td>69.03 </td><td>11.5  </td><td>65.2  </td><td>188   </td><td>109889</td></tr>\n",
       "\t<tr><th scope=row>South Dakota</th><td>  681 </td><td>4167  </td><td>0.5   </td><td>72.08 </td><td> 1.7  </td><td>53.3  </td><td>172   </td><td> 75955</td></tr>\n",
       "</tbody>\n",
       "</table>\n"
      ],
      "text/latex": [
       "\\begin{tabular}{r|llllllll}\n",
       "  & Population & Income & Illiteracy & Life Exp & Murder & HS Grad & Frost & Area\\\\\n",
       "\\hline\n",
       "\tLouisiana &  3806  & 3545   & 2.8    & 68.76  & 13.2   & 42.2   &  12    &  44930\\\\\n",
       "\tMississippi &  2341  & 3098   & 2.4    & 68.09  & 12.5   & 41.0   &  50    &  47296\\\\\n",
       "\tSouth Carolina &  2816  & 3635   & 2.3    & 67.96  & 11.6   & 37.8   &  65    &  30225\\\\\n",
       "\tNew Mexico &  1144  & 3601   & 2.2    & 70.32  &  9.7   & 55.2   & 120    & 121412\\\\\n",
       "\tTexas & 12237  & 4188   & 2.2    & 70.90  & 12.2   & 47.4   &  35    & 262134\\\\\n",
       "\tAlabama &  3615  & 3624   & 2.1    & 69.05  & 15.1   & 41.3   &  20    &  50708\\\\\n",
       "\tGeorgia &  4931  & 4091   & 2.0    & 68.54  & 13.9   & 40.6   &  60    &  58073\\\\\n",
       "\tArkansas &  2110  & 3378   & 1.9    & 70.66  & 10.1   & 39.9   &  65    &  51945\\\\\n",
       "\tHawaii &   868  & 4963   & 1.9    & 73.60  &  6.2   & 61.9   &   0    &   6425\\\\\n",
       "\tArizona &  2212  & 4530   & 1.8    & 70.55  &  7.8   & 58.1   &  15    & 113417\\\\\n",
       "\tNorth Carolina &  5441  & 3875   & 1.8    & 69.21  & 11.1   & 38.5   &  80    &  48798\\\\\n",
       "\tTennessee &  4173  & 3821   & 1.7    & 70.11  & 11.0   & 41.8   &  70    &  41328\\\\\n",
       "\tKentucky &  3387  & 3712   & 1.6    & 70.10  & 10.6   & 38.5   &  95    &  39650\\\\\n",
       "\tAlaska &   365  & 6315   & 1.5    & 69.31  & 11.3   & 66.7   & 152    & 566432\\\\\n",
       "\tNew York & 18076  & 4903   & 1.4    & 70.55  & 10.9   & 52.7   &  82    &  47831\\\\\n",
       "\tVirginia &  4981  & 4701   & 1.4    & 70.08  &  9.5   & 47.8   &  85    &  39780\\\\\n",
       "\tWest Virginia &  1799  & 3617   & 1.4    & 69.48  &  6.7   & 41.6   & 100    &  24070\\\\\n",
       "\tFlorida &  8277  & 4815   & 1.3    & 70.66  & 10.7   & 52.6   &  11    &  54090\\\\\n",
       "\tRhode Island &   931  & 4558   & 1.3    & 71.90  &  2.4   & 46.4   & 127    &   1049\\\\\n",
       "\tCalifornia & 21198  & 5114   & 1.1    & 71.71  & 10.3   & 62.6   &  20    & 156361\\\\\n",
       "\tConnecticut &  3100  & 5348   & 1.1    & 72.48  &  3.1   & 56.0   & 139    &   4862\\\\\n",
       "\tMassachusetts &  5814  & 4755   & 1.1    & 71.83  &  3.3   & 58.5   & 103    &   7826\\\\\n",
       "\tNew Jersey &  7333  & 5237   & 1.1    & 70.93  &  5.2   & 52.5   & 115    &   7521\\\\\n",
       "\tOklahoma &  2715  & 3983   & 1.1    & 71.42  &  6.4   & 51.6   &  82    &  68782\\\\\n",
       "\tPennsylvania & 11860  & 4449   & 1.0    & 70.43  &  6.1   & 50.2   & 126    &  44966\\\\\n",
       "\tDelaware &   579  & 4809   & 0.9    & 70.06  &  6.2   & 54.6   & 103    &   1982\\\\\n",
       "\tIllinois & 11197  & 5107   & 0.9    & 70.14  & 10.3   & 52.6   & 127    &  55748\\\\\n",
       "\tMaryland &  4122  & 5299   & 0.9    & 70.22  &  8.5   & 52.3   & 101    &   9891\\\\\n",
       "\tMichigan &  9111  & 4751   & 0.9    & 70.63  & 11.1   & 52.8   & 125    &  56817\\\\\n",
       "\tMissouri &  4767  & 4254   & 0.8    & 70.69  &  9.3   & 48.8   & 108    &  68995\\\\\n",
       "\tNorth Dakota &   637  & 5087   & 0.8    & 72.78  &  1.4   & 50.3   & 186    &  69273\\\\\n",
       "\tOhio & 10735  & 4561   & 0.8    & 70.82  &  7.4   & 53.2   & 124    &  40975\\\\\n",
       "\tColorado &  2541  & 4884   & 0.7    & 72.06  &  6.8   & 63.9   & 166    & 103766\\\\\n",
       "\tIndiana &  5313  & 4458   & 0.7    & 70.88  &  7.1   & 52.9   & 122    &  36097\\\\\n",
       "\tMaine &  1058  & 3694   & 0.7    & 70.39  &  2.7   & 54.7   & 161    &  30920\\\\\n",
       "\tNew Hampshire &   812  & 4281   & 0.7    & 71.23  &  3.3   & 57.6   & 174    &   9027\\\\\n",
       "\tWisconsin &  4589  & 4468   & 0.7    & 72.48  &  3.0   & 54.5   & 149    &  54464\\\\\n",
       "\tIdaho &   813  & 4119   & 0.6    & 71.87  &  5.3   & 59.5   & 126    &  82677\\\\\n",
       "\tKansas &  2280  & 4669   & 0.6    & 72.58  &  4.5   & 59.9   & 114    &  81787\\\\\n",
       "\tMinnesota &  3921  & 4675   & 0.6    & 72.96  &  2.3   & 57.6   & 160    &  79289\\\\\n",
       "\tMontana &   746  & 4347   & 0.6    & 70.56  &  5.0   & 59.2   & 155    & 145587\\\\\n",
       "\tNebraska &  1544  & 4508   & 0.6    & 72.60  &  2.9   & 59.3   & 139    &  76483\\\\\n",
       "\tOregon &  2284  & 4660   & 0.6    & 72.13  &  4.2   & 60.0   &  44    &  96184\\\\\n",
       "\tUtah &  1203  & 4022   & 0.6    & 72.90  &  4.5   & 67.3   & 137    &  82096\\\\\n",
       "\tVermont &   472  & 3907   & 0.6    & 71.64  &  5.5   & 57.1   & 168    &   9267\\\\\n",
       "\tWashington &  3559  & 4864   & 0.6    & 71.72  &  4.3   & 63.5   &  32    &  66570\\\\\n",
       "\tWyoming &   376  & 4566   & 0.6    & 70.29  &  6.9   & 62.9   & 173    &  97203\\\\\n",
       "\tIowa &  2861  & 4628   & 0.5    & 72.56  &  2.3   & 59.0   & 140    &  55941\\\\\n",
       "\tNevada &   590  & 5149   & 0.5    & 69.03  & 11.5   & 65.2   & 188    & 109889\\\\\n",
       "\tSouth Dakota &   681  & 4167   & 0.5    & 72.08  &  1.7   & 53.3   & 172    &  75955\\\\\n",
       "\\end{tabular}\n"
      ],
      "text/markdown": [
       "\n",
       "| <!--/--> | Population | Income | Illiteracy | Life Exp | Murder | HS Grad | Frost | Area | \n",
       "|---|---|---|---|---|---|---|---|---|---|---|---|---|---|---|---|---|---|---|---|---|---|---|---|---|---|---|---|---|---|---|---|---|---|---|---|---|---|---|---|---|---|---|---|---|---|---|---|---|---|\n",
       "| Louisiana |  3806  | 3545   | 2.8    | 68.76  | 13.2   | 42.2   |  12    |  44930 | \n",
       "| Mississippi |  2341  | 3098   | 2.4    | 68.09  | 12.5   | 41.0   |  50    |  47296 | \n",
       "| South Carolina |  2816  | 3635   | 2.3    | 67.96  | 11.6   | 37.8   |  65    |  30225 | \n",
       "| New Mexico |  1144  | 3601   | 2.2    | 70.32  |  9.7   | 55.2   | 120    | 121412 | \n",
       "| Texas | 12237  | 4188   | 2.2    | 70.90  | 12.2   | 47.4   |  35    | 262134 | \n",
       "| Alabama |  3615  | 3624   | 2.1    | 69.05  | 15.1   | 41.3   |  20    |  50708 | \n",
       "| Georgia |  4931  | 4091   | 2.0    | 68.54  | 13.9   | 40.6   |  60    |  58073 | \n",
       "| Arkansas |  2110  | 3378   | 1.9    | 70.66  | 10.1   | 39.9   |  65    |  51945 | \n",
       "| Hawaii |   868  | 4963   | 1.9    | 73.60  |  6.2   | 61.9   |   0    |   6425 | \n",
       "| Arizona |  2212  | 4530   | 1.8    | 70.55  |  7.8   | 58.1   |  15    | 113417 | \n",
       "| North Carolina |  5441  | 3875   | 1.8    | 69.21  | 11.1   | 38.5   |  80    |  48798 | \n",
       "| Tennessee |  4173  | 3821   | 1.7    | 70.11  | 11.0   | 41.8   |  70    |  41328 | \n",
       "| Kentucky |  3387  | 3712   | 1.6    | 70.10  | 10.6   | 38.5   |  95    |  39650 | \n",
       "| Alaska |   365  | 6315   | 1.5    | 69.31  | 11.3   | 66.7   | 152    | 566432 | \n",
       "| New York | 18076  | 4903   | 1.4    | 70.55  | 10.9   | 52.7   |  82    |  47831 | \n",
       "| Virginia |  4981  | 4701   | 1.4    | 70.08  |  9.5   | 47.8   |  85    |  39780 | \n",
       "| West Virginia |  1799  | 3617   | 1.4    | 69.48  |  6.7   | 41.6   | 100    |  24070 | \n",
       "| Florida |  8277  | 4815   | 1.3    | 70.66  | 10.7   | 52.6   |  11    |  54090 | \n",
       "| Rhode Island |   931  | 4558   | 1.3    | 71.90  |  2.4   | 46.4   | 127    |   1049 | \n",
       "| California | 21198  | 5114   | 1.1    | 71.71  | 10.3   | 62.6   |  20    | 156361 | \n",
       "| Connecticut |  3100  | 5348   | 1.1    | 72.48  |  3.1   | 56.0   | 139    |   4862 | \n",
       "| Massachusetts |  5814  | 4755   | 1.1    | 71.83  |  3.3   | 58.5   | 103    |   7826 | \n",
       "| New Jersey |  7333  | 5237   | 1.1    | 70.93  |  5.2   | 52.5   | 115    |   7521 | \n",
       "| Oklahoma |  2715  | 3983   | 1.1    | 71.42  |  6.4   | 51.6   |  82    |  68782 | \n",
       "| Pennsylvania | 11860  | 4449   | 1.0    | 70.43  |  6.1   | 50.2   | 126    |  44966 | \n",
       "| Delaware |   579  | 4809   | 0.9    | 70.06  |  6.2   | 54.6   | 103    |   1982 | \n",
       "| Illinois | 11197  | 5107   | 0.9    | 70.14  | 10.3   | 52.6   | 127    |  55748 | \n",
       "| Maryland |  4122  | 5299   | 0.9    | 70.22  |  8.5   | 52.3   | 101    |   9891 | \n",
       "| Michigan |  9111  | 4751   | 0.9    | 70.63  | 11.1   | 52.8   | 125    |  56817 | \n",
       "| Missouri |  4767  | 4254   | 0.8    | 70.69  |  9.3   | 48.8   | 108    |  68995 | \n",
       "| North Dakota |   637  | 5087   | 0.8    | 72.78  |  1.4   | 50.3   | 186    |  69273 | \n",
       "| Ohio | 10735  | 4561   | 0.8    | 70.82  |  7.4   | 53.2   | 124    |  40975 | \n",
       "| Colorado |  2541  | 4884   | 0.7    | 72.06  |  6.8   | 63.9   | 166    | 103766 | \n",
       "| Indiana |  5313  | 4458   | 0.7    | 70.88  |  7.1   | 52.9   | 122    |  36097 | \n",
       "| Maine |  1058  | 3694   | 0.7    | 70.39  |  2.7   | 54.7   | 161    |  30920 | \n",
       "| New Hampshire |   812  | 4281   | 0.7    | 71.23  |  3.3   | 57.6   | 174    |   9027 | \n",
       "| Wisconsin |  4589  | 4468   | 0.7    | 72.48  |  3.0   | 54.5   | 149    |  54464 | \n",
       "| Idaho |   813  | 4119   | 0.6    | 71.87  |  5.3   | 59.5   | 126    |  82677 | \n",
       "| Kansas |  2280  | 4669   | 0.6    | 72.58  |  4.5   | 59.9   | 114    |  81787 | \n",
       "| Minnesota |  3921  | 4675   | 0.6    | 72.96  |  2.3   | 57.6   | 160    |  79289 | \n",
       "| Montana |   746  | 4347   | 0.6    | 70.56  |  5.0   | 59.2   | 155    | 145587 | \n",
       "| Nebraska |  1544  | 4508   | 0.6    | 72.60  |  2.9   | 59.3   | 139    |  76483 | \n",
       "| Oregon |  2284  | 4660   | 0.6    | 72.13  |  4.2   | 60.0   |  44    |  96184 | \n",
       "| Utah |  1203  | 4022   | 0.6    | 72.90  |  4.5   | 67.3   | 137    |  82096 | \n",
       "| Vermont |   472  | 3907   | 0.6    | 71.64  |  5.5   | 57.1   | 168    |   9267 | \n",
       "| Washington |  3559  | 4864   | 0.6    | 71.72  |  4.3   | 63.5   |  32    |  66570 | \n",
       "| Wyoming |   376  | 4566   | 0.6    | 70.29  |  6.9   | 62.9   | 173    |  97203 | \n",
       "| Iowa |  2861  | 4628   | 0.5    | 72.56  |  2.3   | 59.0   | 140    |  55941 | \n",
       "| Nevada |   590  | 5149   | 0.5    | 69.03  | 11.5   | 65.2   | 188    | 109889 | \n",
       "| South Dakota |   681  | 4167   | 0.5    | 72.08  |  1.7   | 53.3   | 172    |  75955 | \n",
       "\n",
       "\n"
      ],
      "text/plain": [
       "               Population Income Illiteracy Life Exp Murder HS Grad Frost\n",
       "Louisiana       3806      3545   2.8        68.76    13.2   42.2     12  \n",
       "Mississippi     2341      3098   2.4        68.09    12.5   41.0     50  \n",
       "South Carolina  2816      3635   2.3        67.96    11.6   37.8     65  \n",
       "New Mexico      1144      3601   2.2        70.32     9.7   55.2    120  \n",
       "Texas          12237      4188   2.2        70.90    12.2   47.4     35  \n",
       "Alabama         3615      3624   2.1        69.05    15.1   41.3     20  \n",
       "Georgia         4931      4091   2.0        68.54    13.9   40.6     60  \n",
       "Arkansas        2110      3378   1.9        70.66    10.1   39.9     65  \n",
       "Hawaii           868      4963   1.9        73.60     6.2   61.9      0  \n",
       "Arizona         2212      4530   1.8        70.55     7.8   58.1     15  \n",
       "North Carolina  5441      3875   1.8        69.21    11.1   38.5     80  \n",
       "Tennessee       4173      3821   1.7        70.11    11.0   41.8     70  \n",
       "Kentucky        3387      3712   1.6        70.10    10.6   38.5     95  \n",
       "Alaska           365      6315   1.5        69.31    11.3   66.7    152  \n",
       "New York       18076      4903   1.4        70.55    10.9   52.7     82  \n",
       "Virginia        4981      4701   1.4        70.08     9.5   47.8     85  \n",
       "West Virginia   1799      3617   1.4        69.48     6.7   41.6    100  \n",
       "Florida         8277      4815   1.3        70.66    10.7   52.6     11  \n",
       "Rhode Island     931      4558   1.3        71.90     2.4   46.4    127  \n",
       "California     21198      5114   1.1        71.71    10.3   62.6     20  \n",
       "Connecticut     3100      5348   1.1        72.48     3.1   56.0    139  \n",
       "Massachusetts   5814      4755   1.1        71.83     3.3   58.5    103  \n",
       "New Jersey      7333      5237   1.1        70.93     5.2   52.5    115  \n",
       "Oklahoma        2715      3983   1.1        71.42     6.4   51.6     82  \n",
       "Pennsylvania   11860      4449   1.0        70.43     6.1   50.2    126  \n",
       "Delaware         579      4809   0.9        70.06     6.2   54.6    103  \n",
       "Illinois       11197      5107   0.9        70.14    10.3   52.6    127  \n",
       "Maryland        4122      5299   0.9        70.22     8.5   52.3    101  \n",
       "Michigan        9111      4751   0.9        70.63    11.1   52.8    125  \n",
       "Missouri        4767      4254   0.8        70.69     9.3   48.8    108  \n",
       "North Dakota     637      5087   0.8        72.78     1.4   50.3    186  \n",
       "Ohio           10735      4561   0.8        70.82     7.4   53.2    124  \n",
       "Colorado        2541      4884   0.7        72.06     6.8   63.9    166  \n",
       "Indiana         5313      4458   0.7        70.88     7.1   52.9    122  \n",
       "Maine           1058      3694   0.7        70.39     2.7   54.7    161  \n",
       "New Hampshire    812      4281   0.7        71.23     3.3   57.6    174  \n",
       "Wisconsin       4589      4468   0.7        72.48     3.0   54.5    149  \n",
       "Idaho            813      4119   0.6        71.87     5.3   59.5    126  \n",
       "Kansas          2280      4669   0.6        72.58     4.5   59.9    114  \n",
       "Minnesota       3921      4675   0.6        72.96     2.3   57.6    160  \n",
       "Montana          746      4347   0.6        70.56     5.0   59.2    155  \n",
       "Nebraska        1544      4508   0.6        72.60     2.9   59.3    139  \n",
       "Oregon          2284      4660   0.6        72.13     4.2   60.0     44  \n",
       "Utah            1203      4022   0.6        72.90     4.5   67.3    137  \n",
       "Vermont          472      3907   0.6        71.64     5.5   57.1    168  \n",
       "Washington      3559      4864   0.6        71.72     4.3   63.5     32  \n",
       "Wyoming          376      4566   0.6        70.29     6.9   62.9    173  \n",
       "Iowa            2861      4628   0.5        72.56     2.3   59.0    140  \n",
       "Nevada           590      5149   0.5        69.03    11.5   65.2    188  \n",
       "South Dakota     681      4167   0.5        72.08     1.7   53.3    172  \n",
       "               Area  \n",
       "Louisiana       44930\n",
       "Mississippi     47296\n",
       "South Carolina  30225\n",
       "New Mexico     121412\n",
       "Texas          262134\n",
       "Alabama         50708\n",
       "Georgia         58073\n",
       "Arkansas        51945\n",
       "Hawaii           6425\n",
       "Arizona        113417\n",
       "North Carolina  48798\n",
       "Tennessee       41328\n",
       "Kentucky        39650\n",
       "Alaska         566432\n",
       "New York        47831\n",
       "Virginia        39780\n",
       "West Virginia   24070\n",
       "Florida         54090\n",
       "Rhode Island     1049\n",
       "California     156361\n",
       "Connecticut      4862\n",
       "Massachusetts    7826\n",
       "New Jersey       7521\n",
       "Oklahoma        68782\n",
       "Pennsylvania    44966\n",
       "Delaware         1982\n",
       "Illinois        55748\n",
       "Maryland         9891\n",
       "Michigan        56817\n",
       "Missouri        68995\n",
       "North Dakota    69273\n",
       "Ohio            40975\n",
       "Colorado       103766\n",
       "Indiana         36097\n",
       "Maine           30920\n",
       "New Hampshire    9027\n",
       "Wisconsin       54464\n",
       "Idaho           82677\n",
       "Kansas          81787\n",
       "Minnesota       79289\n",
       "Montana        145587\n",
       "Nebraska        76483\n",
       "Oregon          96184\n",
       "Utah            82096\n",
       "Vermont          9267\n",
       "Washington      66570\n",
       "Wyoming         97203\n",
       "Iowa            55941\n",
       "Nevada         109889\n",
       "South Dakota    75955"
      ]
     },
     "metadata": {},
     "output_type": "display_data"
    }
   ],
   "source": [
    "# Rank the states according to their illiteracy rate.\n",
    "state.x77[order(state.x77[,3],decreasing=TRUE),]"
   ]
  },
  {
   "cell_type": "code",
   "execution_count": 135,
   "metadata": {
    "collapsed": true,
    "deletable": false,
    "nbgrader": {
     "checksum": "28fd0243683426a2e6439c6b18d85872",
     "grade": true,
     "grade_id": "problem_13_code_c",
     "locked": false,
     "points": 1,
     "schema_version": 1,
     "solution": true
    }
   },
   "outputs": [
    {
     "data": {
      "text/html": [
       "<ol class=list-inline>\n",
       "\t<li>'Alabama has population of 3615 and a murder rate of 15.1'</li>\n",
       "\t<li>'Alaska has population of 365 and a murder rate of 11.3'</li>\n",
       "\t<li>'Arizona has population of 2212 and a murder rate of 7.8'</li>\n",
       "\t<li>'Arkansas has population of 2110 and a murder rate of 10.1'</li>\n",
       "\t<li>'California has population of 21198 and a murder rate of 10.3'</li>\n",
       "\t<li>'Colorado has population of 2541 and a murder rate of 6.8'</li>\n",
       "\t<li>'Connecticut has population of 3100 and a murder rate of 3.1'</li>\n",
       "\t<li>'Delaware has population of 579 and a murder rate of 6.2'</li>\n",
       "\t<li>'Florida has population of 8277 and a murder rate of 10.7'</li>\n",
       "\t<li>'Georgia has population of 4931 and a murder rate of 13.9'</li>\n",
       "\t<li>'Hawaii has population of 868 and a murder rate of 6.2'</li>\n",
       "\t<li>'Idaho has population of 813 and a murder rate of 5.3'</li>\n",
       "\t<li>'Illinois has population of 11197 and a murder rate of 10.3'</li>\n",
       "\t<li>'Indiana has population of 5313 and a murder rate of 7.1'</li>\n",
       "\t<li>'Iowa has population of 2861 and a murder rate of 2.3'</li>\n",
       "\t<li>'Kansas has population of 2280 and a murder rate of 4.5'</li>\n",
       "\t<li>'Kentucky has population of 3387 and a murder rate of 10.6'</li>\n",
       "\t<li>'Louisiana has population of 3806 and a murder rate of 13.2'</li>\n",
       "\t<li>'Maine has population of 1058 and a murder rate of 2.7'</li>\n",
       "\t<li>'Maryland has population of 4122 and a murder rate of 8.5'</li>\n",
       "\t<li>'Massachusetts has population of 5814 and a murder rate of 3.3'</li>\n",
       "\t<li>'Michigan has population of 9111 and a murder rate of 11.1'</li>\n",
       "\t<li>'Minnesota has population of 3921 and a murder rate of 2.3'</li>\n",
       "\t<li>'Mississippi has population of 2341 and a murder rate of 12.5'</li>\n",
       "\t<li>'Missouri has population of 4767 and a murder rate of 9.3'</li>\n",
       "\t<li>'Montana has population of 746 and a murder rate of 5'</li>\n",
       "\t<li>'Nebraska has population of 1544 and a murder rate of 2.9'</li>\n",
       "\t<li>'Nevada has population of 590 and a murder rate of 11.5'</li>\n",
       "\t<li>'New Hampshire has population of 812 and a murder rate of 3.3'</li>\n",
       "\t<li>'New Jersey has population of 7333 and a murder rate of 5.2'</li>\n",
       "\t<li>'New Mexico has population of 1144 and a murder rate of 9.7'</li>\n",
       "\t<li>'New York has population of 18076 and a murder rate of 10.9'</li>\n",
       "\t<li>'North Carolina has population of 5441 and a murder rate of 11.1'</li>\n",
       "\t<li>'North Dakota has population of 637 and a murder rate of 1.4'</li>\n",
       "\t<li>'Ohio has population of 10735 and a murder rate of 7.4'</li>\n",
       "\t<li>'Oklahoma has population of 2715 and a murder rate of 6.4'</li>\n",
       "\t<li>'Oregon has population of 2284 and a murder rate of 4.2'</li>\n",
       "\t<li>'Pennsylvania has population of 11860 and a murder rate of 6.1'</li>\n",
       "\t<li>'Rhode Island has population of 931 and a murder rate of 2.4'</li>\n",
       "\t<li>'South Carolina has population of 2816 and a murder rate of 11.6'</li>\n",
       "\t<li>'South Dakota has population of 681 and a murder rate of 1.7'</li>\n",
       "\t<li>'Tennessee has population of 4173 and a murder rate of 11'</li>\n",
       "\t<li>'Texas has population of 12237 and a murder rate of 12.2'</li>\n",
       "\t<li>'Utah has population of 1203 and a murder rate of 4.5'</li>\n",
       "\t<li>'Vermont has population of 472 and a murder rate of 5.5'</li>\n",
       "\t<li>'Virginia has population of 4981 and a murder rate of 9.5'</li>\n",
       "\t<li>'Washington has population of 3559 and a murder rate of 4.3'</li>\n",
       "\t<li>'West Virginia has population of 1799 and a murder rate of 6.7'</li>\n",
       "\t<li>'Wisconsin has population of 4589 and a murder rate of 3'</li>\n",
       "\t<li>'Wyoming has population of 376 and a murder rate of 6.9'</li>\n",
       "</ol>\n"
      ],
      "text/latex": [
       "\\begin{enumerate*}\n",
       "\\item 'Alabama has population of 3615 and a murder rate of 15.1'\n",
       "\\item 'Alaska has population of 365 and a murder rate of 11.3'\n",
       "\\item 'Arizona has population of 2212 and a murder rate of 7.8'\n",
       "\\item 'Arkansas has population of 2110 and a murder rate of 10.1'\n",
       "\\item 'California has population of 21198 and a murder rate of 10.3'\n",
       "\\item 'Colorado has population of 2541 and a murder rate of 6.8'\n",
       "\\item 'Connecticut has population of 3100 and a murder rate of 3.1'\n",
       "\\item 'Delaware has population of 579 and a murder rate of 6.2'\n",
       "\\item 'Florida has population of 8277 and a murder rate of 10.7'\n",
       "\\item 'Georgia has population of 4931 and a murder rate of 13.9'\n",
       "\\item 'Hawaii has population of 868 and a murder rate of 6.2'\n",
       "\\item 'Idaho has population of 813 and a murder rate of 5.3'\n",
       "\\item 'Illinois has population of 11197 and a murder rate of 10.3'\n",
       "\\item 'Indiana has population of 5313 and a murder rate of 7.1'\n",
       "\\item 'Iowa has population of 2861 and a murder rate of 2.3'\n",
       "\\item 'Kansas has population of 2280 and a murder rate of 4.5'\n",
       "\\item 'Kentucky has population of 3387 and a murder rate of 10.6'\n",
       "\\item 'Louisiana has population of 3806 and a murder rate of 13.2'\n",
       "\\item 'Maine has population of 1058 and a murder rate of 2.7'\n",
       "\\item 'Maryland has population of 4122 and a murder rate of 8.5'\n",
       "\\item 'Massachusetts has population of 5814 and a murder rate of 3.3'\n",
       "\\item 'Michigan has population of 9111 and a murder rate of 11.1'\n",
       "\\item 'Minnesota has population of 3921 and a murder rate of 2.3'\n",
       "\\item 'Mississippi has population of 2341 and a murder rate of 12.5'\n",
       "\\item 'Missouri has population of 4767 and a murder rate of 9.3'\n",
       "\\item 'Montana has population of 746 and a murder rate of 5'\n",
       "\\item 'Nebraska has population of 1544 and a murder rate of 2.9'\n",
       "\\item 'Nevada has population of 590 and a murder rate of 11.5'\n",
       "\\item 'New Hampshire has population of 812 and a murder rate of 3.3'\n",
       "\\item 'New Jersey has population of 7333 and a murder rate of 5.2'\n",
       "\\item 'New Mexico has population of 1144 and a murder rate of 9.7'\n",
       "\\item 'New York has population of 18076 and a murder rate of 10.9'\n",
       "\\item 'North Carolina has population of 5441 and a murder rate of 11.1'\n",
       "\\item 'North Dakota has population of 637 and a murder rate of 1.4'\n",
       "\\item 'Ohio has population of 10735 and a murder rate of 7.4'\n",
       "\\item 'Oklahoma has population of 2715 and a murder rate of 6.4'\n",
       "\\item 'Oregon has population of 2284 and a murder rate of 4.2'\n",
       "\\item 'Pennsylvania has population of 11860 and a murder rate of 6.1'\n",
       "\\item 'Rhode Island has population of 931 and a murder rate of 2.4'\n",
       "\\item 'South Carolina has population of 2816 and a murder rate of 11.6'\n",
       "\\item 'South Dakota has population of 681 and a murder rate of 1.7'\n",
       "\\item 'Tennessee has population of 4173 and a murder rate of 11'\n",
       "\\item 'Texas has population of 12237 and a murder rate of 12.2'\n",
       "\\item 'Utah has population of 1203 and a murder rate of 4.5'\n",
       "\\item 'Vermont has population of 472 and a murder rate of 5.5'\n",
       "\\item 'Virginia has population of 4981 and a murder rate of 9.5'\n",
       "\\item 'Washington has population of 3559 and a murder rate of 4.3'\n",
       "\\item 'West Virginia has population of 1799 and a murder rate of 6.7'\n",
       "\\item 'Wisconsin has population of 4589 and a murder rate of 3'\n",
       "\\item 'Wyoming has population of 376 and a murder rate of 6.9'\n",
       "\\end{enumerate*}\n"
      ],
      "text/markdown": [
       "1. 'Alabama has population of 3615 and a murder rate of 15.1'\n",
       "2. 'Alaska has population of 365 and a murder rate of 11.3'\n",
       "3. 'Arizona has population of 2212 and a murder rate of 7.8'\n",
       "4. 'Arkansas has population of 2110 and a murder rate of 10.1'\n",
       "5. 'California has population of 21198 and a murder rate of 10.3'\n",
       "6. 'Colorado has population of 2541 and a murder rate of 6.8'\n",
       "7. 'Connecticut has population of 3100 and a murder rate of 3.1'\n",
       "8. 'Delaware has population of 579 and a murder rate of 6.2'\n",
       "9. 'Florida has population of 8277 and a murder rate of 10.7'\n",
       "10. 'Georgia has population of 4931 and a murder rate of 13.9'\n",
       "11. 'Hawaii has population of 868 and a murder rate of 6.2'\n",
       "12. 'Idaho has population of 813 and a murder rate of 5.3'\n",
       "13. 'Illinois has population of 11197 and a murder rate of 10.3'\n",
       "14. 'Indiana has population of 5313 and a murder rate of 7.1'\n",
       "15. 'Iowa has population of 2861 and a murder rate of 2.3'\n",
       "16. 'Kansas has population of 2280 and a murder rate of 4.5'\n",
       "17. 'Kentucky has population of 3387 and a murder rate of 10.6'\n",
       "18. 'Louisiana has population of 3806 and a murder rate of 13.2'\n",
       "19. 'Maine has population of 1058 and a murder rate of 2.7'\n",
       "20. 'Maryland has population of 4122 and a murder rate of 8.5'\n",
       "21. 'Massachusetts has population of 5814 and a murder rate of 3.3'\n",
       "22. 'Michigan has population of 9111 and a murder rate of 11.1'\n",
       "23. 'Minnesota has population of 3921 and a murder rate of 2.3'\n",
       "24. 'Mississippi has population of 2341 and a murder rate of 12.5'\n",
       "25. 'Missouri has population of 4767 and a murder rate of 9.3'\n",
       "26. 'Montana has population of 746 and a murder rate of 5'\n",
       "27. 'Nebraska has population of 1544 and a murder rate of 2.9'\n",
       "28. 'Nevada has population of 590 and a murder rate of 11.5'\n",
       "29. 'New Hampshire has population of 812 and a murder rate of 3.3'\n",
       "30. 'New Jersey has population of 7333 and a murder rate of 5.2'\n",
       "31. 'New Mexico has population of 1144 and a murder rate of 9.7'\n",
       "32. 'New York has population of 18076 and a murder rate of 10.9'\n",
       "33. 'North Carolina has population of 5441 and a murder rate of 11.1'\n",
       "34. 'North Dakota has population of 637 and a murder rate of 1.4'\n",
       "35. 'Ohio has population of 10735 and a murder rate of 7.4'\n",
       "36. 'Oklahoma has population of 2715 and a murder rate of 6.4'\n",
       "37. 'Oregon has population of 2284 and a murder rate of 4.2'\n",
       "38. 'Pennsylvania has population of 11860 and a murder rate of 6.1'\n",
       "39. 'Rhode Island has population of 931 and a murder rate of 2.4'\n",
       "40. 'South Carolina has population of 2816 and a murder rate of 11.6'\n",
       "41. 'South Dakota has population of 681 and a murder rate of 1.7'\n",
       "42. 'Tennessee has population of 4173 and a murder rate of 11'\n",
       "43. 'Texas has population of 12237 and a murder rate of 12.2'\n",
       "44. 'Utah has population of 1203 and a murder rate of 4.5'\n",
       "45. 'Vermont has population of 472 and a murder rate of 5.5'\n",
       "46. 'Virginia has population of 4981 and a murder rate of 9.5'\n",
       "47. 'Washington has population of 3559 and a murder rate of 4.3'\n",
       "48. 'West Virginia has population of 1799 and a murder rate of 6.7'\n",
       "49. 'Wisconsin has population of 4589 and a murder rate of 3'\n",
       "50. 'Wyoming has population of 376 and a murder rate of 6.9'\n",
       "\n",
       "\n"
      ],
      "text/plain": [
       " [1] \"Alabama has population of 3615 and a murder rate of 15.1\"       \n",
       " [2] \"Alaska has population of 365 and a murder rate of 11.3\"         \n",
       " [3] \"Arizona has population of 2212 and a murder rate of 7.8\"        \n",
       " [4] \"Arkansas has population of 2110 and a murder rate of 10.1\"      \n",
       " [5] \"California has population of 21198 and a murder rate of 10.3\"   \n",
       " [6] \"Colorado has population of 2541 and a murder rate of 6.8\"       \n",
       " [7] \"Connecticut has population of 3100 and a murder rate of 3.1\"    \n",
       " [8] \"Delaware has population of 579 and a murder rate of 6.2\"        \n",
       " [9] \"Florida has population of 8277 and a murder rate of 10.7\"       \n",
       "[10] \"Georgia has population of 4931 and a murder rate of 13.9\"       \n",
       "[11] \"Hawaii has population of 868 and a murder rate of 6.2\"          \n",
       "[12] \"Idaho has population of 813 and a murder rate of 5.3\"           \n",
       "[13] \"Illinois has population of 11197 and a murder rate of 10.3\"     \n",
       "[14] \"Indiana has population of 5313 and a murder rate of 7.1\"        \n",
       "[15] \"Iowa has population of 2861 and a murder rate of 2.3\"           \n",
       "[16] \"Kansas has population of 2280 and a murder rate of 4.5\"         \n",
       "[17] \"Kentucky has population of 3387 and a murder rate of 10.6\"      \n",
       "[18] \"Louisiana has population of 3806 and a murder rate of 13.2\"     \n",
       "[19] \"Maine has population of 1058 and a murder rate of 2.7\"          \n",
       "[20] \"Maryland has population of 4122 and a murder rate of 8.5\"       \n",
       "[21] \"Massachusetts has population of 5814 and a murder rate of 3.3\"  \n",
       "[22] \"Michigan has population of 9111 and a murder rate of 11.1\"      \n",
       "[23] \"Minnesota has population of 3921 and a murder rate of 2.3\"      \n",
       "[24] \"Mississippi has population of 2341 and a murder rate of 12.5\"   \n",
       "[25] \"Missouri has population of 4767 and a murder rate of 9.3\"       \n",
       "[26] \"Montana has population of 746 and a murder rate of 5\"           \n",
       "[27] \"Nebraska has population of 1544 and a murder rate of 2.9\"       \n",
       "[28] \"Nevada has population of 590 and a murder rate of 11.5\"         \n",
       "[29] \"New Hampshire has population of 812 and a murder rate of 3.3\"   \n",
       "[30] \"New Jersey has population of 7333 and a murder rate of 5.2\"     \n",
       "[31] \"New Mexico has population of 1144 and a murder rate of 9.7\"     \n",
       "[32] \"New York has population of 18076 and a murder rate of 10.9\"     \n",
       "[33] \"North Carolina has population of 5441 and a murder rate of 11.1\"\n",
       "[34] \"North Dakota has population of 637 and a murder rate of 1.4\"    \n",
       "[35] \"Ohio has population of 10735 and a murder rate of 7.4\"          \n",
       "[36] \"Oklahoma has population of 2715 and a murder rate of 6.4\"       \n",
       "[37] \"Oregon has population of 2284 and a murder rate of 4.2\"         \n",
       "[38] \"Pennsylvania has population of 11860 and a murder rate of 6.1\"  \n",
       "[39] \"Rhode Island has population of 931 and a murder rate of 2.4\"    \n",
       "[40] \"South Carolina has population of 2816 and a murder rate of 11.6\"\n",
       "[41] \"South Dakota has population of 681 and a murder rate of 1.7\"    \n",
       "[42] \"Tennessee has population of 4173 and a murder rate of 11\"       \n",
       "[43] \"Texas has population of 12237 and a murder rate of 12.2\"        \n",
       "[44] \"Utah has population of 1203 and a murder rate of 4.5\"           \n",
       "[45] \"Vermont has population of 472 and a murder rate of 5.5\"         \n",
       "[46] \"Virginia has population of 4981 and a murder rate of 9.5\"       \n",
       "[47] \"Washington has population of 3559 and a murder rate of 4.3\"     \n",
       "[48] \"West Virginia has population of 1799 and a murder rate of 6.7\"  \n",
       "[49] \"Wisconsin has population of 4589 and a murder rate of 3\"        \n",
       "[50] \"Wyoming has population of 376 and a murder rate of 6.9\"         "
      ]
     },
     "metadata": {},
     "output_type": "display_data"
    }
   ],
   "source": [
    "# Use the function `paste` to create a vector \n",
    "# with one element per state, where each element \n",
    "# reads \"STATE NAME has population of STATE POP, \n",
    "# and a murder rate of MURDER\", where the values \n",
    "# of STATE NAME, STATE POP, and MURDER are taken \n",
    "# from `state.x77`.\n",
    "paste(state.name, \"has population of\", state.x77[,1],\"and a murder rate of\", state.x77[,5],sep = \" \")\n"
   ]
  },
  {
   "cell_type": "code",
   "execution_count": 146,
   "metadata": {
    "deletable": false,
    "nbgrader": {
     "checksum": "ca5039f860dfb9028b861a39a5c953fe",
     "grade": true,
     "grade_id": "problem_13_code_d",
     "locked": false,
     "points": 1,
     "schema_version": 1,
     "solution": true
    }
   },
   "outputs": [
    {
     "data": {
      "text/html": [
       "'Texas has an income of 4188 while Wyoming has an income of 4566'"
      ],
      "text/latex": [
       "'Texas has an income of 4188 while Wyoming has an income of 4566'"
      ],
      "text/markdown": [
       "'Texas has an income of 4188 while Wyoming has an income of 4566'"
      ],
      "text/plain": [
       "[1] \"Texas has an income of 4188 while Wyoming has an income of 4566\""
      ]
     },
     "metadata": {},
     "output_type": "display_data"
    }
   ],
   "source": [
    "# Again, use the function `paste` to create a \n",
    "# single string that reads \"STATE1 has an income \n",
    "# level of INCOME1, while STATE2 has an income \n",
    "# of INCOME2\", where STATE1 and STATE2 are two \n",
    "# states that you randomly select each time you \n",
    "# run your code, and INCOME1 and INCOME2 are the \n",
    "# corresponding incomes.\n",
    "\n",
    "i1 <- sample(1:50,1) \n",
    "i2 <- sample(1:50,1) \n",
    "\n",
    "paste(state.name[i1], 'has an income of', state.x77[i1, \"Income\"], 'while',\n",
    "      state.name[i2], 'has an income of', state.x77[i2, \"Income\"], sep= ' ')"
   ]
  }
 ],
 "metadata": {
  "anaconda-cloud": {},
  "kernelspec": {
   "display_name": "R",
   "language": "R",
   "name": "ir"
  },
  "language_info": {
   "codemirror_mode": "r",
   "file_extension": ".r",
   "mimetype": "text/x-r-source",
   "name": "R",
   "pygments_lexer": "r",
   "version": "3.4.1"
  }
 },
 "nbformat": 4,
 "nbformat_minor": 2
}
