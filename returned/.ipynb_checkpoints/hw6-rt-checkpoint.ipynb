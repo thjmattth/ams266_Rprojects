{
 "cells": [
  {
   "cell_type": "markdown",
   "metadata": {},
   "source": [
    "Before you turn this problem set in, make sure everything runs as expected. First, **restart the kernel** (in the menubar, select Kernel$\\rightarrow$Restart) and then **run all cells** (in the menubar, select Cell$\\rightarrow$Run All). Note that in code sections, you must replace `stop(\"Not Implemented\")` with your code. Otherwise, you will have points automatically deducted in the grading process.\n",
    "\n",
    "**Please do not rename this file.**\n",
    "\n",
    "Make sure you fill in any place that says `YOUR CODE HERE` or \"YOUR ANSWER/EXPLANATION HERE\". In addition, please do not include your name on this assignment to ensure anonymity for the peer reviews."
   ]
  },
  {
   "cell_type": "markdown",
   "metadata": {},
   "source": [
    "---"
   ]
  },
  {
   "cell_type": "markdown",
   "metadata": {
    "deletable": false,
    "editable": false,
    "nbgrader": {
     "checksum": "844e0c0971333937c7e5303036ef88dc",
     "grade": false,
     "grade_id": "cell-095b40b97053f150",
     "locked": true,
     "schema_version": 1,
     "solution": false
    }
   },
   "source": [
    "# Problem 1\n",
    "\n",
    "This assignment will focus on visualization techniques and plotting. In order to access the datasets used, please run the following code:"
   ]
  },
  {
   "cell_type": "code",
   "execution_count": 3,
   "metadata": {},
   "outputs": [],
   "source": [
    "# This will install the package\n",
    "# Remember: you may need to specify the repository (repo) used\n",
    "# depending on your computer's configuration.\n",
    "# Type `?install.packages` in R to learn more.\n",
    "# install.packages(\"Lock5Data\")\n",
    "# Now load the package\n",
    "library(Lock5Data)"
   ]
  },
  {
   "cell_type": "markdown",
   "metadata": {
    "deletable": false,
    "editable": false,
    "nbgrader": {
     "checksum": "a39fdfd77a3c6681626cd532c1b945b2",
     "grade": false,
     "grade_id": "cell-252cdea351ee31f6",
     "locked": true,
     "schema_version": 1,
     "solution": false
    }
   },
   "source": [
    "First, look at the `AllCountries` dataset (not `AllCountries1e`). For more information on this dataset and the variables in it, type `?AllCountries` into R after the `Lock5Data` package has been loaded. Follow the best practices from lesson 6 to make a plot that demonstrates the relationship between the percent of the country that has access to the Internet (`Internet` variable) and HIV infection rate (`HIV` variable). In particular, remember to\n",
    "\n",
    "- Choose an appropriate plot type\n",
    "- Label axes properly\n",
    "- Ensure the proper use of a scale\n",
    "- Make the plot aesthetically pleasing\n",
    "- Label points that represent extreme or unexpected combinations of values\n",
    "- Include source information\n",
    "- Most importantly, make sure the code to produce the plot works\n",
    "\n",
    "Extra credit may be given to plots that have additional useful information that is effectively communicated."
   ]
  },
  {
   "cell_type": "code",
   "execution_count": 4,
   "metadata": {
    "deletable": false,
    "nbgrader": {
     "checksum": "a07a1b7d623f1a0943d6d7b68a1426fd",
     "grade": true,
     "grade_id": "cell-9098b06bfe6002b5",
     "locked": false,
     "points": 6,
     "schema_version": 1,
     "solution": true
    }
   },
   "outputs": [
    {
     "data": {
      "image/png": "[encoded data removed]",
      "text/plain": [
       "Plot with title \"Relationship Between Access to the Internet and HIV Infection Rate\""
      ]
     },
     "metadata": {},
     "output_type": "display_data"
    }
   ],
   "source": [
    "data(\"AllCountries\")\n",
    "AC <- AllCountries\n",
    "\n",
    "AC_NONaN <- AC[!is.na(AC$HIV) & !is.na(AC$Internet),]\n",
    "#quartz()\n",
    "par(mar=c(6,4,4,2)+0.1)\n",
    "imax = which.max(AC_NONaN$Internet)\n",
    "jmax = which.max(AC_NONaN$HIV)\n",
    "imin = which.min(AC_NONaN$Internet)\n",
    "jmin = which.min(AC_NONaN$HIV)\n",
    "\n",
    "plot(AC_NONaN$Internet, AC_NONaN$HIV,xlab=\"Percent of the Country that has Access to the Internet (in millions of people)\", \n",
    "     ylab=\"HIV Infection Rate (in millions of people)\", las=1, log=\"xy\", pch=20, col=\"red\",\n",
    "     main=\"Relationship Between Access to the Internet and HIV Infection Rate\")\n",
    "\n",
    "text(AC_NONaN$Internet[imax],AC_NONaN$HIV[imax],labels=AC_NONaN$Country[imax],cex=0.6,font=2, pos=1)\n",
    "text(AC_NONaN$Internet[jmax],AC_NONaN$HIV[jmax],labels=AC_NONaN$Country[jmax], cex=0.6,font=2, pos=1)\n",
    "text(AC_NONaN$Internet[imin],AC_NONaN$HIV[imin],labels=AC_NONaN$Country[imin],cex=0.6,font=2, pos=1)\n",
    "text(AC_NONaN$Internet[jmin],AC_NONaN$HIV[jmin],labels=AC_NONaN$Country[jmin], cex=0.6,font=2, pos=2)\n",
    "\n",
    "mtext(side=1, line=5, at=10, text=\"Source: World Bank website, worldbank.org\", las=1, cex=0.7)\n",
    "\n",
    "abline(v=median(AC_NONaN$Internet), lty=2)\n",
    "abline(h=median(AC_NONaN$HIV), lty=2)\n",
    "\n",
    "# YOUR CODE HERE\n",
    "#stop(\"Not Implemented\")"
   ]
  },
  {
   "cell_type": "markdown",
   "metadata": {
    "deletable": false,
    "editable": false,
    "nbgrader": {
     "checksum": "b86036b63ede295b944f877fa9e59538",
     "grade": false,
     "grade_id": "cell-e306ce669e1b5dfe",
     "locked": true,
     "schema_version": 1,
     "solution": false
    }
   },
   "source": [
    "---\n",
    "\n",
    "\n",
    "# Problem 2\n",
    "\n",
    "Next, examine the `BikeCommute` data set. These data describe a six-month experiment by Dr. Jeremy Groves. In his experiment, two bicycles were randomly selected for the doctor's 27-mile round trip commute on a given day. The experiment was designed to test the differences in using a steel-frame versus a carbon-frame bike, with everything else on the two bicycles being held equal. Using the data in the data frame, create a **single** visualization that illustrates the change in average speed (`AvgSpeed`) over time. As in the last problem, remember to\n",
    "\n",
    "- Choose an appropriate plot type\n",
    "- Label axes properly\n",
    "- Ensure the proper use of a scale\n",
    "- Make the plot aesthetically pleasing\n",
    "- Label points that represent extreme or unexpected combinations of values\n",
    "- Include source information\n",
    "- Most importantly, make sure the code to produce the plot works\n",
    "\n",
    "In order to simplify your plotting, the `Date` variable is changed from a factor to an object of class `Date` in R. Extra credit may be given to plots that have additional useful information that is effectively communicated."
   ]
  },
  {
   "cell_type": "code",
   "execution_count": null,
   "metadata": {
    "deletable": false,
    "nbgrader": {
     "checksum": "273a4e6c32e36bfc02ec4828500fe73b",
     "grade": true,
     "grade_id": "cell-8cca00e5a2ee064a",
     "locked": false,
     "points": 6,
     "schema_version": 1,
     "solution": true
    }
   },
   "outputs": [],
   "source": [
    "library(Lock5Data)\n",
    "data(\"BikeCommute\")\n",
    "\n",
    "BikeCommute$Date <- as.Date(BikeCommute$Date,format = \"%d/%m/%y\")\n",
    "# -------------------------------------------------------------------------------------------------------\n",
    "par(mar=c(6,3,2,2)+4)\n",
    "BC_Steel <- BikeCommute[BikeCommute$Bike==\"Steel\", ]\n",
    "n = dim(BC_Steel)[1]\n",
    "subs = seq(1,n, by=1)\n",
    "plot((BC_Steel$AvgSpeed),\n",
    "     ylab=\"Average Speed During the Ride  (mile per hour)\", xlab=\"\", axes=F,las=1, cex.lab=1, pch=20, col=\"red\",\n",
    "     main=\"Changes in Average Speed Over Time\")\n",
    "legend(1,16.5,c(\"Carbon Bike\",\"Steel Bike\"), lty=c(1,1),lwd=c(2.5,2.5),col=c(\"blue\",\"red\"))\n",
    "\n",
    "abline(h=seq(0,20,by=0.3), col=\"grey\", lty=3, lwd=2)\n",
    "lines((BC_Steel$AvgSpeed), lwd=2, col=\"red\")\n",
    "axis(2, las=1, at=seq(0,20,by=0.3), labels=seq(0,20,by=0.3),cex.axis=0.8)\n",
    "axis(1,  at=subs ,labels=BC_Steel$Date[subs], las=2,cex.axis=0.8)\n",
    "\n",
    "# ----------------------------------------------------------------------------------------------------------\n",
    "BC_Carbon <- BikeCommute[BikeCommute$Bike==\"Carbon\", ]\n",
    "par(new=TRUE)\n",
    "n = dim(BC_Carbon)[1]\n",
    "subs = seq(1,n, by=1)\n",
    "plot((BC_Carbon$AvgSpeed),\n",
    "     ylab=\"\", xlab=\"\", axes=F,las=1, cex.lab=1, pch=20, col=\"blue\")\n",
    "lines((BC_Carbon$AvgSpeed), lwd=2, col = \"blue\")\n",
    "\n",
    "mtext(side=1, line=5, at=20, text=\"Source: Dr. Jeremy Groves experiments\", las=1, cex=0.7)\n",
    "\n",
    "# YOUR CODE HERE\n",
    "#stop(\"Not Implemented\")"
   ]
  },
  {
   "cell_type": "code",
   "execution_count": null,
   "metadata": {
    "collapsed": true
   },
   "outputs": [],
   "source": []
  }
 ],
 "metadata": {
  "kernelspec": {
   "display_name": "R",
   "language": "R",
   "name": "ir"
  },
  "language_info": {
   "codemirror_mode": "r",
   "file_extension": ".r",
   "mimetype": "text/x-r-source",
   "name": "R",
   "pygments_lexer": "r",
   "version": "3.4.1"
  }
 },
 "nbformat": 4,
 "nbformat_minor": 1
}
