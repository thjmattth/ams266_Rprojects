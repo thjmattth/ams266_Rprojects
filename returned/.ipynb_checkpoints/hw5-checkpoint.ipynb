{
 "cells": [
  {
   "cell_type": "markdown",
   "metadata": {},
   "source": [
    "Before you turn this problem set in, make sure everything runs as expected. First, **restart the kernel** (in the menubar, select Kernel$\\rightarrow$Restart) and then **run all cells** (in the menubar, select Cell$\\rightarrow$Run All). Note that in code sections, you must replace `stop(\"Not Implemented\")` with your code. Otherwise, you will have points automatically deducted in the grading process.\n",
    "\n",
    "**Please do not rename this file.**\n",
    "\n",
    "Make sure you fill in any place that says `YOUR CODE HERE` or \"YOUR ANSWER/EXPLANATION HERE\". In addition, please do not include your name on this assignment to ensure anonymity for the peer reviews."
   ]
  },
  {
   "cell_type": "markdown",
   "metadata": {},
   "source": [
    "---"
   ]
  },
  {
   "cell_type": "markdown",
   "metadata": {
    "deletable": false,
    "editable": false,
    "nbgrader": {
     "checksum": "b9b32071e44c92eb8fa4045ed8bb4eba",
     "grade": false,
     "grade_id": "cell-9d62810bc34de577",
     "locked": true,
     "schema_version": 1,
     "solution": false
    }
   },
   "source": [
    "# Problem 1\n",
    "\n",
    "The broadcast network NBC releases medal counts for the Olympic Games. For the 2016 Summer Olympics in Rio de Janeiro, Brazil, NBC released the following image:\n",
    "\n",
    "![](medal_count_NBC.png)\n",
    "\n",
    "Discuss the positive and negative aspects of the chosen visual cues, coordinate system, and scale. If  you  find  any  negative  issues \n",
    "with  this  visualization,  how  could  you  improve  it? This should require at least 3 (complete) sentences to answer."
   ]
  },
  {
   "cell_type": "raw",
   "metadata": {
    "deletable": false,
    "nbgrader": {
     "checksum": "424aa15e9f1d3189968b5749b06c37c1",
     "grade": true,
     "grade_id": "problem_1_answer",
     "locked": false,
     "points": 3,
     "schema_version": 1,
     "solution": true
    }
   },
   "source": [
    "Visual cues:\n",
    "The visual cues seems to be nice, since it represents very easily the number of gold, silver and bronze medals won by respective countries. The only thing negative about it is an index(legend) mentioning the colours, since someone unaware of the medal types might not get the representation.\n",
    "\n",
    "Coordinate system:\n",
    "The coordinate system used here is a simple one dimensional bars with length representing the number of medals. It is a very simple approach to represent and hence easy to understand, but a more effective one would have been to show the plots of medals with time since the representation is more concerned towards the total medal count.\n",
    "\n",
    "Scale:\n",
    "The scale is uniform for all variables with one unit as one medal won. Though it is easy to figure out the relative counts of total number of medals, with this scale and representation it is hard to track the type of medals won by each country. For example 759.5 silver medals for USA seems small in length compared to the length assigned to 357 silver medals for URS."
   ]
  },
  {
   "cell_type": "markdown",
   "metadata": {
    "deletable": false,
    "editable": false,
    "nbgrader": {
     "checksum": "e38195efb126e72752e24f3c25916b33",
     "grade": false,
     "grade_id": "cell-9e2fdc82d2d49f4e",
     "locked": true,
     "schema_version": 1,
     "solution": false
    }
   },
   "source": [
    "---\n",
    "\n",
    "# Problem 2\n",
    "\n",
    "Answer true or false to each of the following statements. Include a short justification of your answer (one or two complete sentences)."
   ]
  },
  {
   "cell_type": "markdown",
   "metadata": {
    "deletable": false,
    "editable": false,
    "nbgrader": {
     "checksum": "bae633bee64f69d2c68f000720a84d18",
     "grade": false,
     "grade_id": "cell-400780d3ba3f7fe5",
     "locked": true,
     "schema_version": 1,
     "solution": false
    }
   },
   "source": [
    "### Part A\n",
    "\n",
    "When  representing  quantitative  variables,  you  should  illustrate differences with a  scale  that  uses  a  single  hue  and  represents  changes  in  the values of  the variable  through  the  saturation  level. "
   ]
  },
  {
   "cell_type": "raw",
   "metadata": {
    "deletable": false,
    "nbgrader": {
     "checksum": "88b74cc05082842cc56d677aebc46edb",
     "grade": true,
     "grade_id": "problem_2_part_a",
     "locked": false,
     "points": 1,
     "schema_version": 1,
     "solution": true
    }
   },
   "source": [
    "TRUE\n",
    "Since, the variable is qualitative we don't have different types of variables and hence one hue makes complete sense. The saturation level going higher with the increase of values of the variable also justifies a good representation since our brains are accustomed with such a visual cue. lighter hue or lower saturation levels refer to lower intensity or values of variables and vice versa. Hence the gradient of saturation level could well justify the variable value changes."
   ]
  },
  {
   "cell_type": "markdown",
   "metadata": {
    "deletable": false,
    "editable": false,
    "nbgrader": {
     "checksum": "eb7ee20a195099fb05d164c35b105469",
     "grade": false,
     "grade_id": "cell-07ac75819ffb57e7",
     "locked": true,
     "schema_version": 1,
     "solution": false
    }
   },
   "source": [
    "### Part B\n",
    "\n",
    "Pie  charts  are  always  an  excellent  alternative  to  bar  plots  for representing proportions. "
   ]
  },
  {
   "cell_type": "raw",
   "metadata": {
    "deletable": false,
    "nbgrader": {
     "checksum": "a41c01a702bda9284a4a81c8ab5cfdc8",
     "grade": true,
     "grade_id": "problem_2_part_b",
     "locked": false,
     "points": 1,
     "schema_version": 1,
     "solution": true
    }
   },
   "source": [
    "FALSE\n",
    "If proportion values are very close to each other and there are multiple proportions then it is very hard to comprehend the differences within the values from a pie chart which is clearly visible through a bar plot with some scaling. \n"
   ]
  },
  {
   "cell_type": "markdown",
   "metadata": {
    "deletable": false,
    "editable": false,
    "nbgrader": {
     "checksum": "cf87d1770523360a4b9a3b4360aebd04",
     "grade": false,
     "grade_id": "cell-cfa552540c32e75f",
     "locked": true,
     "schema_version": 1,
     "solution": false
    }
   },
   "source": [
    "### Part C\n",
    "\n",
    "If comparisons are important, tables are always a better tool to use than graphs."
   ]
  },
  {
   "cell_type": "raw",
   "metadata": {
    "deletable": false,
    "nbgrader": {
     "checksum": "49bc811144eb003dc1ff273334e9b777",
     "grade": true,
     "grade_id": "problem_2_part_c",
     "locked": false,
     "points": 1,
     "schema_version": 1,
     "solution": true
    }
   },
   "source": [
    "FALSE\n",
    "Tables are usually bad when comparisions are important. There are only few exceptions to this rule."
   ]
  },
  {
   "cell_type": "markdown",
   "metadata": {
    "deletable": false,
    "editable": false,
    "nbgrader": {
     "checksum": "b0d0c33cf26e6eb159e3bdba350a44d9",
     "grade": false,
     "grade_id": "cell-580b0e4053bd2617",
     "locked": true,
     "schema_version": 1,
     "solution": false
    }
   },
   "source": [
    "---\n",
    "\n",
    "# Problem 3\n",
    "\n",
    "The following plots come from simulated data based on a real problem.\n",
    "\n",
    "A bank is looking at the closure rates of its business accounts by date and account age. The data has dates ranging from February 2005 to December 2016, and the account age in months ranges from 1 to 181. All accounts over 15 years (180 months) old are placed together in the 181-month-old category. The following three plots all use the same data. \n",
    "\n",
    "#### Plot A\n",
    "\n",
    "![A](tile_plot_greys.png) \n",
    "\n",
    "#### Plot B\n",
    "\n",
    "![B](tile_plot_blues.png) \n",
    "\n",
    "#### Plot C\n",
    "\n",
    "![C](tile_plot_spectral.png)\n",
    "\n",
    "Using what you have learned about data visualization, answer the following questions in complete sentences:\n",
    "\n",
    "1. Which plot(s) use diverging palettes, and which plot(s) use sequential palettes? \n",
    "2. Which plot is the best for accurately comparing different combinations of date and age? \n",
    "3. Which plot is the best for quickly finding the high values? \n",
    "4. Which plot would you choose to display if you wanted to find patterns in the data? \n",
    "\n",
    "Note: In order to easily reference the plots, you may call them plot A, plot B, and plot C, respectively."
   ]
  },
  {
   "cell_type": "raw",
   "metadata": {
    "deletable": false,
    "nbgrader": {
     "checksum": "2092324aad76557e99f6355b9aa7ce96",
     "grade": true,
     "grade_id": "problem_3",
     "locked": false,
     "points": 4,
     "schema_version": 1,
     "solution": true
    }
   },
   "source": [
    "1. Plots A and B have sequential palettes whereas, plot C has diverging pallete\n",
    "2. Plot A is best for accurately comparing since it is relatively easy to locate whitish and grayish zones with a sequential pallete.\n",
    "3. Plot C is the best for finding high values quickly because of differential pallete and the color red being easily locatable.\n",
    "4. I would choose either of Plot A or B for finding patterns."
   ]
  },
  {
   "cell_type": "markdown",
   "metadata": {
    "deletable": false,
    "editable": false,
    "nbgrader": {
     "checksum": "f3377b082299f79f9f6d4055dbde16f6",
     "grade": false,
     "grade_id": "cell-b165556966259595",
     "locked": true,
     "schema_version": 1,
     "solution": false
    }
   },
   "source": [
    "---\n",
    "\n",
    "# Problem 4\n",
    "\n",
    "For each of the following, evaluate  the  effectiveness  of  the  visualization.   In  particular,  discuss  the  positive  and negative  aspects  of  the  chosen visual  cues,  coordinate  systems,  scale,  and  context  material.   If  you  find  any \n",
    "negative  issues  with  a  visualization,  how  could  you  improve  it?  Please write your answers in complete sentences."
   ]
  },
  {
   "cell_type": "markdown",
   "metadata": {
    "deletable": false,
    "editable": false,
    "nbgrader": {
     "checksum": "df269645a92a66322be9397ac4765d22",
     "grade": false,
     "grade_id": "cell-92460f794c8e0fc8",
     "locked": true,
     "schema_version": 1,
     "solution": false
    }
   },
   "source": [
    "### Part A\n",
    "\n",
    "![](vis_1.jpg)"
   ]
  },
  {
   "cell_type": "raw",
   "metadata": {
    "deletable": false,
    "nbgrader": {
     "checksum": "a746292a1eef8759edd14d06fd3493fe",
     "grade": true,
     "grade_id": "problem_4_part_a",
     "locked": false,
     "points": 1,
     "schema_version": 1,
     "solution": true
    }
   },
   "source": [
    "The visual does not well go with the information provided. It is not very easy to understand the shades and what it represents and tough to figure out which hue represents which proportion or factor.A legend with the hues would solve that issue. Also I would like to use different hues or more contrasting saturation levels in order to make even clearer distinction within the parts in the visual."
   ]
  },
  {
   "cell_type": "markdown",
   "metadata": {
    "deletable": false,
    "editable": false,
    "nbgrader": {
     "checksum": "857fc0ecba668603729d011c2df957eb",
     "grade": false,
     "grade_id": "cell-1e16cafe295a8484",
     "locked": true,
     "schema_version": 1,
     "solution": false
    }
   },
   "source": [
    "### Part B\n",
    "\n",
    "(Yes, this one is not in English, but data are universal!)\n",
    "\n",
    "![](vis_2.jpg)"
   ]
  },
  {
   "cell_type": "raw",
   "metadata": {
    "deletable": false,
    "nbgrader": {
     "checksum": "232e38fb4c9d91176f20fb63e2d2dc11",
     "grade": true,
     "grade_id": "problem_4_part_b",
     "locked": false,
     "points": 1,
     "schema_version": 1,
     "solution": true
    }
   },
   "source": [
    "This is a strong and good visual, simple to understand, which probably shows growth of different radio channels, clearly advertising with the highest growth with red color makes it attractive for the target company. Also the scale seems to be accurate for the first 4 bars. It might be some marketing strategy here in the visual, but I would rather use different saturation levels for the color red for first 4 bars in order to show the gradual increment."
   ]
  },
  {
   "cell_type": "markdown",
   "metadata": {
    "deletable": false,
    "editable": false,
    "nbgrader": {
     "checksum": "da1c7d3706ebd4c095c8d98b3ab0ced2",
     "grade": false,
     "grade_id": "cell-5b0396a5f73bd1a4",
     "locked": true,
     "schema_version": 1,
     "solution": false
    }
   },
   "source": [
    "### Part C\n",
    "\n",
    "![](vis_3.jpg)"
   ]
  },
  {
   "cell_type": "raw",
   "metadata": {
    "deletable": false,
    "nbgrader": {
     "checksum": "c4cef18c43d149b6ed26a782ec18103f",
     "grade": true,
     "grade_id": "problem_4_part_c",
     "locked": false,
     "points": 1,
     "schema_version": 1,
     "solution": true
    }
   },
   "source": [
    "The representation is fairly simple but 2D bars would have made more sense with different hues. Also the scale and the co ordinates should have been more accurate. The 52 percent bar is clearly not 4 times as tall as the 13 percent bar."
   ]
  },
  {
   "cell_type": "markdown",
   "metadata": {
    "deletable": false,
    "editable": false,
    "nbgrader": {
     "checksum": "ea45e57e473b7cfe49fb10004952ba25",
     "grade": false,
     "grade_id": "cell-2d426b0a2068fb78",
     "locked": true,
     "schema_version": 1,
     "solution": false
    }
   },
   "source": [
    "### Part D\n",
    "\n",
    "![](vis_4.jpg)"
   ]
  },
  {
   "cell_type": "raw",
   "metadata": {
    "deletable": false,
    "nbgrader": {
     "checksum": "25f841f7f35f2132334749784ff21357",
     "grade": true,
     "grade_id": "problem_4_part_d",
     "locked": false,
     "points": 1,
     "schema_version": 1,
     "solution": true
    }
   },
   "source": [
    "Very effective visual with the partitioning of renewable energy and fossil fuels. Clear and easy to understand. It is just not scaled with the mentioned USD values. Moreover, it would have been better to use a different shade for the \"Traditional Fossil Fuels\" section which could be a shade closer to that of the shade used in \"Fossil Fuels\" section."
   ]
  },
  {
   "cell_type": "markdown",
   "metadata": {},
   "source": [
    "Note: These images were found at the following URLs:\n",
    "\n",
    "[http://andrewgelman.com/2011/04/26/worst_statistic/](http://andrewgelman.com/2011/04/26/worst_statistic/)\n",
    "\n",
    "[https://www.undullify.com/data-visualization-102-common-mistakes-visualizing-data/](https://www.undullify.com/data-visualization-102-common-mistakes-visualizing-data/)"
   ]
  }
 ],
 "metadata": {
  "anaconda-cloud": {},
  "kernelspec": {
   "display_name": "R",
   "language": "R",
   "name": "ir"
  },
  "language_info": {
   "codemirror_mode": "r",
   "file_extension": ".r",
   "mimetype": "text/x-r-source",
   "name": "R",
   "pygments_lexer": "r",
   "version": "3.4.1"
  }
 },
 "nbformat": 4,
 "nbformat_minor": 1
}
