{
 "cells": [
  {
   "cell_type": "markdown",
   "metadata": {},
   "source": [
    "Before you turn this problem set in, make sure everything runs as expected. First, **restart the kernel** (in the menubar, select Kernel$\\rightarrow$Restart) and then **run all cells** (in the menubar, select Cell$\\rightarrow$Run All). Note that in code sections, you must replace `stop(\"Not Implemented\")` with your code. Otherwise, you will have points automatically deducted in the grading process.\n",
    "\n",
    "**Please do not rename this file.**\n",
    "\n",
    "Make sure you fill in any place that says `YOUR CODE HERE` or \"YOUR ANSWER/EXPLANATION HERE\". In addition, please do not include your name on this assignment to ensure anonymity for the peer reviews."
   ]
  },
  {
   "cell_type": "markdown",
   "metadata": {},
   "source": [
    "---"
   ]
  },
  {
   "cell_type": "markdown",
   "metadata": {
    "deletable": false,
    "editable": false,
    "nbgrader": {
     "checksum": "55c36eaa04e120e8d09965c8c4ca190b",
     "grade": false,
     "grade_id": "cell-6fe4bae03467f236",
     "locked": true,
     "schema_version": 1,
     "solution": false
    }
   },
   "source": [
    "#### Note: Please post any questions that you have to the lesson 7 discussion board. This includes any questions about notation.\n",
    "\n",
    "# Problem 1\n",
    "\n",
    "### Weighted Averages\n",
    "\n",
    "This will require the `gapminder` data set, which was used in an earlier assignment (the `gapminder` package should, therefore, be installed on your computer). For more information about the data, load the `gapminder` package with `library(gapminder)`, and find the data set description with `?gapminder`.\n",
    "\n",
    "If one wants to examine some worldwide trend, it is often important that the data be **weighted** in order to obtain numbers that make sense. For example, if one wants to know the global human life expectancy, it makes sense that the nation-wide life expectancy in India or China should have more weight than that in, say, Luxembourg. In such a case, it is logical to weigh each country's contribution to the worldwide life expectancy by its population relative to the population of the planet at a certain time. For country $i$ at time $t$, the population weight of that country can be calculated as \n",
    "\n",
    "$$\\text{weight}_{i,t} = \\frac{\\text{pop}_{i,t}}{\\sum_{i = 1}^n \\text{pop}_{i,t}}$$\n",
    "\n",
    "If you're a little unsure about the notation here, $\\sum_{i = 1}^n \\text{pop}_{i,t}$ reads as \"the sum of all of the countries' populations at time $t$.\n",
    "\n",
    "Begin by correctly finding a weight for all of the countries using any method. As a hint, the `aggregate`, `merge`, and `transform` functions may be useful. Make a data frame called `pop_weight` that includes, at a minimum, all of the variables in the `gapminder` data frame and a variable called `pop_weight` that contains each country's population weight for all 12 different years that there are measurements. The `pop_weight` data frame should have 1704 rows."
   ]
  },
  {
   "cell_type": "code",
   "execution_count": 1,
   "metadata": {
    "deletable": false,
    "nbgrader": {
     "checksum": "d45db8a52fb1715e8ca009835af05a41",
     "grade": false,
     "grade_id": "cell-e003e120d6ef7c6b",
     "locked": false,
     "schema_version": 1,
     "solution": true
    }
   },
   "outputs": [
    {
     "name": "stderr",
     "output_type": "stream",
     "text": [
      "Warning message:\n",
      "\"package 'gapminder' was built under R version 3.4.2\""
     ]
    },
    {
     "data": {
      "text/plain": [
       "   Min. 1st Qu.  Median    Mean 3rd Qu.    Max. \n",
       "0.00002 0.00067 0.00167 0.00704 0.00418 0.24099 "
      ]
     },
     "metadata": {},
     "output_type": "display_data"
    }
   ],
   "source": [
    "library(\"gapminder\")\n",
    "data(\"gapminder\")\n",
    "# YOUR CODE HERE\n",
    "\n",
    "totalPop_byYear = aggregate(pop ~ year, data = gapminder, FUN = function(x) sum(as.numeric(x)))\n",
    "new_gapminder = merge(gapminder, totalPop_byYear, by=\"year\")\n",
    "pop_weight = transform(new_gapminder, pop_weight = as.numeric(new_gapminder$pop.x)/new_gapminder$pop.y)\n",
    "names(pop_weight)[5] = \"pop\"\n",
    "pop_weight = subset(pop_weight, select = -c(pop.y))\n",
    "pop_weight = pop_weight[, c(\"country\", \"continent\", \"year\", \"lifeExp\", \"pop\", \"gdpPercap\", \"pop_weight\")]\n",
    "    \n",
    "round(summary(round(pop_weight$pop_weight,digits = 5)),digits = 5)\n",
    "# note that the max value is the only one that differs from the test"
   ]
  },
  {
   "cell_type": "markdown",
   "metadata": {
    "deletable": false,
    "editable": false,
    "nbgrader": {
     "checksum": "d8ec38c62184dcd108a1b0c9b1c86757",
     "grade": false,
     "grade_id": "cell-a3cbe99227894140",
     "locked": true,
     "schema_version": 1,
     "solution": false
    }
   },
   "source": [
    "Check to see that the calculation was done correctly."
   ]
  },
  {
   "cell_type": "code",
   "execution_count": 2,
   "metadata": {
    "deletable": false,
    "editable": false,
    "nbgrader": {
     "checksum": "51e4307a337be51d36a6a0a84f2e5f1e",
     "grade": true,
     "grade_id": "cell-98f5fe1822db3728",
     "locked": true,
     "points": 1,
     "schema_version": 1,
     "solution": false
    },
    "scrolled": true
   },
   "outputs": [],
   "source": [
    "stopifnot(c(names(gapminder),\"pop_weight\") %in% names(pop_weight),\n",
    "         round(summary(round(pop_weight$pop_weight,digits = 5)),digits = 5) == structure(c(2e-05, 0.00067, 0.00167, 0.00704, 0.00418, 0.24099\n",
    "), .Names = c(\"Min.\", \"1st Qu.\", \"Median\", \"Mean\", \"3rd Qu.\", \n",
    "\"Max.\"), class = c(\"summaryDefault\", \"table\")))"
   ]
  },
  {
   "cell_type": "markdown",
   "metadata": {
    "deletable": false,
    "editable": false,
    "nbgrader": {
     "checksum": "c1178eb78ac9aad4e384c1c0c6c4b670",
     "grade": false,
     "grade_id": "cell-7f70b7118f6042f6",
     "locked": true,
     "schema_version": 1,
     "solution": false
    }
   },
   "source": [
    "Now find the weighted average life expectancy for each country for each of the years in the `gapminder` data set. The `aggregate` and `transform` functions may be helpful here. Create a data frame called `weighted_life` which contains two variables, `year` and `weighted_lifeExp`. The weighted average can be found as\n",
    "\n",
    "$$\\text{weighted average}_t = \\sum_{i = 1}^n \\text{weight}_{i,t} \\times \\text{lifeExp}_{i,t}$$\n",
    "\n",
    "Similarly, create another data frame called `unweighted_life` which contains the variables `year` and `unweighted_lifeExp`. Each observation in these data sets should correspond to the global average life expectancy in a given year. Both data frames should have 12 observations. Check to make sure the averages were found correctly. "
   ]
  },
  {
   "cell_type": "code",
   "execution_count": 3,
   "metadata": {
    "deletable": false,
    "nbgrader": {
     "checksum": "1792ecb79c2ff5440518b3fa9365ac6f",
     "grade": false,
     "grade_id": "cell-9e1757edd88d1efd",
     "locked": false,
     "schema_version": 1,
     "solution": true
    },
    "scrolled": true
   },
   "outputs": [
    {
     "data": {
      "text/html": [
       "<table>\n",
       "<thead><tr><th scope=col>year</th><th scope=col>weighted_lifeExp</th></tr></thead>\n",
       "<tbody>\n",
       "\t<tr><td>1952    </td><td>48.94424</td></tr>\n",
       "\t<tr><td>1957    </td><td>52.12189</td></tr>\n",
       "\t<tr><td>1962    </td><td>52.32438</td></tr>\n",
       "\t<tr><td>1967    </td><td>56.98431</td></tr>\n",
       "\t<tr><td>1972    </td><td>59.51478</td></tr>\n",
       "\t<tr><td>1977    </td><td>61.23726</td></tr>\n",
       "\t<tr><td>1982    </td><td>62.88176</td></tr>\n",
       "\t<tr><td>1987    </td><td>64.41635</td></tr>\n",
       "\t<tr><td>1992    </td><td>65.64590</td></tr>\n",
       "\t<tr><td>1997    </td><td>66.84934</td></tr>\n",
       "\t<tr><td>2002    </td><td>67.83904</td></tr>\n",
       "\t<tr><td>2007    </td><td>68.91909</td></tr>\n",
       "</tbody>\n",
       "</table>\n"
      ],
      "text/latex": [
       "\\begin{tabular}{r|ll}\n",
       " year & weighted\\_lifeExp\\\\\n",
       "\\hline\n",
       "\t 1952     & 48.94424\\\\\n",
       "\t 1957     & 52.12189\\\\\n",
       "\t 1962     & 52.32438\\\\\n",
       "\t 1967     & 56.98431\\\\\n",
       "\t 1972     & 59.51478\\\\\n",
       "\t 1977     & 61.23726\\\\\n",
       "\t 1982     & 62.88176\\\\\n",
       "\t 1987     & 64.41635\\\\\n",
       "\t 1992     & 65.64590\\\\\n",
       "\t 1997     & 66.84934\\\\\n",
       "\t 2002     & 67.83904\\\\\n",
       "\t 2007     & 68.91909\\\\\n",
       "\\end{tabular}\n"
      ],
      "text/markdown": [
       "\n",
       "year | weighted_lifeExp | \n",
       "|---|---|---|---|---|---|---|---|---|---|---|---|\n",
       "| 1952     | 48.94424 | \n",
       "| 1957     | 52.12189 | \n",
       "| 1962     | 52.32438 | \n",
       "| 1967     | 56.98431 | \n",
       "| 1972     | 59.51478 | \n",
       "| 1977     | 61.23726 | \n",
       "| 1982     | 62.88176 | \n",
       "| 1987     | 64.41635 | \n",
       "| 1992     | 65.64590 | \n",
       "| 1997     | 66.84934 | \n",
       "| 2002     | 67.83904 | \n",
       "| 2007     | 68.91909 | \n",
       "\n",
       "\n"
      ],
      "text/plain": [
       "   year weighted_lifeExp\n",
       "1  1952 48.94424        \n",
       "2  1957 52.12189        \n",
       "3  1962 52.32438        \n",
       "4  1967 56.98431        \n",
       "5  1972 59.51478        \n",
       "6  1977 61.23726        \n",
       "7  1982 62.88176        \n",
       "8  1987 64.41635        \n",
       "9  1992 65.64590        \n",
       "10 1997 66.84934        \n",
       "11 2002 67.83904        \n",
       "12 2007 68.91909        "
      ]
     },
     "metadata": {},
     "output_type": "display_data"
    },
    {
     "data": {
      "text/plain": [
       "   Min. 1st Qu.  Median    Mean 3rd Qu.    Max. \n",
       "  48.94   55.82   62.06   60.64   65.95   68.92 "
      ]
     },
     "metadata": {},
     "output_type": "display_data"
    },
    {
     "data": {
      "text/html": [
       "<table>\n",
       "<thead><tr><th scope=col>year</th><th scope=col>unweighted_lifeExp</th></tr></thead>\n",
       "<tbody>\n",
       "\t<tr><td>1952    </td><td>49.05762</td></tr>\n",
       "\t<tr><td>1957    </td><td>51.50740</td></tr>\n",
       "\t<tr><td>1962    </td><td>53.60925</td></tr>\n",
       "\t<tr><td>1967    </td><td>55.67829</td></tr>\n",
       "\t<tr><td>1972    </td><td>57.64739</td></tr>\n",
       "\t<tr><td>1977    </td><td>59.57016</td></tr>\n",
       "\t<tr><td>1982    </td><td>61.53320</td></tr>\n",
       "\t<tr><td>1987    </td><td>63.21261</td></tr>\n",
       "\t<tr><td>1992    </td><td>64.16034</td></tr>\n",
       "\t<tr><td>1997    </td><td>65.01468</td></tr>\n",
       "\t<tr><td>2002    </td><td>65.69492</td></tr>\n",
       "\t<tr><td>2007    </td><td>67.00742</td></tr>\n",
       "</tbody>\n",
       "</table>\n"
      ],
      "text/latex": [
       "\\begin{tabular}{r|ll}\n",
       " year & unweighted\\_lifeExp\\\\\n",
       "\\hline\n",
       "\t 1952     & 49.05762\\\\\n",
       "\t 1957     & 51.50740\\\\\n",
       "\t 1962     & 53.60925\\\\\n",
       "\t 1967     & 55.67829\\\\\n",
       "\t 1972     & 57.64739\\\\\n",
       "\t 1977     & 59.57016\\\\\n",
       "\t 1982     & 61.53320\\\\\n",
       "\t 1987     & 63.21261\\\\\n",
       "\t 1992     & 64.16034\\\\\n",
       "\t 1997     & 65.01468\\\\\n",
       "\t 2002     & 65.69492\\\\\n",
       "\t 2007     & 67.00742\\\\\n",
       "\\end{tabular}\n"
      ],
      "text/markdown": [
       "\n",
       "year | unweighted_lifeExp | \n",
       "|---|---|---|---|---|---|---|---|---|---|---|---|\n",
       "| 1952     | 49.05762 | \n",
       "| 1957     | 51.50740 | \n",
       "| 1962     | 53.60925 | \n",
       "| 1967     | 55.67829 | \n",
       "| 1972     | 57.64739 | \n",
       "| 1977     | 59.57016 | \n",
       "| 1982     | 61.53320 | \n",
       "| 1987     | 63.21261 | \n",
       "| 1992     | 64.16034 | \n",
       "| 1997     | 65.01468 | \n",
       "| 2002     | 65.69492 | \n",
       "| 2007     | 67.00742 | \n",
       "\n",
       "\n"
      ],
      "text/plain": [
       "   year unweighted_lifeExp\n",
       "1  1952 49.05762          \n",
       "2  1957 51.50740          \n",
       "3  1962 53.60925          \n",
       "4  1967 55.67829          \n",
       "5  1972 57.64739          \n",
       "6  1977 59.57016          \n",
       "7  1982 61.53320          \n",
       "8  1987 63.21261          \n",
       "9  1992 64.16034          \n",
       "10 1997 65.01468          \n",
       "11 2002 65.69492          \n",
       "12 2007 67.00742          "
      ]
     },
     "metadata": {},
     "output_type": "display_data"
    },
    {
     "data": {
      "text/plain": [
       "   Min. 1st Qu.  Median    Mean 3rd Qu.    Max. \n",
       "  49.06   55.16   60.55   59.47   64.37   67.01 "
      ]
     },
     "metadata": {},
     "output_type": "display_data"
    }
   ],
   "source": [
    "# YOUR CODE HERE\n",
    "\n",
    "weighted_life = subset(pop_weight, select=-c(country, continent, pop, gdpPercap))\n",
    "weighted_life = aggregate(as.numeric(lifeExp*pop_weight) ~ year, weighted_life, function(x) sum(as.numeric(x)))\n",
    "names(weighted_life)[2] = \"weighted_lifeExp\"\n",
    "weighted_life\n",
    "round(summary(round(weighted_life$weighted_lifeExp,digits=5)),digits = 5)\n",
    "    \n",
    "unweighted_life = subset(pop_weight, select=-c(country, continent, pop, gdpPercap, pop_weight))\n",
    "unweighted_life = aggregate(lifeExp ~ year, unweighted_life, function(x) mean(as.numeric(x)))\n",
    "names(unweighted_life)[2] = \"unweighted_lifeExp\"\n",
    "unweighted_life\n",
    "round(summary(round(unweighted_life$unweighted_lifeExp,digits=5)),digits = 5)\n",
    "    \n",
    "# here, both round(summary(round((())))) tests are returning a value with two digits after the decimal place?"
   ]
  },
  {
   "cell_type": "markdown",
   "metadata": {},
   "source": [
    "Now check to make sure you calculated the averages correctly."
   ]
  },
  {
   "cell_type": "code",
   "execution_count": 4,
   "metadata": {
    "collapsed": true,
    "deletable": false,
    "editable": false,
    "nbgrader": {
     "checksum": "e568eb0a553c3d715c518c9316df617d",
     "grade": true,
     "grade_id": "cell-88b8bc8d981b1274",
     "locked": true,
     "points": 2,
     "schema_version": 1,
     "solution": false
    },
    "scrolled": true
   },
   "outputs": [],
   "source": [
    "stopifnot(round(summary(round(weighted_life$weighted_lifeExp,digits=5)),digits = 5) == structure(c(48.94424, 55.81933, 62.05951, 60.63986, 65.94676, \n",
    "68.91909), .Names = c(\"Min.\", \"1st Qu.\", \"Median\", \"Mean\", \"3rd Qu.\", \n",
    "\"Max.\"), class = c(\"summaryDefault\", \"table\")),\n",
    "         round(summary(round(unweighted_life$unweighted_lifeExp,digits=5)),digits = 5) == structure(c(49.05762, 55.16103, 60.55168, 59.47444, 64.37392, \n",
    "67.00742), .Names = c(\"Min.\", \"1st Qu.\", \"Median\", \"Mean\", \"3rd Qu.\", \n",
    "\"Max.\"), class = c(\"summaryDefault\", \"table\")))"
   ]
  },
  {
   "cell_type": "markdown",
   "metadata": {
    "deletable": false,
    "editable": false,
    "nbgrader": {
     "checksum": "8c1d9d03c61481f5ad5bd539e3a52f85",
     "grade": false,
     "grade_id": "cell-729ef78a7373daec",
     "locked": true,
     "schema_version": 1,
     "solution": false
    }
   },
   "source": [
    "Next, create a plot that compares the two averages over the years. Remember to include all of the necessary information on the graph, as discussed in lesson 6. Your plot must be able to run on any computer without any extra packages added (other than the `gapminder` package for the data). "
   ]
  },
  {
   "cell_type": "code",
   "execution_count": 5,
   "metadata": {
    "deletable": false,
    "nbgrader": {
     "checksum": "84bc581a2bda066c5d0f33f3c453713e",
     "grade": true,
     "grade_id": "cell-79e5d3841f173c85",
     "locked": false,
     "points": 4,
     "schema_version": 1,
     "solution": true
    }
   },
   "outputs": [
    {
     "data": {
      "image/png": "[encoded data removed]",
      "text/plain": [
       "Plot with title \"Weighted vs. Unweighted Life Expectancy\""
      ]
     },
     "metadata": {},
     "output_type": "display_data"
    }
   ],
   "source": [
    "# YOUR CODE HERE\n",
    "x11()\n",
    "par(mar=c(7,5,3,1.5)+0.5)\n",
    "plot(weighted_life$year, weighted_life$weighted_lifeExp, xlab=\"Year\", ylab=\"Life Expectancy\", type=\"l\", xaxt=\"n\", yaxt=\"n\", ylim=c(48,69), col=\"blue\")\n",
    "lines(unweighted_life$year, unweighted_life$unweighted_lifeExp, col=\"red\")\n",
    "axis(1, at=weighted_life$year, cex.axis=0.75, las=1)\n",
    "axis(2, at=seq(48,69,by=1), cex.axis=0.75, las=1)\n",
    "mtext(\"Source: gapminder data package\", side=1, line=4, adj=1, cex=0.6)\n",
    "legend(\"top\", inset=0.01, legend=c(\"Weighted Life Exp\", \"Unweighted Life Exp\"), lwd=2, col=c(\"blue\", \"red\"), horiz=T, cex=0.5)\n",
    "title(\"Weighted vs. Unweighted Life Expectancy\")"
   ]
  },
  {
   "cell_type": "markdown",
   "metadata": {
    "deletable": false,
    "editable": false,
    "nbgrader": {
     "checksum": "a5bd3d78edcfe8e31899ede82ad6e02e",
     "grade": false,
     "grade_id": "cell-031174920a5c2077",
     "locked": true,
     "schema_version": 1,
     "solution": false
    }
   },
   "source": [
    "Note that there is an observable difference in the two averaging methods. Why does the weighting have the effect that it does? This is a rhetorical question, but it's very important to think about this type of comparison in statistical applications! "
   ]
  },
  {
   "cell_type": "markdown",
   "metadata": {
    "deletable": false,
    "editable": false,
    "nbgrader": {
     "checksum": "71fa3abc0cb7664c9356d8b93020b816",
     "grade": false,
     "grade_id": "cell-5b7d1d084c0b655d",
     "locked": true,
     "schema_version": 1,
     "solution": false
    }
   },
   "source": [
    "---\n",
    "\n",
    "# Problem 2\n",
    "\n",
    "Continuing the analysis of the `gapminder` data from problem 1, find the population-weighted average life expectancy for each continent. First, find the continent-level weights. That is, for country $i$ on continent $j$ at time $t$, find\n",
    "\n",
    "$$ \\text{weight}_{i,t} = \\frac{\\text{pop}_{i,t}}{\\sum_{i \\text{ in } j} \\text{pop}_{i,t}} $$\n",
    "\n",
    "Note that this can be done in a couple of different ways, though the easiest option without loading extra packages might be to use `aggregate`, `merge`, and `transform` again. Create a single data frame called `continent_weights` that includes all of the variables in the `gapminder` data frame, plus the variable `continent_weight`."
   ]
  },
  {
   "cell_type": "code",
   "execution_count": 6,
   "metadata": {
    "deletable": false,
    "nbgrader": {
     "checksum": "007462a1a9173743c6be1fed930066bb",
     "grade": false,
     "grade_id": "cell-dd919e671bb69fc3",
     "locked": false,
     "schema_version": 1,
     "solution": true
    }
   },
   "outputs": [
    {
     "data": {
      "text/plain": [
       "   Min. 1st Qu.  Median    Mean 3rd Qu.    Max. \n",
       "0.00009 0.00393 0.01054 0.03521 0.02521 0.83567 "
      ]
     },
     "metadata": {},
     "output_type": "display_data"
    }
   ],
   "source": [
    "# YOUR CODE HERE\n",
    "pop_Africa = aggregate(pop ~ year, gapminder[which(gapminder$continent==\"Africa\"),], function(x) sum(as.numeric(x)))\n",
    "pop_Americas = aggregate(pop ~ year, gapminder[which(gapminder$continent==\"Americas\"),], function(x) sum(as.numeric(x)))\n",
    "pop_Asia = aggregate(pop ~ year, gapminder[which(gapminder$continent==\"Asia\"),], function(x) sum(as.numeric(x)))\n",
    "pop_Europe = aggregate(pop ~ year, gapminder[which(gapminder$continent==\"Europe\"),], function(x) sum(as.numeric(x)))\n",
    "pop_Oceania = aggregate(pop ~ year, gapminder[which(gapminder$continent==\"Oceania\"),], function(x) sum(as.numeric(x)))\n",
    "\n",
    "pop_Africa$continent = \"Africa\"\n",
    "pop_Americas$continent = \"Americas\"\n",
    "pop_Asia$continent = \"Asia\"\n",
    "pop_Europe$continent = \"Europe\"\n",
    "pop_Oceania$continent = \"Oceania\"\n",
    "    \n",
    "new_gapminder = rbind(pop_Africa, pop_Americas, pop_Asia, pop_Europe, pop_Oceania)\n",
    "continent_weights = merge(gapminder, new_gapminder, by=c(\"continent\",\"year\"))\n",
    "continent_weights = transform(continent_weights, continent_weight = as.numeric(continent_weights$pop.x/continent_weights$pop.y))\n",
    "names(continent_weights)[5] = \"pop\"\n",
    "continent_weights = subset(continent_weights, select=-c(pop.y))\n",
    "round(summary(round(continent_weights$continent_weight,digits=5)),digits = 5)\n",
    "# again, max value is the only one that differs"
   ]
  },
  {
   "cell_type": "markdown",
   "metadata": {
    "deletable": false,
    "editable": false,
    "nbgrader": {
     "checksum": "de124f1cf2398d25b2a1643e7c8adb4f",
     "grade": false,
     "grade_id": "cell-07fd4b3924c47baf",
     "locked": true,
     "schema_version": 1,
     "solution": false
    }
   },
   "source": [
    "Now check to make sure that the weights were calculated correctly."
   ]
  },
  {
   "cell_type": "code",
   "execution_count": 7,
   "metadata": {
    "collapsed": true,
    "deletable": false,
    "editable": false,
    "nbgrader": {
     "checksum": "748698a6e8b81947b68251b2b13352f9",
     "grade": true,
     "grade_id": "cell-a0a3b5343d58d828",
     "locked": true,
     "points": 1,
     "schema_version": 1,
     "solution": false
    }
   },
   "outputs": [],
   "source": [
    "stopifnot(round(summary(round(continent_weights$continent_weight,digits=5)),digits = 5) == structure(c(9e-05, 0.00393, 0.01054, 0.03521, 0.02521, 0.83567\n",
    "), .Names = c(\"Min.\", \"1st Qu.\", \"Median\", \"Mean\", \"3rd Qu.\", \n",
    "\"Max.\"), class = c(\"summaryDefault\", \"table\")))"
   ]
  },
  {
   "cell_type": "markdown",
   "metadata": {
    "deletable": false,
    "editable": false,
    "nbgrader": {
     "checksum": "674ee662b2cfb7a53d2a72c3dff0988c",
     "grade": false,
     "grade_id": "cell-01664a1a8fa1651b",
     "locked": true,
     "schema_version": 1,
     "solution": false
    }
   },
   "source": [
    "Calculate the population-weighted averages for each continent. Create a data frame named `continent_weighted` with three variables: `year`, `continent`, and `avg_life` where each observation corresponds to the population-weighted average life expectancy for a year and continent. This data frame should have 60 observations."
   ]
  },
  {
   "cell_type": "code",
   "execution_count": 8,
   "metadata": {
    "deletable": false,
    "nbgrader": {
     "checksum": "63f86a449b6f5e9cc05a8443ff5d040a",
     "grade": false,
     "grade_id": "cell-4f47046b85fef3d8",
     "locked": false,
     "schema_version": 1,
     "solution": true
    }
   },
   "outputs": [
    {
     "data": {
      "text/plain": [
       "   Min. 1st Qu.  Median    Mean 3rd Qu.    Max. \n",
       "  38.80   54.39   67.87   64.34   72.72   81.06 "
      ]
     },
     "metadata": {},
     "output_type": "display_data"
    }
   ],
   "source": [
    "# YOUR CODE HERE\n",
    "continent_weighted = subset(continent_weights, select=c(1,2,4,7))\n",
    "continent_weighted = transform(continent_weighted, avg_life = as.numeric(continent_weighted$lifeExp*continent_weighted$continent_weight))\n",
    "\n",
    "avg_life_Africa = aggregate(avg_life ~ year, continent_weighted[continent_weighted$continent==\"Africa\", ], function(x) sum(as.numeric(x)))\n",
    "avg_life_Americas = aggregate(avg_life ~ year, continent_weighted[continent_weighted$continent==\"Americas\", ], function(x) sum(as.numeric(x)))\n",
    "avg_life_Asia = aggregate(avg_life ~ year, continent_weighted[continent_weighted$continent==\"Asia\", ], function(x) sum(as.numeric(x)))\n",
    "avg_life_Europe = aggregate(avg_life ~ year, continent_weighted[continent_weighted$continent==\"Europe\", ], function(x) sum(as.numeric(x)))\n",
    "avg_life_Oceania = aggregate(avg_life ~ year, continent_weighted[continent_weighted$continent==\"Oceania\", ], function(x) sum(as.numeric(x)))\n",
    "    \n",
    "avg_life_Africa$continent = \"Africa\"\n",
    "avg_life_Americas$continent = \"Americas\"\n",
    "avg_life_Asia$continent = \"Asia\"\n",
    "avg_life_Europe$continent = \"Europe\"\n",
    "avg_life_Oceania$continent = \"Oceania\"\n",
    "    \n",
    "continent_weighted = rbind(avg_life_Africa, avg_life_Americas, avg_life_Asia, avg_life_Europe, avg_life_Oceania)\n",
    "continent_weighted = continent_weighted[, c(\"year\", \"continent\", \"avg_life\")]\n",
    "round(summary(round(continent_weighted$avg_life,digits = 5)),digits = 5)\n",
    "# again, tests are returning a value with two digits after the decimal place"
   ]
  },
  {
   "cell_type": "markdown",
   "metadata": {},
   "source": [
    "Now check that the averages were calculated correctly."
   ]
  },
  {
   "cell_type": "code",
   "execution_count": 9,
   "metadata": {
    "collapsed": true,
    "deletable": false,
    "editable": false,
    "nbgrader": {
     "checksum": "8e381490638c3f6a18707eea673d259e",
     "grade": true,
     "grade_id": "cell-67bf545baecdc549",
     "locked": true,
     "points": 1,
     "schema_version": 1,
     "solution": false
    }
   },
   "outputs": [],
   "source": [
    "stopifnot(round(summary(round(continent_weighted$avg_life,digits = 5)),digits = 5) == structure(c(38.79973, 54.39396, 67.87161, 64.33739, 72.71974, \n",
    "81.06215), .Names = c(\"Min.\", \"1st Qu.\", \"Median\", \"Mean\", \"3rd Qu.\", \n",
    "\"Max.\"), class = c(\"summaryDefault\", \"table\")))"
   ]
  },
  {
   "cell_type": "markdown",
   "metadata": {
    "deletable": false,
    "editable": false,
    "nbgrader": {
     "checksum": "a1ebada57ec8d31fd9330c018602e51f",
     "grade": false,
     "grade_id": "cell-b37144bddd56a4c5",
     "locked": true,
     "schema_version": 1,
     "solution": false
    }
   },
   "source": [
    "Finally, make a visualization that shows the change in life expectancy for each continent over time. Make sure the visualization allows the viewer to compare the trends between continents. In addition, include the global weighted average that you calculated in problem 1. Again, be sure to follow the best practices when making a plot, as outlined in lesson 6."
   ]
  },
  {
   "cell_type": "code",
   "execution_count": 10,
   "metadata": {
    "deletable": false,
    "nbgrader": {
     "checksum": "e7e3617ebf06a6f2dc40e5a4158a4846",
     "grade": true,
     "grade_id": "cell-2d7c059ebc9b3001",
     "locked": false,
     "points": 4,
     "schema_version": 1,
     "solution": true
    }
   },
   "outputs": [
    {
     "data": {
      "image/png": "[encoded data removed]",
      "text/plain": [
       "Plot with title \"Weighted Average Life Expectancy by Continent\""
      ]
     },
     "metadata": {},
     "output_type": "display_data"
    }
   ],
   "source": [
    "# YOUR CODE HERE\n",
    "library(RColorBrewer)\n",
    "x11()\n",
    "colorscale=brewer.pal(5,\"Set2\")\n",
    "par(mar=c(7,5,3,1.5)+0.5)\n",
    "plot(continent_weighted$year, continent_weighted$avg_life, xlab=\"Year\", ylab=\"Life Expectancy\", type=\"n\", xaxt=\"n\", yaxt=\"n\", ylim=c(38,81))\n",
    "lines(continent_weighted$year[1:12], continent_weighted$avg_life[1:12], type=\"l\", col=colorscale[1])\n",
    "lines(continent_weighted$year[13:24], continent_weighted$avg_life[13:24], type=\"l\", col=colorscale[2])\n",
    "lines(continent_weighted$year[25:36], continent_weighted$avg_life[25:36], type=\"l\", col=colorscale[3])\n",
    "lines(continent_weighted$year[37:48], continent_weighted$avg_life[37:48], type=\"l\", col=colorscale[4])\n",
    "lines(continent_weighted$year[49:60], continent_weighted$avg_life[49:60], type=\"l\", col=colorscale[5])\n",
    "axis(1, at=continent_weighted$year, cex.axis=0.75, las=1)\n",
    "axis(2, at=seq(38,82,by=2), cex.axis=0.75, las=1)\n",
    "axis(4, at=seq(38,82,by=2), cex.axis=0.75, las=1)\n",
    "mtext(\"Source: gapminder data package\", side=1, line=4, adj=1, cex=0.6)\n",
    "title(\"Weighted Average Life Expectancy by Continent\")\n",
    "legend(\"bottomright\", legend = unique(continent_weighted$continent), col=colorscale, lwd=2, horiz=T, cex=0.5)"
   ]
  },
  {
   "cell_type": "markdown",
   "metadata": {
    "deletable": false,
    "editable": false,
    "nbgrader": {
     "checksum": "5e0d26871885b27e48e51004a7c80c4e",
     "grade": false,
     "grade_id": "cell-b66109107d713664",
     "locked": true,
     "schema_version": 1,
     "solution": false
    }
   },
   "source": [
    "---\n",
    "\n",
    "# Problem 3\n",
    "\n",
    "Using only the data from the year 2007 in the `gapminder` data frame, create a bar plot that includes the five countries from each continent with the highest life expectancies. This will end up including 22 countries, as the Oceania continent only has Australia and New Zealand. Make sure the visualization includes visual cues that allow the viewer to easily identify the continent of the country. Be sure to include all of the elements of a plot discussed in lesson 6. This will take a few steps to complete correctly. Depending on personal preference, Google may be necessary to discover little tweaks to be made. The lesson 7 discussion board is also available."
   ]
  },
  {
   "cell_type": "code",
   "execution_count": 11,
   "metadata": {
    "deletable": false,
    "nbgrader": {
     "checksum": "b214498f227ccb5409df6ef5f0509b59",
     "grade": true,
     "grade_id": "cell-bf0421a0e1b94581",
     "locked": false,
     "points": 4,
     "schema_version": 1,
     "solution": true
    }
   },
   "outputs": [
    {
     "data": {
      "image/png": "[encoded data removed]",
      "text/plain": [
       "Plot with title \"Highest Life Expectancy by Continent\""
      ]
     },
     "metadata": {},
     "output_type": "display_data"
    }
   ],
   "source": [
    "# YOUR CODE HERE\n",
    "year_2007 = gapminder[gapminder$year==2007,]\n",
    "year_2007_Africa = year_2007[year_2007$continent==\"Africa\",]\n",
    "year_2007_Americas = year_2007[year_2007$continent==\"Americas\",]\n",
    "year_2007_Asia = year_2007[year_2007$continent==\"Asia\",]\n",
    "year_2007_Europe = year_2007[year_2007$continent==\"Europe\",]\n",
    "year_2007_Oceania = year_2007[year_2007$continent==\"Oceania\",]\n",
    "\n",
    "top5_Africa = year_2007_Africa[order(-year_2007_Africa$lifeExp),]\n",
    "top5_Africa = top5_Africa[1:5,]\n",
    "top5_Americas = year_2007_Americas[order(-year_2007_Americas$lifeExp),]\n",
    "top5_Americas = top5_Americas[1:5,]\n",
    "top5_Asia = year_2007_Asia[order(-year_2007_Asia$lifeExp),]\n",
    "top5_Asia = top5_Asia[1:5,]\n",
    "top5_Europe = year_2007_Europe[order(-year_2007_Europe$lifeExp),]\n",
    "top5_Europe = top5_Europe[1:5,]\n",
    "top2_Oceania = year_2007_Oceania[order(-year_2007_Oceania$lifeExp),]\n",
    "\n",
    "top5 = rbind(top5_Africa,top5_Americas,top5_Asia,top5_Europe,top2_Oceania)\n",
    "top5$lifeExp = round(top5$lifeExp, digits=1)\n",
    "ord = order(top5$lifeExp, decreasing=F)\n",
    "library(RColorBrewer)\n",
    "colorscale=brewer.pal(5,\"Set2\")\n",
    "x11()\n",
    "par(mar=c(3,8,3,1)+0.5)\n",
    "barplot(top5$lifeExp[ord]-70, horiz=T, col=colorscale[as.numeric(top5$continent[ord])], border=colorscale[as.numeric(top5$continent[ord])], axes=F, xlim=c(0,15))\n",
    "mtext(side=2, text=top5$country[ord], at=seq(from=0.7, by=1.2, length=22), las=2, line=1.7, cex=0.75)\n",
    "mtext(side=2, text=top5$lifeExp[ord], at=seq(from=0.7, by=1.2, length=22), las=2, line=0.2, cex=0.75)\n",
    "mtext(side=3, text=seq(70,83,1), at=seq(0,13,1), cex.axis=0.8, line=-0.7, cex=0.75)\n",
    "segments(x0=seq(2,12,2), y0=0.2, x1=seq(2,12,2), y1=26.35, col=\"grey\", lty=2)\n",
    "legend(\"bottom\", legend=unique(top5$continent), col=colorscale, lwd=2, horiz=T, cex=0.5, bty=\"n\")\n",
    "mtext(\"Source: gapminder data package\", side=1, line=2, at=10, cex=0.6)\n",
    "title(\"Highest Life Expectancy by Continent\")"
   ]
  },
  {
   "cell_type": "markdown",
   "metadata": {
    "deletable": false,
    "editable": false,
    "nbgrader": {
     "checksum": "02c0e7813d045f41324f823519deb010",
     "grade": false,
     "grade_id": "cell-4e82b1c36173aa4a",
     "locked": true,
     "schema_version": 1,
     "solution": false
    }
   },
   "source": [
    "---\n",
    "\n",
    "# Problem 4\n",
    "\n",
    "Using the `NBAStandings1e` and `NBAStandings2016` datasets in the `Lock5Data` package, create a slopegraph to show how the win percentage (`WinPct`) for each team changed between the 2010-2011 and 2015-2016 seasons. Remember to clearly label each team for both seasons, and offset the labels from each other so that all of the team names are readable. In addition, some teams changed names and cities over the five year span of the data set. Account for this by removing the old team name from the dataset for the 2010-2011 season. Once again, all plot elements covered in lesson 6 should be included."
   ]
  },
  {
   "cell_type": "code",
   "execution_count": 12,
   "metadata": {
    "deletable": false,
    "nbgrader": {
     "checksum": "527f87647df07e24fed9b2f70347924e",
     "grade": true,
     "grade_id": "cell-1e1ac4e222a785bb",
     "locked": false,
     "points": 4,
     "schema_version": 1,
     "solution": true
    }
   },
   "outputs": [
    {
     "data": {
      "image/png": "[encoded data removed]",
      "text/plain": [
       "plot without title"
      ]
     },
     "metadata": {},
     "output_type": "display_data"
    }
   ],
   "source": [
    "# Load the data\n",
    "library(Lock5Data)\n",
    "data(\"NBAStandings1e\")\n",
    "data(\"NBAStandings2016\")\n",
    "\n",
    "# YOUR CODE HERE\n",
    "NBAStandings1e = NBAStandings1e[-which(NBAStandings1e$Team == \"Charlotte Bobcats\"), ]\n",
    "NBAStandings1e = NBAStandings1e[-which(NBAStandings1e$Team == \"New Orleans Hornets\"), ]\n",
    "NBAStandings1e = NBAStandings1e[-which(NBAStandings1e$Team == \"New Jersey Nets\"), ]\n",
    "NBAStandings2016 = NBAStandings2016[-which(NBAStandings2016$Team == \"Charlotte Hornets\"),]\n",
    "NBAStandings2016 = NBAStandings2016[-which(NBAStandings2016$Team == \"New Orleans Pelicans\"),]\n",
    "NBAStandings2016 = NBAStandings2016[-which(NBAStandings2016$Team == \"Brooklyn Nets\"),]\n",
    "\n",
    "NBAStandings = NBAStandings1e[order(NBAStandings1e$Team),c(1,4)]\n",
    "names(NBAStandings)[2] = \"WinPct_2011\"\n",
    "NBAStandings$WinPct_2016 = NBAStandings2016[order(NBAStandings2016$Team),]$WinPct\n",
    "NBAStandings$Team_Init = c(\"ATL\", \"BOS\", \"CHI\", \"CLE\", \"DAL\", \"DEN\", \"DET\", \"GSW\", \"HOU\", \"IND\", \"LAC\", \"LAL\", \"MEM\", \"MIA\", \"MIL\", \"MIN\", \"NYK\", \"OKC\", \"ORL\", \"PHI\", \"PHX\", \"POR\", \"SAC\", \"SAS\", \"TOR\", \"UTA\", \"WAS\")\n",
    "\n",
    "x11()\n",
    "par(mar=c(4,6,1,7)+0.1)\n",
    "n = dim(NBAStandings)[1]\n",
    "ord1 = order(NBAStandings$WinPct_2011, decreasing = T)\n",
    "ord2 = order(NBAStandings$WinPct_2016, decreasing = T)\n",
    "plot(seq(1,n), seq(1,n,), xlim=c(1,2), ylim=c(10,90), xlab=\"\", ylab=\"\", type=\"n\", axes=F)\n",
    "abline(h=seq(10,90,10), col=\"grey\", lty=2)\n",
    "for(i in ord1){\n",
    "    lines(seq(1,2), NBAStandings[i,2:3]*100, lwd=2)\n",
    "}\n",
    "axis(1, at=seq(1,2), labels=c(\"2011\", \"2016\"), cex.axis=0.6)\n",
    "axis(2, at=seq(10,90,10), line=2.5, las=2, cex.axis=0.6)\n",
    "axis(4, at=seq(10,90,10), line=3.5, las=2, cex.axis=0.6)\n",
    "text1 = c()\n",
    "mtext(side=2, line=0, at=NBAStandings[ord1,2]*100, text=c(NBAStandings$Team_Init[ord1[1:3]], \"DAL, LAL\", \"\", NBAStandings$Team_Init[ord1[6:27]]), cex=0.5, las=2)\n",
    "mtext(side=4, line=0, at=NBAStandings[ord2,3]*100, text=c(NBAStandings$Team_Init[ord2[1:6]], \"ATL, BOS, MIA\", \"\", \"\", NBAStandings$Team_Init[ord2[10]], \"DET, POR\", \"\", \"CHI, DAL, MEM\", \"\", \"\", \"HOU, WAS\", \"\", NBAStandings$Team_Init[ord2[18:19]], \"DEN, MIL, SAC\", \"\", \"\", NBAStandings$Team_Init[ord2[23:27]]), cex=0.5, las=2)\n",
    "mtext(side=2, line=4.5, text=\"Win %\")\n",
    "mtext(side=4, line=5.5, text=\"Win %\")\n",
    "mtext(side=1, line=1, text=\"Year\")"
   ]
  },
  {
   "cell_type": "code",
   "execution_count": null,
   "metadata": {
    "collapsed": true
   },
   "outputs": [],
   "source": []
  }
 ],
 "metadata": {
  "kernelspec": {
   "display_name": "R",
   "language": "R",
   "name": "ir"
  },
  "language_info": {
   "codemirror_mode": "r",
   "file_extension": ".r",
   "mimetype": "text/x-r-source",
   "name": "R",
   "pygments_lexer": "r",
   "version": "3.4.1"
  }
 },
 "nbformat": 4,
 "nbformat_minor": 2
}
