{
 "cells": [
  {
   "cell_type": "markdown",
   "metadata": {},
   "source": [
    "Before you turn this problem set in, make sure everything runs as expected. First, **restart the kernel** (in the menubar, select Kernel$\\rightarrow$Restart) and then **run all cells** (in the menubar, select Cell$\\rightarrow$Run All). Note that in code sections, you must replace `stop(\"Not Implemented\")` with your code. Otherwise, you will have points automatically deducted in the grading process.\n",
    "\n",
    "**Please do not rename this file.**\n",
    "\n",
    "Make sure you fill in any place that says `YOUR CODE HERE` or \"YOUR ANSWER/EXPLANATION HERE\". In addition, please do not include your name on this assignment to ensure anonymity for the peer reviews."
   ]
  },
  {
   "cell_type": "markdown",
   "metadata": {},
   "source": [
    "---"
   ]
  },
  {
   "cell_type": "markdown",
   "metadata": {},
   "source": [
    "# Problem 1\n",
    "\n",
    "Part of this assignment will examine the [Gapminder](http://www.gapminder.org/) dataset, which can be imported into R as follows:"
   ]
  },
  {
   "cell_type": "code",
   "execution_count": 2,
   "metadata": {},
   "outputs": [
    {
     "name": "stdout",
     "output_type": "stream",
     "text": [
      "package 'gapminder' successfully unpacked and MD5 sums checked\n",
      "\n",
      "The downloaded binary packages are in\n",
      "\tC:\\Users\\test\\AppData\\Local\\Temp\\RtmpWGcTD9\\downloaded_packages\n"
     ]
    },
    {
     "name": "stderr",
     "output_type": "stream",
     "text": [
      "Warning message:\n",
      "\"package 'gapminder' was built under R version 3.4.2\""
     ]
    }
   ],
   "source": [
    "# This information is available within the gapminder package\n",
    "\n",
    "options(repos = c(\"https://cran.cnr.berkeley.edu/\"))\n",
    "install.packages(\"gapminder\")\n",
    "library(gapminder)\n",
    "data(\"gapminder\")"
   ]
  },
  {
   "cell_type": "markdown",
   "metadata": {},
   "source": [
    "Now there should be a data set called `gapminder` in the R global environment. Conduct a few tests on the data. First, make a data frame called `year_2007` that contains only information from the year 2007, the most recent year in the data set. Make sure that all of the columns have the same names as those in the original data set."
   ]
  },
  {
   "cell_type": "code",
   "execution_count": 3,
   "metadata": {
    "deletable": false,
    "nbgrader": {
     "checksum": "bb5c5355e4fac15600cc12b9bd4213ba",
     "grade": false,
     "grade_id": "problem_1_year_2007",
     "locked": false,
     "schema_version": 1,
     "solution": true
    }
   },
   "outputs": [
    {
     "data": {
      "text/html": [
       "<table>\n",
       "<thead><tr><th scope=col>country</th><th scope=col>continent</th><th scope=col>year</th><th scope=col>lifeExp</th><th scope=col>pop</th><th scope=col>gdpPercap</th></tr></thead>\n",
       "<tbody>\n",
       "\t<tr><td>Afghanistan</td><td>Asia       </td><td>2007       </td><td>43.828     </td><td>31889923   </td><td>  974.5803 </td></tr>\n",
       "\t<tr><td>Albania    </td><td>Europe     </td><td>2007       </td><td>76.423     </td><td> 3600523   </td><td> 5937.0295 </td></tr>\n",
       "\t<tr><td>Algeria    </td><td>Africa     </td><td>2007       </td><td>72.301     </td><td>33333216   </td><td> 6223.3675 </td></tr>\n",
       "\t<tr><td>Angola     </td><td>Africa     </td><td>2007       </td><td>42.731     </td><td>12420476   </td><td> 4797.2313 </td></tr>\n",
       "\t<tr><td>Argentina  </td><td>Americas   </td><td>2007       </td><td>75.320     </td><td>40301927   </td><td>12779.3796 </td></tr>\n",
       "\t<tr><td>Australia  </td><td>Oceania    </td><td>2007       </td><td>81.235     </td><td>20434176   </td><td>34435.3674 </td></tr>\n",
       "</tbody>\n",
       "</table>\n"
      ],
      "text/latex": [
       "\\begin{tabular}{r|llllll}\n",
       " country & continent & year & lifeExp & pop & gdpPercap\\\\\n",
       "\\hline\n",
       "\t Afghanistan & Asia        & 2007        & 43.828      & 31889923    &   974.5803 \\\\\n",
       "\t Albania     & Europe      & 2007        & 76.423      &  3600523    &  5937.0295 \\\\\n",
       "\t Algeria     & Africa      & 2007        & 72.301      & 33333216    &  6223.3675 \\\\\n",
       "\t Angola      & Africa      & 2007        & 42.731      & 12420476    &  4797.2313 \\\\\n",
       "\t Argentina   & Americas    & 2007        & 75.320      & 40301927    & 12779.3796 \\\\\n",
       "\t Australia   & Oceania     & 2007        & 81.235      & 20434176    & 34435.3674 \\\\\n",
       "\\end{tabular}\n"
      ],
      "text/markdown": [
       "\n",
       "country | continent | year | lifeExp | pop | gdpPercap | \n",
       "|---|---|---|---|---|---|\n",
       "| Afghanistan | Asia        | 2007        | 43.828      | 31889923    |   974.5803  | \n",
       "| Albania     | Europe      | 2007        | 76.423      |  3600523    |  5937.0295  | \n",
       "| Algeria     | Africa      | 2007        | 72.301      | 33333216    |  6223.3675  | \n",
       "| Angola      | Africa      | 2007        | 42.731      | 12420476    |  4797.2313  | \n",
       "| Argentina   | Americas    | 2007        | 75.320      | 40301927    | 12779.3796  | \n",
       "| Australia   | Oceania     | 2007        | 81.235      | 20434176    | 34435.3674  | \n",
       "\n",
       "\n"
      ],
      "text/plain": [
       "  country     continent year lifeExp pop      gdpPercap \n",
       "1 Afghanistan Asia      2007 43.828  31889923   974.5803\n",
       "2 Albania     Europe    2007 76.423   3600523  5937.0295\n",
       "3 Algeria     Africa    2007 72.301  33333216  6223.3675\n",
       "4 Angola      Africa    2007 42.731  12420476  4797.2313\n",
       "5 Argentina   Americas  2007 75.320  40301927 12779.3796\n",
       "6 Australia   Oceania   2007 81.235  20434176 34435.3674"
      ]
     },
     "metadata": {},
     "output_type": "display_data"
    }
   ],
   "source": [
    "# YOUR CODE HERE\n",
    "year_2007 <- gapminder[gapminder$year == 2007,]\n",
    "head(year_2007)"
   ]
  },
  {
   "cell_type": "markdown",
   "metadata": {},
   "source": [
    "Run the next code cell to test if the data set was correctly subsetted."
   ]
  },
  {
   "cell_type": "code",
   "execution_count": 4,
   "metadata": {
    "collapsed": true,
    "deletable": false,
    "editable": false,
    "nbgrader": {
     "checksum": "9207e45af8b5bcf3cd4f34c3b92eeb66",
     "grade": true,
     "grade_id": "problem_1_subset_test",
     "locked": true,
     "points": 1,
     "schema_version": 1,
     "solution": false
    }
   },
   "outputs": [],
   "source": [
    "stopifnot(max(year_2007$year) == 2007,\n",
    "         min(year_2007$year) == 2007,\n",
    "         names(year_2007) == c(\"country\", \"continent\", \"year\", \"lifeExp\", \"pop\", \"gdpPercap\"\n",
    "),\n",
    "         dim(year_2007) == c(142L, 6L))"
   ]
  },
  {
   "cell_type": "markdown",
   "metadata": {},
   "source": [
    "Life expectancy in Africa is lower than much of the rest of the world. Create a new variable in the `year_2007` data frame called `in_Africa` that indicates whether a country is on the continent of Africa. Create another variable in the data frame called `lifeExp_above_60` that indicates whether the life expectancy for a country is above 60. In order to make sure the variables are easy to understand, make the values for the `in_Africa` variable either \"In Africa\" or \"Not in Africa\", and the values for the `lifeExp_above_60` variable either \"Above 60\" or \"Not Above 60\"."
   ]
  },
  {
   "cell_type": "code",
   "execution_count": 5,
   "metadata": {
    "deletable": false,
    "nbgrader": {
     "checksum": "028a66e9c87ebf0a0712d47749eaf349",
     "grade": false,
     "grade_id": "problem_1_new_vars",
     "locked": false,
     "schema_version": 1,
     "solution": true
    }
   },
   "outputs": [
    {
     "data": {
      "text/html": [
       "<table>\n",
       "<thead><tr><th scope=col>country</th><th scope=col>continent</th><th scope=col>year</th><th scope=col>lifeExp</th><th scope=col>pop</th><th scope=col>gdpPercap</th><th scope=col>in_Africa</th><th scope=col>lifeExp_above_60</th></tr></thead>\n",
       "<tbody>\n",
       "\t<tr><td>Afghanistan  </td><td>Asia         </td><td>2007         </td><td>43.828       </td><td>31889923     </td><td>  974.5803   </td><td>Not in Africa</td><td>Not Above 60 </td></tr>\n",
       "\t<tr><td>Albania      </td><td>Europe       </td><td>2007         </td><td>76.423       </td><td> 3600523     </td><td> 5937.0295   </td><td>Not in Africa</td><td>Above 60     </td></tr>\n",
       "\t<tr><td>Algeria      </td><td>Africa       </td><td>2007         </td><td>72.301       </td><td>33333216     </td><td> 6223.3675   </td><td>In Africa    </td><td>Above 60     </td></tr>\n",
       "\t<tr><td>Angola       </td><td>Africa       </td><td>2007         </td><td>42.731       </td><td>12420476     </td><td> 4797.2313   </td><td>In Africa    </td><td>Not Above 60 </td></tr>\n",
       "\t<tr><td>Argentina    </td><td>Americas     </td><td>2007         </td><td>75.320       </td><td>40301927     </td><td>12779.3796   </td><td>Not in Africa</td><td>Above 60     </td></tr>\n",
       "\t<tr><td>Australia    </td><td>Oceania      </td><td>2007         </td><td>81.235       </td><td>20434176     </td><td>34435.3674   </td><td>Not in Africa</td><td>Above 60     </td></tr>\n",
       "</tbody>\n",
       "</table>\n"
      ],
      "text/latex": [
       "\\begin{tabular}{r|llllllll}\n",
       " country & continent & year & lifeExp & pop & gdpPercap & in\\_Africa & lifeExp\\_above\\_60\\\\\n",
       "\\hline\n",
       "\t Afghanistan   & Asia          & 2007          & 43.828        & 31889923      &   974.5803    & Not in Africa & Not Above 60 \\\\\n",
       "\t Albania       & Europe        & 2007          & 76.423        &  3600523      &  5937.0295    & Not in Africa & Above 60     \\\\\n",
       "\t Algeria       & Africa        & 2007          & 72.301        & 33333216      &  6223.3675    & In Africa     & Above 60     \\\\\n",
       "\t Angola        & Africa        & 2007          & 42.731        & 12420476      &  4797.2313    & In Africa     & Not Above 60 \\\\\n",
       "\t Argentina     & Americas      & 2007          & 75.320        & 40301927      & 12779.3796    & Not in Africa & Above 60     \\\\\n",
       "\t Australia     & Oceania       & 2007          & 81.235        & 20434176      & 34435.3674    & Not in Africa & Above 60     \\\\\n",
       "\\end{tabular}\n"
      ],
      "text/markdown": [
       "\n",
       "country | continent | year | lifeExp | pop | gdpPercap | in_Africa | lifeExp_above_60 | \n",
       "|---|---|---|---|---|---|\n",
       "| Afghanistan   | Asia          | 2007          | 43.828        | 31889923      |   974.5803    | Not in Africa | Not Above 60  | \n",
       "| Albania       | Europe        | 2007          | 76.423        |  3600523      |  5937.0295    | Not in Africa | Above 60      | \n",
       "| Algeria       | Africa        | 2007          | 72.301        | 33333216      |  6223.3675    | In Africa     | Above 60      | \n",
       "| Angola        | Africa        | 2007          | 42.731        | 12420476      |  4797.2313    | In Africa     | Not Above 60  | \n",
       "| Argentina     | Americas      | 2007          | 75.320        | 40301927      | 12779.3796    | Not in Africa | Above 60      | \n",
       "| Australia     | Oceania       | 2007          | 81.235        | 20434176      | 34435.3674    | Not in Africa | Above 60      | \n",
       "\n",
       "\n"
      ],
      "text/plain": [
       "  country     continent year lifeExp pop      gdpPercap  in_Africa    \n",
       "1 Afghanistan Asia      2007 43.828  31889923   974.5803 Not in Africa\n",
       "2 Albania     Europe    2007 76.423   3600523  5937.0295 Not in Africa\n",
       "3 Algeria     Africa    2007 72.301  33333216  6223.3675 In Africa    \n",
       "4 Angola      Africa    2007 42.731  12420476  4797.2313 In Africa    \n",
       "5 Argentina   Americas  2007 75.320  40301927 12779.3796 Not in Africa\n",
       "6 Australia   Oceania   2007 81.235  20434176 34435.3674 Not in Africa\n",
       "  lifeExp_above_60\n",
       "1 Not Above 60    \n",
       "2 Above 60        \n",
       "3 Above 60        \n",
       "4 Not Above 60    \n",
       "5 Above 60        \n",
       "6 Above 60        "
      ]
     },
     "metadata": {},
     "output_type": "display_data"
    }
   ],
   "source": [
    "# YOUR CODE HERE\n",
    "in_Africa <- ifelse (year_2007$continent == \"Africa\", \"In Africa\", \"Not in Africa\")\n",
    "\n",
    "year_2007 <- cbind(year_2007, in_Africa)\n",
    "\n",
    "lifeExp_above_60 <- ifelse (year_2007$lifeExp > 60, \"Above 60\", \"Not Above 60\")\n",
    "\n",
    "year_2007 <- cbind(year_2007, lifeExp_above_60)\n",
    "\n",
    "head(year_2007)"
   ]
  },
  {
   "cell_type": "markdown",
   "metadata": {},
   "source": [
    "Now see if the new variables were created successfully:"
   ]
  },
  {
   "cell_type": "code",
   "execution_count": 6,
   "metadata": {
    "collapsed": true,
    "deletable": false,
    "editable": false,
    "nbgrader": {
     "checksum": "433e4676270a7f383d95723b5a65b02d",
     "grade": true,
     "grade_id": "problem_1_new_vars_test",
     "locked": true,
     "points": 1,
     "schema_version": 1,
     "solution": false
    }
   },
   "outputs": [],
   "source": [
    "stopifnot(unique(year_2007$in_Africa) == c(\"Not in Africa\", \"In Africa\"),\n",
    "         unique(year_2007$lifeExp_above_60) == c(\"Not Above 60\", \"Above 60\"),\n",
    "         table(year_2007$lifeExp_above_60) == structure(c(99L, 43L), .Dim = 2L, .Dimnames = structure(list(\n",
    "    c(\"Above 60\", \"Not Above 60\")), .Names = \"\"), class = \"table\"))"
   ]
  },
  {
   "cell_type": "markdown",
   "metadata": {},
   "source": [
    "In order to see the data that will be tested, make a $2 \\times 2$ table of these two variables called `my_table`. Make sure that the table is readable!"
   ]
  },
  {
   "cell_type": "code",
   "execution_count": 7,
   "metadata": {
    "deletable": false,
    "nbgrader": {
     "checksum": "770d9ffe75631d8f92a38eb20a9e7843",
     "grade": false,
     "grade_id": "problem_1_table",
     "locked": false,
     "schema_version": 1,
     "solution": true
    }
   },
   "outputs": [
    {
     "data": {
      "text/plain": [
       "               \n",
       "                Above 60 Not Above 60\n",
       "  In Africa           12           40\n",
       "  Not in Africa       87            3"
      ]
     },
     "metadata": {},
     "output_type": "display_data"
    }
   ],
   "source": [
    "# YOUR CODE HERE\n",
    "my_table <- table(year_2007$in_Africa, year_2007$lifeExp_above_60)\n",
    "my_table"
   ]
  },
  {
   "cell_type": "markdown",
   "metadata": {},
   "source": [
    "This will check to see if the table was created correctly:"
   ]
  },
  {
   "cell_type": "code",
   "execution_count": 8,
   "metadata": {
    "collapsed": true,
    "deletable": false,
    "editable": false,
    "nbgrader": {
     "checksum": "8c00f666f3fdddca217f0accace9c354",
     "grade": true,
     "grade_id": "problem_1_table_test",
     "locked": true,
     "points": 1,
     "schema_version": 1,
     "solution": false
    }
   },
   "outputs": [],
   "source": [
    "stopifnot(my_table == structure(c(12L, 87L, 40L, 3L), .Dim = c(2L, 2L), .Dimnames = structure(list(\n",
    "    c(\"In Africa\", \"Not in Africa\"), c(\"Above 60\", \"Not Above 60\"\n",
    "    )), .Names = c(\"\", \"\")), class = \"table\"))"
   ]
  },
  {
   "cell_type": "markdown",
   "metadata": {},
   "source": [
    "Now perform a test for equal proportions for the hypotheses\n",
    "$$ \\begin{array}{ll}\n",
    "H_0: & p_{Africa} \\geq p_{non-Africa} \\\\\n",
    "H_1: & p_{Africa} < p_{non-Africa}\n",
    "\\end{array}$$\n",
    "These will test to see if Africa has a significantly lower proportion of countries with a life expectancy greater than 60 years than the rest of the world. Use the continuity correction and make a 97% confidence interval for $p_{Africa} - p_{non-Africa}$. Assign the test to an object named `lifeExp_prop_test`."
   ]
  },
  {
   "cell_type": "code",
   "execution_count": null,
   "metadata": {
    "collapsed": true
   },
   "outputs": [],
   "source": []
  },
  {
   "cell_type": "code",
   "execution_count": 9,
   "metadata": {
    "collapsed": true,
    "deletable": false,
    "nbgrader": {
     "checksum": "87d1418e6b1a8abee9f4b92c806692e4",
     "grade": false,
     "grade_id": "problem_1_test",
     "locked": false,
     "schema_version": 1,
     "solution": true
    }
   },
   "outputs": [],
   "source": [
    "# YOUR CODE HERE\n",
    "lifeExp_prop_test <- prop.test(my_table, conf.level = 0.97, alternative = \"less\", correct = T) "
   ]
  },
  {
   "cell_type": "markdown",
   "metadata": {},
   "source": [
    "If you did this correctly, the following cell will run:"
   ]
  },
  {
   "cell_type": "code",
   "execution_count": 10,
   "metadata": {
    "collapsed": true,
    "deletable": false,
    "editable": false,
    "nbgrader": {
     "checksum": "aa4090500849a1c04263be0844dff314",
     "grade": true,
     "grade_id": "problem_1_test_test",
     "locked": true,
     "points": 1,
     "schema_version": 1,
     "solution": false
    }
   },
   "outputs": [],
   "source": [
    "stopifnot(round(lifeExp_prop_test$statistic,digits = 3) == structure(81.091, .Names = \"X-squared\"))"
   ]
  },
  {
   "cell_type": "markdown",
   "metadata": {},
   "source": [
    "---\n",
    "\n",
    "# Problem 2\n",
    "\n",
    "This problem will continue examining the Gapminder data set. If the R environment has been cleared, the following commands will bring the `gapminder` data frame back to the environment:"
   ]
  },
  {
   "cell_type": "code",
   "execution_count": 11,
   "metadata": {
    "collapsed": true
   },
   "outputs": [],
   "source": [
    "library(gapminder)\n",
    "data(\"gapminder\")"
   ]
  },
  {
   "cell_type": "markdown",
   "metadata": {},
   "source": [
    "Create another subset of the `gapminder` data set containing information on Oceania and Europe in the year 2007. Name this data frame `EO_year_2007`, and make sure that the column names are the same as in the original data set."
   ]
  },
  {
   "cell_type": "code",
   "execution_count": 12,
   "metadata": {
    "deletable": false,
    "nbgrader": {
     "checksum": "05743300deb7b3e83de9aa74c04b7c41",
     "grade": false,
     "grade_id": "problem_2_subset",
     "locked": false,
     "schema_version": 1,
     "solution": true
    }
   },
   "outputs": [
    {
     "data": {
      "text/html": [
       "<table>\n",
       "<thead><tr><th scope=col>country</th><th scope=col>continent</th><th scope=col>year</th><th scope=col>lifeExp</th><th scope=col>pop</th><th scope=col>gdpPercap</th></tr></thead>\n",
       "<tbody>\n",
       "\t<tr><td>Albania               </td><td>Europe                </td><td>2007                  </td><td>76.423                </td><td> 3600523              </td><td> 5937.030             </td></tr>\n",
       "\t<tr><td>Australia             </td><td>Oceania               </td><td>2007                  </td><td>81.235                </td><td>20434176              </td><td>34435.367             </td></tr>\n",
       "\t<tr><td>Austria               </td><td>Europe                </td><td>2007                  </td><td>79.829                </td><td> 8199783              </td><td>36126.493             </td></tr>\n",
       "\t<tr><td>Belgium               </td><td>Europe                </td><td>2007                  </td><td>79.441                </td><td>10392226              </td><td>33692.605             </td></tr>\n",
       "\t<tr><td>Bosnia and Herzegovina</td><td>Europe                </td><td>2007                  </td><td>74.852                </td><td> 4552198              </td><td> 7446.299             </td></tr>\n",
       "\t<tr><td>Bulgaria              </td><td>Europe                </td><td>2007                  </td><td>73.005                </td><td> 7322858              </td><td>10680.793             </td></tr>\n",
       "\t<tr><td>Croatia               </td><td>Europe                </td><td>2007                  </td><td>75.748                </td><td> 4493312              </td><td>14619.223             </td></tr>\n",
       "\t<tr><td>Czech Republic        </td><td>Europe                </td><td>2007                  </td><td>76.486                </td><td>10228744              </td><td>22833.309             </td></tr>\n",
       "\t<tr><td>Denmark               </td><td>Europe                </td><td>2007                  </td><td>78.332                </td><td> 5468120              </td><td>35278.419             </td></tr>\n",
       "\t<tr><td>Finland               </td><td>Europe                </td><td>2007                  </td><td>79.313                </td><td> 5238460              </td><td>33207.084             </td></tr>\n",
       "\t<tr><td>France                </td><td>Europe                </td><td>2007                  </td><td>80.657                </td><td>61083916              </td><td>30470.017             </td></tr>\n",
       "\t<tr><td>Germany               </td><td>Europe                </td><td>2007                  </td><td>79.406                </td><td>82400996              </td><td>32170.374             </td></tr>\n",
       "\t<tr><td>Greece                </td><td>Europe                </td><td>2007                  </td><td>79.483                </td><td>10706290              </td><td>27538.412             </td></tr>\n",
       "\t<tr><td>Hungary               </td><td>Europe                </td><td>2007                  </td><td>73.338                </td><td> 9956108              </td><td>18008.944             </td></tr>\n",
       "\t<tr><td>Iceland               </td><td>Europe                </td><td>2007                  </td><td>81.757                </td><td>  301931              </td><td>36180.789             </td></tr>\n",
       "\t<tr><td>Ireland               </td><td>Europe                </td><td>2007                  </td><td>78.885                </td><td> 4109086              </td><td>40675.996             </td></tr>\n",
       "\t<tr><td>Italy                 </td><td>Europe                </td><td>2007                  </td><td>80.546                </td><td>58147733              </td><td>28569.720             </td></tr>\n",
       "\t<tr><td>Montenegro            </td><td>Europe                </td><td>2007                  </td><td>74.543                </td><td>  684736              </td><td> 9253.896             </td></tr>\n",
       "\t<tr><td>Netherlands           </td><td>Europe                </td><td>2007                  </td><td>79.762                </td><td>16570613              </td><td>36797.933             </td></tr>\n",
       "\t<tr><td>New Zealand           </td><td>Oceania               </td><td>2007                  </td><td>80.204                </td><td> 4115771              </td><td>25185.009             </td></tr>\n",
       "\t<tr><td>Norway                </td><td>Europe                </td><td>2007                  </td><td>80.196                </td><td> 4627926              </td><td>49357.190             </td></tr>\n",
       "\t<tr><td>Poland                </td><td>Europe                </td><td>2007                  </td><td>75.563                </td><td>38518241              </td><td>15389.925             </td></tr>\n",
       "\t<tr><td>Portugal              </td><td>Europe                </td><td>2007                  </td><td>78.098                </td><td>10642836              </td><td>20509.648             </td></tr>\n",
       "\t<tr><td>Romania               </td><td>Europe                </td><td>2007                  </td><td>72.476                </td><td>22276056              </td><td>10808.476             </td></tr>\n",
       "\t<tr><td>Serbia                </td><td>Europe                </td><td>2007                  </td><td>74.002                </td><td>10150265              </td><td> 9786.535             </td></tr>\n",
       "\t<tr><td>Slovak Republic       </td><td>Europe                </td><td>2007                  </td><td>74.663                </td><td> 5447502              </td><td>18678.314             </td></tr>\n",
       "\t<tr><td>Slovenia              </td><td>Europe                </td><td>2007                  </td><td>77.926                </td><td> 2009245              </td><td>25768.258             </td></tr>\n",
       "\t<tr><td>Spain                 </td><td>Europe                </td><td>2007                  </td><td>80.941                </td><td>40448191              </td><td>28821.064             </td></tr>\n",
       "\t<tr><td>Sweden                </td><td>Europe                </td><td>2007                  </td><td>80.884                </td><td> 9031088              </td><td>33859.748             </td></tr>\n",
       "\t<tr><td>Switzerland           </td><td>Europe                </td><td>2007                  </td><td>81.701                </td><td> 7554661              </td><td>37506.419             </td></tr>\n",
       "\t<tr><td>Turkey                </td><td>Europe                </td><td>2007                  </td><td>71.777                </td><td>71158647              </td><td> 8458.276             </td></tr>\n",
       "\t<tr><td>United Kingdom        </td><td>Europe                </td><td>2007                  </td><td>79.425                </td><td>60776238              </td><td>33203.261             </td></tr>\n",
       "</tbody>\n",
       "</table>\n"
      ],
      "text/latex": [
       "\\begin{tabular}{r|llllll}\n",
       " country & continent & year & lifeExp & pop & gdpPercap\\\\\n",
       "\\hline\n",
       "\t Albania                & Europe                 & 2007                   & 76.423                 &  3600523               &  5937.030             \\\\\n",
       "\t Australia              & Oceania                & 2007                   & 81.235                 & 20434176               & 34435.367             \\\\\n",
       "\t Austria                & Europe                 & 2007                   & 79.829                 &  8199783               & 36126.493             \\\\\n",
       "\t Belgium                & Europe                 & 2007                   & 79.441                 & 10392226               & 33692.605             \\\\\n",
       "\t Bosnia and Herzegovina & Europe                 & 2007                   & 74.852                 &  4552198               &  7446.299             \\\\\n",
       "\t Bulgaria               & Europe                 & 2007                   & 73.005                 &  7322858               & 10680.793             \\\\\n",
       "\t Croatia                & Europe                 & 2007                   & 75.748                 &  4493312               & 14619.223             \\\\\n",
       "\t Czech Republic         & Europe                 & 2007                   & 76.486                 & 10228744               & 22833.309             \\\\\n",
       "\t Denmark                & Europe                 & 2007                   & 78.332                 &  5468120               & 35278.419             \\\\\n",
       "\t Finland                & Europe                 & 2007                   & 79.313                 &  5238460               & 33207.084             \\\\\n",
       "\t France                 & Europe                 & 2007                   & 80.657                 & 61083916               & 30470.017             \\\\\n",
       "\t Germany                & Europe                 & 2007                   & 79.406                 & 82400996               & 32170.374             \\\\\n",
       "\t Greece                 & Europe                 & 2007                   & 79.483                 & 10706290               & 27538.412             \\\\\n",
       "\t Hungary                & Europe                 & 2007                   & 73.338                 &  9956108               & 18008.944             \\\\\n",
       "\t Iceland                & Europe                 & 2007                   & 81.757                 &   301931               & 36180.789             \\\\\n",
       "\t Ireland                & Europe                 & 2007                   & 78.885                 &  4109086               & 40675.996             \\\\\n",
       "\t Italy                  & Europe                 & 2007                   & 80.546                 & 58147733               & 28569.720             \\\\\n",
       "\t Montenegro             & Europe                 & 2007                   & 74.543                 &   684736               &  9253.896             \\\\\n",
       "\t Netherlands            & Europe                 & 2007                   & 79.762                 & 16570613               & 36797.933             \\\\\n",
       "\t New Zealand            & Oceania                & 2007                   & 80.204                 &  4115771               & 25185.009             \\\\\n",
       "\t Norway                 & Europe                 & 2007                   & 80.196                 &  4627926               & 49357.190             \\\\\n",
       "\t Poland                 & Europe                 & 2007                   & 75.563                 & 38518241               & 15389.925             \\\\\n",
       "\t Portugal               & Europe                 & 2007                   & 78.098                 & 10642836               & 20509.648             \\\\\n",
       "\t Romania                & Europe                 & 2007                   & 72.476                 & 22276056               & 10808.476             \\\\\n",
       "\t Serbia                 & Europe                 & 2007                   & 74.002                 & 10150265               &  9786.535             \\\\\n",
       "\t Slovak Republic        & Europe                 & 2007                   & 74.663                 &  5447502               & 18678.314             \\\\\n",
       "\t Slovenia               & Europe                 & 2007                   & 77.926                 &  2009245               & 25768.258             \\\\\n",
       "\t Spain                  & Europe                 & 2007                   & 80.941                 & 40448191               & 28821.064             \\\\\n",
       "\t Sweden                 & Europe                 & 2007                   & 80.884                 &  9031088               & 33859.748             \\\\\n",
       "\t Switzerland            & Europe                 & 2007                   & 81.701                 &  7554661               & 37506.419             \\\\\n",
       "\t Turkey                 & Europe                 & 2007                   & 71.777                 & 71158647               &  8458.276             \\\\\n",
       "\t United Kingdom         & Europe                 & 2007                   & 79.425                 & 60776238               & 33203.261             \\\\\n",
       "\\end{tabular}\n"
      ],
      "text/markdown": [
       "\n",
       "country | continent | year | lifeExp | pop | gdpPercap | \n",
       "|---|---|---|---|---|---|---|---|---|---|---|---|---|---|---|---|---|---|---|---|---|---|---|---|---|---|---|---|---|---|---|---|\n",
       "| Albania                | Europe                 | 2007                   | 76.423                 |  3600523               |  5937.030              | \n",
       "| Australia              | Oceania                | 2007                   | 81.235                 | 20434176               | 34435.367              | \n",
       "| Austria                | Europe                 | 2007                   | 79.829                 |  8199783               | 36126.493              | \n",
       "| Belgium                | Europe                 | 2007                   | 79.441                 | 10392226               | 33692.605              | \n",
       "| Bosnia and Herzegovina | Europe                 | 2007                   | 74.852                 |  4552198               |  7446.299              | \n",
       "| Bulgaria               | Europe                 | 2007                   | 73.005                 |  7322858               | 10680.793              | \n",
       "| Croatia                | Europe                 | 2007                   | 75.748                 |  4493312               | 14619.223              | \n",
       "| Czech Republic         | Europe                 | 2007                   | 76.486                 | 10228744               | 22833.309              | \n",
       "| Denmark                | Europe                 | 2007                   | 78.332                 |  5468120               | 35278.419              | \n",
       "| Finland                | Europe                 | 2007                   | 79.313                 |  5238460               | 33207.084              | \n",
       "| France                 | Europe                 | 2007                   | 80.657                 | 61083916               | 30470.017              | \n",
       "| Germany                | Europe                 | 2007                   | 79.406                 | 82400996               | 32170.374              | \n",
       "| Greece                 | Europe                 | 2007                   | 79.483                 | 10706290               | 27538.412              | \n",
       "| Hungary                | Europe                 | 2007                   | 73.338                 |  9956108               | 18008.944              | \n",
       "| Iceland                | Europe                 | 2007                   | 81.757                 |   301931               | 36180.789              | \n",
       "| Ireland                | Europe                 | 2007                   | 78.885                 |  4109086               | 40675.996              | \n",
       "| Italy                  | Europe                 | 2007                   | 80.546                 | 58147733               | 28569.720              | \n",
       "| Montenegro             | Europe                 | 2007                   | 74.543                 |   684736               |  9253.896              | \n",
       "| Netherlands            | Europe                 | 2007                   | 79.762                 | 16570613               | 36797.933              | \n",
       "| New Zealand            | Oceania                | 2007                   | 80.204                 |  4115771               | 25185.009              | \n",
       "| Norway                 | Europe                 | 2007                   | 80.196                 |  4627926               | 49357.190              | \n",
       "| Poland                 | Europe                 | 2007                   | 75.563                 | 38518241               | 15389.925              | \n",
       "| Portugal               | Europe                 | 2007                   | 78.098                 | 10642836               | 20509.648              | \n",
       "| Romania                | Europe                 | 2007                   | 72.476                 | 22276056               | 10808.476              | \n",
       "| Serbia                 | Europe                 | 2007                   | 74.002                 | 10150265               |  9786.535              | \n",
       "| Slovak Republic        | Europe                 | 2007                   | 74.663                 |  5447502               | 18678.314              | \n",
       "| Slovenia               | Europe                 | 2007                   | 77.926                 |  2009245               | 25768.258              | \n",
       "| Spain                  | Europe                 | 2007                   | 80.941                 | 40448191               | 28821.064              | \n",
       "| Sweden                 | Europe                 | 2007                   | 80.884                 |  9031088               | 33859.748              | \n",
       "| Switzerland            | Europe                 | 2007                   | 81.701                 |  7554661               | 37506.419              | \n",
       "| Turkey                 | Europe                 | 2007                   | 71.777                 | 71158647               |  8458.276              | \n",
       "| United Kingdom         | Europe                 | 2007                   | 79.425                 | 60776238               | 33203.261              | \n",
       "\n",
       "\n"
      ],
      "text/plain": [
       "   country                continent year lifeExp pop      gdpPercap\n",
       "1  Albania                Europe    2007 76.423   3600523  5937.030\n",
       "2  Australia              Oceania   2007 81.235  20434176 34435.367\n",
       "3  Austria                Europe    2007 79.829   8199783 36126.493\n",
       "4  Belgium                Europe    2007 79.441  10392226 33692.605\n",
       "5  Bosnia and Herzegovina Europe    2007 74.852   4552198  7446.299\n",
       "6  Bulgaria               Europe    2007 73.005   7322858 10680.793\n",
       "7  Croatia                Europe    2007 75.748   4493312 14619.223\n",
       "8  Czech Republic         Europe    2007 76.486  10228744 22833.309\n",
       "9  Denmark                Europe    2007 78.332   5468120 35278.419\n",
       "10 Finland                Europe    2007 79.313   5238460 33207.084\n",
       "11 France                 Europe    2007 80.657  61083916 30470.017\n",
       "12 Germany                Europe    2007 79.406  82400996 32170.374\n",
       "13 Greece                 Europe    2007 79.483  10706290 27538.412\n",
       "14 Hungary                Europe    2007 73.338   9956108 18008.944\n",
       "15 Iceland                Europe    2007 81.757    301931 36180.789\n",
       "16 Ireland                Europe    2007 78.885   4109086 40675.996\n",
       "17 Italy                  Europe    2007 80.546  58147733 28569.720\n",
       "18 Montenegro             Europe    2007 74.543    684736  9253.896\n",
       "19 Netherlands            Europe    2007 79.762  16570613 36797.933\n",
       "20 New Zealand            Oceania   2007 80.204   4115771 25185.009\n",
       "21 Norway                 Europe    2007 80.196   4627926 49357.190\n",
       "22 Poland                 Europe    2007 75.563  38518241 15389.925\n",
       "23 Portugal               Europe    2007 78.098  10642836 20509.648\n",
       "24 Romania                Europe    2007 72.476  22276056 10808.476\n",
       "25 Serbia                 Europe    2007 74.002  10150265  9786.535\n",
       "26 Slovak Republic        Europe    2007 74.663   5447502 18678.314\n",
       "27 Slovenia               Europe    2007 77.926   2009245 25768.258\n",
       "28 Spain                  Europe    2007 80.941  40448191 28821.064\n",
       "29 Sweden                 Europe    2007 80.884   9031088 33859.748\n",
       "30 Switzerland            Europe    2007 81.701   7554661 37506.419\n",
       "31 Turkey                 Europe    2007 71.777  71158647  8458.276\n",
       "32 United Kingdom         Europe    2007 79.425  60776238 33203.261"
      ]
     },
     "metadata": {},
     "output_type": "display_data"
    }
   ],
   "source": [
    "# YOUR CODE HERE\n",
    "EO_year_2007 <- gapminder[gapminder$continent == \"Oceania\" | gapminder$continent == \"Europe\",]\n",
    "EO_year_2007 <- EO_year_2007[EO_year_2007$year == \"2007\",]\n",
    "EO_year_2007"
   ]
  },
  {
   "cell_type": "markdown",
   "metadata": {},
   "source": [
    "Check that the subset was done correctly:"
   ]
  },
  {
   "cell_type": "code",
   "execution_count": 13,
   "metadata": {
    "collapsed": true,
    "deletable": false,
    "editable": false,
    "nbgrader": {
     "checksum": "0cf40738c509c5cdc04d6ab5748d0171",
     "grade": true,
     "grade_id": "problem_2_subset_test",
     "locked": true,
     "points": 1,
     "schema_version": 1,
     "solution": false
    }
   },
   "outputs": [],
   "source": [
    "stopifnot(unique(EO_year_2007$continent) == structure(4:5, .Label = c(\"Africa\", \"Americas\", \"Asia\", \"Europe\", \n",
    "\"Oceania\"), class = \"factor\"),\n",
    "         dim(EO_year_2007) == c(32L, 6L))"
   ]
  },
  {
   "cell_type": "markdown",
   "metadata": {},
   "source": [
    "There are multiple ways to perform calculations within groups. Probably the easiest way to do this without loading any extra packages in R is to use the `aggregate` function. Formulas can be used within the `aggregate` function to easily specify the groups to aggregate over. For example, if attempting to aggregate the average (mean) `Sepal.Length` in the `iris` dataset, one can use the code:"
   ]
  },
  {
   "cell_type": "code",
   "execution_count": 14,
   "metadata": {},
   "outputs": [
    {
     "data": {
      "text/html": [
       "<table>\n",
       "<thead><tr><th scope=col>Species</th><th scope=col>Sepal.Length</th></tr></thead>\n",
       "<tbody>\n",
       "\t<tr><td>setosa    </td><td>5.006     </td></tr>\n",
       "\t<tr><td>versicolor</td><td>5.936     </td></tr>\n",
       "\t<tr><td>virginica </td><td>6.588     </td></tr>\n",
       "</tbody>\n",
       "</table>\n"
      ],
      "text/latex": [
       "\\begin{tabular}{r|ll}\n",
       " Species & Sepal.Length\\\\\n",
       "\\hline\n",
       "\t setosa     & 5.006     \\\\\n",
       "\t versicolor & 5.936     \\\\\n",
       "\t virginica  & 6.588     \\\\\n",
       "\\end{tabular}\n"
      ],
      "text/markdown": [
       "\n",
       "Species | Sepal.Length | \n",
       "|---|---|---|\n",
       "| setosa     | 5.006      | \n",
       "| versicolor | 5.936      | \n",
       "| virginica  | 6.588      | \n",
       "\n",
       "\n"
      ],
      "text/plain": [
       "  Species    Sepal.Length\n",
       "1 setosa     5.006       \n",
       "2 versicolor 5.936       \n",
       "3 virginica  6.588       "
      ]
     },
     "metadata": {},
     "output_type": "display_data"
    }
   ],
   "source": [
    "data(\"iris\")\n",
    "aggregate(Sepal.Length ~ Species,data=iris,FUN=mean)"
   ]
  },
  {
   "cell_type": "markdown",
   "metadata": {},
   "source": [
    "Using the `aggregate` function, find the average GDP per capita (`gdpPercap`) for Europe and Oceania. Name the aggregate data frame `gdp_means`, and make sure it has two columns with the names `continent` and `gdpPercap`. "
   ]
  },
  {
   "cell_type": "code",
   "execution_count": 15,
   "metadata": {
    "deletable": false,
    "nbgrader": {
     "checksum": "ce02f6af1913ddbfc94ab35104c53d16",
     "grade": false,
     "grade_id": "problem_2_aggregate",
     "locked": false,
     "schema_version": 1,
     "solution": true
    }
   },
   "outputs": [
    {
     "data": {
      "text/html": [
       "<table>\n",
       "<thead><tr><th scope=col>continent</th><th scope=col>gdpPercap</th></tr></thead>\n",
       "<tbody>\n",
       "\t<tr><td>Europe  </td><td>25054.48</td></tr>\n",
       "\t<tr><td>Oceania </td><td>29810.19</td></tr>\n",
       "</tbody>\n",
       "</table>\n"
      ],
      "text/latex": [
       "\\begin{tabular}{r|ll}\n",
       " continent & gdpPercap\\\\\n",
       "\\hline\n",
       "\t Europe   & 25054.48\\\\\n",
       "\t Oceania  & 29810.19\\\\\n",
       "\\end{tabular}\n"
      ],
      "text/markdown": [
       "\n",
       "continent | gdpPercap | \n",
       "|---|---|\n",
       "| Europe   | 25054.48 | \n",
       "| Oceania  | 29810.19 | \n",
       "\n",
       "\n"
      ],
      "text/plain": [
       "  continent gdpPercap\n",
       "1 Europe    25054.48 \n",
       "2 Oceania   29810.19 "
      ]
     },
     "metadata": {},
     "output_type": "display_data"
    }
   ],
   "source": [
    "# YOUR CODE HERE\n",
    "gdp_means <- aggregate(gdpPercap ~ continent, data=EO_year_2007, FUN=mean)\n",
    "gdp_means"
   ]
  },
  {
   "cell_type": "markdown",
   "metadata": {},
   "source": [
    "If you did this correctly, the following test should run without errors:"
   ]
  },
  {
   "cell_type": "code",
   "execution_count": 16,
   "metadata": {
    "collapsed": true,
    "deletable": false,
    "editable": false,
    "nbgrader": {
     "checksum": "c8068c3b18b70eb93a3edec9f1c6fa72",
     "grade": true,
     "grade_id": "problem_2_aggregate_test",
     "locked": true,
     "points": 1,
     "schema_version": 1,
     "solution": false
    }
   },
   "outputs": [],
   "source": [
    "stopifnot(round(gdp_means$gdpPercap,digits=2) == c(25054.48, 29810.19))"
   ]
  },
  {
   "cell_type": "markdown",
   "metadata": {},
   "source": [
    "Based on the aggregation, the average GDP per capita for Oceania is higher than that of Europe. This is supported by visualizing the boxplot for the two groups:"
   ]
  },
  {
   "cell_type": "code",
   "execution_count": 17,
   "metadata": {},
   "outputs": [
    {
     "data": {
      "image/png": "[encoded data removed]",
      "text/plain": [
       "Plot with title \"GDP per capita in 2007\""
      ]
     },
     "metadata": {},
     "output_type": "display_data"
    }
   ],
   "source": [
    "# Note that this will only work if you have created the year_2007 data frame in problem 1\n",
    "boxplot(gdpPercap/1000 ~ continent,data=year_2007,ylab = \"GDP per Capita ($K)\",main = \"GDP per capita in 2007\")"
   ]
  },
  {
   "cell_type": "markdown",
   "metadata": {},
   "source": [
    "Before testing to see if the means are significantly different for the two continents, examine whether or not the groups have equal variances. Test the hypotheses:\n",
    "$$\\begin{align}\n",
    "H_0: & \\sigma_{Europe}^2 = \\sigma_{Oceania}^2 \\\\\n",
    "H_1: & \\sigma_{Europe}^2 \\neq \\sigma_{Oceania}^2\n",
    "\\end{align}$$\n",
    "Name the test object `EO_gdp_var_test`."
   ]
  },
  {
   "cell_type": "code",
   "execution_count": 18,
   "metadata": {
    "deletable": false,
    "nbgrader": {
     "checksum": "f95d0088923483e86f8df2cde56326a6",
     "grade": false,
     "grade_id": "problem_2_var_test",
     "locked": false,
     "schema_version": 1,
     "solution": true
    }
   },
   "outputs": [
    {
     "data": {
      "text/plain": [
       "\n",
       "\tF test to compare two variances\n",
       "\n",
       "data:  EO_year_2007$gdpPercap[EO_year_2007$continent == \"Oceania\"] and EO_year_2007$gdpPercap[EO_year_2007$continent == \"Europe\"]\n",
       "F = 0.30725, num df = 1, denom df = 29, p-value = 0.8328\n",
       "alternative hypothesis: true ratio of variances is not equal to 1\n",
       "95 percent confidence interval:\n",
       "   0.05498696 307.51210886\n",
       "sample estimates:\n",
       "ratio of variances \n",
       "         0.3072544 \n"
      ]
     },
     "metadata": {},
     "output_type": "display_data"
    }
   ],
   "source": [
    "# YOUR CODE HERE\n",
    "EO_gdp_var_test <- var.test(EO_year_2007$gdpPercap[EO_year_2007$continent==\"Oceania\"], \n",
    "                            EO_year_2007$gdpPercap[EO_year_2007$continent==\"Europe\"])\n",
    "EO_gdp_var_test"
   ]
  },
  {
   "cell_type": "markdown",
   "metadata": {},
   "source": [
    "Check that the test was performed correctly:"
   ]
  },
  {
   "cell_type": "code",
   "execution_count": 19,
   "metadata": {
    "collapsed": true,
    "deletable": false,
    "editable": false,
    "nbgrader": {
     "checksum": "a9e51ca331edaa9fa807fb4a42290664",
     "grade": true,
     "grade_id": "problem_2_var_test_test",
     "locked": true,
     "points": 1,
     "schema_version": 1,
     "solution": false
    }
   },
   "outputs": [],
   "source": [
    "stopifnot(round(EO_gdp_var_test$p.value,digits = 3) == 0.833)"
   ]
  },
  {
   "cell_type": "markdown",
   "metadata": {},
   "source": [
    "Is the difference in the average GPA per capita *statistically significant*? Perform a t-test (using your `EO_year_2007` data frame) to see if there is a statistically significant difference in the means of GDP per capita between Europe and Oceania. Based on the variance test above, the variances in the GDPs for the two continents are not significantly different (because the p-value is higher than any reasonable value for $\\alpha$), so make sure you perform your test correctly. Test the hypotheses\n",
    "$$ \\begin{array}{ll}\n",
    "H_0: & \\mu_{Europe} = \\mu_{Oceania} \\\\\n",
    "H_1: & \\mu_{Europe} \\neq \\mu_{Oceania}\n",
    "\\end{array} $$\n",
    "and assign the test to an object named `EO_mean_gdp_test`. "
   ]
  },
  {
   "cell_type": "code",
   "execution_count": 20,
   "metadata": {
    "deletable": false,
    "nbgrader": {
     "checksum": "a38f1d9920c6884eed29cb8bd8509dea",
     "grade": false,
     "grade_id": "problem_2_test",
     "locked": false,
     "schema_version": 1,
     "solution": true
    }
   },
   "outputs": [
    {
     "data": {
      "text/plain": [
       "\n",
       "\tTwo Sample t-test\n",
       "\n",
       "data:  EO_year_2007$gdpPercap[EO_year_2007$continent == \"Oceania\"] and EO_year_2007$gdpPercap[EO_year_2007$continent == \"Europe\"]\n",
       "t = 0.55833, df = 30, p-value = 0.5808\n",
       "alternative hypothesis: true difference in means is not equal to 0\n",
       "95 percent confidence interval:\n",
       " -12639.70  22151.11\n",
       "sample estimates:\n",
       "mean of x mean of y \n",
       " 29810.19  25054.48 \n"
      ]
     },
     "metadata": {},
     "output_type": "display_data"
    }
   ],
   "source": [
    "# YOUR CODE HERE\n",
    "EO_mean_gdp_test <- t.test(EO_year_2007$gdpPercap[EO_year_2007$continent==\"Oceania\"], \n",
    "                           EO_year_2007$gdpPercap[EO_year_2007$continent==\"Europe\"],\n",
    "                           var.equal = T\n",
    "                           )\n",
    "EO_mean_gdp_test"
   ]
  },
  {
   "cell_type": "markdown",
   "metadata": {},
   "source": [
    "The following test will work if you successfully coded the hypothesis test:"
   ]
  },
  {
   "cell_type": "code",
   "execution_count": 89,
   "metadata": {
    "collapsed": true,
    "deletable": false,
    "editable": false,
    "nbgrader": {
     "checksum": "80735f47e30624d54d2656decbc003a9",
     "grade": true,
     "grade_id": "problem_2_test_test",
     "locked": true,
     "points": 1,
     "schema_version": 1,
     "solution": false
    }
   },
   "outputs": [],
   "source": [
    "stopifnot(round(EO_mean_gdp_test$p.value,digits = 3) == 0.581)"
   ]
  },
  {
   "cell_type": "markdown",
   "metadata": {},
   "source": [
    "Based on the test output, the average GDP per capita is not significantly different for Oceania and Europe, as the p-value is much higher than any reasonable $\\alpha$-level (this is usually set to 0.05). "
   ]
  },
  {
   "cell_type": "markdown",
   "metadata": {},
   "source": [
    "Not so fast! One of the assumptions of using the t-test is that the underlying distributions for each of the groups is normal or approximately normal. The following plot shows the densities for the two groups in the sample:"
   ]
  },
  {
   "cell_type": "code",
   "execution_count": 90,
   "metadata": {},
   "outputs": [
    {
     "data": {
      "image/png": "[encoded data removed]",
      "text/plain": [
       "Plot with title \"GDP per Capita - Density Curves\""
      ]
     },
     "metadata": {},
     "output_type": "display_data"
    }
   ],
   "source": [
    "plot(density(subset(EO_year_2007,continent == \"Oceania\")$gdpPercap/1000),\n",
    "     xlim = c(0,60),\n",
    "     xlab = \"GDP per capita ($K)\",\n",
    "     col=\"blue\",\n",
    "     lwd=2,\n",
    "     main = \"GDP per Capita - Density Curves\")\n",
    "lines(density(subset(EO_year_2007,continent == \"Europe\")$gdpPercap/1000),\n",
    "      col='red',\n",
    "      lwd=2)\n",
    "legend(\"topright\",legend = c(\"Europe\",\"Oceania\"),col = c(\"red\",\"blue\"),lwd=2)"
   ]
  },
  {
   "cell_type": "markdown",
   "metadata": {},
   "source": [
    "Neither of the curves looks very much like the normal density curve (do a Google search if that isn't familiar). This suggests that the t-test might not be the correct method to use. Instead, conduct a Mann-Whitney test on the following hypotheses:\n",
    "$$\\begin{align}\n",
    "H_0: & m_{Europe} = m_{Oceania} \\\\\n",
    "H_1: & m_{Europe} \\neq m_{Oceania} \n",
    "\\end{align}$$\n",
    "In this case, $m$ represents the median of each group. Name the test object `EO_gdp_mann_whitney`."
   ]
  },
  {
   "cell_type": "code",
   "execution_count": 91,
   "metadata": {
    "deletable": false,
    "nbgrader": {
     "checksum": "565abee74f0ec327c13dbf1b15dcbb2d",
     "grade": false,
     "grade_id": "problem_2_mann_whitney_test",
     "locked": false,
     "schema_version": 1,
     "solution": true
    }
   },
   "outputs": [
    {
     "data": {
      "text/plain": [
       "\n",
       "\tWilcoxon rank sum test\n",
       "\n",
       "data:  EO_year_2007$gdpPercap[EO_year_2007$continent == \"Oceania\"] and EO_year_2007$gdpPercap[EO_year_2007$continent == \"Europe\"]\n",
       "W = 36, p-value = 0.6815\n",
       "alternative hypothesis: true location shift is not equal to 0\n"
      ]
     },
     "metadata": {},
     "output_type": "display_data"
    }
   ],
   "source": [
    "# YOUR CODE HERE\n",
    "EO_gdp_mann_whitney <- wilcox.test(EO_year_2007$gdpPercap[EO_year_2007$continent==\"Oceania\"], \n",
    "                                   EO_year_2007$gdpPercap[EO_year_2007$continent==\"Europe\"]\n",
    "                                   )\n",
    "EO_gdp_mann_whitney"
   ]
  },
  {
   "cell_type": "markdown",
   "metadata": {},
   "source": [
    "Finally, check to see that the test was conducted correctly:"
   ]
  },
  {
   "cell_type": "code",
   "execution_count": 92,
   "metadata": {
    "collapsed": true,
    "deletable": false,
    "editable": false,
    "nbgrader": {
     "checksum": "51ba7b61a2ae832ecd6a83380d0305c1",
     "grade": true,
     "grade_id": "problem_2_mann_whitney_test_test",
     "locked": true,
     "points": 1,
     "schema_version": 1,
     "solution": false
    }
   },
   "outputs": [],
   "source": [
    "stopifnot(round(EO_gdp_mann_whitney$p.value,digits=3) == 0.681)"
   ]
  },
  {
   "cell_type": "markdown",
   "metadata": {},
   "source": [
    "Since the p-value is still much higher than a reasonable $\\alpha$-level (remember, this is usually set to 0.05), the medians of the two groups are not significantly different. "
   ]
  },
  {
   "cell_type": "markdown",
   "metadata": {},
   "source": [
    "---\n",
    "\n",
    "# Problem 3\n",
    "\n",
    "In the context of hypothesis testing using data in a contingency table, a test of proportions can be used when the dimensions of the tables are $2 \\times 2$ or $1 \\times 2$, though data in the latter case are rarely represented in a contingency table. However, if the contingency table has dimensions greater then $2 \\times 2$, a test of proportions won't work without simplifying the table, as was done in Problem 1. For a higher-dimension contingency table, Pearson's $\\chi^2$ test can be used. In order to show this, begin by again subsetting the `gapminder` data to look at only the information from the year 2007. In addition, use the `cut` function to create a new variable *within* the subsetted data frame called `gdp_bin` such that the `gdpPercap` variable is grouped by whether the GDP per capita is in the sets (0,10000], (10000,20000], (20000,30000], (30000,40000], or (40000,50000]. Name the subsetted data frame `problem_3`. Note that R will name the bins using scientific notation for the numbers by default. This should not be changed."
   ]
  },
  {
   "cell_type": "code",
   "execution_count": 93,
   "metadata": {
    "deletable": false,
    "nbgrader": {
     "checksum": "a1e568bf3de8570fe6ae2fadc2b303fe",
     "grade": false,
     "grade_id": "problem_3_data",
     "locked": false,
     "schema_version": 1,
     "solution": true
    }
   },
   "outputs": [
    {
     "data": {
      "text/html": [
       "<table>\n",
       "<thead><tr><th scope=col>country</th><th scope=col>continent</th><th scope=col>year</th><th scope=col>lifeExp</th><th scope=col>pop</th><th scope=col>gdpPercap</th><th scope=col>gdp_bin</th></tr></thead>\n",
       "<tbody>\n",
       "\t<tr><td>Afghanistan  </td><td>Asia         </td><td>2007         </td><td>43.828       </td><td>31889923     </td><td>  974.5803   </td><td>(0,1e+04]    </td></tr>\n",
       "\t<tr><td>Albania      </td><td>Europe       </td><td>2007         </td><td>76.423       </td><td> 3600523     </td><td> 5937.0295   </td><td>(0,1e+04]    </td></tr>\n",
       "\t<tr><td>Algeria      </td><td>Africa       </td><td>2007         </td><td>72.301       </td><td>33333216     </td><td> 6223.3675   </td><td>(0,1e+04]    </td></tr>\n",
       "\t<tr><td>Angola       </td><td>Africa       </td><td>2007         </td><td>42.731       </td><td>12420476     </td><td> 4797.2313   </td><td>(0,1e+04]    </td></tr>\n",
       "\t<tr><td>Argentina    </td><td>Americas     </td><td>2007         </td><td>75.320       </td><td>40301927     </td><td>12779.3796   </td><td>(1e+04,2e+04]</td></tr>\n",
       "\t<tr><td>Australia    </td><td>Oceania      </td><td>2007         </td><td>81.235       </td><td>20434176     </td><td>34435.3674   </td><td>(3e+04,4e+04]</td></tr>\n",
       "</tbody>\n",
       "</table>\n"
      ],
      "text/latex": [
       "\\begin{tabular}{r|lllllll}\n",
       " country & continent & year & lifeExp & pop & gdpPercap & gdp\\_bin\\\\\n",
       "\\hline\n",
       "\t Afghanistan     & Asia            & 2007            & 43.828          & 31889923        &   974.5803      & (0,1e+04{]}    \\\\\n",
       "\t Albania         & Europe          & 2007            & 76.423          &  3600523        &  5937.0295      & (0,1e+04{]}    \\\\\n",
       "\t Algeria         & Africa          & 2007            & 72.301          & 33333216        &  6223.3675      & (0,1e+04{]}    \\\\\n",
       "\t Angola          & Africa          & 2007            & 42.731          & 12420476        &  4797.2313      & (0,1e+04{]}    \\\\\n",
       "\t Argentina       & Americas        & 2007            & 75.320          & 40301927        & 12779.3796      & (1e+04,2e+04{]}\\\\\n",
       "\t Australia       & Oceania         & 2007            & 81.235          & 20434176        & 34435.3674      & (3e+04,4e+04{]}\\\\\n",
       "\\end{tabular}\n"
      ],
      "text/markdown": [
       "\n",
       "country | continent | year | lifeExp | pop | gdpPercap | gdp_bin | \n",
       "|---|---|---|---|---|---|\n",
       "| Afghanistan   | Asia          | 2007          | 43.828        | 31889923      |   974.5803    | (0,1e+04]     | \n",
       "| Albania       | Europe        | 2007          | 76.423        |  3600523      |  5937.0295    | (0,1e+04]     | \n",
       "| Algeria       | Africa        | 2007          | 72.301        | 33333216      |  6223.3675    | (0,1e+04]     | \n",
       "| Angola        | Africa        | 2007          | 42.731        | 12420476      |  4797.2313    | (0,1e+04]     | \n",
       "| Argentina     | Americas      | 2007          | 75.320        | 40301927      | 12779.3796    | (1e+04,2e+04] | \n",
       "| Australia     | Oceania       | 2007          | 81.235        | 20434176      | 34435.3674    | (3e+04,4e+04] | \n",
       "\n",
       "\n"
      ],
      "text/plain": [
       "  country     continent year lifeExp pop      gdpPercap  gdp_bin      \n",
       "1 Afghanistan Asia      2007 43.828  31889923   974.5803 (0,1e+04]    \n",
       "2 Albania     Europe    2007 76.423   3600523  5937.0295 (0,1e+04]    \n",
       "3 Algeria     Africa    2007 72.301  33333216  6223.3675 (0,1e+04]    \n",
       "4 Angola      Africa    2007 42.731  12420476  4797.2313 (0,1e+04]    \n",
       "5 Argentina   Americas  2007 75.320  40301927 12779.3796 (1e+04,2e+04]\n",
       "6 Australia   Oceania   2007 81.235  20434176 34435.3674 (3e+04,4e+04]"
      ]
     },
     "metadata": {},
     "output_type": "display_data"
    }
   ],
   "source": [
    "library(gapminder)\n",
    "data(\"gapminder\")\n",
    "year_2007 <- gapminder[gapminder$year == 2007,]\n",
    "\n",
    "gdp_bin <- cut(year_2007$gdpPercap, c(0,10000,20000,30000,40000,50000))\n",
    "\n",
    "problem_3 <- cbind(year_2007,gdp_bin)\n",
    "\n",
    "head(problem_3)"
   ]
  },
  {
   "cell_type": "markdown",
   "metadata": {},
   "source": [
    "Check to make sure this was done correctly:"
   ]
  },
  {
   "cell_type": "code",
   "execution_count": 94,
   "metadata": {
    "collapsed": true,
    "deletable": false,
    "editable": false,
    "nbgrader": {
     "checksum": "755fc13845641c8d4d36d0b40b8cbbd9",
     "grade": true,
     "grade_id": "problem_3_data_test",
     "locked": true,
     "points": 1,
     "schema_version": 1,
     "solution": false
    }
   },
   "outputs": [],
   "source": [
    "stopifnot(table(problem_3$continent,problem_3$gdp_bin) == structure(c(47L, 16L, 20L, 5L, 0L, 5L, 7L, 3L, 6L, 0L, 0L, 0L, \n",
    "6L, 6L, 1L, 0L, 1L, 2L, 11L, 1L, 0L, 1L, 2L, 2L, 0L), .Dim = c(5L, \n",
    "5L), .Dimnames = structure(list(c(\"Africa\", \"Americas\", \"Asia\", \n",
    "\"Europe\", \"Oceania\"), c(\"(0,1e+04]\", \"(1e+04,2e+04]\", \"(2e+04,3e+04]\", \n",
    "\"(3e+04,4e+04]\", \"(4e+04,5e+04]\")), .Names = c(\"\", \"\")), class = \"table\"))"
   ]
  },
  {
   "cell_type": "markdown",
   "metadata": {},
   "source": [
    "Now conduct Pearson's $\\chi^2$ test to see if there is an association between which continent a country is on and its GDP per capita. Name the test object `gdp_continent_chisq`. Do not change any of the default options for the test in R. Note: R will return a warning message for this test because there are cells in the contingency table with small expected values. Ignore this warning in this assignment, but not in research!"
   ]
  },
  {
   "cell_type": "code",
   "execution_count": 95,
   "metadata": {
    "deletable": false,
    "nbgrader": {
     "checksum": "f9b74911c6c0c580e71bc3dc7a56eb1f",
     "grade": false,
     "grade_id": "problem_3_test",
     "locked": false,
     "schema_version": 1,
     "solution": true
    }
   },
   "outputs": [
    {
     "name": "stderr",
     "output_type": "stream",
     "text": [
      "Warning message in chisq.test(continent_GDPbin_table):\n",
      "\"Chi-squared approximation may be incorrect\""
     ]
    },
    {
     "data": {
      "text/plain": [
       "\n",
       "\tPearson's Chi-squared test\n",
       "\n",
       "data:  continent_GDPbin_table\n",
       "X-squared = 73.731, df = 16, p-value = 2.197e-09\n"
      ]
     },
     "metadata": {},
     "output_type": "display_data"
    }
   ],
   "source": [
    "continent_GDPbin_table <- table(problem_3$continent, problem_3$gdp_bin)\n",
    "gdp_continent_chisq <- chisq.test(continent_GDPbin_table)\n",
    "gdp_continent_chisq"
   ]
  },
  {
   "cell_type": "markdown",
   "metadata": {},
   "source": [
    "Finally, check to see that the test performed correctly: "
   ]
  },
  {
   "cell_type": "code",
   "execution_count": 96,
   "metadata": {
    "collapsed": true,
    "deletable": false,
    "editable": false,
    "nbgrader": {
     "checksum": "9b16350594063046b4605e99989932fb",
     "grade": true,
     "grade_id": "problem_3_test_test",
     "locked": true,
     "points": 1,
     "schema_version": 1,
     "solution": false
    }
   },
   "outputs": [],
   "source": [
    "stopifnot(round(gdp_continent_chisq$statistic,digits=3) == structure(73.731, .Names = \"X-squared\"))"
   ]
  },
  {
   "cell_type": "markdown",
   "metadata": {},
   "source": [
    "Based on this test, there is a clear relationship!"
   ]
  }
 ],
 "metadata": {
  "anaconda-cloud": {},
  "kernelspec": {
   "display_name": "R",
   "language": "R",
   "name": "ir"
  },
  "language_info": {
   "codemirror_mode": "r",
   "file_extension": ".r",
   "mimetype": "text/x-r-source",
   "name": "R",
   "pygments_lexer": "r",
   "version": "3.4.1"
  }
 },
 "nbformat": 4,
 "nbformat_minor": 2
}
