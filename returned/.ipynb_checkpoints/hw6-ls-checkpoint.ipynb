{
 "cells": [
  {
   "cell_type": "markdown",
   "metadata": {},
   "source": [
    "Before you turn this problem set in, make sure everything runs as expected. First, **restart the kernel** (in the menubar, select Kernel$\\rightarrow$Restart) and then **run all cells** (in the menubar, select Cell$\\rightarrow$Run All). Note that in code sections, you must replace `stop(\"Not Implemented\")` with your code. Otherwise, you will have points automatically deducted in the grading process.\n",
    "\n",
    "**Please do not rename this file.**\n",
    "\n",
    "Make sure you fill in any place that says `YOUR CODE HERE` or \"YOUR ANSWER/EXPLANATION HERE\". In addition, please do not include your name on this assignment to ensure anonymity for the peer reviews."
   ]
  },
  {
   "cell_type": "markdown",
   "metadata": {},
   "source": [
    "---"
   ]
  },
  {
   "cell_type": "markdown",
   "metadata": {
    "deletable": false,
    "editable": false,
    "nbgrader": {
     "checksum": "844e0c0971333937c7e5303036ef88dc",
     "grade": false,
     "grade_id": "cell-095b40b97053f150",
     "locked": true,
     "schema_version": 1,
     "solution": false
    }
   },
   "source": [
    "# Problem 1\n",
    "\n",
    "This assignment will focus on visualization techniques and plotting. In order to access the datasets used, please run the following code:"
   ]
  },
  {
   "cell_type": "code",
   "execution_count": 1,
   "metadata": {},
   "outputs": [],
   "source": [
    "# This will install the package\n",
    "# Remember: you may need to specify the repository (repo) used\n",
    "# depending on your computer's configuration.\n",
    "# Type `?install.packages` in R to learn more.\n",
    "# install.packages(\"Lock5Data\")\n",
    "# Now load the package\n",
    "library(Lock5Data)"
   ]
  },
  {
   "cell_type": "markdown",
   "metadata": {
    "deletable": false,
    "editable": false,
    "nbgrader": {
     "checksum": "a39fdfd77a3c6681626cd532c1b945b2",
     "grade": false,
     "grade_id": "cell-252cdea351ee31f6",
     "locked": true,
     "schema_version": 1,
     "solution": false
    }
   },
   "source": [
    "First, look at the `AllCountries` dataset (not `AllCountries1e`). For more information on this dataset and the variables in it, type `?AllCountries` into R after the `Lock5Data` package has been loaded. Follow the best practices from lesson 6 to make a plot that demonstrates the relationship between the percent of the country that has access to the Internet (`Internet` variable) and HIV infection rate (`HIV` variable). In particular, remember to\n",
    "\n",
    "- Choose an appropriate plot type\n",
    "- Label axes properly\n",
    "- Ensure the proper use of a scale\n",
    "- Make the plot aesthetically pleasing\n",
    "- Label points that represent extreme or unexpected combinations of values\n",
    "- Include source information\n",
    "- Most importantly, make sure the code to produce the plot works\n",
    "\n",
    "Extra credit may be given to plots that have additional useful information that is effectively communicated."
   ]
  },
  {
   "cell_type": "code",
   "execution_count": 2,
   "metadata": {
    "deletable": false,
    "nbgrader": {
     "checksum": "a07a1b7d623f1a0943d6d7b68a1426fd",
     "grade": true,
     "grade_id": "cell-9098b06bfe6002b5",
     "locked": false,
     "points": 6,
     "schema_version": 1,
     "solution": true
    },
    "scrolled": false
   },
   "outputs": [
    {
     "data": {
      "image/png": "[encoded data removed]",
      "text/plain": [
       "plot without title"
      ]
     },
     "metadata": {},
     "output_type": "display_data"
    }
   ],
   "source": [
    "data(\"AllCountries\")\n",
    "\n",
    "# subset the data \n",
    "x = AllCountries$HIV\n",
    "y = AllCountries$Internet\n",
    "names = AllCountries$Country\n",
    "\n",
    "# plot the data\n",
    "plot(x, y, xlab=\"HIV infection (% population)\", ylab=\"Internet access (% population)\", xlim=c(0,100))\n",
    "\n",
    "### Labeling unexpected or extreme values:\n",
    "# I found the indices of the points I want to label using RStudio, since identify() does not work in Jupyter.\n",
    "\n",
    "label1 = 53 \n",
    "label2 = 175 \n",
    "label3 = 185\n",
    "\n",
    "text(AllCountries[label1,14], AllCountries[label1,12], labels=AllCountries[label1,1], pos=4)\n",
    "text(AllCountries[label2,14], AllCountries[label2,12], labels=AllCountries[label2,1], pos=4)\n",
    "text(AllCountries[label3,14], AllCountries[label3,12], labels=AllCountries[label3,1], pos=4)\n",
    "\n",
    "# add source\n",
    "mtext(side=1, line=4, at=92, text=\"Source:  Lock5Data R Package\", las=1, cex=0.5)\n",
    "\n",
    "\n"
   ]
  },
  {
   "cell_type": "markdown",
   "metadata": {
    "deletable": false,
    "editable": false,
    "nbgrader": {
     "checksum": "b86036b63ede295b944f877fa9e59538",
     "grade": false,
     "grade_id": "cell-e306ce669e1b5dfe",
     "locked": true,
     "schema_version": 1,
     "solution": false
    }
   },
   "source": [
    "---\n",
    "\n",
    "\n",
    "# Problem 2\n",
    "\n",
    "Next, examine the `BikeCommute` data set. These data describe a six-month experiment by Dr. Jeremy Groves. In his experiment, two bicycles were randomly selected for the doctor's 27-mile round trip commute on a given day. The experiment was designed to test the differences in using a steel-frame versus a carbon-frame bike, with everything else on the two bicycles being held equal. Using the data in the data frame, create a **single** visualization that illustrates the change in average speed (`AvgSpeed`) over time. As in the last problem, remember to\n",
    "\n",
    "- Choose an appropriate plot type\n",
    "- Label axes properly\n",
    "- Ensure the proper use of a scale\n",
    "- Make the plot aesthetically pleasing\n",
    "- Label points that represent extreme or unexpected combinations of values\n",
    "- Include source information\n",
    "- Most importantly, make sure the code to produce the plot works\n",
    "\n",
    "In order to simplify your plotting, the `Date` variable is changed from a factor to an object of class `Date` in R. Extra credit may be given to plots that have additional useful information that is effectively communicated."
   ]
  },
  {
   "cell_type": "code",
   "execution_count": 3,
   "metadata": {
    "deletable": false,
    "nbgrader": {
     "checksum": "273a4e6c32e36bfc02ec4828500fe73b",
     "grade": true,
     "grade_id": "cell-8cca00e5a2ee064a",
     "locked": false,
     "points": 6,
     "schema_version": 1,
     "solution": true
    }
   },
   "outputs": [
    {
     "data": {
      "image/png": "[encoded data removed]",
      "text/plain": [
       "plot without title"
      ]
     },
     "metadata": {},
     "output_type": "display_data"
    }
   ],
   "source": [
    "library(Lock5Data)\n",
    "data(\"BikeCommute\")\n",
    "\n",
    "BikeCommute$Date <- as.Date(BikeCommute$Date,format = \"%d/%m/%y\")\n",
    "\n",
    "# subset the data\n",
    "x = BikeCommute$Date\n",
    "y = BikeCommute$AvgSpeed\n",
    "\n",
    "# plot the data\n",
    "plot(x, y, col=c(\"red\",\"black\")[BikeCommute$Bike], xlab=\"\", ylab=\"Average Speed (miles/hour)\", pch=16,cex=1)\n",
    "legend(x=\"topleft\", legend = levels(BikeCommute$Bike), col=c(\"red\",\"black\"), pch=16)\n",
    "\n",
    "# add source\n",
    "mtext(side=1, line=4, text=\"Source:  Lock5Data R Package\", las=1, cex=0.5)"
   ]
  },
  {
   "cell_type": "code",
   "execution_count": null,
   "metadata": {
    "collapsed": true
   },
   "outputs": [],
   "source": []
  }
 ],
 "metadata": {
  "kernelspec": {
   "display_name": "R",
   "language": "R",
   "name": "ir"
  },
  "language_info": {
   "codemirror_mode": "r",
   "file_extension": ".r",
   "mimetype": "text/x-r-source",
   "name": "R",
   "pygments_lexer": "r",
   "version": "3.4.1"
  }
 },
 "nbformat": 4,
 "nbformat_minor": 1
}
