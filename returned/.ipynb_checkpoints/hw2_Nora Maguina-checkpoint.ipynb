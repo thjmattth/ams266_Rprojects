{
 "cells": [
  {
   "cell_type": "markdown",
   "metadata": {},
   "source": [
    "Before you turn this problem set in, make sure everything runs as expected. First, **restart the kernel** (in the menubar, select Kernel$\\rightarrow$Restart) and then **run all cells** (in the menubar, select Cell$\\rightarrow$Run All). Note that in code sections, you must replace `stop(\"Not Implemented\")` with your code. Otherwise, you will have points automatically deducted in the grading process.\n",
    "\n",
    "**Please do not rename this file.**\n",
    "\n",
    "Make sure you fill in any place that says `YOUR CODE HERE` or \"YOUR ANSWER/EXPLANATION HERE\", as well as your name below:"
   ]
  },
  {
   "cell_type": "code",
   "execution_count": 1,
   "metadata": {
    "collapsed": true
   },
   "outputs": [],
   "source": [
    "NAME = \"Nora Rossana Maguina Conde\""
   ]
  },
  {
   "cell_type": "markdown",
   "metadata": {},
   "source": [
    "---"
   ]
  },
  {
   "cell_type": "markdown",
   "metadata": {
    "deletable": false,
    "editable": false,
    "nbgrader": {
     "checksum": "ba411a1e5d2344c75a0e0ec7dfc192e6",
     "grade": false,
     "grade_id": "problem_1",
     "locked": true,
     "schema_version": 1,
     "solution": false
    }
   },
   "source": [
    "# Problem 1\n",
    "\n",
    "The data frame `iris` is built into base R. Write code to create two data frames:\n",
    "\n",
    "- One data frame with only the setosa and virginica species. Give this data frame the name `SV`. Remove the `Petal.Width` variable from the data frame.\n",
    "- One data frame with only the versicolor and virginica species. Give this data frame the name `VV`. Remove the `Sepal.Length` variable from this data frame. \n",
    "\n",
    "Hint: This is easiest using the `subset` function."
   ]
  },
  {
   "cell_type": "code",
   "execution_count": 2,
   "metadata": {
    "deletable": false,
    "nbgrader": {
     "checksum": "bfea71d7a91219d07b35184c5adb958b",
     "grade": true,
     "grade_id": "problem_1_code",
     "locked": false,
     "points": 1,
     "schema_version": 1,
     "solution": true
    }
   },
   "outputs": [
    {
     "ename": "ERROR",
     "evalue": "Error in eval(expr, envir, enclos): Not Implemented\n",
     "output_type": "error",
     "traceback": [
      "Error in eval(expr, envir, enclos): Not Implemented\nTraceback:\n",
      "1. stop(\"Not Implemented\")"
     ]
    }
   ],
   "source": [
    "# Load the data into the R workspace\n",
    "data(\"iris\") # Note that the data frame name must be in quotes\n",
    "# YOUR CODE HERE\n",
    "sv <- subset(iris, Species == \"setosa\" | Species == \"virginica\")\n",
    "subset(sv, select = -Petal.Width)\n",
    "vv <- subset(iris, Species == \"versicolor\" | Species == \"virginica\")\n",
    "subset(vv, select = -Sepal.Length)"
   ]
  },
  {
   "cell_type": "markdown",
   "metadata": {
    "deletable": false,
    "editable": false,
    "nbgrader": {
     "checksum": "d122e16eee46ad0383e725f903f44806",
     "grade": false,
     "grade_id": "problem_1_part_2",
     "locked": true,
     "schema_version": 1,
     "solution": false
    }
   },
   "source": [
    "Note that the `iris` dataset includes 50 observations from each of the three species."
   ]
  },
  {
   "cell_type": "code",
   "execution_count": null,
   "metadata": {
    "collapsed": true,
    "deletable": false,
    "editable": false,
    "nbgrader": {
     "checksum": "e61ec7d21678615433ad5d7b12bc4318",
     "grade": false,
     "grade_id": "problem_1_iris_species_table",
     "locked": true,
     "schema_version": 1,
     "solution": false
    }
   },
   "outputs": [],
   "source": [
    "table(iris$Species)"
   ]
  },
  {
   "cell_type": "markdown",
   "metadata": {
    "deletable": false,
    "editable": false,
    "nbgrader": {
     "checksum": "5211380de8b7176bbadc99ae4fe1c94b",
     "grade": false,
     "grade_id": "problem_1_part_3",
     "locked": true,
     "schema_version": 1,
     "solution": false
    }
   },
   "source": [
    "Explain why the following merge has 66 observations for the virginica species."
   ]
  },
  {
   "cell_type": "code",
   "execution_count": null,
   "metadata": {
    "collapsed": true,
    "deletable": false,
    "editable": false,
    "nbgrader": {
     "checksum": "06263eb60373a5a1e2befe1d4e17bd92",
     "grade": false,
     "grade_id": "problem_1_merge_species_table",
     "locked": true,
     "schema_version": 1,
     "solution": false
    }
   },
   "outputs": [],
   "source": [
    "SV_VV_merge <- merge(SV,VV,all=TRUE)\n",
    "table(SV_VV_merge$Species)"
   ]
  },
  {
   "cell_type": "markdown",
   "metadata": {
    "collapsed": true,
    "deletable": false,
    "nbgrader": {
     "checksum": "48118c945930f2ff576c8b8b230ea5b1",
     "grade": true,
     "grade_id": "problem_1_outer_join",
     "locked": false,
     "points": 1,
     "schema_version": 1,
     "solution": true
    }
   },
   "source": [
    "It's because the output is giving me an extra row for each row that has not exact matching."
   ]
  },
  {
   "cell_type": "markdown",
   "metadata": {
    "deletable": false,
    "editable": false,
    "nbgrader": {
     "checksum": "4e5afc3f8d3bc1a7bb02dddb80fa869a",
     "grade": false,
     "grade_id": "problem_2_part_1",
     "locked": true,
     "schema_version": 1,
     "solution": false
    }
   },
   "source": [
    "---\n",
    "\n",
    "# Problem 2\n",
    "\n",
    "Create a new environment named `giga`, and within this environment, create the following objects:\n",
    "\n",
    "- A numeric vector of all of the numbers between 1 and 5 named `a`\n",
    "- A logical (TRUE/FALSE) vector with 5 elements. Name this vector `b`.\n",
    "- A $3 \\times 2$ character matrix of your favorite colors (Pro tip: Base R recognizes 657 colors and hues by name, including `cornflowerblue`. You can see all of these names by running the command `colors()`.). Name this character matrix `my_cols`.\n",
    "- An environment named `mega`, which contains a numeric vector of all of the numbers between 6 and 9 named `a`."
   ]
  },
  {
   "cell_type": "code",
   "execution_count": null,
   "metadata": {
    "collapsed": true,
    "deletable": false,
    "nbgrader": {
     "checksum": "9ae9c43ca04a040b2ea596474185b92d",
     "grade": true,
     "grade_id": "problem_2_part_1_code",
     "locked": false,
     "points": 1,
     "schema_version": 1,
     "solution": true
    }
   },
   "outputs": [],
   "source": [
    "# YOUR CODE HERE\n",
    "giga <- new.env()\n",
    "giga$a <- 1:5\n",
    "giga$b <- c(FALSE, TRUE, TRUE, TRUE, FALSE)\n",
    "giga$my_cols <- matrix(c(\"white\", \"red\", \"blue\", \"green\", \"coral\", \"gold\"), nrow=3, ncol=2)\n",
    "giga$mega <- new.env(); mega$a = 6:9"
   ]
  },
  {
   "cell_type": "markdown",
   "metadata": {
    "deletable": false,
    "editable": false,
    "nbgrader": {
     "checksum": "0fae0d3e40ace18a9ce7efa65e766492",
     "grade": false,
     "grade_id": "problem_2_part_2",
     "locked": true,
     "schema_version": 1,
     "solution": false
    }
   },
   "source": [
    "What does the message following this code mean?"
   ]
  },
  {
   "cell_type": "code",
   "execution_count": null,
   "metadata": {
    "collapsed": true,
    "deletable": false,
    "editable": false,
    "nbgrader": {
     "checksum": "52a906aecd49b0cfb76ece238ddf035f",
     "grade": false,
     "grade_id": "problem_2_part_2_code",
     "locked": true,
     "schema_version": 1,
     "solution": false
    }
   },
   "outputs": [],
   "source": [
    "attach(giga)\n",
    "attach(mega)"
   ]
  },
  {
   "cell_type": "markdown",
   "metadata": {
    "deletable": false,
    "nbgrader": {
     "checksum": "2c805c358470741b21a427c75a1a4145",
     "grade": true,
     "grade_id": "problem_2_part_2_explain",
     "locked": false,
     "points": 1,
     "schema_version": 1,
     "solution": true
    }
   },
   "source": [
    "The attach(x) command tells R that one will be working only within that environment \"x\". The message I get is: The following object is masked _by_ .GlobalEnv: a\n",
    "It means that the object is coming from a different environment."
   ]
  },
  {
   "cell_type": "markdown",
   "metadata": {
    "deletable": false,
    "editable": false,
    "nbgrader": {
     "checksum": "e8c877ae83199a23615e7041d4b8d784",
     "grade": false,
     "grade_id": "problem_2_part_3_detaching",
     "locked": true,
     "schema_version": 1,
     "solution": false
    }
   },
   "source": [
    "Let's detach the environments again."
   ]
  },
  {
   "cell_type": "code",
   "execution_count": null,
   "metadata": {
    "collapsed": true,
    "deletable": false,
    "editable": false,
    "nbgrader": {
     "checksum": "e4264c64b79f34dab861e65e4bf330c8",
     "grade": false,
     "grade_id": "problem_2_part_3_detaching_code",
     "locked": true,
     "schema_version": 1,
     "solution": false
    }
   },
   "outputs": [],
   "source": [
    "detach(mega)\n",
    "detach(giga)"
   ]
  },
  {
   "cell_type": "markdown",
   "metadata": {
    "deletable": false,
    "editable": false,
    "nbgrader": {
     "checksum": "56bea8ae89035a1cf182cc90fb50dfc5",
     "grade": false,
     "grade_id": "problem_2_part_3",
     "locked": true,
     "schema_version": 1,
     "solution": false
    }
   },
   "source": [
    "Why doesn't this work?"
   ]
  },
  {
   "cell_type": "code",
   "execution_count": null,
   "metadata": {
    "collapsed": true,
    "deletable": false,
    "editable": false,
    "nbgrader": {
     "checksum": "fe5f6c3633bd9dca8866a9c30d2f70b8",
     "grade": false,
     "grade_id": "problem_2_part_3_code",
     "locked": true,
     "schema_version": 1,
     "solution": false
    }
   },
   "outputs": [],
   "source": [
    "attach(mega)\n",
    "attach(giga)"
   ]
  },
  {
   "cell_type": "markdown",
   "metadata": {
    "deletable": false,
    "nbgrader": {
     "checksum": "cb4b9fdad4d895c6e211d39a1e08c65f",
     "grade": true,
     "grade_id": "problem_2_part_3_explain",
     "locked": false,
     "points": 1,
     "schema_version": 1,
     "solution": true
    }
   },
   "source": [
    "Because there is an object with the same name in both environments (object \"a\")"
   ]
  },
  {
   "cell_type": "markdown",
   "metadata": {
    "deletable": false,
    "editable": false,
    "nbgrader": {
     "checksum": "35c98b02d2347b620d3a67933eb1d226",
     "grade": false,
     "grade_id": "problem_3",
     "locked": true,
     "schema_version": 1,
     "solution": false
    }
   },
   "source": [
    "---\n",
    "\n",
    "# Problem 3\n",
    "\n",
    "For this problem, you will need the `Grade_Example.xlsx` file, which will be posted on Canvas. This Excel workbook contains three sheets, `Worksheets_and_Quizzes`, `Labs`, and `Exams`. Make the appropriate adjustments to the Excel spreadsheet and read each of the three sheets into three data frames, named `quiz`, `lab`, and `exam`, respectively. Note that there is a header for all of these sheets in Excel. The data in this workbook includes a student's unique ID and their grades on assignments and exams in an elementary statistics class. "
   ]
  },
  {
   "cell_type": "code",
   "execution_count": null,
   "metadata": {
    "collapsed": true,
    "deletable": false,
    "nbgrader": {
     "checksum": "2c79fe36995f49b1eefec6bdfe5043e0",
     "grade": true,
     "grade_id": "problem_3_part_1_code",
     "locked": false,
     "points": 1,
     "schema_version": 1,
     "solution": true
    }
   },
   "outputs": [],
   "source": [
    "# YOUR CODE HERE\n",
    "quiz = read.table(file=\"Quizzes.csv\", sep = \",\", header = TRUE)\n",
    "lab = read.table(file=\"Labs.csv\", sep = \",\", header = TRUE)\n",
    "exam = read.table(file=\"Exams.csv\", sep = \",\", header = TRUE)"
   ]
  },
  {
   "cell_type": "markdown",
   "metadata": {
    "deletable": false,
    "editable": false,
    "nbgrader": {
     "checksum": "f42c7a12961ddc60f7ac9498fd558375",
     "grade": false,
     "grade_id": "problem_3_part_2",
     "locked": true,
     "schema_version": 1,
     "solution": false
    }
   },
   "source": [
    "The following code performs a left join and a right join on the lab and quiz data frames. Why does the left join have fewer rows than the right join?"
   ]
  },
  {
   "cell_type": "code",
   "execution_count": null,
   "metadata": {
    "collapsed": true,
    "deletable": false,
    "editable": false,
    "nbgrader": {
     "checksum": "491438d5fc110b31a9d1ffd9a2465709",
     "grade": false,
     "grade_id": "problem_3_part_2_code",
     "locked": true,
     "schema_version": 1,
     "solution": false
    }
   },
   "outputs": [],
   "source": [
    "left <- merge(lab,quiz,all.x=TRUE)\n",
    "right <- merge(lab,quiz,all.y=TRUE)\n",
    "dim(left)\n",
    "dim(right)"
   ]
  },
  {
   "cell_type": "markdown",
   "metadata": {
    "deletable": false,
    "nbgrader": {
     "checksum": "8276347447b3e7d5402185a6e49f9bbc",
     "grade": true,
     "grade_id": "problem_3_part_2_explain",
     "locked": false,
     "points": 1,
     "schema_version": 1,
     "solution": true
    }
   },
   "source": [
    "The left join has fewer rows thant the right join because in the case of the \"right\" element the command is telling that all quiz' rows have a matching row with lab' rows, which is not true, that is why it adds an additional row. Lab has 28 rows, whereas quiz has 29 rows. "
   ]
  },
  {
   "cell_type": "markdown",
   "metadata": {
    "deletable": false,
    "editable": false,
    "nbgrader": {
     "checksum": "6f72d8bb37e0b10ceca1c7908b89cab0",
     "grade": false,
     "grade_id": "problem_3_part_3",
     "locked": true,
     "schema_version": 1,
     "solution": false
    }
   },
   "source": [
    "Join all three data frames together into one data frame names `grades`. Be sure that all of the students are included in the `grades` data frame!"
   ]
  },
  {
   "cell_type": "code",
   "execution_count": 5,
   "metadata": {
    "deletable": false,
    "nbgrader": {
     "checksum": "247f33ae08dd130d7448ed54c220f405",
     "grade": false,
     "grade_id": "problem_3_part_3_code",
     "locked": false,
     "schema_version": 1,
     "solution": true
    }
   },
   "outputs": [
    {
     "ename": "ERROR",
     "evalue": "Error in merge(lab, quiz, all.y = TRUE): object 'lab' not found\n",
     "output_type": "error",
     "traceback": [
      "Error in merge(lab, quiz, all.y = TRUE): object 'lab' not found\nTraceback:\n",
      "1. merge(lab, quiz, all.y = TRUE)"
     ]
    }
   ],
   "source": [
    "# YOUR CODE HERE\n",
    "right <- merge(lab, quiz, all.y=TRUE)\n",
    "grades <- merge(right, exam, all=TRUE)\n",
    "grades[is.na(grades)] <- 0 #Change the grades data frame so that the missing data (NA) are all zeros."
   ]
  },
  {
   "cell_type": "markdown",
   "metadata": {
    "deletable": false,
    "editable": false,
    "nbgrader": {
     "checksum": "c9af218a1317aeaecd9e7555dbc1220c",
     "grade": false,
     "grade_id": "problem_3_part_4",
     "locked": true,
     "schema_version": 1,
     "solution": false
    }
   },
   "source": [
    "Change the `grades` data frame so that the missing data (`NA`) are all zeros.\n",
    "\n",
    "Hint: Use the `is.na` function in R to identify which cells in the data frame are missing data."
   ]
  },
  {
   "cell_type": "code",
   "execution_count": null,
   "metadata": {
    "collapsed": true,
    "deletable": false,
    "editable": false,
    "nbgrader": {
     "checksum": "a334878bfe420f8b97ae2098ffb6e4c8",
     "grade": true,
     "grade_id": "problem_3_part_4_test",
     "locked": true,
     "points": 1,
     "schema_version": 1,
     "solution": false
    }
   },
   "outputs": [],
   "source": [
    "# This will test to see that you have the correct number of students\n",
    "stopifnot(dim(grades)[1] == 29)"
   ]
  },
  {
   "cell_type": "markdown",
   "metadata": {
    "deletable": false,
    "editable": false,
    "nbgrader": {
     "checksum": "844fd00affc9157faf6e93e247a8cc0e",
     "grade": false,
     "grade_id": "problem_4",
     "locked": true,
     "schema_version": 1,
     "solution": false
    }
   },
   "source": [
    "---\n",
    "\n",
    "# Problem 4\n",
    "\n",
    "If `b <- list(one = c(\"Santa\",\"Cruz\",\"California\",\"UCSC\",\"Go Slugs!\"), two = 1:5, three=c(FALSE,FALSE,TRUE))`, write an R expression that will give all elements, except the second, of `b`."
   ]
  },
  {
   "cell_type": "code",
   "execution_count": null,
   "metadata": {
    "collapsed": true,
    "deletable": false,
    "nbgrader": {
     "checksum": "0ec1f76e4e28585f195f3f8db9456b83",
     "grade": true,
     "grade_id": "problem_4_code",
     "locked": false,
     "points": 1,
     "schema_version": 1,
     "solution": true
    }
   },
   "outputs": [],
   "source": [
    "b <- list(one = c(\"Santa\",\"Cruz\",\"California\",\"UCSC\",\"Go Slugs!\"), two = 1:5, three=c(FALSE,FALSE,TRUE))\n",
    "# YOUR CODE HERE\n",
    "b[c(1,3)]"
   ]
  },
  {
   "cell_type": "markdown",
   "metadata": {
    "deletable": false,
    "editable": false,
    "nbgrader": {
     "checksum": "e831ec9a6ea8976ce67c567e602a408d",
     "grade": false,
     "grade_id": "problem_5",
     "locked": true,
     "schema_version": 1,
     "solution": false
    }
   },
   "source": [
    "---\n",
    "\n",
    "# Problem 5\n",
    "\n",
    "Let `my_text <- \"University of California, Santa Cruz\"`. Write code to split this string and return the following output:\n",
    "\n",
    "```\n",
    "[[1]]\n",
    "[1] \"University of California\"\n",
    "\n",
    "[[2]]\n",
    "[1] \"Santa Cruz\"\n",
    "```"
   ]
  },
  {
   "cell_type": "code",
   "execution_count": null,
   "metadata": {
    "collapsed": true,
    "deletable": false,
    "nbgrader": {
     "checksum": "54a70f5229b90558915893d66ea18725",
     "grade": true,
     "grade_id": "problem_5_code",
     "locked": false,
     "points": 1,
     "schema_version": 1,
     "solution": true
    }
   },
   "outputs": [],
   "source": [
    "my_text <- \"University of California, Santa Cruz\"\n",
    "# YOUR CODE HERE\n",
    "as.list(strsplit(my_text, \",\") [[1]])"
   ]
  },
  {
   "cell_type": "markdown",
   "metadata": {
    "deletable": false,
    "editable": false,
    "nbgrader": {
     "checksum": "1ae645597fa4579ae42ca5ab5f130270",
     "grade": false,
     "grade_id": "problem_6",
     "locked": true,
     "schema_version": 1,
     "solution": false
    }
   },
   "source": [
    "---\n",
    "\n",
    "# Problem 6\n",
    "\n",
    "For the following code, matrix-multiply the second and fourth list elements together. Name the matrix product `bayes`."
   ]
  },
  {
   "cell_type": "code",
   "execution_count": 6,
   "metadata": {
    "collapsed": true,
    "deletable": false,
    "nbgrader": {
     "checksum": "4729f9ab1680213e97037b483e404b0c",
     "grade": false,
     "grade_id": "problem_6_code",
     "locked": false,
     "schema_version": 1,
     "solution": true
    }
   },
   "outputs": [],
   "source": [
    "set.seed(8675309) # This ensures that the random numbers generated are the same for everyone\n",
    "the_list <- list(\n",
    "    abel = \"bayesian\",\n",
    "    abc = matrix(rnorm(6),3,2),\n",
    "    tommy = \"jenny\",\n",
    "    def = matrix(rnorm(6),2,3))\n",
    "# YOUR CODE HERE\n",
    "bayes <- the_list$abc %*% the_list$def\n",
    "bayes"
   ]
  },
  {
   "cell_type": "markdown",
   "metadata": {},
   "source": [
    "Now test to see that `bayes` has the correct dimensions."
   ]
  },
  {
   "cell_type": "code",
   "execution_count": null,
   "metadata": {
    "collapsed": true,
    "deletable": false,
    "editable": false,
    "nbgrader": {
     "checksum": "d7c6d76d6bbba45b7fd7c0a82ae03b1f",
     "grade": true,
     "grade_id": "problem_6_test",
     "locked": true,
     "points": 1,
     "schema_version": 1,
     "solution": false
    }
   },
   "outputs": [],
   "source": [
    "set.seed(8675309)\n",
    "stopifnot(dim(bayes) == c(3,3))"
   ]
  },
  {
   "cell_type": "markdown",
   "metadata": {
    "deletable": false,
    "editable": false,
    "nbgrader": {
     "checksum": "2cadb190a8ebbae71b17dc5bad5ba074",
     "grade": false,
     "grade_id": "problem_7",
     "locked": true,
     "schema_version": 1,
     "solution": false
    }
   },
   "source": [
    "---\n",
    "\n",
    "# Problem 7\n",
    "\n",
    "The list `x` appears in R as"
   ]
  },
  {
   "cell_type": "code",
   "execution_count": null,
   "metadata": {
    "collapsed": true,
    "deletable": false,
    "editable": false,
    "nbgrader": {
     "checksum": "4ed914bebf88b4c66bee07cec054289f",
     "grade": false,
     "grade_id": "problem_7_code",
     "locked": true,
     "schema_version": 1,
     "solution": false
    }
   },
   "outputs": [],
   "source": [
    "x <- list(do = c(1,9,6,5),\n",
    "         re = c(\"me\",\"fa\",\"so\"),\n",
    "         la = c(\"ti\",\"do\"))\n",
    "x"
   ]
  },
  {
   "cell_type": "markdown",
   "metadata": {},
   "source": [
    "Replace the character string 'me' with the string 'mi'."
   ]
  },
  {
   "cell_type": "code",
   "execution_count": null,
   "metadata": {
    "collapsed": true,
    "deletable": false,
    "nbgrader": {
     "checksum": "432262a4622582d7a278ac173819b80a",
     "grade": false,
     "grade_id": "problem_7_code_II",
     "locked": false,
     "schema_version": 1,
     "solution": true
    }
   },
   "outputs": [],
   "source": [
    "# YOUR CODE HERE\n",
    "sub(\"me\", \"mi\", x)"
   ]
  },
  {
   "cell_type": "code",
   "execution_count": null,
   "metadata": {
    "collapsed": true,
    "deletable": false,
    "editable": false,
    "nbgrader": {
     "checksum": "82e4572af3afea344c278e5e1846000d",
     "grade": true,
     "grade_id": "problem_7_test",
     "locked": true,
     "points": 1,
     "schema_version": 1,
     "solution": false
    }
   },
   "outputs": [],
   "source": [
    "# This chunk tests that the replacement worked"
   ]
  },
  {
   "cell_type": "markdown",
   "metadata": {
    "deletable": false,
    "editable": false,
    "nbgrader": {
     "checksum": "96fb481c2fe997ee2b0b743465be0019",
     "grade": false,
     "grade_id": "problem_8",
     "locked": true,
     "schema_version": 1,
     "solution": false
    }
   },
   "source": [
    "---\n",
    "\n",
    "# Problem 8\n",
    "\n",
    "Why does the following code produce an error?"
   ]
  },
  {
   "cell_type": "code",
   "execution_count": null,
   "metadata": {
    "collapsed": true,
    "deletable": false,
    "editable": false,
    "nbgrader": {
     "checksum": "36345deab3cb891946f623956d248638",
     "grade": false,
     "grade_id": "problem_8_error",
     "locked": true,
     "schema_version": 1,
     "solution": false
    }
   },
   "outputs": [],
   "source": [
    "santa_cruz <- new.env(\n",
    "    pizza = \"pizza my heart\",\n",
    "    thai = \"sabieng\",\n",
    "    beach = \"its\",\n",
    "    school = \"ucsc\",\n",
    "    park = \"wilder\")"
   ]
  },
  {
   "cell_type": "markdown",
   "metadata": {},
   "source": [
    "Change something in the first line to have the code assign the correct character strings to each name within an R object. "
   ]
  },
  {
   "cell_type": "code",
   "execution_count": null,
   "metadata": {
    "collapsed": true,
    "deletable": false,
    "nbgrader": {
     "checksum": "73d0c75f978467db4ffba9c7d4629520",
     "grade": false,
     "grade_id": "problem_8_code",
     "locked": false,
     "schema_version": 1,
     "solution": true
    }
   },
   "outputs": [],
   "source": [
    "# YOUR CODE HERE\n",
    "santa_cruz <- list(\n",
    "    pizza = \"pizza my heart\",\n",
    "    thai = \"sabieng\",\n",
    "    beach = \"its\",\n",
    "    school = \"ucsc\",\n",
    "    park = \"wilder\")"
   ]
  },
  {
   "cell_type": "markdown",
   "metadata": {},
   "source": [
    "Now test to see if it worked."
   ]
  },
  {
   "cell_type": "code",
   "execution_count": null,
   "metadata": {
    "collapsed": true,
    "deletable": false,
    "editable": false,
    "nbgrader": {
     "checksum": "449ec7ccdebbb35a7e37c19d94c6b2cf",
     "grade": true,
     "grade_id": "problem_8_test",
     "locked": true,
     "points": 1,
     "schema_version": 1,
     "solution": false
    }
   },
   "outputs": [],
   "source": [
    "stopifnot(santa_cruz$beach == 'its')"
   ]
  },
  {
   "cell_type": "markdown",
   "metadata": {
    "deletable": false,
    "editable": false,
    "nbgrader": {
     "checksum": "3391d794683e42120e49ccd784529784",
     "grade": false,
     "grade_id": "problem_9_part_1",
     "locked": true,
     "schema_version": 1,
     "solution": false
    }
   },
   "source": [
    "---\n",
    "\n",
    " # Problem 9\n",
    " \n",
    " The `Titanic` data set is available in base R. It contains class, sex, and age information, as well as the number of people in each group that survived and died. Groups are defined by their class, sex, and age. Use this data to answer the following questions. First, find the total number of passengers in each group using the `aggregate` function. Name the aggregated data frame `total`."
   ]
  },
  {
   "cell_type": "code",
   "execution_count": null,
   "metadata": {
    "collapsed": true,
    "deletable": false,
    "nbgrader": {
     "checksum": "9b38768d9fdf9eadc69247d4dd7d67ec",
     "grade": true,
     "grade_id": "problem_9_part_1_code",
     "locked": false,
     "points": 1,
     "schema_version": 1,
     "solution": true
    }
   },
   "outputs": [],
   "source": [
    "data(\"Titanic\")\n",
    "Titanic_df <- as.data.frame(Titanic)\n",
    "# YOUR CODE HERE\n",
    "total <- aggregate(data = Titanic_df, Freq ~ Class + Sex + Age, FUN = sum )"
   ]
  },
  {
   "cell_type": "markdown",
   "metadata": {
    "deletable": false,
    "editable": false,
    "nbgrader": {
     "checksum": "1b90d61c0b903cec17aba60492807aa4",
     "grade": false,
     "grade_id": "problem_9_part_2",
     "locked": true,
     "schema_version": 1,
     "solution": false
    }
   },
   "source": [
    "Now `merge` this aggregated data frame with the original data frame, effectively adding another column to the data frame. You should change the name of `Freq` column in `total` to `Total` before the merge so your merged data frame has interpretable column names. Name your merged data frame `merged_df`."
   ]
  },
  {
   "cell_type": "code",
   "execution_count": null,
   "metadata": {
    "collapsed": true,
    "deletable": false,
    "nbgrader": {
     "checksum": "f10cd17d1a0f39cc6aa84e4742df354e",
     "grade": true,
     "grade_id": "problem_9_part_2_code",
     "locked": false,
     "points": 1,
     "schema_version": 1,
     "solution": true
    }
   },
   "outputs": [],
   "source": [
    "# YOUR CODE HERE\n",
    "names(total)[4] <- \"Total\"\n",
    "merged_df <- merge(total, Titanic_df, all=TRUE) "
   ]
  },
  {
   "cell_type": "markdown",
   "metadata": {
    "deletable": false,
    "editable": false,
    "nbgrader": {
     "checksum": "a7fb39de04ea8b20bcc407ef4777f265",
     "grade": false,
     "grade_id": "problem_9_part_3",
     "locked": true,
     "schema_version": 1,
     "solution": false
    }
   },
   "source": [
    "You may notice that there are no children in the crew. Remove the rows of your data frame with a `Total` value of 0."
   ]
  },
  {
   "cell_type": "code",
   "execution_count": null,
   "metadata": {
    "collapsed": true,
    "deletable": false,
    "nbgrader": {
     "checksum": "0deddfb9cd7c63af94a0e13dda4b22cf",
     "grade": true,
     "grade_id": "problem_9_part_3_code",
     "locked": false,
     "points": 1,
     "schema_version": 1,
     "solution": true
    }
   },
   "outputs": [],
   "source": [
    "# YOUR CODE HERE\n",
    "merged_df <- merged_df[merged_df[,4]>0,]"
   ]
  },
  {
   "cell_type": "markdown",
   "metadata": {
    "deletable": false,
    "editable": false,
    "nbgrader": {
     "checksum": "5f36dcacbf241302246492353d70b5c4",
     "grade": false,
     "grade_id": "problem_9_part_4",
     "locked": true,
     "schema_version": 1,
     "solution": false
    }
   },
   "source": [
    "Now use the `transform` function to find the porportion of each group that survived and died."
   ]
  },
  {
   "cell_type": "code",
   "execution_count": null,
   "metadata": {
    "collapsed": true,
    "deletable": false,
    "nbgrader": {
     "checksum": "15deedc108e6a453b703d82e51cd72a6",
     "grade": true,
     "grade_id": "problem_9_part_4_code",
     "locked": false,
     "points": 1,
     "schema_version": 1,
     "solution": true
    }
   },
   "outputs": [],
   "source": [
    "# YOUR CODE HERE\n",
    "transform(merged_df, Proportion = Freq/Total)"
   ]
  },
  {
   "cell_type": "markdown",
   "metadata": {
    "deletable": false,
    "editable": false,
    "nbgrader": {
     "checksum": "1070529bb7c12105f92d8839fa680c81",
     "grade": false,
     "grade_id": "problem_9_part_5",
     "locked": true,
     "schema_version": 1,
     "solution": false
    }
   },
   "source": [
    "Did females have higher survival rates than males in all class and age groupings? In which grouping was the difference in proportions the largest?"
   ]
  },
  {
   "cell_type": "markdown",
   "metadata": {
    "deletable": false,
    "nbgrader": {
     "checksum": "44d3435a74563d6567dd097db86da6b1",
     "grade": true,
     "grade_id": "problem_9_part_5_explain",
     "locked": false,
     "points": 1,
     "schema_version": 1,
     "solution": true
    }
   },
   "source": [
    "Not always, adult females always have a higher survival rate than adult males, but child females sometimes have the same survival rate than chil males. The different in proportions was the largest between adult females and males of 2nd class. "
   ]
  },
  {
   "cell_type": "markdown",
   "metadata": {
    "deletable": false,
    "editable": false,
    "nbgrader": {
     "checksum": "28e48323b2907952f5e0484032a4f5d5",
     "grade": false,
     "grade_id": "problem_10",
     "locked": true,
     "schema_version": 1,
     "solution": false
    }
   },
   "source": [
    "---\n",
    "\n",
    "# Problem 10\n",
    "\n",
    "The following data set is made up to represent some experiment that tracks a control and a treatment through time. "
   ]
  },
  {
   "cell_type": "code",
   "execution_count": null,
   "metadata": {
    "collapsed": true,
    "deletable": false,
    "editable": false,
    "nbgrader": {
     "checksum": "994e8475b654d3d34e10a8e5fbe93557",
     "grade": false,
     "grade_id": "problem_10_data",
     "locked": true,
     "schema_version": 1,
     "solution": false
    }
   },
   "outputs": [],
   "source": [
    "set.seed(95064)\n",
    "time <- 1:25\n",
    "made_up <- data.frame(time = time,\n",
    "                      control = 0.45 + 0.1*time + rnorm(25,sd=0.2),\n",
    "                      treatment = 0.47 + 0.15*time + rnorm(25,sd=0.2))\n",
    "made_up"
   ]
  },
  {
   "cell_type": "markdown",
   "metadata": {
    "deletable": false,
    "editable": false,
    "nbgrader": {
     "checksum": "b3c5a63c9506540734558991be743e84",
     "grade": false,
     "grade_id": "problem_10_part_1",
     "locked": true,
     "schema_version": 1,
     "solution": false
    }
   },
   "source": [
    "However, each row of the data frame does not correspond to a single observation, but two observations: one for the control and one for the treatment. Create a new data frame called `outcome` that has 50 rows where each row corresponds to a single observation. This new data frame should have two columns, one named `values` and another named `ind`."
   ]
  },
  {
   "cell_type": "code",
   "execution_count": null,
   "metadata": {
    "collapsed": true,
    "deletable": false,
    "nbgrader": {
     "checksum": "b692e6a8e3730c8f3883be4fac94bb5f",
     "grade": true,
     "grade_id": "problem_10_part_1_code",
     "locked": false,
     "points": 1,
     "schema_version": 1,
     "solution": true
    }
   },
   "outputs": [],
   "source": [
    "# YOUR CODE HERE\n",
    "outcome <- stack(made_up, select = -time)"
   ]
  },
  {
   "cell_type": "markdown",
   "metadata": {
    "deletable": false,
    "editable": false,
    "nbgrader": {
     "checksum": "85482e2daae419fb65270c79e0c153cb",
     "grade": false,
     "grade_id": "problem_10_part_2",
     "locked": true,
     "schema_version": 1,
     "solution": false
    }
   },
   "source": [
    "Now bind the time values and the `outcome` data frame together to create a $50 \\times 3$ data frame with columns `time`, `values`, and `ind`. Name this new data frame `complete`. "
   ]
  },
  {
   "cell_type": "code",
   "execution_count": null,
   "metadata": {
    "collapsed": true,
    "deletable": false,
    "nbgrader": {
     "checksum": "2c0f978967858ccacbdeeac5ddb27eb6",
     "grade": true,
     "grade_id": "problem_10_part_2_code",
     "locked": false,
     "points": 1,
     "schema_version": 1,
     "solution": true
    }
   },
   "outputs": [],
   "source": [
    "# YOUR CODE HERE\n",
    "complete <- cbind(outcome, time)"
   ]
  },
  {
   "cell_type": "markdown",
   "metadata": {
    "deletable": false,
    "editable": false,
    "nbgrader": {
     "checksum": "20f357a912efe2f98127429bf6a74db5",
     "grade": false,
     "grade_id": "problem_10_part_3",
     "locked": true,
     "schema_version": 1,
     "solution": false
    }
   },
   "source": [
    "If you completed the previous steps correctly, you should easily be able to plot with colors corresponding to the `ind` group. Make sure that the following code produces such a plot. There will be (much) more on plotting later in the course."
   ]
  },
  {
   "cell_type": "code",
   "execution_count": null,
   "metadata": {
    "collapsed": true,
    "deletable": false,
    "editable": false,
    "nbgrader": {
     "checksum": "337bd39748e77a1f03a972d24c0a955f",
     "grade": true,
     "grade_id": "problem_10_part_3_test",
     "locked": true,
     "points": 1,
     "schema_version": 1,
     "solution": false
    }
   },
   "outputs": [],
   "source": [
    "plot(complete$time,complete$values,col=complete$ind,xlab = \"Time\",ylab = \"Values\",pch=19)\n",
    "legend(\"topleft\",legend = c(\"Control\",\"Treatment\"),col = 1:2,pch=19)"
   ]
  }
 ],
 "metadata": {
  "anaconda-cloud": {},
  "kernelspec": {
   "display_name": "R",
   "language": "R",
   "name": "ir"
  },
  "language_info": {
   "codemirror_mode": "r",
   "file_extension": ".r",
   "mimetype": "text/x-r-source",
   "name": "R",
   "pygments_lexer": "r",
   "version": "3.4.1"
  }
 },
 "nbformat": 4,
 "nbformat_minor": 2
}
