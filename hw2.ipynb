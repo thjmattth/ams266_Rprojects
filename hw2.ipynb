{
 "cells": [
  {
   "cell_type": "markdown",
   "metadata": {},
   "source": [
    "Before you turn this problem set in, make sure everything runs as expected. First, **restart the kernel** (in the menubar, select Kernel$\\rightarrow$Restart) and then **run all cells** (in the menubar, select Cell$\\rightarrow$Run All). Note that in code sections, you must replace `stop(\"Not Implemented\")` with your code. Otherwise, you will have points automatically deducted in the grading process.\n",
    "\n",
    "**Please do not rename this file.**\n",
    "\n",
    "Make sure you fill in any place that says `YOUR CODE HERE` or \"YOUR ANSWER/EXPLANATION HERE\", as well as your name below:"
   ]
  },
  {
   "cell_type": "code",
   "execution_count": 1,
   "metadata": {
    "collapsed": true
   },
   "outputs": [],
   "source": [
    "NAME = \"Thomas J Matthew\""
   ]
  },
  {
   "cell_type": "markdown",
   "metadata": {},
   "source": [
    "---"
   ]
  },
  {
   "cell_type": "markdown",
   "metadata": {
    "deletable": false,
    "editable": false,
    "nbgrader": {
     "checksum": "ba411a1e5d2344c75a0e0ec7dfc192e6",
     "grade": false,
     "grade_id": "problem_1",
     "locked": true,
     "schema_version": 1,
     "solution": false
    }
   },
   "source": [
    "# Problem 1\n",
    "\n",
    "The data frame `iris` is built into base R. Write code to create two data frames:\n",
    "\n",
    "- One data frame with only the setosa and virginica species. Give this data frame the name `SV`. Remove the `Petal.Width` variable from the data frame.\n",
    "- One data frame with only the versicolor and virginica species. Give this data frame the name `VV`. Remove the `Sepal.Length` variable from this data frame. \n",
    "\n",
    "Hint: This is easiest using the `subset` function."
   ]
  },
  {
   "cell_type": "code",
   "execution_count": 73,
   "metadata": {
    "collapsed": false,
    "deletable": false,
    "nbgrader": {
     "checksum": "bfea71d7a91219d07b35184c5adb958b",
     "grade": true,
     "grade_id": "problem_1_code",
     "locked": false,
     "points": 1,
     "schema_version": 1,
     "solution": true
    }
   },
   "outputs": [],
   "source": [
    "# Load the data into the R workspace\n",
    "data(\"iris\") # Note that the data frame name must be in quotes\n",
    "\n",
    "SV <- subset(iris, Species == 'setosa' | Species == 'virginica',\n",
    "            select = c('Sepal.Length', 'Sepal.Width', 'Petal.Length', 'Species'))\n",
    "VV <- subset(iris, Species == 'versicolor' | Species == 'virginica',\n",
    "            select = c('Sepal.Width', 'Petal.Length', 'Petal.Width', 'Species'))"
   ]
  },
  {
   "cell_type": "markdown",
   "metadata": {
    "deletable": false,
    "editable": false,
    "nbgrader": {
     "checksum": "d122e16eee46ad0383e725f903f44806",
     "grade": false,
     "grade_id": "problem_1_part_2",
     "locked": true,
     "schema_version": 1,
     "solution": false
    }
   },
   "source": [
    "Note that the `iris` dataset includes 50 observations from each of the three species."
   ]
  },
  {
   "cell_type": "code",
   "execution_count": 74,
   "metadata": {
    "collapsed": false,
    "deletable": false,
    "editable": false,
    "nbgrader": {
     "checksum": "e61ec7d21678615433ad5d7b12bc4318",
     "grade": false,
     "grade_id": "problem_1_iris_species_table",
     "locked": true,
     "schema_version": 1,
     "solution": false
    }
   },
   "outputs": [
    {
     "data": {
      "text/plain": [
       "\n",
       "    setosa versicolor  virginica \n",
       "        50         50         50 "
      ]
     },
     "metadata": {},
     "output_type": "display_data"
    }
   ],
   "source": [
    "table(iris$Species)"
   ]
  },
  {
   "cell_type": "code",
   "execution_count": 75,
   "metadata": {
    "collapsed": false,
    "deletable": false,
    "editable": false,
    "nbgrader": {
     "checksum": "06263eb60373a5a1e2befe1d4e17bd92",
     "grade": false,
     "grade_id": "problem_1_merge_species_table",
     "locked": true,
     "schema_version": 1,
     "solution": false
    }
   },
   "outputs": [
    {
     "data": {
      "text/html": [
       "<ol class=list-inline>\n",
       "\t<li>'Sepal.Width'</li>\n",
       "\t<li>'Petal.Length'</li>\n",
       "\t<li>'Species'</li>\n",
       "</ol>\n"
      ],
      "text/latex": [
       "\\begin{enumerate*}\n",
       "\\item 'Sepal.Width'\n",
       "\\item 'Petal.Length'\n",
       "\\item 'Species'\n",
       "\\end{enumerate*}\n"
      ],
      "text/markdown": [
       "1. 'Sepal.Width'\n",
       "2. 'Petal.Length'\n",
       "3. 'Species'\n",
       "\n",
       "\n"
      ],
      "text/plain": [
       "[1] \"Sepal.Width\"  \"Petal.Length\" \"Species\"     "
      ]
     },
     "metadata": {},
     "output_type": "display_data"
    },
    {
     "data": {
      "text/plain": [
       "\n",
       "    setosa versicolor  virginica \n",
       "        50         50         66 "
      ]
     },
     "metadata": {},
     "output_type": "display_data"
    }
   ],
   "source": [
    "intersect(colnames(SV), colnames(VV))\n",
    "SV_VV_merge <- merge(SV,VV,all=TRUE)\n",
    "table(SV_VV_merge$Species)"
   ]
  },
  {
   "cell_type": "markdown",
   "metadata": {
    "deletable": false,
    "editable": false,
    "nbgrader": {
     "checksum": "5211380de8b7176bbadc99ae4fe1c94b",
     "grade": false,
     "grade_id": "problem_1_part_3",
     "locked": true,
     "schema_version": 1,
     "solution": false
    }
   },
   "source": [
    "Explain why the following merge has 66 observations for the virginica species."
   ]
  },
  {
   "cell_type": "markdown",
   "metadata": {
    "collapsed": true,
    "deletable": false,
    "nbgrader": {
     "checksum": "48118c945930f2ff576c8b8b230ea5b1",
     "grade": true,
     "grade_id": "problem_1_outer_join",
     "locked": false,
     "points": 1,
     "schema_version": 1,
     "solution": true
    }
   },
   "source": [
    "Performing the merge of `SV` and `VV` with the argument `all = TRUE` makes this a full outer join.  This merge returns all entries for both data frames.  The merge will match columns in common, like `Sepal.Width` `Petal.Length` and `Species`, since no specific merge column is chosen in the arguments.  However, the merge will also create seperate entries for common species, in this case `virginica`, due to asymmetric columns `Petal.Width` and `Sepal.Length`.  The merge thus have extra entries for `virginica` with `Petal.Width` and without (NA values) for `Sepal.Length` (as in dataframe `SV`), and vice versa for data frame `VV`.  This occurance happens 16 times."
   ]
  },
  {
   "cell_type": "markdown",
   "metadata": {
    "deletable": false,
    "editable": false,
    "nbgrader": {
     "checksum": "4e5afc3f8d3bc1a7bb02dddb80fa869a",
     "grade": false,
     "grade_id": "problem_2_part_1",
     "locked": true,
     "schema_version": 1,
     "solution": false
    }
   },
   "source": [
    "---\n",
    "\n",
    "# Problem 2\n",
    "\n",
    "Create a new environment named `giga`, and within this environment, create the following objects:\n",
    "\n",
    "- A numeric vector of all of the numbers between 1 and 5 named `a`\n",
    "- A logical (TRUE/FALSE) vector with 5 elements. Name this vector `b`.\n",
    "- A $3 \\times 2$ character matrix of your favorite colors (Pro tip: Base R recognizes 657 colors and hues by name, including `cornflowerblue`. You can see all of these names by running the command `colors()`.). Name this character matrix `my_cols`.\n",
    "- An environment named `mega`, which contains a numeric vector of all of the numbers between 6 and 9 named `a`."
   ]
  },
  {
   "cell_type": "code",
   "execution_count": 1,
   "metadata": {
    "collapsed": false,
    "deletable": false,
    "nbgrader": {
     "checksum": "9ae9c43ca04a040b2ea596474185b92d",
     "grade": true,
     "grade_id": "problem_2_part_1_code",
     "locked": false,
     "points": 1,
     "schema_version": 1,
     "solution": true
    }
   },
   "outputs": [],
   "source": [
    "# YOUR CODE HERE\n",
    "\n",
    "giga <- new.env()\n",
    "giga$a <- 1:5\n",
    "giga$b <- logical(length = 5)\n",
    "giga$my_cols <- matrix(c('chartreuse', 'thistle', 'peru', \n",
    "                          'blue3', 'coral', 'plum'),\n",
    "                        nrow=3, ncol=2)\n",
    "\n",
    "mega <- new.env(parent=giga)\n",
    "mega$a <- 6:9"
   ]
  },
  {
   "cell_type": "code",
   "execution_count": 2,
   "metadata": {
    "collapsed": false
   },
   "outputs": [
    {
     "data": {
      "text/html": [
       "<ol class=list-inline>\n",
       "\t<li>1</li>\n",
       "\t<li>2</li>\n",
       "\t<li>3</li>\n",
       "\t<li>4</li>\n",
       "\t<li>5</li>\n",
       "</ol>\n"
      ],
      "text/latex": [
       "\\begin{enumerate*}\n",
       "\\item 1\n",
       "\\item 2\n",
       "\\item 3\n",
       "\\item 4\n",
       "\\item 5\n",
       "\\end{enumerate*}\n"
      ],
      "text/markdown": [
       "1. 1\n",
       "2. 2\n",
       "3. 3\n",
       "4. 4\n",
       "5. 5\n",
       "\n",
       "\n"
      ],
      "text/plain": [
       "[1] 1 2 3 4 5"
      ]
     },
     "metadata": {},
     "output_type": "display_data"
    },
    {
     "data": {
      "text/html": [
       "<ol class=list-inline>\n",
       "\t<li>FALSE</li>\n",
       "\t<li>FALSE</li>\n",
       "\t<li>FALSE</li>\n",
       "\t<li>FALSE</li>\n",
       "\t<li>FALSE</li>\n",
       "</ol>\n"
      ],
      "text/latex": [
       "\\begin{enumerate*}\n",
       "\\item FALSE\n",
       "\\item FALSE\n",
       "\\item FALSE\n",
       "\\item FALSE\n",
       "\\item FALSE\n",
       "\\end{enumerate*}\n"
      ],
      "text/markdown": [
       "1. FALSE\n",
       "2. FALSE\n",
       "3. FALSE\n",
       "4. FALSE\n",
       "5. FALSE\n",
       "\n",
       "\n"
      ],
      "text/plain": [
       "[1] FALSE FALSE FALSE FALSE FALSE"
      ]
     },
     "metadata": {},
     "output_type": "display_data"
    },
    {
     "data": {
      "text/html": [
       "<table>\n",
       "<tbody>\n",
       "\t<tr><td>chartreuse</td><td>blue3     </td></tr>\n",
       "\t<tr><td>thistle   </td><td>coral     </td></tr>\n",
       "\t<tr><td>peru      </td><td>plum      </td></tr>\n",
       "</tbody>\n",
       "</table>\n"
      ],
      "text/latex": [
       "\\begin{tabular}{ll}\n",
       "\t chartreuse & blue3     \\\\\n",
       "\t thistle    & coral     \\\\\n",
       "\t peru       & plum      \\\\\n",
       "\\end{tabular}\n"
      ],
      "text/markdown": [
       "\n",
       "| chartreuse | blue3      | \n",
       "| thistle    | coral      | \n",
       "| peru       | plum       | \n",
       "\n",
       "\n"
      ],
      "text/plain": [
       "     [,1]       [,2] \n",
       "[1,] chartreuse blue3\n",
       "[2,] thistle    coral\n",
       "[3,] peru       plum "
      ]
     },
     "metadata": {},
     "output_type": "display_data"
    },
    {
     "data": {
      "text/html": [
       "<ol class=list-inline>\n",
       "\t<li>6</li>\n",
       "\t<li>7</li>\n",
       "\t<li>8</li>\n",
       "\t<li>9</li>\n",
       "</ol>\n"
      ],
      "text/latex": [
       "\\begin{enumerate*}\n",
       "\\item 6\n",
       "\\item 7\n",
       "\\item 8\n",
       "\\item 9\n",
       "\\end{enumerate*}\n"
      ],
      "text/markdown": [
       "1. 6\n",
       "2. 7\n",
       "3. 8\n",
       "4. 9\n",
       "\n",
       "\n"
      ],
      "text/plain": [
       "[1] 6 7 8 9"
      ]
     },
     "metadata": {},
     "output_type": "display_data"
    }
   ],
   "source": [
    "giga$a\n",
    "giga$b\n",
    "giga$my_cols\n",
    "mega$a"
   ]
  },
  {
   "cell_type": "markdown",
   "metadata": {
    "deletable": false,
    "editable": false,
    "nbgrader": {
     "checksum": "0fae0d3e40ace18a9ce7efa65e766492",
     "grade": false,
     "grade_id": "problem_2_part_2",
     "locked": true,
     "schema_version": 1,
     "solution": false
    }
   },
   "source": [
    "What does the message following this code mean?"
   ]
  },
  {
   "cell_type": "code",
   "execution_count": 3,
   "metadata": {
    "collapsed": false,
    "deletable": false,
    "editable": false,
    "nbgrader": {
     "checksum": "52a906aecd49b0cfb76ece238ddf035f",
     "grade": false,
     "grade_id": "problem_2_part_2_code",
     "locked": true,
     "schema_version": 1,
     "solution": false
    }
   },
   "outputs": [
    {
     "name": "stderr",
     "output_type": "stream",
     "text": [
      "The following object is masked from giga:\n",
      "\n",
      "    a\n",
      "\n"
     ]
    }
   ],
   "source": [
    "attach(giga)\n",
    "attach(mega)"
   ]
  },
  {
   "cell_type": "code",
   "execution_count": 4,
   "metadata": {
    "collapsed": false
   },
   "outputs": [
    {
     "data": {
      "text/html": [
       "<ol class=list-inline>\n",
       "\t<li>6</li>\n",
       "\t<li>7</li>\n",
       "\t<li>8</li>\n",
       "\t<li>9</li>\n",
       "</ol>\n"
      ],
      "text/latex": [
       "\\begin{enumerate*}\n",
       "\\item 6\n",
       "\\item 7\n",
       "\\item 8\n",
       "\\item 9\n",
       "\\end{enumerate*}\n"
      ],
      "text/markdown": [
       "1. 6\n",
       "2. 7\n",
       "3. 8\n",
       "4. 9\n",
       "\n",
       "\n"
      ],
      "text/plain": [
       "[1] 6 7 8 9"
      ]
     },
     "metadata": {},
     "output_type": "display_data"
    }
   ],
   "source": [
    "a"
   ]
  },
  {
   "cell_type": "markdown",
   "metadata": {
    "deletable": false,
    "nbgrader": {
     "checksum": "2c805c358470741b21a427c75a1a4145",
     "grade": true,
     "grade_id": "problem_2_part_2_explain",
     "locked": false,
     "points": 1,
     "schema_version": 1,
     "solution": true
    }
   },
   "source": [
    "The message: \"`The following object is masked from giga:   a`\" occurs when connecting to path containing environment bindings of `giga`, then connecting to the child environment `mega`.  The message indicates that there are multiple instances of the `a` name, and to limit confusion about which `a` is used, the interpreter uses the `a` that is instantiated in the most recently attached environment `mega` and masked in parent environment `a`.  This means that `a` is now refering to the integer vector `6:9` defined in `mega` rather than the integer vector `1:5` defined in `giga`."
   ]
  },
  {
   "cell_type": "markdown",
   "metadata": {
    "deletable": false,
    "editable": false,
    "nbgrader": {
     "checksum": "e8c877ae83199a23615e7041d4b8d784",
     "grade": false,
     "grade_id": "problem_2_part_3_detaching",
     "locked": true,
     "schema_version": 1,
     "solution": false
    }
   },
   "source": [
    "Let's detach the environments again."
   ]
  },
  {
   "cell_type": "code",
   "execution_count": 5,
   "metadata": {
    "collapsed": true,
    "deletable": false,
    "editable": false,
    "nbgrader": {
     "checksum": "e4264c64b79f34dab861e65e4bf330c8",
     "grade": false,
     "grade_id": "problem_2_part_3_detaching_code",
     "locked": true,
     "schema_version": 1,
     "solution": false
    }
   },
   "outputs": [],
   "source": [
    "detach(mega)\n",
    "detach(giga)"
   ]
  },
  {
   "cell_type": "markdown",
   "metadata": {
    "deletable": false,
    "editable": false,
    "nbgrader": {
     "checksum": "56bea8ae89035a1cf182cc90fb50dfc5",
     "grade": false,
     "grade_id": "problem_2_part_3",
     "locked": true,
     "schema_version": 1,
     "solution": false
    }
   },
   "source": [
    "Why doesn't this work?"
   ]
  },
  {
   "cell_type": "code",
   "execution_count": 1,
   "metadata": {
    "collapsed": false,
    "deletable": false,
    "editable": false,
    "nbgrader": {
     "checksum": "fe5f6c3633bd9dca8866a9c30d2f70b8",
     "grade": false,
     "grade_id": "problem_2_part_3_code",
     "locked": true,
     "schema_version": 1,
     "solution": false
    }
   },
   "outputs": [
    {
     "ename": "ERROR",
     "evalue": "Error in attach(mega): object 'mega' not found\n",
     "output_type": "error",
     "traceback": [
      "Error in attach(mega): object 'mega' not found\nTraceback:\n",
      "1. attach(mega)"
     ]
    }
   ],
   "source": [
    "attach(mega)\n",
    "attach(giga)"
   ]
  },
  {
   "cell_type": "markdown",
   "metadata": {
    "deletable": false,
    "nbgrader": {
     "checksum": "cb4b9fdad4d895c6e211d39a1e08c65f",
     "grade": true,
     "grade_id": "problem_2_part_3_explain",
     "locked": false,
     "points": 1,
     "schema_version": 1,
     "solution": true
    }
   },
   "source": [
    "The object `mega` not found if `mega` is attached before `giga`, this throwing the error: \"`Error in attach(mega): object 'mega' not found   Traceback:  1. attach(mega)`\".  This is because the pointer for the `mega` environment is in the parent environment `giga`, and this cannot be found unless you're attached to `giga` first."
   ]
  },
  {
   "cell_type": "markdown",
   "metadata": {
    "deletable": false,
    "editable": false,
    "nbgrader": {
     "checksum": "35c98b02d2347b620d3a67933eb1d226",
     "grade": false,
     "grade_id": "problem_3",
     "locked": true,
     "schema_version": 1,
     "solution": false
    }
   },
   "source": [
    "---\n",
    "\n",
    "# Problem 3\n",
    "\n",
    "For this problem, you will need the `Grade_Example.xlsx` file, which will be posted on Canvas. This Excel workbook contains three sheets, `Worksheets_and_Quizzes`, `Labs`, and `Exams`. Make the appropriate adjustments to the Excel spreadsheet and read each of the three sheets into three data frames, named `quiz`, `lab`, and `exam`, respectively. Note that there is a header for all of these sheets in Excel. The data in this workbook includes a student's unique ID and their grades on assignments and exams in an elementary statistics class. "
   ]
  },
  {
   "cell_type": "code",
   "execution_count": 2,
   "metadata": {
    "collapsed": true,
    "deletable": false,
    "nbgrader": {
     "checksum": "2c79fe36995f49b1eefec6bdfe5043e0",
     "grade": true,
     "grade_id": "problem_3_part_1_code",
     "locked": false,
     "points": 1,
     "schema_version": 1,
     "solution": true
    }
   },
   "outputs": [],
   "source": [
    "# YOUR CODE HERE\n",
    "quiz <- read.csv('Grade_Example_quiz.csv')\n",
    "\n",
    "lab <- read.csv('Grade_Example_lab.csv')\n",
    "\n",
    "exam <- read.csv('Grade_Example_exam.csv')"
   ]
  },
  {
   "cell_type": "markdown",
   "metadata": {
    "deletable": false,
    "editable": false,
    "nbgrader": {
     "checksum": "f42c7a12961ddc60f7ac9498fd558375",
     "grade": false,
     "grade_id": "problem_3_part_2",
     "locked": true,
     "schema_version": 1,
     "solution": false
    }
   },
   "source": [
    "The following code performs a left join and a right join on the lab and quiz data frames. Why does the left join have fewer rows than the right join?"
   ]
  },
  {
   "cell_type": "code",
   "execution_count": 3,
   "metadata": {
    "collapsed": false,
    "deletable": false,
    "editable": false,
    "nbgrader": {
     "checksum": "491438d5fc110b31a9d1ffd9a2465709",
     "grade": false,
     "grade_id": "problem_3_part_2_code",
     "locked": true,
     "schema_version": 1,
     "solution": false
    }
   },
   "outputs": [
    {
     "data": {
      "text/html": [
       "<ol class=list-inline>\n",
       "\t<li>28</li>\n",
       "\t<li>23</li>\n",
       "</ol>\n"
      ],
      "text/latex": [
       "\\begin{enumerate*}\n",
       "\\item 28\n",
       "\\item 23\n",
       "\\end{enumerate*}\n"
      ],
      "text/markdown": [
       "1. 28\n",
       "2. 23\n",
       "\n",
       "\n"
      ],
      "text/plain": [
       "[1] 28 23"
      ]
     },
     "metadata": {},
     "output_type": "display_data"
    },
    {
     "data": {
      "text/html": [
       "<ol class=list-inline>\n",
       "\t<li>29</li>\n",
       "\t<li>23</li>\n",
       "</ol>\n"
      ],
      "text/latex": [
       "\\begin{enumerate*}\n",
       "\\item 29\n",
       "\\item 23\n",
       "\\end{enumerate*}\n"
      ],
      "text/markdown": [
       "1. 29\n",
       "2. 23\n",
       "\n",
       "\n"
      ],
      "text/plain": [
       "[1] 29 23"
      ]
     },
     "metadata": {},
     "output_type": "display_data"
    }
   ],
   "source": [
    "left <- merge(lab,quiz,all.x=TRUE)\n",
    "right <- merge(lab,quiz,all.y=TRUE)\n",
    "dim(left)\n",
    "dim(right)"
   ]
  },
  {
   "cell_type": "markdown",
   "metadata": {
    "deletable": false,
    "nbgrader": {
     "checksum": "8276347447b3e7d5402185a6e49f9bbc",
     "grade": true,
     "grade_id": "problem_3_part_2_explain",
     "locked": false,
     "points": 1,
     "schema_version": 1,
     "solution": true
    }
   },
   "source": [
    "The right join has one more row because a right join preserves all the row entires from that data frame (eg `quiz`) whether or not they are in the left data frame (eg `lab`).  This just demonstrates there is an extra row in the `quiz` data compared to `lab`.  That row corresponds with the Student ID 6776072."
   ]
  },
  {
   "cell_type": "markdown",
   "metadata": {
    "deletable": false,
    "editable": false,
    "nbgrader": {
     "checksum": "6f72d8bb37e0b10ceca1c7908b89cab0",
     "grade": false,
     "grade_id": "problem_3_part_3",
     "locked": true,
     "schema_version": 1,
     "solution": false
    }
   },
   "source": [
    "Join all three data frames together into one data frame names `grades`. Be sure that all of the students are included in the `grades` data frame!"
   ]
  },
  {
   "cell_type": "code",
   "execution_count": 7,
   "metadata": {
    "collapsed": false,
    "deletable": false,
    "nbgrader": {
     "checksum": "247f33ae08dd130d7448ed54c220f405",
     "grade": false,
     "grade_id": "problem_3_part_3_code",
     "locked": false,
     "schema_version": 1,
     "solution": true
    }
   },
   "outputs": [],
   "source": [
    "grades <- merge(merge(quiz, lab, by='ID', all=T), exam, by='ID', all=T)\n",
    "grades[is.na(grades)] <- 0  # replaces NA values with zeros, per spec"
   ]
  },
  {
   "cell_type": "markdown",
   "metadata": {
    "deletable": false,
    "editable": false,
    "nbgrader": {
     "checksum": "c9af218a1317aeaecd9e7555dbc1220c",
     "grade": false,
     "grade_id": "problem_3_part_4",
     "locked": true,
     "schema_version": 1,
     "solution": false
    }
   },
   "source": [
    "Change the `grades` data frame so that the missing data (`NA`) are all zeros.\n",
    "\n",
    "Hint: Use the `is.na` function in R to identify which cells in the data frame are missing data."
   ]
  },
  {
   "cell_type": "code",
   "execution_count": 8,
   "metadata": {
    "collapsed": true,
    "deletable": false,
    "editable": false,
    "nbgrader": {
     "checksum": "a334878bfe420f8b97ae2098ffb6e4c8",
     "grade": true,
     "grade_id": "problem_3_part_4_test",
     "locked": true,
     "points": 1,
     "schema_version": 1,
     "solution": false
    }
   },
   "outputs": [],
   "source": [
    "# This will test to see that you have the correct number of students\n",
    "stopifnot(dim(grades)[1] == 29)"
   ]
  },
  {
   "cell_type": "markdown",
   "metadata": {
    "deletable": false,
    "editable": false,
    "nbgrader": {
     "checksum": "844fd00affc9157faf6e93e247a8cc0e",
     "grade": false,
     "grade_id": "problem_4",
     "locked": true,
     "schema_version": 1,
     "solution": false
    }
   },
   "source": [
    "---\n",
    "\n",
    "# Problem 4\n",
    "\n",
    "If `b <- list(one = c(\"Santa\",\"Cruz\",\"California\",\"UCSC\",\"Go Slugs!\"), two = 1:5, three=c(FALSE,FALSE,TRUE))`, write an R expression that will give all elements, except the second, of `b`."
   ]
  },
  {
   "cell_type": "code",
   "execution_count": 9,
   "metadata": {
    "collapsed": false,
    "deletable": false,
    "nbgrader": {
     "checksum": "0ec1f76e4e28585f195f3f8db9456b83",
     "grade": true,
     "grade_id": "problem_4_code",
     "locked": false,
     "points": 1,
     "schema_version": 1,
     "solution": true
    }
   },
   "outputs": [
    {
     "data": {
      "text/html": [
       "<dl>\n",
       "\t<dt>$one</dt>\n",
       "\t\t<dd><ol class=list-inline>\n",
       "\t<li>'Santa'</li>\n",
       "\t<li>'Cruz'</li>\n",
       "\t<li>'California'</li>\n",
       "\t<li>'UCSC'</li>\n",
       "\t<li>'Go Slugs!'</li>\n",
       "</ol>\n",
       "</dd>\n",
       "\t<dt>$three</dt>\n",
       "\t\t<dd><ol class=list-inline>\n",
       "\t<li>FALSE</li>\n",
       "\t<li>FALSE</li>\n",
       "\t<li>TRUE</li>\n",
       "</ol>\n",
       "</dd>\n",
       "</dl>\n"
      ],
      "text/latex": [
       "\\begin{description}\n",
       "\\item[\\$one] \\begin{enumerate*}\n",
       "\\item 'Santa'\n",
       "\\item 'Cruz'\n",
       "\\item 'California'\n",
       "\\item 'UCSC'\n",
       "\\item 'Go Slugs!'\n",
       "\\end{enumerate*}\n",
       "\n",
       "\\item[\\$three] \\begin{enumerate*}\n",
       "\\item FALSE\n",
       "\\item FALSE\n",
       "\\item TRUE\n",
       "\\end{enumerate*}\n",
       "\n",
       "\\end{description}\n"
      ],
      "text/markdown": [
       "$one\n",
       ":   1. 'Santa'\n",
       "2. 'Cruz'\n",
       "3. 'California'\n",
       "4. 'UCSC'\n",
       "5. 'Go Slugs!'\n",
       "\n",
       "\n",
       "\n",
       "$three\n",
       ":   1. FALSE\n",
       "2. FALSE\n",
       "3. TRUE\n",
       "\n",
       "\n",
       "\n",
       "\n",
       "\n"
      ],
      "text/plain": [
       "$one\n",
       "[1] \"Santa\"      \"Cruz\"       \"California\" \"UCSC\"       \"Go Slugs!\" \n",
       "\n",
       "$three\n",
       "[1] FALSE FALSE  TRUE\n"
      ]
     },
     "metadata": {},
     "output_type": "display_data"
    }
   ],
   "source": [
    "b <- list(one = c(\"Santa\",\"Cruz\",\"California\",\"UCSC\",\"Go Slugs!\"), two = 1:5, three=c(FALSE,FALSE,TRUE))\n",
    "b[c('one','three')]\n"
   ]
  },
  {
   "cell_type": "markdown",
   "metadata": {
    "deletable": false,
    "editable": false,
    "nbgrader": {
     "checksum": "e831ec9a6ea8976ce67c567e602a408d",
     "grade": false,
     "grade_id": "problem_5",
     "locked": true,
     "schema_version": 1,
     "solution": false
    }
   },
   "source": [
    "---\n",
    "\n",
    "# Problem 5\n",
    "\n",
    "Let `my_text <- \"University of California, Santa Cruz\"`. Write code to split this string and return the following output:\n",
    "\n",
    "```\n",
    "[[1]]\n",
    "[1] \"University of California\"\n",
    "\n",
    "[[2]]\n",
    "[1] \"Santa Cruz\"\n",
    "```"
   ]
  },
  {
   "cell_type": "code",
   "execution_count": 10,
   "metadata": {
    "collapsed": false,
    "deletable": false,
    "nbgrader": {
     "checksum": "54a70f5229b90558915893d66ea18725",
     "grade": true,
     "grade_id": "problem_5_code",
     "locked": false,
     "points": 1,
     "schema_version": 1,
     "solution": true
    }
   },
   "outputs": [
    {
     "data": {
      "text/html": [
       "<ol>\n",
       "\t<li>'University of California'</li>\n",
       "\t<li>'Santa Cruz'</li>\n",
       "</ol>\n"
      ],
      "text/latex": [
       "\\begin{enumerate}\n",
       "\\item 'University of California'\n",
       "\\item 'Santa Cruz'\n",
       "\\end{enumerate}\n"
      ],
      "text/markdown": [
       "1. 'University of California'\n",
       "2. 'Santa Cruz'\n",
       "\n",
       "\n"
      ],
      "text/plain": [
       "[[1]]\n",
       "[1] \"University of California\"\n",
       "\n",
       "[[2]]\n",
       "[1] \"Santa Cruz\"\n"
      ]
     },
     "metadata": {},
     "output_type": "display_data"
    }
   ],
   "source": [
    "my_text <- \"University of California, Santa Cruz\"\n",
    "as.list(strsplit(my_text, split=\", \")[[1]])\n"
   ]
  },
  {
   "cell_type": "markdown",
   "metadata": {
    "deletable": false,
    "editable": false,
    "nbgrader": {
     "checksum": "1ae645597fa4579ae42ca5ab5f130270",
     "grade": false,
     "grade_id": "problem_6",
     "locked": true,
     "schema_version": 1,
     "solution": false
    }
   },
   "source": [
    "---\n",
    "\n",
    "# Problem 6\n",
    "\n",
    "For the following code, matrix-multiply the second and fourth list elements together. Name the matrix product `bayes`."
   ]
  },
  {
   "cell_type": "code",
   "execution_count": 11,
   "metadata": {
    "collapsed": false,
    "deletable": false,
    "nbgrader": {
     "checksum": "4729f9ab1680213e97037b483e404b0c",
     "grade": false,
     "grade_id": "problem_6_code",
     "locked": false,
     "schema_version": 1,
     "solution": true
    }
   },
   "outputs": [],
   "source": [
    "set.seed(8675309) # This ensures that the random numbers generated are the same for everyone\n",
    "the_list <- list(\n",
    "    abel = \"bayesian\",\n",
    "    abc = matrix(rnorm(6),3,2),\n",
    "    tommy = \"jenny\",\n",
    "    def = matrix(rnorm(6),2,3))\n",
    "\n",
    "\n",
    "bayes <- the_list$abc %*% the_list$def"
   ]
  },
  {
   "cell_type": "markdown",
   "metadata": {},
   "source": [
    "Now test to see that `bayes` has the correct dimensions."
   ]
  },
  {
   "cell_type": "code",
   "execution_count": 12,
   "metadata": {
    "collapsed": false,
    "deletable": false,
    "editable": false,
    "nbgrader": {
     "checksum": "d7c6d76d6bbba45b7fd7c0a82ae03b1f",
     "grade": true,
     "grade_id": "problem_6_test",
     "locked": true,
     "points": 1,
     "schema_version": 1,
     "solution": false
    }
   },
   "outputs": [],
   "source": [
    "set.seed(8675309)\n",
    "stopifnot(dim(bayes) == c(3,3))"
   ]
  },
  {
   "cell_type": "markdown",
   "metadata": {
    "deletable": false,
    "editable": false,
    "nbgrader": {
     "checksum": "2cadb190a8ebbae71b17dc5bad5ba074",
     "grade": false,
     "grade_id": "problem_7",
     "locked": true,
     "schema_version": 1,
     "solution": false
    }
   },
   "source": [
    "---\n",
    "\n",
    "# Problem 7\n",
    "\n",
    "The list `x` appears in R as"
   ]
  },
  {
   "cell_type": "code",
   "execution_count": 13,
   "metadata": {
    "collapsed": false,
    "deletable": false,
    "editable": false,
    "nbgrader": {
     "checksum": "4ed914bebf88b4c66bee07cec054289f",
     "grade": false,
     "grade_id": "problem_7_code",
     "locked": true,
     "schema_version": 1,
     "solution": false
    }
   },
   "outputs": [
    {
     "data": {
      "text/html": [
       "<dl>\n",
       "\t<dt>$do</dt>\n",
       "\t\t<dd><ol class=list-inline>\n",
       "\t<li>1</li>\n",
       "\t<li>9</li>\n",
       "\t<li>6</li>\n",
       "\t<li>5</li>\n",
       "</ol>\n",
       "</dd>\n",
       "\t<dt>$re</dt>\n",
       "\t\t<dd><ol class=list-inline>\n",
       "\t<li>'me'</li>\n",
       "\t<li>'fa'</li>\n",
       "\t<li>'so'</li>\n",
       "</ol>\n",
       "</dd>\n",
       "\t<dt>$la</dt>\n",
       "\t\t<dd><ol class=list-inline>\n",
       "\t<li>'ti'</li>\n",
       "\t<li>'do'</li>\n",
       "</ol>\n",
       "</dd>\n",
       "</dl>\n"
      ],
      "text/latex": [
       "\\begin{description}\n",
       "\\item[\\$do] \\begin{enumerate*}\n",
       "\\item 1\n",
       "\\item 9\n",
       "\\item 6\n",
       "\\item 5\n",
       "\\end{enumerate*}\n",
       "\n",
       "\\item[\\$re] \\begin{enumerate*}\n",
       "\\item 'me'\n",
       "\\item 'fa'\n",
       "\\item 'so'\n",
       "\\end{enumerate*}\n",
       "\n",
       "\\item[\\$la] \\begin{enumerate*}\n",
       "\\item 'ti'\n",
       "\\item 'do'\n",
       "\\end{enumerate*}\n",
       "\n",
       "\\end{description}\n"
      ],
      "text/markdown": [
       "$do\n",
       ":   1. 1\n",
       "2. 9\n",
       "3. 6\n",
       "4. 5\n",
       "\n",
       "\n",
       "\n",
       "$re\n",
       ":   1. 'me'\n",
       "2. 'fa'\n",
       "3. 'so'\n",
       "\n",
       "\n",
       "\n",
       "$la\n",
       ":   1. 'ti'\n",
       "2. 'do'\n",
       "\n",
       "\n",
       "\n",
       "\n",
       "\n"
      ],
      "text/plain": [
       "$do\n",
       "[1] 1 9 6 5\n",
       "\n",
       "$re\n",
       "[1] \"me\" \"fa\" \"so\"\n",
       "\n",
       "$la\n",
       "[1] \"ti\" \"do\"\n"
      ]
     },
     "metadata": {},
     "output_type": "display_data"
    }
   ],
   "source": [
    "x <- list(do = c(1,9,6,5),\n",
    "         re = c(\"me\",\"fa\",\"so\"),\n",
    "         la = c(\"ti\",\"do\"))\n",
    "x"
   ]
  },
  {
   "cell_type": "markdown",
   "metadata": {},
   "source": [
    "Replace the character string 'me' with the string 'mi'."
   ]
  },
  {
   "cell_type": "code",
   "execution_count": 14,
   "metadata": {
    "collapsed": false,
    "deletable": false,
    "nbgrader": {
     "checksum": "432262a4622582d7a278ac173819b80a",
     "grade": false,
     "grade_id": "problem_7_code_II",
     "locked": false,
     "schema_version": 1,
     "solution": true
    }
   },
   "outputs": [
    {
     "data": {
      "text/html": [
       "<dl>\n",
       "\t<dt>$do</dt>\n",
       "\t\t<dd><ol class=list-inline>\n",
       "\t<li>1</li>\n",
       "\t<li>9</li>\n",
       "\t<li>6</li>\n",
       "\t<li>5</li>\n",
       "</ol>\n",
       "</dd>\n",
       "\t<dt>$re</dt>\n",
       "\t\t<dd><ol class=list-inline>\n",
       "\t<li>'mi'</li>\n",
       "\t<li>'fa'</li>\n",
       "\t<li>'so'</li>\n",
       "</ol>\n",
       "</dd>\n",
       "\t<dt>$la</dt>\n",
       "\t\t<dd><ol class=list-inline>\n",
       "\t<li>'ti'</li>\n",
       "\t<li>'do'</li>\n",
       "</ol>\n",
       "</dd>\n",
       "</dl>\n"
      ],
      "text/latex": [
       "\\begin{description}\n",
       "\\item[\\$do] \\begin{enumerate*}\n",
       "\\item 1\n",
       "\\item 9\n",
       "\\item 6\n",
       "\\item 5\n",
       "\\end{enumerate*}\n",
       "\n",
       "\\item[\\$re] \\begin{enumerate*}\n",
       "\\item 'mi'\n",
       "\\item 'fa'\n",
       "\\item 'so'\n",
       "\\end{enumerate*}\n",
       "\n",
       "\\item[\\$la] \\begin{enumerate*}\n",
       "\\item 'ti'\n",
       "\\item 'do'\n",
       "\\end{enumerate*}\n",
       "\n",
       "\\end{description}\n"
      ],
      "text/markdown": [
       "$do\n",
       ":   1. 1\n",
       "2. 9\n",
       "3. 6\n",
       "4. 5\n",
       "\n",
       "\n",
       "\n",
       "$re\n",
       ":   1. 'mi'\n",
       "2. 'fa'\n",
       "3. 'so'\n",
       "\n",
       "\n",
       "\n",
       "$la\n",
       ":   1. 'ti'\n",
       "2. 'do'\n",
       "\n",
       "\n",
       "\n",
       "\n",
       "\n"
      ],
      "text/plain": [
       "$do\n",
       "[1] 1 9 6 5\n",
       "\n",
       "$re\n",
       "[1] \"mi\" \"fa\" \"so\"\n",
       "\n",
       "$la\n",
       "[1] \"ti\" \"do\"\n"
      ]
     },
     "metadata": {},
     "output_type": "display_data"
    }
   ],
   "source": [
    "# YOUR CODE HERE\n",
    "x[['re']][1] <- \"mi\"\n",
    "x"
   ]
  },
  {
   "cell_type": "code",
   "execution_count": 15,
   "metadata": {
    "collapsed": false,
    "deletable": false,
    "editable": false,
    "nbgrader": {
     "checksum": "82e4572af3afea344c278e5e1846000d",
     "grade": true,
     "grade_id": "problem_7_test",
     "locked": true,
     "points": 1,
     "schema_version": 1,
     "solution": false
    }
   },
   "outputs": [],
   "source": [
    "# This chunk tests that the replacement worked"
   ]
  },
  {
   "cell_type": "markdown",
   "metadata": {
    "deletable": false,
    "editable": false,
    "nbgrader": {
     "checksum": "96fb481c2fe997ee2b0b743465be0019",
     "grade": false,
     "grade_id": "problem_8",
     "locked": true,
     "schema_version": 1,
     "solution": false
    }
   },
   "source": [
    "---\n",
    "\n",
    "# Problem 8\n",
    "\n",
    "Why does the following code produce an error?"
   ]
  },
  {
   "cell_type": "code",
   "execution_count": 57,
   "metadata": {
    "collapsed": false,
    "deletable": false,
    "editable": false,
    "nbgrader": {
     "checksum": "36345deab3cb891946f623956d248638",
     "grade": false,
     "grade_id": "problem_8_error",
     "locked": true,
     "schema_version": 1,
     "solution": false
    }
   },
   "outputs": [
    {
     "ename": "ERROR",
     "evalue": "Error in new.env(pizza = \"pizza my heart\", thai = \"sabieng\", beach = \"its\", : unused arguments (pizza = \"pizza my heart\", thai = \"sabieng\", beach = \"its\", school = \"ucsc\", park = \"wilder\")\n",
     "output_type": "error",
     "traceback": [
      "Error in new.env(pizza = \"pizza my heart\", thai = \"sabieng\", beach = \"its\", : unused arguments (pizza = \"pizza my heart\", thai = \"sabieng\", beach = \"its\", school = \"ucsc\", park = \"wilder\")\nTraceback:\n",
      "1. new.env(pizza = \"pizza my heart\", thai = \"sabieng\", beach = \"its\", \n .     school = \"ucsc\", park = \"wilder\")"
     ]
    }
   ],
   "source": [
    "santa_cruz <-new.env(\n",
    "    pizza = \"pizza my heart\",\n",
    "    thai = \"sabieng\",\n",
    "    beach = \"its\",\n",
    "    school = \"ucsc\",\n",
    "    park = \"wilder\")"
   ]
  },
  {
   "cell_type": "markdown",
   "metadata": {},
   "source": [
    "Change something in the first line to have the code assign the correct character strings to each name within an R object. "
   ]
  },
  {
   "cell_type": "code",
   "execution_count": 73,
   "metadata": {
    "collapsed": false,
    "deletable": false,
    "nbgrader": {
     "checksum": "73d0c75f978467db4ffba9c7d4629520",
     "grade": false,
     "grade_id": "problem_8_code",
     "locked": false,
     "schema_version": 1,
     "solution": true
    }
   },
   "outputs": [],
   "source": [
    "santa_cruz <- list(\n",
    "    pizza = \"pizza my heart\",\n",
    "    thai = \"sabieng\",\n",
    "    beach = \"its\",\n",
    "    school = \"ucsc\",\n",
    "    park = \"wilder\")"
   ]
  },
  {
   "cell_type": "markdown",
   "metadata": {},
   "source": [
    "Now test to see if it worked."
   ]
  },
  {
   "cell_type": "code",
   "execution_count": 74,
   "metadata": {
    "collapsed": false,
    "deletable": false,
    "editable": false,
    "nbgrader": {
     "checksum": "449ec7ccdebbb35a7e37c19d94c6b2cf",
     "grade": true,
     "grade_id": "problem_8_test",
     "locked": true,
     "points": 1,
     "schema_version": 1,
     "solution": false
    }
   },
   "outputs": [],
   "source": [
    "stopifnot(santa_cruz$beach == 'its')"
   ]
  },
  {
   "cell_type": "markdown",
   "metadata": {
    "deletable": false,
    "editable": false,
    "nbgrader": {
     "checksum": "3391d794683e42120e49ccd784529784",
     "grade": false,
     "grade_id": "problem_9_part_1",
     "locked": true,
     "schema_version": 1,
     "solution": false
    }
   },
   "source": [
    "---\n",
    "\n",
    " # Problem 9\n",
    " \n",
    " The `Titanic` data set is available in base R. It contains class, sex, and age information, as well as the number of people in each group that survived and died. Groups are defined by their class, sex, and age. Use this data to answer the following questions. First, find the total number of passengers in each group using the `aggregate` function. Name the aggregated data frame `total`."
   ]
  },
  {
   "cell_type": "code",
   "execution_count": 54,
   "metadata": {
    "collapsed": false,
    "deletable": false,
    "nbgrader": {
     "checksum": "9b38768d9fdf9eadc69247d4dd7d67ec",
     "grade": true,
     "grade_id": "problem_9_part_1_code",
     "locked": false,
     "points": 1,
     "schema_version": 1,
     "solution": true
    }
   },
   "outputs": [],
   "source": [
    "data(\"Titanic\")\n",
    "Titanic_df <- as.data.frame(Titanic)\n",
    "# target variable left of the tilde, and the vars to subset over to right\n",
    "total <- aggregate(Freq ~ Class + Sex + Age, data=Titanic_df, FUN = sum) "
   ]
  },
  {
   "cell_type": "markdown",
   "metadata": {
    "deletable": false,
    "editable": false,
    "nbgrader": {
     "checksum": "1b90d61c0b903cec17aba60492807aa4",
     "grade": false,
     "grade_id": "problem_9_part_2",
     "locked": true,
     "schema_version": 1,
     "solution": false
    }
   },
   "source": [
    "Now `merge` this aggregated data frame with the original data frame, effectively adding another column to the data frame. You should change the name of `Freq` column in `total` to `Total` before the merge so your merged data frame has interpretable column names. Name your merged data frame `merged_df`."
   ]
  },
  {
   "cell_type": "code",
   "execution_count": 55,
   "metadata": {
    "collapsed": false,
    "deletable": false,
    "nbgrader": {
     "checksum": "f10cd17d1a0f39cc6aa84e4742df354e",
     "grade": true,
     "grade_id": "problem_9_part_2_code",
     "locked": false,
     "points": 1,
     "schema_version": 1,
     "solution": true
    }
   },
   "outputs": [],
   "source": [
    "colnames(total)[4] <- \"Total\"\n",
    "merged_df <- merge(Titanic_df, total)"
   ]
  },
  {
   "cell_type": "markdown",
   "metadata": {
    "deletable": false,
    "editable": false,
    "nbgrader": {
     "checksum": "a7fb39de04ea8b20bcc407ef4777f265",
     "grade": false,
     "grade_id": "problem_9_part_3",
     "locked": true,
     "schema_version": 1,
     "solution": false
    }
   },
   "source": [
    "You may notice that there are no children in the crew. Remove the rows of your data frame with a `Total` value of 0."
   ]
  },
  {
   "cell_type": "code",
   "execution_count": 58,
   "metadata": {
    "collapsed": false,
    "deletable": false,
    "nbgrader": {
     "checksum": "0deddfb9cd7c63af94a0e13dda4b22cf",
     "grade": true,
     "grade_id": "problem_9_part_3_code",
     "locked": false,
     "points": 1,
     "schema_version": 1,
     "solution": true
    }
   },
   "outputs": [],
   "source": [
    "merged_df <- merged_df[merged_df$Total!=0, ]"
   ]
  },
  {
   "cell_type": "code",
   "execution_count": 59,
   "metadata": {
    "collapsed": false,
    "scrolled": true
   },
   "outputs": [
    {
     "data": {
      "text/html": [
       "<table>\n",
       "<thead><tr><th></th><th scope=col>Class</th><th scope=col>Sex</th><th scope=col>Age</th><th scope=col>Survived</th><th scope=col>Freq</th><th scope=col>Total</th></tr></thead>\n",
       "<tbody>\n",
       "\t<tr><th scope=row>1</th><td>1st   </td><td>Female</td><td>Adult </td><td>No    </td><td>  4   </td><td>144   </td></tr>\n",
       "\t<tr><th scope=row>2</th><td>1st   </td><td>Female</td><td>Adult </td><td>Yes   </td><td>140   </td><td>144   </td></tr>\n",
       "\t<tr><th scope=row>3</th><td>1st   </td><td>Female</td><td>Child </td><td>No    </td><td>  0   </td><td>  1   </td></tr>\n",
       "\t<tr><th scope=row>4</th><td>1st   </td><td>Female</td><td>Child </td><td>Yes   </td><td>  1   </td><td>  1   </td></tr>\n",
       "\t<tr><th scope=row>5</th><td>1st   </td><td>Male  </td><td>Adult </td><td>No    </td><td>118   </td><td>175   </td></tr>\n",
       "\t<tr><th scope=row>6</th><td>1st   </td><td>Male  </td><td>Adult </td><td>Yes   </td><td> 57   </td><td>175   </td></tr>\n",
       "\t<tr><th scope=row>7</th><td>1st   </td><td>Male  </td><td>Child </td><td>No    </td><td>  0   </td><td>  5   </td></tr>\n",
       "\t<tr><th scope=row>8</th><td>1st   </td><td>Male  </td><td>Child </td><td>Yes   </td><td>  5   </td><td>  5   </td></tr>\n",
       "\t<tr><th scope=row>9</th><td>2nd   </td><td>Female</td><td>Adult </td><td>No    </td><td> 13   </td><td> 93   </td></tr>\n",
       "\t<tr><th scope=row>10</th><td>2nd   </td><td>Female</td><td>Adult </td><td>Yes   </td><td> 80   </td><td> 93   </td></tr>\n",
       "\t<tr><th scope=row>11</th><td>2nd   </td><td>Female</td><td>Child </td><td>No    </td><td>  0   </td><td> 13   </td></tr>\n",
       "\t<tr><th scope=row>12</th><td>2nd   </td><td>Female</td><td>Child </td><td>Yes   </td><td> 13   </td><td> 13   </td></tr>\n",
       "\t<tr><th scope=row>13</th><td>2nd   </td><td>Male  </td><td>Adult </td><td>No    </td><td>154   </td><td>168   </td></tr>\n",
       "\t<tr><th scope=row>14</th><td>2nd   </td><td>Male  </td><td>Adult </td><td>Yes   </td><td> 14   </td><td>168   </td></tr>\n",
       "\t<tr><th scope=row>15</th><td>2nd   </td><td>Male  </td><td>Child </td><td>No    </td><td>  0   </td><td> 11   </td></tr>\n",
       "\t<tr><th scope=row>16</th><td>2nd   </td><td>Male  </td><td>Child </td><td>Yes   </td><td> 11   </td><td> 11   </td></tr>\n",
       "\t<tr><th scope=row>17</th><td>3rd   </td><td>Female</td><td>Adult </td><td>No    </td><td> 89   </td><td>165   </td></tr>\n",
       "\t<tr><th scope=row>18</th><td>3rd   </td><td>Female</td><td>Adult </td><td>Yes   </td><td> 76   </td><td>165   </td></tr>\n",
       "\t<tr><th scope=row>19</th><td>3rd   </td><td>Female</td><td>Child </td><td>No    </td><td> 17   </td><td> 31   </td></tr>\n",
       "\t<tr><th scope=row>20</th><td>3rd   </td><td>Female</td><td>Child </td><td>Yes   </td><td> 14   </td><td> 31   </td></tr>\n",
       "\t<tr><th scope=row>21</th><td>3rd   </td><td>Male  </td><td>Adult </td><td>No    </td><td>387   </td><td>462   </td></tr>\n",
       "\t<tr><th scope=row>22</th><td>3rd   </td><td>Male  </td><td>Adult </td><td>Yes   </td><td> 75   </td><td>462   </td></tr>\n",
       "\t<tr><th scope=row>23</th><td>3rd   </td><td>Male  </td><td>Child </td><td>No    </td><td> 35   </td><td> 48   </td></tr>\n",
       "\t<tr><th scope=row>24</th><td>3rd   </td><td>Male  </td><td>Child </td><td>Yes   </td><td> 13   </td><td> 48   </td></tr>\n",
       "\t<tr><th scope=row>25</th><td>Crew  </td><td>Female</td><td>Adult </td><td>No    </td><td>  3   </td><td> 23   </td></tr>\n",
       "\t<tr><th scope=row>26</th><td>Crew  </td><td>Female</td><td>Adult </td><td>Yes   </td><td> 20   </td><td> 23   </td></tr>\n",
       "\t<tr><th scope=row>29</th><td>Crew  </td><td>Male  </td><td>Adult </td><td>No    </td><td>670   </td><td>862   </td></tr>\n",
       "\t<tr><th scope=row>30</th><td>Crew  </td><td>Male  </td><td>Adult </td><td>Yes   </td><td>192   </td><td>862   </td></tr>\n",
       "</tbody>\n",
       "</table>\n"
      ],
      "text/latex": [
       "\\begin{tabular}{r|llllll}\n",
       "  & Class & Sex & Age & Survived & Freq & Total\\\\\n",
       "\\hline\n",
       "\t1 & 1st    & Female & Adult  & No     &   4    & 144   \\\\\n",
       "\t2 & 1st    & Female & Adult  & Yes    & 140    & 144   \\\\\n",
       "\t3 & 1st    & Female & Child  & No     &   0    &   1   \\\\\n",
       "\t4 & 1st    & Female & Child  & Yes    &   1    &   1   \\\\\n",
       "\t5 & 1st    & Male   & Adult  & No     & 118    & 175   \\\\\n",
       "\t6 & 1st    & Male   & Adult  & Yes    &  57    & 175   \\\\\n",
       "\t7 & 1st    & Male   & Child  & No     &   0    &   5   \\\\\n",
       "\t8 & 1st    & Male   & Child  & Yes    &   5    &   5   \\\\\n",
       "\t9 & 2nd    & Female & Adult  & No     &  13    &  93   \\\\\n",
       "\t10 & 2nd    & Female & Adult  & Yes    &  80    &  93   \\\\\n",
       "\t11 & 2nd    & Female & Child  & No     &   0    &  13   \\\\\n",
       "\t12 & 2nd    & Female & Child  & Yes    &  13    &  13   \\\\\n",
       "\t13 & 2nd    & Male   & Adult  & No     & 154    & 168   \\\\\n",
       "\t14 & 2nd    & Male   & Adult  & Yes    &  14    & 168   \\\\\n",
       "\t15 & 2nd    & Male   & Child  & No     &   0    &  11   \\\\\n",
       "\t16 & 2nd    & Male   & Child  & Yes    &  11    &  11   \\\\\n",
       "\t17 & 3rd    & Female & Adult  & No     &  89    & 165   \\\\\n",
       "\t18 & 3rd    & Female & Adult  & Yes    &  76    & 165   \\\\\n",
       "\t19 & 3rd    & Female & Child  & No     &  17    &  31   \\\\\n",
       "\t20 & 3rd    & Female & Child  & Yes    &  14    &  31   \\\\\n",
       "\t21 & 3rd    & Male   & Adult  & No     & 387    & 462   \\\\\n",
       "\t22 & 3rd    & Male   & Adult  & Yes    &  75    & 462   \\\\\n",
       "\t23 & 3rd    & Male   & Child  & No     &  35    &  48   \\\\\n",
       "\t24 & 3rd    & Male   & Child  & Yes    &  13    &  48   \\\\\n",
       "\t25 & Crew   & Female & Adult  & No     &   3    &  23   \\\\\n",
       "\t26 & Crew   & Female & Adult  & Yes    &  20    &  23   \\\\\n",
       "\t29 & Crew   & Male   & Adult  & No     & 670    & 862   \\\\\n",
       "\t30 & Crew   & Male   & Adult  & Yes    & 192    & 862   \\\\\n",
       "\\end{tabular}\n"
      ],
      "text/markdown": [
       "\n",
       "| <!--/--> | Class | Sex | Age | Survived | Freq | Total | \n",
       "|---|---|---|---|---|---|---|---|---|---|---|---|---|---|---|---|---|---|---|---|---|---|---|---|---|---|---|---|\n",
       "| 1 | 1st    | Female | Adult  | No     |   4    | 144    | \n",
       "| 2 | 1st    | Female | Adult  | Yes    | 140    | 144    | \n",
       "| 3 | 1st    | Female | Child  | No     |   0    |   1    | \n",
       "| 4 | 1st    | Female | Child  | Yes    |   1    |   1    | \n",
       "| 5 | 1st    | Male   | Adult  | No     | 118    | 175    | \n",
       "| 6 | 1st    | Male   | Adult  | Yes    |  57    | 175    | \n",
       "| 7 | 1st    | Male   | Child  | No     |   0    |   5    | \n",
       "| 8 | 1st    | Male   | Child  | Yes    |   5    |   5    | \n",
       "| 9 | 2nd    | Female | Adult  | No     |  13    |  93    | \n",
       "| 10 | 2nd    | Female | Adult  | Yes    |  80    |  93    | \n",
       "| 11 | 2nd    | Female | Child  | No     |   0    |  13    | \n",
       "| 12 | 2nd    | Female | Child  | Yes    |  13    |  13    | \n",
       "| 13 | 2nd    | Male   | Adult  | No     | 154    | 168    | \n",
       "| 14 | 2nd    | Male   | Adult  | Yes    |  14    | 168    | \n",
       "| 15 | 2nd    | Male   | Child  | No     |   0    |  11    | \n",
       "| 16 | 2nd    | Male   | Child  | Yes    |  11    |  11    | \n",
       "| 17 | 3rd    | Female | Adult  | No     |  89    | 165    | \n",
       "| 18 | 3rd    | Female | Adult  | Yes    |  76    | 165    | \n",
       "| 19 | 3rd    | Female | Child  | No     |  17    |  31    | \n",
       "| 20 | 3rd    | Female | Child  | Yes    |  14    |  31    | \n",
       "| 21 | 3rd    | Male   | Adult  | No     | 387    | 462    | \n",
       "| 22 | 3rd    | Male   | Adult  | Yes    |  75    | 462    | \n",
       "| 23 | 3rd    | Male   | Child  | No     |  35    |  48    | \n",
       "| 24 | 3rd    | Male   | Child  | Yes    |  13    |  48    | \n",
       "| 25 | Crew   | Female | Adult  | No     |   3    |  23    | \n",
       "| 26 | Crew   | Female | Adult  | Yes    |  20    |  23    | \n",
       "| 29 | Crew   | Male   | Adult  | No     | 670    | 862    | \n",
       "| 30 | Crew   | Male   | Adult  | Yes    | 192    | 862    | \n",
       "\n",
       "\n"
      ],
      "text/plain": [
       "   Class Sex    Age   Survived Freq Total\n",
       "1  1st   Female Adult No         4  144  \n",
       "2  1st   Female Adult Yes      140  144  \n",
       "3  1st   Female Child No         0    1  \n",
       "4  1st   Female Child Yes        1    1  \n",
       "5  1st   Male   Adult No       118  175  \n",
       "6  1st   Male   Adult Yes       57  175  \n",
       "7  1st   Male   Child No         0    5  \n",
       "8  1st   Male   Child Yes        5    5  \n",
       "9  2nd   Female Adult No        13   93  \n",
       "10 2nd   Female Adult Yes       80   93  \n",
       "11 2nd   Female Child No         0   13  \n",
       "12 2nd   Female Child Yes       13   13  \n",
       "13 2nd   Male   Adult No       154  168  \n",
       "14 2nd   Male   Adult Yes       14  168  \n",
       "15 2nd   Male   Child No         0   11  \n",
       "16 2nd   Male   Child Yes       11   11  \n",
       "17 3rd   Female Adult No        89  165  \n",
       "18 3rd   Female Adult Yes       76  165  \n",
       "19 3rd   Female Child No        17   31  \n",
       "20 3rd   Female Child Yes       14   31  \n",
       "21 3rd   Male   Adult No       387  462  \n",
       "22 3rd   Male   Adult Yes       75  462  \n",
       "23 3rd   Male   Child No        35   48  \n",
       "24 3rd   Male   Child Yes       13   48  \n",
       "25 Crew  Female Adult No         3   23  \n",
       "26 Crew  Female Adult Yes       20   23  \n",
       "29 Crew  Male   Adult No       670  862  \n",
       "30 Crew  Male   Adult Yes      192  862  "
      ]
     },
     "metadata": {},
     "output_type": "display_data"
    }
   ],
   "source": [
    "merged_df"
   ]
  },
  {
   "cell_type": "markdown",
   "metadata": {
    "deletable": false,
    "editable": false,
    "nbgrader": {
     "checksum": "5f36dcacbf241302246492353d70b5c4",
     "grade": false,
     "grade_id": "problem_9_part_4",
     "locked": true,
     "schema_version": 1,
     "solution": false
    }
   },
   "source": [
    "Now use the `transform` function to find the porportion of each group that survived and died."
   ]
  },
  {
   "cell_type": "code",
   "execution_count": 70,
   "metadata": {
    "collapsed": false,
    "deletable": false,
    "nbgrader": {
     "checksum": "15deedc108e6a453b703d82e51cd72a6",
     "grade": true,
     "grade_id": "problem_9_part_4_code",
     "locked": false,
     "points": 1,
     "schema_version": 1,
     "solution": true
    }
   },
   "outputs": [
    {
     "data": {
      "text/html": [
       "<table>\n",
       "<thead><tr><th></th><th scope=col>Class</th><th scope=col>Sex</th><th scope=col>Age</th><th scope=col>Survived</th><th scope=col>Freq</th><th scope=col>Total</th><th scope=col>proportion</th></tr></thead>\n",
       "<tbody>\n",
       "\t<tr><th scope=row>4</th><td>1st       </td><td>Female    </td><td>Child     </td><td>Yes       </td><td>  1       </td><td>  1       </td><td>1.00000000</td></tr>\n",
       "\t<tr><th scope=row>8</th><td>1st       </td><td>Male      </td><td>Child     </td><td>Yes       </td><td>  5       </td><td>  5       </td><td>1.00000000</td></tr>\n",
       "\t<tr><th scope=row>6</th><td>1st       </td><td>Male      </td><td>Adult     </td><td>Yes       </td><td> 57       </td><td>175       </td><td>0.32571429</td></tr>\n",
       "\t<tr><th scope=row>2</th><td>1st       </td><td>Female    </td><td>Adult     </td><td>Yes       </td><td>140       </td><td>144       </td><td>0.97222222</td></tr>\n",
       "\t<tr><th scope=row>12</th><td>2nd       </td><td>Female    </td><td>Child     </td><td>Yes       </td><td> 13       </td><td> 13       </td><td>1.00000000</td></tr>\n",
       "\t<tr><th scope=row>16</th><td>2nd       </td><td>Male      </td><td>Child     </td><td>Yes       </td><td> 11       </td><td> 11       </td><td>1.00000000</td></tr>\n",
       "\t<tr><th scope=row>14</th><td>2nd       </td><td>Male      </td><td>Adult     </td><td>Yes       </td><td> 14       </td><td>168       </td><td>0.08333333</td></tr>\n",
       "\t<tr><th scope=row>10</th><td>2nd       </td><td>Female    </td><td>Adult     </td><td>Yes       </td><td> 80       </td><td> 93       </td><td>0.86021505</td></tr>\n",
       "\t<tr><th scope=row>24</th><td>3rd       </td><td>Male      </td><td>Child     </td><td>Yes       </td><td> 13       </td><td> 48       </td><td>0.27083333</td></tr>\n",
       "\t<tr><th scope=row>20</th><td>3rd       </td><td>Female    </td><td>Child     </td><td>Yes       </td><td> 14       </td><td> 31       </td><td>0.45161290</td></tr>\n",
       "\t<tr><th scope=row>22</th><td>3rd       </td><td>Male      </td><td>Adult     </td><td>Yes       </td><td> 75       </td><td>462       </td><td>0.16233766</td></tr>\n",
       "\t<tr><th scope=row>18</th><td>3rd       </td><td>Female    </td><td>Adult     </td><td>Yes       </td><td> 76       </td><td>165       </td><td>0.46060606</td></tr>\n",
       "\t<tr><th scope=row>30</th><td>Crew      </td><td>Male      </td><td>Adult     </td><td>Yes       </td><td>192       </td><td>862       </td><td>0.22273782</td></tr>\n",
       "\t<tr><th scope=row>26</th><td>Crew      </td><td>Female    </td><td>Adult     </td><td>Yes       </td><td> 20       </td><td> 23       </td><td>0.86956522</td></tr>\n",
       "</tbody>\n",
       "</table>\n"
      ],
      "text/latex": [
       "\\begin{tabular}{r|lllllll}\n",
       "  & Class & Sex & Age & Survived & Freq & Total & proportion\\\\\n",
       "\\hline\n",
       "\t4 & 1st        & Female     & Child      & Yes        &   1        &   1        & 1.00000000\\\\\n",
       "\t8 & 1st        & Male       & Child      & Yes        &   5        &   5        & 1.00000000\\\\\n",
       "\t6 & 1st        & Male       & Adult      & Yes        &  57        & 175        & 0.32571429\\\\\n",
       "\t2 & 1st        & Female     & Adult      & Yes        & 140        & 144        & 0.97222222\\\\\n",
       "\t12 & 2nd        & Female     & Child      & Yes        &  13        &  13        & 1.00000000\\\\\n",
       "\t16 & 2nd        & Male       & Child      & Yes        &  11        &  11        & 1.00000000\\\\\n",
       "\t14 & 2nd        & Male       & Adult      & Yes        &  14        & 168        & 0.08333333\\\\\n",
       "\t10 & 2nd        & Female     & Adult      & Yes        &  80        &  93        & 0.86021505\\\\\n",
       "\t24 & 3rd        & Male       & Child      & Yes        &  13        &  48        & 0.27083333\\\\\n",
       "\t20 & 3rd        & Female     & Child      & Yes        &  14        &  31        & 0.45161290\\\\\n",
       "\t22 & 3rd        & Male       & Adult      & Yes        &  75        & 462        & 0.16233766\\\\\n",
       "\t18 & 3rd        & Female     & Adult      & Yes        &  76        & 165        & 0.46060606\\\\\n",
       "\t30 & Crew       & Male       & Adult      & Yes        & 192        & 862        & 0.22273782\\\\\n",
       "\t26 & Crew       & Female     & Adult      & Yes        &  20        &  23        & 0.86956522\\\\\n",
       "\\end{tabular}\n"
      ],
      "text/markdown": [
       "\n",
       "| <!--/--> | Class | Sex | Age | Survived | Freq | Total | proportion | \n",
       "|---|---|---|---|---|---|---|---|---|---|---|---|---|---|\n",
       "| 4 | 1st        | Female     | Child      | Yes        |   1        |   1        | 1.00000000 | \n",
       "| 8 | 1st        | Male       | Child      | Yes        |   5        |   5        | 1.00000000 | \n",
       "| 6 | 1st        | Male       | Adult      | Yes        |  57        | 175        | 0.32571429 | \n",
       "| 2 | 1st        | Female     | Adult      | Yes        | 140        | 144        | 0.97222222 | \n",
       "| 12 | 2nd        | Female     | Child      | Yes        |  13        |  13        | 1.00000000 | \n",
       "| 16 | 2nd        | Male       | Child      | Yes        |  11        |  11        | 1.00000000 | \n",
       "| 14 | 2nd        | Male       | Adult      | Yes        |  14        | 168        | 0.08333333 | \n",
       "| 10 | 2nd        | Female     | Adult      | Yes        |  80        |  93        | 0.86021505 | \n",
       "| 24 | 3rd        | Male       | Child      | Yes        |  13        |  48        | 0.27083333 | \n",
       "| 20 | 3rd        | Female     | Child      | Yes        |  14        |  31        | 0.45161290 | \n",
       "| 22 | 3rd        | Male       | Adult      | Yes        |  75        | 462        | 0.16233766 | \n",
       "| 18 | 3rd        | Female     | Adult      | Yes        |  76        | 165        | 0.46060606 | \n",
       "| 30 | Crew       | Male       | Adult      | Yes        | 192        | 862        | 0.22273782 | \n",
       "| 26 | Crew       | Female     | Adult      | Yes        |  20        |  23        | 0.86956522 | \n",
       "\n",
       "\n"
      ],
      "text/plain": [
       "   Class Sex    Age   Survived Freq Total proportion\n",
       "4  1st   Female Child Yes        1    1   1.00000000\n",
       "8  1st   Male   Child Yes        5    5   1.00000000\n",
       "6  1st   Male   Adult Yes       57  175   0.32571429\n",
       "2  1st   Female Adult Yes      140  144   0.97222222\n",
       "12 2nd   Female Child Yes       13   13   1.00000000\n",
       "16 2nd   Male   Child Yes       11   11   1.00000000\n",
       "14 2nd   Male   Adult Yes       14  168   0.08333333\n",
       "10 2nd   Female Adult Yes       80   93   0.86021505\n",
       "24 3rd   Male   Child Yes       13   48   0.27083333\n",
       "20 3rd   Female Child Yes       14   31   0.45161290\n",
       "22 3rd   Male   Adult Yes       75  462   0.16233766\n",
       "18 3rd   Female Adult Yes       76  165   0.46060606\n",
       "30 Crew  Male   Adult Yes      192  862   0.22273782\n",
       "26 Crew  Female Adult Yes       20   23   0.86956522"
      ]
     },
     "metadata": {},
     "output_type": "display_data"
    }
   ],
   "source": [
    "merged_df <- transform(merged_df, proportion=Freq/Total)\n",
    "\n",
    "#finding highest rates of survival\n",
    "merged_df <- merged_df[order(merged_df$proportion),]\n",
    "res <- merged_df[merged_df$Survived == \"Yes\",]\n",
    "res[ order(res$Class, res$Age, res$proportion), ]"
   ]
  },
  {
   "cell_type": "markdown",
   "metadata": {
    "deletable": false,
    "editable": false,
    "nbgrader": {
     "checksum": "1070529bb7c12105f92d8839fa680c81",
     "grade": false,
     "grade_id": "problem_9_part_5",
     "locked": true,
     "schema_version": 1,
     "solution": false
    }
   },
   "source": [
    "Did females have higher survival rates than males in all class and age groupings? In which grouping was the difference in proportions the largest?"
   ]
  },
  {
   "cell_type": "markdown",
   "metadata": {
    "deletable": false,
    "nbgrader": {
     "checksum": "44d3435a74563d6567dd097db86da6b1",
     "grade": true,
     "grade_id": "problem_9_part_5_explain",
     "locked": false,
     "points": 1,
     "schema_version": 1,
     "solution": true
    }
   },
   "source": [
    "Yes, females had higher survival rates across all age and class groupings as shown in the above dataframe `res`.  The greatest difference was among 2nd class adult passengers, with a 77.69%-point difference in survival favoring women.  They were survivors.  Que Desinty's Child."
   ]
  },
  {
   "cell_type": "markdown",
   "metadata": {
    "deletable": false,
    "editable": false,
    "nbgrader": {
     "checksum": "28e48323b2907952f5e0484032a4f5d5",
     "grade": false,
     "grade_id": "problem_10",
     "locked": true,
     "schema_version": 1,
     "solution": false
    }
   },
   "source": [
    "---\n",
    "\n",
    "# Problem 10\n",
    "\n",
    "The following data set is made up to represent some experiment that tracks a control and a treatment through time. "
   ]
  },
  {
   "cell_type": "code",
   "execution_count": 25,
   "metadata": {
    "collapsed": false,
    "deletable": false,
    "editable": false,
    "nbgrader": {
     "checksum": "994e8475b654d3d34e10a8e5fbe93557",
     "grade": false,
     "grade_id": "problem_10_data",
     "locked": true,
     "schema_version": 1,
     "solution": false
    },
    "scrolled": true
   },
   "outputs": [
    {
     "data": {
      "text/html": [
       "<table>\n",
       "<thead><tr><th scope=col>time</th><th scope=col>control</th><th scope=col>treatment</th></tr></thead>\n",
       "<tbody>\n",
       "\t<tr><td> 1       </td><td>0.7916754</td><td>0.5511133</td></tr>\n",
       "\t<tr><td> 2       </td><td>0.6734152</td><td>0.6266544</td></tr>\n",
       "\t<tr><td> 3       </td><td>0.6755871</td><td>0.7906807</td></tr>\n",
       "\t<tr><td> 4       </td><td>1.0235262</td><td>0.9249958</td></tr>\n",
       "\t<tr><td> 5       </td><td>1.2322098</td><td>0.9491720</td></tr>\n",
       "\t<tr><td> 6       </td><td>0.9071373</td><td>1.1577842</td></tr>\n",
       "\t<tr><td> 7       </td><td>1.0642027</td><td>1.5735185</td></tr>\n",
       "\t<tr><td> 8       </td><td>1.1879442</td><td>1.6698416</td></tr>\n",
       "\t<tr><td> 9       </td><td>1.5259792</td><td>1.5431297</td></tr>\n",
       "\t<tr><td>10       </td><td>1.3865867</td><td>1.8752687</td></tr>\n",
       "\t<tr><td>11       </td><td>1.6502512</td><td>1.7586038</td></tr>\n",
       "\t<tr><td>12       </td><td>1.8867396</td><td>2.1858056</td></tr>\n",
       "\t<tr><td>13       </td><td>2.1687989</td><td>2.2499446</td></tr>\n",
       "\t<tr><td>14       </td><td>1.6172871</td><td>2.4631105</td></tr>\n",
       "\t<tr><td>15       </td><td>1.9867108</td><td>2.7527296</td></tr>\n",
       "\t<tr><td>16       </td><td>2.3752907</td><td>2.5628916</td></tr>\n",
       "\t<tr><td>17       </td><td>2.0874739</td><td>3.2741762</td></tr>\n",
       "\t<tr><td>18       </td><td>2.3159451</td><td>3.3514930</td></tr>\n",
       "\t<tr><td>19       </td><td>2.1898046</td><td>3.2497218</td></tr>\n",
       "\t<tr><td>20       </td><td>2.4293298</td><td>3.3128708</td></tr>\n",
       "\t<tr><td>21       </td><td>2.2424156</td><td>3.5699113</td></tr>\n",
       "\t<tr><td>22       </td><td>2.7647004</td><td>3.6335052</td></tr>\n",
       "\t<tr><td>23       </td><td>2.7793867</td><td>4.1646657</td></tr>\n",
       "\t<tr><td>24       </td><td>2.8639461</td><td>3.9066256</td></tr>\n",
       "\t<tr><td>25       </td><td>2.5641269</td><td>4.0789138</td></tr>\n",
       "</tbody>\n",
       "</table>\n"
      ],
      "text/latex": [
       "\\begin{tabular}{r|lll}\n",
       " time & control & treatment\\\\\n",
       "\\hline\n",
       "\t  1        & 0.7916754 & 0.5511133\\\\\n",
       "\t  2        & 0.6734152 & 0.6266544\\\\\n",
       "\t  3        & 0.6755871 & 0.7906807\\\\\n",
       "\t  4        & 1.0235262 & 0.9249958\\\\\n",
       "\t  5        & 1.2322098 & 0.9491720\\\\\n",
       "\t  6        & 0.9071373 & 1.1577842\\\\\n",
       "\t  7        & 1.0642027 & 1.5735185\\\\\n",
       "\t  8        & 1.1879442 & 1.6698416\\\\\n",
       "\t  9        & 1.5259792 & 1.5431297\\\\\n",
       "\t 10        & 1.3865867 & 1.8752687\\\\\n",
       "\t 11        & 1.6502512 & 1.7586038\\\\\n",
       "\t 12        & 1.8867396 & 2.1858056\\\\\n",
       "\t 13        & 2.1687989 & 2.2499446\\\\\n",
       "\t 14        & 1.6172871 & 2.4631105\\\\\n",
       "\t 15        & 1.9867108 & 2.7527296\\\\\n",
       "\t 16        & 2.3752907 & 2.5628916\\\\\n",
       "\t 17        & 2.0874739 & 3.2741762\\\\\n",
       "\t 18        & 2.3159451 & 3.3514930\\\\\n",
       "\t 19        & 2.1898046 & 3.2497218\\\\\n",
       "\t 20        & 2.4293298 & 3.3128708\\\\\n",
       "\t 21        & 2.2424156 & 3.5699113\\\\\n",
       "\t 22        & 2.7647004 & 3.6335052\\\\\n",
       "\t 23        & 2.7793867 & 4.1646657\\\\\n",
       "\t 24        & 2.8639461 & 3.9066256\\\\\n",
       "\t 25        & 2.5641269 & 4.0789138\\\\\n",
       "\\end{tabular}\n"
      ],
      "text/markdown": [
       "\n",
       "time | control | treatment | \n",
       "|---|---|---|---|---|---|---|---|---|---|---|---|---|---|---|---|---|---|---|---|---|---|---|---|---|\n",
       "|  1        | 0.7916754 | 0.5511133 | \n",
       "|  2        | 0.6734152 | 0.6266544 | \n",
       "|  3        | 0.6755871 | 0.7906807 | \n",
       "|  4        | 1.0235262 | 0.9249958 | \n",
       "|  5        | 1.2322098 | 0.9491720 | \n",
       "|  6        | 0.9071373 | 1.1577842 | \n",
       "|  7        | 1.0642027 | 1.5735185 | \n",
       "|  8        | 1.1879442 | 1.6698416 | \n",
       "|  9        | 1.5259792 | 1.5431297 | \n",
       "| 10        | 1.3865867 | 1.8752687 | \n",
       "| 11        | 1.6502512 | 1.7586038 | \n",
       "| 12        | 1.8867396 | 2.1858056 | \n",
       "| 13        | 2.1687989 | 2.2499446 | \n",
       "| 14        | 1.6172871 | 2.4631105 | \n",
       "| 15        | 1.9867108 | 2.7527296 | \n",
       "| 16        | 2.3752907 | 2.5628916 | \n",
       "| 17        | 2.0874739 | 3.2741762 | \n",
       "| 18        | 2.3159451 | 3.3514930 | \n",
       "| 19        | 2.1898046 | 3.2497218 | \n",
       "| 20        | 2.4293298 | 3.3128708 | \n",
       "| 21        | 2.2424156 | 3.5699113 | \n",
       "| 22        | 2.7647004 | 3.6335052 | \n",
       "| 23        | 2.7793867 | 4.1646657 | \n",
       "| 24        | 2.8639461 | 3.9066256 | \n",
       "| 25        | 2.5641269 | 4.0789138 | \n",
       "\n",
       "\n"
      ],
      "text/plain": [
       "   time control   treatment\n",
       "1   1   0.7916754 0.5511133\n",
       "2   2   0.6734152 0.6266544\n",
       "3   3   0.6755871 0.7906807\n",
       "4   4   1.0235262 0.9249958\n",
       "5   5   1.2322098 0.9491720\n",
       "6   6   0.9071373 1.1577842\n",
       "7   7   1.0642027 1.5735185\n",
       "8   8   1.1879442 1.6698416\n",
       "9   9   1.5259792 1.5431297\n",
       "10 10   1.3865867 1.8752687\n",
       "11 11   1.6502512 1.7586038\n",
       "12 12   1.8867396 2.1858056\n",
       "13 13   2.1687989 2.2499446\n",
       "14 14   1.6172871 2.4631105\n",
       "15 15   1.9867108 2.7527296\n",
       "16 16   2.3752907 2.5628916\n",
       "17 17   2.0874739 3.2741762\n",
       "18 18   2.3159451 3.3514930\n",
       "19 19   2.1898046 3.2497218\n",
       "20 20   2.4293298 3.3128708\n",
       "21 21   2.2424156 3.5699113\n",
       "22 22   2.7647004 3.6335052\n",
       "23 23   2.7793867 4.1646657\n",
       "24 24   2.8639461 3.9066256\n",
       "25 25   2.5641269 4.0789138"
      ]
     },
     "metadata": {},
     "output_type": "display_data"
    }
   ],
   "source": [
    "set.seed(95064)\n",
    "time <- 1:25\n",
    "made_up <- data.frame(time = time,\n",
    "                      control = 0.45 + 0.1*time + rnorm(25,sd=0.2),\n",
    "                      treatment = 0.47 + 0.15*time + rnorm(25,sd=0.2))\n",
    "made_up"
   ]
  },
  {
   "cell_type": "markdown",
   "metadata": {
    "deletable": false,
    "editable": false,
    "nbgrader": {
     "checksum": "b3c5a63c9506540734558991be743e84",
     "grade": false,
     "grade_id": "problem_10_part_1",
     "locked": true,
     "schema_version": 1,
     "solution": false
    }
   },
   "source": [
    "However, each row of the data frame does not correspond to a single observation, but two observations: one for the control and one for the treatment. Create a new data frame called `outcome` that has 50 rows where each row corresponds to a single observation. This new data frame should have two columns, one named `values` and another named `ind`."
   ]
  },
  {
   "cell_type": "code",
   "execution_count": 38,
   "metadata": {
    "collapsed": false,
    "deletable": false,
    "nbgrader": {
     "checksum": "b692e6a8e3730c8f3883be4fac94bb5f",
     "grade": true,
     "grade_id": "problem_10_part_1_code",
     "locked": false,
     "points": 1,
     "schema_version": 1,
     "solution": true
    },
    "scrolled": true
   },
   "outputs": [
    {
     "data": {
      "text/html": [
       "<table>\n",
       "<thead><tr><th></th><th scope=col>values</th><th scope=col>ind</th></tr></thead>\n",
       "<tbody>\n",
       "\t<tr><th scope=row>26</th><td>0.7916754</td><td>control  </td></tr>\n",
       "\t<tr><th scope=row>27</th><td>0.6734152</td><td>control  </td></tr>\n",
       "\t<tr><th scope=row>28</th><td>0.6755871</td><td>control  </td></tr>\n",
       "\t<tr><th scope=row>29</th><td>1.0235262</td><td>control  </td></tr>\n",
       "\t<tr><th scope=row>30</th><td>1.2322098</td><td>control  </td></tr>\n",
       "\t<tr><th scope=row>31</th><td>0.9071373</td><td>control  </td></tr>\n",
       "\t<tr><th scope=row>32</th><td>1.0642027</td><td>control  </td></tr>\n",
       "\t<tr><th scope=row>33</th><td>1.1879442</td><td>control  </td></tr>\n",
       "\t<tr><th scope=row>34</th><td>1.5259792</td><td>control  </td></tr>\n",
       "\t<tr><th scope=row>35</th><td>1.3865867</td><td>control  </td></tr>\n",
       "\t<tr><th scope=row>36</th><td>1.6502512</td><td>control  </td></tr>\n",
       "\t<tr><th scope=row>37</th><td>1.8867396</td><td>control  </td></tr>\n",
       "\t<tr><th scope=row>38</th><td>2.1687989</td><td>control  </td></tr>\n",
       "\t<tr><th scope=row>39</th><td>1.6172871</td><td>control  </td></tr>\n",
       "\t<tr><th scope=row>40</th><td>1.9867108</td><td>control  </td></tr>\n",
       "\t<tr><th scope=row>41</th><td>2.3752907</td><td>control  </td></tr>\n",
       "\t<tr><th scope=row>42</th><td>2.0874739</td><td>control  </td></tr>\n",
       "\t<tr><th scope=row>43</th><td>2.3159451</td><td>control  </td></tr>\n",
       "\t<tr><th scope=row>44</th><td>2.1898046</td><td>control  </td></tr>\n",
       "\t<tr><th scope=row>45</th><td>2.4293298</td><td>control  </td></tr>\n",
       "\t<tr><th scope=row>46</th><td>2.2424156</td><td>control  </td></tr>\n",
       "\t<tr><th scope=row>47</th><td>2.7647004</td><td>control  </td></tr>\n",
       "\t<tr><th scope=row>48</th><td>2.7793867</td><td>control  </td></tr>\n",
       "\t<tr><th scope=row>49</th><td>2.8639461</td><td>control  </td></tr>\n",
       "\t<tr><th scope=row>50</th><td>2.5641269</td><td>control  </td></tr>\n",
       "\t<tr><th scope=row>51</th><td>0.5511133</td><td>treatment</td></tr>\n",
       "\t<tr><th scope=row>52</th><td>0.6266544</td><td>treatment</td></tr>\n",
       "\t<tr><th scope=row>53</th><td>0.7906807</td><td>treatment</td></tr>\n",
       "\t<tr><th scope=row>54</th><td>0.9249958</td><td>treatment</td></tr>\n",
       "\t<tr><th scope=row>55</th><td>0.9491720</td><td>treatment</td></tr>\n",
       "\t<tr><th scope=row>56</th><td>1.1577842</td><td>treatment</td></tr>\n",
       "\t<tr><th scope=row>57</th><td>1.5735185</td><td>treatment</td></tr>\n",
       "\t<tr><th scope=row>58</th><td>1.6698416</td><td>treatment</td></tr>\n",
       "\t<tr><th scope=row>59</th><td>1.5431297</td><td>treatment</td></tr>\n",
       "\t<tr><th scope=row>60</th><td>1.8752687</td><td>treatment</td></tr>\n",
       "\t<tr><th scope=row>61</th><td>1.7586038</td><td>treatment</td></tr>\n",
       "\t<tr><th scope=row>62</th><td>2.1858056</td><td>treatment</td></tr>\n",
       "\t<tr><th scope=row>63</th><td>2.2499446</td><td>treatment</td></tr>\n",
       "\t<tr><th scope=row>64</th><td>2.4631105</td><td>treatment</td></tr>\n",
       "\t<tr><th scope=row>65</th><td>2.7527296</td><td>treatment</td></tr>\n",
       "\t<tr><th scope=row>66</th><td>2.5628916</td><td>treatment</td></tr>\n",
       "\t<tr><th scope=row>67</th><td>3.2741762</td><td>treatment</td></tr>\n",
       "\t<tr><th scope=row>68</th><td>3.3514930</td><td>treatment</td></tr>\n",
       "\t<tr><th scope=row>69</th><td>3.2497218</td><td>treatment</td></tr>\n",
       "\t<tr><th scope=row>70</th><td>3.3128708</td><td>treatment</td></tr>\n",
       "\t<tr><th scope=row>71</th><td>3.5699113</td><td>treatment</td></tr>\n",
       "\t<tr><th scope=row>72</th><td>3.6335052</td><td>treatment</td></tr>\n",
       "\t<tr><th scope=row>73</th><td>4.1646657</td><td>treatment</td></tr>\n",
       "\t<tr><th scope=row>74</th><td>3.9066256</td><td>treatment</td></tr>\n",
       "\t<tr><th scope=row>75</th><td>4.0789138</td><td>treatment</td></tr>\n",
       "</tbody>\n",
       "</table>\n"
      ],
      "text/latex": [
       "\\begin{tabular}{r|ll}\n",
       "  & values & ind\\\\\n",
       "\\hline\n",
       "\t26 & 0.7916754 & control  \\\\\n",
       "\t27 & 0.6734152 & control  \\\\\n",
       "\t28 & 0.6755871 & control  \\\\\n",
       "\t29 & 1.0235262 & control  \\\\\n",
       "\t30 & 1.2322098 & control  \\\\\n",
       "\t31 & 0.9071373 & control  \\\\\n",
       "\t32 & 1.0642027 & control  \\\\\n",
       "\t33 & 1.1879442 & control  \\\\\n",
       "\t34 & 1.5259792 & control  \\\\\n",
       "\t35 & 1.3865867 & control  \\\\\n",
       "\t36 & 1.6502512 & control  \\\\\n",
       "\t37 & 1.8867396 & control  \\\\\n",
       "\t38 & 2.1687989 & control  \\\\\n",
       "\t39 & 1.6172871 & control  \\\\\n",
       "\t40 & 1.9867108 & control  \\\\\n",
       "\t41 & 2.3752907 & control  \\\\\n",
       "\t42 & 2.0874739 & control  \\\\\n",
       "\t43 & 2.3159451 & control  \\\\\n",
       "\t44 & 2.1898046 & control  \\\\\n",
       "\t45 & 2.4293298 & control  \\\\\n",
       "\t46 & 2.2424156 & control  \\\\\n",
       "\t47 & 2.7647004 & control  \\\\\n",
       "\t48 & 2.7793867 & control  \\\\\n",
       "\t49 & 2.8639461 & control  \\\\\n",
       "\t50 & 2.5641269 & control  \\\\\n",
       "\t51 & 0.5511133 & treatment\\\\\n",
       "\t52 & 0.6266544 & treatment\\\\\n",
       "\t53 & 0.7906807 & treatment\\\\\n",
       "\t54 & 0.9249958 & treatment\\\\\n",
       "\t55 & 0.9491720 & treatment\\\\\n",
       "\t56 & 1.1577842 & treatment\\\\\n",
       "\t57 & 1.5735185 & treatment\\\\\n",
       "\t58 & 1.6698416 & treatment\\\\\n",
       "\t59 & 1.5431297 & treatment\\\\\n",
       "\t60 & 1.8752687 & treatment\\\\\n",
       "\t61 & 1.7586038 & treatment\\\\\n",
       "\t62 & 2.1858056 & treatment\\\\\n",
       "\t63 & 2.2499446 & treatment\\\\\n",
       "\t64 & 2.4631105 & treatment\\\\\n",
       "\t65 & 2.7527296 & treatment\\\\\n",
       "\t66 & 2.5628916 & treatment\\\\\n",
       "\t67 & 3.2741762 & treatment\\\\\n",
       "\t68 & 3.3514930 & treatment\\\\\n",
       "\t69 & 3.2497218 & treatment\\\\\n",
       "\t70 & 3.3128708 & treatment\\\\\n",
       "\t71 & 3.5699113 & treatment\\\\\n",
       "\t72 & 3.6335052 & treatment\\\\\n",
       "\t73 & 4.1646657 & treatment\\\\\n",
       "\t74 & 3.9066256 & treatment\\\\\n",
       "\t75 & 4.0789138 & treatment\\\\\n",
       "\\end{tabular}\n"
      ],
      "text/markdown": [
       "\n",
       "| <!--/--> | values | ind | \n",
       "|---|---|---|---|---|---|---|---|---|---|---|---|---|---|---|---|---|---|---|---|---|---|---|---|---|---|---|---|---|---|---|---|---|---|---|---|---|---|---|---|---|---|---|---|---|---|---|---|---|---|\n",
       "| 26 | 0.7916754 | control   | \n",
       "| 27 | 0.6734152 | control   | \n",
       "| 28 | 0.6755871 | control   | \n",
       "| 29 | 1.0235262 | control   | \n",
       "| 30 | 1.2322098 | control   | \n",
       "| 31 | 0.9071373 | control   | \n",
       "| 32 | 1.0642027 | control   | \n",
       "| 33 | 1.1879442 | control   | \n",
       "| 34 | 1.5259792 | control   | \n",
       "| 35 | 1.3865867 | control   | \n",
       "| 36 | 1.6502512 | control   | \n",
       "| 37 | 1.8867396 | control   | \n",
       "| 38 | 2.1687989 | control   | \n",
       "| 39 | 1.6172871 | control   | \n",
       "| 40 | 1.9867108 | control   | \n",
       "| 41 | 2.3752907 | control   | \n",
       "| 42 | 2.0874739 | control   | \n",
       "| 43 | 2.3159451 | control   | \n",
       "| 44 | 2.1898046 | control   | \n",
       "| 45 | 2.4293298 | control   | \n",
       "| 46 | 2.2424156 | control   | \n",
       "| 47 | 2.7647004 | control   | \n",
       "| 48 | 2.7793867 | control   | \n",
       "| 49 | 2.8639461 | control   | \n",
       "| 50 | 2.5641269 | control   | \n",
       "| 51 | 0.5511133 | treatment | \n",
       "| 52 | 0.6266544 | treatment | \n",
       "| 53 | 0.7906807 | treatment | \n",
       "| 54 | 0.9249958 | treatment | \n",
       "| 55 | 0.9491720 | treatment | \n",
       "| 56 | 1.1577842 | treatment | \n",
       "| 57 | 1.5735185 | treatment | \n",
       "| 58 | 1.6698416 | treatment | \n",
       "| 59 | 1.5431297 | treatment | \n",
       "| 60 | 1.8752687 | treatment | \n",
       "| 61 | 1.7586038 | treatment | \n",
       "| 62 | 2.1858056 | treatment | \n",
       "| 63 | 2.2499446 | treatment | \n",
       "| 64 | 2.4631105 | treatment | \n",
       "| 65 | 2.7527296 | treatment | \n",
       "| 66 | 2.5628916 | treatment | \n",
       "| 67 | 3.2741762 | treatment | \n",
       "| 68 | 3.3514930 | treatment | \n",
       "| 69 | 3.2497218 | treatment | \n",
       "| 70 | 3.3128708 | treatment | \n",
       "| 71 | 3.5699113 | treatment | \n",
       "| 72 | 3.6335052 | treatment | \n",
       "| 73 | 4.1646657 | treatment | \n",
       "| 74 | 3.9066256 | treatment | \n",
       "| 75 | 4.0789138 | treatment | \n",
       "\n",
       "\n"
      ],
      "text/plain": [
       "   values    ind      \n",
       "26 0.7916754 control  \n",
       "27 0.6734152 control  \n",
       "28 0.6755871 control  \n",
       "29 1.0235262 control  \n",
       "30 1.2322098 control  \n",
       "31 0.9071373 control  \n",
       "32 1.0642027 control  \n",
       "33 1.1879442 control  \n",
       "34 1.5259792 control  \n",
       "35 1.3865867 control  \n",
       "36 1.6502512 control  \n",
       "37 1.8867396 control  \n",
       "38 2.1687989 control  \n",
       "39 1.6172871 control  \n",
       "40 1.9867108 control  \n",
       "41 2.3752907 control  \n",
       "42 2.0874739 control  \n",
       "43 2.3159451 control  \n",
       "44 2.1898046 control  \n",
       "45 2.4293298 control  \n",
       "46 2.2424156 control  \n",
       "47 2.7647004 control  \n",
       "48 2.7793867 control  \n",
       "49 2.8639461 control  \n",
       "50 2.5641269 control  \n",
       "51 0.5511133 treatment\n",
       "52 0.6266544 treatment\n",
       "53 0.7906807 treatment\n",
       "54 0.9249958 treatment\n",
       "55 0.9491720 treatment\n",
       "56 1.1577842 treatment\n",
       "57 1.5735185 treatment\n",
       "58 1.6698416 treatment\n",
       "59 1.5431297 treatment\n",
       "60 1.8752687 treatment\n",
       "61 1.7586038 treatment\n",
       "62 2.1858056 treatment\n",
       "63 2.2499446 treatment\n",
       "64 2.4631105 treatment\n",
       "65 2.7527296 treatment\n",
       "66 2.5628916 treatment\n",
       "67 3.2741762 treatment\n",
       "68 3.3514930 treatment\n",
       "69 3.2497218 treatment\n",
       "70 3.3128708 treatment\n",
       "71 3.5699113 treatment\n",
       "72 3.6335052 treatment\n",
       "73 4.1646657 treatment\n",
       "74 3.9066256 treatment\n",
       "75 4.0789138 treatment"
      ]
     },
     "metadata": {},
     "output_type": "display_data"
    }
   ],
   "source": [
    "stacked <- stack(made_up)\n",
    "outcome <- stacked[stacked$ind != 'time',]\n",
    "outcome"
   ]
  },
  {
   "cell_type": "markdown",
   "metadata": {
    "deletable": false,
    "editable": false,
    "nbgrader": {
     "checksum": "85482e2daae419fb65270c79e0c153cb",
     "grade": false,
     "grade_id": "problem_10_part_2",
     "locked": true,
     "schema_version": 1,
     "solution": false
    }
   },
   "source": [
    "Now bind the time values and the `outcome` data frame together to create a $50 \\times 3$ data frame with columns `time`, `values`, and `ind`. Name this new data frame `complete`. "
   ]
  },
  {
   "cell_type": "code",
   "execution_count": 51,
   "metadata": {
    "collapsed": false,
    "deletable": false,
    "nbgrader": {
     "checksum": "2c0f978967858ccacbdeeac5ddb27eb6",
     "grade": true,
     "grade_id": "problem_10_part_2_code",
     "locked": false,
     "points": 1,
     "schema_version": 1,
     "solution": true
    },
    "scrolled": true
   },
   "outputs": [
    {
     "data": {
      "text/html": [
       "<table>\n",
       "<thead><tr><th></th><th scope=col>time</th><th scope=col>values</th><th scope=col>ind</th></tr></thead>\n",
       "<tbody>\n",
       "\t<tr><th scope=row>26</th><td> 1       </td><td>0.7916754</td><td>control  </td></tr>\n",
       "\t<tr><th scope=row>27</th><td> 2       </td><td>0.6734152</td><td>control  </td></tr>\n",
       "\t<tr><th scope=row>28</th><td> 3       </td><td>0.6755871</td><td>control  </td></tr>\n",
       "\t<tr><th scope=row>29</th><td> 4       </td><td>1.0235262</td><td>control  </td></tr>\n",
       "\t<tr><th scope=row>30</th><td> 5       </td><td>1.2322098</td><td>control  </td></tr>\n",
       "\t<tr><th scope=row>31</th><td> 6       </td><td>0.9071373</td><td>control  </td></tr>\n",
       "\t<tr><th scope=row>32</th><td> 7       </td><td>1.0642027</td><td>control  </td></tr>\n",
       "\t<tr><th scope=row>33</th><td> 8       </td><td>1.1879442</td><td>control  </td></tr>\n",
       "\t<tr><th scope=row>34</th><td> 9       </td><td>1.5259792</td><td>control  </td></tr>\n",
       "\t<tr><th scope=row>35</th><td>10       </td><td>1.3865867</td><td>control  </td></tr>\n",
       "\t<tr><th scope=row>36</th><td>11       </td><td>1.6502512</td><td>control  </td></tr>\n",
       "\t<tr><th scope=row>37</th><td>12       </td><td>1.8867396</td><td>control  </td></tr>\n",
       "\t<tr><th scope=row>38</th><td>13       </td><td>2.1687989</td><td>control  </td></tr>\n",
       "\t<tr><th scope=row>39</th><td>14       </td><td>1.6172871</td><td>control  </td></tr>\n",
       "\t<tr><th scope=row>40</th><td>15       </td><td>1.9867108</td><td>control  </td></tr>\n",
       "\t<tr><th scope=row>41</th><td>16       </td><td>2.3752907</td><td>control  </td></tr>\n",
       "\t<tr><th scope=row>42</th><td>17       </td><td>2.0874739</td><td>control  </td></tr>\n",
       "\t<tr><th scope=row>43</th><td>18       </td><td>2.3159451</td><td>control  </td></tr>\n",
       "\t<tr><th scope=row>44</th><td>19       </td><td>2.1898046</td><td>control  </td></tr>\n",
       "\t<tr><th scope=row>45</th><td>20       </td><td>2.4293298</td><td>control  </td></tr>\n",
       "\t<tr><th scope=row>46</th><td>21       </td><td>2.2424156</td><td>control  </td></tr>\n",
       "\t<tr><th scope=row>47</th><td>22       </td><td>2.7647004</td><td>control  </td></tr>\n",
       "\t<tr><th scope=row>48</th><td>23       </td><td>2.7793867</td><td>control  </td></tr>\n",
       "\t<tr><th scope=row>49</th><td>24       </td><td>2.8639461</td><td>control  </td></tr>\n",
       "\t<tr><th scope=row>50</th><td>25       </td><td>2.5641269</td><td>control  </td></tr>\n",
       "\t<tr><th scope=row>51</th><td> 1       </td><td>0.5511133</td><td>treatment</td></tr>\n",
       "\t<tr><th scope=row>52</th><td> 2       </td><td>0.6266544</td><td>treatment</td></tr>\n",
       "\t<tr><th scope=row>53</th><td> 3       </td><td>0.7906807</td><td>treatment</td></tr>\n",
       "\t<tr><th scope=row>54</th><td> 4       </td><td>0.9249958</td><td>treatment</td></tr>\n",
       "\t<tr><th scope=row>55</th><td> 5       </td><td>0.9491720</td><td>treatment</td></tr>\n",
       "\t<tr><th scope=row>56</th><td> 6       </td><td>1.1577842</td><td>treatment</td></tr>\n",
       "\t<tr><th scope=row>57</th><td> 7       </td><td>1.5735185</td><td>treatment</td></tr>\n",
       "\t<tr><th scope=row>58</th><td> 8       </td><td>1.6698416</td><td>treatment</td></tr>\n",
       "\t<tr><th scope=row>59</th><td> 9       </td><td>1.5431297</td><td>treatment</td></tr>\n",
       "\t<tr><th scope=row>60</th><td>10       </td><td>1.8752687</td><td>treatment</td></tr>\n",
       "\t<tr><th scope=row>61</th><td>11       </td><td>1.7586038</td><td>treatment</td></tr>\n",
       "\t<tr><th scope=row>62</th><td>12       </td><td>2.1858056</td><td>treatment</td></tr>\n",
       "\t<tr><th scope=row>63</th><td>13       </td><td>2.2499446</td><td>treatment</td></tr>\n",
       "\t<tr><th scope=row>64</th><td>14       </td><td>2.4631105</td><td>treatment</td></tr>\n",
       "\t<tr><th scope=row>65</th><td>15       </td><td>2.7527296</td><td>treatment</td></tr>\n",
       "\t<tr><th scope=row>66</th><td>16       </td><td>2.5628916</td><td>treatment</td></tr>\n",
       "\t<tr><th scope=row>67</th><td>17       </td><td>3.2741762</td><td>treatment</td></tr>\n",
       "\t<tr><th scope=row>68</th><td>18       </td><td>3.3514930</td><td>treatment</td></tr>\n",
       "\t<tr><th scope=row>69</th><td>19       </td><td>3.2497218</td><td>treatment</td></tr>\n",
       "\t<tr><th scope=row>70</th><td>20       </td><td>3.3128708</td><td>treatment</td></tr>\n",
       "\t<tr><th scope=row>71</th><td>21       </td><td>3.5699113</td><td>treatment</td></tr>\n",
       "\t<tr><th scope=row>72</th><td>22       </td><td>3.6335052</td><td>treatment</td></tr>\n",
       "\t<tr><th scope=row>73</th><td>23       </td><td>4.1646657</td><td>treatment</td></tr>\n",
       "\t<tr><th scope=row>74</th><td>24       </td><td>3.9066256</td><td>treatment</td></tr>\n",
       "\t<tr><th scope=row>75</th><td>25       </td><td>4.0789138</td><td>treatment</td></tr>\n",
       "</tbody>\n",
       "</table>\n"
      ],
      "text/latex": [
       "\\begin{tabular}{r|lll}\n",
       "  & time & values & ind\\\\\n",
       "\\hline\n",
       "\t26 &  1        & 0.7916754 & control  \\\\\n",
       "\t27 &  2        & 0.6734152 & control  \\\\\n",
       "\t28 &  3        & 0.6755871 & control  \\\\\n",
       "\t29 &  4        & 1.0235262 & control  \\\\\n",
       "\t30 &  5        & 1.2322098 & control  \\\\\n",
       "\t31 &  6        & 0.9071373 & control  \\\\\n",
       "\t32 &  7        & 1.0642027 & control  \\\\\n",
       "\t33 &  8        & 1.1879442 & control  \\\\\n",
       "\t34 &  9        & 1.5259792 & control  \\\\\n",
       "\t35 & 10        & 1.3865867 & control  \\\\\n",
       "\t36 & 11        & 1.6502512 & control  \\\\\n",
       "\t37 & 12        & 1.8867396 & control  \\\\\n",
       "\t38 & 13        & 2.1687989 & control  \\\\\n",
       "\t39 & 14        & 1.6172871 & control  \\\\\n",
       "\t40 & 15        & 1.9867108 & control  \\\\\n",
       "\t41 & 16        & 2.3752907 & control  \\\\\n",
       "\t42 & 17        & 2.0874739 & control  \\\\\n",
       "\t43 & 18        & 2.3159451 & control  \\\\\n",
       "\t44 & 19        & 2.1898046 & control  \\\\\n",
       "\t45 & 20        & 2.4293298 & control  \\\\\n",
       "\t46 & 21        & 2.2424156 & control  \\\\\n",
       "\t47 & 22        & 2.7647004 & control  \\\\\n",
       "\t48 & 23        & 2.7793867 & control  \\\\\n",
       "\t49 & 24        & 2.8639461 & control  \\\\\n",
       "\t50 & 25        & 2.5641269 & control  \\\\\n",
       "\t51 &  1        & 0.5511133 & treatment\\\\\n",
       "\t52 &  2        & 0.6266544 & treatment\\\\\n",
       "\t53 &  3        & 0.7906807 & treatment\\\\\n",
       "\t54 &  4        & 0.9249958 & treatment\\\\\n",
       "\t55 &  5        & 0.9491720 & treatment\\\\\n",
       "\t56 &  6        & 1.1577842 & treatment\\\\\n",
       "\t57 &  7        & 1.5735185 & treatment\\\\\n",
       "\t58 &  8        & 1.6698416 & treatment\\\\\n",
       "\t59 &  9        & 1.5431297 & treatment\\\\\n",
       "\t60 & 10        & 1.8752687 & treatment\\\\\n",
       "\t61 & 11        & 1.7586038 & treatment\\\\\n",
       "\t62 & 12        & 2.1858056 & treatment\\\\\n",
       "\t63 & 13        & 2.2499446 & treatment\\\\\n",
       "\t64 & 14        & 2.4631105 & treatment\\\\\n",
       "\t65 & 15        & 2.7527296 & treatment\\\\\n",
       "\t66 & 16        & 2.5628916 & treatment\\\\\n",
       "\t67 & 17        & 3.2741762 & treatment\\\\\n",
       "\t68 & 18        & 3.3514930 & treatment\\\\\n",
       "\t69 & 19        & 3.2497218 & treatment\\\\\n",
       "\t70 & 20        & 3.3128708 & treatment\\\\\n",
       "\t71 & 21        & 3.5699113 & treatment\\\\\n",
       "\t72 & 22        & 3.6335052 & treatment\\\\\n",
       "\t73 & 23        & 4.1646657 & treatment\\\\\n",
       "\t74 & 24        & 3.9066256 & treatment\\\\\n",
       "\t75 & 25        & 4.0789138 & treatment\\\\\n",
       "\\end{tabular}\n"
      ],
      "text/markdown": [
       "\n",
       "| <!--/--> | time | values | ind | \n",
       "|---|---|---|---|---|---|---|---|---|---|---|---|---|---|---|---|---|---|---|---|---|---|---|---|---|---|---|---|---|---|---|---|---|---|---|---|---|---|---|---|---|---|---|---|---|---|---|---|---|---|\n",
       "| 26 |  1        | 0.7916754 | control   | \n",
       "| 27 |  2        | 0.6734152 | control   | \n",
       "| 28 |  3        | 0.6755871 | control   | \n",
       "| 29 |  4        | 1.0235262 | control   | \n",
       "| 30 |  5        | 1.2322098 | control   | \n",
       "| 31 |  6        | 0.9071373 | control   | \n",
       "| 32 |  7        | 1.0642027 | control   | \n",
       "| 33 |  8        | 1.1879442 | control   | \n",
       "| 34 |  9        | 1.5259792 | control   | \n",
       "| 35 | 10        | 1.3865867 | control   | \n",
       "| 36 | 11        | 1.6502512 | control   | \n",
       "| 37 | 12        | 1.8867396 | control   | \n",
       "| 38 | 13        | 2.1687989 | control   | \n",
       "| 39 | 14        | 1.6172871 | control   | \n",
       "| 40 | 15        | 1.9867108 | control   | \n",
       "| 41 | 16        | 2.3752907 | control   | \n",
       "| 42 | 17        | 2.0874739 | control   | \n",
       "| 43 | 18        | 2.3159451 | control   | \n",
       "| 44 | 19        | 2.1898046 | control   | \n",
       "| 45 | 20        | 2.4293298 | control   | \n",
       "| 46 | 21        | 2.2424156 | control   | \n",
       "| 47 | 22        | 2.7647004 | control   | \n",
       "| 48 | 23        | 2.7793867 | control   | \n",
       "| 49 | 24        | 2.8639461 | control   | \n",
       "| 50 | 25        | 2.5641269 | control   | \n",
       "| 51 |  1        | 0.5511133 | treatment | \n",
       "| 52 |  2        | 0.6266544 | treatment | \n",
       "| 53 |  3        | 0.7906807 | treatment | \n",
       "| 54 |  4        | 0.9249958 | treatment | \n",
       "| 55 |  5        | 0.9491720 | treatment | \n",
       "| 56 |  6        | 1.1577842 | treatment | \n",
       "| 57 |  7        | 1.5735185 | treatment | \n",
       "| 58 |  8        | 1.6698416 | treatment | \n",
       "| 59 |  9        | 1.5431297 | treatment | \n",
       "| 60 | 10        | 1.8752687 | treatment | \n",
       "| 61 | 11        | 1.7586038 | treatment | \n",
       "| 62 | 12        | 2.1858056 | treatment | \n",
       "| 63 | 13        | 2.2499446 | treatment | \n",
       "| 64 | 14        | 2.4631105 | treatment | \n",
       "| 65 | 15        | 2.7527296 | treatment | \n",
       "| 66 | 16        | 2.5628916 | treatment | \n",
       "| 67 | 17        | 3.2741762 | treatment | \n",
       "| 68 | 18        | 3.3514930 | treatment | \n",
       "| 69 | 19        | 3.2497218 | treatment | \n",
       "| 70 | 20        | 3.3128708 | treatment | \n",
       "| 71 | 21        | 3.5699113 | treatment | \n",
       "| 72 | 22        | 3.6335052 | treatment | \n",
       "| 73 | 23        | 4.1646657 | treatment | \n",
       "| 74 | 24        | 3.9066256 | treatment | \n",
       "| 75 | 25        | 4.0789138 | treatment | \n",
       "\n",
       "\n"
      ],
      "text/plain": [
       "   time values    ind      \n",
       "26  1   0.7916754 control  \n",
       "27  2   0.6734152 control  \n",
       "28  3   0.6755871 control  \n",
       "29  4   1.0235262 control  \n",
       "30  5   1.2322098 control  \n",
       "31  6   0.9071373 control  \n",
       "32  7   1.0642027 control  \n",
       "33  8   1.1879442 control  \n",
       "34  9   1.5259792 control  \n",
       "35 10   1.3865867 control  \n",
       "36 11   1.6502512 control  \n",
       "37 12   1.8867396 control  \n",
       "38 13   2.1687989 control  \n",
       "39 14   1.6172871 control  \n",
       "40 15   1.9867108 control  \n",
       "41 16   2.3752907 control  \n",
       "42 17   2.0874739 control  \n",
       "43 18   2.3159451 control  \n",
       "44 19   2.1898046 control  \n",
       "45 20   2.4293298 control  \n",
       "46 21   2.2424156 control  \n",
       "47 22   2.7647004 control  \n",
       "48 23   2.7793867 control  \n",
       "49 24   2.8639461 control  \n",
       "50 25   2.5641269 control  \n",
       "51  1   0.5511133 treatment\n",
       "52  2   0.6266544 treatment\n",
       "53  3   0.7906807 treatment\n",
       "54  4   0.9249958 treatment\n",
       "55  5   0.9491720 treatment\n",
       "56  6   1.1577842 treatment\n",
       "57  7   1.5735185 treatment\n",
       "58  8   1.6698416 treatment\n",
       "59  9   1.5431297 treatment\n",
       "60 10   1.8752687 treatment\n",
       "61 11   1.7586038 treatment\n",
       "62 12   2.1858056 treatment\n",
       "63 13   2.2499446 treatment\n",
       "64 14   2.4631105 treatment\n",
       "65 15   2.7527296 treatment\n",
       "66 16   2.5628916 treatment\n",
       "67 17   3.2741762 treatment\n",
       "68 18   3.3514930 treatment\n",
       "69 19   3.2497218 treatment\n",
       "70 20   3.3128708 treatment\n",
       "71 21   3.5699113 treatment\n",
       "72 22   3.6335052 treatment\n",
       "73 23   4.1646657 treatment\n",
       "74 24   3.9066256 treatment\n",
       "75 25   4.0789138 treatment"
      ]
     },
     "metadata": {},
     "output_type": "display_data"
    }
   ],
   "source": [
    "timedf <- stacked[stacked$ind == 'time',]\n",
    "timedf <- rbind(timedf, timedf)  # duplicate times to mimic stacked df\n",
    "timedf <- subset(timedf, select=c(values))\n",
    "complete <- transform(outcome, time=timedf)  # bind time values to complete\n",
    "names(complete)[names(complete) == 'values.1'] <- 'time' # rename col to time\n",
    "complete[c(\"time\", \"values\", \"ind\")]  # reorder columns\n"
   ]
  },
  {
   "cell_type": "markdown",
   "metadata": {
    "deletable": false,
    "editable": false,
    "nbgrader": {
     "checksum": "20f357a912efe2f98127429bf6a74db5",
     "grade": false,
     "grade_id": "problem_10_part_3",
     "locked": true,
     "schema_version": 1,
     "solution": false
    }
   },
   "source": [
    "If you completed the previous steps correctly, you should easily be able to plot with colors corresponding to the `ind` group. Make sure that the following code produces such a plot. There will be (much) more on plotting later in the course."
   ]
  },
  {
   "cell_type": "code",
   "execution_count": 52,
   "metadata": {
    "collapsed": false,
    "deletable": false,
    "editable": false,
    "nbgrader": {
     "checksum": "337bd39748e77a1f03a972d24c0a955f",
     "grade": true,
     "grade_id": "problem_10_part_3_test",
     "locked": true,
     "points": 1,
     "schema_version": 1,
     "solution": false
    }
   },
   "outputs": [
    {
     "data": {
      "image/png": "[encoded data removed]",
      "text/plain": [
       "plot without title"
      ]
     },
     "metadata": {},
     "output_type": "display_data"
    }
   ],
   "source": [
    "plot(complete$time,complete$values,col=complete$ind,xlab = \"Time\",ylab = \"Values\",pch=19)\n",
    "legend(\"topleft\",legend = c(\"Control\",\"Treatment\"),col = 1:2,pch=19)"
   ]
  },
  {
   "cell_type": "code",
   "execution_count": null,
   "metadata": {
    "collapsed": true
   },
   "outputs": [],
   "source": []
  }
 ],
 "metadata": {
  "anaconda-cloud": {},
  "kernelspec": {
   "display_name": "R",
   "language": "R",
   "name": "ir"
  },
  "language_info": {
   "codemirror_mode": "r",
   "file_extension": ".r",
   "mimetype": "text/x-r-source",
   "name": "R",
   "pygments_lexer": "r",
   "version": "3.3.2"
  }
 },
 "nbformat": 4,
 "nbformat_minor": 2
}
