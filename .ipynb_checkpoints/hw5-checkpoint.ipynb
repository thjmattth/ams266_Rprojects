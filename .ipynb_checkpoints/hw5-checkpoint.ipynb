{
 "cells": [
  {
   "cell_type": "markdown",
   "metadata": {},
   "source": [
    "Before you turn this problem set in, make sure everything runs as expected. First, **restart the kernel** (in the menubar, select Kernel$\\rightarrow$Restart) and then **run all cells** (in the menubar, select Cell$\\rightarrow$Run All). Note that in code sections, you must replace `stop(\"Not Implemented\")` with your code. Otherwise, you will have points automatically deducted in the grading process.\n",
    "\n",
    "**Please do not rename this file.**\n",
    "\n",
    "Make sure you fill in any place that says `YOUR CODE HERE` or \"YOUR ANSWER/EXPLANATION HERE\". In addition, please do not include your name on this assignment to ensure anonymity for the peer reviews."
   ]
  },
  {
   "cell_type": "markdown",
   "metadata": {},
   "source": [
    "---"
   ]
  },
  {
   "cell_type": "markdown",
   "metadata": {
    "deletable": false,
    "editable": false,
    "nbgrader": {
     "checksum": "b9b32071e44c92eb8fa4045ed8bb4eba",
     "grade": false,
     "grade_id": "cell-9d62810bc34de577",
     "locked": true,
     "schema_version": 1,
     "solution": false
    }
   },
   "source": [
    "# Problem 1\n",
    "\n",
    "The broadcast network NBC releases medal counts for the Olympic Games. For the 2016 Summer Olympics in Rio de Janeiro, Brazil, NBC released the following image:\n",
    "\n",
    "![](medal_count_NBC.png)\n",
    "\n",
    "Discuss the positive and negative aspects of the chosen visual cues, coordinate system, and scale. If  you  find  any  negative  issues \n",
    "with  this  visualization,  how  could  you  improve  it? This should require at least 3 (complete) sentences to answer."
   ]
  },
  {
   "cell_type": "markdown",
   "metadata": {
    "deletable": false,
    "nbgrader": {
     "checksum": "424aa15e9f1d3189968b5749b06c37c1",
     "grade": true,
     "grade_id": "problem_1_answer",
     "locked": false,
     "points": 3,
     "schema_version": 1,
     "solution": true
    }
   },
   "source": [
    "*This graph excels in its simplicity and appropriate color-coding.  However, it does not offer an accurate scale: The difference between GBR and URS is less than the difference between URS and USA, and yet the spatial difference is nearly 4 times the amount.  Also, I'm not sure what URS means, nor do I understand what a 0.5 olympic medal means.  The color bar near the title and the \"total\" symbol near the sum are chart junk.  Removing the chart junk, fixing the scaling, either explaining or rounding the fractions of a medal would all improve the graph.*"
   ]
  },
  {
   "cell_type": "markdown",
   "metadata": {
    "deletable": false,
    "editable": false,
    "nbgrader": {
     "checksum": "e38195efb126e72752e24f3c25916b33",
     "grade": false,
     "grade_id": "cell-9e2fdc82d2d49f4e",
     "locked": true,
     "schema_version": 1,
     "solution": false
    }
   },
   "source": [
    "---\n",
    "\n",
    "# Problem 2\n",
    "\n",
    "Answer true or false to each of the following statements. Include a short justification of your answer (one or two complete sentences)."
   ]
  },
  {
   "cell_type": "markdown",
   "metadata": {
    "deletable": false,
    "editable": false,
    "nbgrader": {
     "checksum": "bae633bee64f69d2c68f000720a84d18",
     "grade": false,
     "grade_id": "cell-400780d3ba3f7fe5",
     "locked": true,
     "schema_version": 1,
     "solution": false
    }
   },
   "source": [
    "### Part A\n",
    "\n",
    "When  representing  quantitative  variables,  you  should  illustrate differences with a  scale  that  uses  a  single  hue  and  represents  changes  in  the values of  the variable  through  the  saturation  level. "
   ]
  },
  {
   "cell_type": "markdown",
   "metadata": {
    "deletable": false,
    "nbgrader": {
     "checksum": "88b74cc05082842cc56d677aebc46edb",
     "grade": true,
     "grade_id": "problem_2_part_a",
     "locked": false,
     "points": 1,
     "schema_version": 1,
     "solution": true
    }
   },
   "source": [
    "*Mostly False. The visual ques of the highest cognitive scale for quantitative variables are position and length.  Although, some common exceptions exist that use color for quantification, but with contrast and a divergent palatte, is seen in genomic data: blue for down expression/regulation (negative), white for no change, and red for up expression/regulations (positive).  Otherwise, stick to position and length for quantitative visual ques.*"
   ]
  },
  {
   "cell_type": "markdown",
   "metadata": {
    "deletable": false,
    "editable": false,
    "nbgrader": {
     "checksum": "eb7ee20a195099fb05d164c35b105469",
     "grade": false,
     "grade_id": "cell-07ac75819ffb57e7",
     "locked": true,
     "schema_version": 1,
     "solution": false
    }
   },
   "source": [
    "### Part B\n",
    "\n",
    "Pie  charts  are  always  an  excellent  alternative  to  bar  plots  for representing proportions. "
   ]
  },
  {
   "cell_type": "markdown",
   "metadata": {
    "deletable": false,
    "nbgrader": {
     "checksum": "a41c01a702bda9284a4a81c8ab5cfdc8",
     "grade": true,
     "grade_id": "problem_2_part_b",
     "locked": false,
     "points": 1,
     "schema_version": 1,
     "solution": true
    }
   },
   "source": [
    "*False.  Pie charts make the reader rely on their own subjective perception of area.  Stacked bar plots, however, could provide that same information, but with scaling to provide more objective comparison between proportions.*"
   ]
  },
  {
   "cell_type": "markdown",
   "metadata": {
    "deletable": false,
    "editable": false,
    "nbgrader": {
     "checksum": "cf87d1770523360a4b9a3b4360aebd04",
     "grade": false,
     "grade_id": "cell-cfa552540c32e75f",
     "locked": true,
     "schema_version": 1,
     "solution": false
    }
   },
   "source": [
    "### Part C\n",
    "\n",
    "If comparisons are important, tables are always a better tool to use than graphs."
   ]
  },
  {
   "cell_type": "markdown",
   "metadata": {
    "deletable": false,
    "nbgrader": {
     "checksum": "49bc811144eb003dc1ff273334e9b777",
     "grade": true,
     "grade_id": "problem_2_part_c",
     "locked": false,
     "points": 1,
     "schema_version": 1,
     "solution": true
    }
   },
   "source": [
    "*False.  Comparisons are almost always better accomplished with graphs.  Unless the data is low dimensional, with few numbers, or done to make precise lookups, comparing numbers directly is better accomplished by computers.  Are computers your main audience?  Are you a computer?  Then don't use a table.  Just use a graph.*"
   ]
  },
  {
   "cell_type": "markdown",
   "metadata": {
    "deletable": false,
    "editable": false,
    "nbgrader": {
     "checksum": "b0d0c33cf26e6eb159e3bdba350a44d9",
     "grade": false,
     "grade_id": "cell-580b0e4053bd2617",
     "locked": true,
     "schema_version": 1,
     "solution": false
    }
   },
   "source": [
    "---\n",
    "\n",
    "# Problem 3\n",
    "\n",
    "The following plots come from simulated data based on a real problem.\n",
    "\n",
    "A bank is looking at the closure rates of its business accounts by date and account age. The data has dates ranging from February 2005 to December 2016, and the account age in months ranges from 1 to 181. All accounts over 15 years (180 months) old are placed together in the 181-month-old category. The following three plots all use the same data. \n",
    "\n",
    "#### Plot A\n",
    "\n",
    "![A](tile_plot_greys.png) \n",
    "\n",
    "#### Plot B\n",
    "\n",
    "![B](tile_plot_blues.png) \n",
    "\n",
    "#### Plot C\n",
    "\n",
    "![C](tile_plot_spectral.png)\n",
    "\n",
    "Using what you have learned about data visualization, answer the following questions in complete sentences:\n",
    "\n",
    "1. Which plot(s) use diverging palettes, and which plot(s) use sequential palettes? \n",
    "2. Which plot is the best for accurately comparing different combinations of date and age? \n",
    "3. Which plot is the best for quickly finding the high values? \n",
    "4. Which plot would you choose to display if you wanted to find patterns in the data? \n",
    "\n",
    "Note: In order to easily reference the plots, you may call them plot A, plot B, and plot C, respectively."
   ]
  },
  {
   "cell_type": "markdown",
   "metadata": {
    "deletable": false,
    "nbgrader": {
     "checksum": "2092324aad76557e99f6355b9aa7ce96",
     "grade": true,
     "grade_id": "problem_3",
     "locked": false,
     "points": 4,
     "schema_version": 1,
     "solution": true
    }
   },
   "source": [
    "*1) Diverging Palette: Plot C\n",
    "2) Easiest plot for date/age comparisons: Plot C\n",
    "3) Easiest plot for spotting high values (reliance on hue visual que): PLot C\n",
    "4) Easiest plot to spot pattern: Plot C"
   ]
  },
  {
   "cell_type": "markdown",
   "metadata": {
    "deletable": false,
    "editable": false,
    "nbgrader": {
     "checksum": "f3377b082299f79f9f6d4055dbde16f6",
     "grade": false,
     "grade_id": "cell-b165556966259595",
     "locked": true,
     "schema_version": 1,
     "solution": false
    }
   },
   "source": [
    "---\n",
    "\n",
    "# Problem 4\n",
    "\n",
    "For each of the following, evaluate  the  effectiveness  of  the  visualization.   In  particular,  discuss  the  positive  and negative  aspects  of  the  chosen visual  cues,  coordinate  systems,  scale,  and  context  material.   If  you  find  any \n",
    "negative  issues  with  a  visualization,  how  could  you  improve  it?  Please write your answers in complete sentences."
   ]
  },
  {
   "cell_type": "markdown",
   "metadata": {
    "deletable": false,
    "editable": false,
    "nbgrader": {
     "checksum": "df269645a92a66322be9397ac4765d22",
     "grade": false,
     "grade_id": "cell-92460f794c8e0fc8",
     "locked": true,
     "schema_version": 1,
     "solution": false
    }
   },
   "source": [
    "### Part A\n",
    "\n",
    "![](vis_1.jpg)"
   ]
  },
  {
   "cell_type": "markdown",
   "metadata": {
    "deletable": false,
    "nbgrader": {
     "checksum": "a746292a1eef8759edd14d06fd3493fe",
     "grade": true,
     "grade_id": "problem_4_part_a",
     "locked": false,
     "points": 1,
     "schema_version": 1,
     "solution": true
    }
   },
   "source": [
    "*The top half of the graph is pretty good: it describes the question, the main results, and tells you that the below graph is going to to show some proportion of survey respondants.  That's where the good stuff ends.  The pie chart makes it hard to tell differences between respondant groups, and there is no legend that gives meaning to any of these groups.  Even if there was a legend, the sequential color scheme (of an ugly color, might I add) makes it hard to tell apart the groups.  It would be better to have shown this data as a horizontally oriented bar plot stylized as books on a shelf.  Maybe each book could represent 2000 respondants.*"
   ]
  },
  {
   "cell_type": "markdown",
   "metadata": {
    "deletable": false,
    "editable": false,
    "nbgrader": {
     "checksum": "857fc0ecba668603729d011c2df957eb",
     "grade": false,
     "grade_id": "cell-1e16cafe295a8484",
     "locked": true,
     "schema_version": 1,
     "solution": false
    }
   },
   "source": [
    "### Part B\n",
    "\n",
    "(Yes, this one is not in English, but data are universal!)\n",
    "\n",
    "![](vis_2.jpg)"
   ]
  },
  {
   "cell_type": "markdown",
   "metadata": {
    "deletable": false,
    "nbgrader": {
     "checksum": "232e38fb4c9d91176f20fb63e2d2dc11",
     "grade": true,
     "grade_id": "problem_4_part_b",
     "locked": false,
     "points": 1,
     "schema_version": 1,
     "solution": true
    }
   },
   "source": [
    "*While the description looks like Greek to me, the message is clear:  the radio station 96.8 (Sfera) is clearing marketing some kind of advantage. A bar graph with clear contrast on Sfera draws attention -- espeically since it's in the middle of the visualization.  However, this graph also unfairly scales the red bar to overstate the relatively puny delta of 0.1% between Sfera and Super FM.  Also, the pointed top of the red bar also gives the illusion of increasing percentage while the other bars stagnate with flat tops.  *"
   ]
  },
  {
   "cell_type": "markdown",
   "metadata": {
    "deletable": false,
    "editable": false,
    "nbgrader": {
     "checksum": "da1c7d3706ebd4c095c8d98b3ab0ced2",
     "grade": false,
     "grade_id": "cell-5b0396a5f73bd1a4",
     "locked": true,
     "schema_version": 1,
     "solution": false
    }
   },
   "source": [
    "### Part C\n",
    "\n",
    "![](vis_3.jpg)"
   ]
  },
  {
   "cell_type": "markdown",
   "metadata": {
    "deletable": false,
    "nbgrader": {
     "checksum": "c4cef18c43d149b6ed26a782ec18103f",
     "grade": true,
     "grade_id": "problem_4_part_c",
     "locked": false,
     "points": 1,
     "schema_version": 1,
     "solution": true
    }
   },
   "source": [
    "*What is the point of this graph?  Is it saying BofA is the primary choice for major bank?  What constitutes a major bank?  Besides needing some kind of graphical clarifications of these contextual questions, there are some clear scaling issues.  For example, far left group represents a population of 5 times the amount of Wells Fargo, and yet is less than twice the size.*"
   ]
  },
  {
   "cell_type": "markdown",
   "metadata": {
    "deletable": false,
    "editable": false,
    "nbgrader": {
     "checksum": "ea45e57e473b7cfe49fb10004952ba25",
     "grade": false,
     "grade_id": "cell-2d426b0a2068fb78",
     "locked": true,
     "schema_version": 1,
     "solution": false
    }
   },
   "source": [
    "### Part D\n",
    "\n",
    "![](vis_4.jpg)"
   ]
  },
  {
   "cell_type": "markdown",
   "metadata": {
    "deletable": false,
    "nbgrader": {
     "checksum": "25f841f7f35f2132334749784ff21357",
     "grade": true,
     "grade_id": "problem_4_part_d",
     "locked": false,
     "points": 1,
     "schema_version": 1,
     "solution": true
    }
   },
   "source": [
    "*There are some important data on this graph, but the magnitude of these data are obscured by inaccurate scaling.  The biggest weakness is that the scaling downplays the federal subsidies for fossil fuels: fossil fules get more than twice the amount of subsidies, yet are shown as proportionally equal to renewables. Did Exxon Mobil make this graph?  Also, the labeling is unclear: what are the two groups within traditional renewables (green), corn ethanol (yellow) and carbon capture (blue)? Description of that would be nice.  A major improvement would be to convert this graph to two stacked bar plots -- one of fossil fuels and one of renewable energy (with respective segmentation) -- would show accurate scaling between segments and between larger fossil vs renewable groups.  Clearer label fonts and font sizes would also be nice.*"
   ]
  },
  {
   "cell_type": "markdown",
   "metadata": {},
   "source": [
    "Note: These images were found at the following URLs:\n",
    "\n",
    "[http://andrewgelman.com/2011/04/26/worst_statistic/](http://andrewgelman.com/2011/04/26/worst_statistic/)\n",
    "\n",
    "[https://www.undullify.com/data-visualization-102-common-mistakes-visualizing-data/](https://www.undullify.com/data-visualization-102-common-mistakes-visualizing-data/)"
   ]
  }
 ],
 "metadata": {
  "anaconda-cloud": {},
  "kernelspec": {
   "display_name": "R",
   "language": "R",
   "name": "ir"
  },
  "language_info": {
   "codemirror_mode": "r",
   "file_extension": ".r",
   "mimetype": "text/x-r-source",
   "name": "R",
   "pygments_lexer": "r",
   "version": "3.4.1"
  }
 },
 "nbformat": 4,
 "nbformat_minor": 1
}
