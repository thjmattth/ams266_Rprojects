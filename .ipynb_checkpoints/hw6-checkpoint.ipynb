{
 "cells": [
  {
   "cell_type": "markdown",
   "metadata": {},
   "source": [
    "Before you turn this problem set in, make sure everything runs as expected. First, **restart the kernel** (in the menubar, select Kernel$\\rightarrow$Restart) and then **run all cells** (in the menubar, select Cell$\\rightarrow$Run All). Note that in code sections, you must replace `stop(\"Not Implemented\")` with your code. Otherwise, you will have points automatically deducted in the grading process.\n",
    "\n",
    "**Please do not rename this file.**\n",
    "\n",
    "Make sure you fill in any place that says `YOUR CODE HERE` or \"YOUR ANSWER/EXPLANATION HERE\". In addition, please do not include your name on this assignment to ensure anonymity for the peer reviews."
   ]
  },
  {
   "cell_type": "markdown",
   "metadata": {},
   "source": [
    "---"
   ]
  },
  {
   "cell_type": "markdown",
   "metadata": {
    "deletable": false,
    "editable": false,
    "nbgrader": {
     "checksum": "844e0c0971333937c7e5303036ef88dc",
     "grade": false,
     "grade_id": "cell-095b40b97053f150",
     "locked": true,
     "schema_version": 1,
     "solution": false
    }
   },
   "source": [
    "# Problem 1\n",
    "\n",
    "This assignment will focus on visualization techniques and plotting. In order to access the datasets used, please run the following code:"
   ]
  },
  {
   "cell_type": "code",
   "execution_count": 159,
   "metadata": {},
   "outputs": [
    {
     "name": "stderr",
     "output_type": "stream",
     "text": [
      "Warning message:\n",
      "\"package 'Lock5Data' is in use and will not be installed\""
     ]
    }
   ],
   "source": [
    "# This will install the package\n",
    "# Remember: you may need to specify the repository (repo) used\n",
    "# depending on your computer's configuration.\n",
    "# Type `?install.packages` in R to learn more.\n",
    "install.packages(\"Lock5Data\", repos = \"http://cran.us.r-project.org\")\n",
    "# Now load the package\n",
    "library(Lock5Data)\n",
    "\n",
    "# SET PLOT RENDER TO APPROACH ASPECT OF ±45° (lec6, slide 16/52).\n",
    "options(repr.plot.width = 6.5, repr.plot.height = 5)"
   ]
  },
  {
   "cell_type": "markdown",
   "metadata": {
    "deletable": false,
    "editable": false,
    "nbgrader": {
     "checksum": "a39fdfd77a3c6681626cd532c1b945b2",
     "grade": false,
     "grade_id": "cell-252cdea351ee31f6",
     "locked": true,
     "schema_version": 1,
     "solution": false
    }
   },
   "source": [
    "First, look at the `AllCountries` dataset (not `AllCountries1e`). For more information on this dataset and the variables in it, type `?AllCountries` into R after the `Lock5Data` package has been loaded. Follow the best practices from lesson 6 to make a plot that demonstrates the relationship between the percent of the country that has access to the Internet (`Internet` variable) and HIV infection rate (`HIV` variable). In particular, remember to\n",
    "\n",
    "- Choose an appropriate plot type\n",
    "- Label axes properly\n",
    "- Ensure the proper use of a scale\n",
    "- Make the plot aesthetically pleasing\n",
    "- Label points that represent extreme or unexpected combinations of values\n",
    "- Include source information\n",
    "- Most importantly, make sure the code to produce the plot works\n",
    "\n",
    "Extra credit may be given to plots that have additional useful information that is effectively communicated."
   ]
  },
  {
   "cell_type": "code",
   "execution_count": 166,
   "metadata": {
    "deletable": false,
    "nbgrader": {
     "checksum": "a07a1b7d623f1a0943d6d7b68a1426fd",
     "grade": true,
     "grade_id": "cell-9098b06bfe6002b5",
     "locked": false,
     "points": 6,
     "schema_version": 1,
     "solution": true
    }
   },
   "outputs": [
    {
     "data": {},
     "metadata": {},
     "output_type": "display_data"
    },
    {
     "data": {
      "image/png": "[encoded data removed]",
      "text/plain": [
       "plot without title"
      ]
     },
     "metadata": {},
     "output_type": "display_data"
    }
   ],
   "source": [
    "data(\"AllCountries\")\n",
    "\n",
    "# SET PLOT RENDER TO APPROACH ASPECT OF ±45° (lec6, slide 16/52).\n",
    "options(repr.plot.width = 5.5, repr.plot.height = 5.5)\n",
    "\n",
    "# subset AllCountries by only pertinent data, with no NA\n",
    "df <- AllCountries[c(\"Country\",\"HIV\",\"Internet\")]\n",
    "df <- df[complete.cases(df), ]\n",
    "\n",
    "# perform pearson correlation test\n",
    "res <- cor.test(df$HIV, df$Internet, method = \"pearson\")\n",
    "stat <- signif(res$statistic, digits = 3)\n",
    "pval <- signif(res$p.value, digits = 3)\n",
    "\n",
    "summary <- paste (paste(\"Results of Pearson Correlation test:  t =\", stat, \", p =\", pval, sep=\" \"))\n",
    "\n",
    "# subset labels to annotate, interesting to the eye\n",
    "g1 <- subset(df, (Country == \"Swaziland\") | (Country == \"South Africa\") | (Country == \"Denmark\" ))\n",
    "\n",
    "# plot it up!\n",
    "p <- ggplot(data = df, aes(x = HIV, y = Internet)) + geom_point() +     \n",
    "    xlab(\"%-Population with HIV\") +\n",
    "    ylab(\"%-Population with Internet Access\") +\n",
    "    coord_cartesian(xlim = c(0, 30), ylim = c(0, 100)) +\n",
    "    geom_smooth(method = \"lm\", se=FALSE, color=\"red\", formula = y ~ x) +\n",
    "    geom_text(data=g1, label=g1$Country, vjust=1) + # add label for red point\n",
    "\n",
    "    labs(title = \"Internet Access negatively correlated with HIV, per-capita\",\n",
    "         subtitle = summary,\n",
    "       caption = \"Source: AllCountries dataset, Lock5Data v2.8, 2017-06-30, GPL-2\") \n",
    "p"
   ]
  },
  {
   "cell_type": "markdown",
   "metadata": {
    "deletable": false,
    "editable": false,
    "nbgrader": {
     "checksum": "b86036b63ede295b944f877fa9e59538",
     "grade": false,
     "grade_id": "cell-e306ce669e1b5dfe",
     "locked": true,
     "schema_version": 1,
     "solution": false
    }
   },
   "source": [
    "---\n",
    "\n",
    "\n",
    "# Problem 2\n",
    "\n",
    "Next, examine the `BikeCommute` data set. These data describe a six-month experiment by Dr. Jeremy Groves. In his experiment, two bicycles were randomly selected for the doctor's 27-mile round trip commute on a given day. The experiment was designed to test the differences in using a steel-frame versus a carbon-frame bike, with everything else on the two bicycles being held equal. Using the data in the data frame, create a **single** visualization that illustrates the change in average speed (`AvgSpeed`) over time. As in the last problem, remember to\n",
    "\n",
    "- Choose an appropriate plot type\n",
    "- Label axes properly\n",
    "- Ensure the proper use of a scale\n",
    "- Make the plot aesthetically pleasing\n",
    "- Label points that represent extreme or unexpected combinations of values\n",
    "- Include source information\n",
    "- Most importantly, make sure the code to produce the plot works\n",
    "\n",
    "In order to simplify your plotting, the `Date` variable is changed from a factor to an object of class `Date` in R. Extra credit may be given to plots that have additional useful information that is effectively communicated."
   ]
  },
  {
   "cell_type": "code",
   "execution_count": 168,
   "metadata": {
    "deletable": false,
    "nbgrader": {
     "checksum": "273a4e6c32e36bfc02ec4828500fe73b",
     "grade": true,
     "grade_id": "cell-8cca00e5a2ee064a",
     "locked": false,
     "points": 6,
     "schema_version": 1,
     "solution": true
    }
   },
   "outputs": [
    {
     "data": {},
     "metadata": {},
     "output_type": "display_data"
    },
    {
     "data": {
      "image/png": "[encoded data removed]",
      "text/plain": [
       "plot without title"
      ]
     },
     "metadata": {},
     "output_type": "display_data"
    }
   ],
   "source": [
    "library(Lock5Data)\n",
    "data(\"BikeCommute\")\n",
    "\n",
    "# SET PLOT RENDER TO APPROACH ASPECT OF ±45° (lec6, slide 16/52).\n",
    "options(repr.plot.width = 6, repr.plot.height = 5)\n",
    "\n",
    "BikeCommute$Date <- as.Date(BikeCommute$Date,format = \"%d/%m/%y\")\n",
    "\n",
    "ggplot(BikeCommute, aes(x=Date,y=AvgSpeed)) +\n",
    "        ylab(\"Average Speed (mph)\") +\n",
    "        geom_point(aes(colour=Bike, shape=Bike)) +\n",
    "        geom_smooth(method=lm, aes(fill=Bike, color=Bike)) +\n",
    "        labs(title = \"Comparison of Average Bike Speed: Carbon Frame vs Steel Frame\",\n",
    "         subtitle = \"After reaching parity in final week of Feb, Carbon overtook Steel in terms of avg speed\",\n",
    "       caption = \"Source: BikeCommute dataset, Lock5Data v2.8, 2017-06-30, GPL-2\")\n"
   ]
  }
 ],
 "metadata": {
  "kernelspec": {
   "display_name": "R",
   "language": "R",
   "name": "ir"
  },
  "language_info": {
   "codemirror_mode": "r",
   "file_extension": ".r",
   "mimetype": "text/x-r-source",
   "name": "R",
   "pygments_lexer": "r",
   "version": "3.4.1"
  }
 },
 "nbformat": 4,
 "nbformat_minor": 1
}
