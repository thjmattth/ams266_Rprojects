{
 "cells": [
  {
   "cell_type": "markdown",
   "metadata": {},
   "source": [
    "# Lecture 2"
   ]
  },
  {
   "cell_type": "code",
   "execution_count": 27,
   "metadata": {},
   "outputs": [
    {
     "data": {
      "text/html": [
       "<ol>\n",
       "\t<li>'California'</li>\n",
       "\t<li><ol class=list-inline>\n",
       "\t<li>1</li>\n",
       "\t<li>3</li>\n",
       "\t<li>5</li>\n",
       "\t<li>1</li>\n",
       "</ol>\n",
       "</li>\n",
       "\t<li>92</li>\n",
       "\t<li>TRUE</li>\n",
       "</ol>\n"
      ],
      "text/latex": [
       "\\begin{enumerate}\n",
       "\\item 'California'\n",
       "\\item \\begin{enumerate*}\n",
       "\\item 1\n",
       "\\item 3\n",
       "\\item 5\n",
       "\\item 1\n",
       "\\end{enumerate*}\n",
       "\n",
       "\\item 92\n",
       "\\item TRUE\n",
       "\\end{enumerate}\n"
      ],
      "text/markdown": [
       "1. 'California'\n",
       "2. 1. 1\n",
       "2. 3\n",
       "3. 5\n",
       "4. 1\n",
       "\n",
       "\n",
       "\n",
       "3. 92\n",
       "4. TRUE\n",
       "\n",
       "\n"
      ],
      "text/plain": [
       "[[1]]\n",
       "[1] \"California\"\n",
       "\n",
       "[[2]]\n",
       "[1] 1 3 5 1\n",
       "\n",
       "[[3]]\n",
       "[1] 92\n",
       "\n",
       "[[4]]\n",
       "[1] TRUE\n"
      ]
     },
     "metadata": {},
     "output_type": "display_data"
    },
    {
     "data": {
      "text/html": [
       "<ol>\n",
       "\t<li>'California'</li>\n",
       "</ol>\n"
      ],
      "text/latex": [
       "\\begin{enumerate}\n",
       "\\item 'California'\n",
       "\\end{enumerate}\n"
      ],
      "text/markdown": [
       "1. 'California'\n",
       "\n",
       "\n"
      ],
      "text/plain": [
       "[[1]]\n",
       "[1] \"California\"\n"
      ]
     },
     "metadata": {},
     "output_type": "display_data"
    },
    {
     "data": {
      "text/html": [
       "'California'"
      ],
      "text/latex": [
       "'California'"
      ],
      "text/markdown": [
       "'California'"
      ],
      "text/plain": [
       "[1] \"California\""
      ]
     },
     "metadata": {},
     "output_type": "display_data"
    },
    {
     "data": {
      "text/html": [
       "'Cali'"
      ],
      "text/latex": [
       "'Cali'"
      ],
      "text/markdown": [
       "'Cali'"
      ],
      "text/plain": [
       "[1] \"Cali\""
      ]
     },
     "metadata": {},
     "output_type": "display_data"
    },
    {
     "data": {
      "text/html": [
       "<ol class=list-inline>\n",
       "\t<li>3</li>\n",
       "\t<li>5</li>\n",
       "</ol>\n"
      ],
      "text/latex": [
       "\\begin{enumerate*}\n",
       "\\item 3\n",
       "\\item 5\n",
       "\\end{enumerate*}\n"
      ],
      "text/markdown": [
       "1. 3\n",
       "2. 5\n",
       "\n",
       "\n"
      ],
      "text/plain": [
       "[1] 3 5"
      ]
     },
     "metadata": {},
     "output_type": "display_data"
    },
    {
     "data": {
      "text/html": [
       "<ol>\n",
       "\t<li><ol class=list-inline>\n",
       "\t<li>1</li>\n",
       "\t<li>3</li>\n",
       "\t<li>5</li>\n",
       "\t<li>1</li>\n",
       "</ol>\n",
       "</li>\n",
       "\t<li>TRUE</li>\n",
       "</ol>\n"
      ],
      "text/latex": [
       "\\begin{enumerate}\n",
       "\\item \\begin{enumerate*}\n",
       "\\item 1\n",
       "\\item 3\n",
       "\\item 5\n",
       "\\item 1\n",
       "\\end{enumerate*}\n",
       "\n",
       "\\item TRUE\n",
       "\\end{enumerate}\n"
      ],
      "text/markdown": [
       "1. 1. 1\n",
       "2. 3\n",
       "3. 5\n",
       "4. 1\n",
       "\n",
       "\n",
       "\n",
       "2. TRUE\n",
       "\n",
       "\n"
      ],
      "text/plain": [
       "[[1]]\n",
       "[1] 1 3 5 1\n",
       "\n",
       "[[2]]\n",
       "[1] TRUE\n"
      ]
     },
     "metadata": {},
     "output_type": "display_data"
    },
    {
     "data": {
      "text/html": [
       "TRUE"
      ],
      "text/latex": [
       "TRUE"
      ],
      "text/markdown": [
       "TRUE"
      ],
      "text/plain": [
       "[1] TRUE"
      ]
     },
     "metadata": {},
     "output_type": "display_data"
    }
   ],
   "source": [
    "x <- list(\"California\", c(1,3,5,1), 92, TRUE)\n",
    "x\n",
    "x[1]\n",
    "x[[1]]\n",
    "substr(x[[1]], 1,4)\n",
    "x[[2]][2:3]\n",
    "x[c(2,4)]  #coerce 92 to boolean\n",
    "x[[c(2,3)]] == x[[2]][3]"
   ]
  },
  {
   "cell_type": "code",
   "execution_count": 36,
   "metadata": {},
   "outputs": [
    {
     "data": {
      "text/html": [
       "'CA'"
      ],
      "text/latex": [
       "'CA'"
      ],
      "text/markdown": [
       "'CA'"
      ],
      "text/plain": [
       "[1] \"CA\""
      ]
     },
     "metadata": {},
     "output_type": "display_data"
    },
    {
     "data": {
      "text/html": [
       "TRUE"
      ],
      "text/latex": [
       "TRUE"
      ],
      "text/markdown": [
       "TRUE"
      ],
      "text/plain": [
       "[1] TRUE"
      ]
     },
     "metadata": {},
     "output_type": "display_data"
    },
    {
     "data": {
      "text/html": [
       "<ol class=list-inline>\n",
       "\t<li>1</li>\n",
       "\t<li>3</li>\n",
       "\t<li>5</li>\n",
       "\t<li>1</li>\n",
       "</ol>\n"
      ],
      "text/latex": [
       "\\begin{enumerate*}\n",
       "\\item 1\n",
       "\\item 3\n",
       "\\item 5\n",
       "\\item 1\n",
       "\\end{enumerate*}\n"
      ],
      "text/markdown": [
       "1. 1\n",
       "2. 3\n",
       "3. 5\n",
       "4. 1\n",
       "\n",
       "\n"
      ],
      "text/plain": [
       "[1] 1 3 5 1"
      ]
     },
     "metadata": {},
     "output_type": "display_data"
    },
    {
     "data": {
      "text/html": [
       "92"
      ],
      "text/latex": [
       "92"
      ],
      "text/markdown": [
       "92"
      ],
      "text/plain": [
       "[1] 92"
      ]
     },
     "metadata": {},
     "output_type": "display_data"
    }
   ],
   "source": [
    "x <- list(state=\"CA\",co=c(1,3,5,1),loc=92)\n",
    "x$state\n",
    "x$state == x[[\"state\"]]\n",
    "x$co\n",
    "x$loc"
   ]
  },
  {
   "cell_type": "code",
   "execution_count": 28,
   "metadata": {},
   "outputs": [
    {
     "data": {
      "text/html": [
       "<ol>\n",
       "\t<li>NULL</li>\n",
       "\t<li>NULL</li>\n",
       "</ol>\n"
      ],
      "text/latex": [
       "\\begin{enumerate}\n",
       "\\item NULL\n",
       "\\item NULL\n",
       "\\end{enumerate}\n"
      ],
      "text/markdown": [
       "1. NULL\n",
       "2. NULL\n",
       "\n",
       "\n"
      ],
      "text/plain": [
       "[[1]]\n",
       "NULL\n",
       "\n",
       "[[2]]\n",
       "NULL\n"
      ]
     },
     "metadata": {},
     "output_type": "display_data"
    }
   ],
   "source": [
    "x <- vector('list', length=2)\n",
    "x"
   ]
  },
  {
   "cell_type": "code",
   "execution_count": 46,
   "metadata": {},
   "outputs": [
    {
     "data": {
      "text/html": [
       "<table>\n",
       "<thead><tr><th scope=col>var1</th><th scope=col>var2</th><th scope=col>var3</th></tr></thead>\n",
       "<tbody>\n",
       "\t<tr><td>1    </td><td> TRUE</td><td>1    </td></tr>\n",
       "\t<tr><td>2    </td><td> TRUE</td><td>1    </td></tr>\n",
       "\t<tr><td>3    </td><td>FALSE</td><td>2    </td></tr>\n",
       "\t<tr><td>4    </td><td>FALSE</td><td>1    </td></tr>\n",
       "</tbody>\n",
       "</table>\n"
      ],
      "text/latex": [
       "\\begin{tabular}{r|lll}\n",
       " var1 & var2 & var3\\\\\n",
       "\\hline\n",
       "\t 1     &  TRUE & 1    \\\\\n",
       "\t 2     &  TRUE & 1    \\\\\n",
       "\t 3     & FALSE & 2    \\\\\n",
       "\t 4     & FALSE & 1    \\\\\n",
       "\\end{tabular}\n"
      ],
      "text/markdown": [
       "\n",
       "var1 | var2 | var3 | \n",
       "|---|---|---|---|\n",
       "| 1     |  TRUE | 1     | \n",
       "| 2     |  TRUE | 1     | \n",
       "| 3     | FALSE | 2     | \n",
       "| 4     | FALSE | 1     | \n",
       "\n",
       "\n"
      ],
      "text/plain": [
       "  var1 var2  var3\n",
       "1 1     TRUE 1   \n",
       "2 2     TRUE 1   \n",
       "3 3    FALSE 2   \n",
       "4 4    FALSE 1   "
      ]
     },
     "metadata": {},
     "output_type": "display_data"
    },
    {
     "data": {
      "text/html": [
       "1"
      ],
      "text/latex": [
       "1"
      ],
      "text/markdown": [
       "1"
      ],
      "text/plain": [
       "[1] 1\n",
       "Levels: 1 2"
      ]
     },
     "metadata": {},
     "output_type": "display_data"
    },
    {
     "data": {
      "text/html": [
       "FALSE"
      ],
      "text/latex": [
       "FALSE"
      ],
      "text/markdown": [
       "FALSE"
      ],
      "text/plain": [
       "[1] FALSE"
      ]
     },
     "metadata": {},
     "output_type": "display_data"
    },
    {
     "data": {
      "text/html": [
       "<ol class=list-inline>\n",
       "\t<li>TRUE</li>\n",
       "\t<li>TRUE</li>\n",
       "\t<li>FALSE</li>\n",
       "\t<li>FALSE</li>\n",
       "</ol>\n"
      ],
      "text/latex": [
       "\\begin{enumerate*}\n",
       "\\item TRUE\n",
       "\\item TRUE\n",
       "\\item FALSE\n",
       "\\item FALSE\n",
       "\\end{enumerate*}\n"
      ],
      "text/markdown": [
       "1. TRUE\n",
       "2. TRUE\n",
       "3. FALSE\n",
       "4. FALSE\n",
       "\n",
       "\n"
      ],
      "text/plain": [
       "[1]  TRUE  TRUE FALSE FALSE"
      ]
     },
     "metadata": {},
     "output_type": "display_data"
    },
    {
     "data": {
      "text/html": [
       "<ol class=list-inline>\n",
       "\t<li>TRUE</li>\n",
       "\t<li>TRUE</li>\n",
       "\t<li>FALSE</li>\n",
       "\t<li>FALSE</li>\n",
       "</ol>\n"
      ],
      "text/latex": [
       "\\begin{enumerate*}\n",
       "\\item TRUE\n",
       "\\item TRUE\n",
       "\\item FALSE\n",
       "\\item FALSE\n",
       "\\end{enumerate*}\n"
      ],
      "text/markdown": [
       "1. TRUE\n",
       "2. TRUE\n",
       "3. FALSE\n",
       "4. FALSE\n",
       "\n",
       "\n"
      ],
      "text/plain": [
       "[1]  TRUE  TRUE FALSE FALSE"
      ]
     },
     "metadata": {},
     "output_type": "display_data"
    },
    {
     "data": {
      "text/html": [
       "<ol class=list-inline>\n",
       "\t<li>TRUE</li>\n",
       "\t<li>TRUE</li>\n",
       "\t<li>FALSE</li>\n",
       "\t<li>FALSE</li>\n",
       "</ol>\n"
      ],
      "text/latex": [
       "\\begin{enumerate*}\n",
       "\\item TRUE\n",
       "\\item TRUE\n",
       "\\item FALSE\n",
       "\\item FALSE\n",
       "\\end{enumerate*}\n"
      ],
      "text/markdown": [
       "1. TRUE\n",
       "2. TRUE\n",
       "3. FALSE\n",
       "4. FALSE\n",
       "\n",
       "\n"
      ],
      "text/plain": [
       "[1]  TRUE  TRUE FALSE FALSE"
      ]
     },
     "metadata": {},
     "output_type": "display_data"
    }
   ],
   "source": [
    "x <- data.frame(var1 = 1:4, var2 = c(T, T, F, F), var3=factor(c(1,1,2,1)))\n",
    "x\n",
    "x[2,3]\n",
    "x[3,2]\n",
    "#same way to reference a column\n",
    "x[,2]\n",
    "x$var2\n",
    "x[['var2']]"
   ]
  },
  {
   "cell_type": "code",
   "execution_count": 62,
   "metadata": {},
   "outputs": [
    {
     "data": {
      "text/html": [
       "<table>\n",
       "<thead><tr><th></th><th scope=col>Ozone</th><th scope=col>Temp</th></tr></thead>\n",
       "<tbody>\n",
       "\t<tr><th scope=row>29</th><td>45</td><td>81</td></tr>\n",
       "\t<tr><th scope=row>35</th><td>NA</td><td>84</td></tr>\n",
       "\t<tr><th scope=row>36</th><td>NA</td><td>85</td></tr>\n",
       "\t<tr><th scope=row>38</th><td>29</td><td>82</td></tr>\n",
       "\t<tr><th scope=row>39</th><td>NA</td><td>87</td></tr>\n",
       "\t<tr><th scope=row>40</th><td>71</td><td>90</td></tr>\n",
       "\t<tr><th scope=row>41</th><td>39</td><td>87</td></tr>\n",
       "\t<tr><th scope=row>42</th><td>NA</td><td>93</td></tr>\n",
       "\t<tr><th scope=row>43</th><td>NA</td><td>92</td></tr>\n",
       "\t<tr><th scope=row>44</th><td>23</td><td>82</td></tr>\n",
       "</tbody>\n",
       "</table>\n"
      ],
      "text/latex": [
       "\\begin{tabular}{r|ll}\n",
       "  & Ozone & Temp\\\\\n",
       "\\hline\n",
       "\t29 & 45 & 81\\\\\n",
       "\t35 & NA & 84\\\\\n",
       "\t36 & NA & 85\\\\\n",
       "\t38 & 29 & 82\\\\\n",
       "\t39 & NA & 87\\\\\n",
       "\t40 & 71 & 90\\\\\n",
       "\t41 & 39 & 87\\\\\n",
       "\t42 & NA & 93\\\\\n",
       "\t43 & NA & 92\\\\\n",
       "\t44 & 23 & 82\\\\\n",
       "\\end{tabular}\n"
      ],
      "text/markdown": [
       "\n",
       "| <!--/--> | Ozone | Temp | \n",
       "|---|---|---|---|---|---|---|---|---|---|\n",
       "| 29 | 45 | 81 | \n",
       "| 35 | NA | 84 | \n",
       "| 36 | NA | 85 | \n",
       "| 38 | 29 | 82 | \n",
       "| 39 | NA | 87 | \n",
       "| 40 | 71 | 90 | \n",
       "| 41 | 39 | 87 | \n",
       "| 42 | NA | 93 | \n",
       "| 43 | NA | 92 | \n",
       "| 44 | 23 | 82 | \n",
       "\n",
       "\n"
      ],
      "text/plain": [
       "   Ozone Temp\n",
       "29 45    81  \n",
       "35 NA    84  \n",
       "36 NA    85  \n",
       "38 29    82  \n",
       "39 NA    87  \n",
       "40 71    90  \n",
       "41 39    87  \n",
       "42 NA    93  \n",
       "43 NA    92  \n",
       "44 23    82  "
      ]
     },
     "metadata": {},
     "output_type": "display_data"
    },
    {
     "data": {
      "text/html": [
       "<table>\n",
       "<thead><tr><th></th><th scope=col>Ozone</th><th scope=col>Temp</th></tr></thead>\n",
       "<tbody>\n",
       "\t<tr><th scope=row>120</th><td> 76</td><td>97 </td></tr>\n",
       "\t<tr><th scope=row>122</th><td> 84</td><td>96 </td></tr>\n",
       "\t<tr><th scope=row>121</th><td>118</td><td>94 </td></tr>\n",
       "\t<tr><th scope=row>123</th><td> 85</td><td>94 </td></tr>\n",
       "\t<tr><th scope=row>42</th><td> NA</td><td>93 </td></tr>\n",
       "\t<tr><th scope=row>126</th><td> 73</td><td>93 </td></tr>\n",
       "\t<tr><th scope=row>127</th><td> 91</td><td>93 </td></tr>\n",
       "\t<tr><th scope=row>43</th><td> NA</td><td>92 </td></tr>\n",
       "\t<tr><th scope=row>69</th><td> 97</td><td>92 </td></tr>\n",
       "\t<tr><th scope=row>70</th><td> 97</td><td>92 </td></tr>\n",
       "</tbody>\n",
       "</table>\n"
      ],
      "text/latex": [
       "\\begin{tabular}{r|ll}\n",
       "  & Ozone & Temp\\\\\n",
       "\\hline\n",
       "\t120 &  76 & 97 \\\\\n",
       "\t122 &  84 & 96 \\\\\n",
       "\t121 & 118 & 94 \\\\\n",
       "\t123 &  85 & 94 \\\\\n",
       "\t42 &  NA & 93 \\\\\n",
       "\t126 &  73 & 93 \\\\\n",
       "\t127 &  91 & 93 \\\\\n",
       "\t43 &  NA & 92 \\\\\n",
       "\t69 &  97 & 92 \\\\\n",
       "\t70 &  97 & 92 \\\\\n",
       "\\end{tabular}\n"
      ],
      "text/markdown": [
       "\n",
       "| <!--/--> | Ozone | Temp | \n",
       "|---|---|---|---|---|---|---|---|---|---|\n",
       "| 120 |  76 | 97  | \n",
       "| 122 |  84 | 96  | \n",
       "| 121 | 118 | 94  | \n",
       "| 123 |  85 | 94  | \n",
       "| 42 |  NA | 93  | \n",
       "| 126 |  73 | 93  | \n",
       "| 127 |  91 | 93  | \n",
       "| 43 |  NA | 92  | \n",
       "| 69 |  97 | 92  | \n",
       "| 70 |  97 | 92  | \n",
       "\n",
       "\n"
      ],
      "text/plain": [
       "    Ozone Temp\n",
       "120  76   97  \n",
       "122  84   96  \n",
       "121 118   94  \n",
       "123  85   94  \n",
       "42   NA   93  \n",
       "126  73   93  \n",
       "127  91   93  \n",
       "43   NA   92  \n",
       "69   97   92  \n",
       "70   97   92  "
      ]
     },
     "metadata": {},
     "output_type": "display_data"
    }
   ],
   "source": [
    "data(airquality)\n",
    "#select rows with temp>80, and only coumns Ozone and Temp, \n",
    "x <- subset(airquality, Temp>80, select= c(Ozone,Temp))\n",
    "#display top 10 results\n",
    "head(x, 10) \n",
    "\n",
    "#order by col \"Temp\" in descending order, (thus the negative sign)\n",
    "head(x[with(x, order(-Temp)), ], 10)"
   ]
  },
  {
   "cell_type": "code",
   "execution_count": 66,
   "metadata": {},
   "outputs": [
    {
     "data": {
      "text/html": [
       "<table>\n",
       "<thead><tr><th></th><th scope=col>Ozone</th><th scope=col>Solar.R</th><th scope=col>Wind</th><th scope=col>Month</th><th scope=col>Day</th></tr></thead>\n",
       "<tbody>\n",
       "\t<tr><th scope=row>1</th><td> 41</td><td>190</td><td>7.4</td><td>5  </td><td>1  </td></tr>\n",
       "\t<tr><th scope=row>32</th><td> NA</td><td>286</td><td>8.6</td><td>6  </td><td>1  </td></tr>\n",
       "\t<tr><th scope=row>62</th><td>135</td><td>269</td><td>4.1</td><td>7  </td><td>1  </td></tr>\n",
       "\t<tr><th scope=row>93</th><td> 39</td><td> 83</td><td>6.9</td><td>8  </td><td>1  </td></tr>\n",
       "\t<tr><th scope=row>124</th><td> 96</td><td>167</td><td>6.9</td><td>9  </td><td>1  </td></tr>\n",
       "</tbody>\n",
       "</table>\n"
      ],
      "text/latex": [
       "\\begin{tabular}{r|lllll}\n",
       "  & Ozone & Solar.R & Wind & Month & Day\\\\\n",
       "\\hline\n",
       "\t1 &  41 & 190 & 7.4 & 5   & 1  \\\\\n",
       "\t32 &  NA & 286 & 8.6 & 6   & 1  \\\\\n",
       "\t62 & 135 & 269 & 4.1 & 7   & 1  \\\\\n",
       "\t93 &  39 &  83 & 6.9 & 8   & 1  \\\\\n",
       "\t124 &  96 & 167 & 6.9 & 9   & 1  \\\\\n",
       "\\end{tabular}\n"
      ],
      "text/markdown": [
       "\n",
       "| <!--/--> | Ozone | Solar.R | Wind | Month | Day | \n",
       "|---|---|---|---|---|\n",
       "| 1 |  41 | 190 | 7.4 | 5   | 1   | \n",
       "| 32 |  NA | 286 | 8.6 | 6   | 1   | \n",
       "| 62 | 135 | 269 | 4.1 | 7   | 1   | \n",
       "| 93 |  39 |  83 | 6.9 | 8   | 1   | \n",
       "| 124 |  96 | 167 | 6.9 | 9   | 1   | \n",
       "\n",
       "\n"
      ],
      "text/plain": [
       "    Ozone Solar.R Wind Month Day\n",
       "1    41   190     7.4  5     1  \n",
       "32   NA   286     8.6  6     1  \n",
       "62  135   269     4.1  7     1  \n",
       "93   39    83     6.9  8     1  \n",
       "124  96   167     6.9  9     1  "
      ]
     },
     "metadata": {},
     "output_type": "display_data"
    },
    {
     "data": {
      "text/html": [
       "<table>\n",
       "<thead><tr><th scope=col>Ozone</th><th scope=col>Solar.R</th><th scope=col>Wind</th></tr></thead>\n",
       "<tbody>\n",
       "\t<tr><td>41  </td><td>190 </td><td> 7.4</td></tr>\n",
       "\t<tr><td>36  </td><td>118 </td><td> 8.0</td></tr>\n",
       "\t<tr><td>12  </td><td>149 </td><td>12.6</td></tr>\n",
       "\t<tr><td>18  </td><td>313 </td><td>11.5</td></tr>\n",
       "\t<tr><td>NA  </td><td> NA </td><td>14.3</td></tr>\n",
       "\t<tr><td>28  </td><td> NA </td><td>14.9</td></tr>\n",
       "\t<tr><td>23  </td><td>299 </td><td> 8.6</td></tr>\n",
       "\t<tr><td>19  </td><td> 99 </td><td>13.8</td></tr>\n",
       "\t<tr><td> 8  </td><td> 19 </td><td>20.1</td></tr>\n",
       "\t<tr><td>NA  </td><td>194 </td><td> 8.6</td></tr>\n",
       "</tbody>\n",
       "</table>\n"
      ],
      "text/latex": [
       "\\begin{tabular}{r|lll}\n",
       " Ozone & Solar.R & Wind\\\\\n",
       "\\hline\n",
       "\t 41   & 190  &  7.4\\\\\n",
       "\t 36   & 118  &  8.0\\\\\n",
       "\t 12   & 149  & 12.6\\\\\n",
       "\t 18   & 313  & 11.5\\\\\n",
       "\t NA   &  NA  & 14.3\\\\\n",
       "\t 28   &  NA  & 14.9\\\\\n",
       "\t 23   & 299  &  8.6\\\\\n",
       "\t 19   &  99  & 13.8\\\\\n",
       "\t  8   &  19  & 20.1\\\\\n",
       "\t NA   & 194  &  8.6\\\\\n",
       "\\end{tabular}\n"
      ],
      "text/markdown": [
       "\n",
       "Ozone | Solar.R | Wind | \n",
       "|---|---|---|---|---|---|---|---|---|---|\n",
       "| 41   | 190  |  7.4 | \n",
       "| 36   | 118  |  8.0 | \n",
       "| 12   | 149  | 12.6 | \n",
       "| 18   | 313  | 11.5 | \n",
       "| NA   |  NA  | 14.3 | \n",
       "| 28   |  NA  | 14.9 | \n",
       "| 23   | 299  |  8.6 | \n",
       "| 19   |  99  | 13.8 | \n",
       "|  8   |  19  | 20.1 | \n",
       "| NA   | 194  |  8.6 | \n",
       "\n",
       "\n"
      ],
      "text/plain": [
       "   Ozone Solar.R Wind\n",
       "1  41    190      7.4\n",
       "2  36    118      8.0\n",
       "3  12    149     12.6\n",
       "4  18    313     11.5\n",
       "5  NA     NA     14.3\n",
       "6  28     NA     14.9\n",
       "7  23    299      8.6\n",
       "8  19     99     13.8\n",
       "9   8     19     20.1\n",
       "10 NA    194      8.6"
      ]
     },
     "metadata": {},
     "output_type": "display_data"
    }
   ],
   "source": [
    "# -Temp exludes temp column\n",
    "x <- subset(airquality, Day==1, select=-Temp)\n",
    "head(x,10)\n",
    "\n",
    "# selecting range of columns between ozone and wind, inclusive\n",
    "x <- subset(airquality, select = Ozone:Wind)\n",
    "head(x,10)"
   ]
  },
  {
   "cell_type": "code",
   "execution_count": 69,
   "metadata": {},
   "outputs": [
    {
     "ename": "ERROR",
     "evalue": "Error in eval(expr, envir, enclos): object 'var1' not found\n",
     "output_type": "error",
     "traceback": [
      "Error in eval(expr, envir, enclos): object 'var1' not found\nTraceback:\n"
     ]
    }
   ],
   "source": [
    "#attaching dataframes\n",
    "x <- data.frame(var1 = 1:4, var2 = c(T, T, F, F), var3=factor(c(1,1,2,1))) \n",
    "var1  # var1 not found without referencing the dataframe, could attach as below"
   ]
  },
  {
   "cell_type": "code",
   "execution_count": 79,
   "metadata": {},
   "outputs": [
    {
     "name": "stderr",
     "output_type": "stream",
     "text": [
      "The following objects are masked from x (pos = 3):\n",
      "\n",
      "    var1, var2, var3\n",
      "\n"
     ]
    },
    {
     "data": {
      "text/html": [
       "<ol class=list-inline>\n",
       "\t<li>1</li>\n",
       "\t<li>2</li>\n",
       "\t<li>3</li>\n",
       "\t<li>4</li>\n",
       "</ol>\n"
      ],
      "text/latex": [
       "\\begin{enumerate*}\n",
       "\\item 1\n",
       "\\item 2\n",
       "\\item 3\n",
       "\\item 4\n",
       "\\end{enumerate*}\n"
      ],
      "text/markdown": [
       "1. 1\n",
       "2. 2\n",
       "3. 3\n",
       "4. 4\n",
       "\n",
       "\n"
      ],
      "text/plain": [
       "[1] 1 2 3 4"
      ]
     },
     "metadata": {},
     "output_type": "display_data"
    }
   ],
   "source": [
    "x <- data.frame(var1 = 1:4, var2 = c(T, T, F, F), var3=factor(c(1,1,2,1))) \n",
    "attach(x)\n",
    "var1\n",
    "detach(x)"
   ]
  },
  {
   "cell_type": "code",
   "execution_count": 81,
   "metadata": {},
   "outputs": [
    {
     "data": {
      "text/html": [
       "<table>\n",
       "<thead><tr><th scope=col>Ozone</th><th scope=col>Solar.R</th><th scope=col>Wind</th><th scope=col>Temp</th><th scope=col>Month</th><th scope=col>Day</th></tr></thead>\n",
       "<tbody>\n",
       "\t<tr><td> -41</td><td>190 </td><td> 7.4</td><td>67  </td><td>5   </td><td> 1  </td></tr>\n",
       "\t<tr><td> -36</td><td>118 </td><td> 8.0</td><td>72  </td><td>5   </td><td> 2  </td></tr>\n",
       "\t<tr><td> -12</td><td>149 </td><td>12.6</td><td>74  </td><td>5   </td><td> 3  </td></tr>\n",
       "\t<tr><td> -18</td><td>313 </td><td>11.5</td><td>62  </td><td>5   </td><td> 4  </td></tr>\n",
       "\t<tr><td>  NA</td><td> NA </td><td>14.3</td><td>56  </td><td>5   </td><td> 5  </td></tr>\n",
       "\t<tr><td> -28</td><td> NA </td><td>14.9</td><td>66  </td><td>5   </td><td> 6  </td></tr>\n",
       "\t<tr><td> -23</td><td>299 </td><td> 8.6</td><td>65  </td><td>5   </td><td> 7  </td></tr>\n",
       "\t<tr><td> -19</td><td> 99 </td><td>13.8</td><td>59  </td><td>5   </td><td> 8  </td></tr>\n",
       "\t<tr><td>  -8</td><td> 19 </td><td>20.1</td><td>61  </td><td>5   </td><td> 9  </td></tr>\n",
       "\t<tr><td>  NA</td><td>194 </td><td> 8.6</td><td>69  </td><td>5   </td><td>10  </td></tr>\n",
       "\t<tr><td>  -7</td><td> NA </td><td> 6.9</td><td>74  </td><td>5   </td><td>11  </td></tr>\n",
       "\t<tr><td> -16</td><td>256 </td><td> 9.7</td><td>69  </td><td>5   </td><td>12  </td></tr>\n",
       "\t<tr><td> -11</td><td>290 </td><td> 9.2</td><td>66  </td><td>5   </td><td>13  </td></tr>\n",
       "\t<tr><td> -14</td><td>274 </td><td>10.9</td><td>68  </td><td>5   </td><td>14  </td></tr>\n",
       "\t<tr><td> -18</td><td> 65 </td><td>13.2</td><td>58  </td><td>5   </td><td>15  </td></tr>\n",
       "\t<tr><td> -14</td><td>334 </td><td>11.5</td><td>64  </td><td>5   </td><td>16  </td></tr>\n",
       "\t<tr><td> -34</td><td>307 </td><td>12.0</td><td>66  </td><td>5   </td><td>17  </td></tr>\n",
       "\t<tr><td>  -6</td><td> 78 </td><td>18.4</td><td>57  </td><td>5   </td><td>18  </td></tr>\n",
       "\t<tr><td> -30</td><td>322 </td><td>11.5</td><td>68  </td><td>5   </td><td>19  </td></tr>\n",
       "\t<tr><td> -11</td><td> 44 </td><td> 9.7</td><td>62  </td><td>5   </td><td>20  </td></tr>\n",
       "\t<tr><td>  -1</td><td>  8 </td><td> 9.7</td><td>59  </td><td>5   </td><td>21  </td></tr>\n",
       "\t<tr><td> -11</td><td>320 </td><td>16.6</td><td>73  </td><td>5   </td><td>22  </td></tr>\n",
       "\t<tr><td>  -4</td><td> 25 </td><td> 9.7</td><td>61  </td><td>5   </td><td>23  </td></tr>\n",
       "\t<tr><td> -32</td><td> 92 </td><td>12.0</td><td>61  </td><td>5   </td><td>24  </td></tr>\n",
       "\t<tr><td>  NA</td><td> 66 </td><td>16.6</td><td>57  </td><td>5   </td><td>25  </td></tr>\n",
       "\t<tr><td>  NA</td><td>266 </td><td>14.9</td><td>58  </td><td>5   </td><td>26  </td></tr>\n",
       "\t<tr><td>  NA</td><td> NA </td><td> 8.0</td><td>57  </td><td>5   </td><td>27  </td></tr>\n",
       "\t<tr><td> -23</td><td> 13 </td><td>12.0</td><td>67  </td><td>5   </td><td>28  </td></tr>\n",
       "\t<tr><td> -45</td><td>252 </td><td>14.9</td><td>81  </td><td>5   </td><td>29  </td></tr>\n",
       "\t<tr><td>-115</td><td>223 </td><td> 5.7</td><td>79  </td><td>5   </td><td>30  </td></tr>\n",
       "\t<tr><td>...</td><td>...</td><td>...</td><td>...</td><td>...</td><td>...</td></tr>\n",
       "\t<tr><td>-96 </td><td>167 </td><td> 6.9</td><td>91  </td><td>9   </td><td> 1  </td></tr>\n",
       "\t<tr><td>-78 </td><td>197 </td><td> 5.1</td><td>92  </td><td>9   </td><td> 2  </td></tr>\n",
       "\t<tr><td>-73 </td><td>183 </td><td> 2.8</td><td>93  </td><td>9   </td><td> 3  </td></tr>\n",
       "\t<tr><td>-91 </td><td>189 </td><td> 4.6</td><td>93  </td><td>9   </td><td> 4  </td></tr>\n",
       "\t<tr><td>-47 </td><td> 95 </td><td> 7.4</td><td>87  </td><td>9   </td><td> 5  </td></tr>\n",
       "\t<tr><td>-32 </td><td> 92 </td><td>15.5</td><td>84  </td><td>9   </td><td> 6  </td></tr>\n",
       "\t<tr><td>-20 </td><td>252 </td><td>10.9</td><td>80  </td><td>9   </td><td> 7  </td></tr>\n",
       "\t<tr><td>-23 </td><td>220 </td><td>10.3</td><td>78  </td><td>9   </td><td> 8  </td></tr>\n",
       "\t<tr><td>-21 </td><td>230 </td><td>10.9</td><td>75  </td><td>9   </td><td> 9  </td></tr>\n",
       "\t<tr><td>-24 </td><td>259 </td><td> 9.7</td><td>73  </td><td>9   </td><td>10  </td></tr>\n",
       "\t<tr><td>-44 </td><td>236 </td><td>14.9</td><td>81  </td><td>9   </td><td>11  </td></tr>\n",
       "\t<tr><td>-21 </td><td>259 </td><td>15.5</td><td>76  </td><td>9   </td><td>12  </td></tr>\n",
       "\t<tr><td>-28 </td><td>238 </td><td> 6.3</td><td>77  </td><td>9   </td><td>13  </td></tr>\n",
       "\t<tr><td> -9 </td><td> 24 </td><td>10.9</td><td>71  </td><td>9   </td><td>14  </td></tr>\n",
       "\t<tr><td>-13 </td><td>112 </td><td>11.5</td><td>71  </td><td>9   </td><td>15  </td></tr>\n",
       "\t<tr><td>-46 </td><td>237 </td><td> 6.9</td><td>78  </td><td>9   </td><td>16  </td></tr>\n",
       "\t<tr><td>-18 </td><td>224 </td><td>13.8</td><td>67  </td><td>9   </td><td>17  </td></tr>\n",
       "\t<tr><td>-13 </td><td> 27 </td><td>10.3</td><td>76  </td><td>9   </td><td>18  </td></tr>\n",
       "\t<tr><td>-24 </td><td>238 </td><td>10.3</td><td>68  </td><td>9   </td><td>19  </td></tr>\n",
       "\t<tr><td>-16 </td><td>201 </td><td> 8.0</td><td>82  </td><td>9   </td><td>20  </td></tr>\n",
       "\t<tr><td>-13 </td><td>238 </td><td>12.6</td><td>64  </td><td>9   </td><td>21  </td></tr>\n",
       "\t<tr><td>-23 </td><td> 14 </td><td> 9.2</td><td>71  </td><td>9   </td><td>22  </td></tr>\n",
       "\t<tr><td>-36 </td><td>139 </td><td>10.3</td><td>81  </td><td>9   </td><td>23  </td></tr>\n",
       "\t<tr><td> -7 </td><td> 49 </td><td>10.3</td><td>69  </td><td>9   </td><td>24  </td></tr>\n",
       "\t<tr><td>-14 </td><td> 20 </td><td>16.6</td><td>63  </td><td>9   </td><td>25  </td></tr>\n",
       "\t<tr><td>-30 </td><td>193 </td><td> 6.9</td><td>70  </td><td>9   </td><td>26  </td></tr>\n",
       "\t<tr><td> NA </td><td>145 </td><td>13.2</td><td>77  </td><td>9   </td><td>27  </td></tr>\n",
       "\t<tr><td>-14 </td><td>191 </td><td>14.3</td><td>75  </td><td>9   </td><td>28  </td></tr>\n",
       "\t<tr><td>-18 </td><td>131 </td><td> 8.0</td><td>76  </td><td>9   </td><td>29  </td></tr>\n",
       "\t<tr><td>-20 </td><td>223 </td><td>11.5</td><td>68  </td><td>9   </td><td>30  </td></tr>\n",
       "</tbody>\n",
       "</table>\n"
      ],
      "text/latex": [
       "\\begin{tabular}{r|llllll}\n",
       " Ozone & Solar.R & Wind & Temp & Month & Day\\\\\n",
       "\\hline\n",
       "\t  -41 & 190  &  7.4 & 67   & 5    &  1  \\\\\n",
       "\t  -36 & 118  &  8.0 & 72   & 5    &  2  \\\\\n",
       "\t  -12 & 149  & 12.6 & 74   & 5    &  3  \\\\\n",
       "\t  -18 & 313  & 11.5 & 62   & 5    &  4  \\\\\n",
       "\t   NA &  NA  & 14.3 & 56   & 5    &  5  \\\\\n",
       "\t  -28 &  NA  & 14.9 & 66   & 5    &  6  \\\\\n",
       "\t  -23 & 299  &  8.6 & 65   & 5    &  7  \\\\\n",
       "\t  -19 &  99  & 13.8 & 59   & 5    &  8  \\\\\n",
       "\t   -8 &  19  & 20.1 & 61   & 5    &  9  \\\\\n",
       "\t   NA & 194  &  8.6 & 69   & 5    & 10  \\\\\n",
       "\t   -7 &  NA  &  6.9 & 74   & 5    & 11  \\\\\n",
       "\t  -16 & 256  &  9.7 & 69   & 5    & 12  \\\\\n",
       "\t  -11 & 290  &  9.2 & 66   & 5    & 13  \\\\\n",
       "\t  -14 & 274  & 10.9 & 68   & 5    & 14  \\\\\n",
       "\t  -18 &  65  & 13.2 & 58   & 5    & 15  \\\\\n",
       "\t  -14 & 334  & 11.5 & 64   & 5    & 16  \\\\\n",
       "\t  -34 & 307  & 12.0 & 66   & 5    & 17  \\\\\n",
       "\t   -6 &  78  & 18.4 & 57   & 5    & 18  \\\\\n",
       "\t  -30 & 322  & 11.5 & 68   & 5    & 19  \\\\\n",
       "\t  -11 &  44  &  9.7 & 62   & 5    & 20  \\\\\n",
       "\t   -1 &   8  &  9.7 & 59   & 5    & 21  \\\\\n",
       "\t  -11 & 320  & 16.6 & 73   & 5    & 22  \\\\\n",
       "\t   -4 &  25  &  9.7 & 61   & 5    & 23  \\\\\n",
       "\t  -32 &  92  & 12.0 & 61   & 5    & 24  \\\\\n",
       "\t   NA &  66  & 16.6 & 57   & 5    & 25  \\\\\n",
       "\t   NA & 266  & 14.9 & 58   & 5    & 26  \\\\\n",
       "\t   NA &  NA  &  8.0 & 57   & 5    & 27  \\\\\n",
       "\t  -23 &  13  & 12.0 & 67   & 5    & 28  \\\\\n",
       "\t  -45 & 252  & 14.9 & 81   & 5    & 29  \\\\\n",
       "\t -115 & 223  &  5.7 & 79   & 5    & 30  \\\\\n",
       "\t ... & ... & ... & ... & ... & ...\\\\\n",
       "\t -96  & 167  &  6.9 & 91   & 9    &  1  \\\\\n",
       "\t -78  & 197  &  5.1 & 92   & 9    &  2  \\\\\n",
       "\t -73  & 183  &  2.8 & 93   & 9    &  3  \\\\\n",
       "\t -91  & 189  &  4.6 & 93   & 9    &  4  \\\\\n",
       "\t -47  &  95  &  7.4 & 87   & 9    &  5  \\\\\n",
       "\t -32  &  92  & 15.5 & 84   & 9    &  6  \\\\\n",
       "\t -20  & 252  & 10.9 & 80   & 9    &  7  \\\\\n",
       "\t -23  & 220  & 10.3 & 78   & 9    &  8  \\\\\n",
       "\t -21  & 230  & 10.9 & 75   & 9    &  9  \\\\\n",
       "\t -24  & 259  &  9.7 & 73   & 9    & 10  \\\\\n",
       "\t -44  & 236  & 14.9 & 81   & 9    & 11  \\\\\n",
       "\t -21  & 259  & 15.5 & 76   & 9    & 12  \\\\\n",
       "\t -28  & 238  &  6.3 & 77   & 9    & 13  \\\\\n",
       "\t  -9  &  24  & 10.9 & 71   & 9    & 14  \\\\\n",
       "\t -13  & 112  & 11.5 & 71   & 9    & 15  \\\\\n",
       "\t -46  & 237  &  6.9 & 78   & 9    & 16  \\\\\n",
       "\t -18  & 224  & 13.8 & 67   & 9    & 17  \\\\\n",
       "\t -13  &  27  & 10.3 & 76   & 9    & 18  \\\\\n",
       "\t -24  & 238  & 10.3 & 68   & 9    & 19  \\\\\n",
       "\t -16  & 201  &  8.0 & 82   & 9    & 20  \\\\\n",
       "\t -13  & 238  & 12.6 & 64   & 9    & 21  \\\\\n",
       "\t -23  &  14  &  9.2 & 71   & 9    & 22  \\\\\n",
       "\t -36  & 139  & 10.3 & 81   & 9    & 23  \\\\\n",
       "\t  -7  &  49  & 10.3 & 69   & 9    & 24  \\\\\n",
       "\t -14  &  20  & 16.6 & 63   & 9    & 25  \\\\\n",
       "\t -30  & 193  &  6.9 & 70   & 9    & 26  \\\\\n",
       "\t  NA  & 145  & 13.2 & 77   & 9    & 27  \\\\\n",
       "\t -14  & 191  & 14.3 & 75   & 9    & 28  \\\\\n",
       "\t -18  & 131  &  8.0 & 76   & 9    & 29  \\\\\n",
       "\t -20  & 223  & 11.5 & 68   & 9    & 30  \\\\\n",
       "\\end{tabular}\n"
      ],
      "text/markdown": [
       "\n",
       "Ozone | Solar.R | Wind | Temp | Month | Day | \n",
       "|---|---|---|---|---|---|---|---|---|---|---|---|---|---|---|---|---|---|---|---|---|---|---|---|---|---|---|---|---|---|---|---|---|---|---|---|---|---|---|---|---|---|---|---|---|---|---|---|---|---|---|---|---|---|---|---|---|---|---|---|---|\n",
       "|  -41 | 190  |  7.4 | 67   | 5    |  1   | \n",
       "|  -36 | 118  |  8.0 | 72   | 5    |  2   | \n",
       "|  -12 | 149  | 12.6 | 74   | 5    |  3   | \n",
       "|  -18 | 313  | 11.5 | 62   | 5    |  4   | \n",
       "|   NA |  NA  | 14.3 | 56   | 5    |  5   | \n",
       "|  -28 |  NA  | 14.9 | 66   | 5    |  6   | \n",
       "|  -23 | 299  |  8.6 | 65   | 5    |  7   | \n",
       "|  -19 |  99  | 13.8 | 59   | 5    |  8   | \n",
       "|   -8 |  19  | 20.1 | 61   | 5    |  9   | \n",
       "|   NA | 194  |  8.6 | 69   | 5    | 10   | \n",
       "|   -7 |  NA  |  6.9 | 74   | 5    | 11   | \n",
       "|  -16 | 256  |  9.7 | 69   | 5    | 12   | \n",
       "|  -11 | 290  |  9.2 | 66   | 5    | 13   | \n",
       "|  -14 | 274  | 10.9 | 68   | 5    | 14   | \n",
       "|  -18 |  65  | 13.2 | 58   | 5    | 15   | \n",
       "|  -14 | 334  | 11.5 | 64   | 5    | 16   | \n",
       "|  -34 | 307  | 12.0 | 66   | 5    | 17   | \n",
       "|   -6 |  78  | 18.4 | 57   | 5    | 18   | \n",
       "|  -30 | 322  | 11.5 | 68   | 5    | 19   | \n",
       "|  -11 |  44  |  9.7 | 62   | 5    | 20   | \n",
       "|   -1 |   8  |  9.7 | 59   | 5    | 21   | \n",
       "|  -11 | 320  | 16.6 | 73   | 5    | 22   | \n",
       "|   -4 |  25  |  9.7 | 61   | 5    | 23   | \n",
       "|  -32 |  92  | 12.0 | 61   | 5    | 24   | \n",
       "|   NA |  66  | 16.6 | 57   | 5    | 25   | \n",
       "|   NA | 266  | 14.9 | 58   | 5    | 26   | \n",
       "|   NA |  NA  |  8.0 | 57   | 5    | 27   | \n",
       "|  -23 |  13  | 12.0 | 67   | 5    | 28   | \n",
       "|  -45 | 252  | 14.9 | 81   | 5    | 29   | \n",
       "| -115 | 223  |  5.7 | 79   | 5    | 30   | \n",
       "| ... | ... | ... | ... | ... | ... | \n",
       "| -96  | 167  |  6.9 | 91   | 9    |  1   | \n",
       "| -78  | 197  |  5.1 | 92   | 9    |  2   | \n",
       "| -73  | 183  |  2.8 | 93   | 9    |  3   | \n",
       "| -91  | 189  |  4.6 | 93   | 9    |  4   | \n",
       "| -47  |  95  |  7.4 | 87   | 9    |  5   | \n",
       "| -32  |  92  | 15.5 | 84   | 9    |  6   | \n",
       "| -20  | 252  | 10.9 | 80   | 9    |  7   | \n",
       "| -23  | 220  | 10.3 | 78   | 9    |  8   | \n",
       "| -21  | 230  | 10.9 | 75   | 9    |  9   | \n",
       "| -24  | 259  |  9.7 | 73   | 9    | 10   | \n",
       "| -44  | 236  | 14.9 | 81   | 9    | 11   | \n",
       "| -21  | 259  | 15.5 | 76   | 9    | 12   | \n",
       "| -28  | 238  |  6.3 | 77   | 9    | 13   | \n",
       "|  -9  |  24  | 10.9 | 71   | 9    | 14   | \n",
       "| -13  | 112  | 11.5 | 71   | 9    | 15   | \n",
       "| -46  | 237  |  6.9 | 78   | 9    | 16   | \n",
       "| -18  | 224  | 13.8 | 67   | 9    | 17   | \n",
       "| -13  |  27  | 10.3 | 76   | 9    | 18   | \n",
       "| -24  | 238  | 10.3 | 68   | 9    | 19   | \n",
       "| -16  | 201  |  8.0 | 82   | 9    | 20   | \n",
       "| -13  | 238  | 12.6 | 64   | 9    | 21   | \n",
       "| -23  |  14  |  9.2 | 71   | 9    | 22   | \n",
       "| -36  | 139  | 10.3 | 81   | 9    | 23   | \n",
       "|  -7  |  49  | 10.3 | 69   | 9    | 24   | \n",
       "| -14  |  20  | 16.6 | 63   | 9    | 25   | \n",
       "| -30  | 193  |  6.9 | 70   | 9    | 26   | \n",
       "|  NA  | 145  | 13.2 | 77   | 9    | 27   | \n",
       "| -14  | 191  | 14.3 | 75   | 9    | 28   | \n",
       "| -18  | 131  |  8.0 | 76   | 9    | 29   | \n",
       "| -20  | 223  | 11.5 | 68   | 9    | 30   | \n",
       "\n",
       "\n"
      ],
      "text/plain": [
       "    Ozone Solar.R Wind Temp Month Day\n",
       "1    -41  190      7.4 67   5      1 \n",
       "2    -36  118      8.0 72   5      2 \n",
       "3    -12  149     12.6 74   5      3 \n",
       "4    -18  313     11.5 62   5      4 \n",
       "5     NA   NA     14.3 56   5      5 \n",
       "6    -28   NA     14.9 66   5      6 \n",
       "7    -23  299      8.6 65   5      7 \n",
       "8    -19   99     13.8 59   5      8 \n",
       "9     -8   19     20.1 61   5      9 \n",
       "10    NA  194      8.6 69   5     10 \n",
       "11    -7   NA      6.9 74   5     11 \n",
       "12   -16  256      9.7 69   5     12 \n",
       "13   -11  290      9.2 66   5     13 \n",
       "14   -14  274     10.9 68   5     14 \n",
       "15   -18   65     13.2 58   5     15 \n",
       "16   -14  334     11.5 64   5     16 \n",
       "17   -34  307     12.0 66   5     17 \n",
       "18    -6   78     18.4 57   5     18 \n",
       "19   -30  322     11.5 68   5     19 \n",
       "20   -11   44      9.7 62   5     20 \n",
       "21    -1    8      9.7 59   5     21 \n",
       "22   -11  320     16.6 73   5     22 \n",
       "23    -4   25      9.7 61   5     23 \n",
       "24   -32   92     12.0 61   5     24 \n",
       "25    NA   66     16.6 57   5     25 \n",
       "26    NA  266     14.9 58   5     26 \n",
       "27    NA   NA      8.0 57   5     27 \n",
       "28   -23   13     12.0 67   5     28 \n",
       "29   -45  252     14.9 81   5     29 \n",
       "30  -115  223      5.7 79   5     30 \n",
       "... ...   ...     ...  ...  ...   ...\n",
       "124 -96   167      6.9 91   9      1 \n",
       "125 -78   197      5.1 92   9      2 \n",
       "126 -73   183      2.8 93   9      3 \n",
       "127 -91   189      4.6 93   9      4 \n",
       "128 -47    95      7.4 87   9      5 \n",
       "129 -32    92     15.5 84   9      6 \n",
       "130 -20   252     10.9 80   9      7 \n",
       "131 -23   220     10.3 78   9      8 \n",
       "132 -21   230     10.9 75   9      9 \n",
       "133 -24   259      9.7 73   9     10 \n",
       "134 -44   236     14.9 81   9     11 \n",
       "135 -21   259     15.5 76   9     12 \n",
       "136 -28   238      6.3 77   9     13 \n",
       "137  -9    24     10.9 71   9     14 \n",
       "138 -13   112     11.5 71   9     15 \n",
       "139 -46   237      6.9 78   9     16 \n",
       "140 -18   224     13.8 67   9     17 \n",
       "141 -13    27     10.3 76   9     18 \n",
       "142 -24   238     10.3 68   9     19 \n",
       "143 -16   201      8.0 82   9     20 \n",
       "144 -13   238     12.6 64   9     21 \n",
       "145 -23    14      9.2 71   9     22 \n",
       "146 -36   139     10.3 81   9     23 \n",
       "147  -7    49     10.3 69   9     24 \n",
       "148 -14    20     16.6 63   9     25 \n",
       "149 -30   193      6.9 70   9     26 \n",
       "150  NA   145     13.2 77   9     27 \n",
       "151 -14   191     14.3 75   9     28 \n",
       "152 -18   131      8.0 76   9     29 \n",
       "153 -20   223     11.5 68   9     30 "
      ]
     },
     "metadata": {},
     "output_type": "display_data"
    },
    {
     "data": {
      "text/html": [
       "<table>\n",
       "<thead><tr><th scope=col>Ozone</th><th scope=col>Solar.R</th><th scope=col>Wind</th><th scope=col>Temp</th><th scope=col>Month</th><th scope=col>Day</th><th scope=col>Temp.celcius</th></tr></thead>\n",
       "<tbody>\n",
       "\t<tr><td> 41     </td><td>190     </td><td> 7.4    </td><td>67      </td><td>5       </td><td> 1      </td><td>19.44444</td></tr>\n",
       "\t<tr><td> 36     </td><td>118     </td><td> 8.0    </td><td>72      </td><td>5       </td><td> 2      </td><td>22.22222</td></tr>\n",
       "\t<tr><td> 12     </td><td>149     </td><td>12.6    </td><td>74      </td><td>5       </td><td> 3      </td><td>23.33333</td></tr>\n",
       "\t<tr><td> 18     </td><td>313     </td><td>11.5    </td><td>62      </td><td>5       </td><td> 4      </td><td>16.66667</td></tr>\n",
       "\t<tr><td> NA     </td><td> NA     </td><td>14.3    </td><td>56      </td><td>5       </td><td> 5      </td><td>13.33333</td></tr>\n",
       "\t<tr><td> 28     </td><td> NA     </td><td>14.9    </td><td>66      </td><td>5       </td><td> 6      </td><td>18.88889</td></tr>\n",
       "\t<tr><td> 23     </td><td>299     </td><td> 8.6    </td><td>65      </td><td>5       </td><td> 7      </td><td>18.33333</td></tr>\n",
       "\t<tr><td> 19     </td><td> 99     </td><td>13.8    </td><td>59      </td><td>5       </td><td> 8      </td><td>15.00000</td></tr>\n",
       "\t<tr><td>  8     </td><td> 19     </td><td>20.1    </td><td>61      </td><td>5       </td><td> 9      </td><td>16.11111</td></tr>\n",
       "\t<tr><td> NA     </td><td>194     </td><td> 8.6    </td><td>69      </td><td>5       </td><td>10      </td><td>20.55556</td></tr>\n",
       "\t<tr><td>  7     </td><td> NA     </td><td> 6.9    </td><td>74      </td><td>5       </td><td>11      </td><td>23.33333</td></tr>\n",
       "\t<tr><td> 16     </td><td>256     </td><td> 9.7    </td><td>69      </td><td>5       </td><td>12      </td><td>20.55556</td></tr>\n",
       "\t<tr><td> 11     </td><td>290     </td><td> 9.2    </td><td>66      </td><td>5       </td><td>13      </td><td>18.88889</td></tr>\n",
       "\t<tr><td> 14     </td><td>274     </td><td>10.9    </td><td>68      </td><td>5       </td><td>14      </td><td>20.00000</td></tr>\n",
       "\t<tr><td> 18     </td><td> 65     </td><td>13.2    </td><td>58      </td><td>5       </td><td>15      </td><td>14.44444</td></tr>\n",
       "\t<tr><td> 14     </td><td>334     </td><td>11.5    </td><td>64      </td><td>5       </td><td>16      </td><td>17.77778</td></tr>\n",
       "\t<tr><td> 34     </td><td>307     </td><td>12.0    </td><td>66      </td><td>5       </td><td>17      </td><td>18.88889</td></tr>\n",
       "\t<tr><td>  6     </td><td> 78     </td><td>18.4    </td><td>57      </td><td>5       </td><td>18      </td><td>13.88889</td></tr>\n",
       "\t<tr><td> 30     </td><td>322     </td><td>11.5    </td><td>68      </td><td>5       </td><td>19      </td><td>20.00000</td></tr>\n",
       "\t<tr><td> 11     </td><td> 44     </td><td> 9.7    </td><td>62      </td><td>5       </td><td>20      </td><td>16.66667</td></tr>\n",
       "\t<tr><td>  1     </td><td>  8     </td><td> 9.7    </td><td>59      </td><td>5       </td><td>21      </td><td>15.00000</td></tr>\n",
       "\t<tr><td> 11     </td><td>320     </td><td>16.6    </td><td>73      </td><td>5       </td><td>22      </td><td>22.77778</td></tr>\n",
       "\t<tr><td>  4     </td><td> 25     </td><td> 9.7    </td><td>61      </td><td>5       </td><td>23      </td><td>16.11111</td></tr>\n",
       "\t<tr><td> 32     </td><td> 92     </td><td>12.0    </td><td>61      </td><td>5       </td><td>24      </td><td>16.11111</td></tr>\n",
       "\t<tr><td> NA     </td><td> 66     </td><td>16.6    </td><td>57      </td><td>5       </td><td>25      </td><td>13.88889</td></tr>\n",
       "\t<tr><td> NA     </td><td>266     </td><td>14.9    </td><td>58      </td><td>5       </td><td>26      </td><td>14.44444</td></tr>\n",
       "\t<tr><td> NA     </td><td> NA     </td><td> 8.0    </td><td>57      </td><td>5       </td><td>27      </td><td>13.88889</td></tr>\n",
       "\t<tr><td> 23     </td><td> 13     </td><td>12.0    </td><td>67      </td><td>5       </td><td>28      </td><td>19.44444</td></tr>\n",
       "\t<tr><td> 45     </td><td>252     </td><td>14.9    </td><td>81      </td><td>5       </td><td>29      </td><td>27.22222</td></tr>\n",
       "\t<tr><td>115     </td><td>223     </td><td> 5.7    </td><td>79      </td><td>5       </td><td>30      </td><td>26.11111</td></tr>\n",
       "\t<tr><td>...</td><td>...</td><td>...</td><td>...</td><td>...</td><td>...</td><td>...</td></tr>\n",
       "\t<tr><td>96      </td><td>167     </td><td> 6.9    </td><td>91      </td><td>9       </td><td> 1      </td><td>32.77778</td></tr>\n",
       "\t<tr><td>78      </td><td>197     </td><td> 5.1    </td><td>92      </td><td>9       </td><td> 2      </td><td>33.33333</td></tr>\n",
       "\t<tr><td>73      </td><td>183     </td><td> 2.8    </td><td>93      </td><td>9       </td><td> 3      </td><td>33.88889</td></tr>\n",
       "\t<tr><td>91      </td><td>189     </td><td> 4.6    </td><td>93      </td><td>9       </td><td> 4      </td><td>33.88889</td></tr>\n",
       "\t<tr><td>47      </td><td> 95     </td><td> 7.4    </td><td>87      </td><td>9       </td><td> 5      </td><td>30.55556</td></tr>\n",
       "\t<tr><td>32      </td><td> 92     </td><td>15.5    </td><td>84      </td><td>9       </td><td> 6      </td><td>28.88889</td></tr>\n",
       "\t<tr><td>20      </td><td>252     </td><td>10.9    </td><td>80      </td><td>9       </td><td> 7      </td><td>26.66667</td></tr>\n",
       "\t<tr><td>23      </td><td>220     </td><td>10.3    </td><td>78      </td><td>9       </td><td> 8      </td><td>25.55556</td></tr>\n",
       "\t<tr><td>21      </td><td>230     </td><td>10.9    </td><td>75      </td><td>9       </td><td> 9      </td><td>23.88889</td></tr>\n",
       "\t<tr><td>24      </td><td>259     </td><td> 9.7    </td><td>73      </td><td>9       </td><td>10      </td><td>22.77778</td></tr>\n",
       "\t<tr><td>44      </td><td>236     </td><td>14.9    </td><td>81      </td><td>9       </td><td>11      </td><td>27.22222</td></tr>\n",
       "\t<tr><td>21      </td><td>259     </td><td>15.5    </td><td>76      </td><td>9       </td><td>12      </td><td>24.44444</td></tr>\n",
       "\t<tr><td>28      </td><td>238     </td><td> 6.3    </td><td>77      </td><td>9       </td><td>13      </td><td>25.00000</td></tr>\n",
       "\t<tr><td> 9      </td><td> 24     </td><td>10.9    </td><td>71      </td><td>9       </td><td>14      </td><td>21.66667</td></tr>\n",
       "\t<tr><td>13      </td><td>112     </td><td>11.5    </td><td>71      </td><td>9       </td><td>15      </td><td>21.66667</td></tr>\n",
       "\t<tr><td>46      </td><td>237     </td><td> 6.9    </td><td>78      </td><td>9       </td><td>16      </td><td>25.55556</td></tr>\n",
       "\t<tr><td>18      </td><td>224     </td><td>13.8    </td><td>67      </td><td>9       </td><td>17      </td><td>19.44444</td></tr>\n",
       "\t<tr><td>13      </td><td> 27     </td><td>10.3    </td><td>76      </td><td>9       </td><td>18      </td><td>24.44444</td></tr>\n",
       "\t<tr><td>24      </td><td>238     </td><td>10.3    </td><td>68      </td><td>9       </td><td>19      </td><td>20.00000</td></tr>\n",
       "\t<tr><td>16      </td><td>201     </td><td> 8.0    </td><td>82      </td><td>9       </td><td>20      </td><td>27.77778</td></tr>\n",
       "\t<tr><td>13      </td><td>238     </td><td>12.6    </td><td>64      </td><td>9       </td><td>21      </td><td>17.77778</td></tr>\n",
       "\t<tr><td>23      </td><td> 14     </td><td> 9.2    </td><td>71      </td><td>9       </td><td>22      </td><td>21.66667</td></tr>\n",
       "\t<tr><td>36      </td><td>139     </td><td>10.3    </td><td>81      </td><td>9       </td><td>23      </td><td>27.22222</td></tr>\n",
       "\t<tr><td> 7      </td><td> 49     </td><td>10.3    </td><td>69      </td><td>9       </td><td>24      </td><td>20.55556</td></tr>\n",
       "\t<tr><td>14      </td><td> 20     </td><td>16.6    </td><td>63      </td><td>9       </td><td>25      </td><td>17.22222</td></tr>\n",
       "\t<tr><td>30      </td><td>193     </td><td> 6.9    </td><td>70      </td><td>9       </td><td>26      </td><td>21.11111</td></tr>\n",
       "\t<tr><td>NA      </td><td>145     </td><td>13.2    </td><td>77      </td><td>9       </td><td>27      </td><td>25.00000</td></tr>\n",
       "\t<tr><td>14      </td><td>191     </td><td>14.3    </td><td>75      </td><td>9       </td><td>28      </td><td>23.88889</td></tr>\n",
       "\t<tr><td>18      </td><td>131     </td><td> 8.0    </td><td>76      </td><td>9       </td><td>29      </td><td>24.44444</td></tr>\n",
       "\t<tr><td>20      </td><td>223     </td><td>11.5    </td><td>68      </td><td>9       </td><td>30      </td><td>20.00000</td></tr>\n",
       "</tbody>\n",
       "</table>\n"
      ],
      "text/latex": [
       "\\begin{tabular}{r|lllllll}\n",
       " Ozone & Solar.R & Wind & Temp & Month & Day & Temp.celcius\\\\\n",
       "\\hline\n",
       "\t  41      & 190      &  7.4     & 67       & 5        &  1       & 19.44444\\\\\n",
       "\t  36      & 118      &  8.0     & 72       & 5        &  2       & 22.22222\\\\\n",
       "\t  12      & 149      & 12.6     & 74       & 5        &  3       & 23.33333\\\\\n",
       "\t  18      & 313      & 11.5     & 62       & 5        &  4       & 16.66667\\\\\n",
       "\t  NA      &  NA      & 14.3     & 56       & 5        &  5       & 13.33333\\\\\n",
       "\t  28      &  NA      & 14.9     & 66       & 5        &  6       & 18.88889\\\\\n",
       "\t  23      & 299      &  8.6     & 65       & 5        &  7       & 18.33333\\\\\n",
       "\t  19      &  99      & 13.8     & 59       & 5        &  8       & 15.00000\\\\\n",
       "\t   8      &  19      & 20.1     & 61       & 5        &  9       & 16.11111\\\\\n",
       "\t  NA      & 194      &  8.6     & 69       & 5        & 10       & 20.55556\\\\\n",
       "\t   7      &  NA      &  6.9     & 74       & 5        & 11       & 23.33333\\\\\n",
       "\t  16      & 256      &  9.7     & 69       & 5        & 12       & 20.55556\\\\\n",
       "\t  11      & 290      &  9.2     & 66       & 5        & 13       & 18.88889\\\\\n",
       "\t  14      & 274      & 10.9     & 68       & 5        & 14       & 20.00000\\\\\n",
       "\t  18      &  65      & 13.2     & 58       & 5        & 15       & 14.44444\\\\\n",
       "\t  14      & 334      & 11.5     & 64       & 5        & 16       & 17.77778\\\\\n",
       "\t  34      & 307      & 12.0     & 66       & 5        & 17       & 18.88889\\\\\n",
       "\t   6      &  78      & 18.4     & 57       & 5        & 18       & 13.88889\\\\\n",
       "\t  30      & 322      & 11.5     & 68       & 5        & 19       & 20.00000\\\\\n",
       "\t  11      &  44      &  9.7     & 62       & 5        & 20       & 16.66667\\\\\n",
       "\t   1      &   8      &  9.7     & 59       & 5        & 21       & 15.00000\\\\\n",
       "\t  11      & 320      & 16.6     & 73       & 5        & 22       & 22.77778\\\\\n",
       "\t   4      &  25      &  9.7     & 61       & 5        & 23       & 16.11111\\\\\n",
       "\t  32      &  92      & 12.0     & 61       & 5        & 24       & 16.11111\\\\\n",
       "\t  NA      &  66      & 16.6     & 57       & 5        & 25       & 13.88889\\\\\n",
       "\t  NA      & 266      & 14.9     & 58       & 5        & 26       & 14.44444\\\\\n",
       "\t  NA      &  NA      &  8.0     & 57       & 5        & 27       & 13.88889\\\\\n",
       "\t  23      &  13      & 12.0     & 67       & 5        & 28       & 19.44444\\\\\n",
       "\t  45      & 252      & 14.9     & 81       & 5        & 29       & 27.22222\\\\\n",
       "\t 115      & 223      &  5.7     & 79       & 5        & 30       & 26.11111\\\\\n",
       "\t ... & ... & ... & ... & ... & ... & ...\\\\\n",
       "\t 96       & 167      &  6.9     & 91       & 9        &  1       & 32.77778\\\\\n",
       "\t 78       & 197      &  5.1     & 92       & 9        &  2       & 33.33333\\\\\n",
       "\t 73       & 183      &  2.8     & 93       & 9        &  3       & 33.88889\\\\\n",
       "\t 91       & 189      &  4.6     & 93       & 9        &  4       & 33.88889\\\\\n",
       "\t 47       &  95      &  7.4     & 87       & 9        &  5       & 30.55556\\\\\n",
       "\t 32       &  92      & 15.5     & 84       & 9        &  6       & 28.88889\\\\\n",
       "\t 20       & 252      & 10.9     & 80       & 9        &  7       & 26.66667\\\\\n",
       "\t 23       & 220      & 10.3     & 78       & 9        &  8       & 25.55556\\\\\n",
       "\t 21       & 230      & 10.9     & 75       & 9        &  9       & 23.88889\\\\\n",
       "\t 24       & 259      &  9.7     & 73       & 9        & 10       & 22.77778\\\\\n",
       "\t 44       & 236      & 14.9     & 81       & 9        & 11       & 27.22222\\\\\n",
       "\t 21       & 259      & 15.5     & 76       & 9        & 12       & 24.44444\\\\\n",
       "\t 28       & 238      &  6.3     & 77       & 9        & 13       & 25.00000\\\\\n",
       "\t  9       &  24      & 10.9     & 71       & 9        & 14       & 21.66667\\\\\n",
       "\t 13       & 112      & 11.5     & 71       & 9        & 15       & 21.66667\\\\\n",
       "\t 46       & 237      &  6.9     & 78       & 9        & 16       & 25.55556\\\\\n",
       "\t 18       & 224      & 13.8     & 67       & 9        & 17       & 19.44444\\\\\n",
       "\t 13       &  27      & 10.3     & 76       & 9        & 18       & 24.44444\\\\\n",
       "\t 24       & 238      & 10.3     & 68       & 9        & 19       & 20.00000\\\\\n",
       "\t 16       & 201      &  8.0     & 82       & 9        & 20       & 27.77778\\\\\n",
       "\t 13       & 238      & 12.6     & 64       & 9        & 21       & 17.77778\\\\\n",
       "\t 23       &  14      &  9.2     & 71       & 9        & 22       & 21.66667\\\\\n",
       "\t 36       & 139      & 10.3     & 81       & 9        & 23       & 27.22222\\\\\n",
       "\t  7       &  49      & 10.3     & 69       & 9        & 24       & 20.55556\\\\\n",
       "\t 14       &  20      & 16.6     & 63       & 9        & 25       & 17.22222\\\\\n",
       "\t 30       & 193      &  6.9     & 70       & 9        & 26       & 21.11111\\\\\n",
       "\t NA       & 145      & 13.2     & 77       & 9        & 27       & 25.00000\\\\\n",
       "\t 14       & 191      & 14.3     & 75       & 9        & 28       & 23.88889\\\\\n",
       "\t 18       & 131      &  8.0     & 76       & 9        & 29       & 24.44444\\\\\n",
       "\t 20       & 223      & 11.5     & 68       & 9        & 30       & 20.00000\\\\\n",
       "\\end{tabular}\n"
      ],
      "text/markdown": [
       "\n",
       "Ozone | Solar.R | Wind | Temp | Month | Day | Temp.celcius | \n",
       "|---|---|---|---|---|---|---|---|---|---|---|---|---|---|---|---|---|---|---|---|---|---|---|---|---|---|---|---|---|---|---|---|---|---|---|---|---|---|---|---|---|---|---|---|---|---|---|---|---|---|---|---|---|---|---|---|---|---|---|---|---|\n",
       "|  41      | 190      |  7.4     | 67       | 5        |  1       | 19.44444 | \n",
       "|  36      | 118      |  8.0     | 72       | 5        |  2       | 22.22222 | \n",
       "|  12      | 149      | 12.6     | 74       | 5        |  3       | 23.33333 | \n",
       "|  18      | 313      | 11.5     | 62       | 5        |  4       | 16.66667 | \n",
       "|  NA      |  NA      | 14.3     | 56       | 5        |  5       | 13.33333 | \n",
       "|  28      |  NA      | 14.9     | 66       | 5        |  6       | 18.88889 | \n",
       "|  23      | 299      |  8.6     | 65       | 5        |  7       | 18.33333 | \n",
       "|  19      |  99      | 13.8     | 59       | 5        |  8       | 15.00000 | \n",
       "|   8      |  19      | 20.1     | 61       | 5        |  9       | 16.11111 | \n",
       "|  NA      | 194      |  8.6     | 69       | 5        | 10       | 20.55556 | \n",
       "|   7      |  NA      |  6.9     | 74       | 5        | 11       | 23.33333 | \n",
       "|  16      | 256      |  9.7     | 69       | 5        | 12       | 20.55556 | \n",
       "|  11      | 290      |  9.2     | 66       | 5        | 13       | 18.88889 | \n",
       "|  14      | 274      | 10.9     | 68       | 5        | 14       | 20.00000 | \n",
       "|  18      |  65      | 13.2     | 58       | 5        | 15       | 14.44444 | \n",
       "|  14      | 334      | 11.5     | 64       | 5        | 16       | 17.77778 | \n",
       "|  34      | 307      | 12.0     | 66       | 5        | 17       | 18.88889 | \n",
       "|   6      |  78      | 18.4     | 57       | 5        | 18       | 13.88889 | \n",
       "|  30      | 322      | 11.5     | 68       | 5        | 19       | 20.00000 | \n",
       "|  11      |  44      |  9.7     | 62       | 5        | 20       | 16.66667 | \n",
       "|   1      |   8      |  9.7     | 59       | 5        | 21       | 15.00000 | \n",
       "|  11      | 320      | 16.6     | 73       | 5        | 22       | 22.77778 | \n",
       "|   4      |  25      |  9.7     | 61       | 5        | 23       | 16.11111 | \n",
       "|  32      |  92      | 12.0     | 61       | 5        | 24       | 16.11111 | \n",
       "|  NA      |  66      | 16.6     | 57       | 5        | 25       | 13.88889 | \n",
       "|  NA      | 266      | 14.9     | 58       | 5        | 26       | 14.44444 | \n",
       "|  NA      |  NA      |  8.0     | 57       | 5        | 27       | 13.88889 | \n",
       "|  23      |  13      | 12.0     | 67       | 5        | 28       | 19.44444 | \n",
       "|  45      | 252      | 14.9     | 81       | 5        | 29       | 27.22222 | \n",
       "| 115      | 223      |  5.7     | 79       | 5        | 30       | 26.11111 | \n",
       "| ... | ... | ... | ... | ... | ... | ... | \n",
       "| 96       | 167      |  6.9     | 91       | 9        |  1       | 32.77778 | \n",
       "| 78       | 197      |  5.1     | 92       | 9        |  2       | 33.33333 | \n",
       "| 73       | 183      |  2.8     | 93       | 9        |  3       | 33.88889 | \n",
       "| 91       | 189      |  4.6     | 93       | 9        |  4       | 33.88889 | \n",
       "| 47       |  95      |  7.4     | 87       | 9        |  5       | 30.55556 | \n",
       "| 32       |  92      | 15.5     | 84       | 9        |  6       | 28.88889 | \n",
       "| 20       | 252      | 10.9     | 80       | 9        |  7       | 26.66667 | \n",
       "| 23       | 220      | 10.3     | 78       | 9        |  8       | 25.55556 | \n",
       "| 21       | 230      | 10.9     | 75       | 9        |  9       | 23.88889 | \n",
       "| 24       | 259      |  9.7     | 73       | 9        | 10       | 22.77778 | \n",
       "| 44       | 236      | 14.9     | 81       | 9        | 11       | 27.22222 | \n",
       "| 21       | 259      | 15.5     | 76       | 9        | 12       | 24.44444 | \n",
       "| 28       | 238      |  6.3     | 77       | 9        | 13       | 25.00000 | \n",
       "|  9       |  24      | 10.9     | 71       | 9        | 14       | 21.66667 | \n",
       "| 13       | 112      | 11.5     | 71       | 9        | 15       | 21.66667 | \n",
       "| 46       | 237      |  6.9     | 78       | 9        | 16       | 25.55556 | \n",
       "| 18       | 224      | 13.8     | 67       | 9        | 17       | 19.44444 | \n",
       "| 13       |  27      | 10.3     | 76       | 9        | 18       | 24.44444 | \n",
       "| 24       | 238      | 10.3     | 68       | 9        | 19       | 20.00000 | \n",
       "| 16       | 201      |  8.0     | 82       | 9        | 20       | 27.77778 | \n",
       "| 13       | 238      | 12.6     | 64       | 9        | 21       | 17.77778 | \n",
       "| 23       |  14      |  9.2     | 71       | 9        | 22       | 21.66667 | \n",
       "| 36       | 139      | 10.3     | 81       | 9        | 23       | 27.22222 | \n",
       "|  7       |  49      | 10.3     | 69       | 9        | 24       | 20.55556 | \n",
       "| 14       |  20      | 16.6     | 63       | 9        | 25       | 17.22222 | \n",
       "| 30       | 193      |  6.9     | 70       | 9        | 26       | 21.11111 | \n",
       "| NA       | 145      | 13.2     | 77       | 9        | 27       | 25.00000 | \n",
       "| 14       | 191      | 14.3     | 75       | 9        | 28       | 23.88889 | \n",
       "| 18       | 131      |  8.0     | 76       | 9        | 29       | 24.44444 | \n",
       "| 20       | 223      | 11.5     | 68       | 9        | 30       | 20.00000 | \n",
       "\n",
       "\n"
      ],
      "text/plain": [
       "    Ozone Solar.R Wind Temp Month Day Temp.celcius\n",
       "1    41   190      7.4 67   5      1  19.44444    \n",
       "2    36   118      8.0 72   5      2  22.22222    \n",
       "3    12   149     12.6 74   5      3  23.33333    \n",
       "4    18   313     11.5 62   5      4  16.66667    \n",
       "5    NA    NA     14.3 56   5      5  13.33333    \n",
       "6    28    NA     14.9 66   5      6  18.88889    \n",
       "7    23   299      8.6 65   5      7  18.33333    \n",
       "8    19    99     13.8 59   5      8  15.00000    \n",
       "9     8    19     20.1 61   5      9  16.11111    \n",
       "10   NA   194      8.6 69   5     10  20.55556    \n",
       "11    7    NA      6.9 74   5     11  23.33333    \n",
       "12   16   256      9.7 69   5     12  20.55556    \n",
       "13   11   290      9.2 66   5     13  18.88889    \n",
       "14   14   274     10.9 68   5     14  20.00000    \n",
       "15   18    65     13.2 58   5     15  14.44444    \n",
       "16   14   334     11.5 64   5     16  17.77778    \n",
       "17   34   307     12.0 66   5     17  18.88889    \n",
       "18    6    78     18.4 57   5     18  13.88889    \n",
       "19   30   322     11.5 68   5     19  20.00000    \n",
       "20   11    44      9.7 62   5     20  16.66667    \n",
       "21    1     8      9.7 59   5     21  15.00000    \n",
       "22   11   320     16.6 73   5     22  22.77778    \n",
       "23    4    25      9.7 61   5     23  16.11111    \n",
       "24   32    92     12.0 61   5     24  16.11111    \n",
       "25   NA    66     16.6 57   5     25  13.88889    \n",
       "26   NA   266     14.9 58   5     26  14.44444    \n",
       "27   NA    NA      8.0 57   5     27  13.88889    \n",
       "28   23    13     12.0 67   5     28  19.44444    \n",
       "29   45   252     14.9 81   5     29  27.22222    \n",
       "30  115   223      5.7 79   5     30  26.11111    \n",
       "... ...   ...     ...  ...  ...   ... ...         \n",
       "124 96    167      6.9 91   9      1  32.77778    \n",
       "125 78    197      5.1 92   9      2  33.33333    \n",
       "126 73    183      2.8 93   9      3  33.88889    \n",
       "127 91    189      4.6 93   9      4  33.88889    \n",
       "128 47     95      7.4 87   9      5  30.55556    \n",
       "129 32     92     15.5 84   9      6  28.88889    \n",
       "130 20    252     10.9 80   9      7  26.66667    \n",
       "131 23    220     10.3 78   9      8  25.55556    \n",
       "132 21    230     10.9 75   9      9  23.88889    \n",
       "133 24    259      9.7 73   9     10  22.77778    \n",
       "134 44    236     14.9 81   9     11  27.22222    \n",
       "135 21    259     15.5 76   9     12  24.44444    \n",
       "136 28    238      6.3 77   9     13  25.00000    \n",
       "137  9     24     10.9 71   9     14  21.66667    \n",
       "138 13    112     11.5 71   9     15  21.66667    \n",
       "139 46    237      6.9 78   9     16  25.55556    \n",
       "140 18    224     13.8 67   9     17  19.44444    \n",
       "141 13     27     10.3 76   9     18  24.44444    \n",
       "142 24    238     10.3 68   9     19  20.00000    \n",
       "143 16    201      8.0 82   9     20  27.77778    \n",
       "144 13    238     12.6 64   9     21  17.77778    \n",
       "145 23     14      9.2 71   9     22  21.66667    \n",
       "146 36    139     10.3 81   9     23  27.22222    \n",
       "147  7     49     10.3 69   9     24  20.55556    \n",
       "148 14     20     16.6 63   9     25  17.22222    \n",
       "149 30    193      6.9 70   9     26  21.11111    \n",
       "150 NA    145     13.2 77   9     27  25.00000    \n",
       "151 14    191     14.3 75   9     28  23.88889    \n",
       "152 18    131      8.0 76   9     29  24.44444    \n",
       "153 20    223     11.5 68   9     30  20.00000    "
      ]
     },
     "metadata": {},
     "output_type": "display_data"
    }
   ],
   "source": [
    "# transforming dataframes (setting ozone to be negative values)\n",
    "transform(airquality, Ozone=-Ozone)\n",
    "\n",
    "# add column \"celsius \n",
    "transform(airquality, Temp.celcius=(Temp-32)/1.8)"
   ]
  },
  {
   "cell_type": "code",
   "execution_count": 89,
   "metadata": {},
   "outputs": [
    {
     "data": {
      "text/html": [
       "<table>\n",
       "<thead><tr><th></th><th scope=col>Population</th><th scope=col>Income</th><th scope=col>Illiteracy</th><th scope=col>Life Exp</th><th scope=col>Murder</th><th scope=col>HS Grad</th><th scope=col>Frost</th><th scope=col>Area</th></tr></thead>\n",
       "<tbody>\n",
       "\t<tr><th scope=row>Alabama</th><td> 3615 </td><td>3624  </td><td>2.1   </td><td>69.05 </td><td>15.1  </td><td>41.3  </td><td> 20   </td><td> 50708</td></tr>\n",
       "\t<tr><th scope=row>Alaska</th><td>  365 </td><td>6315  </td><td>1.5   </td><td>69.31 </td><td>11.3  </td><td>66.7  </td><td>152   </td><td>566432</td></tr>\n",
       "\t<tr><th scope=row>Arizona</th><td> 2212 </td><td>4530  </td><td>1.8   </td><td>70.55 </td><td> 7.8  </td><td>58.1  </td><td> 15   </td><td>113417</td></tr>\n",
       "\t<tr><th scope=row>Arkansas</th><td> 2110 </td><td>3378  </td><td>1.9   </td><td>70.66 </td><td>10.1  </td><td>39.9  </td><td> 65   </td><td> 51945</td></tr>\n",
       "\t<tr><th scope=row>California</th><td>21198 </td><td>5114  </td><td>1.1   </td><td>71.71 </td><td>10.3  </td><td>62.6  </td><td> 20   </td><td>156361</td></tr>\n",
       "</tbody>\n",
       "</table>\n"
      ],
      "text/latex": [
       "\\begin{tabular}{r|llllllll}\n",
       "  & Population & Income & Illiteracy & Life Exp & Murder & HS Grad & Frost & Area\\\\\n",
       "\\hline\n",
       "\tAlabama &  3615  & 3624   & 2.1    & 69.05  & 15.1   & 41.3   &  20    &  50708\\\\\n",
       "\tAlaska &   365  & 6315   & 1.5    & 69.31  & 11.3   & 66.7   & 152    & 566432\\\\\n",
       "\tArizona &  2212  & 4530   & 1.8    & 70.55  &  7.8   & 58.1   &  15    & 113417\\\\\n",
       "\tArkansas &  2110  & 3378   & 1.9    & 70.66  & 10.1   & 39.9   &  65    &  51945\\\\\n",
       "\tCalifornia & 21198  & 5114   & 1.1    & 71.71  & 10.3   & 62.6   &  20    & 156361\\\\\n",
       "\\end{tabular}\n"
      ],
      "text/markdown": [
       "\n",
       "| <!--/--> | Population | Income | Illiteracy | Life Exp | Murder | HS Grad | Frost | Area | \n",
       "|---|---|---|---|---|\n",
       "| Alabama |  3615  | 3624   | 2.1    | 69.05  | 15.1   | 41.3   |  20    |  50708 | \n",
       "| Alaska |   365  | 6315   | 1.5    | 69.31  | 11.3   | 66.7   | 152    | 566432 | \n",
       "| Arizona |  2212  | 4530   | 1.8    | 70.55  |  7.8   | 58.1   |  15    | 113417 | \n",
       "| Arkansas |  2110  | 3378   | 1.9    | 70.66  | 10.1   | 39.9   |  65    |  51945 | \n",
       "| California | 21198  | 5114   | 1.1    | 71.71  | 10.3   | 62.6   |  20    | 156361 | \n",
       "\n",
       "\n"
      ],
      "text/plain": [
       "           Population Income Illiteracy Life Exp Murder HS Grad Frost Area  \n",
       "Alabama     3615      3624   2.1        69.05    15.1   41.3     20    50708\n",
       "Alaska       365      6315   1.5        69.31    11.3   66.7    152   566432\n",
       "Arizona     2212      4530   1.8        70.55     7.8   58.1     15   113417\n",
       "Arkansas    2110      3378   1.9        70.66    10.1   39.9     65    51945\n",
       "California 21198      5114   1.1        71.71    10.3   62.6     20   156361"
      ]
     },
     "metadata": {},
     "output_type": "display_data"
    },
    {
     "data": {
      "text/html": [
       "<ol class=list-inline>\n",
       "\t<li>South</li>\n",
       "\t<li>West</li>\n",
       "\t<li>West</li>\n",
       "\t<li>South</li>\n",
       "\t<li>West</li>\n",
       "</ol>\n"
      ],
      "text/latex": [
       "\\begin{enumerate*}\n",
       "\\item South\n",
       "\\item West\n",
       "\\item West\n",
       "\\item South\n",
       "\\item West\n",
       "\\end{enumerate*}\n"
      ],
      "text/markdown": [
       "1. South\n",
       "2. West\n",
       "3. West\n",
       "4. South\n",
       "5. West\n",
       "\n",
       "\n"
      ],
      "text/plain": [
       "[1] South West  West  South West \n",
       "Levels: Northeast South North Central West"
      ]
     },
     "metadata": {},
     "output_type": "display_data"
    },
    {
     "data": {
      "text/html": [
       "<table>\n",
       "<thead><tr><th scope=col>Region</th><th scope=col>Population</th><th scope=col>Income</th><th scope=col>Illiteracy</th><th scope=col>Life Exp</th><th scope=col>Murder</th><th scope=col>HS Grad</th><th scope=col>Frost</th><th scope=col>Area</th></tr></thead>\n",
       "<tbody>\n",
       "\t<tr><td>Northeast    </td><td>5495.111     </td><td>4570.222     </td><td>1.000000     </td><td>71.26444     </td><td> 4.722222    </td><td>53.96667     </td><td>132.7778     </td><td> 18141.00    </td></tr>\n",
       "\t<tr><td>South        </td><td>4208.125     </td><td>4011.938     </td><td>1.737500     </td><td>69.70625     </td><td>10.581250    </td><td>44.34375     </td><td> 64.6250     </td><td> 54605.12    </td></tr>\n",
       "\t<tr><td>North Central</td><td>4803.000     </td><td>4611.083     </td><td>0.700000     </td><td>71.76667     </td><td> 5.275000    </td><td>54.51667     </td><td>138.8333     </td><td> 62652.00    </td></tr>\n",
       "\t<tr><td>West         </td><td>2915.308     </td><td>4702.615     </td><td>1.023077     </td><td>71.23462     </td><td> 7.215385    </td><td>62.00000     </td><td>102.1538     </td><td>134463.00    </td></tr>\n",
       "</tbody>\n",
       "</table>\n"
      ],
      "text/latex": [
       "\\begin{tabular}{r|lllllllll}\n",
       " Region & Population & Income & Illiteracy & Life Exp & Murder & HS Grad & Frost & Area\\\\\n",
       "\\hline\n",
       "\t Northeast     & 5495.111      & 4570.222      & 1.000000      & 71.26444      &  4.722222     & 53.96667      & 132.7778      &  18141.00    \\\\\n",
       "\t South         & 4208.125      & 4011.938      & 1.737500      & 69.70625      & 10.581250     & 44.34375      &  64.6250      &  54605.12    \\\\\n",
       "\t North Central & 4803.000      & 4611.083      & 0.700000      & 71.76667      &  5.275000     & 54.51667      & 138.8333      &  62652.00    \\\\\n",
       "\t West          & 2915.308      & 4702.615      & 1.023077      & 71.23462      &  7.215385     & 62.00000      & 102.1538      & 134463.00    \\\\\n",
       "\\end{tabular}\n"
      ],
      "text/markdown": [
       "\n",
       "Region | Population | Income | Illiteracy | Life Exp | Murder | HS Grad | Frost | Area | \n",
       "|---|---|---|---|\n",
       "| Northeast     | 5495.111      | 4570.222      | 1.000000      | 71.26444      |  4.722222     | 53.96667      | 132.7778      |  18141.00     | \n",
       "| South         | 4208.125      | 4011.938      | 1.737500      | 69.70625      | 10.581250     | 44.34375      |  64.6250      |  54605.12     | \n",
       "| North Central | 4803.000      | 4611.083      | 0.700000      | 71.76667      |  5.275000     | 54.51667      | 138.8333      |  62652.00     | \n",
       "| West          | 2915.308      | 4702.615      | 1.023077      | 71.23462      |  7.215385     | 62.00000      | 102.1538      | 134463.00     | \n",
       "\n",
       "\n"
      ],
      "text/plain": [
       "  Region        Population Income   Illiteracy Life Exp Murder    HS Grad \n",
       "1 Northeast     5495.111   4570.222 1.000000   71.26444  4.722222 53.96667\n",
       "2 South         4208.125   4011.938 1.737500   69.70625 10.581250 44.34375\n",
       "3 North Central 4803.000   4611.083 0.700000   71.76667  5.275000 54.51667\n",
       "4 West          2915.308   4702.615 1.023077   71.23462  7.215385 62.00000\n",
       "  Frost    Area     \n",
       "1 132.7778  18141.00\n",
       "2  64.6250  54605.12\n",
       "3 138.8333  62652.00\n",
       "4 102.1538 134463.00"
      ]
     },
     "metadata": {},
     "output_type": "display_data"
    }
   ],
   "source": [
    "head(state.x77, 5)\n",
    "head(state.region, 5)\n",
    "aggregate(state.x77, list(Region = state.region), mean)"
   ]
  },
  {
   "cell_type": "markdown",
   "metadata": {
    "collapsed": true
   },
   "source": [
    "# lecture 3"
   ]
  },
  {
   "cell_type": "code",
   "execution_count": 3,
   "metadata": {},
   "outputs": [
    {
     "data": {
      "text/html": [
       "<ol class=list-inline>\n",
       "\t<li>2.6356464804031</li>\n",
       "\t<li>4.59297970035412</li>\n",
       "\t<li>0.264358298968191</li>\n",
       "</ol>\n"
      ],
      "text/latex": [
       "\\begin{enumerate*}\n",
       "\\item 2.6356464804031\n",
       "\\item 4.59297970035412\n",
       "\\item 0.264358298968191\n",
       "\\end{enumerate*}\n"
      ],
      "text/markdown": [
       "1. 2.6356464804031\n",
       "2. 4.59297970035412\n",
       "3. 0.264358298968191\n",
       "\n",
       "\n"
      ],
      "text/plain": [
       "[1] 2.6356465 4.5929797 0.2643583"
      ]
     },
     "metadata": {},
     "output_type": "display_data"
    }
   ],
   "source": [
    "# example of function (log odds ratio)\n",
    "logit = function(x){\n",
    "    return(log(x/(1-x)))\n",
    "}\n",
    "logit(runif(3,0,1))"
   ]
  },
  {
   "cell_type": "code",
   "execution_count": 4,
   "metadata": {},
   "outputs": [
    {
     "data": {
      "text/html": [
       "<table>\n",
       "<tbody>\n",
       "\t<tr><td>5.477226</td></tr>\n",
       "</tbody>\n",
       "</table>\n"
      ],
      "text/latex": [
       "\\begin{tabular}{l}\n",
       "\t 5.477226\\\\\n",
       "\\end{tabular}\n"
      ],
      "text/markdown": [
       "\n",
       "| 5.477226 | \n",
       "\n",
       "\n"
      ],
      "text/plain": [
       "     [,1]    \n",
       "[1,] 5.477226"
      ]
     },
     "metadata": {},
     "output_type": "display_data"
    }
   ],
   "source": [
    "# example of a one-line function\n",
    "norm = function(x) sqrt(x%*%x)\n",
    "norm(1:4)"
   ]
  },
  {
   "cell_type": "code",
   "execution_count": 8,
   "metadata": {},
   "outputs": [
    {
     "data": {
      "text/html": [
       "4"
      ],
      "text/latex": [
       "4"
      ],
      "text/markdown": [
       "4"
      ],
      "text/plain": [
       "[1] 4"
      ]
     },
     "metadata": {},
     "output_type": "display_data"
    },
    {
     "data": {
      "text/html": [
       "8"
      ],
      "text/latex": [
       "8"
      ],
      "text/markdown": [
       "8"
      ],
      "text/plain": [
       "[1] 8"
      ]
     },
     "metadata": {},
     "output_type": "display_data"
    },
    {
     "data": {
      "text/html": [
       "10"
      ],
      "text/latex": [
       "10"
      ],
      "text/markdown": [
       "10"
      ],
      "text/plain": [
       "[1] 10"
      ]
     },
     "metadata": {},
     "output_type": "display_data"
    }
   ],
   "source": [
    "# positional matching (x) and matching by name (a and b)\n",
    "f = function(x, a=1, b=0) a*x^2+b\n",
    "f(2)\n",
    "f(2,2)\n",
    "f(2,2,2)"
   ]
  },
  {
   "cell_type": "code",
   "execution_count": 10,
   "metadata": {},
   "outputs": [
    {
     "data": {
      "text/html": [
       "1.2"
      ],
      "text/latex": [
       "1.2"
      ],
      "text/markdown": [
       "1.2"
      ],
      "text/plain": [
       "[1] 1.2"
      ]
     },
     "metadata": {},
     "output_type": "display_data"
    },
    {
     "data": {
      "text/html": [
       "1"
      ],
      "text/latex": [
       "1"
      ],
      "text/markdown": [
       "1"
      ],
      "text/plain": [
       "[1] 1"
      ]
     },
     "metadata": {},
     "output_type": "display_data"
    }
   ],
   "source": [
    "#function chaining\n",
    "x = c(1,2,-1,4,0)\n",
    "summarizex = function(x, ff){\n",
    "    z = ff(x)\n",
    "    return(z)}\n",
    "summarizex(x, mean)\n",
    "summarizex(x, median)"
   ]
  },
  {
   "cell_type": "code",
   "execution_count": 12,
   "metadata": {},
   "outputs": [
    {
     "data": {
      "text/html": [
       "3.5"
      ],
      "text/latex": [
       "3.5"
      ],
      "text/markdown": [
       "3.5"
      ],
      "text/plain": [
       "[1] 3.5"
      ]
     },
     "metadata": {},
     "output_type": "display_data"
    }
   ],
   "source": [
    "#lexical scoping means it will look beyond function scope (environment) to other scopes\n",
    "b = 4  # this is where the function finds b\n",
    "f = function(x,y){\n",
    "    return (x+y/b)  # can't find b here, so will search elsewhere\n",
    "}\n",
    "f(3,2)"
   ]
  },
  {
   "cell_type": "code",
   "execution_count": 14,
   "metadata": {},
   "outputs": [
    {
     "data": {
      "text/html": [
       "<pre class=language-r><code>function (..., sep = \" \", collapse = NULL) \n",
       "NULL</code></pre>"
      ],
      "text/latex": [
       "\\begin{minted}{r}\n",
       "function (..., sep = \" \", collapse = NULL) \n",
       "NULL\n",
       "\\end{minted}"
      ],
      "text/markdown": [
       "```r\n",
       "function (..., sep = \" \", collapse = NULL) \n",
       "NULL\n",
       "```"
      ],
      "text/plain": [
       "function (..., sep = \" \", collapse = NULL) \n",
       "NULL"
      ]
     },
     "metadata": {},
     "output_type": "display_data"
    }
   ],
   "source": [
    "#... is like *kwargs argument matching\n",
    "args(paste)"
   ]
  },
  {
   "cell_type": "code",
   "execution_count": 16,
   "metadata": {
    "collapsed": true
   },
   "outputs": [],
   "source": [
    "# import a script (of functions) or run a script\n",
    "?source"
   ]
  },
  {
   "cell_type": "code",
   "execution_count": 17,
   "metadata": {},
   "outputs": [
    {
     "name": "stdout",
     "output_type": "stream",
     "text": [
      "[1] 2\n",
      "[1] 4\n",
      "[1] 6\n"
     ]
    }
   ],
   "source": [
    "# basic for loop\n",
    "for (i in 1:3){\n",
    "    print(2*i)\n",
    "}"
   ]
  },
  {
   "cell_type": "code",
   "execution_count": 20,
   "metadata": {},
   "outputs": [
    {
     "name": "stdout",
     "output_type": "stream",
     "text": [
      "[1] \"CA\"\n",
      "[1] \"NE\"\n",
      "[1] \"OR\"\n",
      "[1] \"1\"\n"
     ]
    }
   ],
   "source": [
    "# loops can handle mixed types\n",
    "countries = c('CA','NE','OR')\n",
    "for (i in countries){\n",
    "    print(i)\n",
    "}"
   ]
  },
  {
   "cell_type": "code",
   "execution_count": 23,
   "metadata": {},
   "outputs": [
    {
     "name": "stdout",
     "output_type": "stream",
     "text": [
      "[1] 1\n",
      "[1] \"loop of len 0:\"\n",
      "[1] 1\n",
      "[1] 0\n"
     ]
    }
   ],
   "source": [
    "# loops HATE iterables of len 0\n",
    "n=1\n",
    "for (i in 1:n){\n",
    "    print(i)\n",
    "}\n",
    "print('loop of len 0:')\n",
    "n=0\n",
    "for (i in 1:n){\n",
    "    print(i)\n",
    "}"
   ]
  },
  {
   "cell_type": "code",
   "execution_count": 3,
   "metadata": {},
   "outputs": [
    {
     "name": "stdout",
     "output_type": "stream",
     "text": [
      "[1] 2\n",
      "[1] 5\n",
      "[1] 26\n"
     ]
    }
   ],
   "source": [
    "# while loops\n",
    "x =1\n",
    "while(x<10){\n",
    "    x = x^2 + 1\n",
    "    print(x)\n",
    "}"
   ]
  },
  {
   "cell_type": "code",
   "execution_count": 4,
   "metadata": {
    "collapsed": true
   },
   "outputs": [],
   "source": [
    "# break exits loop immediately\n",
    "# next skips remaining iterations of the loop"
   ]
  },
  {
   "cell_type": "code",
   "execution_count": null,
   "metadata": {
    "collapsed": true
   },
   "outputs": [],
   "source": [
    "x = numeric(0)\n",
    "for(i in 1:10){\n",
    "    x[i] = i} #Bad (slow)!\n"
   ]
  },
  {
   "cell_type": "code",
   "execution_count": null,
   "metadata": {
    "collapsed": true
   },
   "outputs": [],
   "source": [
    "x = numeric(0)\n",
    "for(i in 1:10){\n",
    "    x = c(x,i)} #Even worse(slower)!\n"
   ]
  },
  {
   "cell_type": "code",
   "execution_count": null,
   "metadata": {
    "collapsed": true
   },
   "outputs": [],
   "source": [
    "x = numeric(10)  # pre allocate memory\n",
    "    for(i in 1:10){\n",
    "x[i] = i} #Better!  "
   ]
  },
  {
   "cell_type": "code",
   "execution_count": null,
   "metadata": {
    "collapsed": true
   },
   "outputs": [],
   "source": [
    "x = rexp(1000000,rate=1)\n",
    "logown = function(x){\n",
    "    z = rep(0, length(x))\n",
    "    for(i in 1:length(x)){\n",
    "        z[i] = log(x[i])}\n",
    "    return(z)}"
   ]
  },
  {
   "cell_type": "code",
   "execution_count": 6,
   "metadata": {},
   "outputs": [
    {
     "data": {
      "text/html": [
       "<ol class=list-inline>\n",
       "\t<li>-0.0139005305195344</li>\n",
       "\t<li>-0.00181271495890216</li>\n",
       "\t<li>0.00419199364903644</li>\n",
       "\t<li>-0.0139005305195344</li>\n",
       "\t<li>-0.00181271495890216</li>\n",
       "\t<li>0.00419199364903644</li>\n",
       "</ol>\n"
      ],
      "text/latex": [
       "\\begin{enumerate*}\n",
       "\\item -0.0139005305195344\n",
       "\\item -0.00181271495890216\n",
       "\\item 0.00419199364903644\n",
       "\\item -0.0139005305195344\n",
       "\\item -0.00181271495890216\n",
       "\\item 0.00419199364903644\n",
       "\\end{enumerate*}\n"
      ],
      "text/markdown": [
       "1. -0.0139005305195344\n",
       "2. -0.00181271495890216\n",
       "3. 0.00419199364903644\n",
       "4. -0.0139005305195344\n",
       "5. -0.00181271495890216\n",
       "6. 0.00419199364903644\n",
       "\n",
       "\n"
      ],
      "text/plain": [
       "[1] -0.013900531 -0.001812715  0.004191994 -0.013900531 -0.001812715\n",
       "[6]  0.004191994"
      ]
     },
     "metadata": {},
     "output_type": "display_data"
    },
    {
     "data": {
      "text/html": [
       "<ol class=list-inline>\n",
       "\t<li>-0.0139005305195344</li>\n",
       "\t<li>-0.00181271495890216</li>\n",
       "\t<li>0.00419199364903644</li>\n",
       "\t<li>-0.0139005305195344</li>\n",
       "\t<li>-0.00181271495890216</li>\n",
       "\t<li>0.00419199364903644</li>\n",
       "</ol>\n"
      ],
      "text/latex": [
       "\\begin{enumerate*}\n",
       "\\item -0.0139005305195344\n",
       "\\item -0.00181271495890216\n",
       "\\item 0.00419199364903644\n",
       "\\item -0.0139005305195344\n",
       "\\item -0.00181271495890216\n",
       "\\item 0.00419199364903644\n",
       "\\end{enumerate*}\n"
      ],
      "text/markdown": [
       "1. -0.0139005305195344\n",
       "2. -0.00181271495890216\n",
       "3. 0.00419199364903644\n",
       "4. -0.0139005305195344\n",
       "5. -0.00181271495890216\n",
       "6. 0.00419199364903644\n",
       "\n",
       "\n"
      ],
      "text/plain": [
       "[1] -0.013900531 -0.001812715  0.004191994 -0.013900531 -0.001812715\n",
       "[6]  0.004191994"
      ]
     },
     "metadata": {},
     "output_type": "display_data"
    }
   ],
   "source": [
    "x = matrix(rnorm(6000), nrow=10000, ncol=6)\n",
    "apply(x, 2, mean) \n",
    "#Easy to read: \n",
    "#     x is matrix, \n",
    "#     2 is iterate over each column (1 would iterate over each row, \n",
    "#     mean is operation to apply)\n",
    "#     any other parameter is ... which feeds the arguments for the operation to apply \n",
    "\n",
    "z = numeric(6) #”C style”, more convoluted\n",
    "for(i in 1:6){\n",
    "    z[i] = mean(x[,i])}\n",
    "z"
   ]
  },
  {
   "cell_type": "code",
   "execution_count": 7,
   "metadata": {},
   "outputs": [
    {
     "data": {
      "text/html": [
       "<table>\n",
       "<tbody>\n",
       "\t<tr><th scope=row>2.5%</th><td>-2.010342</td><td>-2.070761</td><td>-1.794531</td></tr>\n",
       "\t<tr><th scope=row>97.5%</th><td> 1.899236</td><td> 1.917792</td><td> 1.949841</td></tr>\n",
       "</tbody>\n",
       "</table>\n"
      ],
      "text/latex": [
       "\\begin{tabular}{r|lll}\n",
       "\t2.5\\% & -2.010342 & -2.070761 & -1.794531\\\\\n",
       "\t97.5\\% &  1.899236 &  1.917792 &  1.949841\\\\\n",
       "\\end{tabular}\n"
      ],
      "text/markdown": [
       "\n",
       "| 2.5% | -2.010342 | -2.070761 | -1.794531 | \n",
       "| 97.5% |  1.899236 |  1.917792 |  1.949841 | \n",
       "\n",
       "\n"
      ],
      "text/plain": [
       "      [,1]      [,2]      [,3]     \n",
       "2.5%  -2.010342 -2.070761 -1.794531\n",
       "97.5%  1.899236  1.917792  1.949841"
      ]
     },
     "metadata": {},
     "output_type": "display_data"
    }
   ],
   "source": [
    "x = matrix(rnorm(6000), ncol=3)\n",
    "apply(x, 2, quantile, c(0.025,0.975)) # quantile is run once for each argument in c(0.025,0.975)"
   ]
  },
  {
   "cell_type": "code",
   "execution_count": 9,
   "metadata": {},
   "outputs": [
    {
     "data": {
      "text/html": [
       "<table>\n",
       "<tbody>\n",
       "\t<tr><td>0.50</td><td>0.50</td></tr>\n",
       "\t<tr><td>0.25</td><td>0.25</td></tr>\n",
       "</tbody>\n",
       "</table>\n"
      ],
      "text/latex": [
       "\\begin{tabular}{ll}\n",
       "\t 0.50 & 0.50\\\\\n",
       "\t 0.25 & 0.25\\\\\n",
       "\\end{tabular}\n"
      ],
      "text/markdown": [
       "\n",
       "| 0.50 | 0.50 | \n",
       "| 0.25 | 0.25 | \n",
       "\n",
       "\n"
      ],
      "text/plain": [
       "     [,1] [,2]\n",
       "[1,] 0.50 0.50\n",
       "[2,] 0.25 0.25"
      ]
     },
     "metadata": {},
     "output_type": "display_data"
    }
   ],
   "source": [
    "# standardization\n",
    "S = matrix(1,2,2)\n",
    "x = c(2,4)  # applies 2 and 4 down first columns and recycles 2 and 4 again for the second column\n",
    "S/x"
   ]
  },
  {
   "cell_type": "code",
   "execution_count": 11,
   "metadata": {},
   "outputs": [
    {
     "ename": "ERROR",
     "evalue": "Error in f(x, y) = function(x, y) x^2 + y^2: could not find function \"f<-\"\n",
     "output_type": "error",
     "traceback": [
      "Error in f(x, y) = function(x, y) x^2 + y^2: could not find function \"f<-\"\nTraceback:\n"
     ]
    }
   ],
   "source": [
    "# only computes diagonal, would neccesitate a nest for loop\n",
    "x = seq(-2,2,length=50)\n",
    "y = seq(-2,2,length=50)\n",
    "f = function(x,y) x^2 + y^2\n",
    "f(x,y) = function(x,y) x^2 + y^2\n",
    "\n",
    "# but this is vectorized below\n",
    "z = expand.grid(x,y)\n",
    "f(z[,1], z[,2])"
   ]
  },
  {
   "cell_type": "code",
   "execution_count": 13,
   "metadata": {},
   "outputs": [
    {
     "ename": "ERROR",
     "evalue": "Error in parse(text = x, srcfile = src): <text>:5:1: unexpected 'else'\n4:     print('less than or equal to 10')}\n5: else\n   ^\n",
     "output_type": "error",
     "traceback": [
      "Error in parse(text = x, srcfile = src): <text>:5:1: unexpected 'else'\n4:     print('less than or equal to 10')}\n5: else\n   ^\nTraceback:\n"
     ]
    }
   ],
   "source": [
    "# conditionals\n",
    "x =7\n",
    "if (x<=10) {\n",
    "    print('less than or equal to 10')}\n",
    "else {\n",
    "    print('greater than 10')\n",
    "}\n"
   ]
  },
  {
   "cell_type": "code",
   "execution_count": null,
   "metadata": {
    "collapsed": true
   },
   "outputs": [],
   "source": [
    "# if or else is not vectorized (will only do first element of vector)\n"
   ]
  },
  {
   "cell_type": "code",
   "execution_count": 18,
   "metadata": {},
   "outputs": [
    {
     "data": {
      "text/plain": [
       "2 with absolute error < 2.2e-14"
      ]
     },
     "metadata": {},
     "output_type": "display_data"
    },
    {
     "data": {
      "text/html": [
       "<ol class=list-inline>\n",
       "\t<li>'value'</li>\n",
       "\t<li>'abs.error'</li>\n",
       "\t<li>'subdivisions'</li>\n",
       "\t<li>'message'</li>\n",
       "\t<li>'call'</li>\n",
       "</ol>\n"
      ],
      "text/latex": [
       "\\begin{enumerate*}\n",
       "\\item 'value'\n",
       "\\item 'abs.error'\n",
       "\\item 'subdivisions'\n",
       "\\item 'message'\n",
       "\\item 'call'\n",
       "\\end{enumerate*}\n"
      ],
      "text/markdown": [
       "1. 'value'\n",
       "2. 'abs.error'\n",
       "3. 'subdivisions'\n",
       "4. 'message'\n",
       "5. 'call'\n",
       "\n",
       "\n"
      ],
      "text/plain": [
       "[1] \"value\"        \"abs.error\"    \"subdivisions\" \"message\"      \"call\"        "
      ]
     },
     "metadata": {},
     "output_type": "display_data"
    },
    {
     "data": {
      "text/html": [
       "1"
      ],
      "text/latex": [
       "1"
      ],
      "text/markdown": [
       "1"
      ],
      "text/plain": [
       "[1] 1"
      ]
     },
     "metadata": {},
     "output_type": "display_data"
    },
    {
     "data": {
      "text/html": [
       "2"
      ],
      "text/latex": [
       "2"
      ],
      "text/markdown": [
       "2"
      ],
      "text/plain": [
       "[1] 2"
      ]
     },
     "metadata": {},
     "output_type": "display_data"
    },
    {
     "data": {
      "text/html": [
       "<ol class=list-inline>\n",
       "\t<li>'value'</li>\n",
       "\t<li>'abs.error'</li>\n",
       "\t<li>'subdivisions'</li>\n",
       "\t<li>'message'</li>\n",
       "\t<li>'call'</li>\n",
       "</ol>\n"
      ],
      "text/latex": [
       "\\begin{enumerate*}\n",
       "\\item 'value'\n",
       "\\item 'abs.error'\n",
       "\\item 'subdivisions'\n",
       "\\item 'message'\n",
       "\\item 'call'\n",
       "\\end{enumerate*}\n"
      ],
      "text/markdown": [
       "1. 'value'\n",
       "2. 'abs.error'\n",
       "3. 'subdivisions'\n",
       "4. 'message'\n",
       "5. 'call'\n",
       "\n",
       "\n"
      ],
      "text/plain": [
       "[1] \"value\"        \"abs.error\"    \"subdivisions\" \"message\"      \"call\"        "
      ]
     },
     "metadata": {},
     "output_type": "display_data"
    },
    {
     "data": {
      "text/html": [
       "1"
      ],
      "text/latex": [
       "1"
      ],
      "text/markdown": [
       "1"
      ],
      "text/plain": [
       "[1] 1"
      ]
     },
     "metadata": {},
     "output_type": "display_data"
    },
    {
     "data": {
      "text/html": [
       "9.33333333333333"
      ],
      "text/latex": [
       "9.33333333333333"
      ],
      "text/markdown": [
       "9.33333333333333"
      ],
      "text/plain": [
       "[1] 9.333333"
      ]
     },
     "metadata": {},
     "output_type": "display_data"
    }
   ],
   "source": [
    "# integration\n",
    "x = integrate(sin, 0, pi) # 0 and pi are limits of the integration\n",
    "x\n",
    "names(x)\n",
    "x$subdivisions\n",
    "x$value\n",
    "\n",
    "# or use it o\\in your own function\n",
    "f = function(x) x^2+1\n",
    "y = integrate(f, -2,2)\n",
    "names(y)\n",
    "y$subdivisions\n",
    "y$value"
   ]
  },
  {
   "cell_type": "code",
   "execution_count": 19,
   "metadata": {},
   "outputs": [
    {
     "data": {
      "text/plain": [
       "9.333333 with absolute error < 1e-13"
      ]
     },
     "metadata": {},
     "output_type": "display_data"
    }
   ],
   "source": [
    "f= function(x,b) x^2+b\n",
    "    integrate(f,-2,2,1)  # last argument, 1, is value of b"
   ]
  },
  {
   "cell_type": "code",
   "execution_count": null,
   "metadata": {
    "collapsed": true
   },
   "outputs": [],
   "source": [
    "# f = function(x) 2.0\n",
    "#     integrate"
   ]
  },
  {
   "cell_type": "code",
   "execution_count": null,
   "metadata": {
    "collapsed": true
   },
   "outputs": [],
   "source": [
    "# optimizations"
   ]
  },
  {
   "cell_type": "code",
   "execution_count": 7,
   "metadata": {},
   "outputs": [
    {
     "data": {
      "text/plain": [
       "                    \n",
       "                     crampons flipflops\n",
       "  so crowded!               3         3\n",
       "  where is everyone?       27        17"
      ]
     },
     "metadata": {},
     "output_type": "display_data"
    }
   ],
   "source": [
    "statedf <- data.frame(state.x77)\n",
    "statedf$pop_class <- ifelse(statedf$Population > 10000, \"so crowded!\", 'where is everyone?')\n",
    "statedf$frost_class <- ifelse(statedf$Frost > 100, \"crampons\", \"flipflops\")\n",
    "\n",
    "table(statedf[,9], statedf[,10])"
   ]
  },
  {
   "cell_type": "code",
   "execution_count": 9,
   "metadata": {},
   "outputs": [
    {
     "data": {
      "text/plain": [
       "                    \n",
       "                     crampons flipflops\n",
       "  so crowded!               3         3\n",
       "  where is everyone?       27        17"
      ]
     },
     "metadata": {},
     "output_type": "display_data"
    }
   ],
   "source": [
    "table(statedf[,'pop_class'], statedf[,'frost_class'])"
   ]
  },
  {
   "cell_type": "code",
   "execution_count": null,
   "metadata": {
    "collapsed": true
   },
   "outputs": [],
   "source": []
  }
 ],
 "metadata": {
  "kernelspec": {
   "display_name": "R",
   "language": "R",
   "name": "ir"
  },
  "language_info": {
   "codemirror_mode": "r",
   "file_extension": ".r",
   "mimetype": "text/x-r-source",
   "name": "R",
   "pygments_lexer": "r",
   "version": "3.4.1"
  }
 },
 "nbformat": 4,
 "nbformat_minor": 2
}
