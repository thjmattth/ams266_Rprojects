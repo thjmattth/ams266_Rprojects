{
 "cells": [
  {
   "cell_type": "markdown",
   "metadata": {},
   "source": [
    "Before you turn this problem set in, make sure everything runs as expected. First, **restart the kernel** (in the menubar, select Kernel$\\rightarrow$Restart) and then **run all cells** (in the menubar, select Cell$\\rightarrow$Run All). Note that in code sections, you must replace `stop(\"Not Implemented\")` with your code. Otherwise, you will have points automatically deducted in the grading process.\n",
    "\n",
    "**Please do not rename this file.**\n",
    "\n",
    "Make sure you fill in any place that says `YOUR CODE HERE` or \"YOUR ANSWER/EXPLANATION HERE\". In addition, please do not include your name on this assignment to ensure anonymity for the peer reviews."
   ]
  },
  {
   "cell_type": "markdown",
   "metadata": {},
   "source": [
    "---"
   ]
  },
  {
   "cell_type": "markdown",
   "metadata": {
    "deletable": false,
    "editable": false,
    "nbgrader": {
     "checksum": "55c36eaa04e120e8d09965c8c4ca190b",
     "grade": false,
     "grade_id": "cell-6fe4bae03467f236",
     "locked": true,
     "schema_version": 1,
     "solution": false
    }
   },
   "source": [
    "#### Note: Please post any questions that you have to the lesson 7 discussion board. This includes any questions about notation.\n",
    "\n",
    "# Problem 1\n",
    "\n",
    "### Weighted Averages\n",
    "\n",
    "This will require the `gapminder` data set, which was used in an earlier assignment (the `gapminder` package should, therefore, be installed on your computer). For more information about the data, load the `gapminder` package with `library(gapminder)`, and find the data set description with `?gapminder`.\n",
    "\n",
    "If one wants to examine some worldwide trend, it is often important that the data be **weighted** in order to obtain numbers that make sense. For example, if one wants to know the global human life expectancy, it makes sense that the nation-wide life expectancy in India or China should have more weight than that in, say, Luxembourg. In such a case, it is logical to weigh each country's contribution to the worldwide life expectancy by its population relative to the population of the planet at a certain time. For country $i$ at time $t$, the population weight of that country can be calculated as \n",
    "\n",
    "$$\\text{weight}_{i,t} = \\frac{\\text{pop}_{i,t}}{\\sum_{i = 1}^n \\text{pop}_{i,t}}$$\n",
    "\n",
    "If you're a little unsure about the notation here, $\\sum_{i = 1}^n \\text{pop}_{i,t}$ reads as \"the sum of all of the countries' populations at time $t$.\n",
    "\n",
    "Begin by correctly finding a weight for all of the countries using any method. As a hint, the `aggregate`, `merge`, and `transform` functions may be useful. Make a data frame called `pop_weight` that includes, at a minimum, all of the variables in the `gapminder` data frame and a variable called `pop_weight` that contains each country's population weight for all 12 different years that there are measurements. The `pop_weight` data frame should have 1704 rows."
   ]
  },
  {
   "cell_type": "code",
   "execution_count": 232,
   "metadata": {
    "deletable": false,
    "nbgrader": {
     "checksum": "d45db8a52fb1715e8ca009835af05a41",
     "grade": false,
     "grade_id": "cell-e003e120d6ef7c6b",
     "locked": false,
     "schema_version": 1,
     "solution": true
    }
   },
   "outputs": [],
   "source": [
    "library(\"gapminder\")\n",
    "data(\"gapminder\")\n",
    "\n",
    "df_g <- transform(gapminder, pop = as.numeric(pop))  # typecast pop as double, prevent integer overflow  \n",
    "df_g_yrsum <- aggregate(pop ~ year, data=df_g, sum)  # aggregate on year, sum pop\n",
    "colnames(df_g_yrsum)[2] <- \"popYearSum\"  # reset name of population total\n",
    "pop_weight <- merge(df_g, df_g_yrsum, 'year')  # merge on year to incorporate popYearSum\n",
    "pop_weight$pop_weight <- pop_weight$pop / pop_weight$popYearSum  # calculate weighted average of pop"
   ]
  },
  {
   "cell_type": "code",
   "execution_count": 233,
   "metadata": {},
   "outputs": [
    {
     "data": {
      "text/html": [
       "<table>\n",
       "<thead><tr><th scope=col>year</th><th scope=col>country</th><th scope=col>continent</th><th scope=col>lifeExp</th><th scope=col>pop</th><th scope=col>gdpPercap</th><th scope=col>popYearSum</th><th scope=col>pop_weight</th></tr></thead>\n",
       "<tbody>\n",
       "\t<tr><td>1952        </td><td>Afghanistan </td><td>Asia        </td><td>28.801      </td><td>8425333     </td><td>   779.4453 </td><td>2406957150  </td><td>3.500408e-03</td></tr>\n",
       "\t<tr><td>1952        </td><td>New Zealand </td><td>Oceania     </td><td>69.390      </td><td>1994794     </td><td> 10556.5757 </td><td>2406957150  </td><td>8.287617e-04</td></tr>\n",
       "\t<tr><td>1952        </td><td>Mauritius   </td><td>Africa      </td><td>50.986      </td><td> 516556     </td><td>  1967.9557 </td><td>2406957150  </td><td>2.146096e-04</td></tr>\n",
       "\t<tr><td>1952        </td><td>Kuwait      </td><td>Asia        </td><td>55.565      </td><td> 160000     </td><td>108382.3529 </td><td>2406957150  </td><td>6.647397e-05</td></tr>\n",
       "\t<tr><td>1952        </td><td>Iraq        </td><td>Asia        </td><td>45.320      </td><td>5441766     </td><td>  4129.7661 </td><td>2406957150  </td><td>2.260849e-03</td></tr>\n",
       "\t<tr><td>1952        </td><td>Taiwan      </td><td>Asia        </td><td>58.500      </td><td>8550362     </td><td>  1206.9479 </td><td>2406957150  </td><td>3.552353e-03</td></tr>\n",
       "</tbody>\n",
       "</table>\n"
      ],
      "text/latex": [
       "\\begin{tabular}{r|llllllll}\n",
       " year & country & continent & lifeExp & pop & gdpPercap & popYearSum & pop\\_weight\\\\\n",
       "\\hline\n",
       "\t 1952         & Afghanistan  & Asia         & 28.801       & 8425333      &    779.4453  & 2406957150   & 3.500408e-03\\\\\n",
       "\t 1952         & New Zealand  & Oceania      & 69.390       & 1994794      &  10556.5757  & 2406957150   & 8.287617e-04\\\\\n",
       "\t 1952         & Mauritius    & Africa       & 50.986       &  516556      &   1967.9557  & 2406957150   & 2.146096e-04\\\\\n",
       "\t 1952         & Kuwait       & Asia         & 55.565       &  160000      & 108382.3529  & 2406957150   & 6.647397e-05\\\\\n",
       "\t 1952         & Iraq         & Asia         & 45.320       & 5441766      &   4129.7661  & 2406957150   & 2.260849e-03\\\\\n",
       "\t 1952         & Taiwan       & Asia         & 58.500       & 8550362      &   1206.9479  & 2406957150   & 3.552353e-03\\\\\n",
       "\\end{tabular}\n"
      ],
      "text/markdown": [
       "\n",
       "year | country | continent | lifeExp | pop | gdpPercap | popYearSum | pop_weight | \n",
       "|---|---|---|---|---|---|\n",
       "| 1952         | Afghanistan  | Asia         | 28.801       | 8425333      |    779.4453  | 2406957150   | 3.500408e-03 | \n",
       "| 1952         | New Zealand  | Oceania      | 69.390       | 1994794      |  10556.5757  | 2406957150   | 8.287617e-04 | \n",
       "| 1952         | Mauritius    | Africa       | 50.986       |  516556      |   1967.9557  | 2406957150   | 2.146096e-04 | \n",
       "| 1952         | Kuwait       | Asia         | 55.565       |  160000      | 108382.3529  | 2406957150   | 6.647397e-05 | \n",
       "| 1952         | Iraq         | Asia         | 45.320       | 5441766      |   4129.7661  | 2406957150   | 2.260849e-03 | \n",
       "| 1952         | Taiwan       | Asia         | 58.500       | 8550362      |   1206.9479  | 2406957150   | 3.552353e-03 | \n",
       "\n",
       "\n"
      ],
      "text/plain": [
       "  year country     continent lifeExp pop     gdpPercap   popYearSum\n",
       "1 1952 Afghanistan Asia      28.801  8425333    779.4453 2406957150\n",
       "2 1952 New Zealand Oceania   69.390  1994794  10556.5757 2406957150\n",
       "3 1952 Mauritius   Africa    50.986   516556   1967.9557 2406957150\n",
       "4 1952 Kuwait      Asia      55.565   160000 108382.3529 2406957150\n",
       "5 1952 Iraq        Asia      45.320  5441766   4129.7661 2406957150\n",
       "6 1952 Taiwan      Asia      58.500  8550362   1206.9479 2406957150\n",
       "  pop_weight  \n",
       "1 3.500408e-03\n",
       "2 8.287617e-04\n",
       "3 2.146096e-04\n",
       "4 6.647397e-05\n",
       "5 2.260849e-03\n",
       "6 3.552353e-03"
      ]
     },
     "metadata": {},
     "output_type": "display_data"
    }
   ],
   "source": [
    "head(pop_weight)"
   ]
  },
  {
   "cell_type": "markdown",
   "metadata": {
    "deletable": false,
    "editable": false,
    "nbgrader": {
     "checksum": "d8ec38c62184dcd108a1b0c9b1c86757",
     "grade": false,
     "grade_id": "cell-a3cbe99227894140",
     "locked": true,
     "schema_version": 1,
     "solution": false
    }
   },
   "source": [
    "Check to see that the calculation was done correctly."
   ]
  },
  {
   "cell_type": "code",
   "execution_count": 234,
   "metadata": {
    "collapsed": true,
    "deletable": false,
    "editable": false,
    "nbgrader": {
     "checksum": "51e4307a337be51d36a6a0a84f2e5f1e",
     "grade": true,
     "grade_id": "cell-98f5fe1822db3728",
     "locked": true,
     "points": 1,
     "schema_version": 1,
     "solution": false
    }
   },
   "outputs": [],
   "source": [
    "stopifnot(c(names(gapminder),\"pop_weight\") %in% names(pop_weight),\n",
    "         round(summary(round(pop_weight$pop_weight,digits = 5)),digits = 5) == structure(c(2e-05, 0.00067, 0.00167, 0.00704, 0.00418, 0.24099\n",
    "), .Names = c(\"Min.\", \"1st Qu.\", \"Median\", \"Mean\", \"3rd Qu.\", \n",
    "\"Max.\"), class = c(\"summaryDefault\", \"table\")))"
   ]
  },
  {
   "cell_type": "markdown",
   "metadata": {
    "deletable": false,
    "editable": false,
    "nbgrader": {
     "checksum": "c1178eb78ac9aad4e384c1c0c6c4b670",
     "grade": false,
     "grade_id": "cell-7f70b7118f6042f6",
     "locked": true,
     "schema_version": 1,
     "solution": false
    }
   },
   "source": [
    "Now find the weighted average life expectancy for each country for each of the years in the `gapminder` data set. The `aggregate` and `transform` functions may be helpful here. Create a data frame called `weighted_life` which contains two variables, `year` and `weighted_lifeExp`. The weighted average can be found as\n",
    "\n",
    "$$\\text{weighted average}_t = \\sum_{i = 1}^n \\text{weight}_{i,t} \\times \\text{lifeExp}_{i,t}$$\n",
    "\n",
    "Similarly, create another data frame called `unweighted_life` which contains the variables `year` and `unweighted_lifeExp`. Each observation in these data sets should correspond to the global average life expectancy in a given year. Both data frames should have 12 observations. Check to make sure the averages were found correctly. "
   ]
  },
  {
   "cell_type": "code",
   "execution_count": 235,
   "metadata": {
    "deletable": false,
    "nbgrader": {
     "checksum": "1792ecb79c2ff5440518b3fa9365ac6f",
     "grade": false,
     "grade_id": "cell-9e1757edd88d1efd",
     "locked": false,
     "schema_version": 1,
     "solution": true
    }
   },
   "outputs": [],
   "source": [
    "# weighted mean life expentancy\n",
    "pop_weight$weighted_lifeExp <- pop_weight$pop_weight * pop_weight$lifeExp\n",
    "weighted_life <- aggregate(weighted_lifeExp ~ year, data=pop_weight, sum)\n",
    "\n",
    "# plain ol mean life expentancy\n",
    "unweighted_life <- aggregate(lifeExp ~ year, data=pop_weight, mean)\n",
    "colnames(unweighted_life)[2] <- 'unweighted_lifeExp'"
   ]
  },
  {
   "cell_type": "markdown",
   "metadata": {},
   "source": [
    "Now check to make sure you calculated the averages correctly."
   ]
  },
  {
   "cell_type": "code",
   "execution_count": 236,
   "metadata": {
    "deletable": false,
    "editable": false,
    "nbgrader": {
     "checksum": "e568eb0a553c3d715c518c9316df617d",
     "grade": true,
     "grade_id": "cell-88b8bc8d981b1274",
     "locked": true,
     "points": 2,
     "schema_version": 1,
     "solution": false
    }
   },
   "outputs": [],
   "source": [
    "stopifnot(round(summary(round(weighted_life$weighted_lifeExp,digits=5)),digits = 5) == structure(c(48.94424, 55.81933, 62.05951, 60.63986, 65.94676, \n",
    "68.91909), .Names = c(\"Min.\", \"1st Qu.\", \"Median\", \"Mean\", \"3rd Qu.\", \n",
    "\"Max.\"), class = c(\"summaryDefault\", \"table\")),\n",
    "         round(summary(round(unweighted_life$unweighted_lifeExp,digits=5)),digits = 5) == structure(c(49.05762, 55.16103, 60.55168, 59.47444, 64.37392, \n",
    "67.00742), .Names = c(\"Min.\", \"1st Qu.\", \"Median\", \"Mean\", \"3rd Qu.\", \n",
    "\"Max.\"), class = c(\"summaryDefault\", \"table\")))"
   ]
  },
  {
   "cell_type": "markdown",
   "metadata": {
    "deletable": false,
    "editable": false,
    "nbgrader": {
     "checksum": "8c1d9d03c61481f5ad5bd539e3a52f85",
     "grade": false,
     "grade_id": "cell-729ef78a7373daec",
     "locked": true,
     "schema_version": 1,
     "solution": false
    }
   },
   "source": [
    "Next, create a plot that compares the two averages over the years. Remember to include all of the necessary information on the graph, as discussed in lesson 6. Your plot must be able to run on any computer without any extra packages added (other than the `gapminder` package for the data). "
   ]
  },
  {
   "cell_type": "code",
   "execution_count": 237,
   "metadata": {
    "deletable": false,
    "nbgrader": {
     "checksum": "84bc581a2bda066c5d0f33f3c453713e",
     "grade": true,
     "grade_id": "cell-79e5d3841f173c85",
     "locked": false,
     "points": 4,
     "schema_version": 1,
     "solution": true
    }
   },
   "outputs": [
    {
     "data": {},
     "metadata": {},
     "output_type": "display_data"
    },
    {
     "data": {
      "image/png": "[encoded data removed]",
      "text/plain": [
       "plot without title"
      ]
     },
     "metadata": {},
     "output_type": "display_data"
    }
   ],
   "source": [
    "library(ggplot2)\n",
    "weighted_life$Method <- 'weighted'\n",
    "colnames(weighted_life)[2] <- 'lifeExp'\n",
    "unweighted_life$Method <- 'unweighted'\n",
    "colnames(unweighted_life)[2] <- 'lifeExp'\n",
    "\n",
    "options(repr.plot.width = 7, repr.plot.height = 5)\n",
    "\n",
    "ggplot(rbind(weighted_life, unweighted_life), aes(x=year, y=lifeExp)) +\n",
    "        geom_point(aes(color = Method)) +\n",
    "        geom_line(aes(group = year)) +\n",
    "        labs(title = \"Two Methods of Calculating Average Life Expectancy\",\n",
    "             subtitle = \"Unweighted Averages Tend to Underrepresent Life Expectancy\\n\",\n",
    "             y = \"Average Life Expectancy (years)\\n\",\n",
    "           caption = \"Source: Jennifer Bryan. gapminder. https://github.com/jennybc/gapminder\") "
   ]
  },
  {
   "cell_type": "markdown",
   "metadata": {
    "deletable": false,
    "editable": false,
    "nbgrader": {
     "checksum": "a5bd3d78edcfe8e31899ede82ad6e02e",
     "grade": false,
     "grade_id": "cell-031174920a5c2077",
     "locked": true,
     "schema_version": 1,
     "solution": false
    }
   },
   "source": [
    "Note that there is an observable difference in the two averaging methods. Why does the weighting have the effect that it does? This is a rhetorical question, but it's very important to think about this type of comparison in statistical applications! "
   ]
  },
  {
   "cell_type": "markdown",
   "metadata": {
    "deletable": false,
    "editable": false,
    "nbgrader": {
     "checksum": "71fa3abc0cb7664c9356d8b93020b816",
     "grade": false,
     "grade_id": "cell-5b7d1d084c0b655d",
     "locked": true,
     "schema_version": 1,
     "solution": false
    }
   },
   "source": [
    "---\n",
    "\n",
    "# Problem 2\n",
    "\n",
    "Continuing the analysis of the `gapminder` data from problem 1, find the population-weighted average life expectancy for each continent. First, find the continent-level weights. That is, for country $i$ on continent $j$ at time $t$, find\n",
    "\n",
    "$$ \\text{weight}_{i,t} = \\frac{\\text{pop}_{i,t}}{\\sum_{i \\text{ in } j} \\text{pop}_{i,t}} $$\n",
    "\n",
    "Note that this can be done in a couple of different ways, though the easiest option without loading extra packages might be to use `aggregate`, `merge`, and `transform` again. Create a single data frame called `continent_weights` that includes all of the variables in the `gapminder` data frame, plus the variable `continent_weight`."
   ]
  },
  {
   "cell_type": "code",
   "execution_count": 238,
   "metadata": {
    "deletable": false,
    "nbgrader": {
     "checksum": "007462a1a9173743c6be1fed930066bb",
     "grade": false,
     "grade_id": "cell-dd919e671bb69fc3",
     "locked": false,
     "schema_version": 1,
     "solution": true
    }
   },
   "outputs": [],
   "source": [
    "library(\"gapminder\")\n",
    "data(\"gapminder\")\n",
    "\n",
    "\n",
    "df_g <- transform(gapminder, pop = as.numeric(pop))  # typecast pop as double, prevent integer overflow  \n",
    "df_g_yrsum <- aggregate(pop ~ year + continent, data=df_g, sum)  # aggregate on year, sum pop\n",
    "colnames(df_g_yrsum)[3] <- \"popYearContiSum\"  # reset name of population total\n",
    "continent_weights <- merge(df_g, df_g_yrsum)  # merge on year to incorporate popYearSum\n",
    "continent_weights$continent_weight <- continent_weights$pop / continent_weights$popYearContiSum  # calculate weighted average of pop"
   ]
  },
  {
   "cell_type": "markdown",
   "metadata": {
    "deletable": false,
    "editable": false,
    "nbgrader": {
     "checksum": "de124f1cf2398d25b2a1643e7c8adb4f",
     "grade": false,
     "grade_id": "cell-07fd4b3924c47baf",
     "locked": true,
     "schema_version": 1,
     "solution": false
    }
   },
   "source": [
    "Now check to make sure that the weights were calculated correctly."
   ]
  },
  {
   "cell_type": "code",
   "execution_count": 239,
   "metadata": {
    "deletable": false,
    "editable": false,
    "nbgrader": {
     "checksum": "748698a6e8b81947b68251b2b13352f9",
     "grade": true,
     "grade_id": "cell-a0a3b5343d58d828",
     "locked": true,
     "points": 1,
     "schema_version": 1,
     "solution": false
    }
   },
   "outputs": [],
   "source": [
    "stopifnot(round(summary(round(continent_weights$continent_weight,digits=5)),digits = 5) == structure(c(9e-05, 0.00393, 0.01054, 0.03521, 0.02521, 0.83567\n",
    "), .Names = c(\"Min.\", \"1st Qu.\", \"Median\", \"Mean\", \"3rd Qu.\", \n",
    "\"Max.\"), class = c(\"summaryDefault\", \"table\")))"
   ]
  },
  {
   "cell_type": "markdown",
   "metadata": {
    "deletable": false,
    "editable": false,
    "nbgrader": {
     "checksum": "674ee662b2cfb7a53d2a72c3dff0988c",
     "grade": false,
     "grade_id": "cell-01664a1a8fa1651b",
     "locked": true,
     "schema_version": 1,
     "solution": false
    }
   },
   "source": [
    "Calculate the population-weighted averages for each continent. Create a data frame named `continent_weighted` with three variables: `year`, `continent`, and `avg_life` where each observation corresponds to the population-weighted average life expectancy for a year and continent. This data frame should have 60 observations."
   ]
  },
  {
   "cell_type": "code",
   "execution_count": 240,
   "metadata": {
    "deletable": false,
    "nbgrader": {
     "checksum": "63f86a449b6f5e9cc05a8443ff5d040a",
     "grade": false,
     "grade_id": "cell-4f47046b85fef3d8",
     "locked": false,
     "schema_version": 1,
     "solution": true
    }
   },
   "outputs": [],
   "source": [
    "continent_weights$avg_life <- continent_weights$lifeExp * continent_weights$continent_weight\n",
    "continent_weighted <- aggregate(avg_life ~ year + continent, continent_weights, sum)"
   ]
  },
  {
   "cell_type": "markdown",
   "metadata": {},
   "source": [
    "Now check that the averages were calculated correctly."
   ]
  },
  {
   "cell_type": "code",
   "execution_count": 241,
   "metadata": {
    "collapsed": true,
    "deletable": false,
    "editable": false,
    "nbgrader": {
     "checksum": "8e381490638c3f6a18707eea673d259e",
     "grade": true,
     "grade_id": "cell-67bf545baecdc549",
     "locked": true,
     "points": 1,
     "schema_version": 1,
     "solution": false
    }
   },
   "outputs": [],
   "source": [
    "stopifnot(round(summary(round(continent_weighted$avg_life,digits = 5)),digits = 5) == structure(c(38.79973, 54.39396, 67.87161, 64.33739, 72.71974, \n",
    "81.06215), .Names = c(\"Min.\", \"1st Qu.\", \"Median\", \"Mean\", \"3rd Qu.\", \n",
    "\"Max.\"), class = c(\"summaryDefault\", \"table\")))"
   ]
  },
  {
   "cell_type": "markdown",
   "metadata": {
    "deletable": false,
    "editable": false,
    "nbgrader": {
     "checksum": "a1ebada57ec8d31fd9330c018602e51f",
     "grade": false,
     "grade_id": "cell-b37144bddd56a4c5",
     "locked": true,
     "schema_version": 1,
     "solution": false
    }
   },
   "source": [
    "Finally, make a visualization that shows the change in life expectancy for each continent over time. Make sure the visualization allows the viewer to compare the trends between continents. In addition, include the global weighted average that you calculated in problem 1. Again, be sure to follow the best practices when making a plot, as outlined in lesson 6."
   ]
  },
  {
   "cell_type": "code",
   "execution_count": 259,
   "metadata": {
    "deletable": false,
    "nbgrader": {
     "checksum": "e7e3617ebf06a6f2dc40e5a4158a4846",
     "grade": true,
     "grade_id": "cell-2d7c059ebc9b3001",
     "locked": false,
     "points": 4,
     "schema_version": 1,
     "solution": true
    }
   },
   "outputs": [
    {
     "data": {},
     "metadata": {},
     "output_type": "display_data"
    },
    {
     "data": {
      "image/png": "[encoded data removed]",
      "text/plain": [
       "plot without title"
      ]
     },
     "metadata": {},
     "output_type": "display_data"
    }
   ],
   "source": [
    "colnames(weighted_life) <- c('year', 'avg_life','continent')\n",
    "weighted_life$continent <- 'Global'\n",
    "ggplot(data=rbind(weighted_life, continent_weighted), aes(x=year, y=avg_life, color = continent)) +\n",
    "    geom_line() +\n",
    "    geom_point( size=2, shape=21, fill=\"white\") +\n",
    "    labs(title = \"Continent-Weighted Average Life Expectancy\\n\",\n",
    "         y = \"Average Life Expectancy (years)\\n\",\n",
    "        caption = \"Source: Jennifer Bryan. gapminder. https://github.com/jennybc/gapminder\") "
   ]
  },
  {
   "cell_type": "markdown",
   "metadata": {
    "deletable": false,
    "editable": false,
    "nbgrader": {
     "checksum": "5e0d26871885b27e48e51004a7c80c4e",
     "grade": false,
     "grade_id": "cell-b66109107d713664",
     "locked": true,
     "schema_version": 1,
     "solution": false
    }
   },
   "source": [
    "---\n",
    "\n",
    "# Problem 3\n",
    "\n",
    "Using only the data from the year 2007 in the `gapminder` data frame, create a bar plot that includes the five countries from each continent with the highest life expectancies. This will end up including 22 countries, as the Oceania continent only has Australia and New Zealand. Make sure the visualization includes visual cues that allow the viewer to easily identify the continent of the country. Be sure to include all of the elements of a plot discussed in lesson 6. This will take a few steps to complete correctly. Depending on personal preference, Google may be necessary to discover little tweaks to be made. The lesson 7 discussion board is also available."
   ]
  },
  {
   "cell_type": "code",
   "execution_count": 260,
   "metadata": {
    "deletable": false,
    "nbgrader": {
     "checksum": "b214498f227ccb5409df6ef5f0509b59",
     "grade": true,
     "grade_id": "cell-bf0421a0e1b94581",
     "locked": false,
     "points": 4,
     "schema_version": 1,
     "solution": true
    }
   },
   "outputs": [
    {
     "data": {},
     "metadata": {},
     "output_type": "display_data"
    },
    {
     "data": {
      "image/png": "[encoded data removed]",
      "text/plain": [
       "plot without title"
      ]
     },
     "metadata": {},
     "output_type": "display_data"
    }
   ],
   "source": [
    "require(data.table)\n",
    "df <- data.table(gapminder[gapminder$year == 2007,], key=\"continent\")\n",
    "df_2007 <- df[, head(.SD, 5), by=continent]\n",
    "#  df_2007[order(df_2007&lifeExp),]\n",
    "ggplot(data=df_2007, aes(x=reorder(country, lifeExp), y=lifeExp, fill=continent)) + \n",
    "    geom_bar(stat=\"identity\") +\n",
    "    coord_flip() +\n",
    "    labs(title = \"Continent-Weighted Average Life Expectancy\",\n",
    "         y = \"    Average Life Expectancy (years)\",\n",
    "         x = \"\",\n",
    "        caption = \"Source: Jennifer Bryan. gapminder. https://github.com/jennybc/gapminder\")"
   ]
  },
  {
   "cell_type": "markdown",
   "metadata": {
    "deletable": false,
    "editable": false,
    "nbgrader": {
     "checksum": "02c0e7813d045f41324f823519deb010",
     "grade": false,
     "grade_id": "cell-4e82b1c36173aa4a",
     "locked": true,
     "schema_version": 1,
     "solution": false
    }
   },
   "source": [
    "---\n",
    "\n",
    "# Problem 4\n",
    "\n",
    "Using the `NBAStandings1e` and `NBAStandings2016` datasets in the `Lock5Data` package, create a slopegraph to show how the win percentage (`WinPct`) for each team changed between the 2010-2011 and 2015-2016 seasons. Remember to clearly label each team for both seasons, and offset the labels from each other so that all of the team names are readable. In addition, some teams changed names and cities over the five year span of the data set. Account for this by removing the old team name from the dataset for the 2010-2011 season. Once again, all plot elements covered in lesson 6 should be included."
   ]
  },
  {
   "cell_type": "code",
   "execution_count": 399,
   "metadata": {
    "deletable": false,
    "nbgrader": {
     "checksum": "527f87647df07e24fed9b2f70347924e",
     "grade": true,
     "grade_id": "cell-1e1ac4e222a785bb",
     "locked": false,
     "points": 4,
     "schema_version": 1,
     "solution": true
    }
   },
   "outputs": [
    {
     "data": {},
     "metadata": {},
     "output_type": "display_data"
    },
    {
     "data": {
      "image/png": "[encoded data removed]",
      "text/plain": [
       "plot without title"
      ]
     },
     "metadata": {},
     "output_type": "display_data"
    }
   ],
   "source": [
    "library(tidyverse)\n",
    "library(Lock5Data)\n",
    "\n",
    "data(\"NBAStandings1e\")\n",
    "data(\"NBAStandings2016\")\n",
    "colnames(NBAStandings1e)[4] <- \"2010-11\"    # 2010-2011\n",
    "colnames(NBAStandings2016)[4] <- \"2015-16\"  # 2015-2016\n",
    "nba_df <- merge(NBAStandings1e[,c('Team','2010-11')], NBAStandings2016[,c('Team','2015-16')])\n",
    "\n",
    "\n",
    "dat <- gather(nba_df, Season, value, -Team) \n",
    "\n",
    "dat_lab <- dat %>% group_by(Season, group=round(value/0.02)*0.02) %>% \n",
    "  summarise(Team = paste(Team, collapse=\", \"),\n",
    "            value = mean(value))\n",
    "\n",
    "ggplot(dat, aes(Season, value, group=Team)) +\n",
    "    geom_line() +\n",
    "    theme_minimal() + theme(panel.grid.minor=element_blank()) +\n",
    "    theme(panel.grid.major = element_line(linetype = \"dashed\",color = \"grey80\")) +\n",
    "    theme(panel.grid.major.x = element_blank()) +\n",
    "    labs(y=\"Percentage Wins\") +\n",
    "    scale_y_continuous(limits=c(0,1), labels=percent) +\n",
    "    geom_text(data=subset(dat_lab, Season==\"2010-11\"), aes(label=Team, x=0.98), hjust=1, size=2.2) +\n",
    "    geom_text(data=subset(dat_lab, Season==\"2015-16\"), aes(label=Team, x=2.02), hjust=0, size=2.2)"
   ]
  },
  {
   "cell_type": "code",
   "execution_count": 274,
   "metadata": {},
   "outputs": [
    {
     "ename": "ERROR",
     "evalue": "Error in install(quartz): could not find function \"install\"\n",
     "output_type": "error",
     "traceback": [
      "Error in install(quartz): could not find function \"install\"\nTraceback:\n"
     ]
    }
   ],
   "source": [
    "# FROM LECTURE 7\n",
    "install(quartz)\n",
    "require(quartz)\n",
    "quartz(height=7, width=5) \n",
    "par(mar=c(4,6,1,6)+0.1) \n",
    "n = dim(nba_df)[1] \n",
    "ord1 = order(nba_df[,1], decreasing=T) \n",
    "ord2 = order(nba_df[,2], decreasing=T) \n",
    "plot(seq(1,n), seq(1,n), xlim=c(1,2), ylim=c(0,1), xlab=\"\", ylab=\"\", type=\"n\", axes=F) \n",
    "abline(h=seq(0,1,by=0.10), col=\"grey\", lty=2) \n",
    "for(i in ord1){\n",
    "    lines(seq(1,2), nba_df[i,1:4], lwd=2) \n",
    "} \n",
    "axis(1, at=seq(1,2), labels=c(\"5 year\", \"10 year\", \"15 year\", \"20 year\"), cex.axis=0.6)\n",
    "axis(2, at=seq(0,1,by=0.10), line=2, las=2, cex.axis=0.6) \n",
    "axis(4, at=seq(0,1,by=0.10), line=2, las=2, cex.axis=0.6) \n",
    "offsetleft = c(0, 0.5, -0.5, 0, 0.8, 0.4, -0.7, -0.4, 0, 0, 0.9, 0.05, -1.1, 0.25, 0, -0.1, 0, 0, 0, 0, 0.4,-0.4, 0 ,0) \n",
    "offsetright = c(0, 0, 0, 0, 0, 0.7, -0.1, 0, 0 , 0, 0.5, -0.5, -0.5, 0, 0.2, -0.2, 0.6, -0.6, 0, 0.7, 0.1, -0.4, -1.2, -0.8) \n",
    "mtext(side=2, line=0, at=nba_df[ord1,1]+offsetleft, text=rownames(nba_df)[ord1], las=2, cex=0.5) \n",
    "mtext(side=4, line=0, at=nba_df[ord2,2]+offsetright, text=rownames(nba_df)[ord4], las=2, cex=0.5) \n",
    " "
   ]
  },
  {
   "cell_type": "code",
   "execution_count": 398,
   "metadata": {},
   "outputs": [
    {
     "data": {},
     "metadata": {},
     "output_type": "display_data"
    },
    {
     "data": {
      "image/png": "[encoded data removed]",
      "text/plain": [
       "plot without title"
      ]
     },
     "metadata": {},
     "output_type": "display_data"
    }
   ],
   "source": [
    "library(ggplot2)\n",
    "library(scales)\n",
    "install.packages(\"Lock5Data\", repos = \"http://cran.us.r-project.org\")  # you might need this\n",
    "library(Lock5Data)\n",
    "data(\"NBAStandings1e\")\n",
    "data(\"NBAStandings2016\")\n",
    "\n",
    "\n",
    "colnames(NBAStandings1e)[4] <- \"year1\"    # 2010-2011\n",
    "colnames(NBAStandings2016)[4] <- \"year2\"  # 2015-2016\n",
    "nba_df <- merge(NBAStandings1e[,c('Team','year1')], NBAStandings2016[,c('Team','year2')])\n",
    "scale <- dim(nba_df)[1] \n",
    "\n",
    "a<-nba_df\n",
    "p<-ggplot(nba_df) + geom_segment(aes(x=0,xend=scale,y=year1,yend=year2),size=.75)\n",
    "\n",
    "# clear junk\n",
    "p<-p + theme(panel.background = element_blank())\n",
    "p<-p + theme(panel.grid=element_blank())\n",
    "p<-p + theme(axis.ticks=element_blank())\n",
    "# p<-p + theme(axis.text=element_blank())\n",
    "p<-p + theme(panel.border=element_blank())\n",
    "# p<-p + theme(panel.grid.major = element_line(linetype = \"dashed\", fill = NA))\n",
    "p<-p + theme(panel.grid.major = element_line(linetype = \"dashed\",color = \"grey80\"))\n",
    "p<-p + theme(panel.grid.major.x = element_blank())\n",
    "p<-p + theme(axis.text.x = element_blank())\n",
    "\n",
    "\n",
    "# annotate\n",
    "p<-p + xlab(\"\") + ylab(\"Percentage Wins\")\n",
    "p<-p + xlim((-5),(scale+12))\n",
    "p<-p + geom_text(label=\"2010-2011 Season\", x=0,     y=(1.1*(max(a$year2,a$year1))),hjust= 1.2,size=3)\n",
    "p<-p + geom_text(label=\"2015-2016 Season\", x=months,y=(1.1*(max(a$year2,a$year1))),hjust=-0.1,size=3)\n",
    "p<-p + geom_text(label=nba_df$Team, y=nba_df$year2, x=rep.int(scale,dim(a)[1]),hjust=-0.2,size=2)\n",
    "p<-p + geom_text(label=nba_df$Team, y=nba_df$year1, x=rep.int( 0,dim(a)[1]),hjust=1.2,size=2)\n",
    "p"
   ]
  }
 ],
 "metadata": {
  "kernelspec": {
   "display_name": "R",
   "language": "R",
   "name": "ir"
  },
  "language_info": {
   "codemirror_mode": "r",
   "file_extension": ".r",
   "mimetype": "text/x-r-source",
   "name": "R",
   "pygments_lexer": "r",
   "version": "3.4.1"
  }
 },
 "nbformat": 4,
 "nbformat_minor": 2
}
